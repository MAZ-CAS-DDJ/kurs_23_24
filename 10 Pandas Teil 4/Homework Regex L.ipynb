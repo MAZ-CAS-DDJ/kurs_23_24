{
 "cells": [
  {
   "cell_type": "markdown",
   "metadata": {},
   "source": [
    "# Homework: Regex"
   ]
  },
  {
   "cell_type": "markdown",
   "metadata": {},
   "source": [
    "**Inhalt:** Regular Expressions in Pandas anwenden\n",
    "\n",
    "**Nötige Skills:** Regex in Python, Regex in Pandas\n",
    "\n",
    "**Lernziele:**\n",
    "- Ein praktisches Beispiel kennenlernen, wo Regex nützlich sein kann"
   ]
  },
  {
   "cell_type": "markdown",
   "metadata": {},
   "source": [
    "# Das Beispiel"
   ]
  },
  {
   "cell_type": "markdown",
   "metadata": {},
   "source": [
    "Eine Liste von US-Senatoren, die uns in einer etwas mühsamen Form zugestellt wurde.\n",
    "\n",
    "Ziel ist, aus einem Wust von Zeichen eine saubere Tabelle zu generieren.\n",
    "\n",
    "Die Liste ist gespeichert unter `dataprojects/Senatoren/Senator-List.xlsx`"
   ]
  },
  {
   "cell_type": "markdown",
   "metadata": {},
   "source": [
    "## Vorbereitung"
   ]
  },
  {
   "cell_type": "markdown",
   "metadata": {},
   "source": [
    "Nötige Libraries importieren: Pandas, re"
   ]
  },
  {
   "cell_type": "code",
   "execution_count": 1,
   "metadata": {},
   "outputs": [],
   "source": [
    "import pandas as pd"
   ]
  },
  {
   "cell_type": "code",
   "execution_count": 2,
   "metadata": {},
   "outputs": [],
   "source": [
    "import re"
   ]
  },
  {
   "cell_type": "markdown",
   "metadata": {},
   "source": [
    "## Datei laden"
   ]
  },
  {
   "cell_type": "markdown",
   "metadata": {},
   "source": [
    "Tipp: `header=None`"
   ]
  },
  {
   "cell_type": "code",
   "execution_count": 3,
   "metadata": {},
   "outputs": [],
   "source": [
    "df = pd.read_excel('dataprojects/Senatoren/Senator-List.xlsx', header=None)"
   ]
  },
  {
   "cell_type": "markdown",
   "metadata": {},
   "source": [
    "Check, was steht drin?"
   ]
  },
  {
   "cell_type": "code",
   "execution_count": 4,
   "metadata": {},
   "outputs": [
    {
     "data": {
      "text/html": [
       "<div>\n",
       "<style scoped>\n",
       "    .dataframe tbody tr th:only-of-type {\n",
       "        vertical-align: middle;\n",
       "    }\n",
       "\n",
       "    .dataframe tbody tr th {\n",
       "        vertical-align: top;\n",
       "    }\n",
       "\n",
       "    .dataframe thead th {\n",
       "        text-align: right;\n",
       "    }\n",
       "</style>\n",
       "<table border=\"1\" class=\"dataframe\">\n",
       "  <thead>\n",
       "    <tr style=\"text-align: right;\">\n",
       "      <th></th>\n",
       "      <th>0</th>\n",
       "    </tr>\n",
       "  </thead>\n",
       "  <tbody>\n",
       "    <tr>\n",
       "      <th>0</th>\n",
       "      <td>Alexander, Lamar - (R - TN) Class II 455 Dirks...</td>\n",
       "    </tr>\n",
       "    <tr>\n",
       "      <th>1</th>\n",
       "      <td>Baldwin, Tammy - (D - WI) Class I 709 Hart Sen...</td>\n",
       "    </tr>\n",
       "    <tr>\n",
       "      <th>2</th>\n",
       "      <td>Barrasso, John - (R - WY) Class I 307 Dirksen ...</td>\n",
       "    </tr>\n",
       "    <tr>\n",
       "      <th>3</th>\n",
       "      <td>Bennet, Michael F. - (D - CO) Class III 261 Ru...</td>\n",
       "    </tr>\n",
       "    <tr>\n",
       "      <th>4</th>\n",
       "      <td>Blumenthal, Richard - (D - CT) Class III 706 H...</td>\n",
       "    </tr>\n",
       "    <tr>\n",
       "      <th>5</th>\n",
       "      <td>Blunt, Roy - (R - MO) Class III 260 Russell Se...</td>\n",
       "    </tr>\n",
       "    <tr>\n",
       "      <th>6</th>\n",
       "      <td>Booker, Cory A. - (D - NJ) Class II 359 Dirkse...</td>\n",
       "    </tr>\n",
       "    <tr>\n",
       "      <th>7</th>\n",
       "      <td>Boozman, John - (R - AR) Class III 141 Hart Se...</td>\n",
       "    </tr>\n",
       "    <tr>\n",
       "      <th>8</th>\n",
       "      <td>Brown, Sherrod - (D - OH) Class I 713 Hart Sen...</td>\n",
       "    </tr>\n",
       "    <tr>\n",
       "      <th>9</th>\n",
       "      <td>Burr, Richard - (R - NC) Class III 217 Russell...</td>\n",
       "    </tr>\n",
       "  </tbody>\n",
       "</table>\n",
       "</div>"
      ],
      "text/plain": [
       "                                                   0\n",
       "0  Alexander, Lamar - (R - TN) Class II 455 Dirks...\n",
       "1  Baldwin, Tammy - (D - WI) Class I 709 Hart Sen...\n",
       "2  Barrasso, John - (R - WY) Class I 307 Dirksen ...\n",
       "3  Bennet, Michael F. - (D - CO) Class III 261 Ru...\n",
       "4  Blumenthal, Richard - (D - CT) Class III 706 H...\n",
       "5  Blunt, Roy - (R - MO) Class III 260 Russell Se...\n",
       "6  Booker, Cory A. - (D - NJ) Class II 359 Dirkse...\n",
       "7  Boozman, John - (R - AR) Class III 141 Hart Se...\n",
       "8  Brown, Sherrod - (D - OH) Class I 713 Hart Sen...\n",
       "9  Burr, Richard - (R - NC) Class III 217 Russell..."
      ]
     },
     "execution_count": 4,
     "metadata": {},
     "output_type": "execute_result"
    }
   ],
   "source": [
    "df.head(10)"
   ]
  },
  {
   "cell_type": "markdown",
   "metadata": {},
   "source": [
    "Geben Sie der Spalte einen neuen Namen: \"Eintrag\""
   ]
  },
  {
   "cell_type": "code",
   "execution_count": 5,
   "metadata": {},
   "outputs": [],
   "source": [
    "df = df.rename(columns={0: 'Eintrag'})"
   ]
  },
  {
   "cell_type": "code",
   "execution_count": 6,
   "metadata": {},
   "outputs": [
    {
     "data": {
      "text/html": [
       "<div>\n",
       "<style scoped>\n",
       "    .dataframe tbody tr th:only-of-type {\n",
       "        vertical-align: middle;\n",
       "    }\n",
       "\n",
       "    .dataframe tbody tr th {\n",
       "        vertical-align: top;\n",
       "    }\n",
       "\n",
       "    .dataframe thead th {\n",
       "        text-align: right;\n",
       "    }\n",
       "</style>\n",
       "<table border=\"1\" class=\"dataframe\">\n",
       "  <thead>\n",
       "    <tr style=\"text-align: right;\">\n",
       "      <th></th>\n",
       "      <th>Eintrag</th>\n",
       "    </tr>\n",
       "  </thead>\n",
       "  <tbody>\n",
       "    <tr>\n",
       "      <th>0</th>\n",
       "      <td>Alexander, Lamar - (R - TN) Class II 455 Dirks...</td>\n",
       "    </tr>\n",
       "    <tr>\n",
       "      <th>1</th>\n",
       "      <td>Baldwin, Tammy - (D - WI) Class I 709 Hart Sen...</td>\n",
       "    </tr>\n",
       "  </tbody>\n",
       "</table>\n",
       "</div>"
      ],
      "text/plain": [
       "                                             Eintrag\n",
       "0  Alexander, Lamar - (R - TN) Class II 455 Dirks...\n",
       "1  Baldwin, Tammy - (D - WI) Class I 709 Hart Sen..."
      ]
     },
     "execution_count": 6,
     "metadata": {},
     "output_type": "execute_result"
    }
   ],
   "source": [
    "df.head(2)"
   ]
  },
  {
   "cell_type": "markdown",
   "metadata": {},
   "source": [
    "Zeigen Sie die ersten zwei Einträge in der Serie 'Eintrag' an"
   ]
  },
  {
   "cell_type": "code",
   "execution_count": 7,
   "metadata": {},
   "outputs": [
    {
     "data": {
      "text/plain": [
       "0    Alexander, Lamar - (R - TN) Class II 455 Dirks...\n",
       "1    Baldwin, Tammy - (D - WI) Class I 709 Hart Sen...\n",
       "Name: Eintrag, dtype: object"
      ]
     },
     "execution_count": 7,
     "metadata": {},
     "output_type": "execute_result"
    }
   ],
   "source": [
    "df['Eintrag'].head(2)"
   ]
  },
  {
   "cell_type": "markdown",
   "metadata": {},
   "source": [
    "Welche Informationen sind in den Text-Strings enthalten? (Hinweis: Es sollten acht sein)"
   ]
  },
  {
   "cell_type": "code",
   "execution_count": 8,
   "metadata": {},
   "outputs": [],
   "source": [
    "# Antwort, in Worten:\n",
    "# Name\n",
    "# ...\n",
    "#"
   ]
  },
  {
   "cell_type": "code",
   "execution_count": null,
   "metadata": {},
   "outputs": [],
   "source": []
  },
  {
   "cell_type": "markdown",
   "metadata": {},
   "source": [
    "## Regex-Ausdrücke entwickeln"
   ]
  },
  {
   "cell_type": "markdown",
   "metadata": {},
   "source": [
    "Hier ist ein Regex-Ausdruck, der den Namen der Senatoren aus der Spalte \"Eintrag\" fischt:"
   ]
  },
  {
   "cell_type": "code",
   "execution_count": 9,
   "metadata": {},
   "outputs": [
    {
     "data": {
      "text/html": [
       "<div>\n",
       "<style scoped>\n",
       "    .dataframe tbody tr th:only-of-type {\n",
       "        vertical-align: middle;\n",
       "    }\n",
       "\n",
       "    .dataframe tbody tr th {\n",
       "        vertical-align: top;\n",
       "    }\n",
       "\n",
       "    .dataframe thead th {\n",
       "        text-align: right;\n",
       "    }\n",
       "</style>\n",
       "<table border=\"1\" class=\"dataframe\">\n",
       "  <thead>\n",
       "    <tr style=\"text-align: right;\">\n",
       "      <th></th>\n",
       "      <th>0</th>\n",
       "    </tr>\n",
       "  </thead>\n",
       "  <tbody>\n",
       "    <tr>\n",
       "      <th>0</th>\n",
       "      <td>Alexander</td>\n",
       "    </tr>\n",
       "    <tr>\n",
       "      <th>1</th>\n",
       "      <td>Baldwin</td>\n",
       "    </tr>\n",
       "    <tr>\n",
       "      <th>2</th>\n",
       "      <td>Barrasso</td>\n",
       "    </tr>\n",
       "    <tr>\n",
       "      <th>3</th>\n",
       "      <td>Bennet</td>\n",
       "    </tr>\n",
       "    <tr>\n",
       "      <th>4</th>\n",
       "      <td>Blumenthal</td>\n",
       "    </tr>\n",
       "  </tbody>\n",
       "</table>\n",
       "</div>"
      ],
      "text/plain": [
       "            0\n",
       "0   Alexander\n",
       "1     Baldwin\n",
       "2    Barrasso\n",
       "3      Bennet\n",
       "4  Blumenthal"
      ]
     },
     "execution_count": 9,
     "metadata": {},
     "output_type": "execute_result"
    }
   ],
   "source": [
    "# Name:\n",
    "df['Eintrag'].str.extract(r\"^(.+),\").head(5)"
   ]
  },
  {
   "cell_type": "markdown",
   "metadata": {},
   "source": [
    "Entwickeln Sie weitere Regex-Ausdrücke für alle anderen Informationen, die in der Spalte enthalten sind!"
   ]
  },
  {
   "cell_type": "code",
   "execution_count": 10,
   "metadata": {},
   "outputs": [
    {
     "data": {
      "text/html": [
       "<div>\n",
       "<style scoped>\n",
       "    .dataframe tbody tr th:only-of-type {\n",
       "        vertical-align: middle;\n",
       "    }\n",
       "\n",
       "    .dataframe tbody tr th {\n",
       "        vertical-align: top;\n",
       "    }\n",
       "\n",
       "    .dataframe thead th {\n",
       "        text-align: right;\n",
       "    }\n",
       "</style>\n",
       "<table border=\"1\" class=\"dataframe\">\n",
       "  <thead>\n",
       "    <tr style=\"text-align: right;\">\n",
       "      <th></th>\n",
       "      <th>0</th>\n",
       "    </tr>\n",
       "  </thead>\n",
       "  <tbody>\n",
       "    <tr>\n",
       "      <th>0</th>\n",
       "      <td>Lamar</td>\n",
       "    </tr>\n",
       "    <tr>\n",
       "      <th>1</th>\n",
       "      <td>Tammy</td>\n",
       "    </tr>\n",
       "    <tr>\n",
       "      <th>2</th>\n",
       "      <td>John</td>\n",
       "    </tr>\n",
       "    <tr>\n",
       "      <th>3</th>\n",
       "      <td>Michael F.</td>\n",
       "    </tr>\n",
       "    <tr>\n",
       "      <th>4</th>\n",
       "      <td>Richard</td>\n",
       "    </tr>\n",
       "  </tbody>\n",
       "</table>\n",
       "</div>"
      ],
      "text/plain": [
       "            0\n",
       "0       Lamar\n",
       "1       Tammy\n",
       "2        John\n",
       "3  Michael F.\n",
       "4     Richard"
      ]
     },
     "execution_count": 10,
     "metadata": {},
     "output_type": "execute_result"
    }
   ],
   "source": [
    "# Vorname:\n",
    "df['Eintrag'].str.extract(r\", (.+) - \\(\").head(5)"
   ]
  },
  {
   "cell_type": "code",
   "execution_count": 11,
   "metadata": {},
   "outputs": [
    {
     "data": {
      "text/html": [
       "<div>\n",
       "<style scoped>\n",
       "    .dataframe tbody tr th:only-of-type {\n",
       "        vertical-align: middle;\n",
       "    }\n",
       "\n",
       "    .dataframe tbody tr th {\n",
       "        vertical-align: top;\n",
       "    }\n",
       "\n",
       "    .dataframe thead th {\n",
       "        text-align: right;\n",
       "    }\n",
       "</style>\n",
       "<table border=\"1\" class=\"dataframe\">\n",
       "  <thead>\n",
       "    <tr style=\"text-align: right;\">\n",
       "      <th></th>\n",
       "      <th>0</th>\n",
       "    </tr>\n",
       "  </thead>\n",
       "  <tbody>\n",
       "    <tr>\n",
       "      <th>0</th>\n",
       "      <td>R</td>\n",
       "    </tr>\n",
       "    <tr>\n",
       "      <th>1</th>\n",
       "      <td>D</td>\n",
       "    </tr>\n",
       "    <tr>\n",
       "      <th>2</th>\n",
       "      <td>R</td>\n",
       "    </tr>\n",
       "    <tr>\n",
       "      <th>3</th>\n",
       "      <td>D</td>\n",
       "    </tr>\n",
       "    <tr>\n",
       "      <th>4</th>\n",
       "      <td>D</td>\n",
       "    </tr>\n",
       "  </tbody>\n",
       "</table>\n",
       "</div>"
      ],
      "text/plain": [
       "   0\n",
       "0  R\n",
       "1  D\n",
       "2  R\n",
       "3  D\n",
       "4  D"
      ]
     },
     "execution_count": 11,
     "metadata": {},
     "output_type": "execute_result"
    }
   ],
   "source": [
    "# Partei:\n",
    "df['Eintrag'].str.extract(r\"\\((\\w)\").head(5)"
   ]
  },
  {
   "cell_type": "code",
   "execution_count": 12,
   "metadata": {},
   "outputs": [
    {
     "data": {
      "text/html": [
       "<div>\n",
       "<style scoped>\n",
       "    .dataframe tbody tr th:only-of-type {\n",
       "        vertical-align: middle;\n",
       "    }\n",
       "\n",
       "    .dataframe tbody tr th {\n",
       "        vertical-align: top;\n",
       "    }\n",
       "\n",
       "    .dataframe thead th {\n",
       "        text-align: right;\n",
       "    }\n",
       "</style>\n",
       "<table border=\"1\" class=\"dataframe\">\n",
       "  <thead>\n",
       "    <tr style=\"text-align: right;\">\n",
       "      <th></th>\n",
       "      <th>0</th>\n",
       "    </tr>\n",
       "  </thead>\n",
       "  <tbody>\n",
       "    <tr>\n",
       "      <th>0</th>\n",
       "      <td>TN</td>\n",
       "    </tr>\n",
       "    <tr>\n",
       "      <th>1</th>\n",
       "      <td>WI</td>\n",
       "    </tr>\n",
       "    <tr>\n",
       "      <th>2</th>\n",
       "      <td>WY</td>\n",
       "    </tr>\n",
       "    <tr>\n",
       "      <th>3</th>\n",
       "      <td>CO</td>\n",
       "    </tr>\n",
       "    <tr>\n",
       "      <th>4</th>\n",
       "      <td>CT</td>\n",
       "    </tr>\n",
       "  </tbody>\n",
       "</table>\n",
       "</div>"
      ],
      "text/plain": [
       "    0\n",
       "0  TN\n",
       "1  WI\n",
       "2  WY\n",
       "3  CO\n",
       "4  CT"
      ]
     },
     "execution_count": 12,
     "metadata": {},
     "output_type": "execute_result"
    }
   ],
   "source": [
    "# Bundesstaat:\n",
    "df['Eintrag'].str.extract(r\"(\\w{2})\\)\").head(5)"
   ]
  },
  {
   "cell_type": "code",
   "execution_count": 13,
   "metadata": {},
   "outputs": [
    {
     "data": {
      "text/html": [
       "<div>\n",
       "<style scoped>\n",
       "    .dataframe tbody tr th:only-of-type {\n",
       "        vertical-align: middle;\n",
       "    }\n",
       "\n",
       "    .dataframe tbody tr th {\n",
       "        vertical-align: top;\n",
       "    }\n",
       "\n",
       "    .dataframe thead th {\n",
       "        text-align: right;\n",
       "    }\n",
       "</style>\n",
       "<table border=\"1\" class=\"dataframe\">\n",
       "  <thead>\n",
       "    <tr style=\"text-align: right;\">\n",
       "      <th></th>\n",
       "      <th>0</th>\n",
       "    </tr>\n",
       "  </thead>\n",
       "  <tbody>\n",
       "    <tr>\n",
       "      <th>0</th>\n",
       "      <td>II</td>\n",
       "    </tr>\n",
       "    <tr>\n",
       "      <th>1</th>\n",
       "      <td>I</td>\n",
       "    </tr>\n",
       "    <tr>\n",
       "      <th>2</th>\n",
       "      <td>I</td>\n",
       "    </tr>\n",
       "    <tr>\n",
       "      <th>3</th>\n",
       "      <td>III</td>\n",
       "    </tr>\n",
       "    <tr>\n",
       "      <th>4</th>\n",
       "      <td>III</td>\n",
       "    </tr>\n",
       "  </tbody>\n",
       "</table>\n",
       "</div>"
      ],
      "text/plain": [
       "     0\n",
       "0   II\n",
       "1    I\n",
       "2    I\n",
       "3  III\n",
       "4  III"
      ]
     },
     "execution_count": 13,
     "metadata": {},
     "output_type": "execute_result"
    }
   ],
   "source": [
    "# Klasse:\n",
    "df['Eintrag'].str.extract(r\"Class (I+)\").head(5)"
   ]
  },
  {
   "cell_type": "code",
   "execution_count": 14,
   "metadata": {},
   "outputs": [
    {
     "data": {
      "text/html": [
       "<div>\n",
       "<style scoped>\n",
       "    .dataframe tbody tr th:only-of-type {\n",
       "        vertical-align: middle;\n",
       "    }\n",
       "\n",
       "    .dataframe tbody tr th {\n",
       "        vertical-align: top;\n",
       "    }\n",
       "\n",
       "    .dataframe thead th {\n",
       "        text-align: right;\n",
       "    }\n",
       "</style>\n",
       "<table border=\"1\" class=\"dataframe\">\n",
       "  <thead>\n",
       "    <tr style=\"text-align: right;\">\n",
       "      <th></th>\n",
       "      <th>0</th>\n",
       "    </tr>\n",
       "  </thead>\n",
       "  <tbody>\n",
       "    <tr>\n",
       "      <th>0</th>\n",
       "      <td>455 Dirksen Senate Office Building Washington DC</td>\n",
       "    </tr>\n",
       "    <tr>\n",
       "      <th>1</th>\n",
       "      <td>709 Hart Senate Office Building Washington DC</td>\n",
       "    </tr>\n",
       "    <tr>\n",
       "      <th>2</th>\n",
       "      <td>307 Dirksen Senate Office Building Washington DC</td>\n",
       "    </tr>\n",
       "    <tr>\n",
       "      <th>3</th>\n",
       "      <td>261 Russell Senate Office Building Washington DC</td>\n",
       "    </tr>\n",
       "    <tr>\n",
       "      <th>4</th>\n",
       "      <td>706 Hart Senate Office Building Washington DC</td>\n",
       "    </tr>\n",
       "  </tbody>\n",
       "</table>\n",
       "</div>"
      ],
      "text/plain": [
       "                                                  0\n",
       "0  455 Dirksen Senate Office Building Washington DC\n",
       "1     709 Hart Senate Office Building Washington DC\n",
       "2  307 Dirksen Senate Office Building Washington DC\n",
       "3  261 Russell Senate Office Building Washington DC\n",
       "4     706 Hart Senate Office Building Washington DC"
      ]
     },
     "execution_count": 14,
     "metadata": {},
     "output_type": "execute_result"
    }
   ],
   "source": [
    "# Adresse:\n",
    "df['Eintrag'].str.extract(r\"Class I+ (.+) \\d{5}\").head(5)"
   ]
  },
  {
   "cell_type": "code",
   "execution_count": 15,
   "metadata": {},
   "outputs": [
    {
     "data": {
      "text/html": [
       "<div>\n",
       "<style scoped>\n",
       "    .dataframe tbody tr th:only-of-type {\n",
       "        vertical-align: middle;\n",
       "    }\n",
       "\n",
       "    .dataframe tbody tr th {\n",
       "        vertical-align: top;\n",
       "    }\n",
       "\n",
       "    .dataframe thead th {\n",
       "        text-align: right;\n",
       "    }\n",
       "</style>\n",
       "<table border=\"1\" class=\"dataframe\">\n",
       "  <thead>\n",
       "    <tr style=\"text-align: right;\">\n",
       "      <th></th>\n",
       "      <th>0</th>\n",
       "    </tr>\n",
       "  </thead>\n",
       "  <tbody>\n",
       "    <tr>\n",
       "      <th>0</th>\n",
       "      <td>20510(202) 224-4944</td>\n",
       "    </tr>\n",
       "    <tr>\n",
       "      <th>1</th>\n",
       "      <td>20510(202) 224-5653</td>\n",
       "    </tr>\n",
       "    <tr>\n",
       "      <th>2</th>\n",
       "      <td>20510(202) 224-6441</td>\n",
       "    </tr>\n",
       "    <tr>\n",
       "      <th>3</th>\n",
       "      <td>20510(202) 224-5852</td>\n",
       "    </tr>\n",
       "    <tr>\n",
       "      <th>4</th>\n",
       "      <td>20510(202) 224-2823</td>\n",
       "    </tr>\n",
       "  </tbody>\n",
       "</table>\n",
       "</div>"
      ],
      "text/plain": [
       "                     0\n",
       "0  20510(202) 224-4944\n",
       "1  20510(202) 224-5653\n",
       "2  20510(202) 224-6441\n",
       "3  20510(202) 224-5852\n",
       "4  20510(202) 224-2823"
      ]
     },
     "execution_count": 15,
     "metadata": {},
     "output_type": "execute_result"
    }
   ],
   "source": [
    "# Telefonnr:\n",
    "df['Eintrag'].str.extract(r\"(\\d{5}\\(\\d{3}\\) \\d{3}-\\d{4})\").head(5)"
   ]
  },
  {
   "cell_type": "code",
   "execution_count": 16,
   "metadata": {},
   "outputs": [
    {
     "data": {
      "text/html": [
       "<div>\n",
       "<style scoped>\n",
       "    .dataframe tbody tr th:only-of-type {\n",
       "        vertical-align: middle;\n",
       "    }\n",
       "\n",
       "    .dataframe tbody tr th {\n",
       "        vertical-align: top;\n",
       "    }\n",
       "\n",
       "    .dataframe thead th {\n",
       "        text-align: right;\n",
       "    }\n",
       "</style>\n",
       "<table border=\"1\" class=\"dataframe\">\n",
       "  <thead>\n",
       "    <tr style=\"text-align: right;\">\n",
       "      <th></th>\n",
       "      <th>0</th>\n",
       "    </tr>\n",
       "  </thead>\n",
       "  <tbody>\n",
       "    <tr>\n",
       "      <th>0</th>\n",
       "      <td>www.alexander.senate.gov/public/index.cfm?p=Email</td>\n",
       "    </tr>\n",
       "    <tr>\n",
       "      <th>1</th>\n",
       "      <td>www.baldwin.senate.gov/feedback</td>\n",
       "    </tr>\n",
       "    <tr>\n",
       "      <th>2</th>\n",
       "      <td>www.barrasso.senate.gov/public/index.cfm/conta...</td>\n",
       "    </tr>\n",
       "    <tr>\n",
       "      <th>3</th>\n",
       "      <td>www.bennet.senate.gov/?p=contact</td>\n",
       "    </tr>\n",
       "    <tr>\n",
       "      <th>4</th>\n",
       "      <td>www.blumenthal.senate.gov/contact/</td>\n",
       "    </tr>\n",
       "  </tbody>\n",
       "</table>\n",
       "</div>"
      ],
      "text/plain": [
       "                                                   0\n",
       "0  www.alexander.senate.gov/public/index.cfm?p=Email\n",
       "1                    www.baldwin.senate.gov/feedback\n",
       "2  www.barrasso.senate.gov/public/index.cfm/conta...\n",
       "3                   www.bennet.senate.gov/?p=contact\n",
       "4                 www.blumenthal.senate.gov/contact/"
      ]
     },
     "execution_count": 16,
     "metadata": {},
     "output_type": "execute_result"
    }
   ],
   "source": [
    "# Webseite:\n",
    "df['Eintrag'].str.extract(r\"Contact: (.+)\").head(5)"
   ]
  },
  {
   "cell_type": "code",
   "execution_count": null,
   "metadata": {},
   "outputs": [],
   "source": []
  },
  {
   "cell_type": "markdown",
   "metadata": {},
   "source": [
    "## Neue Spalten bilden"
   ]
  },
  {
   "cell_type": "markdown",
   "metadata": {},
   "source": [
    "Speichern Sie jede Information, für die Sie eine Regex entwickelt haben, in einer neuen Spalte ab."
   ]
  },
  {
   "cell_type": "code",
   "execution_count": 17,
   "metadata": {},
   "outputs": [],
   "source": [
    "df['Name'] = df['Eintrag'].str.extract(r\"^(.+),\")\n",
    "df['Vorname'] = df['Eintrag'].str.extract(r\", (.+) - \\(\")\n",
    "df['Partei'] = df['Eintrag'].str.extract(r\"\\((\\w)\")\n",
    "df['Bundesstaat'] = df['Eintrag'].str.extract(r\"(\\w{2})\\)\")\n",
    "df['Klasse'] = df['Eintrag'].str.extract(r\"Class (I+)\")\n",
    "df['Adresse'] = df['Eintrag'].str.extract(r\"Class I+ (.+) \\d{5}\")\n",
    "df['Telefonnr'] = df['Eintrag'].str.extract(r\"(\\d{5}\\(\\d{3}\\) \\d{3}-\\d{4})\")\n",
    "df['Webseite'] = df['Eintrag'].str.extract(r\"Contact: (.+)\")"
   ]
  },
  {
   "cell_type": "markdown",
   "metadata": {},
   "source": [
    "Check, wie sieht es aus?"
   ]
  },
  {
   "cell_type": "code",
   "execution_count": 18,
   "metadata": {},
   "outputs": [
    {
     "data": {
      "text/html": [
       "<div>\n",
       "<style scoped>\n",
       "    .dataframe tbody tr th:only-of-type {\n",
       "        vertical-align: middle;\n",
       "    }\n",
       "\n",
       "    .dataframe tbody tr th {\n",
       "        vertical-align: top;\n",
       "    }\n",
       "\n",
       "    .dataframe thead th {\n",
       "        text-align: right;\n",
       "    }\n",
       "</style>\n",
       "<table border=\"1\" class=\"dataframe\">\n",
       "  <thead>\n",
       "    <tr style=\"text-align: right;\">\n",
       "      <th></th>\n",
       "      <th>Eintrag</th>\n",
       "      <th>Name</th>\n",
       "      <th>Vorname</th>\n",
       "      <th>Partei</th>\n",
       "      <th>Bundesstaat</th>\n",
       "      <th>Klasse</th>\n",
       "      <th>Adresse</th>\n",
       "      <th>Telefonnr</th>\n",
       "      <th>Webseite</th>\n",
       "    </tr>\n",
       "  </thead>\n",
       "  <tbody>\n",
       "    <tr>\n",
       "      <th>0</th>\n",
       "      <td>Alexander, Lamar - (R - TN) Class II 455 Dirks...</td>\n",
       "      <td>Alexander</td>\n",
       "      <td>Lamar</td>\n",
       "      <td>R</td>\n",
       "      <td>TN</td>\n",
       "      <td>II</td>\n",
       "      <td>455 Dirksen Senate Office Building Washington DC</td>\n",
       "      <td>20510(202) 224-4944</td>\n",
       "      <td>www.alexander.senate.gov/public/index.cfm?p=Email</td>\n",
       "    </tr>\n",
       "    <tr>\n",
       "      <th>1</th>\n",
       "      <td>Baldwin, Tammy - (D - WI) Class I 709 Hart Sen...</td>\n",
       "      <td>Baldwin</td>\n",
       "      <td>Tammy</td>\n",
       "      <td>D</td>\n",
       "      <td>WI</td>\n",
       "      <td>I</td>\n",
       "      <td>709 Hart Senate Office Building Washington DC</td>\n",
       "      <td>20510(202) 224-5653</td>\n",
       "      <td>www.baldwin.senate.gov/feedback</td>\n",
       "    </tr>\n",
       "    <tr>\n",
       "      <th>2</th>\n",
       "      <td>Barrasso, John - (R - WY) Class I 307 Dirksen ...</td>\n",
       "      <td>Barrasso</td>\n",
       "      <td>John</td>\n",
       "      <td>R</td>\n",
       "      <td>WY</td>\n",
       "      <td>I</td>\n",
       "      <td>307 Dirksen Senate Office Building Washington DC</td>\n",
       "      <td>20510(202) 224-6441</td>\n",
       "      <td>www.barrasso.senate.gov/public/index.cfm/conta...</td>\n",
       "    </tr>\n",
       "    <tr>\n",
       "      <th>3</th>\n",
       "      <td>Bennet, Michael F. - (D - CO) Class III 261 Ru...</td>\n",
       "      <td>Bennet</td>\n",
       "      <td>Michael F.</td>\n",
       "      <td>D</td>\n",
       "      <td>CO</td>\n",
       "      <td>III</td>\n",
       "      <td>261 Russell Senate Office Building Washington DC</td>\n",
       "      <td>20510(202) 224-5852</td>\n",
       "      <td>www.bennet.senate.gov/?p=contact</td>\n",
       "    </tr>\n",
       "    <tr>\n",
       "      <th>4</th>\n",
       "      <td>Blumenthal, Richard - (D - CT) Class III 706 H...</td>\n",
       "      <td>Blumenthal</td>\n",
       "      <td>Richard</td>\n",
       "      <td>D</td>\n",
       "      <td>CT</td>\n",
       "      <td>III</td>\n",
       "      <td>706 Hart Senate Office Building Washington DC</td>\n",
       "      <td>20510(202) 224-2823</td>\n",
       "      <td>www.blumenthal.senate.gov/contact/</td>\n",
       "    </tr>\n",
       "    <tr>\n",
       "      <th>...</th>\n",
       "      <td>...</td>\n",
       "      <td>...</td>\n",
       "      <td>...</td>\n",
       "      <td>...</td>\n",
       "      <td>...</td>\n",
       "      <td>...</td>\n",
       "      <td>...</td>\n",
       "      <td>...</td>\n",
       "      <td>...</td>\n",
       "    </tr>\n",
       "    <tr>\n",
       "      <th>95</th>\n",
       "      <td>Warren, Elizabeth - (D - MA) Class I 317 Hart ...</td>\n",
       "      <td>Warren</td>\n",
       "      <td>Elizabeth</td>\n",
       "      <td>D</td>\n",
       "      <td>MA</td>\n",
       "      <td>I</td>\n",
       "      <td>317 Hart Senate Office Building Washington DC</td>\n",
       "      <td>20510(202) 224-4543</td>\n",
       "      <td>www.warren.senate.gov/?p=email_senator</td>\n",
       "    </tr>\n",
       "    <tr>\n",
       "      <th>96</th>\n",
       "      <td>Whitehouse, Sheldon - (D - RI) Class I 530 Har...</td>\n",
       "      <td>Whitehouse</td>\n",
       "      <td>Sheldon</td>\n",
       "      <td>D</td>\n",
       "      <td>RI</td>\n",
       "      <td>I</td>\n",
       "      <td>530 Hart Senate Office Building Washington DC</td>\n",
       "      <td>20510(202) 224-2921</td>\n",
       "      <td>www.whitehouse.senate.gov/contact/email-sheldon</td>\n",
       "    </tr>\n",
       "    <tr>\n",
       "      <th>97</th>\n",
       "      <td>Wicker, Roger F. - (R - MS) Class I 555 Dirkse...</td>\n",
       "      <td>Wicker</td>\n",
       "      <td>Roger F.</td>\n",
       "      <td>R</td>\n",
       "      <td>MS</td>\n",
       "      <td>I</td>\n",
       "      <td>555 Dirksen Senate Office Building Washington DC</td>\n",
       "      <td>20510(202) 224-6253</td>\n",
       "      <td>www.wicker.senate.gov/public/index.cfm/contact</td>\n",
       "    </tr>\n",
       "    <tr>\n",
       "      <th>98</th>\n",
       "      <td>Wyden, Ron - (D - OR) Class III 221 Dirksen Se...</td>\n",
       "      <td>Wyden</td>\n",
       "      <td>Ron</td>\n",
       "      <td>D</td>\n",
       "      <td>OR</td>\n",
       "      <td>III</td>\n",
       "      <td>221 Dirksen Senate Office Building Washington DC</td>\n",
       "      <td>20510(202) 224-5244</td>\n",
       "      <td>www.wyden.senate.gov/contact/</td>\n",
       "    </tr>\n",
       "    <tr>\n",
       "      <th>99</th>\n",
       "      <td>Young, Todd - (R - IN) Class III 400 Russell S...</td>\n",
       "      <td>Young</td>\n",
       "      <td>Todd</td>\n",
       "      <td>R</td>\n",
       "      <td>IN</td>\n",
       "      <td>III</td>\n",
       "      <td>400 Russell Senate Office Building Washington DC</td>\n",
       "      <td>20510(202) 224-5623</td>\n",
       "      <td>www.young.senate.gov/content/contact-senator</td>\n",
       "    </tr>\n",
       "  </tbody>\n",
       "</table>\n",
       "<p>100 rows × 9 columns</p>\n",
       "</div>"
      ],
      "text/plain": [
       "                                              Eintrag        Name     Vorname  \\\n",
       "0   Alexander, Lamar - (R - TN) Class II 455 Dirks...   Alexander       Lamar   \n",
       "1   Baldwin, Tammy - (D - WI) Class I 709 Hart Sen...     Baldwin       Tammy   \n",
       "2   Barrasso, John - (R - WY) Class I 307 Dirksen ...    Barrasso        John   \n",
       "3   Bennet, Michael F. - (D - CO) Class III 261 Ru...      Bennet  Michael F.   \n",
       "4   Blumenthal, Richard - (D - CT) Class III 706 H...  Blumenthal     Richard   \n",
       "..                                                ...         ...         ...   \n",
       "95  Warren, Elizabeth - (D - MA) Class I 317 Hart ...      Warren   Elizabeth   \n",
       "96  Whitehouse, Sheldon - (D - RI) Class I 530 Har...  Whitehouse     Sheldon   \n",
       "97  Wicker, Roger F. - (R - MS) Class I 555 Dirkse...      Wicker    Roger F.   \n",
       "98  Wyden, Ron - (D - OR) Class III 221 Dirksen Se...       Wyden         Ron   \n",
       "99  Young, Todd - (R - IN) Class III 400 Russell S...       Young        Todd   \n",
       "\n",
       "   Partei Bundesstaat Klasse  \\\n",
       "0       R          TN     II   \n",
       "1       D          WI      I   \n",
       "2       R          WY      I   \n",
       "3       D          CO    III   \n",
       "4       D          CT    III   \n",
       "..    ...         ...    ...   \n",
       "95      D          MA      I   \n",
       "96      D          RI      I   \n",
       "97      R          MS      I   \n",
       "98      D          OR    III   \n",
       "99      R          IN    III   \n",
       "\n",
       "                                             Adresse            Telefonnr  \\\n",
       "0   455 Dirksen Senate Office Building Washington DC  20510(202) 224-4944   \n",
       "1      709 Hart Senate Office Building Washington DC  20510(202) 224-5653   \n",
       "2   307 Dirksen Senate Office Building Washington DC  20510(202) 224-6441   \n",
       "3   261 Russell Senate Office Building Washington DC  20510(202) 224-5852   \n",
       "4      706 Hart Senate Office Building Washington DC  20510(202) 224-2823   \n",
       "..                                               ...                  ...   \n",
       "95     317 Hart Senate Office Building Washington DC  20510(202) 224-4543   \n",
       "96     530 Hart Senate Office Building Washington DC  20510(202) 224-2921   \n",
       "97  555 Dirksen Senate Office Building Washington DC  20510(202) 224-6253   \n",
       "98  221 Dirksen Senate Office Building Washington DC  20510(202) 224-5244   \n",
       "99  400 Russell Senate Office Building Washington DC  20510(202) 224-5623   \n",
       "\n",
       "                                             Webseite  \n",
       "0   www.alexander.senate.gov/public/index.cfm?p=Email  \n",
       "1                     www.baldwin.senate.gov/feedback  \n",
       "2   www.barrasso.senate.gov/public/index.cfm/conta...  \n",
       "3                    www.bennet.senate.gov/?p=contact  \n",
       "4                  www.blumenthal.senate.gov/contact/  \n",
       "..                                                ...  \n",
       "95             www.warren.senate.gov/?p=email_senator  \n",
       "96    www.whitehouse.senate.gov/contact/email-sheldon  \n",
       "97     www.wicker.senate.gov/public/index.cfm/contact  \n",
       "98                      www.wyden.senate.gov/contact/  \n",
       "99       www.young.senate.gov/content/contact-senator  \n",
       "\n",
       "[100 rows x 9 columns]"
      ]
     },
     "execution_count": 18,
     "metadata": {},
     "output_type": "execute_result"
    }
   ],
   "source": [
    "df"
   ]
  },
  {
   "cell_type": "code",
   "execution_count": null,
   "metadata": {},
   "outputs": [],
   "source": []
  },
  {
   "cell_type": "markdown",
   "metadata": {},
   "source": [
    "## Bonus: Alle Spalten auf einmal bilden"
   ]
  },
  {
   "cell_type": "markdown",
   "metadata": {},
   "source": [
    "Laden Sie die Datei nochmals neu, so dass Sie nur eine Spalte namens \"Eintrag\" haben"
   ]
  },
  {
   "cell_type": "code",
   "execution_count": 19,
   "metadata": {},
   "outputs": [],
   "source": [
    "df = pd.read_excel('dataprojects/Senatoren/Senator-List.xlsx', header=None)\n",
    "df = df.rename(columns={0: 'Eintrag'})"
   ]
  },
  {
   "cell_type": "markdown",
   "metadata": {},
   "source": [
    "Wir können mit mehreren Klammern auch mehrere Informationen aufs Mal extrahieren:"
   ]
  },
  {
   "cell_type": "code",
   "execution_count": 20,
   "metadata": {},
   "outputs": [
    {
     "data": {
      "text/html": [
       "<div>\n",
       "<style scoped>\n",
       "    .dataframe tbody tr th:only-of-type {\n",
       "        vertical-align: middle;\n",
       "    }\n",
       "\n",
       "    .dataframe tbody tr th {\n",
       "        vertical-align: top;\n",
       "    }\n",
       "\n",
       "    .dataframe thead th {\n",
       "        text-align: right;\n",
       "    }\n",
       "</style>\n",
       "<table border=\"1\" class=\"dataframe\">\n",
       "  <thead>\n",
       "    <tr style=\"text-align: right;\">\n",
       "      <th></th>\n",
       "      <th>0</th>\n",
       "      <th>1</th>\n",
       "    </tr>\n",
       "  </thead>\n",
       "  <tbody>\n",
       "    <tr>\n",
       "      <th>0</th>\n",
       "      <td>Alexander</td>\n",
       "      <td>Lamar</td>\n",
       "    </tr>\n",
       "    <tr>\n",
       "      <th>1</th>\n",
       "      <td>Baldwin</td>\n",
       "      <td>Tammy</td>\n",
       "    </tr>\n",
       "    <tr>\n",
       "      <th>2</th>\n",
       "      <td>Barrasso</td>\n",
       "      <td>John</td>\n",
       "    </tr>\n",
       "    <tr>\n",
       "      <th>3</th>\n",
       "      <td>Bennet</td>\n",
       "      <td>Michael F.</td>\n",
       "    </tr>\n",
       "    <tr>\n",
       "      <th>4</th>\n",
       "      <td>Blumenthal</td>\n",
       "      <td>Richard</td>\n",
       "    </tr>\n",
       "  </tbody>\n",
       "</table>\n",
       "</div>"
      ],
      "text/plain": [
       "            0           1\n",
       "0   Alexander       Lamar\n",
       "1     Baldwin       Tammy\n",
       "2    Barrasso        John\n",
       "3      Bennet  Michael F.\n",
       "4  Blumenthal     Richard"
      ]
     },
     "execution_count": 20,
     "metadata": {},
     "output_type": "execute_result"
    }
   ],
   "source": [
    "# Name, Vorname\n",
    "df['Eintrag'].str.extract(r\"^(.+), (.+) - \\(\").head(5)"
   ]
  },
  {
   "cell_type": "markdown",
   "metadata": {},
   "source": [
    "Bilden Sie eine Regex, die sämtliche acht Informationen aufs Mal extrahiert und diese in acht neuen Spalten speichert!"
   ]
  },
  {
   "cell_type": "code",
   "execution_count": 21,
   "metadata": {},
   "outputs": [],
   "source": [
    "spalten = ['Name', 'Vorname', 'Partei', 'Bundesstaat', 'Klasse', 'Adresse', 'Telefonnr', 'Webseite']"
   ]
  },
  {
   "cell_type": "code",
   "execution_count": 22,
   "metadata": {},
   "outputs": [],
   "source": [
    "df[spalten] = df['Eintrag'].str.extract(r\"(\\w+), ([^-]+) - [(](\\w) - (\\w\\w)[)] Class (I+) (.*\\d{5})([^C]+)Contact: (.*)$\")"
   ]
  },
  {
   "cell_type": "markdown",
   "metadata": {},
   "source": [
    "Check, wie sieht es aus?"
   ]
  },
  {
   "cell_type": "code",
   "execution_count": 23,
   "metadata": {},
   "outputs": [
    {
     "data": {
      "text/html": [
       "<div>\n",
       "<style scoped>\n",
       "    .dataframe tbody tr th:only-of-type {\n",
       "        vertical-align: middle;\n",
       "    }\n",
       "\n",
       "    .dataframe tbody tr th {\n",
       "        vertical-align: top;\n",
       "    }\n",
       "\n",
       "    .dataframe thead th {\n",
       "        text-align: right;\n",
       "    }\n",
       "</style>\n",
       "<table border=\"1\" class=\"dataframe\">\n",
       "  <thead>\n",
       "    <tr style=\"text-align: right;\">\n",
       "      <th></th>\n",
       "      <th>Eintrag</th>\n",
       "      <th>Name</th>\n",
       "      <th>Vorname</th>\n",
       "      <th>Partei</th>\n",
       "      <th>Bundesstaat</th>\n",
       "      <th>Klasse</th>\n",
       "      <th>Adresse</th>\n",
       "      <th>Telefonnr</th>\n",
       "      <th>Webseite</th>\n",
       "    </tr>\n",
       "  </thead>\n",
       "  <tbody>\n",
       "    <tr>\n",
       "      <th>0</th>\n",
       "      <td>Alexander, Lamar - (R - TN) Class II 455 Dirks...</td>\n",
       "      <td>Alexander</td>\n",
       "      <td>Lamar</td>\n",
       "      <td>R</td>\n",
       "      <td>TN</td>\n",
       "      <td>II</td>\n",
       "      <td>455 Dirksen Senate Office Building Washington ...</td>\n",
       "      <td>(202) 224-4944</td>\n",
       "      <td>www.alexander.senate.gov/public/index.cfm?p=Email</td>\n",
       "    </tr>\n",
       "    <tr>\n",
       "      <th>1</th>\n",
       "      <td>Baldwin, Tammy - (D - WI) Class I 709 Hart Sen...</td>\n",
       "      <td>Baldwin</td>\n",
       "      <td>Tammy</td>\n",
       "      <td>D</td>\n",
       "      <td>WI</td>\n",
       "      <td>I</td>\n",
       "      <td>709 Hart Senate Office Building Washington DC ...</td>\n",
       "      <td>(202) 224-5653</td>\n",
       "      <td>www.baldwin.senate.gov/feedback</td>\n",
       "    </tr>\n",
       "    <tr>\n",
       "      <th>2</th>\n",
       "      <td>Barrasso, John - (R - WY) Class I 307 Dirksen ...</td>\n",
       "      <td>Barrasso</td>\n",
       "      <td>John</td>\n",
       "      <td>R</td>\n",
       "      <td>WY</td>\n",
       "      <td>I</td>\n",
       "      <td>307 Dirksen Senate Office Building Washington ...</td>\n",
       "      <td>(202) 224-6441</td>\n",
       "      <td>www.barrasso.senate.gov/public/index.cfm/conta...</td>\n",
       "    </tr>\n",
       "    <tr>\n",
       "      <th>3</th>\n",
       "      <td>Bennet, Michael F. - (D - CO) Class III 261 Ru...</td>\n",
       "      <td>Bennet</td>\n",
       "      <td>Michael F.</td>\n",
       "      <td>D</td>\n",
       "      <td>CO</td>\n",
       "      <td>III</td>\n",
       "      <td>261 Russell Senate Office Building Washington ...</td>\n",
       "      <td>(202) 224-5852</td>\n",
       "      <td>www.bennet.senate.gov/?p=contact</td>\n",
       "    </tr>\n",
       "    <tr>\n",
       "      <th>4</th>\n",
       "      <td>Blumenthal, Richard - (D - CT) Class III 706 H...</td>\n",
       "      <td>Blumenthal</td>\n",
       "      <td>Richard</td>\n",
       "      <td>D</td>\n",
       "      <td>CT</td>\n",
       "      <td>III</td>\n",
       "      <td>706 Hart Senate Office Building Washington DC ...</td>\n",
       "      <td>(202) 224-2823</td>\n",
       "      <td>www.blumenthal.senate.gov/contact/</td>\n",
       "    </tr>\n",
       "    <tr>\n",
       "      <th>...</th>\n",
       "      <td>...</td>\n",
       "      <td>...</td>\n",
       "      <td>...</td>\n",
       "      <td>...</td>\n",
       "      <td>...</td>\n",
       "      <td>...</td>\n",
       "      <td>...</td>\n",
       "      <td>...</td>\n",
       "      <td>...</td>\n",
       "    </tr>\n",
       "    <tr>\n",
       "      <th>95</th>\n",
       "      <td>Warren, Elizabeth - (D - MA) Class I 317 Hart ...</td>\n",
       "      <td>Warren</td>\n",
       "      <td>Elizabeth</td>\n",
       "      <td>D</td>\n",
       "      <td>MA</td>\n",
       "      <td>I</td>\n",
       "      <td>317 Hart Senate Office Building Washington DC ...</td>\n",
       "      <td>(202) 224-4543</td>\n",
       "      <td>www.warren.senate.gov/?p=email_senator</td>\n",
       "    </tr>\n",
       "    <tr>\n",
       "      <th>96</th>\n",
       "      <td>Whitehouse, Sheldon - (D - RI) Class I 530 Har...</td>\n",
       "      <td>Whitehouse</td>\n",
       "      <td>Sheldon</td>\n",
       "      <td>D</td>\n",
       "      <td>RI</td>\n",
       "      <td>I</td>\n",
       "      <td>530 Hart Senate Office Building Washington DC ...</td>\n",
       "      <td>(202) 224-2921</td>\n",
       "      <td>www.whitehouse.senate.gov/contact/email-sheldon</td>\n",
       "    </tr>\n",
       "    <tr>\n",
       "      <th>97</th>\n",
       "      <td>Wicker, Roger F. - (R - MS) Class I 555 Dirkse...</td>\n",
       "      <td>Wicker</td>\n",
       "      <td>Roger F.</td>\n",
       "      <td>R</td>\n",
       "      <td>MS</td>\n",
       "      <td>I</td>\n",
       "      <td>555 Dirksen Senate Office Building Washington ...</td>\n",
       "      <td>(202) 224-6253</td>\n",
       "      <td>www.wicker.senate.gov/public/index.cfm/contact</td>\n",
       "    </tr>\n",
       "    <tr>\n",
       "      <th>98</th>\n",
       "      <td>Wyden, Ron - (D - OR) Class III 221 Dirksen Se...</td>\n",
       "      <td>Wyden</td>\n",
       "      <td>Ron</td>\n",
       "      <td>D</td>\n",
       "      <td>OR</td>\n",
       "      <td>III</td>\n",
       "      <td>221 Dirksen Senate Office Building Washington ...</td>\n",
       "      <td>(202) 224-5244</td>\n",
       "      <td>www.wyden.senate.gov/contact/</td>\n",
       "    </tr>\n",
       "    <tr>\n",
       "      <th>99</th>\n",
       "      <td>Young, Todd - (R - IN) Class III 400 Russell S...</td>\n",
       "      <td>Young</td>\n",
       "      <td>Todd</td>\n",
       "      <td>R</td>\n",
       "      <td>IN</td>\n",
       "      <td>III</td>\n",
       "      <td>400 Russell Senate Office Building Washington ...</td>\n",
       "      <td>(202) 224-5623</td>\n",
       "      <td>www.young.senate.gov/content/contact-senator</td>\n",
       "    </tr>\n",
       "  </tbody>\n",
       "</table>\n",
       "<p>100 rows × 9 columns</p>\n",
       "</div>"
      ],
      "text/plain": [
       "                                              Eintrag        Name     Vorname  \\\n",
       "0   Alexander, Lamar - (R - TN) Class II 455 Dirks...   Alexander       Lamar   \n",
       "1   Baldwin, Tammy - (D - WI) Class I 709 Hart Sen...     Baldwin       Tammy   \n",
       "2   Barrasso, John - (R - WY) Class I 307 Dirksen ...    Barrasso        John   \n",
       "3   Bennet, Michael F. - (D - CO) Class III 261 Ru...      Bennet  Michael F.   \n",
       "4   Blumenthal, Richard - (D - CT) Class III 706 H...  Blumenthal     Richard   \n",
       "..                                                ...         ...         ...   \n",
       "95  Warren, Elizabeth - (D - MA) Class I 317 Hart ...      Warren   Elizabeth   \n",
       "96  Whitehouse, Sheldon - (D - RI) Class I 530 Har...  Whitehouse     Sheldon   \n",
       "97  Wicker, Roger F. - (R - MS) Class I 555 Dirkse...      Wicker    Roger F.   \n",
       "98  Wyden, Ron - (D - OR) Class III 221 Dirksen Se...       Wyden         Ron   \n",
       "99  Young, Todd - (R - IN) Class III 400 Russell S...       Young        Todd   \n",
       "\n",
       "   Partei Bundesstaat Klasse  \\\n",
       "0       R          TN     II   \n",
       "1       D          WI      I   \n",
       "2       R          WY      I   \n",
       "3       D          CO    III   \n",
       "4       D          CT    III   \n",
       "..    ...         ...    ...   \n",
       "95      D          MA      I   \n",
       "96      D          RI      I   \n",
       "97      R          MS      I   \n",
       "98      D          OR    III   \n",
       "99      R          IN    III   \n",
       "\n",
       "                                              Adresse        Telefonnr  \\\n",
       "0   455 Dirksen Senate Office Building Washington ...  (202) 224-4944    \n",
       "1   709 Hart Senate Office Building Washington DC ...  (202) 224-5653    \n",
       "2   307 Dirksen Senate Office Building Washington ...  (202) 224-6441    \n",
       "3   261 Russell Senate Office Building Washington ...  (202) 224-5852    \n",
       "4   706 Hart Senate Office Building Washington DC ...  (202) 224-2823    \n",
       "..                                                ...              ...   \n",
       "95  317 Hart Senate Office Building Washington DC ...  (202) 224-4543    \n",
       "96  530 Hart Senate Office Building Washington DC ...  (202) 224-2921    \n",
       "97  555 Dirksen Senate Office Building Washington ...  (202) 224-6253    \n",
       "98  221 Dirksen Senate Office Building Washington ...  (202) 224-5244    \n",
       "99  400 Russell Senate Office Building Washington ...  (202) 224-5623    \n",
       "\n",
       "                                             Webseite  \n",
       "0   www.alexander.senate.gov/public/index.cfm?p=Email  \n",
       "1                     www.baldwin.senate.gov/feedback  \n",
       "2   www.barrasso.senate.gov/public/index.cfm/conta...  \n",
       "3                    www.bennet.senate.gov/?p=contact  \n",
       "4                  www.blumenthal.senate.gov/contact/  \n",
       "..                                                ...  \n",
       "95             www.warren.senate.gov/?p=email_senator  \n",
       "96    www.whitehouse.senate.gov/contact/email-sheldon  \n",
       "97     www.wicker.senate.gov/public/index.cfm/contact  \n",
       "98                      www.wyden.senate.gov/contact/  \n",
       "99       www.young.senate.gov/content/contact-senator  \n",
       "\n",
       "[100 rows x 9 columns]"
      ]
     },
     "execution_count": 23,
     "metadata": {},
     "output_type": "execute_result"
    }
   ],
   "source": [
    "df"
   ]
  },
  {
   "cell_type": "code",
   "execution_count": null,
   "metadata": {},
   "outputs": [],
   "source": []
  }
 ],
 "metadata": {
  "kernelspec": {
   "display_name": "Python 3 (ipykernel)",
   "language": "python",
   "name": "python3"
  },
  "language_info": {
   "codemirror_mode": {
    "name": "ipython",
    "version": 3
   },
   "file_extension": ".py",
   "mimetype": "text/x-python",
   "name": "python",
   "nbconvert_exporter": "python",
   "pygments_lexer": "ipython3",
   "version": "3.10.6"
  }
 },
 "nbformat": 4,
 "nbformat_minor": 2
}
