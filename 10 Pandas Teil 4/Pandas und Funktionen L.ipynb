{
 "cells": [
  {
   "cell_type": "markdown",
   "metadata": {},
   "source": [
    "# Pandas und Funktionen"
   ]
  },
  {
   "cell_type": "markdown",
   "metadata": {},
   "source": [
    "**Inhalt:** Selbst definierte oder importierte Funktionen in Pandas anwenden\n",
    "\n",
    "**Nötige Skills:** Einführung in Pandas\n",
    "\n",
    "**Lernziele:**\n",
    "- Review: Mehrere Codezeilen zu Funktionen zusammenfassen\n",
    "- Funktionen auf bestimmte Bestandteile von Dataframes ausführen (apply)\n",
    "- Funkionen on-the-fly definiteren und anwenden (lambda)"
   ]
  },
  {
   "cell_type": "markdown",
   "metadata": {},
   "source": [
    "## Das Beispiel"
   ]
  },
  {
   "cell_type": "markdown",
   "metadata": {},
   "source": [
    "Eine kleine Datenbank der besten alltime-Singles aus der Schweizer Hitparade und den Songtexten dazu.\n",
    "\n",
    "Wir betreiben etwas Textanalyse und experimentieren mit einem Ranking.\n",
    "\n",
    "Quellen:\n",
    "- https://hitparade.ch/charts/best/singles\n",
    "- https://www.songtexte.com/"
   ]
  },
  {
   "cell_type": "markdown",
   "metadata": {},
   "source": [
    "Das Scrape-File dazu findet sich hier: `dataprojects/Songtexte/scraper.ipynb`\n",
    "\n",
    "Das Daten-File hier: `dataprojects/Songtexte/charts_mit_texten.csv`"
   ]
  },
  {
   "cell_type": "code",
   "execution_count": null,
   "metadata": {},
   "outputs": [],
   "source": []
  },
  {
   "cell_type": "markdown",
   "metadata": {},
   "source": [
    "## Vorbereitung"
   ]
  },
  {
   "cell_type": "code",
   "execution_count": 1,
   "metadata": {},
   "outputs": [],
   "source": [
    "import pandas as pd"
   ]
  },
  {
   "cell_type": "code",
   "execution_count": 2,
   "metadata": {},
   "outputs": [],
   "source": [
    "import numpy as np"
   ]
  },
  {
   "cell_type": "code",
   "execution_count": 3,
   "metadata": {},
   "outputs": [],
   "source": [
    "pd.set_option('display.max_colwidth', 2000)"
   ]
  },
  {
   "cell_type": "code",
   "execution_count": null,
   "metadata": {},
   "outputs": [],
   "source": []
  },
  {
   "cell_type": "markdown",
   "metadata": {},
   "source": [
    "## Daten laden"
   ]
  },
  {
   "cell_type": "code",
   "execution_count": 4,
   "metadata": {},
   "outputs": [],
   "source": [
    "df = pd.read_csv('dataprojects/Songtexte/charts_mit_texten.csv')"
   ]
  },
  {
   "cell_type": "code",
   "execution_count": 5,
   "metadata": {},
   "outputs": [
    {
     "data": {
      "text/html": [
       "<div>\n",
       "<style scoped>\n",
       "    .dataframe tbody tr th:only-of-type {\n",
       "        vertical-align: middle;\n",
       "    }\n",
       "\n",
       "    .dataframe tbody tr th {\n",
       "        vertical-align: top;\n",
       "    }\n",
       "\n",
       "    .dataframe thead th {\n",
       "        text-align: right;\n",
       "    }\n",
       "</style>\n",
       "<table border=\"1\" class=\"dataframe\">\n",
       "  <thead>\n",
       "    <tr style=\"text-align: right;\">\n",
       "      <th></th>\n",
       "      <th>Rang</th>\n",
       "      <th>Artist</th>\n",
       "      <th>Titel</th>\n",
       "      <th>Eintritt</th>\n",
       "      <th>Wochen</th>\n",
       "      <th>Peak</th>\n",
       "      <th>Punkte</th>\n",
       "      <th>Link</th>\n",
       "      <th>Songtext</th>\n",
       "    </tr>\n",
       "  </thead>\n",
       "  <tbody>\n",
       "    <tr>\n",
       "      <th>0</th>\n",
       "      <td>1</td>\n",
       "      <td>DJ Ötzi &amp; Nik P.</td>\n",
       "      <td>Ein Stern (... der deinen Namen trägt)</td>\n",
       "      <td>18.02.2007</td>\n",
       "      <td>118</td>\n",
       "      <td>2</td>\n",
       "      <td>8109</td>\n",
       "      <td>/song/DJ-Oetzi-&amp;-Nik-P./Ein-Stern-(...-der-deinen-Namen-traegt)-283118</td>\n",
       "      <td>Einen Stern, der deinen Namen trägt\\nHoch am Himmelszelt\\nDen schenk ich Dir heut' Nacht\\nEinen Stern, der deinen Namen trägt\\nAlle Zeiten überlebt\\nUnd über unsere Liebe wacht\\n\\nSeit Jahren schon leb ich mit Dir\\nUnd ich danke Gott dafür\\ndass er mir Dich gegeben hat\\nAls Erinnerung an unser Leben\\nMöchte ich Dir heut' etwas geben\\nEin Geschenk für alle Ewigkeit\\n\\nEinen Stern, der deinen Namen trägt\\nHoch am Himmelszelt\\nDen schenk ich Dir heut' Nacht\\nEinen Stern, der deinen Namen trägt\\nAlle Zeiten überlebt\\nUnd über unsere Liebe wacht\\n\\nIrgendwann ist es vorbei\\nUnd im Himmel wird Platz für uns zwei\\nDoch Dein Stern bleibt oben für immer und ewig stehn\\nUnd auch noch in 1000 Jahren\\nWird er deinen Namen tragen\\nUnd immer noch der schönste von allen sein\\n\\nEinen Stern, der deinen Namen trägt\\nHoch am Himmelszelt\\nDen schenk ich Dir heut' Nacht\\nEinen Stern, der deinen Namen trägt\\nAlle Zeiten überlebt\\nUnd über unsere Liebe wacht\\n\\nFünf, Vier, Drei, Zwo, Eins, Zero\\n\\nEinen Stern, der deinen Namen trägt\\nHoch am Himmelszelt\\nDen schenk ich Dir heut' Nacht (Einen Stern)\\nEinen Stern, der deinen Namen trägt\\nAlle Zeiten überlebt\\nUnd über unsere Liebe wacht\\n(Einen Stern, einen Stern)</td>\n",
       "    </tr>\n",
       "    <tr>\n",
       "      <th>1</th>\n",
       "      <td>2</td>\n",
       "      <td>Ed Sheeran</td>\n",
       "      <td>Shape Of You</td>\n",
       "      <td>15.01.2017</td>\n",
       "      <td>93</td>\n",
       "      <td>1</td>\n",
       "      <td>7196</td>\n",
       "      <td>/song/Ed-Sheeran/Shape-Of-You-1622943</td>\n",
       "      <td>The club isn't the best place to find a lover\\nSo the bar is where I go\\nMe and my friends at the table doing shots\\nDrinking fast and then we talk slow\\n\\nCome over and start up a conversation with just me\\nAnd trust me, I'll give it a chance\\nNow take my hand, stop, put Van The Man on the jukebox\\nAnd then we start to dance\\n\\nSay: Boy, let's not talk too much\\nGrab on my waist and put that body on me\\nCome on now, follow my lead\\nCome, come on now, follow my lead\\n\\nI'm in love\\nI'm in love\\nI'm in love\\nI'm in love shape of dance\\nI'm in love\\ndance\\nI'm in love\\nI'm in love in the shape of...\\n\\nI'm in love with the shape of you\\nWe push and pull like a magnet do\\nAlthough my heart is falling too\\nI'm in love with your body\\nAnd last night you were in my room\\nAnd now my bedsheets smell like you\\nEvery day discovering something brand new\\nI'm in love with your body\\nI'm in love with your body\\nEvery day discovering something brand new\\n\\nI'm in love with the shape of you\\nI'm in love\\nI'm in love\\nI'm in love\\nI'm in love shape of dance\\nI'm in love\\ndance\\nI'm in love\\nI' m in love in the shape of...\\n\\nOne week in we let the story begin\\nWe're going out on our first date\\nYou and me are thrifty, so go all you can eat\\nFill up your bag and I fill up a plate\\n\\nWe talk for hours and hours about the sweet and the sour\\nAnd how your family is doing okay\\nLeave and get in a taxi, then kiss in the backseat\\nTell the driver make the radio play\\n\\nSay: Boy, let's not talk too much\\nGrab on my waist and put that body on me\\nCome on now, follow my lead\\nCome, come on now, follow my lead\\n\\nI'm in love\\nI'm in love\\nI'm in lo-lo-love\\nI'm in love shape of\\ndance\\nI'm in love\\ndance\\nI'm in love with the shape of you\\nI'm in lo-lo-love\\ndance\\nI'm in love with the shape of you\\n\\nI'm in love with the shape of you\\nWe push and pull like a magnet do\\nAlthough my heart is falling too\\nI'm in love with your body\\nDance\\nAnd last night you were in my room\\nAnd now my beds...</td>\n",
       "    </tr>\n",
       "    <tr>\n",
       "      <th>2</th>\n",
       "      <td>3</td>\n",
       "      <td>Luis Fonsi feat. Daddy Yankee</td>\n",
       "      <td>Despacito</td>\n",
       "      <td>22.01.2017</td>\n",
       "      <td>90</td>\n",
       "      <td>1</td>\n",
       "      <td>6854</td>\n",
       "      <td>/song/Luis-Fonsi-feat.-Daddy-Yankee/Despacito-1625640</td>\n",
       "      <td>Ay\\nFonsi, DY\\nOh, oh no, oh no (ey)\\nHey, yeah, diri-diri-diriridi, Daddy, go!\\n\\nSí, sabes que ya llevo un rato mirándote\\nTengo que bailar contigo hoy (DY)\\nVi que tu mirada ya estaba llamándome\\nMuéstrame el camino, que yo voy (oh)\\n\\nTú, tú eres el imán y yo soy el metal\\nMe voy acercando y voy armando el plan\\nSólo con pensarlo se acelera el pulso (oh, yeah)\\n\\nYa, ya me estás gustando más de lo normal\\nTodos mis sentidos van pidiendo más\\nEsto hay que tomarlo sin ningún apuro\\n\\nDespacito\\nQuiero respirar tu cuello despacito\\nDeja que te diga cosas al oído\\nPara que te acuerdes si no estás conmigo\\n\\nDespacito\\nQuiero desnudarte a besos despacito\\nFirmar las paredes de tu laberinto\\nY hacer de tu cuerpo todo un manuscrito (sube, sube, sube)\\nSube, sube (oh)\\n\\nQuiero ver bailar tu pelo, quiero ser tu ritmo\\nQue le enseñes a mi boca tus lugares favoritos\\n(Favoritos, favoritos, baby)\\nDéjame sobrepasar tus zonas de peligro\\nHasta provocar tus gritos y que olvides tu apellido\\n\\nSi te pido un beso, ven, dámelo\\nYo sé que estás pensándolo\\nLlevo tiempo intentándolo\\nMami, esto es dando y dándolo\\n\\nSabes que tu corazón conmigo te hace \"bam-bam\"\\nSabes que esa beba está buscando de mi \"bam-bam\"\\n\\nVen, prueba de mi boca para ver cómo te sabe\\nQuiero, quiero, quiero ver cuánto amor a ti te cabe\\nYo no tengo prisa, yo me quiero dar el viaje\\nEmpezamos lento, después salvaje\\n\\nPasito a pasito, suave, suavecito\\nNos vamos pegando poquito a poquito\\nCuando tú me besas con esa destreza\\nVeo que eres malicia con delicadeza\\n\\nPasito a pasito, suave, suavecito\\nNos vamos pegando poquito a poquito\\nY es que esa belleza es un rompecabezas\\nPero pa' montarlo, aquí tengo la pieza, oye\\n\\nDespacito\\nQuiero respirar tu cuello despacito\\nDeja que te diga cosas al oído\\nPara que te acuerdes si no estás conmigo\\n\\nDespacito\\nQuiero desnudarte a besos despacito\\nFirmar las paredes de tu laberinto\\nY hacer de tu cuerpo todo un manuscrito (sube, sube, sube)\\nSube, sube (oh)\\n\\n...</td>\n",
       "    </tr>\n",
       "    <tr>\n",
       "      <th>3</th>\n",
       "      <td>4</td>\n",
       "      <td>DJ Antoine feat. The Beat Shakers</td>\n",
       "      <td>\"Ma chérie\"</td>\n",
       "      <td>06.06.2010</td>\n",
       "      <td>99</td>\n",
       "      <td>2</td>\n",
       "      <td>6745</td>\n",
       "      <td>/song/DJ-Antoine-feat.-The-Beat-Shakers/Ma-cherie-711060</td>\n",
       "      <td>When I look into your eyes\\nI see rainbows in the skies.\\nBaby when you're close to me\\nI know you are ma cherie.\\n\\nWe are gonna dance into the sea\\nAll I want is you - you're ma cherie\\nNever seen a girl that 's so jolie\\nAll I want is you - you're ma cherie\\n\\nMa cherie,\\n\\nTake my hand and come with me.\\n\\nWe don 't need to run or hide\\nI'll be there to hold you tight\\nYou and me, we are on fire\\nMa cherie, you're my desire\\n\\nWe are gonna dance into the sea\\nAll I want is you - you're ma cherie\\nNever seen a girl that 's so jolie\\nAll I want is you - you're ma cherie\\n\\nI will take you higher x4\\n\\nYou 're my love, you 're ma cherie.</td>\n",
       "    </tr>\n",
       "    <tr>\n",
       "      <th>4</th>\n",
       "      <td>5</td>\n",
       "      <td>Adele</td>\n",
       "      <td>Rolling In The Deep</td>\n",
       "      <td>30.01.2011</td>\n",
       "      <td>93</td>\n",
       "      <td>1</td>\n",
       "      <td>6588</td>\n",
       "      <td>/song/Adele/Rolling-In-The-Deep-767937</td>\n",
       "      <td>There's a fire starting in my heart\\nReaching a fever pitch and it's bring me out the dark\\nFinally, I can see you crystal clear\\nGo ahead and sell me out and I'll lay your ship bare\\n\\nSee how I'll leave with every piece of you\\nDon't underestimate the things that I will do\\nThere's a fire starting in my heart\\nReaching a fever pitch and it's bring me out the dark\\n\\nThe scars of your love remind me of us\\nThey keep me thinking that we almost had it all\\nThe scars of your love, they leave me breathless\\nI can't help feeling\\n\\nWe could have had it all\\n(You're gonna wish you never had met me)\\nRolling in the deep\\n(Tears are gonna fall, rolling in the deep)\\nYou had my heart inside of your hands\\n(You're gonna wish you never had met me)\\nAnd you played it to the beat\\n(Tears are gonna fall, rolling in the deep)\\n\\nBaby, I have no story to be told\\nBut I've heard one on you and I'm gonna make your head burn\\nThink of me in the depths of your despair\\nMake a home down there as mine sure won't be shared\\n\\nThe scars of your love remind me of us\\n(You're gonna wish you never had met me)\\nThey keep me thinking that we almost had it all\\n(Tears are gonna fall, rolling in the deep)\\nThe scars of your love, they leave me breathless\\n(You're gonna wish you never had met me)\\nI can't help feeling\\n(Tears are gonna fall, rolling in the deep)\\n\\nWe could have had it all\\n(You're gonna wish you never had met me)\\nRolling in the deep\\n(Tears are gonna fall, rolling in the deep)\\nYou had my heart inside of your hands\\n(You're gonna wish you never had met me)\\nAnd you played it to the beat\\n(Tears are gonna fall, rolling in the deep)\\n\\nCould have had it all\\nRolling in the deep\\nYou had my heart inside of your hands\\nBut you played it with a beating\\n\\nThrow your soul through every open door\\nCount your blessings to find what you look for\\nTurn my sorrow into treasured gold\\nYou'll pay me back in kind and reap just what you've sown\\n\\n(You're gonna wish you never had met me)\\...</td>\n",
       "    </tr>\n",
       "  </tbody>\n",
       "</table>\n",
       "</div>"
      ],
      "text/plain": [
       "   Rang                             Artist  \\\n",
       "0     1                   DJ Ötzi & Nik P.   \n",
       "1     2                         Ed Sheeran   \n",
       "2     3      Luis Fonsi feat. Daddy Yankee   \n",
       "3     4  DJ Antoine feat. The Beat Shakers   \n",
       "4     5                              Adele   \n",
       "\n",
       "                                    Titel    Eintritt  Wochen  Peak  Punkte  \\\n",
       "0  Ein Stern (... der deinen Namen trägt)  18.02.2007     118     2    8109   \n",
       "1                            Shape Of You  15.01.2017      93     1    7196   \n",
       "2                               Despacito  22.01.2017      90     1    6854   \n",
       "3                             \"Ma chérie\"  06.06.2010      99     2    6745   \n",
       "4                     Rolling In The Deep  30.01.2011      93     1    6588   \n",
       "\n",
       "                                                                     Link  \\\n",
       "0  /song/DJ-Oetzi-&-Nik-P./Ein-Stern-(...-der-deinen-Namen-traegt)-283118   \n",
       "1                                   /song/Ed-Sheeran/Shape-Of-You-1622943   \n",
       "2                   /song/Luis-Fonsi-feat.-Daddy-Yankee/Despacito-1625640   \n",
       "3                /song/DJ-Antoine-feat.-The-Beat-Shakers/Ma-cherie-711060   \n",
       "4                                  /song/Adele/Rolling-In-The-Deep-767937   \n",
       "\n",
       "                                                                                                                                                                                                                                                                                                                                                                                                                                                                                                                                                                                                                                                                                                                                                                                                                                                                                                                                                                                                                                                                                                                                                                                                                                                                                                                                                                                                                                                                                                                                                                                                                                                                                                                                                                                                                                                                                                                                                                                                                                                                          Songtext  \n",
       "0                                                                                                                                                                                                                                                                                                                                                                                                                                                                                                                                                                                                                                                                                                                                                                                                                        Einen Stern, der deinen Namen trägt\\nHoch am Himmelszelt\\nDen schenk ich Dir heut' Nacht\\nEinen Stern, der deinen Namen trägt\\nAlle Zeiten überlebt\\nUnd über unsere Liebe wacht\\n\\nSeit Jahren schon leb ich mit Dir\\nUnd ich danke Gott dafür\\ndass er mir Dich gegeben hat\\nAls Erinnerung an unser Leben\\nMöchte ich Dir heut' etwas geben\\nEin Geschenk für alle Ewigkeit\\n\\nEinen Stern, der deinen Namen trägt\\nHoch am Himmelszelt\\nDen schenk ich Dir heut' Nacht\\nEinen Stern, der deinen Namen trägt\\nAlle Zeiten überlebt\\nUnd über unsere Liebe wacht\\n\\nIrgendwann ist es vorbei\\nUnd im Himmel wird Platz für uns zwei\\nDoch Dein Stern bleibt oben für immer und ewig stehn\\nUnd auch noch in 1000 Jahren\\nWird er deinen Namen tragen\\nUnd immer noch der schönste von allen sein\\n\\nEinen Stern, der deinen Namen trägt\\nHoch am Himmelszelt\\nDen schenk ich Dir heut' Nacht\\nEinen Stern, der deinen Namen trägt\\nAlle Zeiten überlebt\\nUnd über unsere Liebe wacht\\n\\nFünf, Vier, Drei, Zwo, Eins, Zero\\n\\nEinen Stern, der deinen Namen trägt\\nHoch am Himmelszelt\\nDen schenk ich Dir heut' Nacht (Einen Stern)\\nEinen Stern, der deinen Namen trägt\\nAlle Zeiten überlebt\\nUnd über unsere Liebe wacht\\n(Einen Stern, einen Stern)  \n",
       "1  The club isn't the best place to find a lover\\nSo the bar is where I go\\nMe and my friends at the table doing shots\\nDrinking fast and then we talk slow\\n\\nCome over and start up a conversation with just me\\nAnd trust me, I'll give it a chance\\nNow take my hand, stop, put Van The Man on the jukebox\\nAnd then we start to dance\\n\\nSay: Boy, let's not talk too much\\nGrab on my waist and put that body on me\\nCome on now, follow my lead\\nCome, come on now, follow my lead\\n\\nI'm in love\\nI'm in love\\nI'm in love\\nI'm in love shape of dance\\nI'm in love\\ndance\\nI'm in love\\nI'm in love in the shape of...\\n\\nI'm in love with the shape of you\\nWe push and pull like a magnet do\\nAlthough my heart is falling too\\nI'm in love with your body\\nAnd last night you were in my room\\nAnd now my bedsheets smell like you\\nEvery day discovering something brand new\\nI'm in love with your body\\nI'm in love with your body\\nEvery day discovering something brand new\\n\\nI'm in love with the shape of you\\nI'm in love\\nI'm in love\\nI'm in love\\nI'm in love shape of dance\\nI'm in love\\ndance\\nI'm in love\\nI' m in love in the shape of...\\n\\nOne week in we let the story begin\\nWe're going out on our first date\\nYou and me are thrifty, so go all you can eat\\nFill up your bag and I fill up a plate\\n\\nWe talk for hours and hours about the sweet and the sour\\nAnd how your family is doing okay\\nLeave and get in a taxi, then kiss in the backseat\\nTell the driver make the radio play\\n\\nSay: Boy, let's not talk too much\\nGrab on my waist and put that body on me\\nCome on now, follow my lead\\nCome, come on now, follow my lead\\n\\nI'm in love\\nI'm in love\\nI'm in lo-lo-love\\nI'm in love shape of\\ndance\\nI'm in love\\ndance\\nI'm in love with the shape of you\\nI'm in lo-lo-love\\ndance\\nI'm in love with the shape of you\\n\\nI'm in love with the shape of you\\nWe push and pull like a magnet do\\nAlthough my heart is falling too\\nI'm in love with your body\\nDance\\nAnd last night you were in my room\\nAnd now my beds...  \n",
       "2  Ay\\nFonsi, DY\\nOh, oh no, oh no (ey)\\nHey, yeah, diri-diri-diriridi, Daddy, go!\\n\\nSí, sabes que ya llevo un rato mirándote\\nTengo que bailar contigo hoy (DY)\\nVi que tu mirada ya estaba llamándome\\nMuéstrame el camino, que yo voy (oh)\\n\\nTú, tú eres el imán y yo soy el metal\\nMe voy acercando y voy armando el plan\\nSólo con pensarlo se acelera el pulso (oh, yeah)\\n\\nYa, ya me estás gustando más de lo normal\\nTodos mis sentidos van pidiendo más\\nEsto hay que tomarlo sin ningún apuro\\n\\nDespacito\\nQuiero respirar tu cuello despacito\\nDeja que te diga cosas al oído\\nPara que te acuerdes si no estás conmigo\\n\\nDespacito\\nQuiero desnudarte a besos despacito\\nFirmar las paredes de tu laberinto\\nY hacer de tu cuerpo todo un manuscrito (sube, sube, sube)\\nSube, sube (oh)\\n\\nQuiero ver bailar tu pelo, quiero ser tu ritmo\\nQue le enseñes a mi boca tus lugares favoritos\\n(Favoritos, favoritos, baby)\\nDéjame sobrepasar tus zonas de peligro\\nHasta provocar tus gritos y que olvides tu apellido\\n\\nSi te pido un beso, ven, dámelo\\nYo sé que estás pensándolo\\nLlevo tiempo intentándolo\\nMami, esto es dando y dándolo\\n\\nSabes que tu corazón conmigo te hace \"bam-bam\"\\nSabes que esa beba está buscando de mi \"bam-bam\"\\n\\nVen, prueba de mi boca para ver cómo te sabe\\nQuiero, quiero, quiero ver cuánto amor a ti te cabe\\nYo no tengo prisa, yo me quiero dar el viaje\\nEmpezamos lento, después salvaje\\n\\nPasito a pasito, suave, suavecito\\nNos vamos pegando poquito a poquito\\nCuando tú me besas con esa destreza\\nVeo que eres malicia con delicadeza\\n\\nPasito a pasito, suave, suavecito\\nNos vamos pegando poquito a poquito\\nY es que esa belleza es un rompecabezas\\nPero pa' montarlo, aquí tengo la pieza, oye\\n\\nDespacito\\nQuiero respirar tu cuello despacito\\nDeja que te diga cosas al oído\\nPara que te acuerdes si no estás conmigo\\n\\nDespacito\\nQuiero desnudarte a besos despacito\\nFirmar las paredes de tu laberinto\\nY hacer de tu cuerpo todo un manuscrito (sube, sube, sube)\\nSube, sube (oh)\\n\\n...  \n",
       "3                                                                                                                                                                                                                                                                                                                                                                                                                                                                                                                                                                                                                                                                                                                                                                                                                                                                                                                                                                                                                                                                                                                                                                                                                                                                                                                                                                                                           When I look into your eyes\\nI see rainbows in the skies.\\nBaby when you're close to me\\nI know you are ma cherie.\\n\\nWe are gonna dance into the sea\\nAll I want is you - you're ma cherie\\nNever seen a girl that 's so jolie\\nAll I want is you - you're ma cherie\\n\\nMa cherie,\\n\\nTake my hand and come with me.\\n\\nWe don 't need to run or hide\\nI'll be there to hold you tight\\nYou and me, we are on fire\\nMa cherie, you're my desire\\n\\nWe are gonna dance into the sea\\nAll I want is you - you're ma cherie\\nNever seen a girl that 's so jolie\\nAll I want is you - you're ma cherie\\n\\nI will take you higher x4\\n\\nYou 're my love, you 're ma cherie.  \n",
       "4  There's a fire starting in my heart\\nReaching a fever pitch and it's bring me out the dark\\nFinally, I can see you crystal clear\\nGo ahead and sell me out and I'll lay your ship bare\\n\\nSee how I'll leave with every piece of you\\nDon't underestimate the things that I will do\\nThere's a fire starting in my heart\\nReaching a fever pitch and it's bring me out the dark\\n\\nThe scars of your love remind me of us\\nThey keep me thinking that we almost had it all\\nThe scars of your love, they leave me breathless\\nI can't help feeling\\n\\nWe could have had it all\\n(You're gonna wish you never had met me)\\nRolling in the deep\\n(Tears are gonna fall, rolling in the deep)\\nYou had my heart inside of your hands\\n(You're gonna wish you never had met me)\\nAnd you played it to the beat\\n(Tears are gonna fall, rolling in the deep)\\n\\nBaby, I have no story to be told\\nBut I've heard one on you and I'm gonna make your head burn\\nThink of me in the depths of your despair\\nMake a home down there as mine sure won't be shared\\n\\nThe scars of your love remind me of us\\n(You're gonna wish you never had met me)\\nThey keep me thinking that we almost had it all\\n(Tears are gonna fall, rolling in the deep)\\nThe scars of your love, they leave me breathless\\n(You're gonna wish you never had met me)\\nI can't help feeling\\n(Tears are gonna fall, rolling in the deep)\\n\\nWe could have had it all\\n(You're gonna wish you never had met me)\\nRolling in the deep\\n(Tears are gonna fall, rolling in the deep)\\nYou had my heart inside of your hands\\n(You're gonna wish you never had met me)\\nAnd you played it to the beat\\n(Tears are gonna fall, rolling in the deep)\\n\\nCould have had it all\\nRolling in the deep\\nYou had my heart inside of your hands\\nBut you played it with a beating\\n\\nThrow your soul through every open door\\nCount your blessings to find what you look for\\nTurn my sorrow into treasured gold\\nYou'll pay me back in kind and reap just what you've sown\\n\\n(You're gonna wish you never had met me)\\...  "
      ]
     },
     "execution_count": 5,
     "metadata": {},
     "output_type": "execute_result"
    }
   ],
   "source": [
    "df.head()"
   ]
  },
  {
   "cell_type": "markdown",
   "metadata": {},
   "source": [
    "Achtung, ein paar Songs haben keinen Text"
   ]
  },
  {
   "cell_type": "code",
   "execution_count": 6,
   "metadata": {},
   "outputs": [],
   "source": [
    "df['Songtext'] = df['Songtext'].replace(np.nan, \"\")"
   ]
  },
  {
   "cell_type": "markdown",
   "metadata": {},
   "source": [
    "## Datenbeispiel"
   ]
  },
  {
   "cell_type": "markdown",
   "metadata": {},
   "source": [
    "Hier der Text des ersten Songs in unserer Datenbank:"
   ]
  },
  {
   "cell_type": "code",
   "execution_count": 7,
   "metadata": {},
   "outputs": [
    {
     "data": {
      "text/plain": [
       "0    Einen Stern, der deinen Namen trägt\\nHoch am Himmelszelt\\nDen schenk ich Dir heut' Nacht\\nEinen Stern, der deinen Namen trägt\\nAlle Zeiten überlebt\\nUnd über unsere Liebe wacht\\n\\nSeit Jahren schon leb ich mit Dir\\nUnd ich danke Gott dafür\\ndass er mir Dich gegeben hat\\nAls Erinnerung an unser Leben\\nMöchte ich Dir heut' etwas geben\\nEin Geschenk für alle Ewigkeit\\n\\nEinen Stern, der deinen Namen trägt\\nHoch am Himmelszelt\\nDen schenk ich Dir heut' Nacht\\nEinen Stern, der deinen Namen trägt\\nAlle Zeiten überlebt\\nUnd über unsere Liebe wacht\\n\\nIrgendwann ist es vorbei\\nUnd im Himmel wird Platz für uns zwei\\nDoch Dein Stern bleibt oben für immer und ewig stehn\\nUnd auch noch in 1000 Jahren\\nWird er deinen Namen tragen\\nUnd immer noch der schönste von allen sein\\n\\nEinen Stern, der deinen Namen trägt\\nHoch am Himmelszelt\\nDen schenk ich Dir heut' Nacht\\nEinen Stern, der deinen Namen trägt\\nAlle Zeiten überlebt\\nUnd über unsere Liebe wacht\\n\\nFünf, Vier, Drei, Zwo, Eins, Zero\\n\\nEinen Stern, der deinen Namen trägt\\nHoch am Himmelszelt\\nDen schenk ich Dir heut' Nacht (Einen Stern)\\nEinen Stern, der deinen Namen trägt\\nAlle Zeiten überlebt\\nUnd über unsere Liebe wacht\\n(Einen Stern, einen Stern)\n",
       "Name: Songtext, dtype: object"
      ]
     },
     "execution_count": 7,
     "metadata": {},
     "output_type": "execute_result"
    }
   ],
   "source": [
    "df[df['Rang'] == 1]['Songtext']"
   ]
  },
  {
   "cell_type": "code",
   "execution_count": 8,
   "metadata": {},
   "outputs": [
    {
     "name": "stdout",
     "output_type": "stream",
     "text": [
      "Einen Stern, der deinen Namen trägt\n",
      "Hoch am Himmelszelt\n",
      "Den schenk ich Dir heut' Nacht\n",
      "Einen Stern, der deinen Namen trägt\n",
      "Alle Zeiten überlebt\n",
      "Und über unsere Liebe wacht\n",
      "\n",
      "Seit Jahren schon leb ich mit Dir\n",
      "Und ich danke Gott dafür\n",
      "dass er mir Dich gegeben hat\n",
      "Als Erinnerung an unser Leben\n",
      "Möchte ich Dir heut' etwas geben\n",
      "Ein Geschenk für alle Ewigkeit\n",
      "\n",
      "Einen Stern, der deinen Namen trägt\n",
      "Hoch am Himmelszelt\n",
      "Den schenk ich Dir heut' Nacht\n",
      "Einen Stern, der deinen Namen trägt\n",
      "Alle Zeiten überlebt\n",
      "Und über unsere Liebe wacht\n",
      "\n",
      "Irgendwann ist es vorbei\n",
      "Und im Himmel wird Platz für uns zwei\n",
      "Doch Dein Stern bleibt oben für immer und ewig stehn\n",
      "Und auch noch in 1000 Jahren\n",
      "Wird er deinen Namen tragen\n",
      "Und immer noch der schönste von allen sein\n",
      "\n",
      "Einen Stern, der deinen Namen trägt\n",
      "Hoch am Himmelszelt\n",
      "Den schenk ich Dir heut' Nacht\n",
      "Einen Stern, der deinen Namen trägt\n",
      "Alle Zeiten überlebt\n",
      "Und über unsere Liebe wacht\n",
      "\n",
      "Fünf, Vier, Drei, Zwo, Eins, Zero\n",
      "\n",
      "Einen Stern, der deinen Namen trägt\n",
      "Hoch am Himmelszelt\n",
      "Den schenk ich Dir heut' Nacht (Einen Stern)\n",
      "Einen Stern, der deinen Namen trägt\n",
      "Alle Zeiten überlebt\n",
      "Und über unsere Liebe wacht\n",
      "(Einen Stern, einen Stern)\n"
     ]
    }
   ],
   "source": [
    "print(df[df['Rang'] == 1]['Songtext'][0])"
   ]
  },
  {
   "cell_type": "markdown",
   "metadata": {},
   "source": [
    "## Analyse über ein Datenfeld"
   ]
  },
  {
   "cell_type": "markdown",
   "metadata": {},
   "source": [
    "Was könnten wir an diesem Songtext auswerten? Überlegen Sie sich Möglichkeiten für eine simple Textanalyse."
   ]
  },
  {
   "cell_type": "code",
   "execution_count": 9,
   "metadata": {},
   "outputs": [],
   "source": [
    "# Beispiele:\n",
    "\n",
    "# Anzahl Zeilen\n",
    "# Anzahl Wörter\n",
    "# Durchschnittliche Länge der Wörter\n",
    "# Anzahl Strophen und Refrains\n",
    "# Vokale vs. Konsonanten\n",
    "# etc."
   ]
  },
  {
   "cell_type": "markdown",
   "metadata": {},
   "source": [
    "Wir machen es uns einfach, und werten die Anzahl Zeilen aus. Dazu schreiben wir eine Funktion:\n",
    "- Sie erhält als Input einen String\n",
    "- Sie liefert als Output eine Zahl\n",
    "- Achtung: Es hat auch doppelte Zeilenumbrüche drin"
   ]
  },
  {
   "cell_type": "markdown",
   "metadata": {},
   "source": [
    "### Funktion schreiben"
   ]
  },
  {
   "cell_type": "code",
   "execution_count": 10,
   "metadata": {},
   "outputs": [],
   "source": [
    "def zeilenzahl(text):\n",
    "\n",
    "    # Wir zählen zuerst alle Zeilenumbrüche\n",
    "    zeilenumbrueche = text.count(\"\\n\")\n",
    "    \n",
    "    # Anschliessend zählen wir die doppelten Zeilenumbrüche...\n",
    "    doppelte_zeilenumbrueche = text.count(\"\\n\\n\")\n",
    "    \n",
    "    # ... und subtrahieren diesen Wert, um die korrekte Zeilenzahl herauszufinden\n",
    "    zeilen = zeilenumbrueche - doppelte_zeilenumbrueche\n",
    "    \n",
    "    return zeilen"
   ]
  },
  {
   "cell_type": "markdown",
   "metadata": {},
   "source": [
    "### Funktion testen"
   ]
  },
  {
   "cell_type": "code",
   "execution_count": 11,
   "metadata": {},
   "outputs": [],
   "source": [
    "test_text = '''\n",
    "Dies ist ein Text mit drei Zeilen.\n",
    "Zwischen der zweiten und dritten Zeile hat es einen doppelten Umbruch.\n",
    "\n",
    "Gibt unsere Funktion den richtigen Wert aus?'''"
   ]
  },
  {
   "cell_type": "code",
   "execution_count": 12,
   "metadata": {},
   "outputs": [
    {
     "data": {
      "text/plain": [
       "'\\nDies ist ein Text mit drei Zeilen.\\nZwischen der zweiten und dritten Zeile hat es einen doppelten Umbruch.\\n\\nGibt unsere Funktion den richtigen Wert aus?'"
      ]
     },
     "execution_count": 12,
     "metadata": {},
     "output_type": "execute_result"
    }
   ],
   "source": [
    "test_text"
   ]
  },
  {
   "cell_type": "code",
   "execution_count": 13,
   "metadata": {},
   "outputs": [
    {
     "name": "stdout",
     "output_type": "stream",
     "text": [
      "\n",
      "Dies ist ein Text mit drei Zeilen.\n",
      "Zwischen der zweiten und dritten Zeile hat es einen doppelten Umbruch.\n",
      "\n",
      "Gibt unsere Funktion den richtigen Wert aus?\n"
     ]
    }
   ],
   "source": [
    "print(test_text)"
   ]
  },
  {
   "cell_type": "code",
   "execution_count": 14,
   "metadata": {},
   "outputs": [
    {
     "data": {
      "text/plain": [
       "3"
      ]
     },
     "execution_count": 14,
     "metadata": {},
     "output_type": "execute_result"
    }
   ],
   "source": [
    "zeilenzahl(test_text)"
   ]
  },
  {
   "cell_type": "markdown",
   "metadata": {},
   "source": [
    "### Funktion anwenden"
   ]
  },
  {
   "cell_type": "markdown",
   "metadata": {},
   "source": [
    "Damit wir unsere Zählfunkion auf alle Songtexte in der Datenbank anwenden können, brauchen wir `apply()`.\n",
    "\n",
    "Pandas wendet dann unsere Funktion `zeilenzahl()` auf jedes der Elemente in der Series `df['Songtext']` an."
   ]
  },
  {
   "cell_type": "code",
   "execution_count": 15,
   "metadata": {},
   "outputs": [
    {
     "data": {
      "text/plain": [
       "0     37\n",
       "1     75\n",
       "2     71\n",
       "3     19\n",
       "4     72\n",
       "      ..\n",
       "95    94\n",
       "96    48\n",
       "97    84\n",
       "98    74\n",
       "99    76\n",
       "Name: Songtext, Length: 100, dtype: int64"
      ]
     },
     "execution_count": 15,
     "metadata": {},
     "output_type": "execute_result"
    }
   ],
   "source": [
    "df['Songtext'].apply(zeilenzahl)"
   ]
  },
  {
   "cell_type": "markdown",
   "metadata": {},
   "source": [
    "Notice: Wir müssen in die Klammern der Funktion `zeilenzahl` hier kein Argument angeben!"
   ]
  },
  {
   "cell_type": "markdown",
   "metadata": {},
   "source": [
    "Warum brauchen wir `apply()`? Weil dieser Befehl hier nicht funktioniert"
   ]
  },
  {
   "cell_type": "code",
   "execution_count": 16,
   "metadata": {},
   "outputs": [],
   "source": [
    "# zeilenzahl(df['Songtext'])"
   ]
  },
  {
   "cell_type": "markdown",
   "metadata": {},
   "source": [
    "### Ergebnis speichern"
   ]
  },
  {
   "cell_type": "markdown",
   "metadata": {},
   "source": [
    "Das Resultat können wir auch als separate Spalte speichern:"
   ]
  },
  {
   "cell_type": "code",
   "execution_count": 17,
   "metadata": {},
   "outputs": [],
   "source": [
    "df['Zeilenzahl'] = df['Songtext'].apply(zeilenzahl)"
   ]
  },
  {
   "cell_type": "code",
   "execution_count": 18,
   "metadata": {},
   "outputs": [
    {
     "data": {
      "text/html": [
       "<div>\n",
       "<style scoped>\n",
       "    .dataframe tbody tr th:only-of-type {\n",
       "        vertical-align: middle;\n",
       "    }\n",
       "\n",
       "    .dataframe tbody tr th {\n",
       "        vertical-align: top;\n",
       "    }\n",
       "\n",
       "    .dataframe thead th {\n",
       "        text-align: right;\n",
       "    }\n",
       "</style>\n",
       "<table border=\"1\" class=\"dataframe\">\n",
       "  <thead>\n",
       "    <tr style=\"text-align: right;\">\n",
       "      <th></th>\n",
       "      <th>Rang</th>\n",
       "      <th>Artist</th>\n",
       "      <th>Titel</th>\n",
       "      <th>Eintritt</th>\n",
       "      <th>Wochen</th>\n",
       "      <th>Peak</th>\n",
       "      <th>Punkte</th>\n",
       "      <th>Link</th>\n",
       "      <th>Songtext</th>\n",
       "      <th>Zeilenzahl</th>\n",
       "    </tr>\n",
       "  </thead>\n",
       "  <tbody>\n",
       "    <tr>\n",
       "      <th>0</th>\n",
       "      <td>1</td>\n",
       "      <td>DJ Ötzi &amp; Nik P.</td>\n",
       "      <td>Ein Stern (... der deinen Namen trägt)</td>\n",
       "      <td>18.02.2007</td>\n",
       "      <td>118</td>\n",
       "      <td>2</td>\n",
       "      <td>8109</td>\n",
       "      <td>/song/DJ-Oetzi-&amp;-Nik-P./Ein-Stern-(...-der-deinen-Namen-traegt)-283118</td>\n",
       "      <td>Einen Stern, der deinen Namen trägt\\nHoch am Himmelszelt\\nDen schenk ich Dir heut' Nacht\\nEinen Stern, der deinen Namen trägt\\nAlle Zeiten überlebt\\nUnd über unsere Liebe wacht\\n\\nSeit Jahren schon leb ich mit Dir\\nUnd ich danke Gott dafür\\ndass er mir Dich gegeben hat\\nAls Erinnerung an unser Leben\\nMöchte ich Dir heut' etwas geben\\nEin Geschenk für alle Ewigkeit\\n\\nEinen Stern, der deinen Namen trägt\\nHoch am Himmelszelt\\nDen schenk ich Dir heut' Nacht\\nEinen Stern, der deinen Namen trägt\\nAlle Zeiten überlebt\\nUnd über unsere Liebe wacht\\n\\nIrgendwann ist es vorbei\\nUnd im Himmel wird Platz für uns zwei\\nDoch Dein Stern bleibt oben für immer und ewig stehn\\nUnd auch noch in 1000 Jahren\\nWird er deinen Namen tragen\\nUnd immer noch der schönste von allen sein\\n\\nEinen Stern, der deinen Namen trägt\\nHoch am Himmelszelt\\nDen schenk ich Dir heut' Nacht\\nEinen Stern, der deinen Namen trägt\\nAlle Zeiten überlebt\\nUnd über unsere Liebe wacht\\n\\nFünf, Vier, Drei, Zwo, Eins, Zero\\n\\nEinen Stern, der deinen Namen trägt\\nHoch am Himmelszelt\\nDen schenk ich Dir heut' Nacht (Einen Stern)\\nEinen Stern, der deinen Namen trägt\\nAlle Zeiten überlebt\\nUnd über unsere Liebe wacht\\n(Einen Stern, einen Stern)</td>\n",
       "      <td>37</td>\n",
       "    </tr>\n",
       "    <tr>\n",
       "      <th>1</th>\n",
       "      <td>2</td>\n",
       "      <td>Ed Sheeran</td>\n",
       "      <td>Shape Of You</td>\n",
       "      <td>15.01.2017</td>\n",
       "      <td>93</td>\n",
       "      <td>1</td>\n",
       "      <td>7196</td>\n",
       "      <td>/song/Ed-Sheeran/Shape-Of-You-1622943</td>\n",
       "      <td>The club isn't the best place to find a lover\\nSo the bar is where I go\\nMe and my friends at the table doing shots\\nDrinking fast and then we talk slow\\n\\nCome over and start up a conversation with just me\\nAnd trust me, I'll give it a chance\\nNow take my hand, stop, put Van The Man on the jukebox\\nAnd then we start to dance\\n\\nSay: Boy, let's not talk too much\\nGrab on my waist and put that body on me\\nCome on now, follow my lead\\nCome, come on now, follow my lead\\n\\nI'm in love\\nI'm in love\\nI'm in love\\nI'm in love shape of dance\\nI'm in love\\ndance\\nI'm in love\\nI'm in love in the shape of...\\n\\nI'm in love with the shape of you\\nWe push and pull like a magnet do\\nAlthough my heart is falling too\\nI'm in love with your body\\nAnd last night you were in my room\\nAnd now my bedsheets smell like you\\nEvery day discovering something brand new\\nI'm in love with your body\\nI'm in love with your body\\nEvery day discovering something brand new\\n\\nI'm in love with the shape of you\\nI'm in love\\nI'm in love\\nI'm in love\\nI'm in love shape of dance\\nI'm in love\\ndance\\nI'm in love\\nI' m in love in the shape of...\\n\\nOne week in we let the story begin\\nWe're going out on our first date\\nYou and me are thrifty, so go all you can eat\\nFill up your bag and I fill up a plate\\n\\nWe talk for hours and hours about the sweet and the sour\\nAnd how your family is doing okay\\nLeave and get in a taxi, then kiss in the backseat\\nTell the driver make the radio play\\n\\nSay: Boy, let's not talk too much\\nGrab on my waist and put that body on me\\nCome on now, follow my lead\\nCome, come on now, follow my lead\\n\\nI'm in love\\nI'm in love\\nI'm in lo-lo-love\\nI'm in love shape of\\ndance\\nI'm in love\\ndance\\nI'm in love with the shape of you\\nI'm in lo-lo-love\\ndance\\nI'm in love with the shape of you\\n\\nI'm in love with the shape of you\\nWe push and pull like a magnet do\\nAlthough my heart is falling too\\nI'm in love with your body\\nDance\\nAnd last night you were in my room\\nAnd now my beds...</td>\n",
       "      <td>75</td>\n",
       "    </tr>\n",
       "    <tr>\n",
       "      <th>2</th>\n",
       "      <td>3</td>\n",
       "      <td>Luis Fonsi feat. Daddy Yankee</td>\n",
       "      <td>Despacito</td>\n",
       "      <td>22.01.2017</td>\n",
       "      <td>90</td>\n",
       "      <td>1</td>\n",
       "      <td>6854</td>\n",
       "      <td>/song/Luis-Fonsi-feat.-Daddy-Yankee/Despacito-1625640</td>\n",
       "      <td>Ay\\nFonsi, DY\\nOh, oh no, oh no (ey)\\nHey, yeah, diri-diri-diriridi, Daddy, go!\\n\\nSí, sabes que ya llevo un rato mirándote\\nTengo que bailar contigo hoy (DY)\\nVi que tu mirada ya estaba llamándome\\nMuéstrame el camino, que yo voy (oh)\\n\\nTú, tú eres el imán y yo soy el metal\\nMe voy acercando y voy armando el plan\\nSólo con pensarlo se acelera el pulso (oh, yeah)\\n\\nYa, ya me estás gustando más de lo normal\\nTodos mis sentidos van pidiendo más\\nEsto hay que tomarlo sin ningún apuro\\n\\nDespacito\\nQuiero respirar tu cuello despacito\\nDeja que te diga cosas al oído\\nPara que te acuerdes si no estás conmigo\\n\\nDespacito\\nQuiero desnudarte a besos despacito\\nFirmar las paredes de tu laberinto\\nY hacer de tu cuerpo todo un manuscrito (sube, sube, sube)\\nSube, sube (oh)\\n\\nQuiero ver bailar tu pelo, quiero ser tu ritmo\\nQue le enseñes a mi boca tus lugares favoritos\\n(Favoritos, favoritos, baby)\\nDéjame sobrepasar tus zonas de peligro\\nHasta provocar tus gritos y que olvides tu apellido\\n\\nSi te pido un beso, ven, dámelo\\nYo sé que estás pensándolo\\nLlevo tiempo intentándolo\\nMami, esto es dando y dándolo\\n\\nSabes que tu corazón conmigo te hace \"bam-bam\"\\nSabes que esa beba está buscando de mi \"bam-bam\"\\n\\nVen, prueba de mi boca para ver cómo te sabe\\nQuiero, quiero, quiero ver cuánto amor a ti te cabe\\nYo no tengo prisa, yo me quiero dar el viaje\\nEmpezamos lento, después salvaje\\n\\nPasito a pasito, suave, suavecito\\nNos vamos pegando poquito a poquito\\nCuando tú me besas con esa destreza\\nVeo que eres malicia con delicadeza\\n\\nPasito a pasito, suave, suavecito\\nNos vamos pegando poquito a poquito\\nY es que esa belleza es un rompecabezas\\nPero pa' montarlo, aquí tengo la pieza, oye\\n\\nDespacito\\nQuiero respirar tu cuello despacito\\nDeja que te diga cosas al oído\\nPara que te acuerdes si no estás conmigo\\n\\nDespacito\\nQuiero desnudarte a besos despacito\\nFirmar las paredes de tu laberinto\\nY hacer de tu cuerpo todo un manuscrito (sube, sube, sube)\\nSube, sube (oh)\\n\\n...</td>\n",
       "      <td>71</td>\n",
       "    </tr>\n",
       "    <tr>\n",
       "      <th>3</th>\n",
       "      <td>4</td>\n",
       "      <td>DJ Antoine feat. The Beat Shakers</td>\n",
       "      <td>\"Ma chérie\"</td>\n",
       "      <td>06.06.2010</td>\n",
       "      <td>99</td>\n",
       "      <td>2</td>\n",
       "      <td>6745</td>\n",
       "      <td>/song/DJ-Antoine-feat.-The-Beat-Shakers/Ma-cherie-711060</td>\n",
       "      <td>When I look into your eyes\\nI see rainbows in the skies.\\nBaby when you're close to me\\nI know you are ma cherie.\\n\\nWe are gonna dance into the sea\\nAll I want is you - you're ma cherie\\nNever seen a girl that 's so jolie\\nAll I want is you - you're ma cherie\\n\\nMa cherie,\\n\\nTake my hand and come with me.\\n\\nWe don 't need to run or hide\\nI'll be there to hold you tight\\nYou and me, we are on fire\\nMa cherie, you're my desire\\n\\nWe are gonna dance into the sea\\nAll I want is you - you're ma cherie\\nNever seen a girl that 's so jolie\\nAll I want is you - you're ma cherie\\n\\nI will take you higher x4\\n\\nYou 're my love, you 're ma cherie.</td>\n",
       "      <td>19</td>\n",
       "    </tr>\n",
       "    <tr>\n",
       "      <th>4</th>\n",
       "      <td>5</td>\n",
       "      <td>Adele</td>\n",
       "      <td>Rolling In The Deep</td>\n",
       "      <td>30.01.2011</td>\n",
       "      <td>93</td>\n",
       "      <td>1</td>\n",
       "      <td>6588</td>\n",
       "      <td>/song/Adele/Rolling-In-The-Deep-767937</td>\n",
       "      <td>There's a fire starting in my heart\\nReaching a fever pitch and it's bring me out the dark\\nFinally, I can see you crystal clear\\nGo ahead and sell me out and I'll lay your ship bare\\n\\nSee how I'll leave with every piece of you\\nDon't underestimate the things that I will do\\nThere's a fire starting in my heart\\nReaching a fever pitch and it's bring me out the dark\\n\\nThe scars of your love remind me of us\\nThey keep me thinking that we almost had it all\\nThe scars of your love, they leave me breathless\\nI can't help feeling\\n\\nWe could have had it all\\n(You're gonna wish you never had met me)\\nRolling in the deep\\n(Tears are gonna fall, rolling in the deep)\\nYou had my heart inside of your hands\\n(You're gonna wish you never had met me)\\nAnd you played it to the beat\\n(Tears are gonna fall, rolling in the deep)\\n\\nBaby, I have no story to be told\\nBut I've heard one on you and I'm gonna make your head burn\\nThink of me in the depths of your despair\\nMake a home down there as mine sure won't be shared\\n\\nThe scars of your love remind me of us\\n(You're gonna wish you never had met me)\\nThey keep me thinking that we almost had it all\\n(Tears are gonna fall, rolling in the deep)\\nThe scars of your love, they leave me breathless\\n(You're gonna wish you never had met me)\\nI can't help feeling\\n(Tears are gonna fall, rolling in the deep)\\n\\nWe could have had it all\\n(You're gonna wish you never had met me)\\nRolling in the deep\\n(Tears are gonna fall, rolling in the deep)\\nYou had my heart inside of your hands\\n(You're gonna wish you never had met me)\\nAnd you played it to the beat\\n(Tears are gonna fall, rolling in the deep)\\n\\nCould have had it all\\nRolling in the deep\\nYou had my heart inside of your hands\\nBut you played it with a beating\\n\\nThrow your soul through every open door\\nCount your blessings to find what you look for\\nTurn my sorrow into treasured gold\\nYou'll pay me back in kind and reap just what you've sown\\n\\n(You're gonna wish you never had met me)\\...</td>\n",
       "      <td>72</td>\n",
       "    </tr>\n",
       "  </tbody>\n",
       "</table>\n",
       "</div>"
      ],
      "text/plain": [
       "   Rang                             Artist  \\\n",
       "0     1                   DJ Ötzi & Nik P.   \n",
       "1     2                         Ed Sheeran   \n",
       "2     3      Luis Fonsi feat. Daddy Yankee   \n",
       "3     4  DJ Antoine feat. The Beat Shakers   \n",
       "4     5                              Adele   \n",
       "\n",
       "                                    Titel    Eintritt  Wochen  Peak  Punkte  \\\n",
       "0  Ein Stern (... der deinen Namen trägt)  18.02.2007     118     2    8109   \n",
       "1                            Shape Of You  15.01.2017      93     1    7196   \n",
       "2                               Despacito  22.01.2017      90     1    6854   \n",
       "3                             \"Ma chérie\"  06.06.2010      99     2    6745   \n",
       "4                     Rolling In The Deep  30.01.2011      93     1    6588   \n",
       "\n",
       "                                                                     Link  \\\n",
       "0  /song/DJ-Oetzi-&-Nik-P./Ein-Stern-(...-der-deinen-Namen-traegt)-283118   \n",
       "1                                   /song/Ed-Sheeran/Shape-Of-You-1622943   \n",
       "2                   /song/Luis-Fonsi-feat.-Daddy-Yankee/Despacito-1625640   \n",
       "3                /song/DJ-Antoine-feat.-The-Beat-Shakers/Ma-cherie-711060   \n",
       "4                                  /song/Adele/Rolling-In-The-Deep-767937   \n",
       "\n",
       "                                                                                                                                                                                                                                                                                                                                                                                                                                                                                                                                                                                                                                                                                                                                                                                                                                                                                                                                                                                                                                                                                                                                                                                                                                                                                                                                                                                                                                                                                                                                                                                                                                                                                                                                                                                                                                                                                                                                                                                                                                                                          Songtext  \\\n",
       "0                                                                                                                                                                                                                                                                                                                                                                                                                                                                                                                                                                                                                                                                                                                                                                                                                        Einen Stern, der deinen Namen trägt\\nHoch am Himmelszelt\\nDen schenk ich Dir heut' Nacht\\nEinen Stern, der deinen Namen trägt\\nAlle Zeiten überlebt\\nUnd über unsere Liebe wacht\\n\\nSeit Jahren schon leb ich mit Dir\\nUnd ich danke Gott dafür\\ndass er mir Dich gegeben hat\\nAls Erinnerung an unser Leben\\nMöchte ich Dir heut' etwas geben\\nEin Geschenk für alle Ewigkeit\\n\\nEinen Stern, der deinen Namen trägt\\nHoch am Himmelszelt\\nDen schenk ich Dir heut' Nacht\\nEinen Stern, der deinen Namen trägt\\nAlle Zeiten überlebt\\nUnd über unsere Liebe wacht\\n\\nIrgendwann ist es vorbei\\nUnd im Himmel wird Platz für uns zwei\\nDoch Dein Stern bleibt oben für immer und ewig stehn\\nUnd auch noch in 1000 Jahren\\nWird er deinen Namen tragen\\nUnd immer noch der schönste von allen sein\\n\\nEinen Stern, der deinen Namen trägt\\nHoch am Himmelszelt\\nDen schenk ich Dir heut' Nacht\\nEinen Stern, der deinen Namen trägt\\nAlle Zeiten überlebt\\nUnd über unsere Liebe wacht\\n\\nFünf, Vier, Drei, Zwo, Eins, Zero\\n\\nEinen Stern, der deinen Namen trägt\\nHoch am Himmelszelt\\nDen schenk ich Dir heut' Nacht (Einen Stern)\\nEinen Stern, der deinen Namen trägt\\nAlle Zeiten überlebt\\nUnd über unsere Liebe wacht\\n(Einen Stern, einen Stern)   \n",
       "1  The club isn't the best place to find a lover\\nSo the bar is where I go\\nMe and my friends at the table doing shots\\nDrinking fast and then we talk slow\\n\\nCome over and start up a conversation with just me\\nAnd trust me, I'll give it a chance\\nNow take my hand, stop, put Van The Man on the jukebox\\nAnd then we start to dance\\n\\nSay: Boy, let's not talk too much\\nGrab on my waist and put that body on me\\nCome on now, follow my lead\\nCome, come on now, follow my lead\\n\\nI'm in love\\nI'm in love\\nI'm in love\\nI'm in love shape of dance\\nI'm in love\\ndance\\nI'm in love\\nI'm in love in the shape of...\\n\\nI'm in love with the shape of you\\nWe push and pull like a magnet do\\nAlthough my heart is falling too\\nI'm in love with your body\\nAnd last night you were in my room\\nAnd now my bedsheets smell like you\\nEvery day discovering something brand new\\nI'm in love with your body\\nI'm in love with your body\\nEvery day discovering something brand new\\n\\nI'm in love with the shape of you\\nI'm in love\\nI'm in love\\nI'm in love\\nI'm in love shape of dance\\nI'm in love\\ndance\\nI'm in love\\nI' m in love in the shape of...\\n\\nOne week in we let the story begin\\nWe're going out on our first date\\nYou and me are thrifty, so go all you can eat\\nFill up your bag and I fill up a plate\\n\\nWe talk for hours and hours about the sweet and the sour\\nAnd how your family is doing okay\\nLeave and get in a taxi, then kiss in the backseat\\nTell the driver make the radio play\\n\\nSay: Boy, let's not talk too much\\nGrab on my waist and put that body on me\\nCome on now, follow my lead\\nCome, come on now, follow my lead\\n\\nI'm in love\\nI'm in love\\nI'm in lo-lo-love\\nI'm in love shape of\\ndance\\nI'm in love\\ndance\\nI'm in love with the shape of you\\nI'm in lo-lo-love\\ndance\\nI'm in love with the shape of you\\n\\nI'm in love with the shape of you\\nWe push and pull like a magnet do\\nAlthough my heart is falling too\\nI'm in love with your body\\nDance\\nAnd last night you were in my room\\nAnd now my beds...   \n",
       "2  Ay\\nFonsi, DY\\nOh, oh no, oh no (ey)\\nHey, yeah, diri-diri-diriridi, Daddy, go!\\n\\nSí, sabes que ya llevo un rato mirándote\\nTengo que bailar contigo hoy (DY)\\nVi que tu mirada ya estaba llamándome\\nMuéstrame el camino, que yo voy (oh)\\n\\nTú, tú eres el imán y yo soy el metal\\nMe voy acercando y voy armando el plan\\nSólo con pensarlo se acelera el pulso (oh, yeah)\\n\\nYa, ya me estás gustando más de lo normal\\nTodos mis sentidos van pidiendo más\\nEsto hay que tomarlo sin ningún apuro\\n\\nDespacito\\nQuiero respirar tu cuello despacito\\nDeja que te diga cosas al oído\\nPara que te acuerdes si no estás conmigo\\n\\nDespacito\\nQuiero desnudarte a besos despacito\\nFirmar las paredes de tu laberinto\\nY hacer de tu cuerpo todo un manuscrito (sube, sube, sube)\\nSube, sube (oh)\\n\\nQuiero ver bailar tu pelo, quiero ser tu ritmo\\nQue le enseñes a mi boca tus lugares favoritos\\n(Favoritos, favoritos, baby)\\nDéjame sobrepasar tus zonas de peligro\\nHasta provocar tus gritos y que olvides tu apellido\\n\\nSi te pido un beso, ven, dámelo\\nYo sé que estás pensándolo\\nLlevo tiempo intentándolo\\nMami, esto es dando y dándolo\\n\\nSabes que tu corazón conmigo te hace \"bam-bam\"\\nSabes que esa beba está buscando de mi \"bam-bam\"\\n\\nVen, prueba de mi boca para ver cómo te sabe\\nQuiero, quiero, quiero ver cuánto amor a ti te cabe\\nYo no tengo prisa, yo me quiero dar el viaje\\nEmpezamos lento, después salvaje\\n\\nPasito a pasito, suave, suavecito\\nNos vamos pegando poquito a poquito\\nCuando tú me besas con esa destreza\\nVeo que eres malicia con delicadeza\\n\\nPasito a pasito, suave, suavecito\\nNos vamos pegando poquito a poquito\\nY es que esa belleza es un rompecabezas\\nPero pa' montarlo, aquí tengo la pieza, oye\\n\\nDespacito\\nQuiero respirar tu cuello despacito\\nDeja que te diga cosas al oído\\nPara que te acuerdes si no estás conmigo\\n\\nDespacito\\nQuiero desnudarte a besos despacito\\nFirmar las paredes de tu laberinto\\nY hacer de tu cuerpo todo un manuscrito (sube, sube, sube)\\nSube, sube (oh)\\n\\n...   \n",
       "3                                                                                                                                                                                                                                                                                                                                                                                                                                                                                                                                                                                                                                                                                                                                                                                                                                                                                                                                                                                                                                                                                                                                                                                                                                                                                                                                                                                                           When I look into your eyes\\nI see rainbows in the skies.\\nBaby when you're close to me\\nI know you are ma cherie.\\n\\nWe are gonna dance into the sea\\nAll I want is you - you're ma cherie\\nNever seen a girl that 's so jolie\\nAll I want is you - you're ma cherie\\n\\nMa cherie,\\n\\nTake my hand and come with me.\\n\\nWe don 't need to run or hide\\nI'll be there to hold you tight\\nYou and me, we are on fire\\nMa cherie, you're my desire\\n\\nWe are gonna dance into the sea\\nAll I want is you - you're ma cherie\\nNever seen a girl that 's so jolie\\nAll I want is you - you're ma cherie\\n\\nI will take you higher x4\\n\\nYou 're my love, you 're ma cherie.   \n",
       "4  There's a fire starting in my heart\\nReaching a fever pitch and it's bring me out the dark\\nFinally, I can see you crystal clear\\nGo ahead and sell me out and I'll lay your ship bare\\n\\nSee how I'll leave with every piece of you\\nDon't underestimate the things that I will do\\nThere's a fire starting in my heart\\nReaching a fever pitch and it's bring me out the dark\\n\\nThe scars of your love remind me of us\\nThey keep me thinking that we almost had it all\\nThe scars of your love, they leave me breathless\\nI can't help feeling\\n\\nWe could have had it all\\n(You're gonna wish you never had met me)\\nRolling in the deep\\n(Tears are gonna fall, rolling in the deep)\\nYou had my heart inside of your hands\\n(You're gonna wish you never had met me)\\nAnd you played it to the beat\\n(Tears are gonna fall, rolling in the deep)\\n\\nBaby, I have no story to be told\\nBut I've heard one on you and I'm gonna make your head burn\\nThink of me in the depths of your despair\\nMake a home down there as mine sure won't be shared\\n\\nThe scars of your love remind me of us\\n(You're gonna wish you never had met me)\\nThey keep me thinking that we almost had it all\\n(Tears are gonna fall, rolling in the deep)\\nThe scars of your love, they leave me breathless\\n(You're gonna wish you never had met me)\\nI can't help feeling\\n(Tears are gonna fall, rolling in the deep)\\n\\nWe could have had it all\\n(You're gonna wish you never had met me)\\nRolling in the deep\\n(Tears are gonna fall, rolling in the deep)\\nYou had my heart inside of your hands\\n(You're gonna wish you never had met me)\\nAnd you played it to the beat\\n(Tears are gonna fall, rolling in the deep)\\n\\nCould have had it all\\nRolling in the deep\\nYou had my heart inside of your hands\\nBut you played it with a beating\\n\\nThrow your soul through every open door\\nCount your blessings to find what you look for\\nTurn my sorrow into treasured gold\\nYou'll pay me back in kind and reap just what you've sown\\n\\n(You're gonna wish you never had met me)\\...   \n",
       "\n",
       "   Zeilenzahl  \n",
       "0          37  \n",
       "1          75  \n",
       "2          71  \n",
       "3          19  \n",
       "4          72  "
      ]
     },
     "execution_count": 18,
     "metadata": {},
     "output_type": "execute_result"
    }
   ],
   "source": [
    "df.head()"
   ]
  },
  {
   "cell_type": "code",
   "execution_count": null,
   "metadata": {},
   "outputs": [],
   "source": []
  },
  {
   "cell_type": "markdown",
   "metadata": {},
   "source": [
    "### Analyse"
   ]
  },
  {
   "cell_type": "markdown",
   "metadata": {},
   "source": [
    "Zum Beispiel die Fragestellung: Wie hat sich die Länge der Songtexte über die Zeit verändert?"
   ]
  },
  {
   "cell_type": "code",
   "execution_count": 36,
   "metadata": {},
   "outputs": [],
   "source": [
    "df['Eintritt'] = pd.to_datetime(df['Eintritt'], format=\"%d.%m.%Y\")"
   ]
  },
  {
   "cell_type": "code",
   "execution_count": 20,
   "metadata": {},
   "outputs": [
    {
     "data": {
      "text/plain": [
       "<AxesSubplot:title={'center':'Hat sich die Länge der Songtexte verändert?'}, xlabel='Eintritt'>"
      ]
     },
     "execution_count": 20,
     "metadata": {},
     "output_type": "execute_result"
    },
    {
     "data": {
      "image/png": "[encoded data removed]",
      "text/plain": [
       "<Figure size 1000x600 with 1 Axes>"
      ]
     },
     "metadata": {},
     "output_type": "display_data"
    }
   ],
   "source": [
    "df_temp = df[(df['Eintritt'].dt.year >= 2005) & (df['Zeilenzahl'] != 0)]\n",
    "df_temp.plot(x='Eintritt', y='Zeilenzahl', figsize=(10,6), title=\"Hat sich die Länge der Songtexte verändert?\")"
   ]
  },
  {
   "cell_type": "markdown",
   "metadata": {},
   "source": [
    "## Analyse über mehrere Datenfelder"
   ]
  },
  {
   "cell_type": "markdown",
   "metadata": {},
   "source": [
    "Pandas `apply()` kann nicht nur verwendet werden, um die Elemente einer Series zu verarbeiten, sondern auch um eine Funktion zeilenweise auf ein Dataframe anzuwenden. Das ist nötig, sobald wir Inputs aus mehreren Spalten brauchen.\n",
    "\n",
    "Zum Beispiel die Frage: Wie oft kommt der Songtitel im Songtext vor?"
   ]
  },
  {
   "cell_type": "markdown",
   "metadata": {},
   "source": [
    "### Funktion schreiben"
   ]
  },
  {
   "cell_type": "markdown",
   "metadata": {},
   "source": [
    "Wir brauchen eine Funktion:\n",
    "- mit einem Input: Die ganze Tabellenzeile *als Series bzw. Dictionary*\n",
    "- mit einem Output: Anzazhl Repetitionen\n",
    "- Achtung auf Sonderzeichen im Titel!"
   ]
  },
  {
   "cell_type": "code",
   "execution_count": 21,
   "metadata": {},
   "outputs": [],
   "source": [
    "def wiederholungen(row):\n",
    "    \n",
    "    # Zuerst erstellen wir eine Liste von Sonderzeichen\n",
    "    sonderzeichen = ['!', '\"', '&', \"'\", '(', ')', '–', '.', '?']\n",
    "    \n",
    "    # Wir entfernen diese Sonderzeichen aus dem Titel und Text\n",
    "    bereinigter_titel = row['Titel']\n",
    "    bereinigter_text = row['Songtext']\n",
    "\n",
    "    for zeichen in sonderzeichen:\n",
    "        bereinigter_titel = bereinigter_titel.replace(zeichen, \"\")\n",
    "        bereinigter_text = bereinigter_text.replace(zeichen, \"\")\n",
    "        \n",
    "    # Jetzt können wir die Zählung starten\n",
    "\n",
    "    wiederholungen = bereinigter_text.count(bereinigter_titel)\n",
    "    \n",
    "    return wiederholungen"
   ]
  },
  {
   "cell_type": "markdown",
   "metadata": {},
   "source": [
    "### Funktion Testen"
   ]
  },
  {
   "cell_type": "code",
   "execution_count": 22,
   "metadata": {},
   "outputs": [],
   "source": [
    "titel = \"Ho! Ho! Ho!\""
   ]
  },
  {
   "cell_type": "code",
   "execution_count": 23,
   "metadata": {},
   "outputs": [],
   "source": [
    "songtext = '''\n",
    "Dies ist das Lied vom Weihnachtsmann\n",
    "Ho Ho Ho\n",
    "Der Weihnachtsmann kommt an Weihnachten\n",
    "Ho Ho Ho\n",
    "Kommt der Weihnachtsmann an Weihnachten?\n",
    "Ho? Ho? Ho?\n",
    "Ja er kommt an Weihnachten\n",
    "Ho Ho Ho\n",
    "'''"
   ]
  },
  {
   "cell_type": "code",
   "execution_count": 24,
   "metadata": {},
   "outputs": [],
   "source": [
    "row = {\n",
    "    'Titel': titel,\n",
    "    'Songtext': songtext\n",
    "}"
   ]
  },
  {
   "cell_type": "code",
   "execution_count": 25,
   "metadata": {},
   "outputs": [
    {
     "data": {
      "text/plain": [
       "4"
      ]
     },
     "execution_count": 25,
     "metadata": {},
     "output_type": "execute_result"
    }
   ],
   "source": [
    "wiederholungen(row)"
   ]
  },
  {
   "cell_type": "markdown",
   "metadata": {},
   "source": [
    "### Funktion anwenden"
   ]
  },
  {
   "cell_type": "markdown",
   "metadata": {},
   "source": [
    "Das lässige ist: Die Funktion weiss jetzt automatisch, welche Spalte es sich rauspicken muss.\n",
    "\n",
    "Mit `apply()` wenden wir nun die Funktio `wiederholungen()` auf jede Zeile in unserem `df` an.\n",
    "\n",
    "Achtung auf Parameter `axis=1`!"
   ]
  },
  {
   "cell_type": "code",
   "execution_count": 26,
   "metadata": {},
   "outputs": [
    {
     "data": {
      "text/plain": [
       "0     0\n",
       "1     0\n",
       "2     6\n",
       "3     0\n",
       "4     0\n",
       "     ..\n",
       "95    3\n",
       "96    0\n",
       "97    0\n",
       "98    0\n",
       "99    0\n",
       "Length: 100, dtype: int64"
      ]
     },
     "execution_count": 26,
     "metadata": {},
     "output_type": "execute_result"
    }
   ],
   "source": [
    "df.apply(wiederholungen, axis=1)"
   ]
  },
  {
   "cell_type": "markdown",
   "metadata": {},
   "source": [
    "Das Ergebnis können wir wiederum speichern..."
   ]
  },
  {
   "cell_type": "code",
   "execution_count": 27,
   "metadata": {},
   "outputs": [],
   "source": [
    "df['Wiederholungen'] = df.apply(wiederholungen, axis=1)"
   ]
  },
  {
   "cell_type": "markdown",
   "metadata": {},
   "source": [
    "Wie sieht das aus?"
   ]
  },
  {
   "cell_type": "code",
   "execution_count": 28,
   "metadata": {},
   "outputs": [
    {
     "data": {
      "text/plain": [
       "0     85\n",
       "6      3\n",
       "5      2\n",
       "4      1\n",
       "12     1\n",
       "2      1\n",
       "10     1\n",
       "29     1\n",
       "15     1\n",
       "1      1\n",
       "8      1\n",
       "22     1\n",
       "3      1\n",
       "Name: Wiederholungen, dtype: int64"
      ]
     },
     "execution_count": 28,
     "metadata": {},
     "output_type": "execute_result"
    }
   ],
   "source": [
    "df['Wiederholungen'].value_counts()"
   ]
  },
  {
   "cell_type": "code",
   "execution_count": 29,
   "metadata": {},
   "outputs": [
    {
     "data": {
      "text/html": [
       "<div>\n",
       "<style scoped>\n",
       "    .dataframe tbody tr th:only-of-type {\n",
       "        vertical-align: middle;\n",
       "    }\n",
       "\n",
       "    .dataframe tbody tr th {\n",
       "        vertical-align: top;\n",
       "    }\n",
       "\n",
       "    .dataframe thead th {\n",
       "        text-align: right;\n",
       "    }\n",
       "</style>\n",
       "<table border=\"1\" class=\"dataframe\">\n",
       "  <thead>\n",
       "    <tr style=\"text-align: right;\">\n",
       "      <th></th>\n",
       "      <th>Rang</th>\n",
       "      <th>Artist</th>\n",
       "      <th>Titel</th>\n",
       "      <th>Eintritt</th>\n",
       "      <th>Wochen</th>\n",
       "      <th>Peak</th>\n",
       "      <th>Punkte</th>\n",
       "      <th>Link</th>\n",
       "      <th>Songtext</th>\n",
       "      <th>Zeilenzahl</th>\n",
       "      <th>Wiederholungen</th>\n",
       "    </tr>\n",
       "  </thead>\n",
       "  <tbody>\n",
       "    <tr>\n",
       "      <th>52</th>\n",
       "      <td>53</td>\n",
       "      <td>Mark Ronson feat. Bruno Mars</td>\n",
       "      <td>Uptown Funk!</td>\n",
       "      <td>2014-11-23</td>\n",
       "      <td>65</td>\n",
       "      <td>2</td>\n",
       "      <td>4498</td>\n",
       "      <td>/song/Mark-Ronson-feat.-Bruno-Mars/Uptown-Funk!-1355997</td>\n",
       "      <td>This hit\\nThat ice cold\\nMichelle Pfeiffer\\nThat white gold\\nThis one, for them hood girls\\nThem good girls\\nStraight masterpieces\\nStylin', while in\\nLivin' it up in the city\\nGot Chucks on with Saint Laurent\\nGot kiss myself I'm so pretty\\n\\nI'm too hot (hot damn)\\nCalled a police and a fireman\\nI'm too hot (hot damn)\\nMake a dragon wanna retire man\\nI'm too hot (hot damn)\\nSay my name you know who I am\\nI'm too hot (hot damn)\\nAm I bad 'bout that money\\nBreak it down\\n\\nGirls hit your hallelujah (whuoo)\\nGirls hit your hallelujah (whuoo)\\nGirls hit your hallelujah (whuoo)\\n'Cause Uptown Funk gon' give it to you\\n'Cause Uptown Funk gon' give it to you\\n'Cause Uptown Funk gon' give it to you\\nSaturday night and we in the spot\\nDon't believe me just watch (come on)\\nDon't believe me just watch\\nDon't believe me just watch\\nDon't believe me just watch\\nDon't believe me just watch\\nDon't believe me just watch\\nHey, hey, hey, oh!\\n\\nStop\\nWait a minute\\nFill my cup put some liquor in it\\nTake a sip, sign a check\\nJulio! Get the stretch!\\nRide to Harlem, Hollywood, Jackson, Mississippi\\nIf we show up, we gon' show out\\nSmoother than a fresh jar of skippy\\n\\nI'm too hot (hot damn)\\nCalled a police and a fireman\\nI'm too hot (hot damn)\\nMake a dragon wanna retire man\\nI'm too hot (hot damn) (hot damn)\\nBitch, say my name you know who I am\\nI'm too hot (hot damn)\\nAm I bad 'bout that money\\nBreak it down\\n\\nGirls hit your hallelujah (whuoo)\\nGirls hit your hallelujah (whuoo)\\nGirls hit your hallelujah (whuoo)\\n'Cause Uptown Funk gon' give it to you\\n'Cause Uptown Funk gon' give it to you\\n'Cause Uptown Funk gon' give it to you\\nSaturday night and we in the spot\\nDon't believe me just watch (come on)\\nDon't believe me just watch\\nDon't believe me just watch\\nDon't believe me just watch\\nDon't believe me just watch\\nDon't believe me just watch\\nHey, hey, hey, oh!\\n\\nBefore we leave\\nImma tell y'all a lil' something\\nUptown Funk you up, Uptown Funk you up\\nUptown Funk you...</td>\n",
       "      <td>94</td>\n",
       "      <td>29</td>\n",
       "    </tr>\n",
       "    <tr>\n",
       "      <th>85</th>\n",
       "      <td>86</td>\n",
       "      <td>Imagine Dragons</td>\n",
       "      <td>Thunder</td>\n",
       "      <td>2017-07-05</td>\n",
       "      <td>54</td>\n",
       "      <td>2</td>\n",
       "      <td>3993</td>\n",
       "      <td>/song/Imagine-Dragons/Thunder-1656195</td>\n",
       "      <td>Just a young gun with a quick fuse\\nI was uptight, wanna let loose\\nI was dreaming of bigger things\\nAnd wanna leave my own life behind\\nNot a yes sir, not a follower\\nFit the box, fit the mold\\nHave a seat in the foyer, take a number\\nI was lightning before the thunder\\n\\nThunder, thunder\\nThunder, thun-, thunder\\nThun-thun-thunder, thunder, thunder\\nThunder, thun-, thunder\\nThun-thun-thunder, thunder\\n\\nThunder, feel the thunder\\nLightning and the thunder\\nThunder, feel the thunder\\nLightning and the thunder\\nThunder, thunder\\nThunder\\n\\nKids were laughing in my classes\\nWhile I was scheming for the masses\\nWho do you think you are?\\nDreaming 'bout being a big star\\nYou say you're basic, you say you're easy\\nYou're always riding in the back seat\\nNow I'm smiling from the stage while\\nYou were clapping in the nose bleeds\\n\\nThunder, thunder\\nThunder, thun-, thunder\\nThun-thun-thunder, thunder, thunder\\nThunder, thun-, thunder\\nThun-thun-thunder, thunder\\n\\nThunder, feel the thunder\\nLightning and the thunder\\nThunder, feel the thunder\\nLightning and the thunder\\nThunder\\n\\nThunder, feel the thunder\\nLightning and the thunder, thunder\\n\\nThunder, feel the thunder\\nLightning and the thunder, thunder\\nThunder, feel the thunder\\nLightning and the thunder, thunder\\nThunder, feel the thunder\\nLightning and the thunder, thunder\\nThunder, feel the thunder (feel the)\\nLightning and the thunder, thunder\\n\\nThunder, thunder, thunder\\nThun-thun-thunder, thunder\\nThunder, thunder, thunder\\nThun-thun-thunder, thunder\\nThunder, thunder, thunder\\nThun-thun-thunder, thunder\\nThunder, thunder, thunder\\nThun-thun-thunder, thunder</td>\n",
       "      <td>54</td>\n",
       "      <td>22</td>\n",
       "    </tr>\n",
       "  </tbody>\n",
       "</table>\n",
       "</div>"
      ],
      "text/plain": [
       "    Rang                        Artist         Titel   Eintritt  Wochen  Peak  \\\n",
       "52    53  Mark Ronson feat. Bruno Mars  Uptown Funk! 2014-11-23      65     2   \n",
       "85    86               Imagine Dragons       Thunder 2017-07-05      54     2   \n",
       "\n",
       "    Punkte                                                     Link  \\\n",
       "52    4498  /song/Mark-Ronson-feat.-Bruno-Mars/Uptown-Funk!-1355997   \n",
       "85    3993                    /song/Imagine-Dragons/Thunder-1656195   \n",
       "\n",
       "                                                                                                                                                                                                                                                                                                                                                                                                                                                                                                                                                                                                                                                                                                                                                                                                                                                                                                                                                                                                                                                                                                                                                                                                                                                                                                                                                                                                                                                                                                                                                                                                                                                                                                                                                                                                                                                                                                                                                                                                                                                                           Songtext  \\\n",
       "52  This hit\\nThat ice cold\\nMichelle Pfeiffer\\nThat white gold\\nThis one, for them hood girls\\nThem good girls\\nStraight masterpieces\\nStylin', while in\\nLivin' it up in the city\\nGot Chucks on with Saint Laurent\\nGot kiss myself I'm so pretty\\n\\nI'm too hot (hot damn)\\nCalled a police and a fireman\\nI'm too hot (hot damn)\\nMake a dragon wanna retire man\\nI'm too hot (hot damn)\\nSay my name you know who I am\\nI'm too hot (hot damn)\\nAm I bad 'bout that money\\nBreak it down\\n\\nGirls hit your hallelujah (whuoo)\\nGirls hit your hallelujah (whuoo)\\nGirls hit your hallelujah (whuoo)\\n'Cause Uptown Funk gon' give it to you\\n'Cause Uptown Funk gon' give it to you\\n'Cause Uptown Funk gon' give it to you\\nSaturday night and we in the spot\\nDon't believe me just watch (come on)\\nDon't believe me just watch\\nDon't believe me just watch\\nDon't believe me just watch\\nDon't believe me just watch\\nDon't believe me just watch\\nHey, hey, hey, oh!\\n\\nStop\\nWait a minute\\nFill my cup put some liquor in it\\nTake a sip, sign a check\\nJulio! Get the stretch!\\nRide to Harlem, Hollywood, Jackson, Mississippi\\nIf we show up, we gon' show out\\nSmoother than a fresh jar of skippy\\n\\nI'm too hot (hot damn)\\nCalled a police and a fireman\\nI'm too hot (hot damn)\\nMake a dragon wanna retire man\\nI'm too hot (hot damn) (hot damn)\\nBitch, say my name you know who I am\\nI'm too hot (hot damn)\\nAm I bad 'bout that money\\nBreak it down\\n\\nGirls hit your hallelujah (whuoo)\\nGirls hit your hallelujah (whuoo)\\nGirls hit your hallelujah (whuoo)\\n'Cause Uptown Funk gon' give it to you\\n'Cause Uptown Funk gon' give it to you\\n'Cause Uptown Funk gon' give it to you\\nSaturday night and we in the spot\\nDon't believe me just watch (come on)\\nDon't believe me just watch\\nDon't believe me just watch\\nDon't believe me just watch\\nDon't believe me just watch\\nDon't believe me just watch\\nHey, hey, hey, oh!\\n\\nBefore we leave\\nImma tell y'all a lil' something\\nUptown Funk you up, Uptown Funk you up\\nUptown Funk you...   \n",
       "85                                                                                                                                                                                                                                                                                                                                                                          Just a young gun with a quick fuse\\nI was uptight, wanna let loose\\nI was dreaming of bigger things\\nAnd wanna leave my own life behind\\nNot a yes sir, not a follower\\nFit the box, fit the mold\\nHave a seat in the foyer, take a number\\nI was lightning before the thunder\\n\\nThunder, thunder\\nThunder, thun-, thunder\\nThun-thun-thunder, thunder, thunder\\nThunder, thun-, thunder\\nThun-thun-thunder, thunder\\n\\nThunder, feel the thunder\\nLightning and the thunder\\nThunder, feel the thunder\\nLightning and the thunder\\nThunder, thunder\\nThunder\\n\\nKids were laughing in my classes\\nWhile I was scheming for the masses\\nWho do you think you are?\\nDreaming 'bout being a big star\\nYou say you're basic, you say you're easy\\nYou're always riding in the back seat\\nNow I'm smiling from the stage while\\nYou were clapping in the nose bleeds\\n\\nThunder, thunder\\nThunder, thun-, thunder\\nThun-thun-thunder, thunder, thunder\\nThunder, thun-, thunder\\nThun-thun-thunder, thunder\\n\\nThunder, feel the thunder\\nLightning and the thunder\\nThunder, feel the thunder\\nLightning and the thunder\\nThunder\\n\\nThunder, feel the thunder\\nLightning and the thunder, thunder\\n\\nThunder, feel the thunder\\nLightning and the thunder, thunder\\nThunder, feel the thunder\\nLightning and the thunder, thunder\\nThunder, feel the thunder\\nLightning and the thunder, thunder\\nThunder, feel the thunder (feel the)\\nLightning and the thunder, thunder\\n\\nThunder, thunder, thunder\\nThun-thun-thunder, thunder\\nThunder, thunder, thunder\\nThun-thun-thunder, thunder\\nThunder, thunder, thunder\\nThun-thun-thunder, thunder\\nThunder, thunder, thunder\\nThun-thun-thunder, thunder   \n",
       "\n",
       "    Zeilenzahl  Wiederholungen  \n",
       "52          94              29  \n",
       "85          54              22  "
      ]
     },
     "execution_count": 29,
     "metadata": {},
     "output_type": "execute_result"
    }
   ],
   "source": [
    "df.sort_values('Wiederholungen', ascending=False).head(2)"
   ]
  },
  {
   "cell_type": "markdown",
   "metadata": {},
   "source": [
    "Sind Songs mit vielen Titel-Wiederholungen besonders erfolgreich?"
   ]
  },
  {
   "cell_type": "code",
   "execution_count": 30,
   "metadata": {},
   "outputs": [
    {
     "data": {
      "text/plain": [
       "<AxesSubplot:xlabel='Wiederholungen'>"
      ]
     },
     "execution_count": 30,
     "metadata": {},
     "output_type": "execute_result"
    },
    {
     "data": {
      "image/png": "[encoded data removed]",
      "text/plain": [
       "<Figure size 640x480 with 1 Axes>"
      ]
     },
     "metadata": {},
     "output_type": "display_data"
    }
   ],
   "source": [
    "df.groupby('Wiederholungen')['Punkte'].mean().plot()"
   ]
  },
  {
   "cell_type": "code",
   "execution_count": null,
   "metadata": {},
   "outputs": [],
   "source": []
  },
  {
   "cell_type": "markdown",
   "metadata": {},
   "source": [
    "## Analyse über mehrere Datenfelder (mit Lambda)"
   ]
  },
  {
   "cell_type": "markdown",
   "metadata": {},
   "source": [
    "Manchmal müssen wir eine Funktion auch auf andere Weise aufrufen. ZB dann, wenn sie von extern importiert wurde oder nicht eine Series als Input benötigt, sondern einzelne Variablen.\n",
    "\n",
    "Das wäre zB hier der Fall. Statt so..."
   ]
  },
  {
   "cell_type": "code",
   "execution_count": 31,
   "metadata": {},
   "outputs": [],
   "source": [
    "def wiederholungen(row):\n",
    "    ..."
   ]
  },
  {
   "cell_type": "markdown",
   "metadata": {},
   "source": [
    "... sieht das nun so aus:"
   ]
  },
  {
   "cell_type": "code",
   "execution_count": 32,
   "metadata": {},
   "outputs": [],
   "source": [
    "def wiederholungen(titel, songtext):\n",
    "    \n",
    "    # Zuerst erstellen wir eine Liste von Sonderzeichen\n",
    "    sonderzeichen = ['!', '\"', '&', \"'\", '(', ')', '–', '.', '?']\n",
    "    \n",
    "    # Wir entfernen diese Sonderzeichen aus dem Titel und Text\n",
    "    bereinigter_titel = titel # <= VORHER: row['Titel']\n",
    "    bereinigter_text = songtext # <= VORHER: row['Songtext']\n",
    "\n",
    "    for zeichen in sonderzeichen:\n",
    "        bereinigter_titel = bereinigter_titel.replace(zeichen, \"\")\n",
    "        bereinigter_text = bereinigter_text.replace(zeichen, \"\")\n",
    "        \n",
    "    # Jetzt können wir die Zählung starten\n",
    "\n",
    "    wiederholungen = bereinigter_text.count(bereinigter_titel)\n",
    "    \n",
    "    return wiederholungen"
   ]
  },
  {
   "cell_type": "markdown",
   "metadata": {},
   "source": [
    "Um diese Funktion zu benutzen, müssen wir mit dem Keyword `lambda` arbeiten."
   ]
  },
  {
   "cell_type": "code",
   "execution_count": 33,
   "metadata": {},
   "outputs": [
    {
     "data": {
      "text/plain": [
       "0     0\n",
       "1     0\n",
       "2     6\n",
       "3     0\n",
       "4     0\n",
       "     ..\n",
       "95    3\n",
       "96    0\n",
       "97    0\n",
       "98    0\n",
       "99    0\n",
       "Length: 100, dtype: int64"
      ]
     },
     "execution_count": 33,
     "metadata": {},
     "output_type": "execute_result"
    }
   ],
   "source": [
    "df.apply(lambda row: wiederholungen(row['Titel'], row['Songtext']), axis=1)"
   ]
  },
  {
   "cell_type": "markdown",
   "metadata": {},
   "source": [
    "Lambda-Funktionen sehen auf den ersten Blick kompliziert aus, sind aber keine Hexerei.\n",
    "\n",
    "Erklärung siehe zB hier: https://www.programiz.com/python-programming/anonymous-function\n",
    "\n",
    "Im wesentlichen sind es Funktionen, die on-the-fly definiert und ausgeführt werden, aber ohne dass sie einen Namen erhalten."
   ]
  },
  {
   "cell_type": "code",
   "execution_count": 34,
   "metadata": {},
   "outputs": [
    {
     "data": {
      "text/plain": [
       "<function __main__.<lambda>(x)>"
      ]
     },
     "execution_count": 34,
     "metadata": {},
     "output_type": "execute_result"
    }
   ],
   "source": [
    "lambda x: x + 1"
   ]
  },
  {
   "cell_type": "code",
   "execution_count": 35,
   "metadata": {},
   "outputs": [
    {
     "data": {
      "text/plain": [
       "6"
      ]
     },
     "execution_count": 35,
     "metadata": {},
     "output_type": "execute_result"
    }
   ],
   "source": [
    "(lambda x: x + 1)(5)"
   ]
  },
  {
   "cell_type": "code",
   "execution_count": null,
   "metadata": {},
   "outputs": [],
   "source": []
  },
  {
   "cell_type": "code",
   "execution_count": null,
   "metadata": {},
   "outputs": [],
   "source": []
  },
  {
   "cell_type": "code",
   "execution_count": null,
   "metadata": {},
   "outputs": [],
   "source": []
  },
  {
   "cell_type": "code",
   "execution_count": null,
   "metadata": {},
   "outputs": [],
   "source": []
  },
  {
   "cell_type": "code",
   "execution_count": null,
   "metadata": {},
   "outputs": [],
   "source": []
  }
 ],
 "metadata": {
  "kernelspec": {
   "display_name": "Python 3 (ipykernel)",
   "language": "python",
   "name": "python3"
  },
  "language_info": {
   "codemirror_mode": {
    "name": "ipython",
    "version": 3
   },
   "file_extension": ".py",
   "mimetype": "text/x-python",
   "name": "python",
   "nbconvert_exporter": "python",
   "pygments_lexer": "ipython3",
   "version": "3.10.6"
  }
 },
 "nbformat": 4,
 "nbformat_minor": 2
}
