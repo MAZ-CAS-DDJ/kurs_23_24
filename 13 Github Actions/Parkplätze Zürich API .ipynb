{
 "cells": [
  {
   "cell_type": "markdown",
   "metadata": {},
   "source": [
    "# Parkplätze Zürich"
   ]
  },
  {
   "cell_type": "code",
   "execution_count": 11,
   "metadata": {},
   "outputs": [],
   "source": [
    "import requests\n",
    "from bs4 import BeautifulSoup\n",
    "import pandas as pd\n",
    "from datetime import datetime\n",
    "now = datetime.now()\n",
    "\n",
    "r = requests.get('https://www.pls-zh.ch/plsFeed/rss') \n",
    "soup = BeautifulSoup(r.text, 'html.parser')\n",
    "items_list = soup.find_all('item')\n",
    "parkings = []"
   ]
  },
  {
   "cell_type": "code",
   "execution_count": 12,
   "metadata": {},
   "outputs": [
    {
     "data": {
      "text/plain": [
       "[['Parkhaus Accu / Otto-Schütz-Weg', '167', '27.10.23 14:28:36'],\n",
       " ['Parkhaus Albisriederplatz / Badenerstrasse 380', '', '27.10.23 14:28:36'],\n",
       " ['Parkhaus Bleicherweg / Beethovenstrasse 35', '14', '27.10.23 14:28:36'],\n",
       " ['Parkhaus Center Eleven / Sophie-Täuber-Strasse 4',\n",
       "  '0',\n",
       "  '27.10.23 14:28:36'],\n",
       " ['Parkhaus City Parking / Gessnerallee 14', '103', '27.10.23 14:28:36'],\n",
       " ['Parkhaus Cityport / Affolternstrasse 56', '97', '27.10.23 14:28:36'],\n",
       " ['Parkhaus Crowne Plaza / Badenerstrasse 420', '', '27.10.23 14:28:36'],\n",
       " ['Parkhaus Dorflinde / Schwamendingenstrasse 31', '36', '27.10.23 14:28:36'],\n",
       " ['Parkhaus Feldegg / Riesbachstrasse 7', '32', '27.10.23 14:28:36'],\n",
       " ['Parkhaus Globus / Löwenstrasse 50', '3', '27.10.23 14:28:36'],\n",
       " ['Parkhaus Hardau II / Bullingerstrasse 73', '46', '27.10.23 14:28:36'],\n",
       " ['Parkhaus Hauptbahnhof / Sihlquai 41', '48', '27.10.23 14:28:36'],\n",
       " ['Parkhaus Helvetiaplatz / Molkenstrasse 5/9', '15', '27.10.23 14:28:36'],\n",
       " ['Parkhaus Hohe Promenade / Rämistrasse 22a', '218', '27.10.23 14:28:36'],\n",
       " ['Parkhaus Jelmoli / Steinmühleplatz 1', '0', '27.10.23 14:28:36'],\n",
       " ['Parkhaus Jungholz / Jungholzstrasse 19', '113', '27.10.23 14:28:36'],\n",
       " ['Parkhaus Max-Bill-Platz / Armin-Bollinger-Weg', '78', '27.10.23 14:28:36'],\n",
       " ['Parkhaus Messe Zürich AG / Andreasstrasse 65', '999', '27.10.23 14:28:36'],\n",
       " ['Parkhaus Nordhaus / Siewerdtstrasse 8', '92', '27.10.23 14:28:36'],\n",
       " ['Parkhaus Octavo / Brown-Boveri-Strasse 2', '86', '27.10.23 14:28:36'],\n",
       " ['Parkhaus Opéra / Schillerstrasse 5', '22', '27.10.23 14:28:36'],\n",
       " ['Parkhaus P West / Förrlibuckstrasse 151', '339', '27.10.23 14:28:36'],\n",
       " ['Parkhaus Park Hyatt / Beethovenstrasse 21', '32', '27.10.23 14:28:36'],\n",
       " ['Parkhaus Parkside / Sophie-Täuber-Strasse 10', '0', '27.10.23 14:28:36'],\n",
       " ['Parkhaus Pfingstweid / Pfingstweidstrasse 1', '144', '27.10.23 14:28:36'],\n",
       " ['Parkhaus Stampfenbach / Niklausstrasse 1', '144', '27.10.23 14:28:36'],\n",
       " ['Parkhaus Talgarten / Nüschelerstrasse 31', '2', '27.10.23 14:28:36'],\n",
       " ['Parkhaus USZ Nord / Frauenklinikstrasse', '2', '27.10.23 14:28:36'],\n",
       " ['Parkhaus Uni Irchel / Winterthurerstrasse 181', '144', '27.10.23 14:28:36'],\n",
       " ['Parkhaus Urania / Uraniastrasse 3', '5', '27.10.23 14:28:36'],\n",
       " ['Parkhaus Utoquai / Färberstrasse 6', '3', '27.10.23 14:28:36'],\n",
       " ['Parkhaus Züri 11 Shopping / Nansenstrasse 5/7', '2', '27.10.23 14:28:36'],\n",
       " ['Parkhaus Zürichhorn / Dufourstrasse 142', '9', '27.10.23 14:28:36'],\n",
       " ['Parkplatz Theater 11 / Dörfli-/Thurgauerstrasse',\n",
       "  '158',\n",
       "  '27.10.23 14:28:36'],\n",
       " ['Parkplatz USZ Süd / Gloriastrasse', '0', '27.10.23 14:28:36'],\n",
       " ['Puls 5 Parkgarage / Giessereistrasse 18', '32', '27.10.23 14:28:36']]"
      ]
     },
     "execution_count": 12,
     "metadata": {},
     "output_type": "execute_result"
    }
   ],
   "source": [
    "for item in items_list:\n",
    "    open_places = item.find('description').text\n",
    "    open_places_just_number = ''.join(x for x in open_places if x.isdigit())\n",
    "    parkings.append([item.find('title').text,open_places_just_number,now.strftime(\"%d.%m.%y %H:%M:%S\")])\n",
    "parkings"
   ]
  },
  {
   "cell_type": "code",
   "execution_count": 15,
   "metadata": {},
   "outputs": [
    {
     "data": {
      "text/plain": [
       "'Puls 5 Parkgarage / Giessereistrasse 18,32,27.10.23 14:28:36'"
      ]
     },
     "execution_count": 15,
     "metadata": {},
     "output_type": "execute_result"
    }
   ],
   "source": [
    "\",\".join(['Puls 5 Parkgarage / Giessereistrasse 18', '32', '27.10.23 14:28:36'])"
   ]
  },
  {
   "cell_type": "code",
   "execution_count": 16,
   "metadata": {},
   "outputs": [
    {
     "name": "stdout",
     "output_type": "stream",
     "text": [
      "Done\n"
     ]
    }
   ],
   "source": [
    "with open(\"API_PARKING.csv\", \"a\") as f:\n",
    "    for entry in parkings:\n",
    "        # write each item on a new line\n",
    "        f.write(\"%s\\n\" % \",\".join(entry))\n",
    "    print('Done')"
   ]
  },
  {
   "cell_type": "code",
   "execution_count": null,
   "metadata": {},
   "outputs": [],
   "source": []
  }
 ],
 "metadata": {
  "kernelspec": {
   "display_name": "Python 3 (ipykernel)",
   "language": "python",
   "name": "python3"
  },
  "language_info": {
   "codemirror_mode": {
    "name": "ipython",
    "version": 3
   },
   "file_extension": ".py",
   "mimetype": "text/x-python",
   "name": "python",
   "nbconvert_exporter": "python",
   "pygments_lexer": "ipython3",
   "version": "3.9.12"
  }
 },
 "nbformat": 4,
 "nbformat_minor": 2
}
