{
 "cells": [
  {
   "cell_type": "markdown",
   "metadata": {},
   "source": [
    "# Einführung Pandas"
   ]
  },
  {
   "cell_type": "markdown",
   "metadata": {},
   "source": [
    "**Inhalt:** Pandas kennenlernen\n",
    "\n",
    "**Nötige skills**: Keine\n",
    "\n",
    "**Lerniziele**:\n",
    "- Eine erste Idee erhalten: Wozu ist Pandas gut?"
   ]
  },
  {
   "cell_type": "markdown",
   "metadata": {},
   "source": [
    "### Was ist Pandas?\n",
    "Kurz gesagt: Pandas ist Excel für Python.\n",
    "\n",
    "Das Modul ermöglicht ähnliche Operationen wie ein Tabellenkalkulationsprogramm, aber\n",
    "- in Logbuchform statt als Tabellenblatt\n",
    "- mit reproduzierbarem Code\n",
    "- viel mehr Funktionalität\n",
    "- kombinierbar mit anderen Modulen\n",
    "- mit der Funktion, Daten zu exportieren\n",
    "\n",
    "Ohne Pandas (fast) kein Datenjournalismus mit Python."
   ]
  },
  {
   "cell_type": "markdown",
   "metadata": {},
   "source": [
    "### Installation\n",
    "\n",
    "Anaconda packages:\n",
    "- pandas\n",
    "- matplotlib"
   ]
  },
  {
   "cell_type": "code",
   "execution_count": null,
   "metadata": {},
   "outputs": [],
   "source": [
    "import pandas as pd"
   ]
  },
  {
   "cell_type": "code",
   "execution_count": null,
   "metadata": {},
   "outputs": [],
   "source": [
    "print (\"Hooray!\")"
   ]
  },
  {
   "cell_type": "markdown",
   "metadata": {},
   "source": [
    "# Das Beispiel"
   ]
  },
  {
   "cell_type": "markdown",
   "metadata": {},
   "source": [
    "**Corona-Fälle**: Die Johns Hopkins University hat eine globale Datenbank aufgebaut: https://coronavirus.jhu.edu/map.html\n",
    "\n",
    "Die Daten dazu sind auf Github abgelegt: https://github.com/CSSEGISandData/COVID-19/\n",
    "\n",
    "Wir schauen uns die Daten an, lernen ein paar Analysemöglichkeiten kennen und bauen die Charts für folgende Story nach: https://www.republik.ch/2020/07/20/in-schwellenlaendern-beginnt-die-covid-krise-gerade-erst-so-richtig"
   ]
  },
  {
   "cell_type": "code",
   "execution_count": null,
   "metadata": {},
   "outputs": [],
   "source": []
  },
  {
   "cell_type": "markdown",
   "metadata": {},
   "source": [
    "## Daten laden"
   ]
  },
  {
   "cell_type": "markdown",
   "metadata": {},
   "source": [
    "Pandas kann lokale Datenquellen wie Excelfiles oder csv-Dateien laden. Praktisch: Man kann die Dateien auch direkt aus dem Netz holen.\n",
    "\n",
    "Wir holen uns zwei verschiedene Datensets:\n",
    "- eines mit den Fallzahlen\n",
    "- eines mit den Todeszahlen\n",
    "\n",
    "Vorhanden sind diese Länder jeweils für Länder und ihre Provinzen. Die Zahlen sind **kumuliert über die Zeit** angegeben."
   ]
  },
  {
   "cell_type": "markdown",
   "metadata": {},
   "source": [
    "**Fallzahlen**"
   ]
  },
  {
   "cell_type": "code",
   "execution_count": null,
   "metadata": {},
   "outputs": [],
   "source": [
    "path = \"https://github.com/CSSEGISandData/COVID-19/raw/master/csse_covid_19_data/csse_covid_19_time_series/time_series_covid19_confirmed_global.csv\""
   ]
  },
  {
   "cell_type": "code",
   "execution_count": null,
   "metadata": {},
   "outputs": [],
   "source": [
    "df_cases = pd.read_csv(path)"
   ]
  },
  {
   "cell_type": "code",
   "execution_count": null,
   "metadata": {},
   "outputs": [],
   "source": [
    "df_cases.head()"
   ]
  },
  {
   "cell_type": "markdown",
   "metadata": {},
   "source": [
    "**Todeszahlen**"
   ]
  },
  {
   "cell_type": "code",
   "execution_count": null,
   "metadata": {},
   "outputs": [],
   "source": [
    "path = \"https://github.com/CSSEGISandData/COVID-19/raw/master/csse_covid_19_data/csse_covid_19_time_series/time_series_covid19_deaths_global.csv\""
   ]
  },
  {
   "cell_type": "code",
   "execution_count": null,
   "metadata": {},
   "outputs": [],
   "source": [
    "df_deaths = pd.read_csv(path)"
   ]
  },
  {
   "cell_type": "code",
   "execution_count": null,
   "metadata": {},
   "outputs": [],
   "source": [
    "df_deaths.head()"
   ]
  },
  {
   "cell_type": "code",
   "execution_count": null,
   "metadata": {},
   "outputs": [],
   "source": []
  },
  {
   "cell_type": "markdown",
   "metadata": {},
   "source": [
    "### Mögliche Fragestellungen"
   ]
  },
  {
   "cell_type": "markdown",
   "metadata": {},
   "source": [
    "Bevor wir mit dem Beispiel beginnen, lasst uns kurz nachdenken:\n",
    "- Was könnten interessante Fragestellungen sein, die sich mit diesem Datensatz beantworten lassen?\n",
    "- Was für interessante Analysen könnten wir mit den Daten machen?\n",
    "- An was für Grafiken könnten wir interessiert sein?"
   ]
  },
  {
   "cell_type": "code",
   "execution_count": null,
   "metadata": {},
   "outputs": [],
   "source": [
    "# Platz zum Antworten aufschreiben"
   ]
  },
  {
   "cell_type": "code",
   "execution_count": null,
   "metadata": {},
   "outputs": [],
   "source": []
  },
  {
   "cell_type": "markdown",
   "metadata": {},
   "source": [
    "### Unsere Fragestellung"
   ]
  },
  {
   "cell_type": "markdown",
   "metadata": {},
   "source": [
    "In diesem Notebook schauen wir uns zwei Anwendungen an:\n",
    "1. Inzidenzkurve für verschiedene Länder: Welche Dynamik hat die Epidemie in der Schweiz, in den USA, in Finnland, etc.?\n",
    "1. Verlauf der Epidemie nach Ländergruppen: An welchem Punkt stehen die Industrieländer, Schwellenländer, Entwicklungsländer?"
   ]
  },
  {
   "cell_type": "markdown",
   "metadata": {},
   "source": [
    "## Daten arrangieren"
   ]
  },
  {
   "cell_type": "markdown",
   "metadata": {},
   "source": [
    "Bevor wir mit den Daten arbeiten können, müssen wir sie noch etwas arrangieren."
   ]
  },
  {
   "cell_type": "markdown",
   "metadata": {},
   "source": [
    "**Fallzahlen**"
   ]
  },
  {
   "cell_type": "markdown",
   "metadata": {},
   "source": [
    "Zuerst schmeissen wir ein paar überflüssige Angaben raus, die uns nicht interessieren..."
   ]
  },
  {
   "cell_type": "code",
   "execution_count": null,
   "metadata": {},
   "outputs": [],
   "source": [
    "df_cases = df_cases.drop(columns=['Province/State', 'Lat', 'Long'])"
   ]
  },
  {
   "cell_type": "markdown",
   "metadata": {},
   "source": [
    "Danach gruppieren wir die Daten nach Land und geben den Datumsangaben ein richtiges Format..."
   ]
  },
  {
   "cell_type": "code",
   "execution_count": null,
   "metadata": {},
   "outputs": [],
   "source": [
    "df_cases = df_cases.groupby('Country/Region').sum().T\n",
    "df_cases.index = pd.to_datetime(df_cases.index, format='%m/%d/%y')"
   ]
  },
  {
   "cell_type": "markdown",
   "metadata": {},
   "source": [
    "Und schliesslich bilden wir die täglichen Differenzen..."
   ]
  },
  {
   "cell_type": "code",
   "execution_count": null,
   "metadata": {},
   "outputs": [],
   "source": [
    "df_cases = df_cases.diff()[1:]\n",
    "df_cases.index.name = 'date'\n",
    "df_cases = df_cases.astype(int)"
   ]
  },
  {
   "cell_type": "markdown",
   "metadata": {},
   "source": [
    "Nun haben wir ein \"sauberes\" Datenset:"
   ]
  },
  {
   "cell_type": "code",
   "execution_count": null,
   "metadata": {},
   "outputs": [],
   "source": [
    "df_cases.head()"
   ]
  },
  {
   "cell_type": "code",
   "execution_count": null,
   "metadata": {},
   "outputs": [],
   "source": [
    "df_cases.tail()"
   ]
  },
  {
   "cell_type": "markdown",
   "metadata": {},
   "source": [
    "Zur Vorbereitung für später kreieren wir gleich noch zwei weitere Datensets:\n",
    "- eines mit dem gleitenden Mittelwert über sieben Tage hinweg\n",
    "- eines mit dem wöchentlichen Mittelwert (das ist nicht dasselbe!)"
   ]
  },
  {
   "cell_type": "code",
   "execution_count": null,
   "metadata": {},
   "outputs": [],
   "source": [
    "df_cases_r = df_cases.rolling(7).mean()"
   ]
  },
  {
   "cell_type": "code",
   "execution_count": null,
   "metadata": {},
   "outputs": [],
   "source": [
    "df_cases_w = df_cases.resample('W').sum()"
   ]
  },
  {
   "cell_type": "markdown",
   "metadata": {},
   "source": [
    "**Todesfälle**"
   ]
  },
  {
   "cell_type": "markdown",
   "metadata": {},
   "source": [
    "Mit den Todesfällen machen wir genau dasselbe"
   ]
  },
  {
   "cell_type": "code",
   "execution_count": null,
   "metadata": {},
   "outputs": [],
   "source": [
    "df_deaths = df_deaths.drop(columns=['Province/State', 'Lat', 'Long'])\n",
    "df_deaths = df_deaths.groupby('Country/Region').sum().T\n",
    "df_deaths.index = pd.to_datetime(df_deaths.index, format='%m/%d/%y')"
   ]
  },
  {
   "cell_type": "code",
   "execution_count": null,
   "metadata": {},
   "outputs": [],
   "source": [
    "df_deaths = df_deaths.diff()[1:]\n",
    "df_deaths.index.name = 'date'\n",
    "df_deaths = df_deaths.astype(int)"
   ]
  },
  {
   "cell_type": "code",
   "execution_count": null,
   "metadata": {},
   "outputs": [],
   "source": [
    "df_deaths_r = df_deaths.rolling(7).mean()"
   ]
  },
  {
   "cell_type": "code",
   "execution_count": null,
   "metadata": {},
   "outputs": [],
   "source": [
    "df_deaths_w = df_deaths.resample('W').sum()"
   ]
  },
  {
   "cell_type": "code",
   "execution_count": null,
   "metadata": {},
   "outputs": [],
   "source": []
  },
  {
   "cell_type": "markdown",
   "metadata": {},
   "source": [
    "## 1. Verlauf in einzelnen Ländern"
   ]
  },
  {
   "cell_type": "markdown",
   "metadata": {},
   "source": [
    "Pandas ist ein praktisches Tool, um explorative Datenanalysen durchzuführen - und logbuchartig festzuhalten, was dabei rauskommt.\n",
    "\n",
    "Wir können zum Beispiel mal die Covid-Fallzahlen-Kurve in der Schweiz rausziehen und diese mit einer einfachen Codezeile auch gleich plotten:"
   ]
  },
  {
   "cell_type": "code",
   "execution_count": null,
   "metadata": {},
   "outputs": [],
   "source": [
    "df_cases['Switzerland']"
   ]
  },
  {
   "cell_type": "code",
   "execution_count": null,
   "metadata": {},
   "outputs": [],
   "source": [
    "df_cases['Switzerland'].plot(kind='bar')"
   ]
  },
  {
   "cell_type": "markdown",
   "metadata": {},
   "source": [
    "### Schöne Plots"
   ]
  },
  {
   "cell_type": "markdown",
   "metadata": {},
   "source": [
    "Leider sehen die Standardplots manchmal etwas hässlich aus.\n",
    "\n",
    "Wir können - sofern wir Zeit haben - uns den Plot mit ein paar Codezeilen etwas verschönern.\n",
    "\n",
    "Dazu brauchen wir zuerst noch ein paar weitere Bibliotheken."
   ]
  },
  {
   "cell_type": "code",
   "execution_count": null,
   "metadata": {},
   "outputs": [],
   "source": [
    "import matplotlib.pyplot as plt\n",
    "import matplotlib.dates as mdates\n",
    "import matplotlib.ticker as ticker"
   ]
  },
  {
   "cell_type": "markdown",
   "metadata": {},
   "source": [
    "Es gibt unzählige Sachen, die man an einem Chart einstellen kann, bis er \"schön\" ist:\n",
    "- Einen aussagekräftigen Titel\n",
    "- Die Achsenbeschriftungen und Labels (\"Ticks\")\n",
    "- mehrere Charts nebeneinander\n",
    "- mehrere Elemente in einem Chart (zB Trendlinien)\n",
    "- ..."
   ]
  },
  {
   "cell_type": "code",
   "execution_count": null,
   "metadata": {},
   "outputs": [],
   "source": [
    "country = 'Switzerland'\n",
    "color='red'\n",
    "\n",
    "fig, (ax1, ax2) = plt.subplots(1, 2, figsize=(16,10))\n",
    "\n",
    "data = df_cases\n",
    "ax1.bar(data.index, data[country], color=color)\n",
    "ax1.xaxis.set_major_locator(mdates.MonthLocator())\n",
    "ax1.xaxis.set_major_formatter(mdates.DateFormatter('%b'))\n",
    "ax1.set_title('Case incidence in ' + country)\n",
    "ax1.set_ylabel('Count')\n",
    "ax1.set_xlabel('Date')\n",
    "\n",
    "data = df_cases.rolling(7).mean()\n",
    "ax1.plot(data.index, data[country], color='black')\n",
    "\n",
    "data = df_deaths\n",
    "ax2.bar(data.index, data[country], color=color)\n",
    "ax2.xaxis.set_major_locator(mdates.MonthLocator())\n",
    "ax2.xaxis.set_major_formatter(mdates.DateFormatter('%b'))\n",
    "ax2.set_title('Deaths in ' + country)\n",
    "ax2.set_ylabel('Count')\n",
    "ax2.set_xlabel('Date')\n",
    "\n",
    "data = df_deaths.rolling(7).mean()\n",
    "ax2.plot(data.index, data[country], color='black')"
   ]
  },
  {
   "cell_type": "markdown",
   "metadata": {},
   "source": [
    "Damit wir diesen Code nicht jedesmal neu schreiben müssen, bauen wir uns eine Funktion dafür. Wir nennen Sie `countrychart()`. Sie erhält:\n",
    "- das Land, dessen Kurven wir plotten wollen\n",
    "- die Farbe"
   ]
  },
  {
   "cell_type": "code",
   "execution_count": null,
   "metadata": {},
   "outputs": [],
   "source": [
    "def countrychart(country, color):\n",
    "\n",
    "    fig, (ax1, ax2) = plt.subplots(1, 2, figsize=(16,4))\n",
    "\n",
    "    data = df_cases\n",
    "    ax1.bar(data.index, data[country], color=color)\n",
    "    ax1.xaxis.set_major_locator(mdates.MonthLocator())\n",
    "    ax1.xaxis.set_major_formatter(mdates.DateFormatter('%b'))\n",
    "    ax1.set_title('Case incidence in ' + country)\n",
    "    ax1.set_ylabel('Count')\n",
    "    ax1.set_xlabel('Date')\n",
    "    \n",
    "    data = df_cases.rolling(7).mean()\n",
    "    ax1.plot(data.index, data[country], color='black')\n",
    "\n",
    "    data = df_deaths\n",
    "    ax2.bar(data.index, data[country], color=color)\n",
    "    ax2.xaxis.set_major_locator(mdates.MonthLocator())\n",
    "    ax2.xaxis.set_major_formatter(mdates.DateFormatter('%b'))\n",
    "    ax2.set_title('Deaths in ' + country)\n",
    "    ax2.set_ylabel('Count')\n",
    "    ax2.set_xlabel('Date')\n",
    "    \n",
    "    data = df_deaths.rolling(7).mean()\n",
    "    ax2.plot(data.index, data[country], color='black')"
   ]
  },
  {
   "cell_type": "markdown",
   "metadata": {},
   "source": [
    "### ein paar Länder..."
   ]
  },
  {
   "cell_type": "code",
   "execution_count": null,
   "metadata": {},
   "outputs": [],
   "source": [
    "countrychart('Switzerland', 'tab:red')"
   ]
  },
  {
   "cell_type": "code",
   "execution_count": null,
   "metadata": {},
   "outputs": [],
   "source": [
    "countrychart('Sweden', 'orange')"
   ]
  },
  {
   "cell_type": "code",
   "execution_count": null,
   "metadata": {},
   "outputs": [],
   "source": [
    "countrychart('US', 'royalblue')"
   ]
  },
  {
   "cell_type": "code",
   "execution_count": null,
   "metadata": {},
   "outputs": [],
   "source": [
    "countrychart('Brazil', 'forestgreen')"
   ]
  },
  {
   "cell_type": "markdown",
   "metadata": {},
   "source": [
    "... etc. Sie können hier weitere Länder ausprobieren.\n",
    "\n",
    "Eine Liste der Farbnamen gibt es übrigens hier: https://matplotlib.org/3.1.0/gallery/color/named_colors.html"
   ]
  },
  {
   "cell_type": "code",
   "execution_count": null,
   "metadata": {},
   "outputs": [],
   "source": []
  },
  {
   "cell_type": "code",
   "execution_count": null,
   "metadata": {},
   "outputs": [],
   "source": []
  },
  {
   "cell_type": "markdown",
   "metadata": {},
   "source": [
    "## 2. Ländergruppen"
   ]
  },
  {
   "cell_type": "markdown",
   "metadata": {},
   "source": [
    "Hier sind die Schritte, mit denen die Charts zur Schwellenländer-Story erstellt wurden.\n",
    "\n",
    "Wir interessieren uns dabei für das *big picture*, wollen drei Ländergruppen bilden:\n",
    "- Industrieländer (reiche Länder)\n",
    "- Schwellenländer (aufsteigende Wirtschaften)\n",
    "- Entwicklungsländer (arme Länder)\n",
    "\n",
    "Dazu brauchen wir aber noch eine Zusatzinformation: Welches Land ist in welcher Gruppe?"
   ]
  },
  {
   "cell_type": "markdown",
   "metadata": {},
   "source": [
    "### Weitere Daten laden"
   ]
  },
  {
   "cell_type": "markdown",
   "metadata": {},
   "source": [
    "Eine Liste dazu haben wir bereits vorbereitet :-)"
   ]
  },
  {
   "cell_type": "code",
   "execution_count": null,
   "metadata": {},
   "outputs": [],
   "source": [
    "path = 'dataprojects/covid/countrylist_categories.xlsx'"
   ]
  },
  {
   "cell_type": "code",
   "execution_count": null,
   "metadata": {},
   "outputs": [],
   "source": [
    "df_cat = pd.read_excel(path)"
   ]
  },
  {
   "cell_type": "code",
   "execution_count": null,
   "metadata": {},
   "outputs": [],
   "source": [
    "df_cat.head()"
   ]
  },
  {
   "cell_type": "markdown",
   "metadata": {},
   "source": [
    "### Daten kategorisieren und summieren"
   ]
  },
  {
   "cell_type": "markdown",
   "metadata": {},
   "source": [
    "Zuerst erstellen wir drei Listen mit allen Ländernamen, die jeweils in eine Kategorie fallen:"
   ]
  },
  {
   "cell_type": "code",
   "execution_count": null,
   "metadata": {},
   "outputs": [],
   "source": [
    "cat_E = df_cat[df_cat['type'] == 'E']['Country/Region']\n",
    "cat_S = df_cat[df_cat['type'] == 'S']['Country/Region']\n",
    "cat_I = df_cat[df_cat['type'] == 'I']['Country/Region']"
   ]
  },
  {
   "cell_type": "code",
   "execution_count": null,
   "metadata": {},
   "outputs": [],
   "source": [
    "cat_E"
   ]
  },
  {
   "cell_type": "markdown",
   "metadata": {},
   "source": [
    "Danach filtern wir die anhand dieser Liste, summieren sie und bilden drei neue Einträge:"
   ]
  },
  {
   "cell_type": "code",
   "execution_count": null,
   "metadata": {},
   "outputs": [],
   "source": [
    "df_cases['Entwicklungsländer'] = df_cases[cat_E].sum(axis=1)\n",
    "df_cases['Schwellenländer'] = df_cases[cat_S].sum(axis=1)\n",
    "df_cases['Industrieländer'] = df_cases[cat_I].sum(axis=1)"
   ]
  },
  {
   "cell_type": "code",
   "execution_count": null,
   "metadata": {},
   "outputs": [],
   "source": [
    "df_deaths['Entwicklungsländer'] = df_deaths[cat_E].sum(axis=1)\n",
    "df_deaths['Schwellenländer'] = df_deaths[cat_S].sum(axis=1)\n",
    "df_deaths['Industrieländer'] = df_deaths[cat_I].sum(axis=1)"
   ]
  },
  {
   "cell_type": "markdown",
   "metadata": {},
   "source": [
    "### Plotten"
   ]
  },
  {
   "cell_type": "code",
   "execution_count": null,
   "metadata": {},
   "outputs": [],
   "source": [
    "countrychart('Entwicklungsländer', '#e377c2')"
   ]
  },
  {
   "cell_type": "code",
   "execution_count": null,
   "metadata": {},
   "outputs": [],
   "source": [
    "countrychart('Schwellenländer', '#17becf')"
   ]
  },
  {
   "cell_type": "code",
   "execution_count": null,
   "metadata": {},
   "outputs": [],
   "source": [
    "countrychart('Industrieländer', '#bcbd22')"
   ]
  },
  {
   "cell_type": "code",
   "execution_count": null,
   "metadata": {},
   "outputs": [],
   "source": []
  },
  {
   "cell_type": "markdown",
   "metadata": {},
   "source": [
    "### Varianten ausprobieren"
   ]
  },
  {
   "cell_type": "markdown",
   "metadata": {},
   "source": [
    "In unserem Onlinecharting-Tool wollen wir die Daten nicht auf Tages-, sondern auf Wochenbasis zeigen.\n",
    "\n",
    "Weil inzwischen neue Länder dazugekommen sind, müssen wir die Kalkulation nochmals ausführen."
   ]
  },
  {
   "cell_type": "code",
   "execution_count": null,
   "metadata": {},
   "outputs": [],
   "source": [
    "df_cases_w = df_cases.resample('W').sum()\n",
    "df_deaths_w = df_deaths.resample('W').sum()"
   ]
  },
  {
   "cell_type": "markdown",
   "metadata": {},
   "source": [
    "Um das schön zu plotten, müssen wir die Funktion leicht anpassen:"
   ]
  },
  {
   "cell_type": "code",
   "execution_count": null,
   "metadata": {},
   "outputs": [],
   "source": [
    "def countrychart_weekly(country, color):\n",
    "\n",
    "    fig, (ax1, ax2) = plt.subplots(1, 2, figsize=(16,4))\n",
    "\n",
    "    data = df_cases_w\n",
    "    ax1.bar(data.index.strftime(date_format=\"%d %b %Y\"), data[country], color=color)\n",
    "    ax1.xaxis.set_major_locator(ticker.LinearLocator(numticks=9))\n",
    "    ax1.set_title('Case incidence in ' + country)\n",
    "    ax1.set_ylabel('Count')\n",
    "    ax1.set_xlabel('Date')\n",
    "    \n",
    "    data = df_deaths_w\n",
    "    ax2.bar(data.index.strftime(date_format=\"%d %b %Y\"), data[country], color=color)\n",
    "    ax2.xaxis.set_major_locator(ticker.LinearLocator(numticks=9))\n",
    "    ax2.set_title('Deaths in ' + country)\n",
    "    ax2.set_ylabel('Count')\n",
    "    ax2.set_xlabel('Date')\n",
    "    \n",
    "    fig.autofmt_xdate(rotation=90)"
   ]
  },
  {
   "cell_type": "code",
   "execution_count": null,
   "metadata": {},
   "outputs": [],
   "source": [
    "countrychart_weekly('Entwicklungsländer', '#e377c2')"
   ]
  },
  {
   "cell_type": "code",
   "execution_count": null,
   "metadata": {},
   "outputs": [],
   "source": [
    "countrychart_weekly('Schwellenländer', '#17becf')"
   ]
  },
  {
   "cell_type": "code",
   "execution_count": null,
   "metadata": {},
   "outputs": [],
   "source": [
    "countrychart_weekly('Industrieländer', '#bcbd22')"
   ]
  },
  {
   "cell_type": "markdown",
   "metadata": {},
   "source": [
    "### Daten exportieren"
   ]
  },
  {
   "cell_type": "markdown",
   "metadata": {},
   "source": [
    "Um unsere Charts ins Web-CMS zu übernehmen, müssen wir sie in brauchbarer Form exportieren.\n",
    "\n",
    "Wir wollen drei verschiedene csv-Files haben (je eines pro Ländergruppe)."
   ]
  },
  {
   "cell_type": "code",
   "execution_count": null,
   "metadata": {},
   "outputs": [],
   "source": [
    "countries = [\n",
    "    'Entwicklungsländer',\n",
    "    'Schwellenländer',\n",
    "    'Industrieländer'\n",
    "]"
   ]
  },
  {
   "cell_type": "code",
   "execution_count": null,
   "metadata": {},
   "outputs": [],
   "source": [
    "path = 'dataprojects/covid/charts/'"
   ]
  },
  {
   "cell_type": "code",
   "execution_count": null,
   "metadata": {},
   "outputs": [],
   "source": [
    "for country in countries:\n",
    "    df_deaths_w[[country]].round(3).rename(columns={country: 'value'}).to_csv(path + country + '_Fallzahlen.csv')\n",
    "    df_deaths_w[[country]].round(3).rename(columns={country: 'value'}).to_csv(path + country + '_Todeszahlen.csv')"
   ]
  },
  {
   "cell_type": "code",
   "execution_count": null,
   "metadata": {},
   "outputs": [],
   "source": []
  },
  {
   "cell_type": "markdown",
   "metadata": {},
   "source": [
    "## Resumé"
   ]
  },
  {
   "cell_type": "markdown",
   "metadata": {},
   "source": [
    "Wir haben in diesem Notebook gesehen:\n",
    "- Pandas ist ziemlich praktisch, um Daten direkt aus dem Web abzuzapfen und zu analysieren\n",
    "- Man kann logbuchartig die Bearbeitung festhalten und dokumentieren\n",
    "- Die Analyse lässt sich jederzeit wiederholen und updaten\n",
    "- Es braucht relativ wenig Code, um Daten zu transformieren (zB wöchentliche Summen)\n",
    "- Plotten in Pandas ist simpel, um ersten Eindruck zu erhalten\n",
    "- Schöne Plots in Pandas sind aber mühsam (aber meistens auch nicht nötig)"
   ]
  },
  {
   "cell_type": "markdown",
   "metadata": {},
   "source": [
    "Doch die Einfachheit entbindet uns nicht davon, zu überlegen, ob das, was wir tun, auch sinnvoll ist!"
   ]
  },
  {
   "cell_type": "markdown",
   "metadata": {},
   "source": [
    "**Frage**: Was sind mögliche Probleme und Fallstricke, die wir bei den obigen Charts haben?"
   ]
  },
  {
   "cell_type": "code",
   "execution_count": null,
   "metadata": {},
   "outputs": [],
   "source": [
    "# Platz für Antworten"
   ]
  },
  {
   "cell_type": "code",
   "execution_count": null,
   "metadata": {},
   "outputs": [],
   "source": []
  },
  {
   "cell_type": "code",
   "execution_count": null,
   "metadata": {},
   "outputs": [],
   "source": []
  },
  {
   "cell_type": "code",
   "execution_count": null,
   "metadata": {},
   "outputs": [],
   "source": []
  },
  {
   "cell_type": "code",
   "execution_count": null,
   "metadata": {},
   "outputs": [],
   "source": []
  }
 ],
 "metadata": {
  "kernelspec": {
   "display_name": "Python 3 (ipykernel)",
   "language": "python",
   "name": "python3"
  },
  "language_info": {
   "codemirror_mode": {
    "name": "ipython",
    "version": 3
   },
   "file_extension": ".py",
   "mimetype": "text/x-python",
   "name": "python",
   "nbconvert_exporter": "python",
   "pygments_lexer": "ipython3",
   "version": "3.10.6"
  }
 },
 "nbformat": 4,
 "nbformat_minor": 2
}
