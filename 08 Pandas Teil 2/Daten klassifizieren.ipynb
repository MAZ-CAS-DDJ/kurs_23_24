{
 "cells": [
  {
   "cell_type": "markdown",
   "metadata": {},
   "source": [
    "# Daten klassifizieren"
   ]
  },
  {
   "cell_type": "markdown",
   "metadata": {},
   "source": [
    "**Inhalt:** Unsaubere Daten laden und klassifizieren\n",
    "\n",
    "**Nötige Skills:** Erste Schritte mit Pandas\n",
    "\n",
    "**Lernziele:**\n",
    "- Daten auf Integrität prüfen\n",
    "- Einfaches Putzen der gröbsten Fehler\n",
    "- Daten klassifizieren, auf die schnelle und saubere Art\n",
    "- Plotting Level 2: mehrere Serien"
   ]
  },
  {
   "cell_type": "markdown",
   "metadata": {},
   "source": [
    "# Das Beispiel"
   ]
  },
  {
   "cell_type": "markdown",
   "metadata": {},
   "source": [
    "P3-Datenbank des Schweizerischen Nationalfonds. Beinhaltet alle Forschungsprojekte, die seit 1975 vom SNF Fördergelder erhalten haben.\n",
    "\n",
    "Quelle und Dokumentation: http://p3.snf.ch/Pages/DataAndDocumentation.aspx\n",
    "\n",
    "Datenfile: http://p3.snf.ch/P3Export/P3_GrantExport.csv\n",
    "\n",
    "Die Datei ist bereits abgelegt: `dataprojects/SNF/`"
   ]
  },
  {
   "cell_type": "markdown",
   "metadata": {},
   "source": [
    "## Vorbereitung"
   ]
  },
  {
   "cell_type": "markdown",
   "metadata": {},
   "source": [
    "Wir laden diesmal nicht nur das Pandas-Modul, sondern auch NumPy.\n",
    "\n",
    "*NumPy is the fundamental package for scientific computing with Python): http://www.numpy.org/*"
   ]
  },
  {
   "cell_type": "code",
   "execution_count": 1,
   "metadata": {},
   "outputs": [],
   "source": [
    "import pandas as pd"
   ]
  },
  {
   "cell_type": "code",
   "execution_count": 2,
   "metadata": {},
   "outputs": [],
   "source": [
    "import numpy as np"
   ]
  },
  {
   "cell_type": "markdown",
   "metadata": {},
   "source": [
    "## Datenfile laden"
   ]
  },
  {
   "cell_type": "markdown",
   "metadata": {},
   "source": [
    "Wie gehabt ... Achtung, die Felder sind nicht durch Kommas sondern durch Semikolon abgetrennt!"
   ]
  },
  {
   "cell_type": "code",
   "execution_count": 3,
   "metadata": {},
   "outputs": [],
   "source": [
    "path = \"dataprojects/SNF/P3_GrantExport.csv\""
   ]
  },
  {
   "cell_type": "code",
   "execution_count": 4,
   "metadata": {},
   "outputs": [],
   "source": [
    "df = pd.read_csv(path, delimiter=';')"
   ]
  },
  {
   "cell_type": "code",
   "execution_count": 5,
   "metadata": {},
   "outputs": [
    {
     "data": {
      "text/html": [
       "<div>\n",
       "<style scoped>\n",
       "    .dataframe tbody tr th:only-of-type {\n",
       "        vertical-align: middle;\n",
       "    }\n",
       "\n",
       "    .dataframe tbody tr th {\n",
       "        vertical-align: top;\n",
       "    }\n",
       "\n",
       "    .dataframe thead th {\n",
       "        text-align: right;\n",
       "    }\n",
       "</style>\n",
       "<table border=\"1\" class=\"dataframe\">\n",
       "  <thead>\n",
       "    <tr style=\"text-align: right;\">\n",
       "      <th></th>\n",
       "      <th>Project Number</th>\n",
       "      <th>Project Number String</th>\n",
       "      <th>Project Title</th>\n",
       "      <th>Project Title English</th>\n",
       "      <th>Responsible Applicant</th>\n",
       "      <th>Funding Instrument</th>\n",
       "      <th>Funding Instrument Hierarchy</th>\n",
       "      <th>Institution</th>\n",
       "      <th>Institution Country</th>\n",
       "      <th>University</th>\n",
       "      <th>Discipline Number</th>\n",
       "      <th>Discipline Name</th>\n",
       "      <th>Discipline Name Hierarchy</th>\n",
       "      <th>All disciplines</th>\n",
       "      <th>Start Date</th>\n",
       "      <th>End Date</th>\n",
       "      <th>Approved Amount</th>\n",
       "      <th>Keywords</th>\n",
       "    </tr>\n",
       "  </thead>\n",
       "  <tbody>\n",
       "    <tr>\n",
       "      <th>0</th>\n",
       "      <td>1</td>\n",
       "      <td>1000-000001</td>\n",
       "      <td>Schlussband (Bd. VI) der Jacob Burckhardt-Biog...</td>\n",
       "      <td>NaN</td>\n",
       "      <td>Kaegi Werner</td>\n",
       "      <td>Project funding</td>\n",
       "      <td>Projects</td>\n",
       "      <td>NaN</td>\n",
       "      <td>NaN</td>\n",
       "      <td>Unassignable - NA</td>\n",
       "      <td>10302</td>\n",
       "      <td>Swiss history</td>\n",
       "      <td>Humanities and Social Sciences;Theology &amp; reli...</td>\n",
       "      <td>10302</td>\n",
       "      <td>01.10.1975</td>\n",
       "      <td>30.09.1976</td>\n",
       "      <td>11619.00</td>\n",
       "      <td>NaN</td>\n",
       "    </tr>\n",
       "    <tr>\n",
       "      <th>1</th>\n",
       "      <td>4</td>\n",
       "      <td>1000-000004</td>\n",
       "      <td>Batterie de tests à l'usage des enseignants po...</td>\n",
       "      <td>NaN</td>\n",
       "      <td>Massarenti Léonard</td>\n",
       "      <td>Project funding</td>\n",
       "      <td>Projects</td>\n",
       "      <td>FPSE  Université de Genève</td>\n",
       "      <td>Switzerland</td>\n",
       "      <td>University of Geneva - GE</td>\n",
       "      <td>10104</td>\n",
       "      <td>Education and learning sciences, subject-speci...</td>\n",
       "      <td>Humanities and Social Sciences;Psychology, edu...</td>\n",
       "      <td>10104</td>\n",
       "      <td>01.10.1975</td>\n",
       "      <td>30.09.1976</td>\n",
       "      <td>41022.00</td>\n",
       "      <td>NaN</td>\n",
       "    </tr>\n",
       "  </tbody>\n",
       "</table>\n",
       "</div>"
      ],
      "text/plain": [
       "   Project Number Project Number String  \\\n",
       "0               1           1000-000001   \n",
       "1               4           1000-000004   \n",
       "\n",
       "                                       Project Title Project Title English  \\\n",
       "0  Schlussband (Bd. VI) der Jacob Burckhardt-Biog...                   NaN   \n",
       "1  Batterie de tests à l'usage des enseignants po...                   NaN   \n",
       "\n",
       "  Responsible Applicant Funding Instrument Funding Instrument Hierarchy  \\\n",
       "0          Kaegi Werner    Project funding                     Projects   \n",
       "1    Massarenti Léonard    Project funding                     Projects   \n",
       "\n",
       "                  Institution Institution Country                 University  \\\n",
       "0                         NaN                 NaN          Unassignable - NA   \n",
       "1  FPSE  Université de Genève         Switzerland  University of Geneva - GE   \n",
       "\n",
       "   Discipline Number                                    Discipline Name  \\\n",
       "0              10302                                      Swiss history   \n",
       "1              10104  Education and learning sciences, subject-speci...   \n",
       "\n",
       "                           Discipline Name Hierarchy All disciplines  \\\n",
       "0  Humanities and Social Sciences;Theology & reli...           10302   \n",
       "1  Humanities and Social Sciences;Psychology, edu...           10104   \n",
       "\n",
       "   Start Date    End Date Approved Amount Keywords  \n",
       "0  01.10.1975  30.09.1976        11619.00      NaN  \n",
       "1  01.10.1975  30.09.1976        41022.00      NaN  "
      ]
     },
     "execution_count": 5,
     "metadata": {},
     "output_type": "execute_result"
    }
   ],
   "source": [
    "df.head(2)"
   ]
  },
  {
   "cell_type": "markdown",
   "metadata": {},
   "source": [
    "Besser! Schauen wir uns die Sache mal näher an."
   ]
  },
  {
   "cell_type": "code",
   "execution_count": 6,
   "metadata": {},
   "outputs": [
    {
     "data": {
      "text/plain": [
       "(79242, 18)"
      ]
     },
     "execution_count": 6,
     "metadata": {},
     "output_type": "execute_result"
    }
   ],
   "source": [
    "df.shape"
   ]
  },
  {
   "cell_type": "code",
   "execution_count": 7,
   "metadata": {},
   "outputs": [
    {
     "data": {
      "text/plain": [
       "Project Number                   int64\n",
       "Project Number String           object\n",
       "Project Title                   object\n",
       "Project Title English           object\n",
       "Responsible Applicant           object\n",
       "Funding Instrument              object\n",
       "Funding Instrument Hierarchy    object\n",
       "Institution                     object\n",
       "Institution Country             object\n",
       "University                      object\n",
       "Discipline Number                int64\n",
       "Discipline Name                 object\n",
       "Discipline Name Hierarchy       object\n",
       "All disciplines                 object\n",
       "Start Date                      object\n",
       "End Date                        object\n",
       "Approved Amount                 object\n",
       "Keywords                        object\n",
       "dtype: object"
      ]
     },
     "execution_count": 7,
     "metadata": {},
     "output_type": "execute_result"
    }
   ],
   "source": [
    "df.dtypes"
   ]
  },
  {
   "cell_type": "code",
   "execution_count": 8,
   "metadata": {},
   "outputs": [
    {
     "data": {
      "text/html": [
       "<div>\n",
       "<style scoped>\n",
       "    .dataframe tbody tr th:only-of-type {\n",
       "        vertical-align: middle;\n",
       "    }\n",
       "\n",
       "    .dataframe tbody tr th {\n",
       "        vertical-align: top;\n",
       "    }\n",
       "\n",
       "    .dataframe thead th {\n",
       "        text-align: right;\n",
       "    }\n",
       "</style>\n",
       "<table border=\"1\" class=\"dataframe\">\n",
       "  <thead>\n",
       "    <tr style=\"text-align: right;\">\n",
       "      <th></th>\n",
       "      <th>Project Number</th>\n",
       "      <th>Discipline Number</th>\n",
       "    </tr>\n",
       "  </thead>\n",
       "  <tbody>\n",
       "    <tr>\n",
       "      <th>count</th>\n",
       "      <td>79242.000000</td>\n",
       "      <td>79242.000000</td>\n",
       "    </tr>\n",
       "    <tr>\n",
       "      <th>mean</th>\n",
       "      <td>104218.986876</td>\n",
       "      <td>19836.788761</td>\n",
       "    </tr>\n",
       "    <tr>\n",
       "      <th>std</th>\n",
       "      <td>62670.314791</td>\n",
       "      <td>8320.083710</td>\n",
       "    </tr>\n",
       "    <tr>\n",
       "      <th>min</th>\n",
       "      <td>1.000000</td>\n",
       "      <td>0.000000</td>\n",
       "    </tr>\n",
       "    <tr>\n",
       "      <th>25%</th>\n",
       "      <td>44782.250000</td>\n",
       "      <td>10303.000000</td>\n",
       "    </tr>\n",
       "    <tr>\n",
       "      <th>50%</th>\n",
       "      <td>116769.000000</td>\n",
       "      <td>20404.000000</td>\n",
       "    </tr>\n",
       "    <tr>\n",
       "      <th>75%</th>\n",
       "      <td>156512.500000</td>\n",
       "      <td>30103.000000</td>\n",
       "    </tr>\n",
       "    <tr>\n",
       "      <th>max</th>\n",
       "      <td>214011.000000</td>\n",
       "      <td>50000.000000</td>\n",
       "    </tr>\n",
       "  </tbody>\n",
       "</table>\n",
       "</div>"
      ],
      "text/plain": [
       "       Project Number  Discipline Number\n",
       "count    79242.000000       79242.000000\n",
       "mean    104218.986876       19836.788761\n",
       "std      62670.314791        8320.083710\n",
       "min          1.000000           0.000000\n",
       "25%      44782.250000       10303.000000\n",
       "50%     116769.000000       20404.000000\n",
       "75%     156512.500000       30103.000000\n",
       "max     214011.000000       50000.000000"
      ]
     },
     "execution_count": 8,
     "metadata": {},
     "output_type": "execute_result"
    }
   ],
   "source": [
    "df.describe()"
   ]
  },
  {
   "cell_type": "markdown",
   "metadata": {},
   "source": [
    "Offensichtlich hat es einige Spalten drin, die noch nicht mit dem richtigen Datentyp formatiert sind, z.B. \"Approved Amount\".\n",
    "\n",
    "Das Problem ist: So lange wir da nicht die richtigen Datentypen haben, funktionieren einige Auswertungen nicht."
   ]
  },
  {
   "cell_type": "code",
   "execution_count": 9,
   "metadata": {},
   "outputs": [],
   "source": [
    "#Zum Beispiel diese hier:\n",
    "#df['Approved Amount'].mean()"
   ]
  },
  {
   "cell_type": "markdown",
   "metadata": {},
   "source": [
    "Eigentlich wären das sehr interessante Informationen: wie viel Geld haben die Projekte im Schnitt gekriegt, im Maximum, im Minimum, etc.\n",
    "\n",
    "## Entfernen von ungültigen Werten\n",
    "\n",
    "Wir müssen also irgendwie diese Spalte reinigen, damit Pandas die Berechungen für uns machen kann.\n",
    "\n",
    "Um herauszukriegen, was das Problem sein könnte, ist `value_counts()` eine ziemlich einfache Option."
   ]
  },
  {
   "cell_type": "code",
   "execution_count": 10,
   "metadata": {},
   "outputs": [
    {
     "data": {
      "text/plain": [
       "Approved Amount\n",
       "0.00                          90\n",
       "100.00                         1\n",
       "1000.00                       33\n",
       "10000.00                     674\n",
       "100000.00                    264\n",
       "                           ...  \n",
       "99996.00                       1\n",
       "999976.00                      1\n",
       "99998.00                       2\n",
       "99999.00                       1\n",
       "data not included in P3    14053\n",
       "Name: count, Length: 44075, dtype: int64"
      ]
     },
     "execution_count": 10,
     "metadata": {},
     "output_type": "execute_result"
    }
   ],
   "source": [
    "df['Approved Amount'].value_counts().sort_index()"
   ]
  },
  {
   "cell_type": "markdown",
   "metadata": {},
   "source": [
    "Das Problem liegt in der letzten Zeile: Bei sehr vielen Einträgen steht: \"`data not included in P3`.\"\n",
    "\n",
    "Wir können das lösen, indem wir die Daten nochmals einlesen. Und zwar mit einer Option: Die Option heisst `na_values=` (na = Not Available, wird durch NaN ersetzt = Not a Number oder so)"
   ]
  },
  {
   "cell_type": "code",
   "execution_count": 11,
   "metadata": {},
   "outputs": [],
   "source": [
    "df = pd.read_csv(path, delimiter=';', na_values='data not included in P3')"
   ]
  },
  {
   "cell_type": "markdown",
   "metadata": {},
   "source": [
    "Tadaaa!"
   ]
  },
  {
   "cell_type": "code",
   "execution_count": 12,
   "metadata": {},
   "outputs": [
    {
     "data": {
      "text/plain": [
       "Project Number                    int64\n",
       "Project Number String            object\n",
       "Project Title                    object\n",
       "Project Title English            object\n",
       "Responsible Applicant            object\n",
       "Funding Instrument               object\n",
       "Funding Instrument Hierarchy     object\n",
       "Institution                      object\n",
       "Institution Country              object\n",
       "University                       object\n",
       "Discipline Number                 int64\n",
       "Discipline Name                  object\n",
       "Discipline Name Hierarchy        object\n",
       "All disciplines                  object\n",
       "Start Date                       object\n",
       "End Date                         object\n",
       "Approved Amount                 float64\n",
       "Keywords                         object\n",
       "dtype: object"
      ]
     },
     "execution_count": 12,
     "metadata": {},
     "output_type": "execute_result"
    }
   ],
   "source": [
    "df.dtypes"
   ]
  },
  {
   "cell_type": "markdown",
   "metadata": {},
   "source": [
    "**Übrigens:** Um zu checken, was es eigentlich mit den ungültigen Einträgen eigentlich auf sich hat, können wir `.isnull()` verwenden:"
   ]
  },
  {
   "cell_type": "code",
   "execution_count": 13,
   "metadata": {},
   "outputs": [
    {
     "data": {
      "text/html": [
       "<div>\n",
       "<style scoped>\n",
       "    .dataframe tbody tr th:only-of-type {\n",
       "        vertical-align: middle;\n",
       "    }\n",
       "\n",
       "    .dataframe tbody tr th {\n",
       "        vertical-align: top;\n",
       "    }\n",
       "\n",
       "    .dataframe thead th {\n",
       "        text-align: right;\n",
       "    }\n",
       "</style>\n",
       "<table border=\"1\" class=\"dataframe\">\n",
       "  <thead>\n",
       "    <tr style=\"text-align: right;\">\n",
       "      <th></th>\n",
       "      <th>Project Number</th>\n",
       "      <th>Project Number String</th>\n",
       "      <th>Project Title</th>\n",
       "      <th>Project Title English</th>\n",
       "      <th>Responsible Applicant</th>\n",
       "      <th>Funding Instrument</th>\n",
       "      <th>Funding Instrument Hierarchy</th>\n",
       "      <th>Institution</th>\n",
       "      <th>Institution Country</th>\n",
       "      <th>University</th>\n",
       "      <th>Discipline Number</th>\n",
       "      <th>Discipline Name</th>\n",
       "      <th>Discipline Name Hierarchy</th>\n",
       "      <th>All disciplines</th>\n",
       "      <th>Start Date</th>\n",
       "      <th>End Date</th>\n",
       "      <th>Approved Amount</th>\n",
       "      <th>Keywords</th>\n",
       "    </tr>\n",
       "  </thead>\n",
       "  <tbody>\n",
       "    <tr>\n",
       "      <th>9210</th>\n",
       "      <td>20001</td>\n",
       "      <td>81AM-020001</td>\n",
       "      <td>Therapie beim Morbus Hodgkin.</td>\n",
       "      <td>NaN</td>\n",
       "      <td>Wernli Martin</td>\n",
       "      <td>Fellowships for prospective researchers</td>\n",
       "      <td>Careers;Fellowships</td>\n",
       "      <td>UNI: Cancer Research Center University of Ch i...</td>\n",
       "      <td>United States of America</td>\n",
       "      <td>Institution abroad - IACH</td>\n",
       "      <td>30703</td>\n",
       "      <td>Clinical Cancer Research</td>\n",
       "      <td>Biology and Medicine;Clinical Medicine</td>\n",
       "      <td>30703</td>\n",
       "      <td>01.11.1986</td>\n",
       "      <td>31.10.1987</td>\n",
       "      <td>NaN</td>\n",
       "      <td>NaN</td>\n",
       "    </tr>\n",
       "    <tr>\n",
       "      <th>9211</th>\n",
       "      <td>20002</td>\n",
       "      <td>81AM-020002</td>\n",
       "      <td>Immunologie des Typ-1 Diabetes.</td>\n",
       "      <td>NaN</td>\n",
       "      <td>Atar Dan</td>\n",
       "      <td>Fellowships for prospective researchers</td>\n",
       "      <td>Careers;Fellowships</td>\n",
       "      <td>UNI: Hagedorn Research Laboratory Steno Memo r...</td>\n",
       "      <td>Denmark</td>\n",
       "      <td>Institution abroad - IACH</td>\n",
       "      <td>30403</td>\n",
       "      <td>Immunology, Immunopathology</td>\n",
       "      <td>Biology and Medicine;Experimental Medicine</td>\n",
       "      <td>30403</td>\n",
       "      <td>01.01.1987</td>\n",
       "      <td>31.12.1987</td>\n",
       "      <td>NaN</td>\n",
       "      <td>NaN</td>\n",
       "    </tr>\n",
       "    <tr>\n",
       "      <th>9212</th>\n",
       "      <td>20003</td>\n",
       "      <td>81AM-020003</td>\n",
       "      <td>Infektionen bei Immunsuppression.</td>\n",
       "      <td>NaN</td>\n",
       "      <td>Ruef Christian</td>\n",
       "      <td>Fellowships for prospective researchers</td>\n",
       "      <td>Careers;Fellowships</td>\n",
       "      <td>UNI: Yale Univ Dept of Internal Medicineory Ne...</td>\n",
       "      <td>United States of America</td>\n",
       "      <td>Institution abroad - IACH</td>\n",
       "      <td>30701</td>\n",
       "      <td>Internal Medicine</td>\n",
       "      <td>Biology and Medicine;Clinical Medicine</td>\n",
       "      <td>30701</td>\n",
       "      <td>01.07.1987</td>\n",
       "      <td>30.06.1988</td>\n",
       "      <td>NaN</td>\n",
       "      <td>NaN</td>\n",
       "    </tr>\n",
       "    <tr>\n",
       "      <th>9213</th>\n",
       "      <td>20004</td>\n",
       "      <td>81AT-020004</td>\n",
       "      <td>'Modern and Applied Optics'.</td>\n",
       "      <td>NaN</td>\n",
       "      <td>Kellenberger Regula</td>\n",
       "      <td>Fellowships for prospective researchers</td>\n",
       "      <td>Careers;Fellowships</td>\n",
       "      <td>UNI: University of Reading Reading/    GB</td>\n",
       "      <td>Great Britain and Northern Ireland</td>\n",
       "      <td>Institution abroad - IACH</td>\n",
       "      <td>20508</td>\n",
       "      <td>Microelectronics. Optoelectronics</td>\n",
       "      <td>Mathematics, Natural- and Engineering Sciences...</td>\n",
       "      <td>20508</td>\n",
       "      <td>01.09.1986</td>\n",
       "      <td>31.08.1987</td>\n",
       "      <td>NaN</td>\n",
       "      <td>NaN</td>\n",
       "    </tr>\n",
       "    <tr>\n",
       "      <th>9214</th>\n",
       "      <td>20005</td>\n",
       "      <td>81AT-020005</td>\n",
       "      <td>Traitement digital du signal et architecture d...</td>\n",
       "      <td>NaN</td>\n",
       "      <td>Piot Julien</td>\n",
       "      <td>Fellowships for prospective researchers</td>\n",
       "      <td>Careers;Fellowships</td>\n",
       "      <td>UNI: Massachusetts    USA</td>\n",
       "      <td>United States of America</td>\n",
       "      <td>Institution abroad - IACH</td>\n",
       "      <td>20504</td>\n",
       "      <td>Electrical Engineering</td>\n",
       "      <td>Mathematics, Natural- and Engineering Sciences...</td>\n",
       "      <td>20504</td>\n",
       "      <td>01.09.1986</td>\n",
       "      <td>31.08.1987</td>\n",
       "      <td>NaN</td>\n",
       "      <td>NaN</td>\n",
       "    </tr>\n",
       "    <tr>\n",
       "      <th>...</th>\n",
       "      <td>...</td>\n",
       "      <td>...</td>\n",
       "      <td>...</td>\n",
       "      <td>...</td>\n",
       "      <td>...</td>\n",
       "      <td>...</td>\n",
       "      <td>...</td>\n",
       "      <td>...</td>\n",
       "      <td>...</td>\n",
       "      <td>...</td>\n",
       "      <td>...</td>\n",
       "      <td>...</td>\n",
       "      <td>...</td>\n",
       "      <td>...</td>\n",
       "      <td>...</td>\n",
       "      <td>...</td>\n",
       "      <td>...</td>\n",
       "      <td>...</td>\n",
       "    </tr>\n",
       "    <tr>\n",
       "      <th>79163</th>\n",
       "      <td>213175</td>\n",
       "      <td>P1EZP2_213175</td>\n",
       "      <td>Data-driven Trans-topological Design Explorati...</td>\n",
       "      <td>Data-driven Trans-topological Design Explorati...</td>\n",
       "      <td>Tam Mark</td>\n",
       "      <td>Doc.Mobility</td>\n",
       "      <td>Careers;Fellowships</td>\n",
       "      <td>Leibniz-Institut</td>\n",
       "      <td>Germany</td>\n",
       "      <td>Institution abroad - IACH</td>\n",
       "      <td>20501</td>\n",
       "      <td>Civil Engineering</td>\n",
       "      <td>Mathematics, Natural- and Engineering Sciences...</td>\n",
       "      <td>20501/10407</td>\n",
       "      <td>01.05.2022</td>\n",
       "      <td>31.10.2022</td>\n",
       "      <td>NaN</td>\n",
       "      <td>Geometric Deep Learning; Structural Form-findi...</td>\n",
       "    </tr>\n",
       "    <tr>\n",
       "      <th>79181</th>\n",
       "      <td>213314</td>\n",
       "      <td>P1FRP3_213314</td>\n",
       "      <td>Interplay between neural stem cell states and ...</td>\n",
       "      <td>Interplay between neural stem cell states and ...</td>\n",
       "      <td>Adeyinka Dotun</td>\n",
       "      <td>Doc.Mobility</td>\n",
       "      <td>Careers;Fellowships</td>\n",
       "      <td>Department of Life Sciences Imperial College L...</td>\n",
       "      <td>Great Britain and Northern Ireland</td>\n",
       "      <td>Institution abroad - IACH</td>\n",
       "      <td>30103</td>\n",
       "      <td>Cellular Biology, Cytology</td>\n",
       "      <td>Biology and Medicine;Basic Biological Research</td>\n",
       "      <td>30103/30105/30102</td>\n",
       "      <td>01.06.2022</td>\n",
       "      <td>30.11.2022</td>\n",
       "      <td>NaN</td>\n",
       "      <td>cell fate; cell cycle regulation; DamID; neura...</td>\n",
       "    </tr>\n",
       "    <tr>\n",
       "      <th>79222</th>\n",
       "      <td>213895</td>\n",
       "      <td>P1NEP1_213895</td>\n",
       "      <td>TBT+ Provisions in Preferential Trade Agreemen...</td>\n",
       "      <td>NaN</td>\n",
       "      <td>Nuzzo Silvia</td>\n",
       "      <td>Doc.Mobility</td>\n",
       "      <td>Careers;Fellowships</td>\n",
       "      <td>Université Libre de Bruxelles</td>\n",
       "      <td>Belgium</td>\n",
       "      <td>Institution abroad - IACH</td>\n",
       "      <td>10205</td>\n",
       "      <td>Legal sciences</td>\n",
       "      <td>Humanities and Social Sciences;Economics, law</td>\n",
       "      <td>10205</td>\n",
       "      <td>01.08.2022</td>\n",
       "      <td>31.12.2022</td>\n",
       "      <td>NaN</td>\n",
       "      <td>Trade Policy; Preferential Trade Agreements ; ...</td>\n",
       "    </tr>\n",
       "    <tr>\n",
       "      <th>79223</th>\n",
       "      <td>213896</td>\n",
       "      <td>P1ELP1_213896</td>\n",
       "      <td>La fabrique du papier glacé : le groupe de pre...</td>\n",
       "      <td>NaN</td>\n",
       "      <td>Paccaud Emmanuelle</td>\n",
       "      <td>Doc.Mobility</td>\n",
       "      <td>Careers;Fellowships</td>\n",
       "      <td>Université de Versailles Centre d'histoire cul...</td>\n",
       "      <td>France</td>\n",
       "      <td>Institution abroad - IACH</td>\n",
       "      <td>10301</td>\n",
       "      <td>General history (without pre-and early history)</td>\n",
       "      <td>Humanities and Social Sciences;Theology &amp; reli...</td>\n",
       "      <td>10301</td>\n",
       "      <td>01.08.2022</td>\n",
       "      <td>31.01.2023</td>\n",
       "      <td>NaN</td>\n",
       "      <td>histoire des médias; circulations médiatiques;...</td>\n",
       "    </tr>\n",
       "    <tr>\n",
       "      <th>79225</th>\n",
       "      <td>213903</td>\n",
       "      <td>P1SKP1_213903</td>\n",
       "      <td>Non-Discrimination: Sex, Social Policy, and th...</td>\n",
       "      <td>NaN</td>\n",
       "      <td>Dubler Roslyn</td>\n",
       "      <td>Doc.Mobility</td>\n",
       "      <td>Careers;Fellowships</td>\n",
       "      <td>Department of History and Civilization Europea...</td>\n",
       "      <td>Italy</td>\n",
       "      <td>Institution abroad - IACH</td>\n",
       "      <td>10301</td>\n",
       "      <td>General history (without pre-and early history)</td>\n",
       "      <td>Humanities and Social Sciences;Theology &amp; reli...</td>\n",
       "      <td>10301/10205/10202</td>\n",
       "      <td>01.07.2022</td>\n",
       "      <td>28.02.2023</td>\n",
       "      <td>NaN</td>\n",
       "      <td>gender equality; the welfare state; European I...</td>\n",
       "    </tr>\n",
       "  </tbody>\n",
       "</table>\n",
       "<p>14053 rows × 18 columns</p>\n",
       "</div>"
      ],
      "text/plain": [
       "       Project Number Project Number String  \\\n",
       "9210            20001           81AM-020001   \n",
       "9211            20002           81AM-020002   \n",
       "9212            20003           81AM-020003   \n",
       "9213            20004           81AT-020004   \n",
       "9214            20005           81AT-020005   \n",
       "...               ...                   ...   \n",
       "79163          213175         P1EZP2_213175   \n",
       "79181          213314         P1FRP3_213314   \n",
       "79222          213895         P1NEP1_213895   \n",
       "79223          213896         P1ELP1_213896   \n",
       "79225          213903         P1SKP1_213903   \n",
       "\n",
       "                                           Project Title  \\\n",
       "9210                       Therapie beim Morbus Hodgkin.   \n",
       "9211                     Immunologie des Typ-1 Diabetes.   \n",
       "9212                   Infektionen bei Immunsuppression.   \n",
       "9213                        'Modern and Applied Optics'.   \n",
       "9214   Traitement digital du signal et architecture d...   \n",
       "...                                                  ...   \n",
       "79163  Data-driven Trans-topological Design Explorati...   \n",
       "79181  Interplay between neural stem cell states and ...   \n",
       "79222  TBT+ Provisions in Preferential Trade Agreemen...   \n",
       "79223  La fabrique du papier glacé : le groupe de pre...   \n",
       "79225  Non-Discrimination: Sex, Social Policy, and th...   \n",
       "\n",
       "                                   Project Title English  \\\n",
       "9210                                                 NaN   \n",
       "9211                                                 NaN   \n",
       "9212                                                 NaN   \n",
       "9213                                                 NaN   \n",
       "9214                                                 NaN   \n",
       "...                                                  ...   \n",
       "79163  Data-driven Trans-topological Design Explorati...   \n",
       "79181  Interplay between neural stem cell states and ...   \n",
       "79222                                                NaN   \n",
       "79223                                                NaN   \n",
       "79225                                                NaN   \n",
       "\n",
       "      Responsible Applicant                       Funding Instrument  \\\n",
       "9210          Wernli Martin  Fellowships for prospective researchers   \n",
       "9211               Atar Dan  Fellowships for prospective researchers   \n",
       "9212         Ruef Christian  Fellowships for prospective researchers   \n",
       "9213    Kellenberger Regula  Fellowships for prospective researchers   \n",
       "9214            Piot Julien  Fellowships for prospective researchers   \n",
       "...                     ...                                      ...   \n",
       "79163              Tam Mark                             Doc.Mobility   \n",
       "79181        Adeyinka Dotun                             Doc.Mobility   \n",
       "79222          Nuzzo Silvia                             Doc.Mobility   \n",
       "79223    Paccaud Emmanuelle                             Doc.Mobility   \n",
       "79225         Dubler Roslyn                             Doc.Mobility   \n",
       "\n",
       "      Funding Instrument Hierarchy  \\\n",
       "9210           Careers;Fellowships   \n",
       "9211           Careers;Fellowships   \n",
       "9212           Careers;Fellowships   \n",
       "9213           Careers;Fellowships   \n",
       "9214           Careers;Fellowships   \n",
       "...                            ...   \n",
       "79163          Careers;Fellowships   \n",
       "79181          Careers;Fellowships   \n",
       "79222          Careers;Fellowships   \n",
       "79223          Careers;Fellowships   \n",
       "79225          Careers;Fellowships   \n",
       "\n",
       "                                             Institution  \\\n",
       "9210   UNI: Cancer Research Center University of Ch i...   \n",
       "9211   UNI: Hagedorn Research Laboratory Steno Memo r...   \n",
       "9212   UNI: Yale Univ Dept of Internal Medicineory Ne...   \n",
       "9213           UNI: University of Reading Reading/    GB   \n",
       "9214                           UNI: Massachusetts    USA   \n",
       "...                                                  ...   \n",
       "79163                                   Leibniz-Institut   \n",
       "79181  Department of Life Sciences Imperial College L...   \n",
       "79222                      Université Libre de Bruxelles   \n",
       "79223  Université de Versailles Centre d'histoire cul...   \n",
       "79225  Department of History and Civilization Europea...   \n",
       "\n",
       "                      Institution Country                 University  \\\n",
       "9210             United States of America  Institution abroad - IACH   \n",
       "9211                              Denmark  Institution abroad - IACH   \n",
       "9212             United States of America  Institution abroad - IACH   \n",
       "9213   Great Britain and Northern Ireland  Institution abroad - IACH   \n",
       "9214             United States of America  Institution abroad - IACH   \n",
       "...                                   ...                        ...   \n",
       "79163                             Germany  Institution abroad - IACH   \n",
       "79181  Great Britain and Northern Ireland  Institution abroad - IACH   \n",
       "79222                             Belgium  Institution abroad - IACH   \n",
       "79223                              France  Institution abroad - IACH   \n",
       "79225                               Italy  Institution abroad - IACH   \n",
       "\n",
       "       Discipline Number                                  Discipline Name  \\\n",
       "9210               30703                         Clinical Cancer Research   \n",
       "9211               30403                      Immunology, Immunopathology   \n",
       "9212               30701                                Internal Medicine   \n",
       "9213               20508                Microelectronics. Optoelectronics   \n",
       "9214               20504                           Electrical Engineering   \n",
       "...                  ...                                              ...   \n",
       "79163              20501                                Civil Engineering   \n",
       "79181              30103                       Cellular Biology, Cytology   \n",
       "79222              10205                                   Legal sciences   \n",
       "79223              10301  General history (without pre-and early history)   \n",
       "79225              10301  General history (without pre-and early history)   \n",
       "\n",
       "                               Discipline Name Hierarchy    All disciplines  \\\n",
       "9210              Biology and Medicine;Clinical Medicine              30703   \n",
       "9211          Biology and Medicine;Experimental Medicine              30403   \n",
       "9212              Biology and Medicine;Clinical Medicine              30701   \n",
       "9213   Mathematics, Natural- and Engineering Sciences...              20508   \n",
       "9214   Mathematics, Natural- and Engineering Sciences...              20504   \n",
       "...                                                  ...                ...   \n",
       "79163  Mathematics, Natural- and Engineering Sciences...        20501/10407   \n",
       "79181     Biology and Medicine;Basic Biological Research  30103/30105/30102   \n",
       "79222      Humanities and Social Sciences;Economics, law              10205   \n",
       "79223  Humanities and Social Sciences;Theology & reli...              10301   \n",
       "79225  Humanities and Social Sciences;Theology & reli...  10301/10205/10202   \n",
       "\n",
       "       Start Date    End Date  Approved Amount  \\\n",
       "9210   01.11.1986  31.10.1987              NaN   \n",
       "9211   01.01.1987  31.12.1987              NaN   \n",
       "9212   01.07.1987  30.06.1988              NaN   \n",
       "9213   01.09.1986  31.08.1987              NaN   \n",
       "9214   01.09.1986  31.08.1987              NaN   \n",
       "...           ...         ...              ...   \n",
       "79163  01.05.2022  31.10.2022              NaN   \n",
       "79181  01.06.2022  30.11.2022              NaN   \n",
       "79222  01.08.2022  31.12.2022              NaN   \n",
       "79223  01.08.2022  31.01.2023              NaN   \n",
       "79225  01.07.2022  28.02.2023              NaN   \n",
       "\n",
       "                                                Keywords  \n",
       "9210                                                 NaN  \n",
       "9211                                                 NaN  \n",
       "9212                                                 NaN  \n",
       "9213                                                 NaN  \n",
       "9214                                                 NaN  \n",
       "...                                                  ...  \n",
       "79163  Geometric Deep Learning; Structural Form-findi...  \n",
       "79181  cell fate; cell cycle regulation; DamID; neura...  \n",
       "79222  Trade Policy; Preferential Trade Agreements ; ...  \n",
       "79223  histoire des médias; circulations médiatiques;...  \n",
       "79225  gender equality; the welfare state; European I...  \n",
       "\n",
       "[14053 rows x 18 columns]"
      ]
     },
     "execution_count": 13,
     "metadata": {},
     "output_type": "execute_result"
    }
   ],
   "source": [
    "df[df['Approved Amount'].isnull()]"
   ]
  },
  {
   "cell_type": "markdown",
   "metadata": {},
   "source": [
    "Es scheint sich also hier um ein spezielles Förderinstrument zu handeln (\"Fellowships\")."
   ]
  },
  {
   "cell_type": "markdown",
   "metadata": {},
   "source": [
    "### Etwas Repetition vom Tag 1..."
   ]
  },
  {
   "cell_type": "markdown",
   "metadata": {},
   "source": [
    "**Quiz:** Was war der maximale Betrag, den ein Projekt erhielt? Das Minimum? Der Median?"
   ]
  },
  {
   "cell_type": "code",
   "execution_count": 14,
   "metadata": {},
   "outputs": [],
   "source": [
    "#Antwort\n"
   ]
  },
  {
   "cell_type": "code",
   "execution_count": 15,
   "metadata": {},
   "outputs": [],
   "source": [
    "#Antwort\n"
   ]
  },
  {
   "cell_type": "code",
   "execution_count": 16,
   "metadata": {},
   "outputs": [],
   "source": [
    "#Antwort\n"
   ]
  },
  {
   "cell_type": "markdown",
   "metadata": {},
   "source": [
    "**Quiz:** Suche die fünfzig Projekte raus, die am meisten Geld gekriegt haben. Welche Universitäten kommen darunter am meisten vor?"
   ]
  },
  {
   "cell_type": "code",
   "execution_count": 17,
   "metadata": {},
   "outputs": [],
   "source": [
    "#Antwort\n"
   ]
  },
  {
   "cell_type": "markdown",
   "metadata": {},
   "source": [
    "**Quiz:** Stellen Sie die Verteilung sämtlicher gesprochenen Beträge in einem Histogramm dar!"
   ]
  },
  {
   "cell_type": "code",
   "execution_count": 18,
   "metadata": {},
   "outputs": [],
   "source": [
    "#Antwort\n"
   ]
  },
  {
   "cell_type": "markdown",
   "metadata": {},
   "source": [
    "**Quiz:** In welchen Ländern waren die vergebenen Beträge im Schnitt am Grössten? Zeigen Sie die zehn obersten an."
   ]
  },
  {
   "cell_type": "code",
   "execution_count": 19,
   "metadata": {},
   "outputs": [],
   "source": [
    "#Antwort\n"
   ]
  },
  {
   "cell_type": "code",
   "execution_count": 20,
   "metadata": {},
   "outputs": [],
   "source": [
    "# Time for a break ..."
   ]
  },
  {
   "cell_type": "markdown",
   "metadata": {},
   "source": [
    "## Werte Kategorisieren"
   ]
  },
  {
   "cell_type": "markdown",
   "metadata": {},
   "source": [
    "Unser Ziel in dieser Sektion: Wir wollen verschiedene *Typen* von Institutionen unterscheiden und auswerten.\n",
    "\n",
    "Wir beschränken uns der Einfachheit halter auf die Institutionen in der Schweiz, die vom SNF Geld gekriegt haben.\n",
    "\n",
    "Wir erstellen erstmal ein Dataframe, in dem nur diese Institutionen vorkommen:\n",
    "\n",
    "(Wir nutzen hier `copy()`, um nicht nur auf einer Referenz, sondern auf einer Kopie zu arbeiten...)"
   ]
  },
  {
   "cell_type": "code",
   "execution_count": 21,
   "metadata": {},
   "outputs": [],
   "source": [
    "df_swiss = df[df['Institution Country'] == 'Switzerland'].copy()"
   ]
  },
  {
   "cell_type": "markdown",
   "metadata": {},
   "source": [
    "Um die Unis nun zu klassifizieren, brauchen wir:\n",
    "- ein neues Feld, das diese Information enthält (\"Institution Type\")\n",
    "- eine Methode, wie wir dieses Feld anhand der restlichen Spalten füllen wollen."
   ]
  },
  {
   "cell_type": "markdown",
   "metadata": {},
   "source": [
    "Das neue Feld ist rasch erstellt:"
   ]
  },
  {
   "cell_type": "code",
   "execution_count": 22,
   "metadata": {},
   "outputs": [],
   "source": [
    "df_swiss['Institution Type'] = \"\""
   ]
  },
  {
   "cell_type": "markdown",
   "metadata": {},
   "source": [
    "Bei der Methode wird es schon schwieriger... Wie vorgehen?\n",
    "\n",
    "Als erstes lassen wir uns mal eine Liste aller Universitäten anzeigen, die in diesem Dataframe vorkommen:"
   ]
  },
  {
   "cell_type": "code",
   "execution_count": 23,
   "metadata": {},
   "outputs": [
    {
     "data": {
      "text/plain": [
       "array(['University of Geneva - GE',\n",
       "       'Non-profit organisations (libraries, museums, foundations) and administration - NPO',\n",
       "       'University of Basel - BS', 'University of Fribourg - FR',\n",
       "       'University of Zurich - ZH',\n",
       "       'Swiss Federal Institute for Forest, Snow and Landscape Research  - WSL',\n",
       "       'University of Berne - BE', 'ETH Zurich - ETHZ',\n",
       "       'University of Lausanne - LA', 'University of Neuchatel - NE',\n",
       "       'Graduate Institute of International and Development Studies - IHEID',\n",
       "       'University of St.Gallen - SG',\n",
       "       'Other Research Institutes - FINST',\n",
       "       'Pädagogische Hochschule Graubünden - PHGR', 'EPF Lausanne - EPFL',\n",
       "       'Pädagogische Hochschule Zürich - PHZH',\n",
       "       'Companies/  Private Industry - FP', 'University of Lucerne - LU',\n",
       "       'Unassignable - NA', 'Swiss Institute of Art Research - SIK-ISEA',\n",
       "       'Dipartimento formazione e apprendimento, Scuola universitaria professionale della Svizzera italiana - SUPSI-DFA',\n",
       "       'University of Applied Sciences and Arts Western Switzerland - HES-SO',\n",
       "       'Robert Walser Foundation Bern - RWS',\n",
       "       'Paul Scherrer Institute - PSI',\n",
       "       'Pädagogische Hochschule St.Gallen - PHSG',\n",
       "       'Swiss Federal Institute of Aquatic Science and Technology - EAWAG',\n",
       "       'Swiss Federal Laboratories for Materials Science and Technology - EMPA',\n",
       "       'Physikal.-Meteorolog. Observatorium Davos - PMOD',\n",
       "       'Berne University of Applied Sciences - BFH',\n",
       "       'Swiss Center for Electronics and Microtech. - CSEM',\n",
       "       'University of Applied Sciences and Arts of Southern Switzerland - SUPSI',\n",
       "       'Luzerner Kantonsspital - LUKS', 'Other Hospitals - ASPIT',\n",
       "       'AO Research Institute - AORI',\n",
       "       'Swiss Institute of Allergy and Asthma Research - SIAF',\n",
       "       'Research Institute of Organic Agriculture - FiBL',\n",
       "       'Institute Friedrich Miescher - FMI',\n",
       "       'Ostschweizer Kinderspital - OSKS',\n",
       "       'Research Institutes Agroscope - AGS',\n",
       "       'Ente Ospedaliero Cantonale - EOC',\n",
       "       'Institute for Work and Health -  IST',\n",
       "       'Eastern Switzerland University of Applied Sciences - OST',\n",
       "       'Cantonal hospital of St.Gallen - KSPSG',\n",
       "       'Kantonsspital Aarau - KSPA',\n",
       "       'Swiss Federal Institute for Vocational Education and Training - EHB',\n",
       "       'Zürcher Fachhochschule - ZFH',\n",
       "       'Università della Svizzera italiana - USI',\n",
       "       'Institut für Kulturforschung Graubünden - IKG',\n",
       "       'University of Applied Sciences and Arts Northwestern Switzerland (without UTE) - FHNW',\n",
       "       'Institution abroad - IACH',\n",
       "       \"Centre de recherche sur l'environnement alpin - CREALP\",\n",
       "       'Idiap Research Institute - IDIAP',\n",
       "       'Pädagogische Hochschule Bern - PHBern',\n",
       "       'Zurich University of Applied Sciences - ZHAW',\n",
       "       'University Institute Kurt Bösch - IUKB',\n",
       "       'Swiss Paraplegic Research - SPF',\n",
       "       'Lucerne University of Applied Sciences and Arts - HSLU',\n",
       "       'Institute for Research in Ophtalmology - IRO',\n",
       "       'Interkantonale Hochschule für Heilpädagogik - HfH',\n",
       "       'Haute école pédagogique du canton de Vaud - HEPL',\n",
       "       'Kantonsspital Baden - KSPB',\n",
       "       'University of Applied Sciences Ostschweiz - FHO',\n",
       "       'Institut Suisse de Spéléologie et Karstologie - ISSKA',\n",
       "       'Swiss Institute of Bioinformatics - SIB',\n",
       "       'Haute Ecole Pédagogique des cantons de Berne, du Jura et de Neuchâtel - HEP-BEJUNE',\n",
       "       'Pädagogische Hochschule Luzern - PHLU',\n",
       "       'Zurich University of the Arts - ZHdK', nan,\n",
       "       'Pädagogische Hochschule der Fachhochschule Nordwestschweiz - PH-FHNW',\n",
       "       'Pädagogische Hochschule Thurgau - PHTG',\n",
       "       'The University of Applied Sciences of Grisons - FHGR',\n",
       "       'Haute école pédagogique du canton de Fribourg/Pädagogische Hochschule Freiburg - HEP-FR',\n",
       "       'Pädagogische Hochschule Schwyz - PHSZ',\n",
       "       'Biotechnology Institute Thurgau - BITG',\n",
       "       'Haute école pédagogique du Valais/Pädagogische Hochschule Wallis - HEP-VS',\n",
       "       'Kalaidos University of Applied Sciences - FHKD',\n",
       "       'Swiss Centre of Expertise in the Social Sciences - FORS',\n",
       "       'Pädagogische Hochschule Zug - PHZG',\n",
       "       'Istituto Ricerche Solari Locarno - IRSOL',\n",
       "       'Franklin University Switzerland - FUS',\n",
       "       'Pädagogische Hochschule Schaffhausen - PHSH',\n",
       "       'Staatsunabhängige Theologische Hochschule Basel - STH',\n",
       "       'Facoltà di Teologia di Lugano - FTL',\n",
       "       'Swiss Distance University Institute - FUSC',\n",
       "       'Cardiocentro Ticino - CT',\n",
       "       'Fernfachhochschule Schweiz (member of SUPSI) - FFHS',\n",
       "       'Institute of Virology and Immunology - IVI'], dtype=object)"
      ]
     },
     "execution_count": 23,
     "metadata": {},
     "output_type": "execute_result"
    }
   ],
   "source": [
    "df_swiss['University'].unique()"
   ]
  },
  {
   "cell_type": "markdown",
   "metadata": {},
   "source": [
    "Schnell wird klar: In dieser Liste sind nicht nur Universitäten, sondern auch Fachhochschulen und andere Institutionen enthalten.\n",
    "\n",
    "Können wir die Klassifizierung evtl danach vornehmen?"
   ]
  },
  {
   "cell_type": "markdown",
   "metadata": {},
   "source": [
    "### Die Quick-Methode"
   ]
  },
  {
   "cell_type": "markdown",
   "metadata": {},
   "source": [
    "Die allereinfachste (und nicht sehr empfehlenswerte) Variante ist, einfach zu checken, ob in einem bestimmten Eintrag das Wort \"University\" vorkommt:\n",
    "\n",
    "- Falls die Institution z.B. \"University of Zurich\" heisst => \"University\"\n",
    "- Falls die Institution z.B. \"Pädagogische Hochschule\" heisst => \"Other\"\n",
    "\n",
    "Wir können für diesen Check die Funktion `str.contains()` verwenden.\n",
    "\n",
    "Heraus kommt eine Liste von True/False-Werten, die wir weiter verwenden können..."
   ]
  },
  {
   "cell_type": "code",
   "execution_count": 24,
   "metadata": {},
   "outputs": [
    {
     "data": {
      "text/plain": [
       "1         True\n",
       "2        False\n",
       "3         True\n",
       "4        False\n",
       "5         True\n",
       "         ...  \n",
       "79237     True\n",
       "79238     True\n",
       "79239     True\n",
       "79240    False\n",
       "79241     True\n",
       "Name: University, Length: 58689, dtype: bool"
      ]
     },
     "execution_count": 24,
     "metadata": {},
     "output_type": "execute_result"
    }
   ],
   "source": [
    "df_swiss['University'].str.contains('University', na=False)"
   ]
  },
  {
   "cell_type": "markdown",
   "metadata": {},
   "source": [
    "Zum Beispiel als Filter - wir kriegen nun alle \"University\"-artigen Zeilen..."
   ]
  },
  {
   "cell_type": "code",
   "execution_count": 25,
   "metadata": {},
   "outputs": [
    {
     "data": {
      "text/html": [
       "<div>\n",
       "<style scoped>\n",
       "    .dataframe tbody tr th:only-of-type {\n",
       "        vertical-align: middle;\n",
       "    }\n",
       "\n",
       "    .dataframe tbody tr th {\n",
       "        vertical-align: top;\n",
       "    }\n",
       "\n",
       "    .dataframe thead th {\n",
       "        text-align: right;\n",
       "    }\n",
       "</style>\n",
       "<table border=\"1\" class=\"dataframe\">\n",
       "  <thead>\n",
       "    <tr style=\"text-align: right;\">\n",
       "      <th></th>\n",
       "      <th>Project Number</th>\n",
       "      <th>Project Number String</th>\n",
       "      <th>Project Title</th>\n",
       "      <th>Project Title English</th>\n",
       "      <th>Responsible Applicant</th>\n",
       "      <th>Funding Instrument</th>\n",
       "      <th>Funding Instrument Hierarchy</th>\n",
       "      <th>Institution</th>\n",
       "      <th>Institution Country</th>\n",
       "      <th>University</th>\n",
       "      <th>Discipline Number</th>\n",
       "      <th>Discipline Name</th>\n",
       "      <th>Discipline Name Hierarchy</th>\n",
       "      <th>All disciplines</th>\n",
       "      <th>Start Date</th>\n",
       "      <th>End Date</th>\n",
       "      <th>Approved Amount</th>\n",
       "      <th>Keywords</th>\n",
       "      <th>Institution Type</th>\n",
       "    </tr>\n",
       "  </thead>\n",
       "  <tbody>\n",
       "    <tr>\n",
       "      <th>1</th>\n",
       "      <td>4</td>\n",
       "      <td>1000-000004</td>\n",
       "      <td>Batterie de tests à l'usage des enseignants po...</td>\n",
       "      <td>NaN</td>\n",
       "      <td>Massarenti Léonard</td>\n",
       "      <td>Project funding</td>\n",
       "      <td>Projects</td>\n",
       "      <td>FPSE  Université de Genève</td>\n",
       "      <td>Switzerland</td>\n",
       "      <td>University of Geneva - GE</td>\n",
       "      <td>10104</td>\n",
       "      <td>Education and learning sciences, subject-speci...</td>\n",
       "      <td>Humanities and Social Sciences;Psychology, edu...</td>\n",
       "      <td>10104</td>\n",
       "      <td>01.10.1975</td>\n",
       "      <td>30.09.1976</td>\n",
       "      <td>41022.0</td>\n",
       "      <td>NaN</td>\n",
       "      <td></td>\n",
       "    </tr>\n",
       "    <tr>\n",
       "      <th>3</th>\n",
       "      <td>6</td>\n",
       "      <td>1000-000006</td>\n",
       "      <td>Katalog der datierten Handschriften in der Sch...</td>\n",
       "      <td>NaN</td>\n",
       "      <td>Burckhardt Max</td>\n",
       "      <td>Project funding</td>\n",
       "      <td>Projects</td>\n",
       "      <td>Abteilung Handschriften und Alte Drucke Univer...</td>\n",
       "      <td>Switzerland</td>\n",
       "      <td>University of Basel - BS</td>\n",
       "      <td>10302</td>\n",
       "      <td>Swiss history</td>\n",
       "      <td>Humanities and Social Sciences;Theology &amp; reli...</td>\n",
       "      <td>10302</td>\n",
       "      <td>01.10.1975</td>\n",
       "      <td>30.09.1976</td>\n",
       "      <td>52627.0</td>\n",
       "      <td>NaN</td>\n",
       "      <td></td>\n",
       "    </tr>\n",
       "    <tr>\n",
       "      <th>5</th>\n",
       "      <td>8</td>\n",
       "      <td>1000-000008</td>\n",
       "      <td>Die schweizerische Wirtschaftspolitik seit dem...</td>\n",
       "      <td>NaN</td>\n",
       "      <td>Kleinewefers Henner</td>\n",
       "      <td>Project funding</td>\n",
       "      <td>Projects</td>\n",
       "      <td>Séminaire de politique économique, d'économie ...</td>\n",
       "      <td>Switzerland</td>\n",
       "      <td>University of Fribourg - FR</td>\n",
       "      <td>10203</td>\n",
       "      <td>Economics</td>\n",
       "      <td>Humanities and Social Sciences;Economics, law</td>\n",
       "      <td>10203</td>\n",
       "      <td>01.01.1976</td>\n",
       "      <td>31.12.1978</td>\n",
       "      <td>53009.0</td>\n",
       "      <td>NaN</td>\n",
       "      <td></td>\n",
       "    </tr>\n",
       "  </tbody>\n",
       "</table>\n",
       "</div>"
      ],
      "text/plain": [
       "   Project Number Project Number String  \\\n",
       "1               4           1000-000004   \n",
       "3               6           1000-000006   \n",
       "5               8           1000-000008   \n",
       "\n",
       "                                       Project Title Project Title English  \\\n",
       "1  Batterie de tests à l'usage des enseignants po...                   NaN   \n",
       "3  Katalog der datierten Handschriften in der Sch...                   NaN   \n",
       "5  Die schweizerische Wirtschaftspolitik seit dem...                   NaN   \n",
       "\n",
       "  Responsible Applicant Funding Instrument Funding Instrument Hierarchy  \\\n",
       "1    Massarenti Léonard    Project funding                     Projects   \n",
       "3        Burckhardt Max    Project funding                     Projects   \n",
       "5   Kleinewefers Henner    Project funding                     Projects   \n",
       "\n",
       "                                         Institution Institution Country  \\\n",
       "1                         FPSE  Université de Genève         Switzerland   \n",
       "3  Abteilung Handschriften und Alte Drucke Univer...         Switzerland   \n",
       "5  Séminaire de politique économique, d'économie ...         Switzerland   \n",
       "\n",
       "                    University  Discipline Number  \\\n",
       "1    University of Geneva - GE              10104   \n",
       "3     University of Basel - BS              10302   \n",
       "5  University of Fribourg - FR              10203   \n",
       "\n",
       "                                     Discipline Name  \\\n",
       "1  Education and learning sciences, subject-speci...   \n",
       "3                                      Swiss history   \n",
       "5                                          Economics   \n",
       "\n",
       "                           Discipline Name Hierarchy All disciplines  \\\n",
       "1  Humanities and Social Sciences;Psychology, edu...           10104   \n",
       "3  Humanities and Social Sciences;Theology & reli...           10302   \n",
       "5      Humanities and Social Sciences;Economics, law           10203   \n",
       "\n",
       "   Start Date    End Date  Approved Amount Keywords Institution Type  \n",
       "1  01.10.1975  30.09.1976          41022.0      NaN                   \n",
       "3  01.10.1975  30.09.1976          52627.0      NaN                   \n",
       "5  01.01.1976  31.12.1978          53009.0      NaN                   "
      ]
     },
     "execution_count": 25,
     "metadata": {},
     "output_type": "execute_result"
    }
   ],
   "source": [
    "df_swiss[df_swiss['University'].str.contains('University', na=False)].head(3)"
   ]
  },
  {
   "cell_type": "markdown",
   "metadata": {},
   "source": [
    "In dieser Zeilenauswahl können wir nun das Feld \"Institution Type\" auf \"University\" setzen.\n",
    "\n",
    "Note: Wir verwenden die `.loc[...]`-Notation, weil Pandas das sonst nicht gerne hat."
   ]
  },
  {
   "cell_type": "code",
   "execution_count": 26,
   "metadata": {},
   "outputs": [],
   "source": [
    "df_swiss.loc[df_swiss['University'].str.contains('University', na=False), 'Institution Type'] = 'University'"
   ]
  },
  {
   "cell_type": "markdown",
   "metadata": {},
   "source": [
    "In unserem Dataframe haben wir jetzt einige Einträge gefüllt..."
   ]
  },
  {
   "cell_type": "code",
   "execution_count": 27,
   "metadata": {},
   "outputs": [
    {
     "data": {
      "text/html": [
       "<div>\n",
       "<style scoped>\n",
       "    .dataframe tbody tr th:only-of-type {\n",
       "        vertical-align: middle;\n",
       "    }\n",
       "\n",
       "    .dataframe tbody tr th {\n",
       "        vertical-align: top;\n",
       "    }\n",
       "\n",
       "    .dataframe thead th {\n",
       "        text-align: right;\n",
       "    }\n",
       "</style>\n",
       "<table border=\"1\" class=\"dataframe\">\n",
       "  <thead>\n",
       "    <tr style=\"text-align: right;\">\n",
       "      <th></th>\n",
       "      <th>Project Number</th>\n",
       "      <th>Project Number String</th>\n",
       "      <th>Project Title</th>\n",
       "      <th>Project Title English</th>\n",
       "      <th>Responsible Applicant</th>\n",
       "      <th>Funding Instrument</th>\n",
       "      <th>Funding Instrument Hierarchy</th>\n",
       "      <th>Institution</th>\n",
       "      <th>Institution Country</th>\n",
       "      <th>University</th>\n",
       "      <th>Discipline Number</th>\n",
       "      <th>Discipline Name</th>\n",
       "      <th>Discipline Name Hierarchy</th>\n",
       "      <th>All disciplines</th>\n",
       "      <th>Start Date</th>\n",
       "      <th>End Date</th>\n",
       "      <th>Approved Amount</th>\n",
       "      <th>Keywords</th>\n",
       "      <th>Institution Type</th>\n",
       "    </tr>\n",
       "  </thead>\n",
       "  <tbody>\n",
       "    <tr>\n",
       "      <th>1</th>\n",
       "      <td>4</td>\n",
       "      <td>1000-000004</td>\n",
       "      <td>Batterie de tests à l'usage des enseignants po...</td>\n",
       "      <td>NaN</td>\n",
       "      <td>Massarenti Léonard</td>\n",
       "      <td>Project funding</td>\n",
       "      <td>Projects</td>\n",
       "      <td>FPSE  Université de Genève</td>\n",
       "      <td>Switzerland</td>\n",
       "      <td>University of Geneva - GE</td>\n",
       "      <td>10104</td>\n",
       "      <td>Education and learning sciences, subject-speci...</td>\n",
       "      <td>Humanities and Social Sciences;Psychology, edu...</td>\n",
       "      <td>10104</td>\n",
       "      <td>01.10.1975</td>\n",
       "      <td>30.09.1976</td>\n",
       "      <td>41022.0</td>\n",
       "      <td>NaN</td>\n",
       "      <td>University</td>\n",
       "    </tr>\n",
       "    <tr>\n",
       "      <th>2</th>\n",
       "      <td>5</td>\n",
       "      <td>1000-000005</td>\n",
       "      <td>Kritische Erstausgabe der 'Evidentiae contra D...</td>\n",
       "      <td>NaN</td>\n",
       "      <td>Kommission für das Corpus philosophorum medii ...</td>\n",
       "      <td>Project funding</td>\n",
       "      <td>Projects</td>\n",
       "      <td>Kommission für das Corpus philosophorum medii ...</td>\n",
       "      <td>Switzerland</td>\n",
       "      <td>Non-profit organisations (libraries, museums, ...</td>\n",
       "      <td>10101</td>\n",
       "      <td>Philosophy</td>\n",
       "      <td>Humanities and Social Sciences;Linguistics and...</td>\n",
       "      <td>10101</td>\n",
       "      <td>01.03.1976</td>\n",
       "      <td>28.02.1985</td>\n",
       "      <td>79732.0</td>\n",
       "      <td>NaN</td>\n",
       "      <td></td>\n",
       "    </tr>\n",
       "    <tr>\n",
       "      <th>3</th>\n",
       "      <td>6</td>\n",
       "      <td>1000-000006</td>\n",
       "      <td>Katalog der datierten Handschriften in der Sch...</td>\n",
       "      <td>NaN</td>\n",
       "      <td>Burckhardt Max</td>\n",
       "      <td>Project funding</td>\n",
       "      <td>Projects</td>\n",
       "      <td>Abteilung Handschriften und Alte Drucke Univer...</td>\n",
       "      <td>Switzerland</td>\n",
       "      <td>University of Basel - BS</td>\n",
       "      <td>10302</td>\n",
       "      <td>Swiss history</td>\n",
       "      <td>Humanities and Social Sciences;Theology &amp; reli...</td>\n",
       "      <td>10302</td>\n",
       "      <td>01.10.1975</td>\n",
       "      <td>30.09.1976</td>\n",
       "      <td>52627.0</td>\n",
       "      <td>NaN</td>\n",
       "      <td>University</td>\n",
       "    </tr>\n",
       "  </tbody>\n",
       "</table>\n",
       "</div>"
      ],
      "text/plain": [
       "   Project Number Project Number String  \\\n",
       "1               4           1000-000004   \n",
       "2               5           1000-000005   \n",
       "3               6           1000-000006   \n",
       "\n",
       "                                       Project Title Project Title English  \\\n",
       "1  Batterie de tests à l'usage des enseignants po...                   NaN   \n",
       "2  Kritische Erstausgabe der 'Evidentiae contra D...                   NaN   \n",
       "3  Katalog der datierten Handschriften in der Sch...                   NaN   \n",
       "\n",
       "                               Responsible Applicant Funding Instrument  \\\n",
       "1                                 Massarenti Léonard    Project funding   \n",
       "2  Kommission für das Corpus philosophorum medii ...    Project funding   \n",
       "3                                     Burckhardt Max    Project funding   \n",
       "\n",
       "  Funding Instrument Hierarchy  \\\n",
       "1                     Projects   \n",
       "2                     Projects   \n",
       "3                     Projects   \n",
       "\n",
       "                                         Institution Institution Country  \\\n",
       "1                         FPSE  Université de Genève         Switzerland   \n",
       "2  Kommission für das Corpus philosophorum medii ...         Switzerland   \n",
       "3  Abteilung Handschriften und Alte Drucke Univer...         Switzerland   \n",
       "\n",
       "                                          University  Discipline Number  \\\n",
       "1                          University of Geneva - GE              10104   \n",
       "2  Non-profit organisations (libraries, museums, ...              10101   \n",
       "3                           University of Basel - BS              10302   \n",
       "\n",
       "                                     Discipline Name  \\\n",
       "1  Education and learning sciences, subject-speci...   \n",
       "2                                         Philosophy   \n",
       "3                                      Swiss history   \n",
       "\n",
       "                           Discipline Name Hierarchy All disciplines  \\\n",
       "1  Humanities and Social Sciences;Psychology, edu...           10104   \n",
       "2  Humanities and Social Sciences;Linguistics and...           10101   \n",
       "3  Humanities and Social Sciences;Theology & reli...           10302   \n",
       "\n",
       "   Start Date    End Date  Approved Amount Keywords Institution Type  \n",
       "1  01.10.1975  30.09.1976          41022.0      NaN       University  \n",
       "2  01.03.1976  28.02.1985          79732.0      NaN                   \n",
       "3  01.10.1975  30.09.1976          52627.0      NaN       University  "
      ]
     },
     "execution_count": 27,
     "metadata": {},
     "output_type": "execute_result"
    }
   ],
   "source": [
    "df_swiss.head(3)"
   ]
  },
  {
   "cell_type": "markdown",
   "metadata": {},
   "source": [
    "Nun können wir in die restlichen (leeren) Zeilen was anderes reinschreiben, z.B. \"Other\""
   ]
  },
  {
   "cell_type": "code",
   "execution_count": 28,
   "metadata": {},
   "outputs": [],
   "source": [
    "df_swiss.loc[df_swiss['Institution Type'] == \"\", 'Institution Type'] = \"Other\""
   ]
  },
  {
   "cell_type": "code",
   "execution_count": 29,
   "metadata": {},
   "outputs": [
    {
     "data": {
      "text/html": [
       "<div>\n",
       "<style scoped>\n",
       "    .dataframe tbody tr th:only-of-type {\n",
       "        vertical-align: middle;\n",
       "    }\n",
       "\n",
       "    .dataframe tbody tr th {\n",
       "        vertical-align: top;\n",
       "    }\n",
       "\n",
       "    .dataframe thead th {\n",
       "        text-align: right;\n",
       "    }\n",
       "</style>\n",
       "<table border=\"1\" class=\"dataframe\">\n",
       "  <thead>\n",
       "    <tr style=\"text-align: right;\">\n",
       "      <th></th>\n",
       "      <th>Project Number</th>\n",
       "      <th>Project Number String</th>\n",
       "      <th>Project Title</th>\n",
       "      <th>Project Title English</th>\n",
       "      <th>Responsible Applicant</th>\n",
       "      <th>Funding Instrument</th>\n",
       "      <th>Funding Instrument Hierarchy</th>\n",
       "      <th>Institution</th>\n",
       "      <th>Institution Country</th>\n",
       "      <th>University</th>\n",
       "      <th>Discipline Number</th>\n",
       "      <th>Discipline Name</th>\n",
       "      <th>Discipline Name Hierarchy</th>\n",
       "      <th>All disciplines</th>\n",
       "      <th>Start Date</th>\n",
       "      <th>End Date</th>\n",
       "      <th>Approved Amount</th>\n",
       "      <th>Keywords</th>\n",
       "      <th>Institution Type</th>\n",
       "    </tr>\n",
       "  </thead>\n",
       "  <tbody>\n",
       "    <tr>\n",
       "      <th>1</th>\n",
       "      <td>4</td>\n",
       "      <td>1000-000004</td>\n",
       "      <td>Batterie de tests à l'usage des enseignants po...</td>\n",
       "      <td>NaN</td>\n",
       "      <td>Massarenti Léonard</td>\n",
       "      <td>Project funding</td>\n",
       "      <td>Projects</td>\n",
       "      <td>FPSE  Université de Genève</td>\n",
       "      <td>Switzerland</td>\n",
       "      <td>University of Geneva - GE</td>\n",
       "      <td>10104</td>\n",
       "      <td>Education and learning sciences, subject-speci...</td>\n",
       "      <td>Humanities and Social Sciences;Psychology, edu...</td>\n",
       "      <td>10104</td>\n",
       "      <td>01.10.1975</td>\n",
       "      <td>30.09.1976</td>\n",
       "      <td>41022.0</td>\n",
       "      <td>NaN</td>\n",
       "      <td>University</td>\n",
       "    </tr>\n",
       "    <tr>\n",
       "      <th>2</th>\n",
       "      <td>5</td>\n",
       "      <td>1000-000005</td>\n",
       "      <td>Kritische Erstausgabe der 'Evidentiae contra D...</td>\n",
       "      <td>NaN</td>\n",
       "      <td>Kommission für das Corpus philosophorum medii ...</td>\n",
       "      <td>Project funding</td>\n",
       "      <td>Projects</td>\n",
       "      <td>Kommission für das Corpus philosophorum medii ...</td>\n",
       "      <td>Switzerland</td>\n",
       "      <td>Non-profit organisations (libraries, museums, ...</td>\n",
       "      <td>10101</td>\n",
       "      <td>Philosophy</td>\n",
       "      <td>Humanities and Social Sciences;Linguistics and...</td>\n",
       "      <td>10101</td>\n",
       "      <td>01.03.1976</td>\n",
       "      <td>28.02.1985</td>\n",
       "      <td>79732.0</td>\n",
       "      <td>NaN</td>\n",
       "      <td>Other</td>\n",
       "    </tr>\n",
       "    <tr>\n",
       "      <th>3</th>\n",
       "      <td>6</td>\n",
       "      <td>1000-000006</td>\n",
       "      <td>Katalog der datierten Handschriften in der Sch...</td>\n",
       "      <td>NaN</td>\n",
       "      <td>Burckhardt Max</td>\n",
       "      <td>Project funding</td>\n",
       "      <td>Projects</td>\n",
       "      <td>Abteilung Handschriften und Alte Drucke Univer...</td>\n",
       "      <td>Switzerland</td>\n",
       "      <td>University of Basel - BS</td>\n",
       "      <td>10302</td>\n",
       "      <td>Swiss history</td>\n",
       "      <td>Humanities and Social Sciences;Theology &amp; reli...</td>\n",
       "      <td>10302</td>\n",
       "      <td>01.10.1975</td>\n",
       "      <td>30.09.1976</td>\n",
       "      <td>52627.0</td>\n",
       "      <td>NaN</td>\n",
       "      <td>University</td>\n",
       "    </tr>\n",
       "  </tbody>\n",
       "</table>\n",
       "</div>"
      ],
      "text/plain": [
       "   Project Number Project Number String  \\\n",
       "1               4           1000-000004   \n",
       "2               5           1000-000005   \n",
       "3               6           1000-000006   \n",
       "\n",
       "                                       Project Title Project Title English  \\\n",
       "1  Batterie de tests à l'usage des enseignants po...                   NaN   \n",
       "2  Kritische Erstausgabe der 'Evidentiae contra D...                   NaN   \n",
       "3  Katalog der datierten Handschriften in der Sch...                   NaN   \n",
       "\n",
       "                               Responsible Applicant Funding Instrument  \\\n",
       "1                                 Massarenti Léonard    Project funding   \n",
       "2  Kommission für das Corpus philosophorum medii ...    Project funding   \n",
       "3                                     Burckhardt Max    Project funding   \n",
       "\n",
       "  Funding Instrument Hierarchy  \\\n",
       "1                     Projects   \n",
       "2                     Projects   \n",
       "3                     Projects   \n",
       "\n",
       "                                         Institution Institution Country  \\\n",
       "1                         FPSE  Université de Genève         Switzerland   \n",
       "2  Kommission für das Corpus philosophorum medii ...         Switzerland   \n",
       "3  Abteilung Handschriften und Alte Drucke Univer...         Switzerland   \n",
       "\n",
       "                                          University  Discipline Number  \\\n",
       "1                          University of Geneva - GE              10104   \n",
       "2  Non-profit organisations (libraries, museums, ...              10101   \n",
       "3                           University of Basel - BS              10302   \n",
       "\n",
       "                                     Discipline Name  \\\n",
       "1  Education and learning sciences, subject-speci...   \n",
       "2                                         Philosophy   \n",
       "3                                      Swiss history   \n",
       "\n",
       "                           Discipline Name Hierarchy All disciplines  \\\n",
       "1  Humanities and Social Sciences;Psychology, edu...           10104   \n",
       "2  Humanities and Social Sciences;Linguistics and...           10101   \n",
       "3  Humanities and Social Sciences;Theology & reli...           10302   \n",
       "\n",
       "   Start Date    End Date  Approved Amount Keywords Institution Type  \n",
       "1  01.10.1975  30.09.1976          41022.0      NaN       University  \n",
       "2  01.03.1976  28.02.1985          79732.0      NaN            Other  \n",
       "3  01.10.1975  30.09.1976          52627.0      NaN       University  "
      ]
     },
     "execution_count": 29,
     "metadata": {},
     "output_type": "execute_result"
    }
   ],
   "source": [
    "df_swiss.head(3)"
   ]
  },
  {
   "cell_type": "markdown",
   "metadata": {},
   "source": [
    "Wir können nun zB ausrechnen, wie viel Geld die Universitäten und die übrigen Institutionen in der Summe gekriegt haben:"
   ]
  },
  {
   "cell_type": "code",
   "execution_count": 30,
   "metadata": {},
   "outputs": [
    {
     "data": {
      "text/plain": [
       "Institution Type\n",
       "Other         5.983217e+09\n",
       "University    1.284793e+10\n",
       "Name: Approved Amount, dtype: float64"
      ]
     },
     "execution_count": 30,
     "metadata": {},
     "output_type": "execute_result"
    }
   ],
   "source": [
    "df_swiss.groupby('Institution Type')['Approved Amount'].sum()"
   ]
  },
  {
   "cell_type": "markdown",
   "metadata": {},
   "source": [
    "Aber wie gesagt, es gibt bessere Wege. (zB haben wir nun Einträge wie \"Université\" nicht berücksichtigt."
   ]
  },
  {
   "cell_type": "markdown",
   "metadata": {},
   "source": [
    "### Die ausführliche Methode\n",
    "\n",
    "Und nun zur saubersten Art, wie man die Institutionen in dieser Tabelle hier klassifizieren sollte: von Hand.\n",
    "\n",
    "Das heisst:\n",
    "- Wir erstellen eine Liste aller Institute, die in der Schweiz vorkommen\n",
    "- Wir exportieren diese Liste, um sie z.B. in Excel manuell zu kategorisieren\n",
    "- Wir laden die manuell kategorisierte Liste zurück in Pandas\n",
    "- Anahnd dieser Liste wird automatisch der Typ gematcht"
   ]
  },
  {
   "cell_type": "markdown",
   "metadata": {},
   "source": [
    "Um zu starten, ziehen wir uns die Liste der unique Values, diesmal gleich als Dataframe:"
   ]
  },
  {
   "cell_type": "code",
   "execution_count": 31,
   "metadata": {},
   "outputs": [
    {
     "data": {
      "text/html": [
       "<div>\n",
       "<style scoped>\n",
       "    .dataframe tbody tr th:only-of-type {\n",
       "        vertical-align: middle;\n",
       "    }\n",
       "\n",
       "    .dataframe tbody tr th {\n",
       "        vertical-align: top;\n",
       "    }\n",
       "\n",
       "    .dataframe thead th {\n",
       "        text-align: right;\n",
       "    }\n",
       "</style>\n",
       "<table border=\"1\" class=\"dataframe\">\n",
       "  <thead>\n",
       "    <tr style=\"text-align: right;\">\n",
       "      <th></th>\n",
       "      <th>0</th>\n",
       "    </tr>\n",
       "  </thead>\n",
       "  <tbody>\n",
       "    <tr>\n",
       "      <th>0</th>\n",
       "      <td>University of Geneva - GE</td>\n",
       "    </tr>\n",
       "    <tr>\n",
       "      <th>1</th>\n",
       "      <td>Non-profit organisations (libraries, museums, ...</td>\n",
       "    </tr>\n",
       "    <tr>\n",
       "      <th>2</th>\n",
       "      <td>University of Basel - BS</td>\n",
       "    </tr>\n",
       "    <tr>\n",
       "      <th>3</th>\n",
       "      <td>University of Fribourg - FR</td>\n",
       "    </tr>\n",
       "    <tr>\n",
       "      <th>4</th>\n",
       "      <td>University of Zurich - ZH</td>\n",
       "    </tr>\n",
       "    <tr>\n",
       "      <th>...</th>\n",
       "      <td>...</td>\n",
       "    </tr>\n",
       "    <tr>\n",
       "      <th>82</th>\n",
       "      <td>Facoltà di Teologia di Lugano - FTL</td>\n",
       "    </tr>\n",
       "    <tr>\n",
       "      <th>83</th>\n",
       "      <td>Swiss Distance University Institute - FUSC</td>\n",
       "    </tr>\n",
       "    <tr>\n",
       "      <th>84</th>\n",
       "      <td>Cardiocentro Ticino - CT</td>\n",
       "    </tr>\n",
       "    <tr>\n",
       "      <th>85</th>\n",
       "      <td>Fernfachhochschule Schweiz (member of SUPSI) -...</td>\n",
       "    </tr>\n",
       "    <tr>\n",
       "      <th>86</th>\n",
       "      <td>Institute of Virology and Immunology - IVI</td>\n",
       "    </tr>\n",
       "  </tbody>\n",
       "</table>\n",
       "<p>87 rows × 1 columns</p>\n",
       "</div>"
      ],
      "text/plain": [
       "                                                    0\n",
       "0                           University of Geneva - GE\n",
       "1   Non-profit organisations (libraries, museums, ...\n",
       "2                            University of Basel - BS\n",
       "3                         University of Fribourg - FR\n",
       "4                           University of Zurich - ZH\n",
       "..                                                ...\n",
       "82                Facoltà di Teologia di Lugano - FTL\n",
       "83         Swiss Distance University Institute - FUSC\n",
       "84                           Cardiocentro Ticino - CT\n",
       "85  Fernfachhochschule Schweiz (member of SUPSI) -...\n",
       "86         Institute of Virology and Immunology - IVI\n",
       "\n",
       "[87 rows x 1 columns]"
      ]
     },
     "execution_count": 31,
     "metadata": {},
     "output_type": "execute_result"
    }
   ],
   "source": [
    "df_unique = pd.DataFrame(df_swiss['University'].unique())\n",
    "df_unique"
   ]
  },
  {
   "cell_type": "markdown",
   "metadata": {},
   "source": [
    "Weil es einfacher geht, bearbeiten wir die Liste in einem externen Programm... mit der Funktion `to_csv()`"
   ]
  },
  {
   "cell_type": "code",
   "execution_count": 32,
   "metadata": {},
   "outputs": [],
   "source": [
    "df_unique.to_csv('dataprojects/SNF/klassifizieren.csv', index=False)"
   ]
  },
  {
   "cell_type": "markdown",
   "metadata": {
    "collapsed": true
   },
   "source": [
    "... im Excel, oder anderswo bearbeiten, und wieder laden: (Ich habe das hier schonmal vorbereitet)"
   ]
  },
  {
   "cell_type": "code",
   "execution_count": 33,
   "metadata": {},
   "outputs": [],
   "source": [
    "df_unique_edited = pd.read_excel('dataprojects/SNF/klassifiziert_neu.xlsx')"
   ]
  },
  {
   "cell_type": "code",
   "execution_count": 34,
   "metadata": {},
   "outputs": [
    {
     "data": {
      "text/html": [
       "<div>\n",
       "<style scoped>\n",
       "    .dataframe tbody tr th:only-of-type {\n",
       "        vertical-align: middle;\n",
       "    }\n",
       "\n",
       "    .dataframe tbody tr th {\n",
       "        vertical-align: top;\n",
       "    }\n",
       "\n",
       "    .dataframe thead th {\n",
       "        text-align: right;\n",
       "    }\n",
       "</style>\n",
       "<table border=\"1\" class=\"dataframe\">\n",
       "  <thead>\n",
       "    <tr style=\"text-align: right;\">\n",
       "      <th></th>\n",
       "      <th>University</th>\n",
       "      <th>New Type</th>\n",
       "    </tr>\n",
       "  </thead>\n",
       "  <tbody>\n",
       "    <tr>\n",
       "      <th>0</th>\n",
       "      <td>University of Geneva - GE</td>\n",
       "      <td>Universität</td>\n",
       "    </tr>\n",
       "    <tr>\n",
       "      <th>1</th>\n",
       "      <td>Non-profit organisations (libraries, museums, ...</td>\n",
       "      <td>Other</td>\n",
       "    </tr>\n",
       "    <tr>\n",
       "      <th>2</th>\n",
       "      <td>University of Basel - BS</td>\n",
       "      <td>Universität</td>\n",
       "    </tr>\n",
       "    <tr>\n",
       "      <th>3</th>\n",
       "      <td>University of Fribourg - FR</td>\n",
       "      <td>Universität</td>\n",
       "    </tr>\n",
       "    <tr>\n",
       "      <th>4</th>\n",
       "      <td>University of Zurich - ZH</td>\n",
       "      <td>Universität</td>\n",
       "    </tr>\n",
       "    <tr>\n",
       "      <th>...</th>\n",
       "      <td>...</td>\n",
       "      <td>...</td>\n",
       "    </tr>\n",
       "    <tr>\n",
       "      <th>81</th>\n",
       "      <td>Facoltà di Teologia di Lugano - FTL</td>\n",
       "      <td>Other</td>\n",
       "    </tr>\n",
       "    <tr>\n",
       "      <th>82</th>\n",
       "      <td>Swiss Distance University Institute - FUSC</td>\n",
       "      <td>Other</td>\n",
       "    </tr>\n",
       "    <tr>\n",
       "      <th>83</th>\n",
       "      <td>Cardiocentro Ticino - CT</td>\n",
       "      <td>Other</td>\n",
       "    </tr>\n",
       "    <tr>\n",
       "      <th>84</th>\n",
       "      <td>Fernfachhochschule Schweiz (member of SUPSI) -...</td>\n",
       "      <td>Fachhochschule</td>\n",
       "    </tr>\n",
       "    <tr>\n",
       "      <th>85</th>\n",
       "      <td>Institute of Virology and Immunology - IVI</td>\n",
       "      <td>Other</td>\n",
       "    </tr>\n",
       "  </tbody>\n",
       "</table>\n",
       "<p>86 rows × 2 columns</p>\n",
       "</div>"
      ],
      "text/plain": [
       "                                           University        New Type\n",
       "0                           University of Geneva - GE     Universität\n",
       "1   Non-profit organisations (libraries, museums, ...           Other\n",
       "2                            University of Basel - BS     Universität\n",
       "3                         University of Fribourg - FR     Universität\n",
       "4                           University of Zurich - ZH     Universität\n",
       "..                                                ...             ...\n",
       "81                Facoltà di Teologia di Lugano - FTL           Other\n",
       "82         Swiss Distance University Institute - FUSC           Other\n",
       "83                           Cardiocentro Ticino - CT           Other\n",
       "84  Fernfachhochschule Schweiz (member of SUPSI) -...  Fachhochschule\n",
       "85         Institute of Virology and Immunology - IVI           Other\n",
       "\n",
       "[86 rows x 2 columns]"
      ]
     },
     "execution_count": 34,
     "metadata": {},
     "output_type": "execute_result"
    }
   ],
   "source": [
    "df_unique_edited"
   ]
  },
  {
   "cell_type": "markdown",
   "metadata": {},
   "source": [
    "Wir haben jetzt zwei Tabellen: `df_swiss` (die grosse Datentabelle) und `df_unique` (die Klassifizierungen).\n",
    "\n",
    "**And now the magic happens...**\n",
    "\n",
    "Diese zwei Tabellen können wir nun verknüpfen, und zwar mit der Funktion `merge()`"
   ]
  },
  {
   "cell_type": "code",
   "execution_count": 35,
   "metadata": {},
   "outputs": [
    {
     "data": {
      "text/html": [
       "<div>\n",
       "<style scoped>\n",
       "    .dataframe tbody tr th:only-of-type {\n",
       "        vertical-align: middle;\n",
       "    }\n",
       "\n",
       "    .dataframe tbody tr th {\n",
       "        vertical-align: top;\n",
       "    }\n",
       "\n",
       "    .dataframe thead th {\n",
       "        text-align: right;\n",
       "    }\n",
       "</style>\n",
       "<table border=\"1\" class=\"dataframe\">\n",
       "  <thead>\n",
       "    <tr style=\"text-align: right;\">\n",
       "      <th></th>\n",
       "      <th>Project Number</th>\n",
       "      <th>Project Number String</th>\n",
       "      <th>Project Title</th>\n",
       "      <th>Project Title English</th>\n",
       "      <th>Responsible Applicant</th>\n",
       "      <th>Funding Instrument</th>\n",
       "      <th>Funding Instrument Hierarchy</th>\n",
       "      <th>Institution</th>\n",
       "      <th>Institution Country</th>\n",
       "      <th>University</th>\n",
       "      <th>Discipline Number</th>\n",
       "      <th>Discipline Name</th>\n",
       "      <th>Discipline Name Hierarchy</th>\n",
       "      <th>All disciplines</th>\n",
       "      <th>Start Date</th>\n",
       "      <th>End Date</th>\n",
       "      <th>Approved Amount</th>\n",
       "      <th>Keywords</th>\n",
       "      <th>Institution Type</th>\n",
       "      <th>New Type</th>\n",
       "    </tr>\n",
       "  </thead>\n",
       "  <tbody>\n",
       "    <tr>\n",
       "      <th>0</th>\n",
       "      <td>4</td>\n",
       "      <td>1000-000004</td>\n",
       "      <td>Batterie de tests à l'usage des enseignants po...</td>\n",
       "      <td>NaN</td>\n",
       "      <td>Massarenti Léonard</td>\n",
       "      <td>Project funding</td>\n",
       "      <td>Projects</td>\n",
       "      <td>FPSE  Université de Genève</td>\n",
       "      <td>Switzerland</td>\n",
       "      <td>University of Geneva - GE</td>\n",
       "      <td>10104</td>\n",
       "      <td>Education and learning sciences, subject-speci...</td>\n",
       "      <td>Humanities and Social Sciences;Psychology, edu...</td>\n",
       "      <td>10104</td>\n",
       "      <td>01.10.1975</td>\n",
       "      <td>30.09.1976</td>\n",
       "      <td>41022.0</td>\n",
       "      <td>NaN</td>\n",
       "      <td>University</td>\n",
       "      <td>Universität</td>\n",
       "    </tr>\n",
       "    <tr>\n",
       "      <th>1</th>\n",
       "      <td>5</td>\n",
       "      <td>1000-000005</td>\n",
       "      <td>Kritische Erstausgabe der 'Evidentiae contra D...</td>\n",
       "      <td>NaN</td>\n",
       "      <td>Kommission für das Corpus philosophorum medii ...</td>\n",
       "      <td>Project funding</td>\n",
       "      <td>Projects</td>\n",
       "      <td>Kommission für das Corpus philosophorum medii ...</td>\n",
       "      <td>Switzerland</td>\n",
       "      <td>Non-profit organisations (libraries, museums, ...</td>\n",
       "      <td>10101</td>\n",
       "      <td>Philosophy</td>\n",
       "      <td>Humanities and Social Sciences;Linguistics and...</td>\n",
       "      <td>10101</td>\n",
       "      <td>01.03.1976</td>\n",
       "      <td>28.02.1985</td>\n",
       "      <td>79732.0</td>\n",
       "      <td>NaN</td>\n",
       "      <td>Other</td>\n",
       "      <td>Other</td>\n",
       "    </tr>\n",
       "    <tr>\n",
       "      <th>2</th>\n",
       "      <td>6</td>\n",
       "      <td>1000-000006</td>\n",
       "      <td>Katalog der datierten Handschriften in der Sch...</td>\n",
       "      <td>NaN</td>\n",
       "      <td>Burckhardt Max</td>\n",
       "      <td>Project funding</td>\n",
       "      <td>Projects</td>\n",
       "      <td>Abteilung Handschriften und Alte Drucke Univer...</td>\n",
       "      <td>Switzerland</td>\n",
       "      <td>University of Basel - BS</td>\n",
       "      <td>10302</td>\n",
       "      <td>Swiss history</td>\n",
       "      <td>Humanities and Social Sciences;Theology &amp; reli...</td>\n",
       "      <td>10302</td>\n",
       "      <td>01.10.1975</td>\n",
       "      <td>30.09.1976</td>\n",
       "      <td>52627.0</td>\n",
       "      <td>NaN</td>\n",
       "      <td>University</td>\n",
       "      <td>Universität</td>\n",
       "    </tr>\n",
       "    <tr>\n",
       "      <th>3</th>\n",
       "      <td>7</td>\n",
       "      <td>1000-000007</td>\n",
       "      <td>Wissenschaftliche Mitarbeit am Thesaurus Lingu...</td>\n",
       "      <td>NaN</td>\n",
       "      <td>Schweiz. Thesauruskommission</td>\n",
       "      <td>Project funding</td>\n",
       "      <td>Projects</td>\n",
       "      <td>Schweiz. Thesauruskommission</td>\n",
       "      <td>Switzerland</td>\n",
       "      <td>Non-profit organisations (libraries, museums, ...</td>\n",
       "      <td>10303</td>\n",
       "      <td>Ancient history and Classical studies</td>\n",
       "      <td>Humanities and Social Sciences;Theology &amp; reli...</td>\n",
       "      <td>10303</td>\n",
       "      <td>01.01.1976</td>\n",
       "      <td>30.04.1978</td>\n",
       "      <td>120042.0</td>\n",
       "      <td>NaN</td>\n",
       "      <td>Other</td>\n",
       "      <td>Other</td>\n",
       "    </tr>\n",
       "    <tr>\n",
       "      <th>4</th>\n",
       "      <td>8</td>\n",
       "      <td>1000-000008</td>\n",
       "      <td>Die schweizerische Wirtschaftspolitik seit dem...</td>\n",
       "      <td>NaN</td>\n",
       "      <td>Kleinewefers Henner</td>\n",
       "      <td>Project funding</td>\n",
       "      <td>Projects</td>\n",
       "      <td>Séminaire de politique économique, d'économie ...</td>\n",
       "      <td>Switzerland</td>\n",
       "      <td>University of Fribourg - FR</td>\n",
       "      <td>10203</td>\n",
       "      <td>Economics</td>\n",
       "      <td>Humanities and Social Sciences;Economics, law</td>\n",
       "      <td>10203</td>\n",
       "      <td>01.01.1976</td>\n",
       "      <td>31.12.1978</td>\n",
       "      <td>53009.0</td>\n",
       "      <td>NaN</td>\n",
       "      <td>University</td>\n",
       "      <td>Universität</td>\n",
       "    </tr>\n",
       "    <tr>\n",
       "      <th>...</th>\n",
       "      <td>...</td>\n",
       "      <td>...</td>\n",
       "      <td>...</td>\n",
       "      <td>...</td>\n",
       "      <td>...</td>\n",
       "      <td>...</td>\n",
       "      <td>...</td>\n",
       "      <td>...</td>\n",
       "      <td>...</td>\n",
       "      <td>...</td>\n",
       "      <td>...</td>\n",
       "      <td>...</td>\n",
       "      <td>...</td>\n",
       "      <td>...</td>\n",
       "      <td>...</td>\n",
       "      <td>...</td>\n",
       "      <td>...</td>\n",
       "      <td>...</td>\n",
       "      <td>...</td>\n",
       "      <td>...</td>\n",
       "    </tr>\n",
       "    <tr>\n",
       "      <th>58684</th>\n",
       "      <td>213928</td>\n",
       "      <td>33IC30_213928</td>\n",
       "      <td>LUTRE-UP - Effect of pulsatile GnRH therapy on...</td>\n",
       "      <td>LUTRE-UP - Effect of pulsatile GnRH therapy on...</td>\n",
       "      <td>Pitteloud Nelly</td>\n",
       "      <td>Investigator Initiated Clinical Trials (IICT)</td>\n",
       "      <td>Programmes</td>\n",
       "      <td>Division d'endocrinologie, diabétologie et du ...</td>\n",
       "      <td>Switzerland</td>\n",
       "      <td>University of Lausanne - LA</td>\n",
       "      <td>30716</td>\n",
       "      <td>Clinical Endocrinology</td>\n",
       "      <td>Biology and Medicine;Clinical Medicine</td>\n",
       "      <td>30716/30302/30802</td>\n",
       "      <td>01.07.2022</td>\n",
       "      <td>31.10.2022</td>\n",
       "      <td>4960.0</td>\n",
       "      <td>Neuroimaging; GnRH therapy; Down syndrome; Cog...</td>\n",
       "      <td>University</td>\n",
       "      <td>Universität</td>\n",
       "    </tr>\n",
       "    <tr>\n",
       "      <th>58685</th>\n",
       "      <td>213959</td>\n",
       "      <td>33IC30_213959</td>\n",
       "      <td>Multicenter randomized trial comparing an indi...</td>\n",
       "      <td>NaN</td>\n",
       "      <td>Giger Roland</td>\n",
       "      <td>Investigator Initiated Clinical Trials (IICT)</td>\n",
       "      <td>Programmes</td>\n",
       "      <td>Klinik und Poliklinik für Hals-, Nasen- und Oh...</td>\n",
       "      <td>Switzerland</td>\n",
       "      <td>University of Berne - BE</td>\n",
       "      <td>30703</td>\n",
       "      <td>Clinical Cancer Research</td>\n",
       "      <td>Biology and Medicine;Clinical Medicine</td>\n",
       "      <td>30703/30709</td>\n",
       "      <td>01.08.2022</td>\n",
       "      <td>31.10.2022</td>\n",
       "      <td>5000.0</td>\n",
       "      <td>Head and Neck Cancer; Quality of Life; Follow-...</td>\n",
       "      <td>University</td>\n",
       "      <td>Universität</td>\n",
       "    </tr>\n",
       "    <tr>\n",
       "      <th>58686</th>\n",
       "      <td>213960</td>\n",
       "      <td>33IC30_213960</td>\n",
       "      <td>Timing of initiation of renal Replacement ther...</td>\n",
       "      <td>NaN</td>\n",
       "      <td>Fakhouri Fadi</td>\n",
       "      <td>Investigator Initiated Clinical Trials (IICT)</td>\n",
       "      <td>Programmes</td>\n",
       "      <td>Division de Néphrologie et d'Hypertension CHUV</td>\n",
       "      <td>Switzerland</td>\n",
       "      <td>University of Lausanne - LA</td>\n",
       "      <td>30701</td>\n",
       "      <td>Internal Medicine</td>\n",
       "      <td>Biology and Medicine;Clinical Medicine</td>\n",
       "      <td>30701</td>\n",
       "      <td>01.08.2022</td>\n",
       "      <td>31.10.2022</td>\n",
       "      <td>2980.0</td>\n",
       "      <td>insuffisance rénale aigue; hémodialyse</td>\n",
       "      <td>University</td>\n",
       "      <td>Universität</td>\n",
       "    </tr>\n",
       "    <tr>\n",
       "      <th>58687</th>\n",
       "      <td>214010</td>\n",
       "      <td>IZSEZ0_214010</td>\n",
       "      <td>USI-SAR_SUDA560_UNESCO Chair</td>\n",
       "      <td>NaN</td>\n",
       "      <td>Ruinelli Maurizia</td>\n",
       "      <td>Scientific Exchanges</td>\n",
       "      <td>Science communication</td>\n",
       "      <td>Università della Svizzera Italiana</td>\n",
       "      <td>Switzerland</td>\n",
       "      <td>Università della Svizzera italiana - USI</td>\n",
       "      <td>10402</td>\n",
       "      <td>Archaeology</td>\n",
       "      <td>Humanities and Social Sciences;Theology &amp; reli...</td>\n",
       "      <td>10402/10207</td>\n",
       "      <td>01.08.2022</td>\n",
       "      <td>31.07.2023</td>\n",
       "      <td>103800.0</td>\n",
       "      <td>SUDA560; UNESCO; SAR</td>\n",
       "      <td>Other</td>\n",
       "      <td>Universität</td>\n",
       "    </tr>\n",
       "    <tr>\n",
       "      <th>58688</th>\n",
       "      <td>214011</td>\n",
       "      <td>IZSEZ0_214011</td>\n",
       "      <td>Large scale cosmic magnetic fields and physica...</td>\n",
       "      <td>Large scale cosmic magnetic fields and physica...</td>\n",
       "      <td>Durrer Ruth</td>\n",
       "      <td>Scientific Exchanges</td>\n",
       "      <td>Science communication</td>\n",
       "      <td>Département de Physique Théorique Université d...</td>\n",
       "      <td>Switzerland</td>\n",
       "      <td>University of Geneva - GE</td>\n",
       "      <td>20401</td>\n",
       "      <td>Theoretical Physics</td>\n",
       "      <td>Mathematics, Natural- and Engineering Sciences...</td>\n",
       "      <td>20401/20200</td>\n",
       "      <td>01.08.2022</td>\n",
       "      <td>31.01.2023</td>\n",
       "      <td>21500.0</td>\n",
       "      <td>Cosmology; Inflaction; Cosmic magnetic fields;...</td>\n",
       "      <td>University</td>\n",
       "      <td>Universität</td>\n",
       "    </tr>\n",
       "  </tbody>\n",
       "</table>\n",
       "<p>58689 rows × 20 columns</p>\n",
       "</div>"
      ],
      "text/plain": [
       "       Project Number Project Number String  \\\n",
       "0                   4           1000-000004   \n",
       "1                   5           1000-000005   \n",
       "2                   6           1000-000006   \n",
       "3                   7           1000-000007   \n",
       "4                   8           1000-000008   \n",
       "...               ...                   ...   \n",
       "58684          213928         33IC30_213928   \n",
       "58685          213959         33IC30_213959   \n",
       "58686          213960         33IC30_213960   \n",
       "58687          214010         IZSEZ0_214010   \n",
       "58688          214011         IZSEZ0_214011   \n",
       "\n",
       "                                           Project Title  \\\n",
       "0      Batterie de tests à l'usage des enseignants po...   \n",
       "1      Kritische Erstausgabe der 'Evidentiae contra D...   \n",
       "2      Katalog der datierten Handschriften in der Sch...   \n",
       "3      Wissenschaftliche Mitarbeit am Thesaurus Lingu...   \n",
       "4      Die schweizerische Wirtschaftspolitik seit dem...   \n",
       "...                                                  ...   \n",
       "58684  LUTRE-UP - Effect of pulsatile GnRH therapy on...   \n",
       "58685  Multicenter randomized trial comparing an indi...   \n",
       "58686  Timing of initiation of renal Replacement ther...   \n",
       "58687                       USI-SAR_SUDA560_UNESCO Chair   \n",
       "58688  Large scale cosmic magnetic fields and physica...   \n",
       "\n",
       "                                   Project Title English  \\\n",
       "0                                                    NaN   \n",
       "1                                                    NaN   \n",
       "2                                                    NaN   \n",
       "3                                                    NaN   \n",
       "4                                                    NaN   \n",
       "...                                                  ...   \n",
       "58684  LUTRE-UP - Effect of pulsatile GnRH therapy on...   \n",
       "58685                                                NaN   \n",
       "58686                                                NaN   \n",
       "58687                                                NaN   \n",
       "58688  Large scale cosmic magnetic fields and physica...   \n",
       "\n",
       "                                   Responsible Applicant  \\\n",
       "0                                     Massarenti Léonard   \n",
       "1      Kommission für das Corpus philosophorum medii ...   \n",
       "2                                         Burckhardt Max   \n",
       "3                           Schweiz. Thesauruskommission   \n",
       "4                                    Kleinewefers Henner   \n",
       "...                                                  ...   \n",
       "58684                                    Pitteloud Nelly   \n",
       "58685                                       Giger Roland   \n",
       "58686                                      Fakhouri Fadi   \n",
       "58687                                  Ruinelli Maurizia   \n",
       "58688                                        Durrer Ruth   \n",
       "\n",
       "                                  Funding Instrument  \\\n",
       "0                                    Project funding   \n",
       "1                                    Project funding   \n",
       "2                                    Project funding   \n",
       "3                                    Project funding   \n",
       "4                                    Project funding   \n",
       "...                                              ...   \n",
       "58684  Investigator Initiated Clinical Trials (IICT)   \n",
       "58685  Investigator Initiated Clinical Trials (IICT)   \n",
       "58686  Investigator Initiated Clinical Trials (IICT)   \n",
       "58687                           Scientific Exchanges   \n",
       "58688                           Scientific Exchanges   \n",
       "\n",
       "      Funding Instrument Hierarchy  \\\n",
       "0                         Projects   \n",
       "1                         Projects   \n",
       "2                         Projects   \n",
       "3                         Projects   \n",
       "4                         Projects   \n",
       "...                            ...   \n",
       "58684                   Programmes   \n",
       "58685                   Programmes   \n",
       "58686                   Programmes   \n",
       "58687        Science communication   \n",
       "58688        Science communication   \n",
       "\n",
       "                                             Institution Institution Country  \\\n",
       "0                             FPSE  Université de Genève         Switzerland   \n",
       "1      Kommission für das Corpus philosophorum medii ...         Switzerland   \n",
       "2      Abteilung Handschriften und Alte Drucke Univer...         Switzerland   \n",
       "3                           Schweiz. Thesauruskommission         Switzerland   \n",
       "4      Séminaire de politique économique, d'économie ...         Switzerland   \n",
       "...                                                  ...                 ...   \n",
       "58684  Division d'endocrinologie, diabétologie et du ...         Switzerland   \n",
       "58685  Klinik und Poliklinik für Hals-, Nasen- und Oh...         Switzerland   \n",
       "58686     Division de Néphrologie et d'Hypertension CHUV         Switzerland   \n",
       "58687                 Università della Svizzera Italiana         Switzerland   \n",
       "58688  Département de Physique Théorique Université d...         Switzerland   \n",
       "\n",
       "                                              University  Discipline Number  \\\n",
       "0                              University of Geneva - GE              10104   \n",
       "1      Non-profit organisations (libraries, museums, ...              10101   \n",
       "2                               University of Basel - BS              10302   \n",
       "3      Non-profit organisations (libraries, museums, ...              10303   \n",
       "4                            University of Fribourg - FR              10203   \n",
       "...                                                  ...                ...   \n",
       "58684                        University of Lausanne - LA              30716   \n",
       "58685                           University of Berne - BE              30703   \n",
       "58686                        University of Lausanne - LA              30701   \n",
       "58687           Università della Svizzera italiana - USI              10402   \n",
       "58688                          University of Geneva - GE              20401   \n",
       "\n",
       "                                         Discipline Name  \\\n",
       "0      Education and learning sciences, subject-speci...   \n",
       "1                                             Philosophy   \n",
       "2                                          Swiss history   \n",
       "3                  Ancient history and Classical studies   \n",
       "4                                              Economics   \n",
       "...                                                  ...   \n",
       "58684                             Clinical Endocrinology   \n",
       "58685                           Clinical Cancer Research   \n",
       "58686                                  Internal Medicine   \n",
       "58687                                        Archaeology   \n",
       "58688                                Theoretical Physics   \n",
       "\n",
       "                               Discipline Name Hierarchy    All disciplines  \\\n",
       "0      Humanities and Social Sciences;Psychology, edu...              10104   \n",
       "1      Humanities and Social Sciences;Linguistics and...              10101   \n",
       "2      Humanities and Social Sciences;Theology & reli...              10302   \n",
       "3      Humanities and Social Sciences;Theology & reli...              10303   \n",
       "4          Humanities and Social Sciences;Economics, law              10203   \n",
       "...                                                  ...                ...   \n",
       "58684             Biology and Medicine;Clinical Medicine  30716/30302/30802   \n",
       "58685             Biology and Medicine;Clinical Medicine        30703/30709   \n",
       "58686             Biology and Medicine;Clinical Medicine              30701   \n",
       "58687  Humanities and Social Sciences;Theology & reli...        10402/10207   \n",
       "58688  Mathematics, Natural- and Engineering Sciences...        20401/20200   \n",
       "\n",
       "       Start Date    End Date  Approved Amount  \\\n",
       "0      01.10.1975  30.09.1976          41022.0   \n",
       "1      01.03.1976  28.02.1985          79732.0   \n",
       "2      01.10.1975  30.09.1976          52627.0   \n",
       "3      01.01.1976  30.04.1978         120042.0   \n",
       "4      01.01.1976  31.12.1978          53009.0   \n",
       "...           ...         ...              ...   \n",
       "58684  01.07.2022  31.10.2022           4960.0   \n",
       "58685  01.08.2022  31.10.2022           5000.0   \n",
       "58686  01.08.2022  31.10.2022           2980.0   \n",
       "58687  01.08.2022  31.07.2023         103800.0   \n",
       "58688  01.08.2022  31.01.2023          21500.0   \n",
       "\n",
       "                                                Keywords Institution Type  \\\n",
       "0                                                    NaN       University   \n",
       "1                                                    NaN            Other   \n",
       "2                                                    NaN       University   \n",
       "3                                                    NaN            Other   \n",
       "4                                                    NaN       University   \n",
       "...                                                  ...              ...   \n",
       "58684  Neuroimaging; GnRH therapy; Down syndrome; Cog...       University   \n",
       "58685  Head and Neck Cancer; Quality of Life; Follow-...       University   \n",
       "58686             insuffisance rénale aigue; hémodialyse       University   \n",
       "58687                               SUDA560; UNESCO; SAR            Other   \n",
       "58688  Cosmology; Inflaction; Cosmic magnetic fields;...       University   \n",
       "\n",
       "          New Type  \n",
       "0      Universität  \n",
       "1            Other  \n",
       "2      Universität  \n",
       "3            Other  \n",
       "4      Universität  \n",
       "...            ...  \n",
       "58684  Universität  \n",
       "58685  Universität  \n",
       "58686  Universität  \n",
       "58687  Universität  \n",
       "58688  Universität  \n",
       "\n",
       "[58689 rows x 20 columns]"
      ]
     },
     "execution_count": 35,
     "metadata": {},
     "output_type": "execute_result"
    }
   ],
   "source": [
    "df_swiss_classified = df_swiss.merge(df_unique_edited, how='left', left_on='University', right_on='University')\n",
    "df_swiss_classified"
   ]
  },
  {
   "cell_type": "markdown",
   "metadata": {},
   "source": [
    "Die Spalte \"New Type\" wurde nun zur Tabelle \"df_swiss\" hinzugefügt, und zwar genau dort, wo es zum Eintrag in \"University\" passt!\n",
    "\n",
    "Schauen wir kurz, wie viele Einträge es von welchem Typ hat:"
   ]
  },
  {
   "cell_type": "code",
   "execution_count": 36,
   "metadata": {},
   "outputs": [
    {
     "data": {
      "text/plain": [
       "New Type\n",
       "Universität       52123\n",
       "Other              5093\n",
       "Fachhochschule     1278\n",
       "Spital              189\n",
       "Name: count, dtype: int64"
      ]
     },
     "execution_count": 36,
     "metadata": {},
     "output_type": "execute_result"
    }
   ],
   "source": [
    "df_swiss_classified['New Type'].value_counts()"
   ]
  },
  {
   "cell_type": "markdown",
   "metadata": {},
   "source": [
    "Ging auch wirklich nichts vergessen?"
   ]
  },
  {
   "cell_type": "code",
   "execution_count": 37,
   "metadata": {},
   "outputs": [
    {
     "data": {
      "text/plain": [
       "New Type\n",
       "Universität       52123\n",
       "Other              5093\n",
       "Fachhochschule     1278\n",
       "Spital              189\n",
       "NaN                   6\n",
       "Name: count, dtype: int64"
      ]
     },
     "execution_count": 37,
     "metadata": {},
     "output_type": "execute_result"
    }
   ],
   "source": [
    "df_swiss_classified['New Type'].value_counts(dropna=False)"
   ]
  },
  {
   "cell_type": "markdown",
   "metadata": {},
   "source": [
    "**Oops!** Es hat einige fehlende Einträge drin.\n",
    "\n",
    "Was sind das für ein Einträge?"
   ]
  },
  {
   "cell_type": "code",
   "execution_count": 38,
   "metadata": {},
   "outputs": [
    {
     "data": {
      "text/html": [
       "<div>\n",
       "<style scoped>\n",
       "    .dataframe tbody tr th:only-of-type {\n",
       "        vertical-align: middle;\n",
       "    }\n",
       "\n",
       "    .dataframe tbody tr th {\n",
       "        vertical-align: top;\n",
       "    }\n",
       "\n",
       "    .dataframe thead th {\n",
       "        text-align: right;\n",
       "    }\n",
       "</style>\n",
       "<table border=\"1\" class=\"dataframe\">\n",
       "  <thead>\n",
       "    <tr style=\"text-align: right;\">\n",
       "      <th></th>\n",
       "      <th>Project Number</th>\n",
       "      <th>Project Number String</th>\n",
       "      <th>Project Title</th>\n",
       "      <th>Project Title English</th>\n",
       "      <th>Responsible Applicant</th>\n",
       "      <th>Funding Instrument</th>\n",
       "      <th>Funding Instrument Hierarchy</th>\n",
       "      <th>Institution</th>\n",
       "      <th>Institution Country</th>\n",
       "      <th>University</th>\n",
       "      <th>Discipline Number</th>\n",
       "      <th>Discipline Name</th>\n",
       "      <th>Discipline Name Hierarchy</th>\n",
       "      <th>All disciplines</th>\n",
       "      <th>Start Date</th>\n",
       "      <th>End Date</th>\n",
       "      <th>Approved Amount</th>\n",
       "      <th>Keywords</th>\n",
       "      <th>Institution Type</th>\n",
       "      <th>New Type</th>\n",
       "    </tr>\n",
       "  </thead>\n",
       "  <tbody>\n",
       "    <tr>\n",
       "      <th>24178</th>\n",
       "      <td>101005</td>\n",
       "      <td>50CH40-101005</td>\n",
       "      <td>SELECTS 2003: Eidgenössische Wahlen 2003</td>\n",
       "      <td>SELECTS 2003: Federal elections 2003</td>\n",
       "      <td>Malaguerra Carlo</td>\n",
       "      <td>Swiss Priority Programmes (SPPs)</td>\n",
       "      <td>Programmes</td>\n",
       "      <td>Schweizerische Akademie der Geistes-und Sozial...</td>\n",
       "      <td>Switzerland</td>\n",
       "      <td>NaN</td>\n",
       "      <td>10202</td>\n",
       "      <td>Political science</td>\n",
       "      <td>Humanities and Social Sciences;Sociology, soci...</td>\n",
       "      <td>10202</td>\n",
       "      <td>01.02.2003</td>\n",
       "      <td>31.01.2004</td>\n",
       "      <td>100000.0</td>\n",
       "      <td>NaN</td>\n",
       "      <td>Other</td>\n",
       "      <td>NaN</td>\n",
       "    </tr>\n",
       "    <tr>\n",
       "      <th>50716</th>\n",
       "      <td>177868</td>\n",
       "      <td>P3P3PA_177868</td>\n",
       "      <td>Predicting the genetic adaptations that confer...</td>\n",
       "      <td>NaN</td>\n",
       "      <td>Hausser Jean</td>\n",
       "      <td>Return CH Advanced Postdoc.Mobility</td>\n",
       "      <td>Careers;Fellowships</td>\n",
       "      <td>Ludwig Institute for Cancer Research</td>\n",
       "      <td>Switzerland</td>\n",
       "      <td>NaN</td>\n",
       "      <td>30102</td>\n",
       "      <td>Molecular Biology</td>\n",
       "      <td>Biology and Medicine;Basic Biological Research</td>\n",
       "      <td>30102/30401</td>\n",
       "      <td>01.06.2018</td>\n",
       "      <td>28.02.2019</td>\n",
       "      <td>80202.0</td>\n",
       "      <td>intra-tumor heterogeneity; multi-task evolutio...</td>\n",
       "      <td>Other</td>\n",
       "      <td>NaN</td>\n",
       "    </tr>\n",
       "    <tr>\n",
       "      <th>51034</th>\n",
       "      <td>179077</td>\n",
       "      <td>PP00P1_179077</td>\n",
       "      <td>Transnational Ageing among Older Migrants and ...</td>\n",
       "      <td>Transnational Ageing among Older Migrants and ...</td>\n",
       "      <td>Ciobanu Ruxandra Oana</td>\n",
       "      <td>SNSF Professorships</td>\n",
       "      <td>Careers</td>\n",
       "      <td>Haute école de travail social et de la santé H...</td>\n",
       "      <td>Switzerland</td>\n",
       "      <td>NaN</td>\n",
       "      <td>10201</td>\n",
       "      <td>Sociology</td>\n",
       "      <td>Humanities and Social Sciences;Sociology, soci...</td>\n",
       "      <td>10201</td>\n",
       "      <td>01.03.2019</td>\n",
       "      <td>28.02.2023</td>\n",
       "      <td>1134845.0</td>\n",
       "      <td>older migrants; transnationalism; long-distanc...</td>\n",
       "      <td>Other</td>\n",
       "      <td>NaN</td>\n",
       "    </tr>\n",
       "    <tr>\n",
       "      <th>57247</th>\n",
       "      <td>203222</td>\n",
       "      <td>P500PT_203222</td>\n",
       "      <td>End-to-end reconfigurable flat optics design s...</td>\n",
       "      <td>End-to-end reconfigurable flat optics design s...</td>\n",
       "      <td>Martin-Monier Louis</td>\n",
       "      <td>Postdoc.Mobility</td>\n",
       "      <td>Careers;Fellowships</td>\n",
       "      <td>Laboratoire des fibres et matériaux photonique...</td>\n",
       "      <td>Switzerland</td>\n",
       "      <td>NaN</td>\n",
       "      <td>20508</td>\n",
       "      <td>Microelectronics. Optoelectronics</td>\n",
       "      <td>Mathematics, Natural- and Engineering Sciences...</td>\n",
       "      <td>20508/20505</td>\n",
       "      <td>01.09.2021</td>\n",
       "      <td>28.02.2023</td>\n",
       "      <td>NaN</td>\n",
       "      <td>Active Metamaterials; Phase Change Materials; ...</td>\n",
       "      <td>Other</td>\n",
       "      <td>NaN</td>\n",
       "    </tr>\n",
       "    <tr>\n",
       "      <th>58453</th>\n",
       "      <td>210892</td>\n",
       "      <td>P500PS_210892</td>\n",
       "      <td>Learning beyond reward: Affective prediction e...</td>\n",
       "      <td>NaN</td>\n",
       "      <td>Vollberg Marius</td>\n",
       "      <td>Postdoc.Mobility</td>\n",
       "      <td>Careers;Fellowships</td>\n",
       "      <td>E3 Laboratory Swiss Center for Affective Scien...</td>\n",
       "      <td>Switzerland</td>\n",
       "      <td>NaN</td>\n",
       "      <td>10105</td>\n",
       "      <td>Psychology</td>\n",
       "      <td>Humanities and Social Sciences;Psychology, edu...</td>\n",
       "      <td>10105</td>\n",
       "      <td>01.09.2022</td>\n",
       "      <td>31.08.2024</td>\n",
       "      <td>NaN</td>\n",
       "      <td>Affect; Intergroup; Attitudes; Learning; Socia...</td>\n",
       "      <td>Other</td>\n",
       "      <td>NaN</td>\n",
       "    </tr>\n",
       "    <tr>\n",
       "      <th>58466</th>\n",
       "      <td>210956</td>\n",
       "      <td>P500PH_210956</td>\n",
       "      <td>A Methodological Approach to Advanced Imaging ...</td>\n",
       "      <td>NaN</td>\n",
       "      <td>Ryan-Despraz Jessica</td>\n",
       "      <td>Postdoc.Mobility</td>\n",
       "      <td>Careers;Fellowships</td>\n",
       "      <td>Abteilung Anthropologie Institut für Rechtsmed...</td>\n",
       "      <td>Switzerland</td>\n",
       "      <td>NaN</td>\n",
       "      <td>10402</td>\n",
       "      <td>Archaeology</td>\n",
       "      <td>Humanities and Social Sciences;Theology &amp; reli...</td>\n",
       "      <td>10402/30204</td>\n",
       "      <td>01.09.2022</td>\n",
       "      <td>31.08.2024</td>\n",
       "      <td>NaN</td>\n",
       "      <td>archaeology; archery; entheseal changes; biome...</td>\n",
       "      <td>Other</td>\n",
       "      <td>NaN</td>\n",
       "    </tr>\n",
       "  </tbody>\n",
       "</table>\n",
       "</div>"
      ],
      "text/plain": [
       "       Project Number Project Number String  \\\n",
       "24178          101005         50CH40-101005   \n",
       "50716          177868         P3P3PA_177868   \n",
       "51034          179077         PP00P1_179077   \n",
       "57247          203222         P500PT_203222   \n",
       "58453          210892         P500PS_210892   \n",
       "58466          210956         P500PH_210956   \n",
       "\n",
       "                                           Project Title  \\\n",
       "24178           SELECTS 2003: Eidgenössische Wahlen 2003   \n",
       "50716  Predicting the genetic adaptations that confer...   \n",
       "51034  Transnational Ageing among Older Migrants and ...   \n",
       "57247  End-to-end reconfigurable flat optics design s...   \n",
       "58453  Learning beyond reward: Affective prediction e...   \n",
       "58466  A Methodological Approach to Advanced Imaging ...   \n",
       "\n",
       "                                   Project Title English  \\\n",
       "24178               SELECTS 2003: Federal elections 2003   \n",
       "50716                                                NaN   \n",
       "51034  Transnational Ageing among Older Migrants and ...   \n",
       "57247  End-to-end reconfigurable flat optics design s...   \n",
       "58453                                                NaN   \n",
       "58466                                                NaN   \n",
       "\n",
       "       Responsible Applicant                   Funding Instrument  \\\n",
       "24178       Malaguerra Carlo     Swiss Priority Programmes (SPPs)   \n",
       "50716           Hausser Jean  Return CH Advanced Postdoc.Mobility   \n",
       "51034  Ciobanu Ruxandra Oana                  SNSF Professorships   \n",
       "57247    Martin-Monier Louis                     Postdoc.Mobility   \n",
       "58453        Vollberg Marius                     Postdoc.Mobility   \n",
       "58466   Ryan-Despraz Jessica                     Postdoc.Mobility   \n",
       "\n",
       "      Funding Instrument Hierarchy  \\\n",
       "24178                   Programmes   \n",
       "50716          Careers;Fellowships   \n",
       "51034                      Careers   \n",
       "57247          Careers;Fellowships   \n",
       "58453          Careers;Fellowships   \n",
       "58466          Careers;Fellowships   \n",
       "\n",
       "                                             Institution Institution Country  \\\n",
       "24178  Schweizerische Akademie der Geistes-und Sozial...         Switzerland   \n",
       "50716               Ludwig Institute for Cancer Research         Switzerland   \n",
       "51034  Haute école de travail social et de la santé H...         Switzerland   \n",
       "57247  Laboratoire des fibres et matériaux photonique...         Switzerland   \n",
       "58453  E3 Laboratory Swiss Center for Affective Scien...         Switzerland   \n",
       "58466  Abteilung Anthropologie Institut für Rechtsmed...         Switzerland   \n",
       "\n",
       "      University  Discipline Number                    Discipline Name  \\\n",
       "24178        NaN              10202                  Political science   \n",
       "50716        NaN              30102                  Molecular Biology   \n",
       "51034        NaN              10201                          Sociology   \n",
       "57247        NaN              20508  Microelectronics. Optoelectronics   \n",
       "58453        NaN              10105                         Psychology   \n",
       "58466        NaN              10402                        Archaeology   \n",
       "\n",
       "                               Discipline Name Hierarchy All disciplines  \\\n",
       "24178  Humanities and Social Sciences;Sociology, soci...           10202   \n",
       "50716     Biology and Medicine;Basic Biological Research     30102/30401   \n",
       "51034  Humanities and Social Sciences;Sociology, soci...           10201   \n",
       "57247  Mathematics, Natural- and Engineering Sciences...     20508/20505   \n",
       "58453  Humanities and Social Sciences;Psychology, edu...           10105   \n",
       "58466  Humanities and Social Sciences;Theology & reli...     10402/30204   \n",
       "\n",
       "       Start Date    End Date  Approved Amount  \\\n",
       "24178  01.02.2003  31.01.2004         100000.0   \n",
       "50716  01.06.2018  28.02.2019          80202.0   \n",
       "51034  01.03.2019  28.02.2023        1134845.0   \n",
       "57247  01.09.2021  28.02.2023              NaN   \n",
       "58453  01.09.2022  31.08.2024              NaN   \n",
       "58466  01.09.2022  31.08.2024              NaN   \n",
       "\n",
       "                                                Keywords Institution Type  \\\n",
       "24178                                                NaN            Other   \n",
       "50716  intra-tumor heterogeneity; multi-task evolutio...            Other   \n",
       "51034  older migrants; transnationalism; long-distanc...            Other   \n",
       "57247  Active Metamaterials; Phase Change Materials; ...            Other   \n",
       "58453  Affect; Intergroup; Attitudes; Learning; Socia...            Other   \n",
       "58466  archaeology; archery; entheseal changes; biome...            Other   \n",
       "\n",
       "      New Type  \n",
       "24178      NaN  \n",
       "50716      NaN  \n",
       "51034      NaN  \n",
       "57247      NaN  \n",
       "58453      NaN  \n",
       "58466      NaN  "
      ]
     },
     "execution_count": 38,
     "metadata": {},
     "output_type": "execute_result"
    }
   ],
   "source": [
    "df_swiss_classified[df_swiss_classified['New Type'].isnull()]"
   ]
  },
  {
   "cell_type": "markdown",
   "metadata": {},
   "source": [
    "Sieht nach grundsätzlich validen Projekten aus. Wir klassifizieren die Einträge kurzerhand auf \"Other\":"
   ]
  },
  {
   "cell_type": "code",
   "execution_count": 39,
   "metadata": {},
   "outputs": [],
   "source": [
    "df_swiss_classified.loc[df_swiss_classified['New Type'].isnull(), \"New Type\"] = \"Other\""
   ]
  },
  {
   "cell_type": "markdown",
   "metadata": {},
   "source": [
    "Wir können nun wiederum unsere Auswertung vornehmen,zB nach Durchschnittsbeträgen:"
   ]
  },
  {
   "cell_type": "code",
   "execution_count": 40,
   "metadata": {},
   "outputs": [
    {
     "data": {
      "text/plain": [
       "New Type\n",
       "Fachhochschule    2.719133e+08\n",
       "Other             1.389564e+09\n",
       "Spital            4.790973e+07\n",
       "Universität       1.712176e+10\n",
       "Name: Approved Amount, dtype: float64"
      ]
     },
     "execution_count": 40,
     "metadata": {},
     "output_type": "execute_result"
    }
   ],
   "source": [
    "df_swiss_classified.groupby('New Type')['Approved Amount'].sum()"
   ]
  },
  {
   "cell_type": "code",
   "execution_count": null,
   "metadata": {},
   "outputs": [],
   "source": []
  },
  {
   "cell_type": "markdown",
   "metadata": {},
   "source": [
    "## Plotting Level 2"
   ]
  },
  {
   "cell_type": "markdown",
   "metadata": {},
   "source": [
    "Nun wollen wir darstellen, wie sich die Projekte über die Zeit hinweg in der Schweiz und in den übrigen Ländern entwickelt haben. Es geht also darum, zwei verschiedene Serien auf einer Grafik einzuzeichnen."
   ]
  },
  {
   "cell_type": "markdown",
   "metadata": {},
   "source": [
    "- für den Ländertyp basteln wir uns rasch eine ähnliche Kategorisierung wie vorher:"
   ]
  },
  {
   "cell_type": "code",
   "execution_count": 41,
   "metadata": {},
   "outputs": [
    {
     "data": {
      "text/plain": [
       "Country Type\n",
       "Switzerland    58689\n",
       "Other          20553\n",
       "Name: count, dtype: int64"
      ]
     },
     "execution_count": 41,
     "metadata": {},
     "output_type": "execute_result"
    }
   ],
   "source": [
    "df['Country Type'] = \"\"\n",
    "df.loc[df['Institution Country'] == 'Switzerland', 'Country Type'] = \"Switzerland\"\n",
    "df.loc[df['Institution Country'] != 'Switzerland', 'Country Type'] = \"Other\"\n",
    "df['Country Type'].value_counts(dropna=False)"
   ]
  },
  {
   "cell_type": "markdown",
   "metadata": {},
   "source": [
    "- für das Jahr wenden wirr jetzt einen etwas faulen Trick an, um eine neue Spalte mit dem Jahr zu generieren (eigentlich gäbe es dazu noch einen speziellen Datentyp, aber den schauen wir ein anderes Mal an)."
   ]
  },
  {
   "cell_type": "code",
   "execution_count": 42,
   "metadata": {},
   "outputs": [],
   "source": [
    "df['Year'] = df['Start Date'].str[6:]"
   ]
  },
  {
   "cell_type": "markdown",
   "metadata": {},
   "source": [
    "Check, ob das einigermassen funktioniert hat..."
   ]
  },
  {
   "cell_type": "code",
   "execution_count": 43,
   "metadata": {},
   "outputs": [
    {
     "data": {
      "text/plain": [
       "Year\n",
       "1975    205\n",
       "1976    542\n",
       "1977    564\n",
       "1978    556\n",
       "1979    616\n",
       "Name: count, dtype: int64"
      ]
     },
     "execution_count": 43,
     "metadata": {},
     "output_type": "execute_result"
    }
   ],
   "source": [
    "df['Year'].value_counts(dropna=False).sort_index().head(5)"
   ]
  },
  {
   "cell_type": "markdown",
   "metadata": {},
   "source": [
    "Jetzt plotten wir die Gesamtsumme der gesprochenen Gelder nach Jahr. Zuerst für die Schweiz ..."
   ]
  },
  {
   "cell_type": "code",
   "execution_count": 44,
   "metadata": {},
   "outputs": [
    {
     "data": {
      "text/plain": [
       "<Axes: xlabel='Year'>"
      ]
     },
     "execution_count": 44,
     "metadata": {},
     "output_type": "execute_result"
    },
    {
     "data": {
      "image/png": "[encoded data removed]",
      "text/plain": [
       "<Figure size 1200x600 with 1 Axes>"
      ]
     },
     "metadata": {},
     "output_type": "display_data"
    }
   ],
   "source": [
    "df[df['Country Type'] == \"Switzerland\"].groupby('Year')['Approved Amount'].sum().plot(figsize=(12,6))"
   ]
  },
  {
   "cell_type": "markdown",
   "metadata": {},
   "source": [
    "... dann für die anderen Länder ..."
   ]
  },
  {
   "cell_type": "code",
   "execution_count": 45,
   "metadata": {},
   "outputs": [
    {
     "data": {
      "text/plain": [
       "<Axes: xlabel='Year'>"
      ]
     },
     "execution_count": 45,
     "metadata": {},
     "output_type": "execute_result"
    },
    {
     "data": {
      "image/png": "[encoded data removed]",
      "text/plain": [
       "<Figure size 1200x600 with 1 Axes>"
      ]
     },
     "metadata": {},
     "output_type": "display_data"
    }
   ],
   "source": [
    "df[df['Country Type'] == \"Other\"].groupby('Year')['Approved Amount'].sum().plot(figsize=(12,6))"
   ]
  },
  {
   "cell_type": "markdown",
   "metadata": {},
   "source": [
    "... und schliesslich für beide Ländertypen:"
   ]
  },
  {
   "cell_type": "markdown",
   "metadata": {},
   "source": [
    "### Methode 1: Zwei verschiedene Linien einzeichnen"
   ]
  },
  {
   "cell_type": "markdown",
   "metadata": {},
   "source": [
    "Die sicherste Methode, um mehrere Kurven auf derselben Grafik darzustellen, ist `ax=`.\n",
    "\n",
    "Wir speichern erste einen Plot als \"chart1\" und sagen dem zweiten Plot dann, sich zu \"chart1\" hinzuzugesellen."
   ]
  },
  {
   "cell_type": "code",
   "execution_count": 46,
   "metadata": {},
   "outputs": [
    {
     "data": {
      "text/plain": [
       "<Axes: xlabel='Year'>"
      ]
     },
     "execution_count": 46,
     "metadata": {},
     "output_type": "execute_result"
    },
    {
     "data": {
      "image/png": "[encoded data removed]",
      "text/plain": [
       "<Figure size 1200x600 with 1 Axes>"
      ]
     },
     "metadata": {},
     "output_type": "display_data"
    }
   ],
   "source": [
    "chart1 = df[df['Country Type'] == \"Switzerland\"].groupby('Year')['Approved Amount'].sum().plot(figsize=(12,6))\n",
    "\n",
    "df[df['Country Type'] == \"Other\"].groupby('Year')['Approved Amount'].sum().plot(ax=chart1)"
   ]
  },
  {
   "cell_type": "markdown",
   "metadata": {},
   "source": [
    "### Methode 2: Doppelt groupby, unstack"
   ]
  },
  {
   "cell_type": "markdown",
   "metadata": {},
   "source": [
    "In diesem Fall gibt es allerdings noch eine elegantere Variante. Und zwar mit `groupby()`.\n",
    "\n",
    "Diese Methode funktioniert nicht nur mit einem Level, sondern auch mit zwei. Die Summierung wird einerseits über die Jahre (\"Years\") gemacht und andererseits für die einzelenen Ländertypen (\"Country Types\"):"
   ]
  },
  {
   "cell_type": "code",
   "execution_count": 47,
   "metadata": {},
   "outputs": [
    {
     "data": {
      "text/plain": [
       "Year  Country Type\n",
       "1975  Other           1.422727e+06\n",
       "      Switzerland     3.074641e+07\n",
       "1976  Other           5.798550e+06\n",
       "      Switzerland     9.121748e+07\n",
       "1977  Other           4.920319e+06\n",
       "                          ...     \n",
       "2021  Switzerland     9.134214e+08\n",
       "2022  Other           6.074583e+06\n",
       "      Switzerland     6.322264e+08\n",
       "2023  Other           0.000000e+00\n",
       "      Switzerland     7.932500e+04\n",
       "Name: Approved Amount, Length: 98, dtype: float64"
      ]
     },
     "execution_count": 47,
     "metadata": {},
     "output_type": "execute_result"
    }
   ],
   "source": [
    "df.groupby(['Year', 'Country Type'])['Approved Amount'].sum()"
   ]
  },
  {
   "cell_type": "markdown",
   "metadata": {},
   "source": [
    "Um diese Werte zu plotten, müssen wir Pandas die Tabelle allerdings etwas anders zur Verfügung stellen: im Wide-Format (dazu später noch mehr). Wir können dazu die Funktion `unstack()` verwenden:"
   ]
  },
  {
   "cell_type": "code",
   "execution_count": 48,
   "metadata": {},
   "outputs": [
    {
     "data": {
      "text/html": [
       "<div>\n",
       "<style scoped>\n",
       "    .dataframe tbody tr th:only-of-type {\n",
       "        vertical-align: middle;\n",
       "    }\n",
       "\n",
       "    .dataframe tbody tr th {\n",
       "        vertical-align: top;\n",
       "    }\n",
       "\n",
       "    .dataframe thead th {\n",
       "        text-align: right;\n",
       "    }\n",
       "</style>\n",
       "<table border=\"1\" class=\"dataframe\">\n",
       "  <thead>\n",
       "    <tr style=\"text-align: right;\">\n",
       "      <th>Country Type</th>\n",
       "      <th>Other</th>\n",
       "      <th>Switzerland</th>\n",
       "    </tr>\n",
       "    <tr>\n",
       "      <th>Year</th>\n",
       "      <th></th>\n",
       "      <th></th>\n",
       "    </tr>\n",
       "  </thead>\n",
       "  <tbody>\n",
       "    <tr>\n",
       "      <th>1975</th>\n",
       "      <td>1422727.00</td>\n",
       "      <td>3.074641e+07</td>\n",
       "    </tr>\n",
       "    <tr>\n",
       "      <th>1976</th>\n",
       "      <td>5798550.00</td>\n",
       "      <td>9.121748e+07</td>\n",
       "    </tr>\n",
       "    <tr>\n",
       "      <th>1977</th>\n",
       "      <td>4920319.00</td>\n",
       "      <td>1.114744e+08</td>\n",
       "    </tr>\n",
       "    <tr>\n",
       "      <th>1978</th>\n",
       "      <td>5344733.00</td>\n",
       "      <td>1.036575e+08</td>\n",
       "    </tr>\n",
       "    <tr>\n",
       "      <th>1979</th>\n",
       "      <td>7064763.00</td>\n",
       "      <td>1.167330e+08</td>\n",
       "    </tr>\n",
       "    <tr>\n",
       "      <th>1980</th>\n",
       "      <td>3904041.00</td>\n",
       "      <td>1.175633e+08</td>\n",
       "    </tr>\n",
       "    <tr>\n",
       "      <th>1981</th>\n",
       "      <td>6689602.00</td>\n",
       "      <td>1.116979e+08</td>\n",
       "    </tr>\n",
       "    <tr>\n",
       "      <th>1982</th>\n",
       "      <td>5339538.00</td>\n",
       "      <td>1.135752e+08</td>\n",
       "    </tr>\n",
       "    <tr>\n",
       "      <th>1983</th>\n",
       "      <td>6220266.00</td>\n",
       "      <td>1.370960e+08</td>\n",
       "    </tr>\n",
       "    <tr>\n",
       "      <th>1984</th>\n",
       "      <td>5942977.00</td>\n",
       "      <td>1.268423e+08</td>\n",
       "    </tr>\n",
       "    <tr>\n",
       "      <th>1985</th>\n",
       "      <td>6240945.00</td>\n",
       "      <td>1.402211e+08</td>\n",
       "    </tr>\n",
       "    <tr>\n",
       "      <th>1986</th>\n",
       "      <td>6151577.00</td>\n",
       "      <td>1.628847e+08</td>\n",
       "    </tr>\n",
       "    <tr>\n",
       "      <th>1987</th>\n",
       "      <td>9358608.00</td>\n",
       "      <td>1.559327e+08</td>\n",
       "    </tr>\n",
       "    <tr>\n",
       "      <th>1988</th>\n",
       "      <td>10323542.00</td>\n",
       "      <td>1.827069e+08</td>\n",
       "    </tr>\n",
       "    <tr>\n",
       "      <th>1989</th>\n",
       "      <td>20723839.00</td>\n",
       "      <td>2.152159e+08</td>\n",
       "    </tr>\n",
       "    <tr>\n",
       "      <th>1990</th>\n",
       "      <td>12292042.70</td>\n",
       "      <td>2.316729e+08</td>\n",
       "    </tr>\n",
       "    <tr>\n",
       "      <th>1991</th>\n",
       "      <td>8775912.00</td>\n",
       "      <td>2.390177e+08</td>\n",
       "    </tr>\n",
       "    <tr>\n",
       "      <th>1992</th>\n",
       "      <td>7044038.00</td>\n",
       "      <td>2.726861e+08</td>\n",
       "    </tr>\n",
       "    <tr>\n",
       "      <th>1993</th>\n",
       "      <td>13082810.25</td>\n",
       "      <td>2.915037e+08</td>\n",
       "    </tr>\n",
       "    <tr>\n",
       "      <th>1994</th>\n",
       "      <td>14775793.00</td>\n",
       "      <td>2.570389e+08</td>\n",
       "    </tr>\n",
       "    <tr>\n",
       "      <th>1995</th>\n",
       "      <td>14559791.00</td>\n",
       "      <td>2.277817e+08</td>\n",
       "    </tr>\n",
       "    <tr>\n",
       "      <th>1996</th>\n",
       "      <td>22039965.30</td>\n",
       "      <td>3.760450e+08</td>\n",
       "    </tr>\n",
       "    <tr>\n",
       "      <th>1997</th>\n",
       "      <td>18145203.85</td>\n",
       "      <td>2.952179e+08</td>\n",
       "    </tr>\n",
       "    <tr>\n",
       "      <th>1998</th>\n",
       "      <td>7964235.00</td>\n",
       "      <td>2.480227e+08</td>\n",
       "    </tr>\n",
       "    <tr>\n",
       "      <th>1999</th>\n",
       "      <td>9247990.00</td>\n",
       "      <td>2.278827e+08</td>\n",
       "    </tr>\n",
       "    <tr>\n",
       "      <th>2000</th>\n",
       "      <td>19413330.87</td>\n",
       "      <td>3.288880e+08</td>\n",
       "    </tr>\n",
       "    <tr>\n",
       "      <th>2001</th>\n",
       "      <td>15796495.91</td>\n",
       "      <td>3.694170e+08</td>\n",
       "    </tr>\n",
       "    <tr>\n",
       "      <th>2002</th>\n",
       "      <td>13134329.40</td>\n",
       "      <td>3.126499e+08</td>\n",
       "    </tr>\n",
       "    <tr>\n",
       "      <th>2003</th>\n",
       "      <td>12090718.30</td>\n",
       "      <td>3.139421e+08</td>\n",
       "    </tr>\n",
       "    <tr>\n",
       "      <th>2004</th>\n",
       "      <td>5247943.00</td>\n",
       "      <td>3.143065e+08</td>\n",
       "    </tr>\n",
       "    <tr>\n",
       "      <th>2005</th>\n",
       "      <td>25152200.22</td>\n",
       "      <td>4.169781e+08</td>\n",
       "    </tr>\n",
       "    <tr>\n",
       "      <th>2006</th>\n",
       "      <td>11486525.82</td>\n",
       "      <td>3.777815e+08</td>\n",
       "    </tr>\n",
       "    <tr>\n",
       "      <th>2007</th>\n",
       "      <td>9623660.00</td>\n",
       "      <td>3.809150e+08</td>\n",
       "    </tr>\n",
       "    <tr>\n",
       "      <th>2008</th>\n",
       "      <td>15753413.44</td>\n",
       "      <td>4.302946e+08</td>\n",
       "    </tr>\n",
       "    <tr>\n",
       "      <th>2009</th>\n",
       "      <td>11561098.35</td>\n",
       "      <td>7.114365e+08</td>\n",
       "    </tr>\n",
       "    <tr>\n",
       "      <th>2010</th>\n",
       "      <td>28631251.05</td>\n",
       "      <td>6.795893e+08</td>\n",
       "    </tr>\n",
       "    <tr>\n",
       "      <th>2011</th>\n",
       "      <td>26406430.57</td>\n",
       "      <td>5.558082e+08</td>\n",
       "    </tr>\n",
       "    <tr>\n",
       "      <th>2012</th>\n",
       "      <td>23770657.27</td>\n",
       "      <td>6.265349e+08</td>\n",
       "    </tr>\n",
       "    <tr>\n",
       "      <th>2013</th>\n",
       "      <td>13461419.30</td>\n",
       "      <td>6.669620e+08</td>\n",
       "    </tr>\n",
       "    <tr>\n",
       "      <th>2014</th>\n",
       "      <td>15181081.00</td>\n",
       "      <td>9.497735e+08</td>\n",
       "    </tr>\n",
       "    <tr>\n",
       "      <th>2015</th>\n",
       "      <td>60096593.57</td>\n",
       "      <td>7.445782e+08</td>\n",
       "    </tr>\n",
       "    <tr>\n",
       "      <th>2016</th>\n",
       "      <td>20432046.15</td>\n",
       "      <td>6.751291e+08</td>\n",
       "    </tr>\n",
       "    <tr>\n",
       "      <th>2017</th>\n",
       "      <td>15297742.76</td>\n",
       "      <td>8.843896e+08</td>\n",
       "    </tr>\n",
       "    <tr>\n",
       "      <th>2018</th>\n",
       "      <td>14423304.67</td>\n",
       "      <td>1.111317e+09</td>\n",
       "    </tr>\n",
       "    <tr>\n",
       "      <th>2019</th>\n",
       "      <td>8267823.01</td>\n",
       "      <td>9.454737e+08</td>\n",
       "    </tr>\n",
       "    <tr>\n",
       "      <th>2020</th>\n",
       "      <td>18592988.17</td>\n",
       "      <td>9.048226e+08</td>\n",
       "    </tr>\n",
       "    <tr>\n",
       "      <th>2021</th>\n",
       "      <td>14704310.00</td>\n",
       "      <td>9.134214e+08</td>\n",
       "    </tr>\n",
       "    <tr>\n",
       "      <th>2022</th>\n",
       "      <td>6074583.00</td>\n",
       "      <td>6.322264e+08</td>\n",
       "    </tr>\n",
       "    <tr>\n",
       "      <th>2023</th>\n",
       "      <td>0.00</td>\n",
       "      <td>7.932500e+04</td>\n",
       "    </tr>\n",
       "  </tbody>\n",
       "</table>\n",
       "</div>"
      ],
      "text/plain": [
       "Country Type        Other   Switzerland\n",
       "Year                                   \n",
       "1975           1422727.00  3.074641e+07\n",
       "1976           5798550.00  9.121748e+07\n",
       "1977           4920319.00  1.114744e+08\n",
       "1978           5344733.00  1.036575e+08\n",
       "1979           7064763.00  1.167330e+08\n",
       "1980           3904041.00  1.175633e+08\n",
       "1981           6689602.00  1.116979e+08\n",
       "1982           5339538.00  1.135752e+08\n",
       "1983           6220266.00  1.370960e+08\n",
       "1984           5942977.00  1.268423e+08\n",
       "1985           6240945.00  1.402211e+08\n",
       "1986           6151577.00  1.628847e+08\n",
       "1987           9358608.00  1.559327e+08\n",
       "1988          10323542.00  1.827069e+08\n",
       "1989          20723839.00  2.152159e+08\n",
       "1990          12292042.70  2.316729e+08\n",
       "1991           8775912.00  2.390177e+08\n",
       "1992           7044038.00  2.726861e+08\n",
       "1993          13082810.25  2.915037e+08\n",
       "1994          14775793.00  2.570389e+08\n",
       "1995          14559791.00  2.277817e+08\n",
       "1996          22039965.30  3.760450e+08\n",
       "1997          18145203.85  2.952179e+08\n",
       "1998           7964235.00  2.480227e+08\n",
       "1999           9247990.00  2.278827e+08\n",
       "2000          19413330.87  3.288880e+08\n",
       "2001          15796495.91  3.694170e+08\n",
       "2002          13134329.40  3.126499e+08\n",
       "2003          12090718.30  3.139421e+08\n",
       "2004           5247943.00  3.143065e+08\n",
       "2005          25152200.22  4.169781e+08\n",
       "2006          11486525.82  3.777815e+08\n",
       "2007           9623660.00  3.809150e+08\n",
       "2008          15753413.44  4.302946e+08\n",
       "2009          11561098.35  7.114365e+08\n",
       "2010          28631251.05  6.795893e+08\n",
       "2011          26406430.57  5.558082e+08\n",
       "2012          23770657.27  6.265349e+08\n",
       "2013          13461419.30  6.669620e+08\n",
       "2014          15181081.00  9.497735e+08\n",
       "2015          60096593.57  7.445782e+08\n",
       "2016          20432046.15  6.751291e+08\n",
       "2017          15297742.76  8.843896e+08\n",
       "2018          14423304.67  1.111317e+09\n",
       "2019           8267823.01  9.454737e+08\n",
       "2020          18592988.17  9.048226e+08\n",
       "2021          14704310.00  9.134214e+08\n",
       "2022           6074583.00  6.322264e+08\n",
       "2023                 0.00  7.932500e+04"
      ]
     },
     "execution_count": 48,
     "metadata": {},
     "output_type": "execute_result"
    }
   ],
   "source": [
    "df.groupby(['Year', 'Country Type'])['Approved Amount'].sum().unstack()"
   ]
  },
  {
   "cell_type": "markdown",
   "metadata": {},
   "source": [
    "Letzter Schritt: `plot()`"
   ]
  },
  {
   "cell_type": "code",
   "execution_count": 49,
   "metadata": {},
   "outputs": [
    {
     "data": {
      "text/plain": [
       "<Axes: xlabel='Year'>"
      ]
     },
     "execution_count": 49,
     "metadata": {},
     "output_type": "execute_result"
    },
    {
     "data": {
      "image/png": "[encoded data removed]",
      "text/plain": [
       "<Figure size 1200x600 with 1 Axes>"
      ]
     },
     "metadata": {},
     "output_type": "display_data"
    }
   ],
   "source": [
    "df.groupby(['Year', 'Country Type'])['Approved Amount'].sum().unstack().plot(figsize=(12,6))"
   ]
  },
  {
   "cell_type": "markdown",
   "metadata": {},
   "source": [
    "**Quiz:** Plotten Sie den durchschnittlichen Betrag, den Universitäten, Fachhochschulen, Spitäler und andere Institutionen über die Jahre erhalten haben - alles auf derselben Grafik. Benutzen Sie dazu wieder das Dataframe \"df_swiss_classfied\" – Achtung, Sie müssen zuerst wieder eine Jahresspalte erstellen."
   ]
  },
  {
   "cell_type": "code",
   "execution_count": 50,
   "metadata": {},
   "outputs": [],
   "source": [
    "# Spalte 'Year' in df_swiss_classified erstellen\n"
   ]
  },
  {
   "cell_type": "code",
   "execution_count": 51,
   "metadata": {},
   "outputs": [],
   "source": [
    "# Liste, nach Jahr und New Type gruppiert\n"
   ]
  },
  {
   "cell_type": "code",
   "execution_count": 52,
   "metadata": {},
   "outputs": [],
   "source": [
    "# Plot\n"
   ]
  },
  {
   "cell_type": "markdown",
   "metadata": {},
   "source": [
    "**Schlussfrage:** Haben wir nun bereits eine Story gefunden? Wenn ja, was könnte sie sein? Wenn nein, welches wären weitere Auswertungen, die man basierend auf diesen Daten machen könnte?"
   ]
  },
  {
   "cell_type": "code",
   "execution_count": 53,
   "metadata": {},
   "outputs": [],
   "source": [
    "#Antwort in Textform...\n",
    "#Zum Beispiel: Auswertung der Profile von einzelnen Forschern."
   ]
  },
  {
   "cell_type": "code",
   "execution_count": null,
   "metadata": {},
   "outputs": [],
   "source": []
  },
  {
   "cell_type": "code",
   "execution_count": null,
   "metadata": {},
   "outputs": [],
   "source": []
  },
  {
   "cell_type": "markdown",
   "metadata": {},
   "source": [
    "# Übung"
   ]
  },
  {
   "cell_type": "markdown",
   "metadata": {},
   "source": [
    "Wir klassifizieren die Projekte nun nach Forschungsdisziplin und werten aus, welche Disziplinen zu welchem Zeitpunkt wie viel Geld gekriegt haben (wir wenden also Methode 3 an)."
   ]
  },
  {
   "cell_type": "markdown",
   "metadata": {},
   "source": [
    "**Schritt 1:** Wir erstellen eine Liste der einzigartigen Einträge im Datenfeld \"Discipline Name\" und speichern sie als csv-Datei ab. (Arbeiten Sie mit dem dataframe \"df_swiss\")"
   ]
  },
  {
   "cell_type": "code",
   "execution_count": 54,
   "metadata": {},
   "outputs": [],
   "source": [
    "#Dataframe aus einzigartigen Disziplinennamen erstellen\n"
   ]
  },
  {
   "cell_type": "code",
   "execution_count": 55,
   "metadata": {},
   "outputs": [],
   "source": [
    "# Dataframe als csv speichern\n"
   ]
  },
  {
   "cell_type": "markdown",
   "metadata": {},
   "source": [
    "**Schritt 2:** Wir bearbeiten das csv-File extern und klassifizieren nach unserer Wahl"
   ]
  },
  {
   "cell_type": "code",
   "execution_count": 56,
   "metadata": {},
   "outputs": [],
   "source": [
    "#extern bearbeiten..."
   ]
  },
  {
   "cell_type": "markdown",
   "metadata": {},
   "source": [
    "**Schritt 3:** Wir fügen die Klassifizierung der Disziplinen in unsere Datenliste (Arbeiten Sie mit df) ein"
   ]
  },
  {
   "cell_type": "code",
   "execution_count": 57,
   "metadata": {},
   "outputs": [],
   "source": [
    "# Einlesen des bearbeiteten csv-Files\n"
   ]
  },
  {
   "cell_type": "code",
   "execution_count": 58,
   "metadata": {},
   "outputs": [],
   "source": [
    "# Verbinden Sie das dataframe \"df_swiss\" mit der Klassifizierung, abspeichern unter neuem dataframe df_swiss_classified\n"
   ]
  },
  {
   "cell_type": "markdown",
   "metadata": {},
   "source": [
    "**Schritt 4:** Auswertungen"
   ]
  },
  {
   "cell_type": "markdown",
   "metadata": {},
   "source": [
    "- Wie viele Projekte von welchem Disziplinen-Typ wurden durchgeführt?"
   ]
  },
  {
   "cell_type": "code",
   "execution_count": null,
   "metadata": {},
   "outputs": [],
   "source": []
  },
  {
   "cell_type": "markdown",
   "metadata": {},
   "source": [
    "- Welche Disziplinen-Typen haben meisten Geld gekriegt?"
   ]
  },
  {
   "cell_type": "code",
   "execution_count": null,
   "metadata": {},
   "outputs": [],
   "source": []
  },
  {
   "cell_type": "markdown",
   "metadata": {},
   "source": [
    "- Wie viel kosten Projekte der Disziplinen-Typen im Durchschnitt? Im Median?"
   ]
  },
  {
   "cell_type": "code",
   "execution_count": null,
   "metadata": {},
   "outputs": [],
   "source": []
  },
  {
   "cell_type": "code",
   "execution_count": null,
   "metadata": {},
   "outputs": [],
   "source": []
  },
  {
   "cell_type": "markdown",
   "metadata": {},
   "source": [
    "**Schritt 5:** Plot einer Auswertung"
   ]
  },
  {
   "cell_type": "markdown",
   "metadata": {},
   "source": [
    "Wie viel Geld haben die verschiedenen Disziplinentypen im Jahresverlauf insgesamt gekriegt?"
   ]
  },
  {
   "cell_type": "code",
   "execution_count": 59,
   "metadata": {},
   "outputs": [],
   "source": [
    "#Wir müssen auf df_swiss_classified nochmals den Trick mit der Jahresspalte anwenden\n"
   ]
  },
  {
   "cell_type": "code",
   "execution_count": 60,
   "metadata": {},
   "outputs": [],
   "source": [
    "# Tabelle anzeigen: Summe der gesprochenen Gelder, gruppiert nach Jahr und Disziplinentyp\n"
   ]
  },
  {
   "cell_type": "code",
   "execution_count": 61,
   "metadata": {},
   "outputs": [],
   "source": [
    "#Plot als Liniendiagramm\n"
   ]
  },
  {
   "cell_type": "markdown",
   "metadata": {},
   "source": [
    "Was für eine Story könnte man auf dieser Auswertung aufbauen? (Wenn man absieht vom Jahr 2023, für das die Daten erst bruchstückhaft vorliegen)"
   ]
  },
  {
   "cell_type": "code",
   "execution_count": null,
   "metadata": {},
   "outputs": [],
   "source": []
  },
  {
   "cell_type": "code",
   "execution_count": null,
   "metadata": {},
   "outputs": [],
   "source": []
  },
  {
   "cell_type": "code",
   "execution_count": null,
   "metadata": {},
   "outputs": [],
   "source": []
  },
  {
   "cell_type": "code",
   "execution_count": null,
   "metadata": {},
   "outputs": [],
   "source": []
  }
 ],
 "metadata": {
  "kernelspec": {
   "display_name": "Python 3 (ipykernel)",
   "language": "python",
   "name": "python3"
  },
  "language_info": {
   "codemirror_mode": {
    "name": "ipython",
    "version": 3
   },
   "file_extension": ".py",
   "mimetype": "text/x-python",
   "name": "python",
   "nbconvert_exporter": "python",
   "pygments_lexer": "ipython3",
   "version": "3.8.17"
  }
 },
 "nbformat": 4,
 "nbformat_minor": 2
}
