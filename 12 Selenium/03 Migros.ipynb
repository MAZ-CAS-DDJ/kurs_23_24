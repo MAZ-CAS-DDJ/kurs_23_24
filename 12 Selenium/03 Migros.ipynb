{
 "cells": [
  {
   "cell_type": "code",
   "execution_count": 1,
   "id": "2d55e774",
   "metadata": {},
   "outputs": [],
   "source": [
    "from selenium import webdriver\n",
    "from selenium.webdriver.common.keys import Keys\n",
    "from selenium.webdriver.common.by import By\n",
    "from selenium.webdriver.support.ui import Select\n",
    "import time\n",
    "import pandas as pd\n",
    "from bs4 import BeautifulSoup"
   ]
  },
  {
   "cell_type": "markdown",
   "id": "200df600",
   "metadata": {},
   "source": [
    "# Untersuchung \"Shrinkflation\". Fokus Schoko-Pralines.\n",
    "- Hersteller\n",
    "- Produkte-Titel\n",
    "- Preis\n",
    "- Preis/100g"
   ]
  },
  {
   "cell_type": "code",
   "execution_count": 2,
   "id": "00b3d644",
   "metadata": {},
   "outputs": [],
   "source": [
    "url = \"https://www.migros.ch/de/category/snacks-sussigkeiten/schokolade-sussigkeiten/pralinen\""
   ]
  },
  {
   "cell_type": "code",
   "execution_count": 3,
   "id": "b3483c65",
   "metadata": {},
   "outputs": [],
   "source": [
    "#Wir starten den BRowser auf\n",
    "driver = webdriver.Firefox()"
   ]
  },
  {
   "cell_type": "code",
   "execution_count": 4,
   "id": "2030710f",
   "metadata": {},
   "outputs": [],
   "source": [
    "#Und nun sagen wir dem Browser, welche Seite er besuchen sollte. \n",
    "driver.get(url)"
   ]
  },
  {
   "cell_type": "code",
   "execution_count": 9,
   "id": "420e754d",
   "metadata": {},
   "outputs": [],
   "source": [
    "search = driver.find_element(By.CLASS_NAME, 'namedesc')"
   ]
  },
  {
   "cell_type": "code",
   "execution_count": 11,
   "id": "028cba63",
   "metadata": {},
   "outputs": [
    {
     "data": {
      "text/plain": [
       "'Frey Confiseur'"
      ]
     },
     "execution_count": 11,
     "metadata": {},
     "output_type": "execute_result"
    }
   ],
   "source": [
    "search.text.split(\"\\n\")[0]"
   ]
  },
  {
   "cell_type": "code",
   "execution_count": 14,
   "id": "e096f4eb",
   "metadata": {},
   "outputs": [],
   "source": [
    "search = driver.find_elements(By.CLASS_NAME, 'namedesc')"
   ]
  },
  {
   "cell_type": "code",
   "execution_count": 28,
   "id": "b7185f63",
   "metadata": {},
   "outputs": [],
   "source": [
    "company_product_names = driver.find_elements(By.CLASS_NAME, 'namedesc')\n",
    "menge = driver.find_elements(By.CLASS_NAME, 'product-qty-price')\n",
    "preis = driver.find_elements(By.CLASS_NAME, 'offers')\n"
   ]
  },
  {
   "cell_type": "code",
   "execution_count": 29,
   "id": "cef1696b",
   "metadata": {},
   "outputs": [],
   "source": [
    "final_list = []\n",
    "\n",
    "for cp, g, p in zip(company_product_names, menge, preis):\n",
    "    \n",
    "    company = cp.text.split(\"\\n\")[0]\n",
    "    product = cp.text.split(\"\\n\")[1]\n",
    "    gewicht = g.text\n",
    "    preis = p.text\n",
    "    \n",
    "    minidict = {'Hersteller': company,\n",
    "                'Produkt': product,\n",
    "                'Gewicht': gewicht,\n",
    "                'Preis': preis}\n",
    "    \n",
    "    final_list.append(minidict)\n"
   ]
  },
  {
   "cell_type": "code",
   "execution_count": 30,
   "id": "929d6d03",
   "metadata": {},
   "outputs": [
    {
     "data": {
      "text/html": [
       "<div>\n",
       "<style scoped>\n",
       "    .dataframe tbody tr th:only-of-type {\n",
       "        vertical-align: middle;\n",
       "    }\n",
       "\n",
       "    .dataframe tbody tr th {\n",
       "        vertical-align: top;\n",
       "    }\n",
       "\n",
       "    .dataframe thead th {\n",
       "        text-align: right;\n",
       "    }\n",
       "</style>\n",
       "<table border=\"1\" class=\"dataframe\">\n",
       "  <thead>\n",
       "    <tr style=\"text-align: right;\">\n",
       "      <th></th>\n",
       "      <th>Hersteller</th>\n",
       "      <th>Produkt</th>\n",
       "      <th>Gewicht</th>\n",
       "      <th>Preis</th>\n",
       "    </tr>\n",
       "  </thead>\n",
       "  <tbody>\n",
       "    <tr>\n",
       "      <th>0</th>\n",
       "      <td>Frey Confiseur</td>\n",
       "      <td>Pralinen assortiert</td>\n",
       "      <td>262g</td>\n",
       "      <td>14.95</td>\n",
       "    </tr>\n",
       "    <tr>\n",
       "      <th>1</th>\n",
       "      <td>Sélection Tentation Noire</td>\n",
       "      <td>Schokoladen-Pralinen</td>\n",
       "      <td>155g</td>\n",
       "      <td>14.50</td>\n",
       "    </tr>\n",
       "    <tr>\n",
       "      <th>2</th>\n",
       "      <td>Lindt</td>\n",
       "      <td>Kirschstengeli</td>\n",
       "      <td>250g</td>\n",
       "      <td>16.95</td>\n",
       "    </tr>\n",
       "    <tr>\n",
       "      <th>3</th>\n",
       "      <td>Sélection</td>\n",
       "      <td>Schokoladen-Trüffel</td>\n",
       "      <td>200g</td>\n",
       "      <td>8.50</td>\n",
       "    </tr>\n",
       "    <tr>\n",
       "      <th>4</th>\n",
       "      <td>Lindt Mini Pralinés</td>\n",
       "      <td>Mini Pralinés Assortiert</td>\n",
       "      <td>180g</td>\n",
       "      <td>12.95</td>\n",
       "    </tr>\n",
       "    <tr>\n",
       "      <th>...</th>\n",
       "      <td>...</td>\n",
       "      <td>...</td>\n",
       "      <td>...</td>\n",
       "      <td>...</td>\n",
       "    </tr>\n",
       "    <tr>\n",
       "      <th>76</th>\n",
       "      <td>Merci Finest Selection</td>\n",
       "      <td>32 Schokoladenriegel</td>\n",
       "      <td>400g</td>\n",
       "      <td>8.95</td>\n",
       "    </tr>\n",
       "    <tr>\n",
       "      <th>77</th>\n",
       "      <td>Merci Finest Selection</td>\n",
       "      <td>20 Schokoladenriegel</td>\n",
       "      <td>250g</td>\n",
       "      <td>4.–</td>\n",
       "    </tr>\n",
       "    <tr>\n",
       "      <th>78</th>\n",
       "      <td>Ferrero Mon Chéri</td>\n",
       "      <td>Schokolade-Likör-Kirschen-Pralinen</td>\n",
       "      <td>168g</td>\n",
       "      <td>4.95</td>\n",
       "    </tr>\n",
       "    <tr>\n",
       "      <th>79</th>\n",
       "      <td>Ferrero Rocher</td>\n",
       "      <td>Waffelspezialität aus Milchschokolade</td>\n",
       "      <td>200g</td>\n",
       "      <td>5.60</td>\n",
       "    </tr>\n",
       "    <tr>\n",
       "      <th>80</th>\n",
       "      <td>Ferrero</td>\n",
       "      <td>Waffelspezialität aus Milchschokolade</td>\n",
       "      <td>375g</td>\n",
       "      <td>9.95</td>\n",
       "    </tr>\n",
       "  </tbody>\n",
       "</table>\n",
       "<p>81 rows × 4 columns</p>\n",
       "</div>"
      ],
      "text/plain": [
       "                   Hersteller                                Produkt Gewicht  \\\n",
       "0              Frey Confiseur                    Pralinen assortiert    262g   \n",
       "1   Sélection Tentation Noire                   Schokoladen-Pralinen    155g   \n",
       "2                       Lindt                         Kirschstengeli    250g   \n",
       "3                   Sélection                    Schokoladen-Trüffel    200g   \n",
       "4         Lindt Mini Pralinés               Mini Pralinés Assortiert    180g   \n",
       "..                        ...                                    ...     ...   \n",
       "76     Merci Finest Selection                   32 Schokoladenriegel    400g   \n",
       "77     Merci Finest Selection                   20 Schokoladenriegel    250g   \n",
       "78          Ferrero Mon Chéri     Schokolade-Likör-Kirschen-Pralinen    168g   \n",
       "79             Ferrero Rocher  Waffelspezialität aus Milchschokolade    200g   \n",
       "80                    Ferrero  Waffelspezialität aus Milchschokolade    375g   \n",
       "\n",
       "    Preis  \n",
       "0   14.95  \n",
       "1   14.50  \n",
       "2   16.95  \n",
       "3    8.50  \n",
       "4   12.95  \n",
       "..    ...  \n",
       "76   8.95  \n",
       "77    4.–  \n",
       "78   4.95  \n",
       "79   5.60  \n",
       "80   9.95  \n",
       "\n",
       "[81 rows x 4 columns]"
      ]
     },
     "execution_count": 30,
     "metadata": {},
     "output_type": "execute_result"
    }
   ],
   "source": [
    "pd.DataFrame(final_list)"
   ]
  },
  {
   "cell_type": "markdown",
   "id": "c4823d64",
   "metadata": {},
   "source": [
    "# Alles zusammen"
   ]
  },
  {
   "cell_type": "code",
   "execution_count": null,
   "id": "7a53925a",
   "metadata": {},
   "outputs": [],
   "source": []
  }
 ],
 "metadata": {
  "kernelspec": {
   "display_name": "Python 3 (ipykernel)",
   "language": "python",
   "name": "python3"
  },
  "language_info": {
   "codemirror_mode": {
    "name": "ipython",
    "version": 3
   },
   "file_extension": ".py",
   "mimetype": "text/x-python",
   "name": "python",
   "nbconvert_exporter": "python",
   "pygments_lexer": "ipython3",
   "version": "3.8.17"
  }
 },
 "nbformat": 4,
 "nbformat_minor": 5
}
