{
 "cells": [
  {
   "cell_type": "code",
   "execution_count": 23,
   "id": "2d55e774",
   "metadata": {},
   "outputs": [],
   "source": [
    "from selenium import webdriver\n",
    "from selenium.webdriver.support.ui import WebDriverWait\n",
    "from selenium.webdriver.support import expected_conditions as EC\n",
    "from selenium.common.exceptions import TimeoutException\n",
    "from selenium.webdriver.common.by import By"
   ]
  },
  {
   "cell_type": "markdown",
   "id": "200df600",
   "metadata": {},
   "source": [
    "# Tankstellen\n",
    "- [Tankstellen](https://benzin.tcs.ch/de/map/SP95)"
   ]
  },
  {
   "cell_type": "code",
   "execution_count": 24,
   "id": "00b3d644",
   "metadata": {},
   "outputs": [],
   "source": [
    "url = \"https://benzin.tcs.ch/de/map/SP95\""
   ]
  },
  {
   "cell_type": "code",
   "execution_count": 25,
   "id": "b3483c65",
   "metadata": {},
   "outputs": [],
   "source": [
    "#Wir starten den BRowser auf\n",
    "driver = webdriver.Firefox()"
   ]
  },
  {
   "cell_type": "code",
   "execution_count": 27,
   "id": "7952fc44",
   "metadata": {},
   "outputs": [
    {
     "name": "stdout",
     "output_type": "stream",
     "text": [
      "Element did not show up\n"
     ]
    }
   ],
   "source": [
    "delay = 3 \n",
    "\n",
    "try:\n",
    "    # Wait for the element with the ID of wrapper\n",
    "    wrapper = WebDriverWait(driver, delay).until(\n",
    "      EC.presence_of_element_located((By.CLASS_NAME, 'marker'))\n",
    "    )\n",
    "    print(\"Element is present in the DOM now\")\n",
    "except TimeoutException:\n",
    "    print(\"Element did not show up\")\n"
   ]
  },
  {
   "cell_type": "code",
   "execution_count": null,
   "id": "c1812908",
   "metadata": {},
   "outputs": [],
   "source": []
  },
  {
   "cell_type": "code",
   "execution_count": 19,
   "id": "2030710f",
   "metadata": {},
   "outputs": [],
   "source": [
    "#Und nun sagen wir dem Browser, welche Seite er besuchen sollte. \n",
    "driver.get(url)"
   ]
  },
  {
   "cell_type": "code",
   "execution_count": 20,
   "id": "420e754d",
   "metadata": {},
   "outputs": [],
   "source": [
    "search = driver.find_elements(By.CLASS_NAME, 'marker')"
   ]
  },
  {
   "cell_type": "code",
   "execution_count": 21,
   "id": "028cba63",
   "metadata": {},
   "outputs": [
    {
     "data": {
      "text/plain": [
       "[]"
      ]
     },
     "execution_count": 21,
     "metadata": {},
     "output_type": "execute_result"
    }
   ],
   "source": [
    "search"
   ]
  },
  {
   "cell_type": "code",
   "execution_count": null,
   "id": "9ae257cb",
   "metadata": {},
   "outputs": [],
   "source": []
  }
 ],
 "metadata": {
  "kernelspec": {
   "display_name": "Python 3 (ipykernel)",
   "language": "python",
   "name": "python3"
  },
  "language_info": {
   "codemirror_mode": {
    "name": "ipython",
    "version": 3
   },
   "file_extension": ".py",
   "mimetype": "text/x-python",
   "name": "python",
   "nbconvert_exporter": "python",
   "pygments_lexer": "ipython3",
   "version": "3.8.17"
  }
 },
 "nbformat": 4,
 "nbformat_minor": 5
}
