{
 "cells": [
  {
   "cell_type": "markdown",
   "id": "d2aad622",
   "metadata": {},
   "source": [
    "# Die Grenzen von BeautifulSoup und requests"
   ]
  },
  {
   "cell_type": "code",
   "execution_count": 3,
   "id": "ae017964",
   "metadata": {},
   "outputs": [],
   "source": [
    "import requests\n",
    "from bs4 import BeautifulSoup"
   ]
  },
  {
   "cell_type": "markdown",
   "id": "e2f58402",
   "metadata": {},
   "source": [
    "Um manchen Seite auszulesen, muss man zuerst mit der Seite interagieren, weil die Daten erst aus einer Datenbank bezogen werden müssen. Schauen wir uns als Beispiel die Site www.zefix.ch an, das Handelsregisteramt des Bundes. Suchen wir beispielsweise nach allen Bäckereien"
   ]
  },
  {
   "cell_type": "code",
   "execution_count": 4,
   "id": "102222fb",
   "metadata": {},
   "outputs": [],
   "source": [
    "# Daten abholen\n",
    "url = 'https://zefix.ch/'\n",
    "response = requests.get(url)\n",
    "soup = BeautifulSoup(response.content, 'html.parser')"
   ]
  },
  {
   "cell_type": "code",
   "execution_count": 22,
   "id": "8d80ed6f",
   "metadata": {},
   "outputs": [
    {
     "data": {
      "text/plain": [
       "'\\n\\nZefixWebApp\\n\\n\\n\\n\\n\\n\\n\\n\\n\\n\\n\\n\\n\\n\\n\\n\\n\\n\\n\\n\\n\\n\\n\\n'"
      ]
     },
     "execution_count": 22,
     "metadata": {},
     "output_type": "execute_result"
    }
   ],
   "source": [
    "soup.text"
   ]
  },
  {
   "cell_type": "code",
   "execution_count": 6,
   "id": "de55c1dc",
   "metadata": {},
   "outputs": [],
   "source": [
    "# Daten abholen\n",
    "url = 'https://zefix.ch/en/search/entity/list?mainSearch=B%C3%A4ckerei&searchTypeExact=true'\n",
    "response = requests.get(url)\n",
    "soup = BeautifulSoup(response.content, 'html.parser')"
   ]
  },
  {
   "cell_type": "code",
   "execution_count": 23,
   "id": "dad2a9b8",
   "metadata": {},
   "outputs": [
    {
     "data": {
      "text/plain": [
       "'\\n\\nZefixWebApp\\n\\n\\n\\n\\n\\n\\n\\n\\n\\n\\n\\n\\n\\n\\n\\n\\n\\n\\n\\n\\n\\n\\n\\n'"
      ]
     },
     "execution_count": 23,
     "metadata": {},
     "output_type": "execute_result"
    }
   ],
   "source": [
    "soup.text"
   ]
  },
  {
   "cell_type": "markdown",
   "id": "4ef1660e",
   "metadata": {},
   "source": [
    "Ihr seht, hier ist nichts, womit wir arbeiten können. Und hier kommt nun Selenium ins Spiel. Damit kreieren wir eine wirklich Webbrowser und interagieren mit der Seite, als wären wir wirklich am browsern. "
   ]
  },
  {
   "cell_type": "code",
   "execution_count": 8,
   "id": "c8a43f41",
   "metadata": {},
   "outputs": [],
   "source": [
    "#Die Imports\n",
    "from selenium import webdriver\n",
    "from selenium.webdriver.common.keys import Keys\n",
    "from selenium.webdriver.common.by import By\n",
    "from selenium.webdriver.support.ui import Select\n",
    "import time"
   ]
  },
  {
   "cell_type": "code",
   "execution_count": 9,
   "id": "6966b717",
   "metadata": {},
   "outputs": [],
   "source": [
    "#Wir starten den BRowser auf\n",
    "driver = webdriver.Firefox()"
   ]
  },
  {
   "cell_type": "code",
   "execution_count": 10,
   "id": "d97c0329",
   "metadata": {},
   "outputs": [],
   "source": [
    "#Und nun sagen wir dem Browser, welche Seite er besuchen sollte. \n",
    "driver.get('https://www.zefix.ch')"
   ]
  },
  {
   "cell_type": "code",
   "execution_count": 24,
   "id": "3d3f5b7f",
   "metadata": {},
   "outputs": [],
   "source": [
    "soup = BeautifulSoup(driver.page_source, 'html.parser')"
   ]
  },
  {
   "cell_type": "code",
   "execution_count": 25,
   "id": "271f0d85",
   "metadata": {},
   "outputs": [
    {
     "data": {
      "text/plain": [
       "'\\n\\nZentraler Firmenindex - Willkommen\\n\\n\\n\\n\\n\\n\\n\\n\\n\\n\\n\\n\\n\\n\\n\\n\\n\\n\\n\\n\\n\\nZentraler FirmenindexDEFRITENFirmensucheSHAB-SucheHandelsregisterämterOrtschaftenKontaktFirmenname oder UID\\xa0 exakte Suche \\xa0 erweiterte Suche  Löschen  Suchen Vorsicht vor AdressbuchschwindlernInfoDamit wir unser Webangebot optimal auf Ihre Bedürfnisse ausrichten können, verwenden wir Analysetools. Dabei wird Ihr Verhalten auf der Website in anonymisierter Form erfasst. Es werden also keine personenbezogenen Daten übermittelt oder gespeichert. Wenn Sie damit nicht einverstanden sind, können Sie die Datenerfassung unterbinden und diese Website trotzdem ohne Einschränkungen nutzen. Weitere Informationen dazu finden Sie auf unserer Seite Rechtliches.EinverstandenWeiter ohne DatenerfassungZefixFirmensucheSHAB-SucheHandelsregisterämterOrtschaftenKontaktLinksPublikationen EHRARegixRechtliche GrundlagenUID-RegisterGeschützte AbkürzungenBundesamt für Justiz (BJ)SwissregEidgenössisches Justiz- und Polizeidepartement (EJPD)EasyGovSHAB - Schweizerisches HandelsamtsblattEasyGov - Handelsregistereintrag ändernImpressumZefix Mobile AppEidgenössisches Justiz- und Polizeidepartement (EJPD) - Bundesamt für Justiz (BJ)\\n\\nAngekreuzt: Beginnt exakt mit den angegebenen Suchbegriffen. Nicht angekreuzt: Suchbegriffe kommen irgendwo als Einzelbegriffe in der Bezeichnung vor. Um alle Bezeichnungen zu suchen, welche eine Zeichenfolge beinhalten, kann * als Platzhalter verwendet w'"
      ]
     },
     "execution_count": 25,
     "metadata": {},
     "output_type": "execute_result"
    }
   ],
   "source": [
    "#Nun bekommen wir die ganze Seite\n",
    "soup.text"
   ]
  },
  {
   "cell_type": "markdown",
   "id": "4c0a7a66",
   "metadata": {},
   "source": [
    "Aber schauen wir uns an, was wir alles mit https://www.selenium.dev/ machen können"
   ]
  },
  {
   "cell_type": "code",
   "execution_count": null,
   "id": "1dd3ead8",
   "metadata": {},
   "outputs": [],
   "source": []
  }
 ],
 "metadata": {
  "kernelspec": {
   "display_name": "Python 3 (ipykernel)",
   "language": "python",
   "name": "python3"
  },
  "language_info": {
   "codemirror_mode": {
    "name": "ipython",
    "version": 3
   },
   "file_extension": ".py",
   "mimetype": "text/x-python",
   "name": "python",
   "nbconvert_exporter": "python",
   "pygments_lexer": "ipython3",
   "version": "3.8.17"
  }
 },
 "nbformat": 4,
 "nbformat_minor": 5
}
