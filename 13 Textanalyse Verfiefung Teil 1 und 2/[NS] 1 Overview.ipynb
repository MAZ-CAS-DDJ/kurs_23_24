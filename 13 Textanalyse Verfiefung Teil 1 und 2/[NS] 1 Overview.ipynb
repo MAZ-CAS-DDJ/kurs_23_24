{
 "cells": [
  {
   "cell_type": "markdown",
   "metadata": {},
   "source": [
    "# Arbeiten mit Text\n",
    "\n",
    "![alt text](intro.png \"Intro\")"
   ]
  },
  {
   "cell_type": "markdown",
   "metadata": {},
   "source": [
    "## Text als Daten?"
   ]
  },
  {
   "cell_type": "markdown",
   "metadata": {},
   "source": [
    "Beispielsweise ergab eine Analyse von mehr als 200 Nominierungen für die Data Journalism Awards von 2012 bis 2016, dass sich die konkurrierenden Arbeiten überwiegend auf geografische und finanzielle Daten stützten, gefolgt von anderen häufigen Quellenarten wie Sensor-, soziodemografischen und persönlichen Daten , Metadaten und Umfragen (Loosen et al., 2020); mit anderen Worten, hauptsächlich strukturierte Daten.1\n",
    "\n",
    "Da Nachrichtenredaktionen jedoch immer mehr Social-Media-Beiträge, Reden, E-Mails und umfangreiche offizielle Berichte verarbeiten müssen, werden rechnerische Ansätze zur Verarbeitung und Analyse dieser Quellen immer relevanter. Sie sind vielleicht schon auf Geschichten gestoßen, die auf diese Weise produziert wurden: Denken Sie an die statistischen Zusammenfassungen der Tweets von Präsident Trump; oder Visualisierungen der Hauptthemen, die in der öffentlichen Kommunikation oder bei Debatten der Präsidentschaftskandidaten bei den US-Wahlen angesprochen werden.\n",
    "\n",
    "Text als Daten zu behandeln ist keine leichte Aufgabe. Dokumente weisen in der Regel die unterschiedlichsten Formate, Layouts und Inhalte auf, was einheitliche Lösungen oder den Versuch, eine Untersuchung mit einem anderen Satz von Dokumenten zu reproduzieren, erschwert. Die Datenbereinigung, -aufbereitung und -analyse kann von einer Dokumentensammlung zur anderen erheblich variieren, und einige Schritte erfordern eine weitere menschliche Überprüfung, bevor wir berichtenswerte Behauptungen aufstellen oder Ergebnisse auf eine Weise präsentieren können, die nicht nur für Forscher, sondern auch für die breitere Öffentlichkeit von Bedeutung ist. "
   ]
  },
  {
   "cell_type": "markdown",
   "metadata": {},
   "source": [
    "Beispiele:\n",
    "- Length: How Much They Wrote or Spoke\n",
    "- Mentions: Who Said What, When and How Many Times    \n",
    "- People, places, nouns, verbs.\n",
    "- Classification\n",
    "- Sentiment\n",
    "\n",
    "https://datajournalism.com/read/handbook/two/working-with-data/text-as-data-finding-stories-in-corpora"
   ]
  },
  {
   "cell_type": "markdown",
   "metadata": {},
   "source": [
    "## Was braucht ein Datenjournalist?\n",
    "\n",
    "Textextraktion:\n",
    "- Texte aus PDF Extrahieren \n",
    "- Texte aus APIs Extrahieren\n",
    "- Texte von Webseiten scrapen\n",
    "- Texte von Social Media bekommen\n",
    "\n",
    "Sensemaking und Aggregation\n",
    "- Arbeiten nicht mit einem Text sondern mit vielen Texten, ertrinken in Daten\n",
    "- Welche Personen, Orte, Entitäten kommen vor?\n",
    "- Wie lässt sich eine grosse Sammlung von Texten ordnen?\n",
    "- Wie kann ich relevante Information in texten finden die sich nicht direkt per stichwort finden lassen?\n",
    "\n",
    "\n",
    "\n"
   ]
  },
  {
   "cell_type": "markdown",
   "metadata": {},
   "source": [
    "# Agenda\n",
    "\n",
    "## Heute:\n",
    "\n",
    "- Intro zu NLTK mit Tokenization, Stemming, Lemmatization, POS Tagging, Stopwords\n",
    "\n",
    "## Morgen\n",
    "\n",
    "- All things ChatGPT and Deep learning. \n",
    "- Named Entity extraction\n",
    "- Sentiment Analysis\n",
    "- Text Classification & Clustering\n",
    "- Text Search and Retrieval\n",
    "- Transcoding Audio into Text"
   ]
  },
  {
   "cell_type": "code",
   "execution_count": null,
   "metadata": {},
   "outputs": [],
   "source": []
  }
 ],
 "metadata": {
  "kernelspec": {
   "display_name": "Python 3 (ipykernel)",
   "language": "python",
   "name": "python3"
  },
  "language_info": {
   "codemirror_mode": {
    "name": "ipython",
    "version": 3
   },
   "file_extension": ".py",
   "mimetype": "text/x-python",
   "name": "python",
   "nbconvert_exporter": "python",
   "pygments_lexer": "ipython3",
   "version": "3.9.16"
  }
 },
 "nbformat": 4,
 "nbformat_minor": 2
}
