{
 "cells": [
  {
   "cell_type": "markdown",
   "metadata": {},
   "source": [
    "# OpenAI's Whisper Speech Recognition Model"
   ]
  },
  {
   "cell_type": "markdown",
   "metadata": {},
   "source": [
    "![alt text](whisper.jpg \"Intro\")"
   ]
  },
  {
   "cell_type": "markdown",
   "metadata": {
    "id": "Lbja1jB3vDOT"
   },
   "source": [
    "\n",
    "Whisper ist der Name eines automatischen Spracherkennungssystems (ASR) von OpenAI. ASR-Systeme wandeln gesprochene Sprache in geschriebenen Text um. Sie werden in einer Vielzahl von Anwendungen eingesetzt, darunter Sprachassistenten, Transkriptionsdienste und mehr.\n",
    "\n",
    "Whisper wurde auf einer großen Menge multilingualer und multitaskaler Daten aus dem Web trainiert. Es wurde entwickelt, um in verschiedenen Anwendungen und Kontexten eine hohe Genauigkeit bei der Spracherkennung zu bieten. \n"
   ]
  },
  {
   "cell_type": "markdown",
   "metadata": {
    "id": "kosakhNmxb7A"
   },
   "source": [
    "## Install Whisper"
   ]
  },
  {
   "cell_type": "code",
   "execution_count": 16,
   "metadata": {
    "colab": {
     "base_uri": "https://localhost:8080/"
    },
    "id": "ZsJUxc0aRsAf",
    "outputId": "9c23b51f-3832-4856-b90d-71fd01916026"
   },
   "outputs": [
    {
     "name": "stdout",
     "output_type": "stream",
     "text": [
      "Requirement already satisfied: openai-whisper in /Users/plotti/miniconda3/envs/chat/lib/python3.9/site-packages (20231106)\n",
      "Requirement already satisfied: more-itertools in /Users/plotti/miniconda3/envs/chat/lib/python3.9/site-packages (from openai-whisper) (10.1.0)\n",
      "Requirement already satisfied: torch in /Users/plotti/miniconda3/envs/chat/lib/python3.9/site-packages (from openai-whisper) (2.0.1)\n",
      "Requirement already satisfied: numpy in /Users/plotti/miniconda3/envs/chat/lib/python3.9/site-packages (from openai-whisper) (1.25.2)\n",
      "Requirement already satisfied: tqdm in /Users/plotti/miniconda3/envs/chat/lib/python3.9/site-packages (from openai-whisper) (4.65.0)\n",
      "Requirement already satisfied: tiktoken in /Users/plotti/miniconda3/envs/chat/lib/python3.9/site-packages (from openai-whisper) (0.3.3)\n",
      "Requirement already satisfied: numba in /Users/plotti/miniconda3/envs/chat/lib/python3.9/site-packages (from openai-whisper) (0.58.0)\n",
      "Requirement already satisfied: llvmlite<0.42,>=0.41.0dev0 in /Users/plotti/miniconda3/envs/chat/lib/python3.9/site-packages (from numba->openai-whisper) (0.41.0)\n",
      "Requirement already satisfied: requests>=2.26.0 in /Users/plotti/miniconda3/envs/chat/lib/python3.9/site-packages (from tiktoken->openai-whisper) (2.29.0)\n",
      "Requirement already satisfied: regex>=2022.1.18 in /Users/plotti/miniconda3/envs/chat/lib/python3.9/site-packages (from tiktoken->openai-whisper) (2023.10.3)\n",
      "Requirement already satisfied: networkx in /Users/plotti/miniconda3/envs/chat/lib/python3.9/site-packages (from torch->openai-whisper) (3.1)\n",
      "Requirement already satisfied: sympy in /Users/plotti/miniconda3/envs/chat/lib/python3.9/site-packages (from torch->openai-whisper) (1.12)\n",
      "Requirement already satisfied: typing-extensions in /Users/plotti/miniconda3/envs/chat/lib/python3.9/site-packages (from torch->openai-whisper) (4.8.0)\n",
      "Requirement already satisfied: filelock in /Users/plotti/miniconda3/envs/chat/lib/python3.9/site-packages (from torch->openai-whisper) (3.12.4)\n",
      "Requirement already satisfied: jinja2 in /Users/plotti/miniconda3/envs/chat/lib/python3.9/site-packages (from torch->openai-whisper) (3.1.2)\n",
      "Requirement already satisfied: idna<4,>=2.5 in /Users/plotti/miniconda3/envs/chat/lib/python3.9/site-packages (from requests>=2.26.0->tiktoken->openai-whisper) (3.4)\n",
      "Requirement already satisfied: charset-normalizer<4,>=2 in /Users/plotti/miniconda3/envs/chat/lib/python3.9/site-packages (from requests>=2.26.0->tiktoken->openai-whisper) (3.1.0)\n",
      "Requirement already satisfied: urllib3<1.27,>=1.21.1 in /Users/plotti/miniconda3/envs/chat/lib/python3.9/site-packages (from requests>=2.26.0->tiktoken->openai-whisper) (1.26.15)\n",
      "Requirement already satisfied: certifi>=2017.4.17 in /Users/plotti/miniconda3/envs/chat/lib/python3.9/site-packages (from requests>=2.26.0->tiktoken->openai-whisper) (2023.7.22)\n",
      "Requirement already satisfied: MarkupSafe>=2.0 in /Users/plotti/miniconda3/envs/chat/lib/python3.9/site-packages (from jinja2->torch->openai-whisper) (2.1.2)\n",
      "Requirement already satisfied: mpmath>=0.19 in /Users/plotti/miniconda3/envs/chat/lib/python3.9/site-packages (from sympy->torch->openai-whisper) (1.3.0)\n",
      "\n",
      "\u001b[1m[\u001b[0m\u001b[34;49mnotice\u001b[0m\u001b[1;39;49m]\u001b[0m\u001b[39;49m A new release of pip available: \u001b[0m\u001b[31;49m22.3.1\u001b[0m\u001b[39;49m -> \u001b[0m\u001b[32;49m23.3.1\u001b[0m\n",
      "\u001b[1m[\u001b[0m\u001b[34;49mnotice\u001b[0m\u001b[1;39;49m]\u001b[0m\u001b[39;49m To update, run: \u001b[0m\u001b[32;49mpip install --upgrade pip\u001b[0m\n"
     ]
    }
   ],
   "source": [
    "!pip install openai-whisper"
   ]
  },
  {
   "cell_type": "markdown",
   "metadata": {},
   "source": [
    "# Nur ausführen wenn ihr auf einem Colab notebook seid\n",
    "- dies lädt euch die mp3 dateien runter"
   ]
  },
  {
   "cell_type": "code",
   "execution_count": 31,
   "metadata": {},
   "outputs": [
    {
     "name": "stdout",
     "output_type": "stream",
     "text": [
      "--2023-11-07 17:06:32--  https://github.com/MAZ-CAS-DDJ/kurs_23_24/raw/main/13%20Textanalyse%20Verfiefung%20Teil%201%20und%202/mary.mp3\n",
      "Auflösen des Hostnamens github.com (github.com)… 140.82.121.3\n",
      "Verbindungsaufbau zu github.com (github.com)|140.82.121.3|:443 … verbunden.\n",
      "HTTP-Anforderung gesendet, auf Antwort wird gewartet … \n",
      "  HTTP/1.1 302 Found\n",
      "  Server: GitHub.com\n",
      "  Date: Tue, 07 Nov 2023 16:06:32 GMT\n",
      "  Content-Type: text/html; charset=utf-8\n",
      "  Vary: X-PJAX, X-PJAX-Container, Turbo-Visit, Turbo-Frame, Accept-Encoding, Accept, X-Requested-With\n",
      "  Access-Control-Allow-Origin: https://render.githubusercontent.com\n",
      "  Location: https://raw.githubusercontent.com/MAZ-CAS-DDJ/kurs_23_24/main/13%20Textanalyse%20Verfiefung%20Teil%201%20und%202/mary.mp3\n",
      "  Cache-Control: no-cache\n",
      "  Strict-Transport-Security: max-age=31536000; includeSubdomains; preload\n",
      "  X-Frame-Options: deny\n",
      "  X-Content-Type-Options: nosniff\n",
      "  X-XSS-Protection: 0\n",
      "  Referrer-Policy: no-referrer-when-downgrade\n",
      "  Content-Security-Policy: default-src 'none'; base-uri 'self'; child-src github.com/assets-cdn/worker/ gist.github.com/assets-cdn/worker/; connect-src 'self' uploads.github.com www.githubstatus.com collector.github.com raw.githubusercontent.com api.githubcopilot.com api.github.com github-cloud.s3.amazonaws.com github-production-repository-file-5c1aeb.s3.amazonaws.com github-production-upload-manifest-file-7fdce7.s3.amazonaws.com github-production-user-asset-6210df.s3.amazonaws.com cdn.optimizely.com logx.optimizely.com/v1/events objects-origin.githubusercontent.com *.actions.githubusercontent.com productionresultssa0.blob.core.windows.net/ productionresultssa1.blob.core.windows.net/ productionresultssa2.blob.core.windows.net/ productionresultssa3.blob.core.windows.net/ productionresultssa4.blob.core.windows.net/ productionresultssa5.blob.core.windows.net/ productionresultssa6.blob.core.windows.net/ productionresultssa7.blob.core.windows.net/ productionresultssa8.blob.core.windows.net/ productionresultssa9.blob.core.windows.net/ staffwus201resultssa0.blob.core.windows.net/ staffwus201resultssa1.blob.core.windows.net/ prodweu01resultssa0.blob.core.windows.net/ prodweu01resultssa1.blob.core.windows.net/ prodweu01resultssa2.blob.core.windows.net/ prodweu01resultssa3.blob.core.windows.net/ wss://*.actions.githubusercontent.com github-production-repository-image-32fea6.s3.amazonaws.com github-production-release-asset-2e65be.s3.amazonaws.com insights.github.com wss://alive.github.com; font-src github.githubassets.com; form-action 'self' github.com gist.github.com objects-origin.githubusercontent.com; frame-ancestors 'none'; frame-src viewscreen.githubusercontent.com notebooks.githubusercontent.com support.github.com; img-src 'self' data: github.githubassets.com media.githubusercontent.com camo.githubusercontent.com identicons.github.com avatars.githubusercontent.com github-cloud.s3.amazonaws.com objects.githubusercontent.com secured-user-images.githubusercontent.com/ user-images.githubusercontent.com/ private-user-images.githubusercontent.com opengraph.githubassets.com github-production-user-asset-6210df.s3.amazonaws.com customer-stories-feed.github.com spotlights-feed.github.com objects-origin.githubusercontent.com *.githubusercontent.com; manifest-src 'self'; media-src github.com user-images.githubusercontent.com/ secured-user-images.githubusercontent.com/ private-user-images.githubusercontent.com github-production-user-asset-6210df.s3.amazonaws.com; script-src github.githubassets.com; style-src 'unsafe-inline' github.githubassets.com; upgrade-insecure-requests; worker-src github.com/assets-cdn/worker/ gist.github.com/assets-cdn/worker/\n",
      "  Content-Length: 0\n",
      "  X-GitHub-Request-Id: DD97:DABB:19B823DE:1A161341:654A6088\n",
      "Platz: https://raw.githubusercontent.com/MAZ-CAS-DDJ/kurs_23_24/main/13%20Textanalyse%20Verfiefung%20Teil%201%20und%202/mary.mp3 [folgend]\n",
      "--2023-11-07 17:06:32--  https://raw.githubusercontent.com/MAZ-CAS-DDJ/kurs_23_24/main/13%20Textanalyse%20Verfiefung%20Teil%201%20und%202/mary.mp3\n",
      "Auflösen des Hostnamens raw.githubusercontent.com (raw.githubusercontent.com)… 185.199.108.133, 185.199.109.133, 185.199.110.133, ...\n",
      "Verbindungsaufbau zu raw.githubusercontent.com (raw.githubusercontent.com)|185.199.108.133|:443 … verbunden.\n",
      "HTTP-Anforderung gesendet, auf Antwort wird gewartet … \n",
      "  HTTP/1.1 200 OK\n",
      "  Connection: keep-alive\n",
      "  Content-Length: 100483\n",
      "  Cache-Control: max-age=300\n",
      "  content-disposition: attachment; filename=13 Textanalyse Verfiefung Teil 1 und 2/mary.mp3\n",
      "  Content-Security-Policy: default-src 'none'; style-src 'unsafe-inline'; sandbox\n",
      "  Content-Type: audio/mpeg\n",
      "  ETag: \"586e43cecc7a019365b4c347509a3ca48701073959b32b965a17ad94bde666cd\"\n",
      "  Strict-Transport-Security: max-age=31536000\n",
      "  X-Content-Type-Options: nosniff\n",
      "  X-Frame-Options: deny\n",
      "  X-XSS-Protection: 1; mode=block\n",
      "  X-GitHub-Request-Id: 7F8E:B8E5:C2E7B:C8FD2:654A6088\n",
      "  Accept-Ranges: bytes\n",
      "  Date: Tue, 07 Nov 2023 16:06:33 GMT\n",
      "  Via: 1.1 varnish\n",
      "  X-Served-By: cache-vie6365-VIE\n",
      "  X-Cache: MISS\n",
      "  X-Cache-Hits: 0\n",
      "  X-Timer: S1699373193.931734,VS0,VE187\n",
      "  Vary: Authorization,Accept-Encoding,Origin\n",
      "  Access-Control-Allow-Origin: *\n",
      "  Cross-Origin-Resource-Policy: cross-origin\n",
      "  X-Fastly-Request-ID: cedb4b00697ec8a8ee601b23f373ab0a266a679d\n",
      "  Expires: Tue, 07 Nov 2023 16:11:33 GMT\n",
      "  Source-Age: 0\n",
      "Länge: 100483 (98K) [audio/mpeg]\n",
      "Wird in »mary.mp3« gespeichert.\n",
      "\n",
      "mary.mp3            100%[===================>]  98,13K  --.-KB/s    in 0,01s   \n",
      "\n",
      "»Last-modified«-Kopfzeile fehlt -- Zeitstempel abgeschaltet.\n",
      "2023-11-07 17:06:33 (6,82 MB/s) - »mary.mp3« gespeichert [100483/100483]\n",
      "\n"
     ]
    }
   ],
   "source": [
    "!wget https://github.com/MAZ-CAS-DDJ/kurs_23_24/raw/main/13%20Textanalyse%20Verfiefung%20Teil%201%20und%202/mary.mp3"
   ]
  },
  {
   "cell_type": "code",
   "execution_count": 32,
   "metadata": {},
   "outputs": [
    {
     "name": "stdout",
     "output_type": "stream",
     "text": [
      "--2023-11-07 17:07:15--  https://github.com/MAZ-CAS-DDJ/kurs_23_24/raw/main/13%20Textanalyse%20Verfiefung%20Teil%201%20und%202/daisy_HAL_9000.mp3\n",
      "Auflösen des Hostnamens github.com (github.com)… 140.82.121.4\n",
      "Verbindungsaufbau zu github.com (github.com)|140.82.121.4|:443 … verbunden.\n",
      "HTTP-Anforderung gesendet, auf Antwort wird gewartet … \n",
      "  HTTP/1.1 302 Found\n",
      "  Server: GitHub.com\n",
      "  Date: Tue, 07 Nov 2023 16:07:16 GMT\n",
      "  Content-Type: text/html; charset=utf-8\n",
      "  Vary: X-PJAX, X-PJAX-Container, Turbo-Visit, Turbo-Frame, Accept-Encoding, Accept, X-Requested-With\n",
      "  Access-Control-Allow-Origin: https://render.githubusercontent.com\n",
      "  Location: https://raw.githubusercontent.com/MAZ-CAS-DDJ/kurs_23_24/main/13%20Textanalyse%20Verfiefung%20Teil%201%20und%202/daisy_HAL_9000.mp3\n",
      "  Cache-Control: no-cache\n",
      "  Strict-Transport-Security: max-age=31536000; includeSubdomains; preload\n",
      "  X-Frame-Options: deny\n",
      "  X-Content-Type-Options: nosniff\n",
      "  X-XSS-Protection: 0\n",
      "  Referrer-Policy: no-referrer-when-downgrade\n",
      "  Content-Security-Policy: default-src 'none'; base-uri 'self'; child-src github.com/assets-cdn/worker/ gist.github.com/assets-cdn/worker/; connect-src 'self' uploads.github.com www.githubstatus.com collector.github.com raw.githubusercontent.com api.githubcopilot.com api.github.com github-cloud.s3.amazonaws.com github-production-repository-file-5c1aeb.s3.amazonaws.com github-production-upload-manifest-file-7fdce7.s3.amazonaws.com github-production-user-asset-6210df.s3.amazonaws.com cdn.optimizely.com logx.optimizely.com/v1/events objects-origin.githubusercontent.com *.actions.githubusercontent.com productionresultssa0.blob.core.windows.net/ productionresultssa1.blob.core.windows.net/ productionresultssa2.blob.core.windows.net/ productionresultssa3.blob.core.windows.net/ productionresultssa4.blob.core.windows.net/ productionresultssa5.blob.core.windows.net/ productionresultssa6.blob.core.windows.net/ productionresultssa7.blob.core.windows.net/ productionresultssa8.blob.core.windows.net/ productionresultssa9.blob.core.windows.net/ staffwus201resultssa0.blob.core.windows.net/ staffwus201resultssa1.blob.core.windows.net/ prodweu01resultssa0.blob.core.windows.net/ prodweu01resultssa1.blob.core.windows.net/ prodweu01resultssa2.blob.core.windows.net/ prodweu01resultssa3.blob.core.windows.net/ wss://*.actions.githubusercontent.com github-production-repository-image-32fea6.s3.amazonaws.com github-production-release-asset-2e65be.s3.amazonaws.com insights.github.com wss://alive.github.com; font-src github.githubassets.com; form-action 'self' github.com gist.github.com objects-origin.githubusercontent.com; frame-ancestors 'none'; frame-src viewscreen.githubusercontent.com notebooks.githubusercontent.com support.github.com; img-src 'self' data: github.githubassets.com media.githubusercontent.com camo.githubusercontent.com identicons.github.com avatars.githubusercontent.com github-cloud.s3.amazonaws.com objects.githubusercontent.com secured-user-images.githubusercontent.com/ user-images.githubusercontent.com/ private-user-images.githubusercontent.com opengraph.githubassets.com github-production-user-asset-6210df.s3.amazonaws.com customer-stories-feed.github.com spotlights-feed.github.com objects-origin.githubusercontent.com *.githubusercontent.com; manifest-src 'self'; media-src github.com user-images.githubusercontent.com/ secured-user-images.githubusercontent.com/ private-user-images.githubusercontent.com github-production-user-asset-6210df.s3.amazonaws.com; script-src github.githubassets.com; style-src 'unsafe-inline' github.githubassets.com; upgrade-insecure-requests; worker-src github.com/assets-cdn/worker/ gist.github.com/assets-cdn/worker/\n",
      "  Content-Length: 0\n",
      "  X-GitHub-Request-Id: DDDC:876B:1C01ABD2:1C5FCEA9:654A60B3\n",
      "Platz: https://raw.githubusercontent.com/MAZ-CAS-DDJ/kurs_23_24/main/13%20Textanalyse%20Verfiefung%20Teil%201%20und%202/daisy_HAL_9000.mp3 [folgend]\n",
      "--2023-11-07 17:07:16--  https://raw.githubusercontent.com/MAZ-CAS-DDJ/kurs_23_24/main/13%20Textanalyse%20Verfiefung%20Teil%201%20und%202/daisy_HAL_9000.mp3\n",
      "Auflösen des Hostnamens raw.githubusercontent.com (raw.githubusercontent.com)… 185.199.109.133, 185.199.110.133, 185.199.111.133, ...\n",
      "Verbindungsaufbau zu raw.githubusercontent.com (raw.githubusercontent.com)|185.199.109.133|:443 … verbunden.\n",
      "HTTP-Anforderung gesendet, auf Antwort wird gewartet … \n",
      "  HTTP/1.1 200 OK\n",
      "  Connection: keep-alive\n",
      "  Content-Length: 150436\n",
      "  Cache-Control: max-age=300\n",
      "  content-disposition: attachment; filename=13 Textanalyse Verfiefung Teil 1 und 2/daisy_HAL_9000.mp3\n",
      "  Content-Security-Policy: default-src 'none'; style-src 'unsafe-inline'; sandbox\n",
      "  Content-Type: audio/mpeg\n",
      "  ETag: \"9551ceb723ee6b45ad53a3c6cc39b61b1a1aadc8ce34786670933aaa325dc908\"\n",
      "  Strict-Transport-Security: max-age=31536000\n",
      "  X-Content-Type-Options: nosniff\n",
      "  X-Frame-Options: deny\n",
      "  X-XSS-Protection: 1; mode=block\n",
      "  X-GitHub-Request-Id: 2F92:79A2:29DFEB1:2BE4130:654A60B3\n",
      "  Accept-Ranges: bytes\n",
      "  Date: Tue, 07 Nov 2023 16:07:16 GMT\n",
      "  Via: 1.1 varnish\n",
      "  X-Served-By: cache-vie6361-VIE\n",
      "  X-Cache: MISS\n",
      "  X-Cache-Hits: 0\n",
      "  X-Timer: S1699373236.222691,VS0,VE192\n",
      "  Vary: Authorization,Accept-Encoding,Origin\n",
      "  Access-Control-Allow-Origin: *\n",
      "  Cross-Origin-Resource-Policy: cross-origin\n",
      "  X-Fastly-Request-ID: d0bd091f41928bc7d3f07de46f099f482f4c401a\n",
      "  Expires: Tue, 07 Nov 2023 16:12:16 GMT\n",
      "  Source-Age: 0\n",
      "Länge: 150436 (147K) [audio/mpeg]\n",
      "Wird in »daisy_HAL_9000.mp3« gespeichert.\n",
      "\n",
      "daisy_HAL_9000.mp3  100%[===================>] 146,91K  --.-KB/s    in 0,03s   \n",
      "\n",
      "»Last-modified«-Kopfzeile fehlt -- Zeitstempel abgeschaltet.\n",
      "2023-11-07 17:07:16 (5,20 MB/s) - »daisy_HAL_9000.mp3« gespeichert [150436/150436]\n",
      "\n"
     ]
    }
   ],
   "source": [
    "!wget https://github.com/MAZ-CAS-DDJ/kurs_23_24/raw/main/13%20Textanalyse%20Verfiefung%20Teil%201%20und%202/daisy_HAL_9000.mp3"
   ]
  },
  {
   "cell_type": "markdown",
   "metadata": {},
   "source": [
    "Ändert die Laufzeit auf CPU, sonst beschwert sich Colab dass ich beim Free-Tier der GPU ram nicht reicht."
   ]
  },
  {
   "cell_type": "markdown",
   "metadata": {},
   "source": [
    "![alt text](laufzeit.png \"Intro\")"
   ]
  },
  {
   "cell_type": "markdown",
   "metadata": {
    "id": "AtAvuKSJxhNw"
   },
   "source": [
    "## Modell laden\n",
    "\n",
    "- Das sollte ca. 140 MB runterladen."
   ]
  },
  {
   "cell_type": "code",
   "execution_count": 18,
   "metadata": {
    "colab": {
     "base_uri": "https://localhost:8080/",
     "height": 121,
     "referenced_widgets": [
      "d0398a17068742168da49ace4d565c8b",
      "58b20a8e2b95488185676aaa323cb6b5",
      "b86c7de5a9fa4c6dabf642c5ac581acc",
      "20193b33576947e18a024b2aef896a0b",
      "826d6c16641c47d59dfe7d75d7b5d3ab",
      "89802a797502466f8e1b8ecec6cb3b21",
      "0042cf3f78d441f69d812964347457da",
      "c93aa11d360545d2bd41c7cf31109e80",
      "392c6c44e3784d39a7bf34fb5fbc6625",
      "cd8b621110b5429b8cacfeeab208fa17",
      "843cb01b868d483cbc4ce56484d84922"
     ]
    },
    "id": "Kr5faKybKi4p",
    "outputId": "62d32a9f-2e4d-4585-8b2e-e26deb08d791"
   },
   "outputs": [
    {
     "name": "stderr",
     "output_type": "stream",
     "text": [
      "100%|█████████████████████████████████████| 72.1M/72.1M [00:04<00:00, 18.2MiB/s]\n"
     ]
    }
   ],
   "source": [
    "import whisper\n",
    "import numpy as np\n",
    "model = whisper.load_model(\"base\") # oder tiny falls sich google colab beschwert dass der ram nicht reicht "
   ]
  },
  {
   "cell_type": "markdown",
   "metadata": {
    "id": "e200RNNlxn5j"
   },
   "source": [
    "## Können wir die GPU nutzen?\n",
    "\n",
    "Auf der GPU vs. CPU arbeiten. Im besten Fall steht dort device GPU, das hängt von eurem Laptop ab. "
   ]
  },
  {
   "cell_type": "code",
   "execution_count": 19,
   "metadata": {
    "colab": {
     "base_uri": "https://localhost:8080/"
    },
    "id": "u_6_s2iHboR4",
    "outputId": "16e80d4b-57f3-47b7-c8df-b1a8972bc1da"
   },
   "outputs": [
    {
     "data": {
      "text/plain": [
       "device(type='cpu')"
      ]
     },
     "execution_count": 19,
     "metadata": {},
     "output_type": "execute_result"
    }
   ],
   "source": [
    "model.device"
   ]
  },
  {
   "cell_type": "markdown",
   "metadata": {
    "id": "QwLTZtubySoo"
   },
   "source": [
    "## Define the Transcribe Function\n",
    "\n",
    "Jetzt haben wir das Modell geladen und haben den Code. Dies ist die Funktion, die einen Audiodateipfad als Eingabe verwendet und den erkannten Text zurückgibt (und protokolliert, was seiner Meinung nach die Sprache ist)."
   ]
  },
  {
   "cell_type": "markdown",
   "metadata": {
    "id": "_QRwhuOXynZQ"
   },
   "source": [
    "## Test mit Low und High Quality Audio\n",
    "\n",
    "Ihr werdet feststellen, dass das zweite Transkript normalerweise nach 30 Sekunden abgeschnitten wird. Dies ist die Standardlänge. Diese kann erweitert werden. Siehe oben, mit chunking."
   ]
  },
  {
   "cell_type": "code",
   "execution_count": 23,
   "metadata": {
    "colab": {
     "base_uri": "https://localhost:8080/"
    },
    "id": "bDXgLIprIsAj",
    "outputId": "0a050f6a-b7c4-4e35-b4a1-32198ed58212"
   },
   "outputs": [
    {
     "name": "stderr",
     "output_type": "stream",
     "text": [
      "/Users/plotti/miniconda3/envs/chat/lib/python3.9/site-packages/whisper/transcribe.py:115: UserWarning: FP16 is not supported on CPU; using FP32 instead\n",
      "  warnings.warn(\"FP16 is not supported on CPU; using FP32 instead\")\n"
     ]
    },
    {
     "name": "stdout",
     "output_type": "stream",
     "text": [
      " Mary had a little lamb. Its fleece was white as snow, and everywhere that Mary went, the lamb was sure to go.\n"
     ]
    },
    {
     "name": "stderr",
     "output_type": "stream",
     "text": [
      "/Users/plotti/miniconda3/envs/chat/lib/python3.9/site-packages/whisper/transcribe.py:115: UserWarning: FP16 is not supported on CPU; using FP32 instead\n",
      "  warnings.warn(\"FP16 is not supported on CPU; using FP32 instead\")\n"
     ]
    },
    {
     "name": "stdout",
     "output_type": "stream",
     "text": [
      " That you see, that you see. Give me your answer to. Time has crazy. All for some love of you. It won't be a star with you. What the fuck?\n"
     ]
    }
   ],
   "source": [
    "easy_text = model.transcribe(\"mary.mp3\")\n",
    "print(easy_text[\"text\"])\n",
    "\n",
    "hard_text = model.transcribe(\"daisy_HAL_9000.mp3\")\n",
    "print(hard_text[\"text\"])"
   ]
  },
  {
   "cell_type": "markdown",
   "metadata": {},
   "source": [
    "# Download a youtube video, transcode it."
   ]
  },
  {
   "cell_type": "code",
   "execution_count": 24,
   "metadata": {},
   "outputs": [
    {
     "name": "stdout",
     "output_type": "stream",
     "text": [
      "Collecting yt-dlp\n",
      "  Using cached yt_dlp-2023.10.13-py2.py3-none-any.whl (3.1 MB)\n",
      "Collecting pycryptodomex\n",
      "  Downloading pycryptodomex-3.19.0-cp35-abi3-macosx_10_9_x86_64.whl (1.6 MB)\n",
      "\u001b[2K     \u001b[38;2;114;156;31m━━━━━━━━━━━━━━━━━━━━━━━━━━━━━━━━━━━━━━━━\u001b[0m \u001b[32m1.6/1.6 MB\u001b[0m \u001b[31m15.0 MB/s\u001b[0m eta \u001b[36m0:00:00\u001b[0m31m13.1 MB/s\u001b[0m eta \u001b[36m0:00:01\u001b[0m\n",
      "\u001b[?25hCollecting brotli\n",
      "  Downloading Brotli-1.1.0-cp39-cp39-macosx_10_9_x86_64.whl (446 kB)\n",
      "\u001b[2K     \u001b[38;2;114;156;31m━━━━━━━━━━━━━━━━━━━━━━━━━━━━━━━━━━━━━━\u001b[0m \u001b[32m446.2/446.2 kB\u001b[0m \u001b[31m23.4 MB/s\u001b[0m eta \u001b[36m0:00:00\u001b[0m\n",
      "\u001b[?25hCollecting mutagen\n",
      "  Downloading mutagen-1.47.0-py3-none-any.whl (194 kB)\n",
      "\u001b[2K     \u001b[38;2;114;156;31m━━━━━━━━━━━━━━━━━━━━━━━━━━━━━━━━━━━━━━\u001b[0m \u001b[32m194.4/194.4 kB\u001b[0m \u001b[31m16.2 MB/s\u001b[0m eta \u001b[36m0:00:00\u001b[0m\n",
      "\u001b[?25hRequirement already satisfied: websockets in /Users/plotti/miniconda3/envs/chat/lib/python3.9/site-packages (from yt-dlp) (11.0.3)\n",
      "Requirement already satisfied: certifi in /Users/plotti/miniconda3/envs/chat/lib/python3.9/site-packages (from yt-dlp) (2023.7.22)\n",
      "Installing collected packages: brotli, pycryptodomex, mutagen, yt-dlp\n",
      "Successfully installed brotli-1.1.0 mutagen-1.47.0 pycryptodomex-3.19.0 yt-dlp-2023.10.13\n",
      "\n",
      "\u001b[1m[\u001b[0m\u001b[34;49mnotice\u001b[0m\u001b[1;39;49m]\u001b[0m\u001b[39;49m A new release of pip available: \u001b[0m\u001b[31;49m22.3.1\u001b[0m\u001b[39;49m -> \u001b[0m\u001b[32;49m23.3.1\u001b[0m\n",
      "\u001b[1m[\u001b[0m\u001b[34;49mnotice\u001b[0m\u001b[1;39;49m]\u001b[0m\u001b[39;49m To update, run: \u001b[0m\u001b[32;49mpip install --upgrade pip\u001b[0m\n"
     ]
    }
   ],
   "source": [
    "!pip install -U yt-dlp"
   ]
  },
  {
   "cell_type": "code",
   "execution_count": 25,
   "metadata": {},
   "outputs": [
    {
     "name": "stdout",
     "output_type": "stream",
     "text": [
      "[youtube] Extracting URL: https://www.youtube.com/watch?v=ww0zvl18-Ys\n",
      "[youtube] ww0zvl18-Ys: Downloading webpage\n",
      "[youtube] ww0zvl18-Ys: Downloading ios player API JSON\n",
      "[youtube] ww0zvl18-Ys: Downloading android player API JSON\n",
      "[youtube] ww0zvl18-Ys: Downloading m3u8 information\n",
      "[info] ww0zvl18-Ys: Downloading 1 format(s): 247+251\n",
      "[download] Charlie Chaplins Rede an die Menschheit [ww0zvl18-Ys].webm has already been downloaded\n"
     ]
    }
   ],
   "source": [
    "!yt-dlp \"https://www.youtube.com/watch?v=ww0zvl18-Ys\""
   ]
  },
  {
   "cell_type": "code",
   "execution_count": 27,
   "metadata": {},
   "outputs": [],
   "source": [
    "charlie = model.transcribe(\"Charlie Chaplins Rede an die Menschheit [ww0zvl18-Ys].webm\")"
   ]
  },
  {
   "cell_type": "code",
   "execution_count": 29,
   "metadata": {},
   "outputs": [
    {
     "data": {
      "text/plain": [
       "'Es tut mir leid, aber ich möchte nur Markenherrscher der Welt sein, denn das liegt mir nicht. Ich möchte wieder herrschen, noch eher Gewinner oben, sondern jede Menschen helfen, wo immer ich kann, den Juden, den Heiden, den Fahrigen, den weißen. Jeder Mensch sollte dem anderen helfen, nur so verbessern wird die Welt. Wir sollten am Glück des Ananteil haben und nicht an der Verabschäuern, Hass und Verachtung bringen uns niemals näher. Auf dieser Welt ist Platz genug für jeden und Mutter Erde ist reich genug, um jeden von uns zu machen.Wir müssen es nur wieder zu leben lernen. Die Habgie hat das gute Menschen verschütet. Und Miss Gunst hat die Seelen vergiftet und uns im Parade Schritt zu verdäherben Blutschuld geführt. Wir haben die Geschwindigkeit entwickelt, aber innerlich sind wir stehen geblieben. Wir lassen Maschinen für uns arbeiten und sie denken auch für uns. Die Kluke hat uns hochmütig werden lassen und unser Wissen kalt und hart. Wir sprechen zu vielen und fühlen zu wenig. Aber zuerst kommt die Menschlichkeit und dann ist die Maschinen. Vor Klukeid und Wissen kommt Toleranz und Güte.Menschlichkeit und nächsten Liebe ist unser da sein, nicht lebenswert. Eroplane und Radio haben uns einander näher gebracht. Diese Erfindungen haben meine Brücke geschlagen, von Menschen zu Menschen. Die erforderen eine Hallung, fast in der Brüderlichkeit, damit wir alle eins werden. Millionen Menschen auf der Welt können im Augenblick meine Stimme hören. Millionen verzweifelter Menschen. Ob Vereine Systemes, dass es sich zu auftgabe, gemacht hat, unschuldige zu kweelen. Und im Ketten zu legen. All in denen, in ihm ich jetzt hören, rufe ich zu. Ihr dürft nicht verzagen.Die Männer, die heute die Menschlichkeit mit Füßen treten, werden nicht immer da sein. Ihre Grausamkeit stirbt mit ihnen. Und auch ihr Hass. Die Freiheit, die sie den Menschen genommen haben, wird ihnen dann zu ergegeben werden. Auch wenn es Blut und Training kostet, für die Freiheit ist kein Opfer zu groß. Soldaten, vertraut euch nicht bei waren, an unmenchen die euch veracht, und den er euer Leben nichts wert ist, ihr seid für sie nur sklafen. Ihr habt das zu tun, das zu glauben, das zu führen. Ihr werdet getreld, gefüttert wie viel behandelt und seid nicht zweiter als Kanonvutter.Die manche, die manche, die manche, die manche, die manche, die manche, die manche, die manche, die manche, die manche, die manche, die manche, die manche, die manche, die manche, die manche, die manche, die manche, die manche, die manche, die manche, die manche, die manche, die manche, die manche, die manche, die manche, die manche, die manche, die manche, die manche, die manche, die manche, die manche, die manche, die manche, die manche, die manche, die manche, die manche, die manche, die manche, die manche, die manche, die manche, die manche, die manche, die manche, die manche, die manche, die manche, die manche, die manche, die manche, die manche, die mancheUnd so spend ihr als Vollkapte sind an, dieses Leben einmal ich postbar zu machen. Es wird wunderbar ein Freihitzgeister, du kriegst da ja im Namen der Demokratie. Lachlos diese Macht nutzen, erst uns zusammenstehen, Lachsdumskämpfen für eine neue Welt, für eine ganz stelle Gewinnt. Jeder Mann, durchschossen, in der Jugend eine Zukunft und in Alten sicher ein Gewerzt. Das brauchen auch ein Jahr der Dürker das Auto, deshalb kommt sie die Macht dann rein. Das wäre egal wie wir auf alles, was ihr euch versparen, diese Papa recher.Das kommt von dem Kempfen. Das kommt von dem Kempfen. Das ist ein Ziel, wenn das Kempfen los. Ich nehme noch einen Eindruck, im Haus und ein intolerant. Das kommt von dem Kempfen. In der die Vernunft zieht, in der Post, und die Untersuchung alle zu sehen. Kann man auch enormen der Demokratie. Dafür lasst uns das.'"
      ]
     },
     "execution_count": 29,
     "metadata": {},
     "output_type": "execute_result"
    }
   ],
   "source": [
    "charlie[\"text\"]"
   ]
  },
  {
   "cell_type": "code",
   "execution_count": null,
   "metadata": {},
   "outputs": [],
   "source": []
  }
 ],
 "metadata": {
  "accelerator": "GPU",
  "colab": {
   "provenance": []
  },
  "gpuClass": "standard",
  "kernelspec": {
   "display_name": "Python 3 (ipykernel)",
   "language": "python",
   "name": "python3"
  },
  "language_info": {
   "codemirror_mode": {
    "name": "ipython",
    "version": 3
   },
   "file_extension": ".py",
   "mimetype": "text/x-python",
   "name": "python",
   "nbconvert_exporter": "python",
   "pygments_lexer": "ipython3",
   "version": "3.9.16"
  },
  "widgets": {
   "application/vnd.jupyter.widget-state+json": {
    "0042cf3f78d441f69d812964347457da": {
     "model_module": "@jupyter-widgets/controls",
     "model_module_version": "1.5.0",
     "model_name": "DescriptionStyleModel",
     "state": {
      "_model_module": "@jupyter-widgets/controls",
      "_model_module_version": "1.5.0",
      "_model_name": "DescriptionStyleModel",
      "_view_count": null,
      "_view_module": "@jupyter-widgets/base",
      "_view_module_version": "1.2.0",
      "_view_name": "StyleView",
      "description_width": ""
     }
    },
    "20193b33576947e18a024b2aef896a0b": {
     "model_module": "@jupyter-widgets/controls",
     "model_module_version": "1.5.0",
     "model_name": "HTMLModel",
     "state": {
      "_dom_classes": [],
      "_model_module": "@jupyter-widgets/controls",
      "_model_module_version": "1.5.0",
      "_model_name": "HTMLModel",
      "_view_count": null,
      "_view_module": "@jupyter-widgets/controls",
      "_view_module_version": "1.5.0",
      "_view_name": "HTMLView",
      "description": "",
      "description_tooltip": null,
      "layout": "IPY_MODEL_cd8b621110b5429b8cacfeeab208fa17",
      "placeholder": "​",
      "style": "IPY_MODEL_843cb01b868d483cbc4ce56484d84922",
      "value": " 0/0 [00:00&lt;?, ?it/s]"
     }
    },
    "392c6c44e3784d39a7bf34fb5fbc6625": {
     "model_module": "@jupyter-widgets/controls",
     "model_module_version": "1.5.0",
     "model_name": "ProgressStyleModel",
     "state": {
      "_model_module": "@jupyter-widgets/controls",
      "_model_module_version": "1.5.0",
      "_model_name": "ProgressStyleModel",
      "_view_count": null,
      "_view_module": "@jupyter-widgets/base",
      "_view_module_version": "1.2.0",
      "_view_name": "StyleView",
      "bar_color": null,
      "description_width": ""
     }
    },
    "58b20a8e2b95488185676aaa323cb6b5": {
     "model_module": "@jupyter-widgets/controls",
     "model_module_version": "1.5.0",
     "model_name": "HTMLModel",
     "state": {
      "_dom_classes": [],
      "_model_module": "@jupyter-widgets/controls",
      "_model_module_version": "1.5.0",
      "_model_name": "HTMLModel",
      "_view_count": null,
      "_view_module": "@jupyter-widgets/controls",
      "_view_module_version": "1.5.0",
      "_view_name": "HTMLView",
      "description": "",
      "description_tooltip": null,
      "layout": "IPY_MODEL_89802a797502466f8e1b8ecec6cb3b21",
      "placeholder": "​",
      "style": "IPY_MODEL_0042cf3f78d441f69d812964347457da",
      "value": ""
     }
    },
    "826d6c16641c47d59dfe7d75d7b5d3ab": {
     "model_module": "@jupyter-widgets/base",
     "model_module_version": "1.2.0",
     "model_name": "LayoutModel",
     "state": {
      "_model_module": "@jupyter-widgets/base",
      "_model_module_version": "1.2.0",
      "_model_name": "LayoutModel",
      "_view_count": null,
      "_view_module": "@jupyter-widgets/base",
      "_view_module_version": "1.2.0",
      "_view_name": "LayoutView",
      "align_content": null,
      "align_items": null,
      "align_self": null,
      "border": null,
      "bottom": null,
      "display": null,
      "flex": null,
      "flex_flow": null,
      "grid_area": null,
      "grid_auto_columns": null,
      "grid_auto_flow": null,
      "grid_auto_rows": null,
      "grid_column": null,
      "grid_gap": null,
      "grid_row": null,
      "grid_template_areas": null,
      "grid_template_columns": null,
      "grid_template_rows": null,
      "height": null,
      "justify_content": null,
      "justify_items": null,
      "left": null,
      "margin": null,
      "max_height": null,
      "max_width": null,
      "min_height": null,
      "min_width": null,
      "object_fit": null,
      "object_position": null,
      "order": null,
      "overflow": null,
      "overflow_x": null,
      "overflow_y": null,
      "padding": null,
      "right": null,
      "top": null,
      "visibility": null,
      "width": null
     }
    },
    "843cb01b868d483cbc4ce56484d84922": {
     "model_module": "@jupyter-widgets/controls",
     "model_module_version": "1.5.0",
     "model_name": "DescriptionStyleModel",
     "state": {
      "_model_module": "@jupyter-widgets/controls",
      "_model_module_version": "1.5.0",
      "_model_name": "DescriptionStyleModel",
      "_view_count": null,
      "_view_module": "@jupyter-widgets/base",
      "_view_module_version": "1.2.0",
      "_view_name": "StyleView",
      "description_width": ""
     }
    },
    "89802a797502466f8e1b8ecec6cb3b21": {
     "model_module": "@jupyter-widgets/base",
     "model_module_version": "1.2.0",
     "model_name": "LayoutModel",
     "state": {
      "_model_module": "@jupyter-widgets/base",
      "_model_module_version": "1.2.0",
      "_model_name": "LayoutModel",
      "_view_count": null,
      "_view_module": "@jupyter-widgets/base",
      "_view_module_version": "1.2.0",
      "_view_name": "LayoutView",
      "align_content": null,
      "align_items": null,
      "align_self": null,
      "border": null,
      "bottom": null,
      "display": null,
      "flex": null,
      "flex_flow": null,
      "grid_area": null,
      "grid_auto_columns": null,
      "grid_auto_flow": null,
      "grid_auto_rows": null,
      "grid_column": null,
      "grid_gap": null,
      "grid_row": null,
      "grid_template_areas": null,
      "grid_template_columns": null,
      "grid_template_rows": null,
      "height": null,
      "justify_content": null,
      "justify_items": null,
      "left": null,
      "margin": null,
      "max_height": null,
      "max_width": null,
      "min_height": null,
      "min_width": null,
      "object_fit": null,
      "object_position": null,
      "order": null,
      "overflow": null,
      "overflow_x": null,
      "overflow_y": null,
      "padding": null,
      "right": null,
      "top": null,
      "visibility": null,
      "width": null
     }
    },
    "b86c7de5a9fa4c6dabf642c5ac581acc": {
     "model_module": "@jupyter-widgets/controls",
     "model_module_version": "1.5.0",
     "model_name": "FloatProgressModel",
     "state": {
      "_dom_classes": [],
      "_model_module": "@jupyter-widgets/controls",
      "_model_module_version": "1.5.0",
      "_model_name": "FloatProgressModel",
      "_view_count": null,
      "_view_module": "@jupyter-widgets/controls",
      "_view_module_version": "1.5.0",
      "_view_name": "ProgressView",
      "bar_style": "success",
      "description": "",
      "description_tooltip": null,
      "layout": "IPY_MODEL_c93aa11d360545d2bd41c7cf31109e80",
      "max": 1,
      "min": 0,
      "orientation": "horizontal",
      "style": "IPY_MODEL_392c6c44e3784d39a7bf34fb5fbc6625",
      "value": 0
     }
    },
    "c93aa11d360545d2bd41c7cf31109e80": {
     "model_module": "@jupyter-widgets/base",
     "model_module_version": "1.2.0",
     "model_name": "LayoutModel",
     "state": {
      "_model_module": "@jupyter-widgets/base",
      "_model_module_version": "1.2.0",
      "_model_name": "LayoutModel",
      "_view_count": null,
      "_view_module": "@jupyter-widgets/base",
      "_view_module_version": "1.2.0",
      "_view_name": "LayoutView",
      "align_content": null,
      "align_items": null,
      "align_self": null,
      "border": null,
      "bottom": null,
      "display": null,
      "flex": null,
      "flex_flow": null,
      "grid_area": null,
      "grid_auto_columns": null,
      "grid_auto_flow": null,
      "grid_auto_rows": null,
      "grid_column": null,
      "grid_gap": null,
      "grid_row": null,
      "grid_template_areas": null,
      "grid_template_columns": null,
      "grid_template_rows": null,
      "height": null,
      "justify_content": null,
      "justify_items": null,
      "left": null,
      "margin": null,
      "max_height": null,
      "max_width": null,
      "min_height": null,
      "min_width": null,
      "object_fit": null,
      "object_position": null,
      "order": null,
      "overflow": null,
      "overflow_x": null,
      "overflow_y": null,
      "padding": null,
      "right": null,
      "top": null,
      "visibility": null,
      "width": "20px"
     }
    },
    "cd8b621110b5429b8cacfeeab208fa17": {
     "model_module": "@jupyter-widgets/base",
     "model_module_version": "1.2.0",
     "model_name": "LayoutModel",
     "state": {
      "_model_module": "@jupyter-widgets/base",
      "_model_module_version": "1.2.0",
      "_model_name": "LayoutModel",
      "_view_count": null,
      "_view_module": "@jupyter-widgets/base",
      "_view_module_version": "1.2.0",
      "_view_name": "LayoutView",
      "align_content": null,
      "align_items": null,
      "align_self": null,
      "border": null,
      "bottom": null,
      "display": null,
      "flex": null,
      "flex_flow": null,
      "grid_area": null,
      "grid_auto_columns": null,
      "grid_auto_flow": null,
      "grid_auto_rows": null,
      "grid_column": null,
      "grid_gap": null,
      "grid_row": null,
      "grid_template_areas": null,
      "grid_template_columns": null,
      "grid_template_rows": null,
      "height": null,
      "justify_content": null,
      "justify_items": null,
      "left": null,
      "margin": null,
      "max_height": null,
      "max_width": null,
      "min_height": null,
      "min_width": null,
      "object_fit": null,
      "object_position": null,
      "order": null,
      "overflow": null,
      "overflow_x": null,
      "overflow_y": null,
      "padding": null,
      "right": null,
      "top": null,
      "visibility": null,
      "width": null
     }
    },
    "d0398a17068742168da49ace4d565c8b": {
     "model_module": "@jupyter-widgets/controls",
     "model_module_version": "1.5.0",
     "model_name": "HBoxModel",
     "state": {
      "_dom_classes": [],
      "_model_module": "@jupyter-widgets/controls",
      "_model_module_version": "1.5.0",
      "_model_name": "HBoxModel",
      "_view_count": null,
      "_view_module": "@jupyter-widgets/controls",
      "_view_module_version": "1.5.0",
      "_view_name": "HBoxView",
      "box_style": "",
      "children": [
       "IPY_MODEL_58b20a8e2b95488185676aaa323cb6b5",
       "IPY_MODEL_b86c7de5a9fa4c6dabf642c5ac581acc",
       "IPY_MODEL_20193b33576947e18a024b2aef896a0b"
      ],
      "layout": "IPY_MODEL_826d6c16641c47d59dfe7d75d7b5d3ab"
     }
    }
   }
  }
 },
 "nbformat": 4,
 "nbformat_minor": 1
}
