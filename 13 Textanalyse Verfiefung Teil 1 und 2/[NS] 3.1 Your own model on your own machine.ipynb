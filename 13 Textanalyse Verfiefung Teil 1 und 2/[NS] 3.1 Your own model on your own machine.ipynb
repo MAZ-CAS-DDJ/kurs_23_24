{
 "cells": [
  {
   "cell_type": "markdown",
   "id": "6512f1f6",
   "metadata": {},
   "source": [
    "# Your own LLM"
   ]
  },
  {
   "cell_type": "markdown",
   "id": "7ab6723c",
   "metadata": {},
   "source": [
    "## 1. Download OLLama.AI\n",
    "\n",
    "https://ollama.ai/download\n"
   ]
  },
  {
   "cell_type": "markdown",
   "id": "2ab5fd0e",
   "metadata": {},
   "source": [
    "## 2. Download the model"
   ]
  },
  {
   "cell_type": "markdown",
   "id": "3d013ec3",
   "metadata": {},
   "source": [
    "`ollama run llama2`"
   ]
  },
  {
   "cell_type": "markdown",
   "id": "a7039761",
   "metadata": {},
   "source": [
    "## Run it in the CLI"
   ]
  },
  {
   "cell_type": "markdown",
   "id": "d7bf71ad",
   "metadata": {},
   "source": [
    "## API CALL"
   ]
  },
  {
   "cell_type": "code",
   "execution_count": 3,
   "id": "a65b5e8e",
   "metadata": {},
   "outputs": [],
   "source": [
    "import requests\n",
    "payload = {\"model\": \"llama2\",\"prompt\": \"Why is the sky blue?\",\"stream\": False}\n",
    "result = requests.post(\"http://localhost:11434/api/generate\", json=payload)\n",
    "result.text"
   ]
  },
  {
   "cell_type": "code",
   "execution_count": 4,
   "id": "d3581ffc",
   "metadata": {},
   "outputs": [],
   "source": [
    "result.json()[\"response\"]"
   ]
  }
 ],
 "metadata": {
  "kernelspec": {
   "display_name": "Python 3 (ipykernel)",
   "language": "python",
   "name": "python3"
  },
  "language_info": {
   "codemirror_mode": {
    "name": "ipython",
    "version": 3
   },
   "file_extension": ".py",
   "mimetype": "text/x-python",
   "name": "python",
   "nbconvert_exporter": "python",
   "pygments_lexer": "ipython3",
   "version": "3.9.16"
  }
 },
 "nbformat": 4,
 "nbformat_minor": 5
}
