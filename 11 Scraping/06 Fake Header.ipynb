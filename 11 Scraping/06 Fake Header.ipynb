{
 "cells": [
  {
   "cell_type": "markdown",
   "id": "b7be6dcd",
   "metadata": {},
   "source": [
    "# 06 Fake Header"
   ]
  },
  {
   "cell_type": "markdown",
   "id": "4f896270",
   "metadata": {},
   "source": [
    "Es gibt Webseiten, die automatisierte Requests Anfragen aussortieren. Die allermeisten kann man mit folgender Code-Ergänzung umgehen."
   ]
  },
  {
   "cell_type": "code",
   "execution_count": 1,
   "id": "6743004b",
   "metadata": {},
   "outputs": [],
   "source": [
    "import requests"
   ]
  },
  {
   "cell_type": "code",
   "execution_count": 2,
   "id": "a79113a4",
   "metadata": {},
   "outputs": [],
   "source": [
    "url = \"https://www.transfermarkt.ch/super-league/transfers/wettbewerb/C1\""
   ]
  },
  {
   "cell_type": "code",
   "execution_count": 3,
   "id": "3d524bbf",
   "metadata": {},
   "outputs": [],
   "source": [
    "headers = {\n",
    "    \"User-Agent\": \"Mozilla/5.0 (Windows NT 10.0;            \\\n",
    "    Win64; x64) AppleWebKit/537.36 (KHTML, like Gecko)      \\\n",
    "    Chrome/91.0.4472.124 Safari/537.36\"\n",
    "}"
   ]
  },
  {
   "cell_type": "code",
   "execution_count": 4,
   "id": "2639677e",
   "metadata": {},
   "outputs": [],
   "source": [
    "response = requests.get(url, headers=headers)"
   ]
  },
  {
   "cell_type": "code",
   "execution_count": null,
   "id": "f3dd3a83",
   "metadata": {},
   "outputs": [],
   "source": []
  }
 ],
 "metadata": {
  "kernelspec": {
   "display_name": "Python 3 (ipykernel)",
   "language": "python",
   "name": "python3"
  },
  "language_info": {
   "codemirror_mode": {
    "name": "ipython",
    "version": 3
   },
   "file_extension": ".py",
   "mimetype": "text/x-python",
   "name": "python",
   "nbconvert_exporter": "python",
   "pygments_lexer": "ipython3",
   "version": "3.8.17"
  }
 },
 "nbformat": 4,
 "nbformat_minor": 5
}
