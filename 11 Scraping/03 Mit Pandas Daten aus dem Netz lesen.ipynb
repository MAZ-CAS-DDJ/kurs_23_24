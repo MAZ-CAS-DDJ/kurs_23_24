{
 "cells": [
  {
   "cell_type": "markdown",
   "id": "19c9cba3",
   "metadata": {},
   "source": [
    "# Direkt mit Pandas Daten aus dem Netz lesen"
   ]
  },
  {
   "cell_type": "code",
   "execution_count": 1,
   "id": "bd8ee352",
   "metadata": {},
   "outputs": [],
   "source": [
    "import pandas as pd"
   ]
  },
  {
   "cell_type": "markdown",
   "id": "04aee578",
   "metadata": {},
   "source": [
    "Schauen wir mal auf Github nach. Wir müssen dafür die Raw Function nutzen. Google-Suche: \"covid data api our world in data\". "
   ]
  },
  {
   "cell_type": "code",
   "execution_count": 3,
   "id": "88de9d34",
   "metadata": {},
   "outputs": [],
   "source": []
  },
  {
   "cell_type": "code",
   "execution_count": null,
   "id": "b4f4fe26",
   "metadata": {},
   "outputs": [],
   "source": []
  }
 ],
 "metadata": {
  "kernelspec": {
   "display_name": "Python 3 (ipykernel)",
   "language": "python",
   "name": "python3"
  },
  "language_info": {
   "codemirror_mode": {
    "name": "ipython",
    "version": 3
   },
   "file_extension": ".py",
   "mimetype": "text/x-python",
   "name": "python",
   "nbconvert_exporter": "python",
   "pygments_lexer": "ipython3",
   "version": "3.8.17"
  }
 },
 "nbformat": 4,
 "nbformat_minor": 5
}
