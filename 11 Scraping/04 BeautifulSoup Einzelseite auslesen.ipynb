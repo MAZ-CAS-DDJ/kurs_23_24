{
 "cells": [
  {
   "cell_type": "markdown",
   "id": "59dabd6a",
   "metadata": {},
   "source": [
    "# 04 Lesen wir die Daten auf einer einzelnen Webpage aus"
   ]
  },
  {
   "cell_type": "markdown",
   "id": "919a8eeb",
   "metadata": {},
   "source": [
    "Sehr oft sind die Daten nicht ideal formatiert, zumindest im Hintergrund einer Webpage. Und dann lesen wir mit Hilfe von Scraping-Methoden die Inhalte aus. Dafür brauchen wir ebenfalls requests. Und BeautifulSoup. Ihr könnt euch erinnern, das Werkzeug, mit dem wir HTML-Code in eine ansprechende Form gebracht und dann die Sachen herausgezogen haben, die uns interessieren."
   ]
  },
  {
   "cell_type": "code",
   "execution_count": 24,
   "id": "7c3b4813",
   "metadata": {},
   "outputs": [],
   "source": [
    "# Die Imports die wir brauchen\n",
    "from bs4 import BeautifulSoup\n",
    "import requests\n",
    "import pandas as pd\n",
    "import csv"
   ]
  },
  {
   "cell_type": "markdown",
   "id": "6583f705",
   "metadata": {},
   "source": [
    "Wir wollen in einem ersten Schritt die Daten von diesem Dienst auslesen: https://www.homegate.ch/mieten/immobilien/plz-9000/trefferliste?loc=geo-zipcode-8000, zuerst nur die Daten einer einzigen Seite."
   ]
  },
  {
   "cell_type": "code",
   "execution_count": 29,
   "id": "1912062b",
   "metadata": {},
   "outputs": [
    {
     "name": "stdout",
     "output_type": "stream",
     "text": [
      "Data saved to scraped_data.csv\n"
     ]
    }
   ],
   "source": [
    "# Daten abholen\n",
    "url = 'https://www.homegate.ch/mieten/immobilien/plz-9000/trefferliste?loc=geo-zipcode-8000'\n",
    "response = requests.get(url)\n",
    "soup = BeautifulSoup(response.content, 'html.parser')\n",
    "\n",
    "# Was wir hier haben sind List Comprehensions, wir können das auch als For Loops lösen. Schauen wir uns das später an. \n",
    "prices = [price.text.strip() for price in soup.find_all(class_=\"HgListingCard_price_sIIoV\")]\n",
    "rooms_livingspace = [info.find('strong').text.strip() for info in soup.find_all(class_=\"HgListingRoomsLivingSpace_roomsLivingSpace_FiW9E\")]\n",
    "translates = [item.text.strip() for item in soup.find_all(attrs={\"translate\": \"no\"})]\n",
    "\n",
    "# Das hier ist nur eine Sicherheit. Der Code bricht ab, wenn es nicht richtig funktioniert.\n",
    "assert len(prices) == len(rooms_livingspace) == len(translates)\n",
    "\n",
    "# Store data in a pandas DataFrame\n",
    "df = pd.DataFrame({\n",
    "    'Price': prices,\n",
    "    'Rooms & Living Space': rooms_livingspace,\n",
    "    'Translate No Text': translates\n",
    "})\n",
    "\n",
    "# Abspreichern\n",
    "df.to_csv('scraped_data.csv', index=False)\n",
    "print(f\"Data saved to scraped_data.csv\")\n",
    "\n",
    "\n",
    "\n"
   ]
  },
  {
   "cell_type": "markdown",
   "id": "21fe1d8d",
   "metadata": {},
   "source": [
    "Schauen wir uns eine solche List comprehension an, nehmen wir die erste:"
   ]
  },
  {
   "cell_type": "code",
   "execution_count": 30,
   "id": "36352802",
   "metadata": {},
   "outputs": [],
   "source": [
    "translates = [item.text.strip() for item in soup.find_all(attrs={\"translate\": \"no\"})]"
   ]
  },
  {
   "cell_type": "code",
   "execution_count": 31,
   "id": "b3574842",
   "metadata": {},
   "outputs": [
    {
     "data": {
      "text/plain": [
       "['Alfred-Escher-Strasse 64, 8002 Zürich',\n",
       " 'Scheideggstrasse 65, 8002 Zürich',\n",
       " 'Weiherweidstrasse 5, 9000 St. Gallen',\n",
       " 'Letzigraben 114/116, 8047 Zürich',\n",
       " 'Letzigraben 114/116, 8047 Zürich',\n",
       " 'Letzigraben 114/116, 8047 Zürich',\n",
       " 'Flurhofstrasse 151, 9000 Saint-Gall',\n",
       " 'Käferholzstrasse 32, 8057 Zürich',\n",
       " 'Ankerstrasse 114, 8004 Zürich',\n",
       " 'Militärstrasse 118, 8004 Zürich',\n",
       " '8008 Zürich',\n",
       " 'Hagenholzstrasse 59, 8050 Zürich',\n",
       " 'Höschgasse 29, 8008 Zürich',\n",
       " 'Spiegelhofstrasse, 8032 Zürich',\n",
       " 'Winzerstrasse 65, 8049 Zürich',\n",
       " 'Kleinertstrasse, 8037 Zürich',\n",
       " 'Haldenstrasse, 8045 Zürich',\n",
       " 'Baumackerstrasse, 8050 Zürich',\n",
       " 'Zollstrasse 6, 8005 Zürich',\n",
       " 'Wildbachstrasse 69, 8008 Zürich']"
      ]
     },
     "execution_count": 31,
     "metadata": {},
     "output_type": "execute_result"
    }
   ],
   "source": [
    "translates"
   ]
  },
  {
   "cell_type": "code",
   "execution_count": 32,
   "id": "e3efa843",
   "metadata": {},
   "outputs": [],
   "source": [
    "result = []\n",
    "for item in soup.find_all(attrs={\"translate\": \"no\"}):\n",
    "    result.append(item.text.strip())"
   ]
  },
  {
   "cell_type": "code",
   "execution_count": 33,
   "id": "e1d95303",
   "metadata": {},
   "outputs": [
    {
     "data": {
      "text/plain": [
       "['Alfred-Escher-Strasse 64, 8002 Zürich',\n",
       " 'Scheideggstrasse 65, 8002 Zürich',\n",
       " 'Weiherweidstrasse 5, 9000 St. Gallen',\n",
       " 'Letzigraben 114/116, 8047 Zürich',\n",
       " 'Letzigraben 114/116, 8047 Zürich',\n",
       " 'Letzigraben 114/116, 8047 Zürich',\n",
       " 'Flurhofstrasse 151, 9000 Saint-Gall',\n",
       " 'Käferholzstrasse 32, 8057 Zürich',\n",
       " 'Ankerstrasse 114, 8004 Zürich',\n",
       " 'Militärstrasse 118, 8004 Zürich',\n",
       " '8008 Zürich',\n",
       " 'Hagenholzstrasse 59, 8050 Zürich',\n",
       " 'Höschgasse 29, 8008 Zürich',\n",
       " 'Spiegelhofstrasse, 8032 Zürich',\n",
       " 'Winzerstrasse 65, 8049 Zürich',\n",
       " 'Kleinertstrasse, 8037 Zürich',\n",
       " 'Haldenstrasse, 8045 Zürich',\n",
       " 'Baumackerstrasse, 8050 Zürich',\n",
       " 'Zollstrasse 6, 8005 Zürich',\n",
       " 'Wildbachstrasse 69, 8008 Zürich']"
      ]
     },
     "execution_count": 33,
     "metadata": {},
     "output_type": "execute_result"
    }
   ],
   "source": [
    "result"
   ]
  },
  {
   "cell_type": "code",
   "execution_count": null,
   "id": "3f2b6935",
   "metadata": {},
   "outputs": [],
   "source": []
  }
 ],
 "metadata": {
  "kernelspec": {
   "display_name": "Python 3 (ipykernel)",
   "language": "python",
   "name": "python3"
  },
  "language_info": {
   "codemirror_mode": {
    "name": "ipython",
    "version": 3
   },
   "file_extension": ".py",
   "mimetype": "text/x-python",
   "name": "python",
   "nbconvert_exporter": "python",
   "pygments_lexer": "ipython3",
   "version": "3.8.17"
  }
 },
 "nbformat": 4,
 "nbformat_minor": 5
}
