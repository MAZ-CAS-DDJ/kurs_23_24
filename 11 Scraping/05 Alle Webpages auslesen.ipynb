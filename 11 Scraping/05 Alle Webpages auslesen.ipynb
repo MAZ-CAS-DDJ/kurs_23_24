{
 "cells": [
  {
   "cell_type": "markdown",
   "id": "bb797065",
   "metadata": {},
   "source": [
    "## 05 Auslese aller Zürcher Webseiten von Homegate"
   ]
  },
  {
   "cell_type": "markdown",
   "id": "72588ef3",
   "metadata": {},
   "source": [
    "Nun wollen wir alle Seiten runterladen, nicht nur nur eine"
   ]
  },
  {
   "cell_type": "code",
   "execution_count": 33,
   "id": "72708552",
   "metadata": {},
   "outputs": [],
   "source": [
    "#Unsere Imports\n",
    "import requests\n",
    "from bs4 import BeautifulSoup\n",
    "import pandas as pd"
   ]
  },
  {
   "cell_type": "code",
   "execution_count": 34,
   "id": "297dc8a4",
   "metadata": {},
   "outputs": [],
   "source": [
    "#URL Vorbereitung\n",
    "base_url = 'https://www.homegate.ch/mieten/immobilien/plz-8000/trefferliste?loc=geo-zipcode-8000&ep='\n",
    "\n",
    "#Hier bereite ich vor, wieviele Seiten besucht werden müssen\n",
    "response = requests.get(base_url + '1')\n",
    "soup = BeautifulSoup(response.content, 'html.parser')\n",
    "max_page = int(soup.find_all(class_='router-link-active')[-3].text[-2:])"
   ]
  },
  {
   "cell_type": "code",
   "execution_count": 35,
   "id": "a599ab85",
   "metadata": {},
   "outputs": [
    {
     "name": "stdout",
     "output_type": "stream",
     "text": [
      "Data saved to scraped_data.csv\n"
     ]
    }
   ],
   "source": [
    "all_prices = []\n",
    "all_rooms_livingspace_details = []\n",
    "all_addresses = []\n",
    "\n",
    "for page in range(1, max_page + 1):\n",
    "    response = requests.get(base_url + str(page))\n",
    "    soup = BeautifulSoup(response.content, 'html.parser')\n",
    "    \n",
    "    # Für die Preise (Aufpassen, diese Nummern am Ende deuten darauf hin, dass die gelegentlich ändern)\n",
    "    prices = [price.text.strip() for price in soup.find_all(class_=\"HgListingCard_price_sIIoV\")]\n",
    "    all_prices.extend(prices)\n",
    "    \n",
    "    # Wohnraum und Zimmer (Aufpassen, diese Nummern am Ende deuten darauf hin, dass die gelegentlich ändern)\n",
    "    rooms_livingspace_details = [detail.text.strip() for detail in soup.find_all(class_='HgListingRoomsLivingSpace_roomsLivingSpace_FiW9E')]\n",
    "    all_rooms_livingspace_details.extend(rooms_livingspace_details)\n",
    "    \n",
    "    # Adresse\n",
    "    addresses = [item.text.strip() for item in soup.find_all(attrs={\"translate\": \"no\"})]\n",
    "    all_addresses.extend(addresses)\n",
    "\n",
    "# Create DataFrame and save to CSV\n",
    "df = pd.DataFrame({\n",
    "    'Price': all_prices,\n",
    "    'Rooms & Living Space Details': all_rooms_livingspace_details,\n",
    "    'Address': all_addresses\n",
    "})\n",
    "\n",
    "df.to_csv('scraped_data.csv', index=False)\n",
    "\n",
    "print(f\"Data saved to scraped_data.csv\")\n"
   ]
  },
  {
   "cell_type": "markdown",
   "id": "41eeb426",
   "metadata": {},
   "source": [
    "Jetzt bringen wir das bei Pandas in einer Form, damit wir damit ausrechnen können, wie teuer ein Quadratmeter aktuell in Zürich ist. Unter der PLZ 8001. Wir können das auch nach Strasse herunterrechnen. "
   ]
  },
  {
   "cell_type": "code",
   "execution_count": null,
   "id": "35455e19",
   "metadata": {},
   "outputs": [],
   "source": []
  }
 ],
 "metadata": {
  "kernelspec": {
   "display_name": "Python 3 (ipykernel)",
   "language": "python",
   "name": "python3"
  },
  "language_info": {
   "codemirror_mode": {
    "name": "ipython",
    "version": 3
   },
   "file_extension": ".py",
   "mimetype": "text/x-python",
   "name": "python",
   "nbconvert_exporter": "python",
   "pygments_lexer": "ipython3",
   "version": "3.8.17"
  }
 },
 "nbformat": 4,
 "nbformat_minor": 5
}
