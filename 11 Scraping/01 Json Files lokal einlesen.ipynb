{
 "cells": [
  {
   "cell_type": "markdown",
   "id": "a0f06904",
   "metadata": {},
   "source": [
    "# Öffnen wir ein Json file, das lokal auf unserem Gerät liegt"
   ]
  },
  {
   "cell_type": "code",
   "execution_count": 5,
   "id": "f76467c2",
   "metadata": {},
   "outputs": [],
   "source": [
    "# Unsere Imports, um das Resultat abzuspeichern brauchen wir Pandas\n",
    "import pandas as pd\n",
    "# Um das Ganze einzulesen, brauchen wir das Json Module\n",
    "import json"
   ]
  },
  {
   "cell_type": "code",
   "execution_count": 12,
   "id": "12b9c5a0",
   "metadata": {},
   "outputs": [
    {
     "name": "stdout",
     "output_type": "stream",
     "text": [
      "type\n",
      "metadata\n",
      "features\n",
      "bbox\n"
     ]
    }
   ],
   "source": [
    "# Hier brauchen wir den Pfade, in diesem Fall einfach der Name. Kann aber natürlich mit \"/\" in unterordner liegen. Mit \n",
    "json_file_path = 'earthquakes.json'\n",
    "\n",
    "with open(json_file_path, 'r') as json_file:\n",
    "    data = json.load(json_file)\n",
    "\n",
    "# Ich drucke nur mal die ersten 1000 Zeichen aus    \n",
    "for key in data:\n",
    "    print(key)"
   ]
  },
  {
   "cell_type": "markdown",
   "id": "f9e60508",
   "metadata": {},
   "source": [
    "## Übung zur Wiederholung:\n",
    "1. Erstelle eine Liste mit den 10 stärksten Erdbeben in den verfügbaren Daten zusammen. Die Liste sollte neben der Stärke weitere Angaben umfassen: Ort (in Text), Latitude, Longitude, Tiefe. (Hint: Wir können uns nicht auf Spezialabfragen aus der API verlassen, weil wir hier die Daten ja schon heruntergeladen haben. Das muss jetzt alles selber gecoded werden)\n",
    "2. Speichere die 10 stärksten Beben als csv mit allen oben aufgeführten Daten ab. "
   ]
  },
  {
   "cell_type": "code",
   "execution_count": null,
   "id": "e809752c",
   "metadata": {},
   "outputs": [],
   "source": []
  }
 ],
 "metadata": {
  "kernelspec": {
   "display_name": "Python 3 (ipykernel)",
   "language": "python",
   "name": "python3"
  },
  "language_info": {
   "codemirror_mode": {
    "name": "ipython",
    "version": 3
   },
   "file_extension": ".py",
   "mimetype": "text/x-python",
   "name": "python",
   "nbconvert_exporter": "python",
   "pygments_lexer": "ipython3",
   "version": "3.8.17"
  }
 },
 "nbformat": 4,
 "nbformat_minor": 5
}
