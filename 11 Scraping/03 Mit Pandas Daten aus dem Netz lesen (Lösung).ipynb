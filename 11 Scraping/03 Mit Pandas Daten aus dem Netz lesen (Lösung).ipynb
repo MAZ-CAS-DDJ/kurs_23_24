{
 "cells": [
  {
   "cell_type": "markdown",
   "id": "19c9cba3",
   "metadata": {},
   "source": [
    "# Direkt mit Pandas Daten aus dem Netz lesen (Lösung)"
   ]
  },
  {
   "cell_type": "code",
   "execution_count": 1,
   "id": "bd8ee352",
   "metadata": {},
   "outputs": [],
   "source": [
    "import pandas as pd"
   ]
  },
  {
   "cell_type": "markdown",
   "id": "04aee578",
   "metadata": {},
   "source": [
    "Schauen wir mal auf Github nach. Wir müssen dafür die Raw Function nutzen. Google-Suche: \"covid data api our world in data\". "
   ]
  },
  {
   "cell_type": "code",
   "execution_count": 3,
   "id": "88de9d34",
   "metadata": {},
   "outputs": [],
   "source": [
    "df = pd.read_csv(\"https://raw.githubusercontent.com/owid/covid-19-data/master/public/data/owid-covid-data.csv\")"
   ]
  },
  {
   "cell_type": "code",
   "execution_count": 4,
   "id": "6aad3028",
   "metadata": {},
   "outputs": [
    {
     "name": "stdout",
     "output_type": "stream",
     "text": [
      "<class 'pandas.core.frame.DataFrame'>\n",
      "RangeIndex: 344911 entries, 0 to 344910\n",
      "Data columns (total 67 columns):\n",
      " #   Column                                      Non-Null Count   Dtype  \n",
      "---  ------                                      --------------   -----  \n",
      " 0   iso_code                                    344911 non-null  object \n",
      " 1   continent                                   328489 non-null  object \n",
      " 2   location                                    344911 non-null  object \n",
      " 3   date                                        344911 non-null  object \n",
      " 4   total_cases                                 306964 non-null  float64\n",
      " 5   new_cases                                   335338 non-null  float64\n",
      " 6   new_cases_smoothed                          334079 non-null  float64\n",
      " 7   total_deaths                                285503 non-null  float64\n",
      " 8   new_deaths                                  335378 non-null  float64\n",
      " 9   new_deaths_smoothed                         334148 non-null  float64\n",
      " 10  total_cases_per_million                     306964 non-null  float64\n",
      " 11  new_cases_per_million                       335338 non-null  float64\n",
      " 12  new_cases_smoothed_per_million              334079 non-null  float64\n",
      " 13  total_deaths_per_million                    285503 non-null  float64\n",
      " 14  new_deaths_per_million                      335378 non-null  float64\n",
      " 15  new_deaths_smoothed_per_million             334148 non-null  float64\n",
      " 16  reproduction_rate                           184817 non-null  float64\n",
      " 17  icu_patients                                37462 non-null   float64\n",
      " 18  icu_patients_per_million                    37462 non-null   float64\n",
      " 19  hosp_patients                               38667 non-null   float64\n",
      " 20  hosp_patients_per_million                   38667 non-null   float64\n",
      " 21  weekly_icu_admissions                       10138 non-null   float64\n",
      " 22  weekly_icu_admissions_per_million           10138 non-null   float64\n",
      " 23  weekly_hosp_admissions                      23102 non-null   float64\n",
      " 24  weekly_hosp_admissions_per_million          23102 non-null   float64\n",
      " 25  total_tests                                 79387 non-null   float64\n",
      " 26  new_tests                                   75403 non-null   float64\n",
      " 27  total_tests_per_thousand                    79387 non-null   float64\n",
      " 28  new_tests_per_thousand                      75403 non-null   float64\n",
      " 29  new_tests_smoothed                          103965 non-null  float64\n",
      " 30  new_tests_smoothed_per_thousand             103965 non-null  float64\n",
      " 31  positive_rate                               95927 non-null   float64\n",
      " 32  tests_per_case                              94348 non-null   float64\n",
      " 33  tests_units                                 106788 non-null  object \n",
      " 34  total_vaccinations                          78876 non-null   float64\n",
      " 35  people_vaccinated                           75502 non-null   float64\n",
      " 36  people_fully_vaccinated                     72147 non-null   float64\n",
      " 37  total_boosters                              47162 non-null   float64\n",
      " 38  new_vaccinations                            64951 non-null   float64\n",
      " 39  new_vaccinations_smoothed                   179171 non-null  float64\n",
      " 40  total_vaccinations_per_hundred              78876 non-null   float64\n",
      " 41  people_vaccinated_per_hundred               75502 non-null   float64\n",
      " 42  people_fully_vaccinated_per_hundred         72147 non-null   float64\n",
      " 43  total_boosters_per_hundred                  47162 non-null   float64\n",
      " 44  new_vaccinations_smoothed_per_million       179171 non-null  float64\n",
      " 45  new_people_vaccinated_smoothed              178822 non-null  float64\n",
      " 46  new_people_vaccinated_smoothed_per_hundred  178822 non-null  float64\n",
      " 47  stringency_index                            197651 non-null  float64\n",
      " 48  population_density                          292738 non-null  float64\n",
      " 49  median_age                                  272263 non-null  float64\n",
      " 50  aged_65_older                               262730 non-null  float64\n",
      " 51  aged_70_older                               269535 non-null  float64\n",
      " 52  gdp_per_capita                              266822 non-null  float64\n",
      " 53  extreme_poverty                             171945 non-null  float64\n",
      " 54  cardiovasc_death_rate                       267430 non-null  float64\n",
      " 55  diabetes_prevalence                         281031 non-null  float64\n",
      " 56  female_smokers                              200610 non-null  float64\n",
      " 57  male_smokers                                197878 non-null  float64\n",
      " 58  handwashing_facilities                      130970 non-null  float64\n",
      " 59  hospital_beds_per_thousand                  236074 non-null  float64\n",
      " 60  life_expectancy                             317275 non-null  float64\n",
      " 61  human_development_index                     259207 non-null  float64\n",
      " 62  population                                  344911 non-null  float64\n",
      " 63  excess_mortality_cumulative_absolute        11944 non-null   float64\n",
      " 64  excess_mortality_cumulative                 11944 non-null   float64\n",
      " 65  excess_mortality                            11944 non-null   float64\n",
      " 66  excess_mortality_cumulative_per_million     11944 non-null   float64\n",
      "dtypes: float64(62), object(5)\n",
      "memory usage: 176.3+ MB\n"
     ]
    }
   ],
   "source": [
    "df.info()"
   ]
  },
  {
   "cell_type": "code",
   "execution_count": null,
   "id": "b4f4fe26",
   "metadata": {},
   "outputs": [],
   "source": []
  }
 ],
 "metadata": {
  "kernelspec": {
   "display_name": "Python 3 (ipykernel)",
   "language": "python",
   "name": "python3"
  },
  "language_info": {
   "codemirror_mode": {
    "name": "ipython",
    "version": 3
   },
   "file_extension": ".py",
   "mimetype": "text/x-python",
   "name": "python",
   "nbconvert_exporter": "python",
   "pygments_lexer": "ipython3",
   "version": "3.8.17"
  }
 },
 "nbformat": 4,
 "nbformat_minor": 5
}
