{
 "cells": [
  {
   "cell_type": "markdown",
   "id": "19c9cba3",
   "metadata": {},
   "source": [
    "# Direkt mit Pandas Daten aus dem Netz lesen (Lösung)"
   ]
  },
  {
   "cell_type": "code",
   "execution_count": 2,
   "id": "bd8ee352",
   "metadata": {},
   "outputs": [],
   "source": [
    "import pandas as pd"
   ]
  },
  {
   "cell_type": "markdown",
   "id": "04aee578",
   "metadata": {},
   "source": [
    "Schauen wir mal auf Github nach. Wir müssen dafür die Raw Function nutzen. Google-Suche: \"covid data api our world in data\". "
   ]
  },
  {
   "cell_type": "code",
   "execution_count": 3,
   "id": "88de9d34",
   "metadata": {},
   "outputs": [],
   "source": [
    "df = pd.read_csv(\"https://raw.githubusercontent.com/owid/covid-19-data/master/public/data/owid-covid-data.csv\")"
   ]
  },
  {
   "cell_type": "code",
   "execution_count": 4,
   "id": "6aad3028",
   "metadata": {},
   "outputs": [
    {
     "name": "stdout",
     "output_type": "stream",
     "text": [
      "<class 'pandas.core.frame.DataFrame'>\n",
      "RangeIndex: 348538 entries, 0 to 348537\n",
      "Data columns (total 67 columns):\n",
      " #   Column                                      Non-Null Count   Dtype  \n",
      "---  ------                                      --------------   -----  \n",
      " 0   iso_code                                    348538 non-null  object \n",
      " 1   continent                                   331967 non-null  object \n",
      " 2   location                                    348538 non-null  object \n",
      " 3   date                                        348538 non-null  object \n",
      " 4   total_cases                                 310624 non-null  float64\n",
      " 5   new_cases                                   339010 non-null  float64\n",
      " 6   new_cases_smoothed                          337751 non-null  float64\n",
      " 7   total_deaths                                289073 non-null  float64\n",
      " 8   new_deaths                                  339052 non-null  float64\n",
      " 9   new_deaths_smoothed                         337822 non-null  float64\n",
      " 10  total_cases_per_million                     310624 non-null  float64\n",
      " 11  new_cases_per_million                       339010 non-null  float64\n",
      " 12  new_cases_smoothed_per_million              337751 non-null  float64\n",
      " 13  total_deaths_per_million                    289073 non-null  float64\n",
      " 14  new_deaths_per_million                      339052 non-null  float64\n",
      " 15  new_deaths_smoothed_per_million             337822 non-null  float64\n",
      " 16  reproduction_rate                           184817 non-null  float64\n",
      " 17  icu_patients                                37564 non-null   float64\n",
      " 18  icu_patients_per_million                    37564 non-null   float64\n",
      " 19  hosp_patients                               38831 non-null   float64\n",
      " 20  hosp_patients_per_million                   38831 non-null   float64\n",
      " 21  weekly_icu_admissions                       10184 non-null   float64\n",
      " 22  weekly_icu_admissions_per_million           10184 non-null   float64\n",
      " 23  weekly_hosp_admissions                      23197 non-null   float64\n",
      " 24  weekly_hosp_admissions_per_million          23197 non-null   float64\n",
      " 25  total_tests                                 79387 non-null   float64\n",
      " 26  new_tests                                   75403 non-null   float64\n",
      " 27  total_tests_per_thousand                    79387 non-null   float64\n",
      " 28  new_tests_per_thousand                      75403 non-null   float64\n",
      " 29  new_tests_smoothed                          103965 non-null  float64\n",
      " 30  new_tests_smoothed_per_thousand             103965 non-null  float64\n",
      " 31  positive_rate                               95927 non-null   float64\n",
      " 32  tests_per_case                              94348 non-null   float64\n",
      " 33  tests_units                                 106788 non-null  object \n",
      " 34  total_vaccinations                          79114 non-null   float64\n",
      " 35  people_vaccinated                           75727 non-null   float64\n",
      " 36  people_fully_vaccinated                     72382 non-null   float64\n",
      " 37  total_boosters                              47381 non-null   float64\n",
      " 38  new_vaccinations                            65170 non-null   float64\n",
      " 39  new_vaccinations_smoothed                   180296 non-null  float64\n",
      " 40  total_vaccinations_per_hundred              79114 non-null   float64\n",
      " 41  people_vaccinated_per_hundred               75727 non-null   float64\n",
      " 42  people_fully_vaccinated_per_hundred         72382 non-null   float64\n",
      " 43  total_boosters_per_hundred                  47381 non-null   float64\n",
      " 44  new_vaccinations_smoothed_per_million       180296 non-null  float64\n",
      " 45  new_people_vaccinated_smoothed              180082 non-null  float64\n",
      " 46  new_people_vaccinated_smoothed_per_hundred  180082 non-null  float64\n",
      " 47  stringency_index                            197651 non-null  float64\n",
      " 48  population_density                          295863 non-null  float64\n",
      " 49  median_age                                  275148 non-null  float64\n",
      " 50  aged_65_older                               265525 non-null  float64\n",
      " 51  aged_70_older                               272390 non-null  float64\n",
      " 52  gdp_per_capita                              269662 non-null  float64\n",
      " 53  extreme_poverty                             173779 non-null  float64\n",
      " 54  cardiovasc_death_rate                       270284 non-null  float64\n",
      " 55  diabetes_prevalence                         284036 non-null  float64\n",
      " 56  female_smokers                              202744 non-null  float64\n",
      " 57  male_smokers                                199986 non-null  float64\n",
      " 58  handwashing_facilities                      132392 non-null  float64\n",
      " 59  hospital_beds_per_thousand                  238598 non-null  float64\n",
      " 60  life_expectancy                             320655 non-null  float64\n",
      " 61  human_development_index                     261971 non-null  float64\n",
      " 62  population                                  348538 non-null  float64\n",
      " 63  excess_mortality_cumulative_absolute        12039 non-null   float64\n",
      " 64  excess_mortality_cumulative                 12039 non-null   float64\n",
      " 65  excess_mortality                            12039 non-null   float64\n",
      " 66  excess_mortality_cumulative_per_million     12039 non-null   float64\n",
      "dtypes: float64(62), object(5)\n",
      "memory usage: 178.2+ MB\n"
     ]
    }
   ],
   "source": [
    "df.info()"
   ]
  },
  {
   "cell_type": "code",
   "execution_count": null,
   "id": "b4f4fe26",
   "metadata": {},
   "outputs": [],
   "source": []
  }
 ],
 "metadata": {
  "kernelspec": {
   "display_name": "Python 3 (ipykernel)",
   "language": "python",
   "name": "python3"
  },
  "language_info": {
   "codemirror_mode": {
    "name": "ipython",
    "version": 3
   },
   "file_extension": ".py",
   "mimetype": "text/x-python",
   "name": "python",
   "nbconvert_exporter": "python",
   "pygments_lexer": "ipython3",
   "version": "3.8.17"
  }
 },
 "nbformat": 4,
 "nbformat_minor": 5
}
