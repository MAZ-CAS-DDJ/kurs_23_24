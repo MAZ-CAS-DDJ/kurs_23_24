{
 "cells": [
  {
   "cell_type": "markdown",
   "id": "65dfdd7f",
   "metadata": {},
   "source": [
    "# Übung mit lokalek Json-Daten"
   ]
  },
  {
   "cell_type": "markdown",
   "id": "5481fbd6",
   "metadata": {},
   "source": [
    "Erstelle eine Liste mit den 10 stärksten Erdbeben in den verfügbaren Daten zusammen. Die Liste sollte neben der Stärke weitere Angaben umfassen: Ort (in Text), Latitude, Longitude, Tiefe. (Hint: Wir können uns nicht auf Spezialabfragen aus der API verlassen, weil wir hier die Daten ja schon heruntergeladen haben. Das muss jetzt alles selber gecoded werden)"
   ]
  },
  {
   "cell_type": "code",
   "execution_count": 2,
   "id": "fb9499d7",
   "metadata": {},
   "outputs": [],
   "source": [
    "# Unsere Imports, um das Resultat abzuspeichern brauchen wir Pandas\n",
    "import pandas as pd\n",
    "# Um das Ganze einzulesen, brauchen wir das Json Module\n",
    "import json"
   ]
  },
  {
   "cell_type": "code",
   "execution_count": 3,
   "id": "2d43772d",
   "metadata": {},
   "outputs": [],
   "source": [
    "# Hier brauchen wir den Pfade, in diesem Fall einfach der Name. Kann aber natürlich mit \"/\" in unterordner liegen. Mit \n",
    "json_file_path = 'earthquakes.json'\n",
    "\n",
    "with open(json_file_path, 'r') as json_file:\n",
    "    data = json.load(json_file)"
   ]
  },
  {
   "cell_type": "code",
   "execution_count": 4,
   "id": "51e99496",
   "metadata": {},
   "outputs": [
    {
     "name": "stdout",
     "output_type": "stream",
     "text": [
      "Magnitude: 6, Location: Izu Islands, Japan region, Latitude: 29.9189, Longitude: 140.0172, Depth: 10\n",
      "Magnitude: 5.8, Location: Izu Islands, Japan region, Latitude: 29.9105, Longitude: 140.0535, Depth: 10\n",
      "Magnitude: 5.7, Location: 40 km NE of Dipayal, Nepal, Latitude: 29.4987, Longitude: 81.253, Depth: 20.134\n",
      "Magnitude: 5.7, Location: 158 km E of Kokopo, Papua New Guinea, Latitude: -4.5206, Longitude: 153.6892, Depth: 86\n",
      "Magnitude: 5.4, Location: 24 km S of Goālpāra, India, Latitude: 25.9591, Longitude: 90.6152, Depth: 10\n",
      "Magnitude: 5.3, Location: Bonin Islands, Japan region, Latitude: 28.3729, Longitude: 138.7811, Depth: 517.01\n",
      "Magnitude: 5.3, Location: 48 km SSE of Karakenja, Tajikistan, Latitude: 38.8167, Longitude: 71.6851, Depth: 13.617\n",
      "Magnitude: 5.3, Location: 12 km S of Cicurug, Indonesia, Latitude: -6.8967, Longitude: 106.7908, Depth: 109.859\n",
      "Magnitude: 5.2, Location: Izu Islands, Japan region, Latitude: 29.8376, Longitude: 140.1214, Depth: 10\n",
      "Magnitude: 5.2, Location: None, Latitude: -57.0756, Longitude: -30.1204, Depth: 10\n"
     ]
    }
   ],
   "source": [
    "# Nehmen wir aus den Json Datan nur das, was wir brauchen\n",
    "earthquakes = data['features']\n",
    "\n",
    "# Sortieren wir alle Erdbeben zuerst\n",
    "sorted_earthquakes = sorted(earthquakes, key=lambda x: x['properties']['mag'], reverse=True)\n",
    "\n",
    "# Berücksichtigen wir nur die ersten 10 in der Liste\n",
    "top_10_earthquakes = sorted_earthquakes[:10]\n",
    "\n",
    "# Nur wir die relevanten informationn heraus.\n",
    "for quake in top_10_earthquakes:\n",
    "    magnitude = quake['properties']['mag']\n",
    "    location = quake['properties']['place']\n",
    "    latitude = quake['geometry']['coordinates'][1]\n",
    "    longitude = quake['geometry']['coordinates'][0]\n",
    "    depth = quake['geometry']['coordinates'][2]\n",
    "\n",
    "    print(f\"Magnitude: {magnitude}, Location: {location}, Latitude: {latitude}, Longitude: {longitude}, Depth: {depth}\")"
   ]
  },
  {
   "cell_type": "code",
   "execution_count": 5,
   "id": "1d43a0e0",
   "metadata": {},
   "outputs": [],
   "source": [
    "#Speichern wir das ab, zeigen es nicht nur an:\n",
    "final_list = []\n",
    "for quake in top_10_earthquakes:\n",
    "    magnitude = quake['properties']['mag']\n",
    "    location = quake['properties']['place']\n",
    "    latitude = quake['geometry']['coordinates'][1]\n",
    "    longitude = quake['geometry']['coordinates'][0]\n",
    "    depth = quake['geometry']['coordinates'][2]\n",
    "    \n",
    "    mini_dict = {\"Magnitude\": magnitude, \n",
    "                 \"Location\": location, \n",
    "                 \"Latitude\": latitude, \n",
    "                 \"Longitude\": longitude, \n",
    "                 \"Depth\": depth}\n",
    "    \n",
    "    final_list.append(mini_dict)\n",
    "    "
   ]
  },
  {
   "cell_type": "code",
   "execution_count": 7,
   "id": "c9109e3d",
   "metadata": {},
   "outputs": [],
   "source": [
    "pd.DataFrame(final_list).to_csv('earthquake_topten.csv')"
   ]
  },
  {
   "cell_type": "code",
   "execution_count": null,
   "id": "d7645b7f",
   "metadata": {},
   "outputs": [],
   "source": []
  }
 ],
 "metadata": {
  "kernelspec": {
   "display_name": "Python 3 (ipykernel)",
   "language": "python",
   "name": "python3"
  },
  "language_info": {
   "codemirror_mode": {
    "name": "ipython",
    "version": 3
   },
   "file_extension": ".py",
   "mimetype": "text/x-python",
   "name": "python",
   "nbconvert_exporter": "python",
   "pygments_lexer": "ipython3",
   "version": "3.8.17"
  }
 },
 "nbformat": 4,
 "nbformat_minor": 5
}
