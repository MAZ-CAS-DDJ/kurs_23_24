{
 "cells": [
  {
   "cell_type": "code",
   "execution_count": null,
   "id": "1bc1f571",
   "metadata": {},
   "outputs": [],
   "source": [
    "import pandas as pd"
   ]
  },
  {
   "cell_type": "markdown",
   "id": "63a70b80",
   "metadata": {},
   "source": [
    "Ein Beispiel, um die Funktion **merge** besser zu verstehen."
   ]
  },
  {
   "cell_type": "markdown",
   "id": "980bf1d7",
   "metadata": {},
   "source": [
    "### Daten laden"
   ]
  },
  {
   "cell_type": "markdown",
   "id": "f7ec57e3",
   "metadata": {},
   "source": [
    "- eine Liste von Studenten"
   ]
  },
  {
   "cell_type": "code",
   "execution_count": null,
   "id": "accc0ffc",
   "metadata": {},
   "outputs": [],
   "source": [
    "df_students = pd.read_excel(\"dataprojects/merge/students.xlsx\")"
   ]
  },
  {
   "cell_type": "code",
   "execution_count": null,
   "id": "d2c09567",
   "metadata": {},
   "outputs": [],
   "source": [
    "df_students"
   ]
  },
  {
   "cell_type": "markdown",
   "id": "8df63449",
   "metadata": {},
   "source": [
    "- eine Liste von datenjournalismus-Projekten"
   ]
  },
  {
   "cell_type": "code",
   "execution_count": null,
   "id": "b343fa66",
   "metadata": {},
   "outputs": [],
   "source": [
    "df_projects = pd.read_excel(\"dataprojects/merge/ddj-projects.xlsx\")"
   ]
  },
  {
   "cell_type": "code",
   "execution_count": null,
   "id": "1869c40f",
   "metadata": {},
   "outputs": [],
   "source": [
    "df_projects"
   ]
  },
  {
   "cell_type": "markdown",
   "id": "4130f4e5",
   "metadata": {},
   "source": [
    "## Merge"
   ]
  },
  {
   "cell_type": "markdown",
   "id": "b4d791af",
   "metadata": {},
   "source": [
    "Syntax:\n",
    "\n",
    "`df1.merge()` => das \"linke Dataframe\"\n",
    "- `df2=` => das \"rechte\" Dataframe\n",
    "- `on=` => auf welcher Spalte gematcht wird\n",
    "-`how` => was ist im Endresultat enthalten? (\"left\", \"right\", \"inner\", \"outer\")\n",
    "\n",
    "Referenz: https://pandas.pydata.org/docs/reference/api/pandas.DataFrame.merge.html"
   ]
  },
  {
   "cell_type": "markdown",
   "id": "d3067dc8",
   "metadata": {},
   "source": [
    "### 1. Damit der merge klappt (on)"
   ]
  },
  {
   "cell_type": "markdown",
   "id": "61f953ee",
   "metadata": {},
   "source": [
    "Das funktioniert nicht:"
   ]
  },
  {
   "cell_type": "code",
   "execution_count": null,
   "id": "5458091d",
   "metadata": {},
   "outputs": [],
   "source": [
    "df_students.merge(df_projects)"
   ]
  },
  {
   "cell_type": "code",
   "execution_count": null,
   "id": "05faca5e",
   "metadata": {},
   "outputs": [],
   "source": [
    "df_students.merge(df_projects, on=\"id\")"
   ]
  },
  {
   "cell_type": "markdown",
   "id": "dada4683",
   "metadata": {},
   "source": [
    "Besser:"
   ]
  },
  {
   "cell_type": "code",
   "execution_count": null,
   "id": "1d6867f4",
   "metadata": {},
   "outputs": [],
   "source": [
    "df_students.merge(df_projects, left_on=\"id\", right_on=\"student_id\")"
   ]
  },
  {
   "cell_type": "markdown",
   "id": "0ea63f03",
   "metadata": {},
   "source": [
    "### 2. Welche Daten sollen mitgenommen werden? (how)"
   ]
  },
  {
   "cell_type": "markdown",
   "id": "2e54992f",
   "metadata": {},
   "source": [
    "Default ist: `how=\"inner\"`"
   ]
  },
  {
   "cell_type": "code",
   "execution_count": null,
   "id": "384a814a",
   "metadata": {},
   "outputs": [],
   "source": [
    "df_students.merge(df_projects, left_on=\"id\", right_on=\"student_id\", how=\"inner\")"
   ]
  },
  {
   "cell_type": "markdown",
   "id": "10a2f15c",
   "metadata": {},
   "source": [
    "Mit `how=\"outer\"`"
   ]
  },
  {
   "cell_type": "code",
   "execution_count": null,
   "id": "585540ec",
   "metadata": {},
   "outputs": [],
   "source": [
    "df_students.merge(df_projects, left_on=\"id\", right_on=\"student_id\", how=\"outer\")"
   ]
  },
  {
   "cell_type": "code",
   "execution_count": null,
   "id": "44699116",
   "metadata": {},
   "outputs": [],
   "source": []
  }
 ],
 "metadata": {
  "kernelspec": {
   "display_name": "Python 3 (ipykernel)",
   "language": "python",
   "name": "python3"
  },
  "language_info": {
   "codemirror_mode": {
    "name": "ipython",
    "version": 3
   },
   "file_extension": ".py",
   "mimetype": "text/x-python",
   "name": "python",
   "nbconvert_exporter": "python",
   "pygments_lexer": "ipython3",
   "version": "3.10.6"
  }
 },
 "nbformat": 4,
 "nbformat_minor": 5
}
