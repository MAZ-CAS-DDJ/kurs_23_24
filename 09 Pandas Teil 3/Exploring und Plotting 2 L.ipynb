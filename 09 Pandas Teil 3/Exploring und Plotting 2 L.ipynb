{
 "cells": [
  {
   "cell_type": "markdown",
   "metadata": {},
   "source": [
    "# Exploring und Plotting 2"
   ]
  },
  {
   "cell_type": "markdown",
   "metadata": {},
   "source": [
    "**Inhalt:** Selbständige Übung\n",
    "\n",
    "**Nötige Skills:** Time Series\n",
    "\n",
    "**Lernziele:**\n",
    "- Selbständig Daten explorieren und Storyideen testen"
   ]
  },
  {
   "cell_type": "markdown",
   "metadata": {},
   "source": [
    "# Das Beispiel"
   ]
  },
  {
   "cell_type": "markdown",
   "metadata": {},
   "source": [
    "Börsenkurse aller SMI-Firmen an der Schweizer Börse (Sep 2012 bis Sep 2023)\n",
    "\n",
    "Die Daten stammen von dieser Quelle: https://finance.yahoo.com/ und wurden zu einem File kompiliert.\n",
    "\n",
    "Daten runterladen: `dataprojects/Boersenkurse/Börsenkurse runterladen.ipnyb`\n",
    "\n",
    "Kompilierungsfile: `dataprojects/Boersenkurse/Börsenkurse kompilieren.ipnyb`\n",
    "\n",
    "Kompilierte Daten: `dataprojects/Boersenkurse/smi_members.csv`"
   ]
  },
  {
   "cell_type": "markdown",
   "metadata": {},
   "source": [
    "## Vorbereitung"
   ]
  },
  {
   "cell_type": "markdown",
   "metadata": {},
   "source": [
    "Entscheiden Sie selbst, welche Libraries Sie brauchen!"
   ]
  },
  {
   "cell_type": "code",
   "execution_count": 28,
   "metadata": {},
   "outputs": [],
   "source": [
    "import pandas as pd"
   ]
  },
  {
   "cell_type": "code",
   "execution_count": null,
   "metadata": {},
   "outputs": [],
   "source": []
  },
  {
   "cell_type": "markdown",
   "metadata": {},
   "source": [
    "## Datenfile laden"
   ]
  },
  {
   "cell_type": "markdown",
   "metadata": {},
   "source": [
    "Wie ist die Datei strukturiert? Was müssen wir beim Laden beachten?\n",
    "\n",
    "**Tipp:** `index_col=0` verwenden."
   ]
  },
  {
   "cell_type": "code",
   "execution_count": 29,
   "metadata": {},
   "outputs": [],
   "source": [
    "df = pd.read_csv('dataprojects/Boersenkurse/smi_members.csv', index_col=0)"
   ]
  },
  {
   "cell_type": "code",
   "execution_count": 30,
   "metadata": {},
   "outputs": [
    {
     "data": {
      "text/html": [
       "<div>\n",
       "<style scoped>\n",
       "    .dataframe tbody tr th:only-of-type {\n",
       "        vertical-align: middle;\n",
       "    }\n",
       "\n",
       "    .dataframe tbody tr th {\n",
       "        vertical-align: top;\n",
       "    }\n",
       "\n",
       "    .dataframe thead th {\n",
       "        text-align: right;\n",
       "    }\n",
       "</style>\n",
       "<table border=\"1\" class=\"dataframe\">\n",
       "  <thead>\n",
       "    <tr style=\"text-align: right;\">\n",
       "      <th></th>\n",
       "      <th>ABB LTD</th>\n",
       "      <th>ALCON</th>\n",
       "      <th>GEBERIT</th>\n",
       "      <th>GIVAUDAN</th>\n",
       "      <th>HOLCIM</th>\n",
       "      <th>KUEHNE NAEL</th>\n",
       "      <th>LOGITECH</th>\n",
       "      <th>LONZA</th>\n",
       "      <th>NESTLE</th>\n",
       "      <th>NOVARTIS</th>\n",
       "      <th>PARTNERS GROUP</th>\n",
       "      <th>RICHEMONT</th>\n",
       "      <th>ROCHE</th>\n",
       "      <th>SIKA</th>\n",
       "      <th>SONOVA</th>\n",
       "      <th>SWISS LIFE HOLDING</th>\n",
       "      <th>SWISS RE</th>\n",
       "      <th>SWISSCOM</th>\n",
       "      <th>UBS GROUP</th>\n",
       "      <th>ZURICH INSURANCE</th>\n",
       "    </tr>\n",
       "  </thead>\n",
       "  <tbody>\n",
       "    <tr>\n",
       "      <th>2012-09-03</th>\n",
       "      <td>16.709999</td>\n",
       "      <td>NaN</td>\n",
       "      <td>204.100006</td>\n",
       "      <td>907.0</td>\n",
       "      <td>56.095238</td>\n",
       "      <td>109.599998</td>\n",
       "      <td>8.850</td>\n",
       "      <td>40.840107</td>\n",
       "      <td>59.950001</td>\n",
       "      <td>49.945457</td>\n",
       "      <td>183.300003</td>\n",
       "      <td>60.000000</td>\n",
       "      <td>174.800003</td>\n",
       "      <td>30.766666</td>\n",
       "      <td>89.056259</td>\n",
       "      <td>109.099998</td>\n",
       "      <td>60.299999</td>\n",
       "      <td>385.200012</td>\n",
       "      <td>10.73</td>\n",
       "      <td>229.399994</td>\n",
       "    </tr>\n",
       "    <tr>\n",
       "      <th>2012-09-04</th>\n",
       "      <td>16.480000</td>\n",
       "      <td>NaN</td>\n",
       "      <td>200.199997</td>\n",
       "      <td>896.0</td>\n",
       "      <td>55.333332</td>\n",
       "      <td>107.400002</td>\n",
       "      <td>9.095</td>\n",
       "      <td>40.376961</td>\n",
       "      <td>59.150002</td>\n",
       "      <td>49.459263</td>\n",
       "      <td>189.000000</td>\n",
       "      <td>59.150002</td>\n",
       "      <td>173.000000</td>\n",
       "      <td>30.183332</td>\n",
       "      <td>88.708580</td>\n",
       "      <td>109.300003</td>\n",
       "      <td>60.150002</td>\n",
       "      <td>385.799988</td>\n",
       "      <td>10.56</td>\n",
       "      <td>228.100006</td>\n",
       "    </tr>\n",
       "    <tr>\n",
       "      <th>2012-09-05</th>\n",
       "      <td>16.459999</td>\n",
       "      <td>NaN</td>\n",
       "      <td>201.899994</td>\n",
       "      <td>902.0</td>\n",
       "      <td>55.523808</td>\n",
       "      <td>105.900002</td>\n",
       "      <td>8.850</td>\n",
       "      <td>40.108337</td>\n",
       "      <td>59.750000</td>\n",
       "      <td>50.078056</td>\n",
       "      <td>189.000000</td>\n",
       "      <td>60.049999</td>\n",
       "      <td>174.600006</td>\n",
       "      <td>30.333332</td>\n",
       "      <td>91.837715</td>\n",
       "      <td>109.000000</td>\n",
       "      <td>60.150002</td>\n",
       "      <td>385.799988</td>\n",
       "      <td>10.88</td>\n",
       "      <td>229.600006</td>\n",
       "    </tr>\n",
       "    <tr>\n",
       "      <th>2012-09-06</th>\n",
       "      <td>17.120001</td>\n",
       "      <td>NaN</td>\n",
       "      <td>203.699997</td>\n",
       "      <td>908.5</td>\n",
       "      <td>56.904762</td>\n",
       "      <td>108.500000</td>\n",
       "      <td>8.975</td>\n",
       "      <td>41.312515</td>\n",
       "      <td>60.150002</td>\n",
       "      <td>50.475853</td>\n",
       "      <td>191.199997</td>\n",
       "      <td>61.150002</td>\n",
       "      <td>177.600006</td>\n",
       "      <td>30.866667</td>\n",
       "      <td>95.314537</td>\n",
       "      <td>110.699997</td>\n",
       "      <td>61.349998</td>\n",
       "      <td>390.299988</td>\n",
       "      <td>11.38</td>\n",
       "      <td>233.300003</td>\n",
       "    </tr>\n",
       "    <tr>\n",
       "      <th>2012-09-07</th>\n",
       "      <td>17.660000</td>\n",
       "      <td>NaN</td>\n",
       "      <td>203.199997</td>\n",
       "      <td>900.5</td>\n",
       "      <td>58.523808</td>\n",
       "      <td>110.000000</td>\n",
       "      <td>9.120</td>\n",
       "      <td>41.747871</td>\n",
       "      <td>59.250000</td>\n",
       "      <td>50.033855</td>\n",
       "      <td>194.500000</td>\n",
       "      <td>63.250000</td>\n",
       "      <td>177.899994</td>\n",
       "      <td>31.400000</td>\n",
       "      <td>95.960236</td>\n",
       "      <td>114.000000</td>\n",
       "      <td>61.500000</td>\n",
       "      <td>385.299988</td>\n",
       "      <td>11.66</td>\n",
       "      <td>235.000000</td>\n",
       "    </tr>\n",
       "  </tbody>\n",
       "</table>\n",
       "</div>"
      ],
      "text/plain": [
       "              ABB LTD  ALCON     GEBERIT  GIVAUDAN     HOLCIM  KUEHNE NAEL  \\\n",
       "2012-09-03  16.709999    NaN  204.100006     907.0  56.095238   109.599998   \n",
       "2012-09-04  16.480000    NaN  200.199997     896.0  55.333332   107.400002   \n",
       "2012-09-05  16.459999    NaN  201.899994     902.0  55.523808   105.900002   \n",
       "2012-09-06  17.120001    NaN  203.699997     908.5  56.904762   108.500000   \n",
       "2012-09-07  17.660000    NaN  203.199997     900.5  58.523808   110.000000   \n",
       "\n",
       "            LOGITECH      LONZA     NESTLE   NOVARTIS  PARTNERS GROUP  \\\n",
       "2012-09-03     8.850  40.840107  59.950001  49.945457      183.300003   \n",
       "2012-09-04     9.095  40.376961  59.150002  49.459263      189.000000   \n",
       "2012-09-05     8.850  40.108337  59.750000  50.078056      189.000000   \n",
       "2012-09-06     8.975  41.312515  60.150002  50.475853      191.199997   \n",
       "2012-09-07     9.120  41.747871  59.250000  50.033855      194.500000   \n",
       "\n",
       "            RICHEMONT       ROCHE       SIKA     SONOVA  SWISS LIFE HOLDING  \\\n",
       "2012-09-03  60.000000  174.800003  30.766666  89.056259          109.099998   \n",
       "2012-09-04  59.150002  173.000000  30.183332  88.708580          109.300003   \n",
       "2012-09-05  60.049999  174.600006  30.333332  91.837715          109.000000   \n",
       "2012-09-06  61.150002  177.600006  30.866667  95.314537          110.699997   \n",
       "2012-09-07  63.250000  177.899994  31.400000  95.960236          114.000000   \n",
       "\n",
       "             SWISS RE    SWISSCOM  UBS GROUP  ZURICH INSURANCE  \n",
       "2012-09-03  60.299999  385.200012      10.73        229.399994  \n",
       "2012-09-04  60.150002  385.799988      10.56        228.100006  \n",
       "2012-09-05  60.150002  385.799988      10.88        229.600006  \n",
       "2012-09-06  61.349998  390.299988      11.38        233.300003  \n",
       "2012-09-07  61.500000  385.299988      11.66        235.000000  "
      ]
     },
     "execution_count": 30,
     "metadata": {},
     "output_type": "execute_result"
    }
   ],
   "source": [
    "df.head()"
   ]
  },
  {
   "cell_type": "code",
   "execution_count": 31,
   "metadata": {},
   "outputs": [
    {
     "data": {
      "text/html": [
       "<div>\n",
       "<style scoped>\n",
       "    .dataframe tbody tr th:only-of-type {\n",
       "        vertical-align: middle;\n",
       "    }\n",
       "\n",
       "    .dataframe tbody tr th {\n",
       "        vertical-align: top;\n",
       "    }\n",
       "\n",
       "    .dataframe thead th {\n",
       "        text-align: right;\n",
       "    }\n",
       "</style>\n",
       "<table border=\"1\" class=\"dataframe\">\n",
       "  <thead>\n",
       "    <tr style=\"text-align: right;\">\n",
       "      <th></th>\n",
       "      <th>ABB LTD</th>\n",
       "      <th>ALCON</th>\n",
       "      <th>GEBERIT</th>\n",
       "      <th>GIVAUDAN</th>\n",
       "      <th>HOLCIM</th>\n",
       "      <th>KUEHNE NAEL</th>\n",
       "      <th>LOGITECH</th>\n",
       "      <th>LONZA</th>\n",
       "      <th>NESTLE</th>\n",
       "      <th>NOVARTIS</th>\n",
       "      <th>PARTNERS GROUP</th>\n",
       "      <th>RICHEMONT</th>\n",
       "      <th>ROCHE</th>\n",
       "      <th>SIKA</th>\n",
       "      <th>SONOVA</th>\n",
       "      <th>SWISS LIFE HOLDING</th>\n",
       "      <th>SWISS RE</th>\n",
       "      <th>SWISSCOM</th>\n",
       "      <th>UBS GROUP</th>\n",
       "      <th>ZURICH INSURANCE</th>\n",
       "    </tr>\n",
       "  </thead>\n",
       "  <tbody>\n",
       "    <tr>\n",
       "      <th>2023-09-05</th>\n",
       "      <td>33.020000</td>\n",
       "      <td>72.739998</td>\n",
       "      <td>450.399994</td>\n",
       "      <td>2894.0</td>\n",
       "      <td>56.919998</td>\n",
       "      <td>255.699997</td>\n",
       "      <td>63.060001</td>\n",
       "      <td>494.399994</td>\n",
       "      <td>103.739998</td>\n",
       "      <td>87.790001</td>\n",
       "      <td>1028.0</td>\n",
       "      <td>123.449997</td>\n",
       "      <td>253.899994</td>\n",
       "      <td>241.800003</td>\n",
       "      <td>228.600006</td>\n",
       "      <td>553.799988</td>\n",
       "      <td>85.800003</td>\n",
       "      <td>529.200012</td>\n",
       "      <td>23.670000</td>\n",
       "      <td>413.500000</td>\n",
       "    </tr>\n",
       "    <tr>\n",
       "      <th>2023-09-06</th>\n",
       "      <td>33.480000</td>\n",
       "      <td>73.279999</td>\n",
       "      <td>450.100006</td>\n",
       "      <td>2927.0</td>\n",
       "      <td>57.119999</td>\n",
       "      <td>259.100006</td>\n",
       "      <td>64.080002</td>\n",
       "      <td>496.100006</td>\n",
       "      <td>104.199997</td>\n",
       "      <td>87.209999</td>\n",
       "      <td>1021.0</td>\n",
       "      <td>117.000000</td>\n",
       "      <td>252.399994</td>\n",
       "      <td>245.500000</td>\n",
       "      <td>228.000000</td>\n",
       "      <td>565.599976</td>\n",
       "      <td>86.800003</td>\n",
       "      <td>533.799988</td>\n",
       "      <td>23.129999</td>\n",
       "      <td>413.500000</td>\n",
       "    </tr>\n",
       "    <tr>\n",
       "      <th>2023-09-07</th>\n",
       "      <td>33.349998</td>\n",
       "      <td>73.820000</td>\n",
       "      <td>449.600006</td>\n",
       "      <td>2915.0</td>\n",
       "      <td>57.279999</td>\n",
       "      <td>260.899994</td>\n",
       "      <td>63.099998</td>\n",
       "      <td>492.399994</td>\n",
       "      <td>105.199997</td>\n",
       "      <td>88.629997</td>\n",
       "      <td>1013.5</td>\n",
       "      <td>116.050003</td>\n",
       "      <td>256.649994</td>\n",
       "      <td>249.100006</td>\n",
       "      <td>222.300003</td>\n",
       "      <td>558.200012</td>\n",
       "      <td>88.480003</td>\n",
       "      <td>540.400024</td>\n",
       "      <td>22.930000</td>\n",
       "      <td>413.600006</td>\n",
       "    </tr>\n",
       "    <tr>\n",
       "      <th>2023-09-08</th>\n",
       "      <td>32.869999</td>\n",
       "      <td>73.599998</td>\n",
       "      <td>447.200012</td>\n",
       "      <td>2900.0</td>\n",
       "      <td>56.740002</td>\n",
       "      <td>260.100006</td>\n",
       "      <td>62.900002</td>\n",
       "      <td>483.799988</td>\n",
       "      <td>105.220001</td>\n",
       "      <td>88.120003</td>\n",
       "      <td>1021.5</td>\n",
       "      <td>117.000000</td>\n",
       "      <td>256.700012</td>\n",
       "      <td>242.600006</td>\n",
       "      <td>215.199997</td>\n",
       "      <td>558.200012</td>\n",
       "      <td>88.919998</td>\n",
       "      <td>541.799988</td>\n",
       "      <td>22.760000</td>\n",
       "      <td>411.000000</td>\n",
       "    </tr>\n",
       "    <tr>\n",
       "      <th>2023-09-11</th>\n",
       "      <td>33.000000</td>\n",
       "      <td>73.919998</td>\n",
       "      <td>448.899994</td>\n",
       "      <td>2883.0</td>\n",
       "      <td>57.060001</td>\n",
       "      <td>260.100006</td>\n",
       "      <td>62.900002</td>\n",
       "      <td>487.200012</td>\n",
       "      <td>106.099998</td>\n",
       "      <td>88.309998</td>\n",
       "      <td>1016.0</td>\n",
       "      <td>117.000000</td>\n",
       "      <td>253.899994</td>\n",
       "      <td>243.100006</td>\n",
       "      <td>217.100006</td>\n",
       "      <td>563.200012</td>\n",
       "      <td>90.339996</td>\n",
       "      <td>542.200012</td>\n",
       "      <td>22.879999</td>\n",
       "      <td>414.600006</td>\n",
       "    </tr>\n",
       "  </tbody>\n",
       "</table>\n",
       "</div>"
      ],
      "text/plain": [
       "              ABB LTD      ALCON     GEBERIT  GIVAUDAN     HOLCIM  \\\n",
       "2023-09-05  33.020000  72.739998  450.399994    2894.0  56.919998   \n",
       "2023-09-06  33.480000  73.279999  450.100006    2927.0  57.119999   \n",
       "2023-09-07  33.349998  73.820000  449.600006    2915.0  57.279999   \n",
       "2023-09-08  32.869999  73.599998  447.200012    2900.0  56.740002   \n",
       "2023-09-11  33.000000  73.919998  448.899994    2883.0  57.060001   \n",
       "\n",
       "            KUEHNE NAEL   LOGITECH       LONZA      NESTLE   NOVARTIS  \\\n",
       "2023-09-05   255.699997  63.060001  494.399994  103.739998  87.790001   \n",
       "2023-09-06   259.100006  64.080002  496.100006  104.199997  87.209999   \n",
       "2023-09-07   260.899994  63.099998  492.399994  105.199997  88.629997   \n",
       "2023-09-08   260.100006  62.900002  483.799988  105.220001  88.120003   \n",
       "2023-09-11   260.100006  62.900002  487.200012  106.099998  88.309998   \n",
       "\n",
       "            PARTNERS GROUP   RICHEMONT       ROCHE        SIKA      SONOVA  \\\n",
       "2023-09-05          1028.0  123.449997  253.899994  241.800003  228.600006   \n",
       "2023-09-06          1021.0  117.000000  252.399994  245.500000  228.000000   \n",
       "2023-09-07          1013.5  116.050003  256.649994  249.100006  222.300003   \n",
       "2023-09-08          1021.5  117.000000  256.700012  242.600006  215.199997   \n",
       "2023-09-11          1016.0  117.000000  253.899994  243.100006  217.100006   \n",
       "\n",
       "            SWISS LIFE HOLDING   SWISS RE    SWISSCOM  UBS GROUP  \\\n",
       "2023-09-05          553.799988  85.800003  529.200012  23.670000   \n",
       "2023-09-06          565.599976  86.800003  533.799988  23.129999   \n",
       "2023-09-07          558.200012  88.480003  540.400024  22.930000   \n",
       "2023-09-08          558.200012  88.919998  541.799988  22.760000   \n",
       "2023-09-11          563.200012  90.339996  542.200012  22.879999   \n",
       "\n",
       "            ZURICH INSURANCE  \n",
       "2023-09-05        413.500000  \n",
       "2023-09-06        413.500000  \n",
       "2023-09-07        413.600006  \n",
       "2023-09-08        411.000000  \n",
       "2023-09-11        414.600006  "
      ]
     },
     "execution_count": 31,
     "metadata": {},
     "output_type": "execute_result"
    }
   ],
   "source": [
    "df.tail()"
   ]
  },
  {
   "cell_type": "code",
   "execution_count": null,
   "metadata": {},
   "outputs": [],
   "source": []
  },
  {
   "cell_type": "markdown",
   "metadata": {},
   "source": [
    "## Daten checken"
   ]
  },
  {
   "cell_type": "markdown",
   "metadata": {},
   "source": [
    "**Länge, Spalten, Integrität**"
   ]
  },
  {
   "cell_type": "code",
   "execution_count": 32,
   "metadata": {},
   "outputs": [
    {
     "data": {
      "text/plain": [
       "(2768, 20)"
      ]
     },
     "execution_count": 32,
     "metadata": {},
     "output_type": "execute_result"
    }
   ],
   "source": [
    "df.shape"
   ]
  },
  {
   "cell_type": "code",
   "execution_count": 33,
   "metadata": {},
   "outputs": [
    {
     "data": {
      "text/plain": [
       "ABB LTD               float64\n",
       "ALCON                 float64\n",
       "GEBERIT               float64\n",
       "GIVAUDAN              float64\n",
       "HOLCIM                float64\n",
       "KUEHNE NAEL           float64\n",
       "LOGITECH              float64\n",
       "LONZA                 float64\n",
       "NESTLE                float64\n",
       "NOVARTIS              float64\n",
       "PARTNERS GROUP        float64\n",
       "RICHEMONT             float64\n",
       "ROCHE                 float64\n",
       "SIKA                  float64\n",
       "SONOVA                float64\n",
       "SWISS LIFE HOLDING    float64\n",
       "SWISS RE              float64\n",
       "SWISSCOM              float64\n",
       "UBS GROUP             float64\n",
       "ZURICH INSURANCE      float64\n",
       "dtype: object"
      ]
     },
     "execution_count": 33,
     "metadata": {},
     "output_type": "execute_result"
    }
   ],
   "source": [
    "df.dtypes"
   ]
  },
  {
   "cell_type": "code",
   "execution_count": null,
   "metadata": {},
   "outputs": [],
   "source": []
  },
  {
   "cell_type": "code",
   "execution_count": null,
   "metadata": {},
   "outputs": [],
   "source": []
  },
  {
   "cell_type": "markdown",
   "metadata": {},
   "source": [
    "## Vorbereitung"
   ]
  },
  {
   "cell_type": "markdown",
   "metadata": {},
   "source": [
    "Mit welchem Typ von Daten haben wir es hier zu tun? Was müssen wir für Eigenschaften des Dataframe modifizieren, um optimal damit arbeiten zu können?\n",
    "\n",
    "**Tipp:** mit `df.index` können Sie auf die Index-Spalte zugreifen"
   ]
  },
  {
   "cell_type": "code",
   "execution_count": 34,
   "metadata": {},
   "outputs": [],
   "source": [
    "# Wir müssen die Indexspalte als Datetime \n",
    "df.index = pd.to_datetime(df.index)"
   ]
  },
  {
   "cell_type": "code",
   "execution_count": null,
   "metadata": {},
   "outputs": [],
   "source": []
  },
  {
   "cell_type": "markdown",
   "metadata": {},
   "source": [
    "## Explorieren"
   ]
  },
  {
   "cell_type": "markdown",
   "metadata": {},
   "source": [
    "Ihr Ziel ist, aus den Börsendaten eine einfache Story zu generieren.\n",
    "\n",
    "Überlegen Sie sich dazu:\n",
    "- Was sind mögliche interessante Fragen?\n",
    "- Welche Auswertungen sind nötig, um die Fragen zu beanworten?\n",
    "- Wie stellen Sie die Resultate mittels Grafiken dar?\n",
    "\n",
    "Arbeiten Sie in Gruppen, um ein Ergebnis zu erarbeiten!"
   ]
  },
  {
   "cell_type": "code",
   "execution_count": null,
   "metadata": {},
   "outputs": [],
   "source": []
  },
  {
   "cell_type": "markdown",
   "metadata": {},
   "source": [
    "**Beispiel 1:** Wertsteigerung der Firmen in den letzten fünf Jahren: 5 beste und 5 schlechteste"
   ]
  },
  {
   "cell_type": "code",
   "execution_count": 35,
   "metadata": {},
   "outputs": [],
   "source": [
    "# Wir wählen die erste Zeile aus und dividieren sämtliche Zeilen durch sie"
   ]
  },
  {
   "cell_type": "code",
   "execution_count": 36,
   "metadata": {},
   "outputs": [],
   "source": [
    "s_first = df.iloc[0]"
   ]
  },
  {
   "cell_type": "code",
   "execution_count": 37,
   "metadata": {},
   "outputs": [],
   "source": [
    "df_indexed = ((df / s_first) - 1) * 100"
   ]
  },
  {
   "cell_type": "code",
   "execution_count": 38,
   "metadata": {},
   "outputs": [],
   "source": [
    "# Die letzte Zeile gibt uns die gesamte Veränderung an"
   ]
  },
  {
   "cell_type": "code",
   "execution_count": 39,
   "metadata": {},
   "outputs": [],
   "source": [
    "s_5y_chg = df_indexed.iloc[-1].sort_values(ascending=False)"
   ]
  },
  {
   "cell_type": "code",
   "execution_count": 40,
   "metadata": {},
   "outputs": [],
   "source": [
    "# Beste 5 Firmen:"
   ]
  },
  {
   "cell_type": "code",
   "execution_count": 41,
   "metadata": {},
   "outputs": [
    {
     "data": {
      "text/plain": [
       "<Axes: title={'center': 'Kursveränderung in Prozent: Top 5'}>"
      ]
     },
     "execution_count": 41,
     "metadata": {},
     "output_type": "execute_result"
    },
    {
     "data": {
      "image/png": "[encoded data removed]",
      "text/plain": [
       "<Figure size 640x480 with 1 Axes>"
      ]
     },
     "metadata": {},
     "output_type": "display_data"
    }
   ],
   "source": [
    "s_5y_chg.head(5).plot(kind='bar', title='Kursveränderung in Prozent: Top 5')"
   ]
  },
  {
   "cell_type": "code",
   "execution_count": 42,
   "metadata": {},
   "outputs": [],
   "source": [
    "# Schlechteste 5 Firmen:"
   ]
  },
  {
   "cell_type": "code",
   "execution_count": 43,
   "metadata": {},
   "outputs": [
    {
     "data": {
      "text/plain": [
       "<Axes: title={'center': 'Kursveränderung in Prozent: Bottom 5'}>"
      ]
     },
     "execution_count": 43,
     "metadata": {},
     "output_type": "execute_result"
    },
    {
     "data": {
      "image/png": "[encoded data removed]",
      "text/plain": [
       "<Figure size 640x480 with 1 Axes>"
      ]
     },
     "metadata": {},
     "output_type": "display_data"
    }
   ],
   "source": [
    "s_5y_chg.sort_values().head(5).plot(kind='bar', title='Kursveränderung in Prozent: Bottom 5')"
   ]
  },
  {
   "cell_type": "code",
   "execution_count": null,
   "metadata": {},
   "outputs": [],
   "source": []
  },
  {
   "cell_type": "markdown",
   "metadata": {},
   "source": [
    "**Beispiel 2:** Firmen, deren Jahresperformance 2022 gegenüber der Performance im letzten Jahr am meisten verbessert hat"
   ]
  },
  {
   "cell_type": "code",
   "execution_count": 44,
   "metadata": {},
   "outputs": [],
   "source": [
    "# Jahresendkurse"
   ]
  },
  {
   "cell_type": "code",
   "execution_count": 45,
   "metadata": {},
   "outputs": [],
   "source": [
    "df_end = df.resample('A').last()"
   ]
  },
  {
   "cell_type": "code",
   "execution_count": 46,
   "metadata": {},
   "outputs": [
    {
     "data": {
      "text/html": [
       "<div>\n",
       "<style scoped>\n",
       "    .dataframe tbody tr th:only-of-type {\n",
       "        vertical-align: middle;\n",
       "    }\n",
       "\n",
       "    .dataframe tbody tr th {\n",
       "        vertical-align: top;\n",
       "    }\n",
       "\n",
       "    .dataframe thead th {\n",
       "        text-align: right;\n",
       "    }\n",
       "</style>\n",
       "<table border=\"1\" class=\"dataframe\">\n",
       "  <thead>\n",
       "    <tr style=\"text-align: right;\">\n",
       "      <th></th>\n",
       "      <th>ABB LTD</th>\n",
       "      <th>ALCON</th>\n",
       "      <th>GEBERIT</th>\n",
       "      <th>GIVAUDAN</th>\n",
       "      <th>HOLCIM</th>\n",
       "      <th>KUEHNE NAEL</th>\n",
       "      <th>LOGITECH</th>\n",
       "      <th>LONZA</th>\n",
       "      <th>NESTLE</th>\n",
       "      <th>NOVARTIS</th>\n",
       "      <th>PARTNERS GROUP</th>\n",
       "      <th>RICHEMONT</th>\n",
       "      <th>ROCHE</th>\n",
       "      <th>SIKA</th>\n",
       "      <th>SONOVA</th>\n",
       "      <th>SWISS LIFE HOLDING</th>\n",
       "      <th>SWISS RE</th>\n",
       "      <th>SWISSCOM</th>\n",
       "      <th>UBS GROUP</th>\n",
       "      <th>ZURICH INSURANCE</th>\n",
       "    </tr>\n",
       "  </thead>\n",
       "  <tbody>\n",
       "    <tr>\n",
       "      <th>2012-12-31</th>\n",
       "      <td>18.750000</td>\n",
       "      <td>NaN</td>\n",
       "      <td>201.399994</td>\n",
       "      <td>963.0</td>\n",
       "      <td>63.714287</td>\n",
       "      <td>110.000000</td>\n",
       "      <td>6.930000</td>\n",
       "      <td>45.721653</td>\n",
       "      <td>59.599998</td>\n",
       "      <td>50.785248</td>\n",
       "      <td>211.199997</td>\n",
       "      <td>71.400002</td>\n",
       "      <td>184.000000</td>\n",
       "      <td>35.166664</td>\n",
       "      <td>100.728439</td>\n",
       "      <td>121.400002</td>\n",
       "      <td>65.900002</td>\n",
       "      <td>393.799988</td>\n",
       "      <td>14.270000</td>\n",
       "      <td>243.399994</td>\n",
       "    </tr>\n",
       "    <tr>\n",
       "      <th>2013-12-31</th>\n",
       "      <td>23.480000</td>\n",
       "      <td>NaN</td>\n",
       "      <td>270.500000</td>\n",
       "      <td>1274.0</td>\n",
       "      <td>63.571426</td>\n",
       "      <td>117.099998</td>\n",
       "      <td>12.250000</td>\n",
       "      <td>78.364098</td>\n",
       "      <td>65.300003</td>\n",
       "      <td>62.940117</td>\n",
       "      <td>237.899994</td>\n",
       "      <td>88.800003</td>\n",
       "      <td>249.199997</td>\n",
       "      <td>52.849998</td>\n",
       "      <td>119.205261</td>\n",
       "      <td>185.199997</td>\n",
       "      <td>82.050003</td>\n",
       "      <td>470.899994</td>\n",
       "      <td>16.920000</td>\n",
       "      <td>258.500000</td>\n",
       "    </tr>\n",
       "    <tr>\n",
       "      <th>2014-12-31</th>\n",
       "      <td>21.139999</td>\n",
       "      <td>NaN</td>\n",
       "      <td>338.399994</td>\n",
       "      <td>1793.0</td>\n",
       "      <td>67.952377</td>\n",
       "      <td>135.300003</td>\n",
       "      <td>13.450000</td>\n",
       "      <td>103.929688</td>\n",
       "      <td>72.949997</td>\n",
       "      <td>81.636513</td>\n",
       "      <td>289.500000</td>\n",
       "      <td>88.800003</td>\n",
       "      <td>269.899994</td>\n",
       "      <td>48.933334</td>\n",
       "      <td>145.927109</td>\n",
       "      <td>236.399994</td>\n",
       "      <td>83.650002</td>\n",
       "      <td>522.500000</td>\n",
       "      <td>17.090000</td>\n",
       "      <td>311.700012</td>\n",
       "    </tr>\n",
       "    <tr>\n",
       "      <th>2015-12-31</th>\n",
       "      <td>17.959999</td>\n",
       "      <td>NaN</td>\n",
       "      <td>340.200012</td>\n",
       "      <td>1823.0</td>\n",
       "      <td>50.299999</td>\n",
       "      <td>137.800003</td>\n",
       "      <td>15.400000</td>\n",
       "      <td>151.077835</td>\n",
       "      <td>74.550003</td>\n",
       "      <td>76.730370</td>\n",
       "      <td>361.250000</td>\n",
       "      <td>72.099998</td>\n",
       "      <td>276.399994</td>\n",
       "      <td>60.333332</td>\n",
       "      <td>126.456909</td>\n",
       "      <td>271.299988</td>\n",
       "      <td>98.150002</td>\n",
       "      <td>503.000000</td>\n",
       "      <td>19.520000</td>\n",
       "      <td>258.399994</td>\n",
       "    </tr>\n",
       "    <tr>\n",
       "      <th>2016-12-31</th>\n",
       "      <td>21.480000</td>\n",
       "      <td>NaN</td>\n",
       "      <td>408.200012</td>\n",
       "      <td>1866.0</td>\n",
       "      <td>53.650002</td>\n",
       "      <td>134.600006</td>\n",
       "      <td>25.400000</td>\n",
       "      <td>163.304855</td>\n",
       "      <td>73.050003</td>\n",
       "      <td>65.503685</td>\n",
       "      <td>477.250000</td>\n",
       "      <td>67.449997</td>\n",
       "      <td>232.600006</td>\n",
       "      <td>81.533333</td>\n",
       "      <td>122.582741</td>\n",
       "      <td>288.200012</td>\n",
       "      <td>96.500000</td>\n",
       "      <td>456.100006</td>\n",
       "      <td>15.950000</td>\n",
       "      <td>280.399994</td>\n",
       "    </tr>\n",
       "    <tr>\n",
       "      <th>2017-12-31</th>\n",
       "      <td>26.120001</td>\n",
       "      <td>NaN</td>\n",
       "      <td>429.100006</td>\n",
       "      <td>2252.0</td>\n",
       "      <td>54.950001</td>\n",
       "      <td>172.500000</td>\n",
       "      <td>32.900002</td>\n",
       "      <td>263.299988</td>\n",
       "      <td>83.800003</td>\n",
       "      <td>72.840813</td>\n",
       "      <td>668.000000</td>\n",
       "      <td>88.300003</td>\n",
       "      <td>246.500000</td>\n",
       "      <td>129.000000</td>\n",
       "      <td>151.192001</td>\n",
       "      <td>345.000000</td>\n",
       "      <td>91.250000</td>\n",
       "      <td>518.500000</td>\n",
       "      <td>17.940001</td>\n",
       "      <td>296.600006</td>\n",
       "    </tr>\n",
       "    <tr>\n",
       "      <th>2018-12-31</th>\n",
       "      <td>18.695000</td>\n",
       "      <td>NaN</td>\n",
       "      <td>382.299988</td>\n",
       "      <td>2276.0</td>\n",
       "      <td>40.500000</td>\n",
       "      <td>126.349998</td>\n",
       "      <td>30.920000</td>\n",
       "      <td>254.699997</td>\n",
       "      <td>79.800003</td>\n",
       "      <td>74.290550</td>\n",
       "      <td>596.000000</td>\n",
       "      <td>63.000000</td>\n",
       "      <td>243.399994</td>\n",
       "      <td>124.599998</td>\n",
       "      <td>159.536377</td>\n",
       "      <td>378.600006</td>\n",
       "      <td>90.120003</td>\n",
       "      <td>469.700012</td>\n",
       "      <td>12.235000</td>\n",
       "      <td>293.100006</td>\n",
       "    </tr>\n",
       "    <tr>\n",
       "      <th>2019-12-31</th>\n",
       "      <td>23.370001</td>\n",
       "      <td>54.799999</td>\n",
       "      <td>543.200012</td>\n",
       "      <td>3031.0</td>\n",
       "      <td>53.700001</td>\n",
       "      <td>163.199997</td>\n",
       "      <td>45.830002</td>\n",
       "      <td>353.200012</td>\n",
       "      <td>104.779999</td>\n",
       "      <td>91.900002</td>\n",
       "      <td>887.400024</td>\n",
       "      <td>76.059998</td>\n",
       "      <td>314.000000</td>\n",
       "      <td>181.850006</td>\n",
       "      <td>220.033035</td>\n",
       "      <td>485.799988</td>\n",
       "      <td>108.699997</td>\n",
       "      <td>512.599976</td>\n",
       "      <td>12.225000</td>\n",
       "      <td>397.100006</td>\n",
       "    </tr>\n",
       "    <tr>\n",
       "      <th>2020-12-31</th>\n",
       "      <td>24.709999</td>\n",
       "      <td>58.840000</td>\n",
       "      <td>554.200012</td>\n",
       "      <td>3730.0</td>\n",
       "      <td>48.619999</td>\n",
       "      <td>200.800003</td>\n",
       "      <td>85.919998</td>\n",
       "      <td>568.799988</td>\n",
       "      <td>104.260002</td>\n",
       "      <td>83.650002</td>\n",
       "      <td>1040.000000</td>\n",
       "      <td>80.080002</td>\n",
       "      <td>309.000000</td>\n",
       "      <td>241.800003</td>\n",
       "      <td>230.000000</td>\n",
       "      <td>412.399994</td>\n",
       "      <td>83.339996</td>\n",
       "      <td>477.100006</td>\n",
       "      <td>12.470000</td>\n",
       "      <td>373.500000</td>\n",
       "    </tr>\n",
       "    <tr>\n",
       "      <th>2021-12-31</th>\n",
       "      <td>34.900002</td>\n",
       "      <td>80.739998</td>\n",
       "      <td>745.200012</td>\n",
       "      <td>4792.0</td>\n",
       "      <td>46.509998</td>\n",
       "      <td>294.399994</td>\n",
       "      <td>76.879997</td>\n",
       "      <td>761.599976</td>\n",
       "      <td>127.440002</td>\n",
       "      <td>80.279999</td>\n",
       "      <td>1512.500000</td>\n",
       "      <td>136.949997</td>\n",
       "      <td>379.100006</td>\n",
       "      <td>380.200012</td>\n",
       "      <td>357.799988</td>\n",
       "      <td>559.000000</td>\n",
       "      <td>90.260002</td>\n",
       "      <td>514.599976</td>\n",
       "      <td>16.420000</td>\n",
       "      <td>400.399994</td>\n",
       "    </tr>\n",
       "    <tr>\n",
       "      <th>2022-12-31</th>\n",
       "      <td>28.059999</td>\n",
       "      <td>63.180000</td>\n",
       "      <td>435.500000</td>\n",
       "      <td>2833.0</td>\n",
       "      <td>47.880001</td>\n",
       "      <td>215.199997</td>\n",
       "      <td>57.060001</td>\n",
       "      <td>453.100006</td>\n",
       "      <td>107.139999</td>\n",
       "      <td>83.589996</td>\n",
       "      <td>816.799988</td>\n",
       "      <td>119.900002</td>\n",
       "      <td>290.500000</td>\n",
       "      <td>221.699997</td>\n",
       "      <td>219.300003</td>\n",
       "      <td>476.799988</td>\n",
       "      <td>86.480003</td>\n",
       "      <td>506.600006</td>\n",
       "      <td>17.205000</td>\n",
       "      <td>442.299988</td>\n",
       "    </tr>\n",
       "    <tr>\n",
       "      <th>2023-12-31</th>\n",
       "      <td>33.000000</td>\n",
       "      <td>73.919998</td>\n",
       "      <td>448.899994</td>\n",
       "      <td>2883.0</td>\n",
       "      <td>57.060001</td>\n",
       "      <td>260.100006</td>\n",
       "      <td>62.900002</td>\n",
       "      <td>487.200012</td>\n",
       "      <td>106.099998</td>\n",
       "      <td>88.309998</td>\n",
       "      <td>1016.000000</td>\n",
       "      <td>117.000000</td>\n",
       "      <td>253.899994</td>\n",
       "      <td>243.100006</td>\n",
       "      <td>217.100006</td>\n",
       "      <td>563.200012</td>\n",
       "      <td>90.339996</td>\n",
       "      <td>542.200012</td>\n",
       "      <td>22.879999</td>\n",
       "      <td>414.600006</td>\n",
       "    </tr>\n",
       "  </tbody>\n",
       "</table>\n",
       "</div>"
      ],
      "text/plain": [
       "              ABB LTD      ALCON     GEBERIT  GIVAUDAN     HOLCIM  \\\n",
       "2012-12-31  18.750000        NaN  201.399994     963.0  63.714287   \n",
       "2013-12-31  23.480000        NaN  270.500000    1274.0  63.571426   \n",
       "2014-12-31  21.139999        NaN  338.399994    1793.0  67.952377   \n",
       "2015-12-31  17.959999        NaN  340.200012    1823.0  50.299999   \n",
       "2016-12-31  21.480000        NaN  408.200012    1866.0  53.650002   \n",
       "2017-12-31  26.120001        NaN  429.100006    2252.0  54.950001   \n",
       "2018-12-31  18.695000        NaN  382.299988    2276.0  40.500000   \n",
       "2019-12-31  23.370001  54.799999  543.200012    3031.0  53.700001   \n",
       "2020-12-31  24.709999  58.840000  554.200012    3730.0  48.619999   \n",
       "2021-12-31  34.900002  80.739998  745.200012    4792.0  46.509998   \n",
       "2022-12-31  28.059999  63.180000  435.500000    2833.0  47.880001   \n",
       "2023-12-31  33.000000  73.919998  448.899994    2883.0  57.060001   \n",
       "\n",
       "            KUEHNE NAEL   LOGITECH       LONZA      NESTLE   NOVARTIS  \\\n",
       "2012-12-31   110.000000   6.930000   45.721653   59.599998  50.785248   \n",
       "2013-12-31   117.099998  12.250000   78.364098   65.300003  62.940117   \n",
       "2014-12-31   135.300003  13.450000  103.929688   72.949997  81.636513   \n",
       "2015-12-31   137.800003  15.400000  151.077835   74.550003  76.730370   \n",
       "2016-12-31   134.600006  25.400000  163.304855   73.050003  65.503685   \n",
       "2017-12-31   172.500000  32.900002  263.299988   83.800003  72.840813   \n",
       "2018-12-31   126.349998  30.920000  254.699997   79.800003  74.290550   \n",
       "2019-12-31   163.199997  45.830002  353.200012  104.779999  91.900002   \n",
       "2020-12-31   200.800003  85.919998  568.799988  104.260002  83.650002   \n",
       "2021-12-31   294.399994  76.879997  761.599976  127.440002  80.279999   \n",
       "2022-12-31   215.199997  57.060001  453.100006  107.139999  83.589996   \n",
       "2023-12-31   260.100006  62.900002  487.200012  106.099998  88.309998   \n",
       "\n",
       "            PARTNERS GROUP   RICHEMONT       ROCHE        SIKA      SONOVA  \\\n",
       "2012-12-31      211.199997   71.400002  184.000000   35.166664  100.728439   \n",
       "2013-12-31      237.899994   88.800003  249.199997   52.849998  119.205261   \n",
       "2014-12-31      289.500000   88.800003  269.899994   48.933334  145.927109   \n",
       "2015-12-31      361.250000   72.099998  276.399994   60.333332  126.456909   \n",
       "2016-12-31      477.250000   67.449997  232.600006   81.533333  122.582741   \n",
       "2017-12-31      668.000000   88.300003  246.500000  129.000000  151.192001   \n",
       "2018-12-31      596.000000   63.000000  243.399994  124.599998  159.536377   \n",
       "2019-12-31      887.400024   76.059998  314.000000  181.850006  220.033035   \n",
       "2020-12-31     1040.000000   80.080002  309.000000  241.800003  230.000000   \n",
       "2021-12-31     1512.500000  136.949997  379.100006  380.200012  357.799988   \n",
       "2022-12-31      816.799988  119.900002  290.500000  221.699997  219.300003   \n",
       "2023-12-31     1016.000000  117.000000  253.899994  243.100006  217.100006   \n",
       "\n",
       "            SWISS LIFE HOLDING    SWISS RE    SWISSCOM  UBS GROUP  \\\n",
       "2012-12-31          121.400002   65.900002  393.799988  14.270000   \n",
       "2013-12-31          185.199997   82.050003  470.899994  16.920000   \n",
       "2014-12-31          236.399994   83.650002  522.500000  17.090000   \n",
       "2015-12-31          271.299988   98.150002  503.000000  19.520000   \n",
       "2016-12-31          288.200012   96.500000  456.100006  15.950000   \n",
       "2017-12-31          345.000000   91.250000  518.500000  17.940001   \n",
       "2018-12-31          378.600006   90.120003  469.700012  12.235000   \n",
       "2019-12-31          485.799988  108.699997  512.599976  12.225000   \n",
       "2020-12-31          412.399994   83.339996  477.100006  12.470000   \n",
       "2021-12-31          559.000000   90.260002  514.599976  16.420000   \n",
       "2022-12-31          476.799988   86.480003  506.600006  17.205000   \n",
       "2023-12-31          563.200012   90.339996  542.200012  22.879999   \n",
       "\n",
       "            ZURICH INSURANCE  \n",
       "2012-12-31        243.399994  \n",
       "2013-12-31        258.500000  \n",
       "2014-12-31        311.700012  \n",
       "2015-12-31        258.399994  \n",
       "2016-12-31        280.399994  \n",
       "2017-12-31        296.600006  \n",
       "2018-12-31        293.100006  \n",
       "2019-12-31        397.100006  \n",
       "2020-12-31        373.500000  \n",
       "2021-12-31        400.399994  \n",
       "2022-12-31        442.299988  \n",
       "2023-12-31        414.600006  "
      ]
     },
     "execution_count": 46,
     "metadata": {},
     "output_type": "execute_result"
    }
   ],
   "source": [
    "df_end"
   ]
  },
  {
   "cell_type": "code",
   "execution_count": 47,
   "metadata": {},
   "outputs": [],
   "source": [
    "# Veränderungen 2019 resp 2018"
   ]
  },
  {
   "cell_type": "code",
   "execution_count": 48,
   "metadata": {},
   "outputs": [],
   "source": [
    "s_2022 = (df_end.loc['2022-12-31'] / df_end.loc['2021-12-31'] - 1) * 100"
   ]
  },
  {
   "cell_type": "code",
   "execution_count": 49,
   "metadata": {},
   "outputs": [],
   "source": [
    "s_2021 = (df_end.loc['2021-12-31'] / df_end.loc['2020-12-31'] - 1) * 100"
   ]
  },
  {
   "cell_type": "code",
   "execution_count": 50,
   "metadata": {},
   "outputs": [],
   "source": [
    "# Differenz"
   ]
  },
  {
   "cell_type": "code",
   "execution_count": 51,
   "metadata": {},
   "outputs": [],
   "source": [
    "s_chg_2021_22 = s_2021 - s_2022"
   ]
  },
  {
   "cell_type": "code",
   "execution_count": 52,
   "metadata": {},
   "outputs": [
    {
     "data": {
      "text/plain": [
       "SIKA                  98.925977\n",
       "SONOVA                94.273985\n",
       "PARTNERS GROUP        91.429387\n",
       "RICHEMONT             83.466271\n",
       "GEBERIT               76.023406\n",
       "LONZA                 74.402745\n",
       "KUEHNE NAEL           73.515714\n",
       "GIVAUDAN              69.352484\n",
       "ABB LTD               60.837240\n",
       "ALCON                 58.968397\n",
       "SWISS LIFE HOLDING    50.252846\n",
       "ROCHE                 46.057229\n",
       "NESTLE                38.161946\n",
       "UBS GROUP             26.895267\n",
       "LOGITECH              15.259016\n",
       "SWISS RE              12.491244\n",
       "SWISSCOM               9.414581\n",
       "ZURICH INSURANCE      -3.262394\n",
       "HOLCIM                -7.285390\n",
       "NOVARTIS              -8.151760\n",
       "dtype: float64"
      ]
     },
     "execution_count": 52,
     "metadata": {},
     "output_type": "execute_result"
    }
   ],
   "source": [
    "s_chg_2021_22.sort_values(ascending=False)"
   ]
  },
  {
   "cell_type": "code",
   "execution_count": 53,
   "metadata": {},
   "outputs": [],
   "source": [
    "# Top 10 Verbesserungen"
   ]
  },
  {
   "cell_type": "code",
   "execution_count": 54,
   "metadata": {},
   "outputs": [
    {
     "data": {
      "text/plain": [
       "<Axes: >"
      ]
     },
     "execution_count": 54,
     "metadata": {},
     "output_type": "execute_result"
    },
    {
     "data": {
      "image/png": "[encoded data removed]",
      "text/plain": [
       "<Figure size 640x480 with 1 Axes>"
      ]
     },
     "metadata": {},
     "output_type": "display_data"
    }
   ],
   "source": [
    "s_chg_2021_22.sort_values(ascending=False).head(10).plot(kind='bar')"
   ]
  },
  {
   "cell_type": "code",
   "execution_count": null,
   "metadata": {},
   "outputs": [],
   "source": []
  },
  {
   "cell_type": "markdown",
   "metadata": {},
   "source": [
    "## Die Story\n",
    "Wählen Sie eine ihrer Fragen aus, die Sie bearbeitet haben.\n",
    "- Drei bis vier Sätze, welche die Story zusammenfassen\n",
    "- eine oder mehrere Grafiken, die das Ergebnis illustrieren"
   ]
  },
  {
   "cell_type": "code",
   "execution_count": null,
   "metadata": {},
   "outputs": [],
   "source": []
  },
  {
   "cell_type": "code",
   "execution_count": null,
   "metadata": {},
   "outputs": [],
   "source": []
  },
  {
   "cell_type": "code",
   "execution_count": null,
   "metadata": {},
   "outputs": [],
   "source": []
  },
  {
   "cell_type": "code",
   "execution_count": null,
   "metadata": {},
   "outputs": [],
   "source": []
  },
  {
   "cell_type": "code",
   "execution_count": null,
   "metadata": {},
   "outputs": [],
   "source": []
  },
  {
   "cell_type": "code",
   "execution_count": null,
   "metadata": {},
   "outputs": [],
   "source": []
  },
  {
   "cell_type": "code",
   "execution_count": null,
   "metadata": {},
   "outputs": [],
   "source": []
  },
  {
   "cell_type": "code",
   "execution_count": null,
   "metadata": {},
   "outputs": [],
   "source": []
  }
 ],
 "metadata": {
  "kernelspec": {
   "display_name": "Python 3 (ipykernel)",
   "language": "python",
   "name": "python3"
  },
  "language_info": {
   "codemirror_mode": {
    "name": "ipython",
    "version": 3
   },
   "file_extension": ".py",
   "mimetype": "text/x-python",
   "name": "python",
   "nbconvert_exporter": "python",
   "pygments_lexer": "ipython3",
   "version": "3.8.17"
  }
 },
 "nbformat": 4,
 "nbformat_minor": 2
}
