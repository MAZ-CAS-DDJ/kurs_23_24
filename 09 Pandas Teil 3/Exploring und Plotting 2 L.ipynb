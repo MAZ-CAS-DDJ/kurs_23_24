{
 "cells": [
  {
   "cell_type": "markdown",
   "metadata": {},
   "source": [
    "# Exploring und Plotting 2"
   ]
  },
  {
   "cell_type": "markdown",
   "metadata": {},
   "source": [
    "**Inhalt:** Selbständige Übung\n",
    "\n",
    "**Nötige Skills:** Time Series\n",
    "\n",
    "**Lernziele:**\n",
    "- Selbständig Daten explorieren und Storyideen testen"
   ]
  },
  {
   "cell_type": "markdown",
   "metadata": {},
   "source": [
    "# Das Beispiel"
   ]
  },
  {
   "cell_type": "markdown",
   "metadata": {},
   "source": [
    "Börsenkurse aller SMI-Firmen an der Schweizer Börse (3.Sep 2012 bis 3.Sep 2022)\n",
    "\n",
    "Die Daten stammen von dieser Quelle: https://finance.yahoo.com/ und wurden zu einem File kompiliert.\n",
    "\n",
    "Kompilierungsfile: `dataprojects/Boersenkurse/Börsenkurse kompilieren.ipnyb`\n",
    "\n",
    "Kompilierte Daten: `dataprojects/Boersenkurse/smi_members.csv`"
   ]
  },
  {
   "cell_type": "markdown",
   "metadata": {},
   "source": [
    "## Vorbereitung"
   ]
  },
  {
   "cell_type": "markdown",
   "metadata": {},
   "source": [
    "Entscheiden Sie selbst, welche Libraries Sie brauchen!"
   ]
  },
  {
   "cell_type": "code",
   "execution_count": 1,
   "metadata": {},
   "outputs": [],
   "source": [
    "import pandas as pd"
   ]
  },
  {
   "cell_type": "code",
   "execution_count": null,
   "metadata": {},
   "outputs": [],
   "source": []
  },
  {
   "cell_type": "markdown",
   "metadata": {},
   "source": [
    "## Datenfile laden"
   ]
  },
  {
   "cell_type": "markdown",
   "metadata": {},
   "source": [
    "Wie ist die Datei strukturiert? Was müssen wir beim Laden beachten?\n",
    "\n",
    "**Tipp:** `index_col=0` verwenden."
   ]
  },
  {
   "cell_type": "code",
   "execution_count": 2,
   "metadata": {},
   "outputs": [],
   "source": [
    "df = pd.read_csv('dataprojects/Boersenkurse/smi_members.csv', index_col=0)"
   ]
  },
  {
   "cell_type": "code",
   "execution_count": 3,
   "metadata": {},
   "outputs": [
    {
     "data": {
      "text/html": [
       "<div>\n",
       "<style scoped>\n",
       "    .dataframe tbody tr th:only-of-type {\n",
       "        vertical-align: middle;\n",
       "    }\n",
       "\n",
       "    .dataframe tbody tr th {\n",
       "        vertical-align: top;\n",
       "    }\n",
       "\n",
       "    .dataframe thead th {\n",
       "        text-align: right;\n",
       "    }\n",
       "</style>\n",
       "<table border=\"1\" class=\"dataframe\">\n",
       "  <thead>\n",
       "    <tr style=\"text-align: right;\">\n",
       "      <th></th>\n",
       "      <th>ABB LTD</th>\n",
       "      <th>ALCON</th>\n",
       "      <th>CS GROUP</th>\n",
       "      <th>GEBERIT</th>\n",
       "      <th>GIVAUDAN</th>\n",
       "      <th>HOLCIM</th>\n",
       "      <th>LOGITECH</th>\n",
       "      <th>LONZA</th>\n",
       "      <th>NESTLE</th>\n",
       "      <th>NOVARTIS</th>\n",
       "      <th>PARTNERS GROUP</th>\n",
       "      <th>RICHEMONT</th>\n",
       "      <th>ROCHE</th>\n",
       "      <th>SGS</th>\n",
       "      <th>SIKA</th>\n",
       "      <th>SWISS LIFE HOLDING</th>\n",
       "      <th>SWISS RE</th>\n",
       "      <th>SWISSCOM</th>\n",
       "      <th>UBS GROUP</th>\n",
       "      <th>ZURICH INSURANCE</th>\n",
       "    </tr>\n",
       "  </thead>\n",
       "  <tbody>\n",
       "    <tr>\n",
       "      <th>2012-09-03</th>\n",
       "      <td>16.709999</td>\n",
       "      <td>NaN</td>\n",
       "      <td>16.836145</td>\n",
       "      <td>204.100006</td>\n",
       "      <td>907.0</td>\n",
       "      <td>56.095238</td>\n",
       "      <td>8.850</td>\n",
       "      <td>40.840107</td>\n",
       "      <td>59.950001</td>\n",
       "      <td>49.945457</td>\n",
       "      <td>183.300003</td>\n",
       "      <td>60.000000</td>\n",
       "      <td>174.800003</td>\n",
       "      <td>1932.0</td>\n",
       "      <td>30.766666</td>\n",
       "      <td>109.099998</td>\n",
       "      <td>60.299999</td>\n",
       "      <td>385.200012</td>\n",
       "      <td>10.73</td>\n",
       "      <td>229.399994</td>\n",
       "    </tr>\n",
       "    <tr>\n",
       "      <th>2012-09-04</th>\n",
       "      <td>16.480000</td>\n",
       "      <td>NaN</td>\n",
       "      <td>16.534031</td>\n",
       "      <td>200.199997</td>\n",
       "      <td>896.0</td>\n",
       "      <td>55.333332</td>\n",
       "      <td>9.095</td>\n",
       "      <td>40.376961</td>\n",
       "      <td>59.150002</td>\n",
       "      <td>49.459263</td>\n",
       "      <td>189.000000</td>\n",
       "      <td>59.150002</td>\n",
       "      <td>173.000000</td>\n",
       "      <td>1904.0</td>\n",
       "      <td>30.183332</td>\n",
       "      <td>109.300003</td>\n",
       "      <td>60.150002</td>\n",
       "      <td>385.799988</td>\n",
       "      <td>10.56</td>\n",
       "      <td>228.100006</td>\n",
       "    </tr>\n",
       "    <tr>\n",
       "      <th>2012-09-05</th>\n",
       "      <td>16.459999</td>\n",
       "      <td>NaN</td>\n",
       "      <td>16.826990</td>\n",
       "      <td>201.899994</td>\n",
       "      <td>902.0</td>\n",
       "      <td>55.523808</td>\n",
       "      <td>8.850</td>\n",
       "      <td>40.108337</td>\n",
       "      <td>59.750000</td>\n",
       "      <td>50.078056</td>\n",
       "      <td>189.000000</td>\n",
       "      <td>60.049999</td>\n",
       "      <td>174.600006</td>\n",
       "      <td>1926.0</td>\n",
       "      <td>30.333332</td>\n",
       "      <td>109.000000</td>\n",
       "      <td>60.150002</td>\n",
       "      <td>385.799988</td>\n",
       "      <td>10.88</td>\n",
       "      <td>229.600006</td>\n",
       "    </tr>\n",
       "    <tr>\n",
       "      <th>2012-09-06</th>\n",
       "      <td>17.120001</td>\n",
       "      <td>NaN</td>\n",
       "      <td>17.669256</td>\n",
       "      <td>203.699997</td>\n",
       "      <td>908.5</td>\n",
       "      <td>56.904762</td>\n",
       "      <td>8.975</td>\n",
       "      <td>41.312515</td>\n",
       "      <td>60.150002</td>\n",
       "      <td>50.475853</td>\n",
       "      <td>191.199997</td>\n",
       "      <td>61.150002</td>\n",
       "      <td>177.600006</td>\n",
       "      <td>1945.0</td>\n",
       "      <td>30.866667</td>\n",
       "      <td>110.699997</td>\n",
       "      <td>61.349998</td>\n",
       "      <td>390.299988</td>\n",
       "      <td>11.38</td>\n",
       "      <td>233.300003</td>\n",
       "    </tr>\n",
       "    <tr>\n",
       "      <th>2012-09-07</th>\n",
       "      <td>17.660000</td>\n",
       "      <td>NaN</td>\n",
       "      <td>18.355886</td>\n",
       "      <td>203.199997</td>\n",
       "      <td>900.5</td>\n",
       "      <td>58.523808</td>\n",
       "      <td>9.120</td>\n",
       "      <td>41.747871</td>\n",
       "      <td>59.250000</td>\n",
       "      <td>50.033855</td>\n",
       "      <td>194.500000</td>\n",
       "      <td>63.250000</td>\n",
       "      <td>177.899994</td>\n",
       "      <td>1942.0</td>\n",
       "      <td>31.400000</td>\n",
       "      <td>114.000000</td>\n",
       "      <td>61.500000</td>\n",
       "      <td>385.299988</td>\n",
       "      <td>11.66</td>\n",
       "      <td>235.000000</td>\n",
       "    </tr>\n",
       "  </tbody>\n",
       "</table>\n",
       "</div>"
      ],
      "text/plain": [
       "              ABB LTD  ALCON   CS GROUP     GEBERIT  GIVAUDAN     HOLCIM  \\\n",
       "2012-09-03  16.709999    NaN  16.836145  204.100006     907.0  56.095238   \n",
       "2012-09-04  16.480000    NaN  16.534031  200.199997     896.0  55.333332   \n",
       "2012-09-05  16.459999    NaN  16.826990  201.899994     902.0  55.523808   \n",
       "2012-09-06  17.120001    NaN  17.669256  203.699997     908.5  56.904762   \n",
       "2012-09-07  17.660000    NaN  18.355886  203.199997     900.5  58.523808   \n",
       "\n",
       "            LOGITECH      LONZA     NESTLE   NOVARTIS  PARTNERS GROUP  \\\n",
       "2012-09-03     8.850  40.840107  59.950001  49.945457      183.300003   \n",
       "2012-09-04     9.095  40.376961  59.150002  49.459263      189.000000   \n",
       "2012-09-05     8.850  40.108337  59.750000  50.078056      189.000000   \n",
       "2012-09-06     8.975  41.312515  60.150002  50.475853      191.199997   \n",
       "2012-09-07     9.120  41.747871  59.250000  50.033855      194.500000   \n",
       "\n",
       "            RICHEMONT       ROCHE     SGS       SIKA  SWISS LIFE HOLDING  \\\n",
       "2012-09-03  60.000000  174.800003  1932.0  30.766666          109.099998   \n",
       "2012-09-04  59.150002  173.000000  1904.0  30.183332          109.300003   \n",
       "2012-09-05  60.049999  174.600006  1926.0  30.333332          109.000000   \n",
       "2012-09-06  61.150002  177.600006  1945.0  30.866667          110.699997   \n",
       "2012-09-07  63.250000  177.899994  1942.0  31.400000          114.000000   \n",
       "\n",
       "             SWISS RE    SWISSCOM  UBS GROUP  ZURICH INSURANCE  \n",
       "2012-09-03  60.299999  385.200012      10.73        229.399994  \n",
       "2012-09-04  60.150002  385.799988      10.56        228.100006  \n",
       "2012-09-05  60.150002  385.799988      10.88        229.600006  \n",
       "2012-09-06  61.349998  390.299988      11.38        233.300003  \n",
       "2012-09-07  61.500000  385.299988      11.66        235.000000  "
      ]
     },
     "execution_count": 3,
     "metadata": {},
     "output_type": "execute_result"
    }
   ],
   "source": [
    "df.head()"
   ]
  },
  {
   "cell_type": "code",
   "execution_count": 4,
   "metadata": {},
   "outputs": [
    {
     "data": {
      "text/html": [
       "<div>\n",
       "<style scoped>\n",
       "    .dataframe tbody tr th:only-of-type {\n",
       "        vertical-align: middle;\n",
       "    }\n",
       "\n",
       "    .dataframe tbody tr th {\n",
       "        vertical-align: top;\n",
       "    }\n",
       "\n",
       "    .dataframe thead th {\n",
       "        text-align: right;\n",
       "    }\n",
       "</style>\n",
       "<table border=\"1\" class=\"dataframe\">\n",
       "  <thead>\n",
       "    <tr style=\"text-align: right;\">\n",
       "      <th></th>\n",
       "      <th>ABB LTD</th>\n",
       "      <th>ALCON</th>\n",
       "      <th>CS GROUP</th>\n",
       "      <th>GEBERIT</th>\n",
       "      <th>GIVAUDAN</th>\n",
       "      <th>HOLCIM</th>\n",
       "      <th>LOGITECH</th>\n",
       "      <th>LONZA</th>\n",
       "      <th>NESTLE</th>\n",
       "      <th>NOVARTIS</th>\n",
       "      <th>PARTNERS GROUP</th>\n",
       "      <th>RICHEMONT</th>\n",
       "      <th>ROCHE</th>\n",
       "      <th>SGS</th>\n",
       "      <th>SIKA</th>\n",
       "      <th>SWISS LIFE HOLDING</th>\n",
       "      <th>SWISS RE</th>\n",
       "      <th>SWISSCOM</th>\n",
       "      <th>UBS GROUP</th>\n",
       "      <th>ZURICH INSURANCE</th>\n",
       "    </tr>\n",
       "  </thead>\n",
       "  <tbody>\n",
       "    <tr>\n",
       "      <th>2022-08-29</th>\n",
       "      <td>27.430000</td>\n",
       "      <td>63.900002</td>\n",
       "      <td>5.108</td>\n",
       "      <td>452.899994</td>\n",
       "      <td>3163.0</td>\n",
       "      <td>43.849998</td>\n",
       "      <td>49.320000</td>\n",
       "      <td>524.400024</td>\n",
       "      <td>115.459999</td>\n",
       "      <td>79.970001</td>\n",
       "      <td>962.799988</td>\n",
       "      <td>111.099998</td>\n",
       "      <td>314.399994</td>\n",
       "      <td>2203.0</td>\n",
       "      <td>221.500000</td>\n",
       "      <td>507.000000</td>\n",
       "      <td>73.760002</td>\n",
       "      <td>514.000000</td>\n",
       "      <td>15.460</td>\n",
       "      <td>430.899994</td>\n",
       "    </tr>\n",
       "    <tr>\n",
       "      <th>2022-08-30</th>\n",
       "      <td>27.330000</td>\n",
       "      <td>64.360001</td>\n",
       "      <td>5.116</td>\n",
       "      <td>457.000000</td>\n",
       "      <td>3166.0</td>\n",
       "      <td>43.680000</td>\n",
       "      <td>49.299999</td>\n",
       "      <td>525.599976</td>\n",
       "      <td>115.160004</td>\n",
       "      <td>79.160004</td>\n",
       "      <td>933.000000</td>\n",
       "      <td>110.949997</td>\n",
       "      <td>316.399994</td>\n",
       "      <td>2199.0</td>\n",
       "      <td>223.899994</td>\n",
       "      <td>507.799988</td>\n",
       "      <td>74.199997</td>\n",
       "      <td>510.000000</td>\n",
       "      <td>15.490</td>\n",
       "      <td>431.000000</td>\n",
       "    </tr>\n",
       "    <tr>\n",
       "      <th>2022-08-31</th>\n",
       "      <td>26.969999</td>\n",
       "      <td>64.559998</td>\n",
       "      <td>5.060</td>\n",
       "      <td>452.899994</td>\n",
       "      <td>3129.0</td>\n",
       "      <td>43.540001</td>\n",
       "      <td>48.860001</td>\n",
       "      <td>523.400024</td>\n",
       "      <td>114.580002</td>\n",
       "      <td>79.129997</td>\n",
       "      <td>946.400024</td>\n",
       "      <td>109.849998</td>\n",
       "      <td>315.399994</td>\n",
       "      <td>2156.0</td>\n",
       "      <td>220.399994</td>\n",
       "      <td>512.400024</td>\n",
       "      <td>76.180000</td>\n",
       "      <td>506.200012</td>\n",
       "      <td>15.530</td>\n",
       "      <td>434.100006</td>\n",
       "    </tr>\n",
       "    <tr>\n",
       "      <th>2022-09-01</th>\n",
       "      <td>26.480000</td>\n",
       "      <td>64.180000</td>\n",
       "      <td>4.862</td>\n",
       "      <td>438.100006</td>\n",
       "      <td>3036.0</td>\n",
       "      <td>42.740002</td>\n",
       "      <td>47.770000</td>\n",
       "      <td>510.000000</td>\n",
       "      <td>112.959999</td>\n",
       "      <td>78.559998</td>\n",
       "      <td>902.599976</td>\n",
       "      <td>104.949997</td>\n",
       "      <td>312.799988</td>\n",
       "      <td>2110.0</td>\n",
       "      <td>212.199997</td>\n",
       "      <td>499.000000</td>\n",
       "      <td>76.180000</td>\n",
       "      <td>506.399994</td>\n",
       "      <td>14.970</td>\n",
       "      <td>423.000000</td>\n",
       "    </tr>\n",
       "    <tr>\n",
       "      <th>2022-09-02</th>\n",
       "      <td>27.410000</td>\n",
       "      <td>66.019997</td>\n",
       "      <td>5.160</td>\n",
       "      <td>454.299988</td>\n",
       "      <td>3114.0</td>\n",
       "      <td>45.049999</td>\n",
       "      <td>48.970001</td>\n",
       "      <td>526.200012</td>\n",
       "      <td>113.419998</td>\n",
       "      <td>79.449997</td>\n",
       "      <td>940.200012</td>\n",
       "      <td>107.550003</td>\n",
       "      <td>318.700012</td>\n",
       "      <td>2171.0</td>\n",
       "      <td>222.800003</td>\n",
       "      <td>515.200012</td>\n",
       "      <td>79.000000</td>\n",
       "      <td>508.200012</td>\n",
       "      <td>15.595</td>\n",
       "      <td>434.100006</td>\n",
       "    </tr>\n",
       "  </tbody>\n",
       "</table>\n",
       "</div>"
      ],
      "text/plain": [
       "              ABB LTD      ALCON  CS GROUP     GEBERIT  GIVAUDAN     HOLCIM  \\\n",
       "2022-08-29  27.430000  63.900002     5.108  452.899994    3163.0  43.849998   \n",
       "2022-08-30  27.330000  64.360001     5.116  457.000000    3166.0  43.680000   \n",
       "2022-08-31  26.969999  64.559998     5.060  452.899994    3129.0  43.540001   \n",
       "2022-09-01  26.480000  64.180000     4.862  438.100006    3036.0  42.740002   \n",
       "2022-09-02  27.410000  66.019997     5.160  454.299988    3114.0  45.049999   \n",
       "\n",
       "             LOGITECH       LONZA      NESTLE   NOVARTIS  PARTNERS GROUP  \\\n",
       "2022-08-29  49.320000  524.400024  115.459999  79.970001      962.799988   \n",
       "2022-08-30  49.299999  525.599976  115.160004  79.160004      933.000000   \n",
       "2022-08-31  48.860001  523.400024  114.580002  79.129997      946.400024   \n",
       "2022-09-01  47.770000  510.000000  112.959999  78.559998      902.599976   \n",
       "2022-09-02  48.970001  526.200012  113.419998  79.449997      940.200012   \n",
       "\n",
       "             RICHEMONT       ROCHE     SGS        SIKA  SWISS LIFE HOLDING  \\\n",
       "2022-08-29  111.099998  314.399994  2203.0  221.500000          507.000000   \n",
       "2022-08-30  110.949997  316.399994  2199.0  223.899994          507.799988   \n",
       "2022-08-31  109.849998  315.399994  2156.0  220.399994          512.400024   \n",
       "2022-09-01  104.949997  312.799988  2110.0  212.199997          499.000000   \n",
       "2022-09-02  107.550003  318.700012  2171.0  222.800003          515.200012   \n",
       "\n",
       "             SWISS RE    SWISSCOM  UBS GROUP  ZURICH INSURANCE  \n",
       "2022-08-29  73.760002  514.000000     15.460        430.899994  \n",
       "2022-08-30  74.199997  510.000000     15.490        431.000000  \n",
       "2022-08-31  76.180000  506.200012     15.530        434.100006  \n",
       "2022-09-01  76.180000  506.399994     14.970        423.000000  \n",
       "2022-09-02  79.000000  508.200012     15.595        434.100006  "
      ]
     },
     "execution_count": 4,
     "metadata": {},
     "output_type": "execute_result"
    }
   ],
   "source": [
    "df.tail()"
   ]
  },
  {
   "cell_type": "code",
   "execution_count": null,
   "metadata": {},
   "outputs": [],
   "source": []
  },
  {
   "cell_type": "markdown",
   "metadata": {},
   "source": [
    "## Daten checken"
   ]
  },
  {
   "cell_type": "markdown",
   "metadata": {},
   "source": [
    "**Länge, Spalten, Integrität**"
   ]
  },
  {
   "cell_type": "code",
   "execution_count": 5,
   "metadata": {},
   "outputs": [
    {
     "data": {
      "text/plain": [
       "(2510, 20)"
      ]
     },
     "execution_count": 5,
     "metadata": {},
     "output_type": "execute_result"
    }
   ],
   "source": [
    "df.shape"
   ]
  },
  {
   "cell_type": "code",
   "execution_count": 6,
   "metadata": {},
   "outputs": [
    {
     "data": {
      "text/plain": [
       "ABB LTD               float64\n",
       "ALCON                 float64\n",
       "CS GROUP              float64\n",
       "GEBERIT               float64\n",
       "GIVAUDAN              float64\n",
       "HOLCIM                float64\n",
       "LOGITECH              float64\n",
       "LONZA                 float64\n",
       "NESTLE                float64\n",
       "NOVARTIS              float64\n",
       "PARTNERS GROUP        float64\n",
       "RICHEMONT             float64\n",
       "ROCHE                 float64\n",
       "SGS                   float64\n",
       "SIKA                  float64\n",
       "SWISS LIFE HOLDING    float64\n",
       "SWISS RE              float64\n",
       "SWISSCOM              float64\n",
       "UBS GROUP             float64\n",
       "ZURICH INSURANCE      float64\n",
       "dtype: object"
      ]
     },
     "execution_count": 6,
     "metadata": {},
     "output_type": "execute_result"
    }
   ],
   "source": [
    "df.dtypes"
   ]
  },
  {
   "cell_type": "code",
   "execution_count": null,
   "metadata": {},
   "outputs": [],
   "source": []
  },
  {
   "cell_type": "code",
   "execution_count": null,
   "metadata": {},
   "outputs": [],
   "source": []
  },
  {
   "cell_type": "markdown",
   "metadata": {},
   "source": [
    "## Vorbereitung"
   ]
  },
  {
   "cell_type": "markdown",
   "metadata": {},
   "source": [
    "Mit welchem Typ von Daten haben wir es hier zu tun? Was müssen wir für Eigenschaften des Dataframe modifizieren, um optimal damit arbeiten zu können?\n",
    "\n",
    "**Tipp:** mit `df.index` können Sie auf die Index-Spalte zugreifen"
   ]
  },
  {
   "cell_type": "code",
   "execution_count": 7,
   "metadata": {},
   "outputs": [],
   "source": [
    "# Wir müssen die Indexspalte als Datetime \n",
    "df.index = pd.to_datetime(df.index)"
   ]
  },
  {
   "cell_type": "code",
   "execution_count": null,
   "metadata": {},
   "outputs": [],
   "source": []
  },
  {
   "cell_type": "markdown",
   "metadata": {},
   "source": [
    "## Explorieren"
   ]
  },
  {
   "cell_type": "markdown",
   "metadata": {},
   "source": [
    "Ihr Ziel ist, aus den Börsendaten eine einfache Story zu generieren.\n",
    "\n",
    "Überlegen Sie sich dazu:\n",
    "- Was sind mögliche interessante Fragen?\n",
    "- Welche Auswertungen sind nötig, um die Fragen zu beanworten?\n",
    "- Wie stellen Sie die Resultate mittels Grafiken dar?\n",
    "\n",
    "Arbeiten Sie in Gruppen, um ein Ergebnis zu erarbeiten!"
   ]
  },
  {
   "cell_type": "code",
   "execution_count": null,
   "metadata": {},
   "outputs": [],
   "source": []
  },
  {
   "cell_type": "markdown",
   "metadata": {},
   "source": [
    "**Beispiel 1:** Wertsteigerung der Firmen in den letzten fünf Jahren: 5 beste und 5 schlechteste"
   ]
  },
  {
   "cell_type": "code",
   "execution_count": 8,
   "metadata": {},
   "outputs": [],
   "source": [
    "# Wir wählen die erste Zeile aus und dividieren sämtliche Zeilen durch sie"
   ]
  },
  {
   "cell_type": "code",
   "execution_count": 9,
   "metadata": {},
   "outputs": [],
   "source": [
    "s_first = df.iloc[0]"
   ]
  },
  {
   "cell_type": "code",
   "execution_count": 10,
   "metadata": {},
   "outputs": [],
   "source": [
    "df_indexed = ((df / s_first) - 1) * 100"
   ]
  },
  {
   "cell_type": "code",
   "execution_count": 11,
   "metadata": {},
   "outputs": [],
   "source": [
    "# Die letzte Zeile gibt uns die gesamte Veränderung an"
   ]
  },
  {
   "cell_type": "code",
   "execution_count": 12,
   "metadata": {},
   "outputs": [],
   "source": [
    "s_5y_chg = df_indexed.iloc[-1].sort_values(ascending=False)"
   ]
  },
  {
   "cell_type": "code",
   "execution_count": 13,
   "metadata": {},
   "outputs": [],
   "source": [
    "# Beste 5 Firmen:"
   ]
  },
  {
   "cell_type": "code",
   "execution_count": 14,
   "metadata": {},
   "outputs": [
    {
     "data": {
      "text/plain": [
       "<AxesSubplot:title={'center':'Kursveränderung in Prozent: Top 5'}>"
      ]
     },
     "execution_count": 14,
     "metadata": {},
     "output_type": "execute_result"
    },
    {
     "data": {
      "image/png": "[encoded data removed]",
      "text/plain": [
       "<Figure size 640x480 with 1 Axes>"
      ]
     },
     "metadata": {},
     "output_type": "display_data"
    }
   ],
   "source": [
    "s_5y_chg.head(5).plot(kind='bar', title='Kursveränderung in Prozent: Top 5')"
   ]
  },
  {
   "cell_type": "code",
   "execution_count": 15,
   "metadata": {},
   "outputs": [],
   "source": [
    "# Schlechteste 5 Firmen:"
   ]
  },
  {
   "cell_type": "code",
   "execution_count": 16,
   "metadata": {},
   "outputs": [
    {
     "data": {
      "text/plain": [
       "<AxesSubplot:title={'center':'Kursveränderung in Prozent: Bottom 5'}>"
      ]
     },
     "execution_count": 16,
     "metadata": {},
     "output_type": "execute_result"
    },
    {
     "data": {
      "image/png": "[encoded data removed]",
      "text/plain": [
       "<Figure size 640x480 with 1 Axes>"
      ]
     },
     "metadata": {},
     "output_type": "display_data"
    }
   ],
   "source": [
    "s_5y_chg.sort_values().head(5).plot(kind='bar', title='Kursveränderung in Prozent: Bottom 5')"
   ]
  },
  {
   "cell_type": "code",
   "execution_count": null,
   "metadata": {},
   "outputs": [],
   "source": []
  },
  {
   "cell_type": "markdown",
   "metadata": {},
   "source": [
    "**Beispiel 2:** Firmen, deren Jahresperformance 2022 (bis dato) gegenüber der Performance im letzten Jahr am meisten verbessert hat"
   ]
  },
  {
   "cell_type": "code",
   "execution_count": 17,
   "metadata": {},
   "outputs": [],
   "source": [
    "# Jahresendkurse"
   ]
  },
  {
   "cell_type": "code",
   "execution_count": 18,
   "metadata": {},
   "outputs": [],
   "source": [
    "df_end = df.resample('A').last()"
   ]
  },
  {
   "cell_type": "code",
   "execution_count": 19,
   "metadata": {},
   "outputs": [
    {
     "data": {
      "text/html": [
       "<div>\n",
       "<style scoped>\n",
       "    .dataframe tbody tr th:only-of-type {\n",
       "        vertical-align: middle;\n",
       "    }\n",
       "\n",
       "    .dataframe tbody tr th {\n",
       "        vertical-align: top;\n",
       "    }\n",
       "\n",
       "    .dataframe thead th {\n",
       "        text-align: right;\n",
       "    }\n",
       "</style>\n",
       "<table border=\"1\" class=\"dataframe\">\n",
       "  <thead>\n",
       "    <tr style=\"text-align: right;\">\n",
       "      <th></th>\n",
       "      <th>ABB LTD</th>\n",
       "      <th>ALCON</th>\n",
       "      <th>CS GROUP</th>\n",
       "      <th>GEBERIT</th>\n",
       "      <th>GIVAUDAN</th>\n",
       "      <th>HOLCIM</th>\n",
       "      <th>LOGITECH</th>\n",
       "      <th>LONZA</th>\n",
       "      <th>NESTLE</th>\n",
       "      <th>NOVARTIS</th>\n",
       "      <th>PARTNERS GROUP</th>\n",
       "      <th>RICHEMONT</th>\n",
       "      <th>ROCHE</th>\n",
       "      <th>SGS</th>\n",
       "      <th>SIKA</th>\n",
       "      <th>SWISS LIFE HOLDING</th>\n",
       "      <th>SWISS RE</th>\n",
       "      <th>SWISSCOM</th>\n",
       "      <th>UBS GROUP</th>\n",
       "      <th>ZURICH INSURANCE</th>\n",
       "    </tr>\n",
       "  </thead>\n",
       "  <tbody>\n",
       "    <tr>\n",
       "      <th>2012-12-31</th>\n",
       "      <td>18.750000</td>\n",
       "      <td>NaN</td>\n",
       "      <td>20.379152</td>\n",
       "      <td>201.399994</td>\n",
       "      <td>963.0</td>\n",
       "      <td>63.714287</td>\n",
       "      <td>6.930000</td>\n",
       "      <td>45.721653</td>\n",
       "      <td>59.599998</td>\n",
       "      <td>50.785248</td>\n",
       "      <td>211.199997</td>\n",
       "      <td>71.400002</td>\n",
       "      <td>184.000000</td>\n",
       "      <td>2026.0</td>\n",
       "      <td>35.166664</td>\n",
       "      <td>121.400002</td>\n",
       "      <td>65.900002</td>\n",
       "      <td>393.799988</td>\n",
       "      <td>14.270000</td>\n",
       "      <td>243.399994</td>\n",
       "    </tr>\n",
       "    <tr>\n",
       "      <th>2013-12-31</th>\n",
       "      <td>23.480000</td>\n",
       "      <td>NaN</td>\n",
       "      <td>25.574753</td>\n",
       "      <td>270.500000</td>\n",
       "      <td>1274.0</td>\n",
       "      <td>63.571426</td>\n",
       "      <td>12.250000</td>\n",
       "      <td>78.364098</td>\n",
       "      <td>65.300003</td>\n",
       "      <td>62.940117</td>\n",
       "      <td>237.899994</td>\n",
       "      <td>88.800003</td>\n",
       "      <td>249.199997</td>\n",
       "      <td>2052.0</td>\n",
       "      <td>52.849998</td>\n",
       "      <td>185.199997</td>\n",
       "      <td>82.050003</td>\n",
       "      <td>470.899994</td>\n",
       "      <td>16.920000</td>\n",
       "      <td>258.500000</td>\n",
       "    </tr>\n",
       "    <tr>\n",
       "      <th>2014-12-31</th>\n",
       "      <td>21.139999</td>\n",
       "      <td>NaN</td>\n",
       "      <td>23.520893</td>\n",
       "      <td>338.399994</td>\n",
       "      <td>1793.0</td>\n",
       "      <td>67.952377</td>\n",
       "      <td>13.450000</td>\n",
       "      <td>103.929688</td>\n",
       "      <td>72.949997</td>\n",
       "      <td>81.636513</td>\n",
       "      <td>289.500000</td>\n",
       "      <td>88.800003</td>\n",
       "      <td>269.899994</td>\n",
       "      <td>2045.0</td>\n",
       "      <td>48.933334</td>\n",
       "      <td>236.399994</td>\n",
       "      <td>83.650002</td>\n",
       "      <td>522.500000</td>\n",
       "      <td>17.090000</td>\n",
       "      <td>311.700012</td>\n",
       "    </tr>\n",
       "    <tr>\n",
       "      <th>2015-12-31</th>\n",
       "      <td>17.959999</td>\n",
       "      <td>NaN</td>\n",
       "      <td>20.929121</td>\n",
       "      <td>340.200012</td>\n",
       "      <td>1823.0</td>\n",
       "      <td>50.299999</td>\n",
       "      <td>15.400000</td>\n",
       "      <td>151.077835</td>\n",
       "      <td>74.550003</td>\n",
       "      <td>76.730370</td>\n",
       "      <td>361.250000</td>\n",
       "      <td>72.099998</td>\n",
       "      <td>276.399994</td>\n",
       "      <td>1911.0</td>\n",
       "      <td>60.333332</td>\n",
       "      <td>271.299988</td>\n",
       "      <td>98.150002</td>\n",
       "      <td>503.000000</td>\n",
       "      <td>19.520000</td>\n",
       "      <td>258.399994</td>\n",
       "    </tr>\n",
       "    <tr>\n",
       "      <th>2016-12-31</th>\n",
       "      <td>21.480000</td>\n",
       "      <td>NaN</td>\n",
       "      <td>14.097485</td>\n",
       "      <td>408.200012</td>\n",
       "      <td>1866.0</td>\n",
       "      <td>53.650002</td>\n",
       "      <td>25.400000</td>\n",
       "      <td>163.304855</td>\n",
       "      <td>73.050003</td>\n",
       "      <td>65.503685</td>\n",
       "      <td>477.250000</td>\n",
       "      <td>67.449997</td>\n",
       "      <td>232.600006</td>\n",
       "      <td>2072.0</td>\n",
       "      <td>81.533333</td>\n",
       "      <td>288.200012</td>\n",
       "      <td>96.500000</td>\n",
       "      <td>456.100006</td>\n",
       "      <td>15.950000</td>\n",
       "      <td>280.399994</td>\n",
       "    </tr>\n",
       "    <tr>\n",
       "      <th>2017-12-31</th>\n",
       "      <td>26.120001</td>\n",
       "      <td>NaN</td>\n",
       "      <td>17.400000</td>\n",
       "      <td>429.100006</td>\n",
       "      <td>2252.0</td>\n",
       "      <td>54.950001</td>\n",
       "      <td>32.900002</td>\n",
       "      <td>263.299988</td>\n",
       "      <td>83.800003</td>\n",
       "      <td>72.840813</td>\n",
       "      <td>668.000000</td>\n",
       "      <td>88.300003</td>\n",
       "      <td>246.500000</td>\n",
       "      <td>2541.0</td>\n",
       "      <td>129.000000</td>\n",
       "      <td>345.000000</td>\n",
       "      <td>91.250000</td>\n",
       "      <td>518.500000</td>\n",
       "      <td>17.940001</td>\n",
       "      <td>296.600006</td>\n",
       "    </tr>\n",
       "    <tr>\n",
       "      <th>2018-12-31</th>\n",
       "      <td>18.695000</td>\n",
       "      <td>NaN</td>\n",
       "      <td>10.800000</td>\n",
       "      <td>382.299988</td>\n",
       "      <td>2276.0</td>\n",
       "      <td>40.500000</td>\n",
       "      <td>30.920000</td>\n",
       "      <td>254.699997</td>\n",
       "      <td>79.800003</td>\n",
       "      <td>74.290550</td>\n",
       "      <td>596.000000</td>\n",
       "      <td>63.000000</td>\n",
       "      <td>243.399994</td>\n",
       "      <td>2210.0</td>\n",
       "      <td>124.599998</td>\n",
       "      <td>378.600006</td>\n",
       "      <td>90.120003</td>\n",
       "      <td>469.700012</td>\n",
       "      <td>12.235000</td>\n",
       "      <td>293.100006</td>\n",
       "    </tr>\n",
       "    <tr>\n",
       "      <th>2019-12-31</th>\n",
       "      <td>23.370001</td>\n",
       "      <td>54.799999</td>\n",
       "      <td>13.105000</td>\n",
       "      <td>543.200012</td>\n",
       "      <td>3031.0</td>\n",
       "      <td>53.700001</td>\n",
       "      <td>45.830002</td>\n",
       "      <td>353.200012</td>\n",
       "      <td>104.779999</td>\n",
       "      <td>91.900002</td>\n",
       "      <td>887.400024</td>\n",
       "      <td>76.059998</td>\n",
       "      <td>314.000000</td>\n",
       "      <td>2651.0</td>\n",
       "      <td>181.850006</td>\n",
       "      <td>485.799988</td>\n",
       "      <td>108.699997</td>\n",
       "      <td>512.599976</td>\n",
       "      <td>12.225000</td>\n",
       "      <td>397.100006</td>\n",
       "    </tr>\n",
       "    <tr>\n",
       "      <th>2020-12-31</th>\n",
       "      <td>24.709999</td>\n",
       "      <td>58.840000</td>\n",
       "      <td>11.400000</td>\n",
       "      <td>554.200012</td>\n",
       "      <td>3730.0</td>\n",
       "      <td>48.619999</td>\n",
       "      <td>85.919998</td>\n",
       "      <td>568.799988</td>\n",
       "      <td>104.260002</td>\n",
       "      <td>83.650002</td>\n",
       "      <td>1040.000000</td>\n",
       "      <td>80.080002</td>\n",
       "      <td>309.000000</td>\n",
       "      <td>2670.0</td>\n",
       "      <td>241.800003</td>\n",
       "      <td>412.399994</td>\n",
       "      <td>83.339996</td>\n",
       "      <td>477.100006</td>\n",
       "      <td>12.470000</td>\n",
       "      <td>373.500000</td>\n",
       "    </tr>\n",
       "    <tr>\n",
       "      <th>2021-12-31</th>\n",
       "      <td>34.900002</td>\n",
       "      <td>80.739998</td>\n",
       "      <td>8.872000</td>\n",
       "      <td>745.200012</td>\n",
       "      <td>4792.0</td>\n",
       "      <td>46.509998</td>\n",
       "      <td>76.879997</td>\n",
       "      <td>761.599976</td>\n",
       "      <td>127.440002</td>\n",
       "      <td>80.279999</td>\n",
       "      <td>1512.500000</td>\n",
       "      <td>136.949997</td>\n",
       "      <td>379.100006</td>\n",
       "      <td>3047.0</td>\n",
       "      <td>380.200012</td>\n",
       "      <td>559.000000</td>\n",
       "      <td>90.260002</td>\n",
       "      <td>514.599976</td>\n",
       "      <td>16.420000</td>\n",
       "      <td>400.399994</td>\n",
       "    </tr>\n",
       "    <tr>\n",
       "      <th>2022-12-31</th>\n",
       "      <td>27.410000</td>\n",
       "      <td>66.019997</td>\n",
       "      <td>5.160000</td>\n",
       "      <td>454.299988</td>\n",
       "      <td>3114.0</td>\n",
       "      <td>45.049999</td>\n",
       "      <td>48.970001</td>\n",
       "      <td>526.200012</td>\n",
       "      <td>113.419998</td>\n",
       "      <td>79.449997</td>\n",
       "      <td>940.200012</td>\n",
       "      <td>107.550003</td>\n",
       "      <td>318.700012</td>\n",
       "      <td>2171.0</td>\n",
       "      <td>222.800003</td>\n",
       "      <td>515.200012</td>\n",
       "      <td>79.000000</td>\n",
       "      <td>508.200012</td>\n",
       "      <td>15.595000</td>\n",
       "      <td>434.100006</td>\n",
       "    </tr>\n",
       "  </tbody>\n",
       "</table>\n",
       "</div>"
      ],
      "text/plain": [
       "              ABB LTD      ALCON   CS GROUP     GEBERIT  GIVAUDAN     HOLCIM  \\\n",
       "2012-12-31  18.750000        NaN  20.379152  201.399994     963.0  63.714287   \n",
       "2013-12-31  23.480000        NaN  25.574753  270.500000    1274.0  63.571426   \n",
       "2014-12-31  21.139999        NaN  23.520893  338.399994    1793.0  67.952377   \n",
       "2015-12-31  17.959999        NaN  20.929121  340.200012    1823.0  50.299999   \n",
       "2016-12-31  21.480000        NaN  14.097485  408.200012    1866.0  53.650002   \n",
       "2017-12-31  26.120001        NaN  17.400000  429.100006    2252.0  54.950001   \n",
       "2018-12-31  18.695000        NaN  10.800000  382.299988    2276.0  40.500000   \n",
       "2019-12-31  23.370001  54.799999  13.105000  543.200012    3031.0  53.700001   \n",
       "2020-12-31  24.709999  58.840000  11.400000  554.200012    3730.0  48.619999   \n",
       "2021-12-31  34.900002  80.739998   8.872000  745.200012    4792.0  46.509998   \n",
       "2022-12-31  27.410000  66.019997   5.160000  454.299988    3114.0  45.049999   \n",
       "\n",
       "             LOGITECH       LONZA      NESTLE   NOVARTIS  PARTNERS GROUP  \\\n",
       "2012-12-31   6.930000   45.721653   59.599998  50.785248      211.199997   \n",
       "2013-12-31  12.250000   78.364098   65.300003  62.940117      237.899994   \n",
       "2014-12-31  13.450000  103.929688   72.949997  81.636513      289.500000   \n",
       "2015-12-31  15.400000  151.077835   74.550003  76.730370      361.250000   \n",
       "2016-12-31  25.400000  163.304855   73.050003  65.503685      477.250000   \n",
       "2017-12-31  32.900002  263.299988   83.800003  72.840813      668.000000   \n",
       "2018-12-31  30.920000  254.699997   79.800003  74.290550      596.000000   \n",
       "2019-12-31  45.830002  353.200012  104.779999  91.900002      887.400024   \n",
       "2020-12-31  85.919998  568.799988  104.260002  83.650002     1040.000000   \n",
       "2021-12-31  76.879997  761.599976  127.440002  80.279999     1512.500000   \n",
       "2022-12-31  48.970001  526.200012  113.419998  79.449997      940.200012   \n",
       "\n",
       "             RICHEMONT       ROCHE     SGS        SIKA  SWISS LIFE HOLDING  \\\n",
       "2012-12-31   71.400002  184.000000  2026.0   35.166664          121.400002   \n",
       "2013-12-31   88.800003  249.199997  2052.0   52.849998          185.199997   \n",
       "2014-12-31   88.800003  269.899994  2045.0   48.933334          236.399994   \n",
       "2015-12-31   72.099998  276.399994  1911.0   60.333332          271.299988   \n",
       "2016-12-31   67.449997  232.600006  2072.0   81.533333          288.200012   \n",
       "2017-12-31   88.300003  246.500000  2541.0  129.000000          345.000000   \n",
       "2018-12-31   63.000000  243.399994  2210.0  124.599998          378.600006   \n",
       "2019-12-31   76.059998  314.000000  2651.0  181.850006          485.799988   \n",
       "2020-12-31   80.080002  309.000000  2670.0  241.800003          412.399994   \n",
       "2021-12-31  136.949997  379.100006  3047.0  380.200012          559.000000   \n",
       "2022-12-31  107.550003  318.700012  2171.0  222.800003          515.200012   \n",
       "\n",
       "              SWISS RE    SWISSCOM  UBS GROUP  ZURICH INSURANCE  \n",
       "2012-12-31   65.900002  393.799988  14.270000        243.399994  \n",
       "2013-12-31   82.050003  470.899994  16.920000        258.500000  \n",
       "2014-12-31   83.650002  522.500000  17.090000        311.700012  \n",
       "2015-12-31   98.150002  503.000000  19.520000        258.399994  \n",
       "2016-12-31   96.500000  456.100006  15.950000        280.399994  \n",
       "2017-12-31   91.250000  518.500000  17.940001        296.600006  \n",
       "2018-12-31   90.120003  469.700012  12.235000        293.100006  \n",
       "2019-12-31  108.699997  512.599976  12.225000        397.100006  \n",
       "2020-12-31   83.339996  477.100006  12.470000        373.500000  \n",
       "2021-12-31   90.260002  514.599976  16.420000        400.399994  \n",
       "2022-12-31   79.000000  508.200012  15.595000        434.100006  "
      ]
     },
     "execution_count": 19,
     "metadata": {},
     "output_type": "execute_result"
    }
   ],
   "source": [
    "df_end"
   ]
  },
  {
   "cell_type": "code",
   "execution_count": 20,
   "metadata": {},
   "outputs": [],
   "source": [
    "# Veränderungen 2019 resp 2018"
   ]
  },
  {
   "cell_type": "code",
   "execution_count": 21,
   "metadata": {},
   "outputs": [],
   "source": [
    "s_2022 = (df_end.loc['2022-12-31'] / df_end.loc['2021-12-31'] - 1) * 100"
   ]
  },
  {
   "cell_type": "code",
   "execution_count": 22,
   "metadata": {},
   "outputs": [],
   "source": [
    "s_2021 = (df_end.loc['2021-12-31'] / df_end.loc['2020-12-31'] - 1) * 100"
   ]
  },
  {
   "cell_type": "code",
   "execution_count": 23,
   "metadata": {},
   "outputs": [],
   "source": [
    "# Differenz"
   ]
  },
  {
   "cell_type": "code",
   "execution_count": 24,
   "metadata": {},
   "outputs": [],
   "source": [
    "s_chg_2021_22 = s_2021 - s_2022"
   ]
  },
  {
   "cell_type": "code",
   "execution_count": 25,
   "metadata": {},
   "outputs": [
    {
     "data": {
      "text/plain": [
       "SIKA                  98.636654\n",
       "RICHEMONT             92.484161\n",
       "PARTNERS GROUP        83.270708\n",
       "GEBERIT               73.500594\n",
       "LONZA                 64.804530\n",
       "GIVAUDAN              63.488544\n",
       "ABB LTD               62.699701\n",
       "ALCON                 55.450937\n",
       "SWISS LIFE HOLDING    43.383432\n",
       "SGS                   42.869440\n",
       "ROCHE                 38.618556\n",
       "UBS GROUP             36.700383\n",
       "NESTLE                33.234137\n",
       "LOGITECH              25.781909\n",
       "SWISS RE              20.778417\n",
       "CS GROUP              19.664056\n",
       "SWISSCOM               9.103659\n",
       "HOLCIM                -1.200672\n",
       "ZURICH INSURANCE      -1.214446\n",
       "NOVARTIS              -2.994811\n",
       "dtype: float64"
      ]
     },
     "execution_count": 25,
     "metadata": {},
     "output_type": "execute_result"
    }
   ],
   "source": [
    "s_chg_2021_22.sort_values(ascending=False)"
   ]
  },
  {
   "cell_type": "code",
   "execution_count": 26,
   "metadata": {},
   "outputs": [],
   "source": [
    "# Top 10 Verbesserungen"
   ]
  },
  {
   "cell_type": "code",
   "execution_count": 27,
   "metadata": {},
   "outputs": [
    {
     "data": {
      "text/plain": [
       "<AxesSubplot:>"
      ]
     },
     "execution_count": 27,
     "metadata": {},
     "output_type": "execute_result"
    },
    {
     "data": {
      "image/png": "[encoded data removed]",
      "text/plain": [
       "<Figure size 640x480 with 1 Axes>"
      ]
     },
     "metadata": {},
     "output_type": "display_data"
    }
   ],
   "source": [
    "s_chg_2021_22.sort_values(ascending=False).head(10).plot(kind='bar')"
   ]
  },
  {
   "cell_type": "code",
   "execution_count": null,
   "metadata": {},
   "outputs": [],
   "source": []
  },
  {
   "cell_type": "markdown",
   "metadata": {},
   "source": [
    "## Die Story\n",
    "Wählen Sie eine ihrer Fragen aus, die Sie bearbeitet haben.\n",
    "- Drei bis vier Sätze, welche die Story zusammenfassen\n",
    "- eine oder mehrere Grafiken, die das Ergebnis illustrieren"
   ]
  },
  {
   "cell_type": "code",
   "execution_count": null,
   "metadata": {},
   "outputs": [],
   "source": []
  },
  {
   "cell_type": "code",
   "execution_count": null,
   "metadata": {},
   "outputs": [],
   "source": []
  },
  {
   "cell_type": "code",
   "execution_count": null,
   "metadata": {},
   "outputs": [],
   "source": []
  },
  {
   "cell_type": "code",
   "execution_count": null,
   "metadata": {},
   "outputs": [],
   "source": []
  },
  {
   "cell_type": "code",
   "execution_count": null,
   "metadata": {},
   "outputs": [],
   "source": []
  },
  {
   "cell_type": "code",
   "execution_count": null,
   "metadata": {},
   "outputs": [],
   "source": []
  },
  {
   "cell_type": "code",
   "execution_count": null,
   "metadata": {},
   "outputs": [],
   "source": []
  },
  {
   "cell_type": "code",
   "execution_count": null,
   "metadata": {},
   "outputs": [],
   "source": []
  }
 ],
 "metadata": {
  "kernelspec": {
   "display_name": "Python 3 (ipykernel)",
   "language": "python",
   "name": "python3"
  },
  "language_info": {
   "codemirror_mode": {
    "name": "ipython",
    "version": 3
   },
   "file_extension": ".py",
   "mimetype": "text/x-python",
   "name": "python",
   "nbconvert_exporter": "python",
   "pygments_lexer": "ipython3",
   "version": "3.10.6"
  }
 },
 "nbformat": 4,
 "nbformat_minor": 2
}
