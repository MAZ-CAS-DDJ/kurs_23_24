{
 "cells": [
  {
   "cell_type": "markdown",
   "id": "83ba797e",
   "metadata": {},
   "source": [
    "Zeilen zu einem Dataframe hinzufügen"
   ]
  },
  {
   "cell_type": "code",
   "execution_count": 1,
   "id": "8ade5363",
   "metadata": {},
   "outputs": [],
   "source": [
    "import pandas as pd"
   ]
  },
  {
   "cell_type": "markdown",
   "id": "d2f7face",
   "metadata": {},
   "source": [
    "Beispiel: Studenten"
   ]
  },
  {
   "cell_type": "code",
   "execution_count": 2,
   "id": "6468fddd",
   "metadata": {},
   "outputs": [],
   "source": [
    "df = pd.read_excel(\"dataprojects/merge/students.xlsx\")"
   ]
  },
  {
   "cell_type": "code",
   "execution_count": 3,
   "id": "7d88ae4c",
   "metadata": {},
   "outputs": [
    {
     "data": {
      "text/html": [
       "<div>\n",
       "<style scoped>\n",
       "    .dataframe tbody tr th:only-of-type {\n",
       "        vertical-align: middle;\n",
       "    }\n",
       "\n",
       "    .dataframe tbody tr th {\n",
       "        vertical-align: top;\n",
       "    }\n",
       "\n",
       "    .dataframe thead th {\n",
       "        text-align: right;\n",
       "    }\n",
       "</style>\n",
       "<table border=\"1\" class=\"dataframe\">\n",
       "  <thead>\n",
       "    <tr style=\"text-align: right;\">\n",
       "      <th></th>\n",
       "      <th>id</th>\n",
       "      <th>name</th>\n",
       "      <th>kurs</th>\n",
       "    </tr>\n",
       "  </thead>\n",
       "  <tbody>\n",
       "    <tr>\n",
       "      <th>0</th>\n",
       "      <td>2022-001</td>\n",
       "      <td>Adam</td>\n",
       "      <td>CAS Datenjournlismus</td>\n",
       "    </tr>\n",
       "    <tr>\n",
       "      <th>1</th>\n",
       "      <td>2022-002</td>\n",
       "      <td>Doris</td>\n",
       "      <td>CAS Datenjournlismus</td>\n",
       "    </tr>\n",
       "    <tr>\n",
       "      <th>2</th>\n",
       "      <td>2022-003</td>\n",
       "      <td>Greta</td>\n",
       "      <td>Reportagen schreiben</td>\n",
       "    </tr>\n",
       "    <tr>\n",
       "      <th>3</th>\n",
       "      <td>2022-004</td>\n",
       "      <td>Ida</td>\n",
       "      <td>Reportagen schreiben</td>\n",
       "    </tr>\n",
       "    <tr>\n",
       "      <th>4</th>\n",
       "      <td>2022-005</td>\n",
       "      <td>Eduard</td>\n",
       "      <td>CAS Datenjournlismus</td>\n",
       "    </tr>\n",
       "    <tr>\n",
       "      <th>5</th>\n",
       "      <td>2022-006</td>\n",
       "      <td>Berta</td>\n",
       "      <td>CAS Datenjournlismus</td>\n",
       "    </tr>\n",
       "    <tr>\n",
       "      <th>6</th>\n",
       "      <td>2022-007</td>\n",
       "      <td>Carl</td>\n",
       "      <td>CAS Datenjournlismus</td>\n",
       "    </tr>\n",
       "    <tr>\n",
       "      <th>7</th>\n",
       "      <td>2022-008</td>\n",
       "      <td>Falco</td>\n",
       "      <td>Reportagen schreiben</td>\n",
       "    </tr>\n",
       "    <tr>\n",
       "      <th>8</th>\n",
       "      <td>2022-009</td>\n",
       "      <td>Jakob</td>\n",
       "      <td>Reportagen schreiben</td>\n",
       "    </tr>\n",
       "  </tbody>\n",
       "</table>\n",
       "</div>"
      ],
      "text/plain": [
       "         id    name                  kurs\n",
       "0  2022-001    Adam  CAS Datenjournlismus\n",
       "1  2022-002   Doris  CAS Datenjournlismus\n",
       "2  2022-003   Greta  Reportagen schreiben\n",
       "3  2022-004     Ida  Reportagen schreiben\n",
       "4  2022-005  Eduard  CAS Datenjournlismus\n",
       "5  2022-006   Berta  CAS Datenjournlismus\n",
       "6  2022-007    Carl  CAS Datenjournlismus\n",
       "7  2022-008   Falco  Reportagen schreiben\n",
       "8  2022-009   Jakob  Reportagen schreiben"
      ]
     },
     "execution_count": 3,
     "metadata": {},
     "output_type": "execute_result"
    }
   ],
   "source": [
    "df"
   ]
  },
  {
   "cell_type": "markdown",
   "id": "41a0dd86",
   "metadata": {},
   "source": [
    "Wir wollen folgenden Eintrag hinzufügen:"
   ]
  },
  {
   "cell_type": "code",
   "execution_count": 4,
   "id": "b45aacd9",
   "metadata": {},
   "outputs": [],
   "source": [
    "new_student = {\n",
    "    \"id\": \"2022-010\",\n",
    "    \"name\": \"Kurt\",\n",
    "    \"kurs\": \"Reportagen schreiben\"\n",
    "}"
   ]
  },
  {
   "cell_type": "markdown",
   "id": "64049a8e",
   "metadata": {},
   "source": [
    "### Alte Methode: append()"
   ]
  },
  {
   "cell_type": "markdown",
   "id": "8de6603c",
   "metadata": {},
   "source": [
    "Produziert Warning, geht aber immer noch:"
   ]
  },
  {
   "cell_type": "code",
   "execution_count": 6,
   "id": "a2e7d050",
   "metadata": {},
   "outputs": [
    {
     "name": "stderr",
     "output_type": "stream",
     "text": [
      "/var/folders/y4/4cj_z2tj0vz904cw1wtz5z0c0000gn/T/ipykernel_41563/2129537381.py:1: FutureWarning: The frame.append method is deprecated and will be removed from pandas in a future version. Use pandas.concat instead.\n",
      "  df.append(new_student, ignore_index=True)\n"
     ]
    },
    {
     "data": {
      "text/html": [
       "<div>\n",
       "<style scoped>\n",
       "    .dataframe tbody tr th:only-of-type {\n",
       "        vertical-align: middle;\n",
       "    }\n",
       "\n",
       "    .dataframe tbody tr th {\n",
       "        vertical-align: top;\n",
       "    }\n",
       "\n",
       "    .dataframe thead th {\n",
       "        text-align: right;\n",
       "    }\n",
       "</style>\n",
       "<table border=\"1\" class=\"dataframe\">\n",
       "  <thead>\n",
       "    <tr style=\"text-align: right;\">\n",
       "      <th></th>\n",
       "      <th>id</th>\n",
       "      <th>name</th>\n",
       "      <th>kurs</th>\n",
       "    </tr>\n",
       "  </thead>\n",
       "  <tbody>\n",
       "    <tr>\n",
       "      <th>0</th>\n",
       "      <td>2022-001</td>\n",
       "      <td>Adam</td>\n",
       "      <td>CAS Datenjournlismus</td>\n",
       "    </tr>\n",
       "    <tr>\n",
       "      <th>1</th>\n",
       "      <td>2022-002</td>\n",
       "      <td>Doris</td>\n",
       "      <td>CAS Datenjournlismus</td>\n",
       "    </tr>\n",
       "    <tr>\n",
       "      <th>2</th>\n",
       "      <td>2022-003</td>\n",
       "      <td>Greta</td>\n",
       "      <td>Reportagen schreiben</td>\n",
       "    </tr>\n",
       "    <tr>\n",
       "      <th>3</th>\n",
       "      <td>2022-004</td>\n",
       "      <td>Ida</td>\n",
       "      <td>Reportagen schreiben</td>\n",
       "    </tr>\n",
       "    <tr>\n",
       "      <th>4</th>\n",
       "      <td>2022-005</td>\n",
       "      <td>Eduard</td>\n",
       "      <td>CAS Datenjournlismus</td>\n",
       "    </tr>\n",
       "    <tr>\n",
       "      <th>5</th>\n",
       "      <td>2022-006</td>\n",
       "      <td>Berta</td>\n",
       "      <td>CAS Datenjournlismus</td>\n",
       "    </tr>\n",
       "    <tr>\n",
       "      <th>6</th>\n",
       "      <td>2022-007</td>\n",
       "      <td>Carl</td>\n",
       "      <td>CAS Datenjournlismus</td>\n",
       "    </tr>\n",
       "    <tr>\n",
       "      <th>7</th>\n",
       "      <td>2022-008</td>\n",
       "      <td>Falco</td>\n",
       "      <td>Reportagen schreiben</td>\n",
       "    </tr>\n",
       "    <tr>\n",
       "      <th>8</th>\n",
       "      <td>2022-009</td>\n",
       "      <td>Jakob</td>\n",
       "      <td>Reportagen schreiben</td>\n",
       "    </tr>\n",
       "    <tr>\n",
       "      <th>9</th>\n",
       "      <td>2022-010</td>\n",
       "      <td>Kurt</td>\n",
       "      <td>Reportagen schreiben</td>\n",
       "    </tr>\n",
       "  </tbody>\n",
       "</table>\n",
       "</div>"
      ],
      "text/plain": [
       "         id    name                  kurs\n",
       "0  2022-001    Adam  CAS Datenjournlismus\n",
       "1  2022-002   Doris  CAS Datenjournlismus\n",
       "2  2022-003   Greta  Reportagen schreiben\n",
       "3  2022-004     Ida  Reportagen schreiben\n",
       "4  2022-005  Eduard  CAS Datenjournlismus\n",
       "5  2022-006   Berta  CAS Datenjournlismus\n",
       "6  2022-007    Carl  CAS Datenjournlismus\n",
       "7  2022-008   Falco  Reportagen schreiben\n",
       "8  2022-009   Jakob  Reportagen schreiben\n",
       "9  2022-010    Kurt  Reportagen schreiben"
      ]
     },
     "execution_count": 6,
     "metadata": {},
     "output_type": "execute_result"
    }
   ],
   "source": [
    "df.append(new_student, ignore_index=True)"
   ]
  },
  {
   "cell_type": "markdown",
   "id": "a190af4f",
   "metadata": {},
   "source": [
    "### Neue Methode: pd.concat()"
   ]
  },
  {
   "cell_type": "markdown",
   "id": "4c850292",
   "metadata": {},
   "source": [
    "Schritt 1: neues Mini-DF erstellen"
   ]
  },
  {
   "cell_type": "code",
   "execution_count": 7,
   "id": "29785db4",
   "metadata": {},
   "outputs": [
    {
     "data": {
      "text/html": [
       "<div>\n",
       "<style scoped>\n",
       "    .dataframe tbody tr th:only-of-type {\n",
       "        vertical-align: middle;\n",
       "    }\n",
       "\n",
       "    .dataframe tbody tr th {\n",
       "        vertical-align: top;\n",
       "    }\n",
       "\n",
       "    .dataframe thead th {\n",
       "        text-align: right;\n",
       "    }\n",
       "</style>\n",
       "<table border=\"1\" class=\"dataframe\">\n",
       "  <thead>\n",
       "    <tr style=\"text-align: right;\">\n",
       "      <th></th>\n",
       "      <th>id</th>\n",
       "      <th>name</th>\n",
       "      <th>kurs</th>\n",
       "    </tr>\n",
       "  </thead>\n",
       "  <tbody>\n",
       "    <tr>\n",
       "      <th>0</th>\n",
       "      <td>2022-010</td>\n",
       "      <td>Kurt</td>\n",
       "      <td>Reportagen schreiben</td>\n",
       "    </tr>\n",
       "  </tbody>\n",
       "</table>\n",
       "</div>"
      ],
      "text/plain": [
       "         id  name                  kurs\n",
       "0  2022-010  Kurt  Reportagen schreiben"
      ]
     },
     "execution_count": 7,
     "metadata": {},
     "output_type": "execute_result"
    }
   ],
   "source": [
    "df_new = pd.DataFrame([new_student])\n",
    "df_new"
   ]
  },
  {
   "cell_type": "markdown",
   "id": "a297ecdc",
   "metadata": {},
   "source": [
    "Schritt 2: Die beiden DFs verbinden"
   ]
  },
  {
   "cell_type": "code",
   "execution_count": 15,
   "id": "f8f335a0",
   "metadata": {},
   "outputs": [],
   "source": [
    "df = pd.concat([df, df_new], ignore_index=True)"
   ]
  },
  {
   "cell_type": "markdown",
   "id": "06b1fb63",
   "metadata": {},
   "source": [
    "### Oder folgender Trick: df.loc[]"
   ]
  },
  {
   "cell_type": "markdown",
   "id": "449605b5",
   "metadata": {},
   "source": [
    "Das funktioniert gut, wenn der Index einfach eine Zahl ist"
   ]
  },
  {
   "cell_type": "code",
   "execution_count": 16,
   "id": "fd96832f",
   "metadata": {},
   "outputs": [],
   "source": [
    "df.loc[4334] = new_student"
   ]
  },
  {
   "cell_type": "code",
   "execution_count": 17,
   "id": "08ddf307",
   "metadata": {},
   "outputs": [
    {
     "data": {
      "text/html": [
       "<div>\n",
       "<style scoped>\n",
       "    .dataframe tbody tr th:only-of-type {\n",
       "        vertical-align: middle;\n",
       "    }\n",
       "\n",
       "    .dataframe tbody tr th {\n",
       "        vertical-align: top;\n",
       "    }\n",
       "\n",
       "    .dataframe thead th {\n",
       "        text-align: right;\n",
       "    }\n",
       "</style>\n",
       "<table border=\"1\" class=\"dataframe\">\n",
       "  <thead>\n",
       "    <tr style=\"text-align: right;\">\n",
       "      <th></th>\n",
       "      <th>id</th>\n",
       "      <th>name</th>\n",
       "      <th>kurs</th>\n",
       "    </tr>\n",
       "  </thead>\n",
       "  <tbody>\n",
       "    <tr>\n",
       "      <th>0</th>\n",
       "      <td>2022-001</td>\n",
       "      <td>Adam</td>\n",
       "      <td>CAS Datenjournlismus</td>\n",
       "    </tr>\n",
       "    <tr>\n",
       "      <th>1</th>\n",
       "      <td>2022-002</td>\n",
       "      <td>Doris</td>\n",
       "      <td>CAS Datenjournlismus</td>\n",
       "    </tr>\n",
       "    <tr>\n",
       "      <th>2</th>\n",
       "      <td>2022-003</td>\n",
       "      <td>Greta</td>\n",
       "      <td>Reportagen schreiben</td>\n",
       "    </tr>\n",
       "    <tr>\n",
       "      <th>3</th>\n",
       "      <td>2022-004</td>\n",
       "      <td>Ida</td>\n",
       "      <td>Reportagen schreiben</td>\n",
       "    </tr>\n",
       "    <tr>\n",
       "      <th>4</th>\n",
       "      <td>2022-005</td>\n",
       "      <td>Eduard</td>\n",
       "      <td>CAS Datenjournlismus</td>\n",
       "    </tr>\n",
       "    <tr>\n",
       "      <th>5</th>\n",
       "      <td>2022-006</td>\n",
       "      <td>Berta</td>\n",
       "      <td>CAS Datenjournlismus</td>\n",
       "    </tr>\n",
       "    <tr>\n",
       "      <th>6</th>\n",
       "      <td>2022-007</td>\n",
       "      <td>Carl</td>\n",
       "      <td>CAS Datenjournlismus</td>\n",
       "    </tr>\n",
       "    <tr>\n",
       "      <th>7</th>\n",
       "      <td>2022-008</td>\n",
       "      <td>Falco</td>\n",
       "      <td>Reportagen schreiben</td>\n",
       "    </tr>\n",
       "    <tr>\n",
       "      <th>8</th>\n",
       "      <td>2022-009</td>\n",
       "      <td>Jakob</td>\n",
       "      <td>Reportagen schreiben</td>\n",
       "    </tr>\n",
       "    <tr>\n",
       "      <th>9</th>\n",
       "      <td>2022-010</td>\n",
       "      <td>Kurt</td>\n",
       "      <td>Reportagen schreiben</td>\n",
       "    </tr>\n",
       "    <tr>\n",
       "      <th>10</th>\n",
       "      <td>2022-010</td>\n",
       "      <td>Kurt</td>\n",
       "      <td>Reportagen schreiben</td>\n",
       "    </tr>\n",
       "    <tr>\n",
       "      <th>11</th>\n",
       "      <td>2022-010</td>\n",
       "      <td>Kurt</td>\n",
       "      <td>Reportagen schreiben</td>\n",
       "    </tr>\n",
       "    <tr>\n",
       "      <th>4334</th>\n",
       "      <td>2022-010</td>\n",
       "      <td>Kurt</td>\n",
       "      <td>Reportagen schreiben</td>\n",
       "    </tr>\n",
       "  </tbody>\n",
       "</table>\n",
       "</div>"
      ],
      "text/plain": [
       "            id    name                  kurs\n",
       "0     2022-001    Adam  CAS Datenjournlismus\n",
       "1     2022-002   Doris  CAS Datenjournlismus\n",
       "2     2022-003   Greta  Reportagen schreiben\n",
       "3     2022-004     Ida  Reportagen schreiben\n",
       "4     2022-005  Eduard  CAS Datenjournlismus\n",
       "5     2022-006   Berta  CAS Datenjournlismus\n",
       "6     2022-007    Carl  CAS Datenjournlismus\n",
       "7     2022-008   Falco  Reportagen schreiben\n",
       "8     2022-009   Jakob  Reportagen schreiben\n",
       "9     2022-010    Kurt  Reportagen schreiben\n",
       "10    2022-010    Kurt  Reportagen schreiben\n",
       "11    2022-010    Kurt  Reportagen schreiben\n",
       "4334  2022-010    Kurt  Reportagen schreiben"
      ]
     },
     "execution_count": 17,
     "metadata": {},
     "output_type": "execute_result"
    }
   ],
   "source": [
    "df"
   ]
  },
  {
   "cell_type": "code",
   "execution_count": null,
   "id": "7a0f783b",
   "metadata": {},
   "outputs": [],
   "source": []
  }
 ],
 "metadata": {
  "kernelspec": {
   "display_name": "Python 3 (ipykernel)",
   "language": "python",
   "name": "python3"
  },
  "language_info": {
   "codemirror_mode": {
    "name": "ipython",
    "version": 3
   },
   "file_extension": ".py",
   "mimetype": "text/x-python",
   "name": "python",
   "nbconvert_exporter": "python",
   "pygments_lexer": "ipython3",
   "version": "3.10.6"
  }
 },
 "nbformat": 4,
 "nbformat_minor": 5
}
