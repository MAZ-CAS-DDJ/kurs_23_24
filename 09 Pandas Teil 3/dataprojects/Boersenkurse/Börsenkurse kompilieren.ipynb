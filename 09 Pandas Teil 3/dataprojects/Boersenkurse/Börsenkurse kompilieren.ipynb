{
 "cells": [
  {
   "cell_type": "markdown",
   "metadata": {},
   "source": [
    "# Börsenkurse kompilieren"
   ]
  },
  {
   "cell_type": "code",
   "execution_count": 25,
   "metadata": {},
   "outputs": [],
   "source": [
    "import pandas as pd"
   ]
  },
  {
   "cell_type": "code",
   "execution_count": 26,
   "metadata": {},
   "outputs": [],
   "source": [
    "import glob"
   ]
  },
  {
   "cell_type": "markdown",
   "metadata": {},
   "source": [
    "## Dateien laden"
   ]
  },
  {
   "cell_type": "markdown",
   "metadata": {},
   "source": [
    "**Liste der Dateien erstellen**"
   ]
  },
  {
   "cell_type": "code",
   "execution_count": 27,
   "metadata": {},
   "outputs": [],
   "source": [
    "path = 'Bluechips/'"
   ]
  },
  {
   "cell_type": "code",
   "execution_count": 28,
   "metadata": {},
   "outputs": [],
   "source": [
    "filenames = glob.glob(path + '*.csv')"
   ]
  },
  {
   "cell_type": "code",
   "execution_count": 29,
   "metadata": {},
   "outputs": [
    {
     "data": {
      "text/plain": [
       "'Bluechips/ZURN.SW.csv'"
      ]
     },
     "execution_count": 29,
     "metadata": {},
     "output_type": "execute_result"
    }
   ],
   "source": [
    "filenames[0]"
   ]
  },
  {
   "cell_type": "markdown",
   "metadata": {},
   "source": [
    "**Liste von Dataframes mit den Dateien**"
   ]
  },
  {
   "cell_type": "code",
   "execution_count": 30,
   "metadata": {},
   "outputs": [],
   "source": [
    "dfs = []"
   ]
  },
  {
   "cell_type": "code",
   "execution_count": 31,
   "metadata": {},
   "outputs": [],
   "source": [
    "dfs = [pd.read_csv(filename) for filename in filenames]"
   ]
  },
  {
   "cell_type": "markdown",
   "metadata": {},
   "source": [
    "## Daten aggregieren"
   ]
  },
  {
   "cell_type": "markdown",
   "metadata": {},
   "source": [
    "**Spalte mit Company Name hinzufügen**"
   ]
  },
  {
   "cell_type": "code",
   "execution_count": 32,
   "metadata": {},
   "outputs": [],
   "source": [
    "for df, filename in zip(dfs, filenames):\n",
    "    df['Ticker'] = filename\n",
    "    df['Ticker'] = df['Ticker'].str.extract(path + '(.+).SW.csv')"
   ]
  },
  {
   "cell_type": "code",
   "execution_count": 33,
   "metadata": {},
   "outputs": [
    {
     "data": {
      "text/html": [
       "<div>\n",
       "<style scoped>\n",
       "    .dataframe tbody tr th:only-of-type {\n",
       "        vertical-align: middle;\n",
       "    }\n",
       "\n",
       "    .dataframe tbody tr th {\n",
       "        vertical-align: top;\n",
       "    }\n",
       "\n",
       "    .dataframe thead th {\n",
       "        text-align: right;\n",
       "    }\n",
       "</style>\n",
       "<table border=\"1\" class=\"dataframe\">\n",
       "  <thead>\n",
       "    <tr style=\"text-align: right;\">\n",
       "      <th></th>\n",
       "      <th>Date</th>\n",
       "      <th>Open</th>\n",
       "      <th>High</th>\n",
       "      <th>Low</th>\n",
       "      <th>Close</th>\n",
       "      <th>Adj Close</th>\n",
       "      <th>Volume</th>\n",
       "      <th>Ticker</th>\n",
       "    </tr>\n",
       "  </thead>\n",
       "  <tbody>\n",
       "    <tr>\n",
       "      <th>0</th>\n",
       "      <td>2012-09-03</td>\n",
       "      <td>228.600006</td>\n",
       "      <td>230.100006</td>\n",
       "      <td>227.699997</td>\n",
       "      <td>229.399994</td>\n",
       "      <td>121.235756</td>\n",
       "      <td>268447</td>\n",
       "      <td>ZURN</td>\n",
       "    </tr>\n",
       "    <tr>\n",
       "      <th>1</th>\n",
       "      <td>2012-09-04</td>\n",
       "      <td>229.300003</td>\n",
       "      <td>229.600006</td>\n",
       "      <td>226.899994</td>\n",
       "      <td>228.100006</td>\n",
       "      <td>120.548706</td>\n",
       "      <td>342534</td>\n",
       "      <td>ZURN</td>\n",
       "    </tr>\n",
       "  </tbody>\n",
       "</table>\n",
       "</div>"
      ],
      "text/plain": [
       "         Date        Open        High         Low       Close   Adj Close  \\\n",
       "0  2012-09-03  228.600006  230.100006  227.699997  229.399994  121.235756   \n",
       "1  2012-09-04  229.300003  229.600006  226.899994  228.100006  120.548706   \n",
       "\n",
       "   Volume Ticker  \n",
       "0  268447   ZURN  \n",
       "1  342534   ZURN  "
      ]
     },
     "execution_count": 33,
     "metadata": {},
     "output_type": "execute_result"
    }
   ],
   "source": [
    "dfs[0].head(2)"
   ]
  },
  {
   "cell_type": "markdown",
   "metadata": {},
   "source": [
    "**Daten aneinanderreihen**"
   ]
  },
  {
   "cell_type": "code",
   "execution_count": 34,
   "metadata": {},
   "outputs": [],
   "source": [
    "df_all = pd.concat(dfs, ignore_index=True)"
   ]
  },
  {
   "cell_type": "code",
   "execution_count": 35,
   "metadata": {},
   "outputs": [
    {
     "data": {
      "text/html": [
       "<div>\n",
       "<style scoped>\n",
       "    .dataframe tbody tr th:only-of-type {\n",
       "        vertical-align: middle;\n",
       "    }\n",
       "\n",
       "    .dataframe tbody tr th {\n",
       "        vertical-align: top;\n",
       "    }\n",
       "\n",
       "    .dataframe thead th {\n",
       "        text-align: right;\n",
       "    }\n",
       "</style>\n",
       "<table border=\"1\" class=\"dataframe\">\n",
       "  <thead>\n",
       "    <tr style=\"text-align: right;\">\n",
       "      <th></th>\n",
       "      <th>Date</th>\n",
       "      <th>Open</th>\n",
       "      <th>High</th>\n",
       "      <th>Low</th>\n",
       "      <th>Close</th>\n",
       "      <th>Adj Close</th>\n",
       "      <th>Volume</th>\n",
       "      <th>Ticker</th>\n",
       "    </tr>\n",
       "  </thead>\n",
       "  <tbody>\n",
       "    <tr>\n",
       "      <th>0</th>\n",
       "      <td>2012-09-03</td>\n",
       "      <td>228.600006</td>\n",
       "      <td>230.100006</td>\n",
       "      <td>227.699997</td>\n",
       "      <td>229.399994</td>\n",
       "      <td>121.235756</td>\n",
       "      <td>268447</td>\n",
       "      <td>ZURN</td>\n",
       "    </tr>\n",
       "    <tr>\n",
       "      <th>1</th>\n",
       "      <td>2012-09-04</td>\n",
       "      <td>229.300003</td>\n",
       "      <td>229.600006</td>\n",
       "      <td>226.899994</td>\n",
       "      <td>228.100006</td>\n",
       "      <td>120.548706</td>\n",
       "      <td>342534</td>\n",
       "      <td>ZURN</td>\n",
       "    </tr>\n",
       "  </tbody>\n",
       "</table>\n",
       "</div>"
      ],
      "text/plain": [
       "         Date        Open        High         Low       Close   Adj Close  \\\n",
       "0  2012-09-03  228.600006  230.100006  227.699997  229.399994  121.235756   \n",
       "1  2012-09-04  229.300003  229.600006  226.899994  228.100006  120.548706   \n",
       "\n",
       "   Volume Ticker  \n",
       "0  268447   ZURN  \n",
       "1  342534   ZURN  "
      ]
     },
     "execution_count": 35,
     "metadata": {},
     "output_type": "execute_result"
    }
   ],
   "source": [
    "df_all.head(2)"
   ]
  },
  {
   "cell_type": "code",
   "execution_count": 36,
   "metadata": {},
   "outputs": [
    {
     "data": {
      "text/html": [
       "<div>\n",
       "<style scoped>\n",
       "    .dataframe tbody tr th:only-of-type {\n",
       "        vertical-align: middle;\n",
       "    }\n",
       "\n",
       "    .dataframe tbody tr th {\n",
       "        vertical-align: top;\n",
       "    }\n",
       "\n",
       "    .dataframe thead th {\n",
       "        text-align: right;\n",
       "    }\n",
       "</style>\n",
       "<table border=\"1\" class=\"dataframe\">\n",
       "  <thead>\n",
       "    <tr style=\"text-align: right;\">\n",
       "      <th></th>\n",
       "      <th>Date</th>\n",
       "      <th>Open</th>\n",
       "      <th>High</th>\n",
       "      <th>Low</th>\n",
       "      <th>Close</th>\n",
       "      <th>Adj Close</th>\n",
       "      <th>Volume</th>\n",
       "      <th>Ticker</th>\n",
       "    </tr>\n",
       "  </thead>\n",
       "  <tbody>\n",
       "    <tr>\n",
       "      <th>53706</th>\n",
       "      <td>2023-09-08</td>\n",
       "      <td>57.299999</td>\n",
       "      <td>57.32</td>\n",
       "      <td>56.279999</td>\n",
       "      <td>56.740002</td>\n",
       "      <td>56.740002</td>\n",
       "      <td>982113</td>\n",
       "      <td>HOLN</td>\n",
       "    </tr>\n",
       "    <tr>\n",
       "      <th>53707</th>\n",
       "      <td>2023-09-11</td>\n",
       "      <td>56.820000</td>\n",
       "      <td>57.18</td>\n",
       "      <td>56.779999</td>\n",
       "      <td>57.060001</td>\n",
       "      <td>57.060001</td>\n",
       "      <td>773695</td>\n",
       "      <td>HOLN</td>\n",
       "    </tr>\n",
       "  </tbody>\n",
       "</table>\n",
       "</div>"
      ],
      "text/plain": [
       "             Date       Open   High        Low      Close  Adj Close  Volume  \\\n",
       "53706  2023-09-08  57.299999  57.32  56.279999  56.740002  56.740002  982113   \n",
       "53707  2023-09-11  56.820000  57.18  56.779999  57.060001  57.060001  773695   \n",
       "\n",
       "      Ticker  \n",
       "53706   HOLN  \n",
       "53707   HOLN  "
      ]
     },
     "execution_count": 36,
     "metadata": {},
     "output_type": "execute_result"
    }
   ],
   "source": [
    "df_all.tail(2)"
   ]
  },
  {
   "cell_type": "markdown",
   "metadata": {},
   "source": [
    "**Name für Ticker hinzufügen**"
   ]
  },
  {
   "cell_type": "code",
   "execution_count": 37,
   "metadata": {},
   "outputs": [],
   "source": [
    "df_names = pd.read_csv('company_names_2023.csv')"
   ]
  },
  {
   "cell_type": "code",
   "execution_count": 38,
   "metadata": {},
   "outputs": [
    {
     "data": {
      "text/html": [
       "<div>\n",
       "<style scoped>\n",
       "    .dataframe tbody tr th:only-of-type {\n",
       "        vertical-align: middle;\n",
       "    }\n",
       "\n",
       "    .dataframe tbody tr th {\n",
       "        vertical-align: top;\n",
       "    }\n",
       "\n",
       "    .dataframe thead th {\n",
       "        text-align: right;\n",
       "    }\n",
       "</style>\n",
       "<table border=\"1\" class=\"dataframe\">\n",
       "  <thead>\n",
       "    <tr style=\"text-align: right;\">\n",
       "      <th></th>\n",
       "      <th>Company</th>\n",
       "      <th>Ticker</th>\n",
       "    </tr>\n",
       "  </thead>\n",
       "  <tbody>\n",
       "    <tr>\n",
       "      <th>0</th>\n",
       "      <td>ABB LTD</td>\n",
       "      <td>ABBN</td>\n",
       "    </tr>\n",
       "    <tr>\n",
       "      <th>1</th>\n",
       "      <td>ALCON</td>\n",
       "      <td>ALC</td>\n",
       "    </tr>\n",
       "  </tbody>\n",
       "</table>\n",
       "</div>"
      ],
      "text/plain": [
       "   Company Ticker\n",
       "0  ABB LTD   ABBN\n",
       "1    ALCON    ALC"
      ]
     },
     "execution_count": 38,
     "metadata": {},
     "output_type": "execute_result"
    }
   ],
   "source": [
    "df_names.head(2)"
   ]
  },
  {
   "cell_type": "code",
   "execution_count": 39,
   "metadata": {},
   "outputs": [],
   "source": [
    "df_all_m = df_all.merge(df_names, how='left', on='Ticker')"
   ]
  },
  {
   "cell_type": "markdown",
   "metadata": {},
   "source": [
    "**Spalte Close auswählen und Pivot**"
   ]
  },
  {
   "cell_type": "code",
   "execution_count": 40,
   "metadata": {},
   "outputs": [],
   "source": [
    "df_pivoted = df_all_m.pivot(index='Date', columns='Company', values='Close')"
   ]
  },
  {
   "cell_type": "code",
   "execution_count": 41,
   "metadata": {},
   "outputs": [
    {
     "data": {
      "text/html": [
       "<div>\n",
       "<style scoped>\n",
       "    .dataframe tbody tr th:only-of-type {\n",
       "        vertical-align: middle;\n",
       "    }\n",
       "\n",
       "    .dataframe tbody tr th {\n",
       "        vertical-align: top;\n",
       "    }\n",
       "\n",
       "    .dataframe thead th {\n",
       "        text-align: right;\n",
       "    }\n",
       "</style>\n",
       "<table border=\"1\" class=\"dataframe\">\n",
       "  <thead>\n",
       "    <tr style=\"text-align: right;\">\n",
       "      <th>Company</th>\n",
       "      <th>ABB LTD</th>\n",
       "      <th>ALCON</th>\n",
       "      <th>GEBERIT</th>\n",
       "      <th>GIVAUDAN</th>\n",
       "      <th>HOLCIM</th>\n",
       "      <th>KUEHNE NAEL</th>\n",
       "      <th>LOGITECH</th>\n",
       "      <th>LONZA</th>\n",
       "      <th>NESTLE</th>\n",
       "      <th>NOVARTIS</th>\n",
       "      <th>PARTNERS GROUP</th>\n",
       "      <th>RICHEMONT</th>\n",
       "      <th>ROCHE</th>\n",
       "      <th>SIKA</th>\n",
       "      <th>SONOVA</th>\n",
       "      <th>SWISS LIFE HOLDING</th>\n",
       "      <th>SWISS RE</th>\n",
       "      <th>SWISSCOM</th>\n",
       "      <th>UBS GROUP</th>\n",
       "      <th>ZURICH INSURANCE</th>\n",
       "    </tr>\n",
       "    <tr>\n",
       "      <th>Date</th>\n",
       "      <th></th>\n",
       "      <th></th>\n",
       "      <th></th>\n",
       "      <th></th>\n",
       "      <th></th>\n",
       "      <th></th>\n",
       "      <th></th>\n",
       "      <th></th>\n",
       "      <th></th>\n",
       "      <th></th>\n",
       "      <th></th>\n",
       "      <th></th>\n",
       "      <th></th>\n",
       "      <th></th>\n",
       "      <th></th>\n",
       "      <th></th>\n",
       "      <th></th>\n",
       "      <th></th>\n",
       "      <th></th>\n",
       "      <th></th>\n",
       "    </tr>\n",
       "  </thead>\n",
       "  <tbody>\n",
       "    <tr>\n",
       "      <th>2012-09-03</th>\n",
       "      <td>16.709999</td>\n",
       "      <td>NaN</td>\n",
       "      <td>204.100006</td>\n",
       "      <td>907.0</td>\n",
       "      <td>56.095238</td>\n",
       "      <td>109.599998</td>\n",
       "      <td>8.850</td>\n",
       "      <td>40.840107</td>\n",
       "      <td>59.950001</td>\n",
       "      <td>49.945457</td>\n",
       "      <td>183.300003</td>\n",
       "      <td>60.000000</td>\n",
       "      <td>174.800003</td>\n",
       "      <td>30.766666</td>\n",
       "      <td>89.056259</td>\n",
       "      <td>109.099998</td>\n",
       "      <td>60.299999</td>\n",
       "      <td>385.200012</td>\n",
       "      <td>10.73</td>\n",
       "      <td>229.399994</td>\n",
       "    </tr>\n",
       "    <tr>\n",
       "      <th>2012-09-04</th>\n",
       "      <td>16.480000</td>\n",
       "      <td>NaN</td>\n",
       "      <td>200.199997</td>\n",
       "      <td>896.0</td>\n",
       "      <td>55.333332</td>\n",
       "      <td>107.400002</td>\n",
       "      <td>9.095</td>\n",
       "      <td>40.376961</td>\n",
       "      <td>59.150002</td>\n",
       "      <td>49.459263</td>\n",
       "      <td>189.000000</td>\n",
       "      <td>59.150002</td>\n",
       "      <td>173.000000</td>\n",
       "      <td>30.183332</td>\n",
       "      <td>88.708580</td>\n",
       "      <td>109.300003</td>\n",
       "      <td>60.150002</td>\n",
       "      <td>385.799988</td>\n",
       "      <td>10.56</td>\n",
       "      <td>228.100006</td>\n",
       "    </tr>\n",
       "  </tbody>\n",
       "</table>\n",
       "</div>"
      ],
      "text/plain": [
       "Company       ABB LTD  ALCON     GEBERIT  GIVAUDAN     HOLCIM  KUEHNE NAEL  \\\n",
       "Date                                                                         \n",
       "2012-09-03  16.709999    NaN  204.100006     907.0  56.095238   109.599998   \n",
       "2012-09-04  16.480000    NaN  200.199997     896.0  55.333332   107.400002   \n",
       "\n",
       "Company     LOGITECH      LONZA     NESTLE   NOVARTIS  PARTNERS GROUP  \\\n",
       "Date                                                                    \n",
       "2012-09-03     8.850  40.840107  59.950001  49.945457      183.300003   \n",
       "2012-09-04     9.095  40.376961  59.150002  49.459263      189.000000   \n",
       "\n",
       "Company     RICHEMONT       ROCHE       SIKA     SONOVA  SWISS LIFE HOLDING  \\\n",
       "Date                                                                          \n",
       "2012-09-03  60.000000  174.800003  30.766666  89.056259          109.099998   \n",
       "2012-09-04  59.150002  173.000000  30.183332  88.708580          109.300003   \n",
       "\n",
       "Company      SWISS RE    SWISSCOM  UBS GROUP  ZURICH INSURANCE  \n",
       "Date                                                            \n",
       "2012-09-03  60.299999  385.200012      10.73        229.399994  \n",
       "2012-09-04  60.150002  385.799988      10.56        228.100006  "
      ]
     },
     "execution_count": 41,
     "metadata": {},
     "output_type": "execute_result"
    }
   ],
   "source": [
    "df_pivoted.head(2)"
   ]
  },
  {
   "cell_type": "code",
   "execution_count": 42,
   "metadata": {},
   "outputs": [],
   "source": [
    "df_pivoted.rename_axis(None, inplace=True)"
   ]
  },
  {
   "cell_type": "code",
   "execution_count": 43,
   "metadata": {},
   "outputs": [],
   "source": [
    "df_pivoted.rename_axis(None, inplace=True)"
   ]
  },
  {
   "cell_type": "code",
   "execution_count": 44,
   "metadata": {},
   "outputs": [
    {
     "data": {
      "text/html": [
       "<div>\n",
       "<style scoped>\n",
       "    .dataframe tbody tr th:only-of-type {\n",
       "        vertical-align: middle;\n",
       "    }\n",
       "\n",
       "    .dataframe tbody tr th {\n",
       "        vertical-align: top;\n",
       "    }\n",
       "\n",
       "    .dataframe thead th {\n",
       "        text-align: right;\n",
       "    }\n",
       "</style>\n",
       "<table border=\"1\" class=\"dataframe\">\n",
       "  <thead>\n",
       "    <tr style=\"text-align: right;\">\n",
       "      <th>Company</th>\n",
       "      <th>ABB LTD</th>\n",
       "      <th>ALCON</th>\n",
       "      <th>GEBERIT</th>\n",
       "      <th>GIVAUDAN</th>\n",
       "      <th>HOLCIM</th>\n",
       "      <th>KUEHNE NAEL</th>\n",
       "      <th>LOGITECH</th>\n",
       "      <th>LONZA</th>\n",
       "      <th>NESTLE</th>\n",
       "      <th>NOVARTIS</th>\n",
       "      <th>PARTNERS GROUP</th>\n",
       "      <th>RICHEMONT</th>\n",
       "      <th>ROCHE</th>\n",
       "      <th>SIKA</th>\n",
       "      <th>SONOVA</th>\n",
       "      <th>SWISS LIFE HOLDING</th>\n",
       "      <th>SWISS RE</th>\n",
       "      <th>SWISSCOM</th>\n",
       "      <th>UBS GROUP</th>\n",
       "      <th>ZURICH INSURANCE</th>\n",
       "    </tr>\n",
       "  </thead>\n",
       "  <tbody>\n",
       "    <tr>\n",
       "      <th>2012-09-03</th>\n",
       "      <td>16.709999</td>\n",
       "      <td>NaN</td>\n",
       "      <td>204.100006</td>\n",
       "      <td>907.0</td>\n",
       "      <td>56.095238</td>\n",
       "      <td>109.599998</td>\n",
       "      <td>8.850</td>\n",
       "      <td>40.840107</td>\n",
       "      <td>59.950001</td>\n",
       "      <td>49.945457</td>\n",
       "      <td>183.300003</td>\n",
       "      <td>60.000000</td>\n",
       "      <td>174.800003</td>\n",
       "      <td>30.766666</td>\n",
       "      <td>89.056259</td>\n",
       "      <td>109.099998</td>\n",
       "      <td>60.299999</td>\n",
       "      <td>385.200012</td>\n",
       "      <td>10.73</td>\n",
       "      <td>229.399994</td>\n",
       "    </tr>\n",
       "    <tr>\n",
       "      <th>2012-09-04</th>\n",
       "      <td>16.480000</td>\n",
       "      <td>NaN</td>\n",
       "      <td>200.199997</td>\n",
       "      <td>896.0</td>\n",
       "      <td>55.333332</td>\n",
       "      <td>107.400002</td>\n",
       "      <td>9.095</td>\n",
       "      <td>40.376961</td>\n",
       "      <td>59.150002</td>\n",
       "      <td>49.459263</td>\n",
       "      <td>189.000000</td>\n",
       "      <td>59.150002</td>\n",
       "      <td>173.000000</td>\n",
       "      <td>30.183332</td>\n",
       "      <td>88.708580</td>\n",
       "      <td>109.300003</td>\n",
       "      <td>60.150002</td>\n",
       "      <td>385.799988</td>\n",
       "      <td>10.56</td>\n",
       "      <td>228.100006</td>\n",
       "    </tr>\n",
       "  </tbody>\n",
       "</table>\n",
       "</div>"
      ],
      "text/plain": [
       "Company       ABB LTD  ALCON     GEBERIT  GIVAUDAN     HOLCIM  KUEHNE NAEL  \\\n",
       "2012-09-03  16.709999    NaN  204.100006     907.0  56.095238   109.599998   \n",
       "2012-09-04  16.480000    NaN  200.199997     896.0  55.333332   107.400002   \n",
       "\n",
       "Company     LOGITECH      LONZA     NESTLE   NOVARTIS  PARTNERS GROUP  \\\n",
       "2012-09-03     8.850  40.840107  59.950001  49.945457      183.300003   \n",
       "2012-09-04     9.095  40.376961  59.150002  49.459263      189.000000   \n",
       "\n",
       "Company     RICHEMONT       ROCHE       SIKA     SONOVA  SWISS LIFE HOLDING  \\\n",
       "2012-09-03  60.000000  174.800003  30.766666  89.056259          109.099998   \n",
       "2012-09-04  59.150002  173.000000  30.183332  88.708580          109.300003   \n",
       "\n",
       "Company      SWISS RE    SWISSCOM  UBS GROUP  ZURICH INSURANCE  \n",
       "2012-09-03  60.299999  385.200012      10.73        229.399994  \n",
       "2012-09-04  60.150002  385.799988      10.56        228.100006  "
      ]
     },
     "execution_count": 44,
     "metadata": {},
     "output_type": "execute_result"
    }
   ],
   "source": [
    "df_pivoted.head(2)"
   ]
  },
  {
   "cell_type": "code",
   "execution_count": 45,
   "metadata": {},
   "outputs": [
    {
     "data": {
      "text/html": [
       "<div>\n",
       "<style scoped>\n",
       "    .dataframe tbody tr th:only-of-type {\n",
       "        vertical-align: middle;\n",
       "    }\n",
       "\n",
       "    .dataframe tbody tr th {\n",
       "        vertical-align: top;\n",
       "    }\n",
       "\n",
       "    .dataframe thead th {\n",
       "        text-align: right;\n",
       "    }\n",
       "</style>\n",
       "<table border=\"1\" class=\"dataframe\">\n",
       "  <thead>\n",
       "    <tr style=\"text-align: right;\">\n",
       "      <th>Company</th>\n",
       "      <th>ABB LTD</th>\n",
       "      <th>ALCON</th>\n",
       "      <th>GEBERIT</th>\n",
       "      <th>GIVAUDAN</th>\n",
       "      <th>HOLCIM</th>\n",
       "      <th>KUEHNE NAEL</th>\n",
       "      <th>LOGITECH</th>\n",
       "      <th>LONZA</th>\n",
       "      <th>NESTLE</th>\n",
       "      <th>NOVARTIS</th>\n",
       "      <th>PARTNERS GROUP</th>\n",
       "      <th>RICHEMONT</th>\n",
       "      <th>ROCHE</th>\n",
       "      <th>SIKA</th>\n",
       "      <th>SONOVA</th>\n",
       "      <th>SWISS LIFE HOLDING</th>\n",
       "      <th>SWISS RE</th>\n",
       "      <th>SWISSCOM</th>\n",
       "      <th>UBS GROUP</th>\n",
       "      <th>ZURICH INSURANCE</th>\n",
       "    </tr>\n",
       "  </thead>\n",
       "  <tbody>\n",
       "    <tr>\n",
       "      <th>2023-09-08</th>\n",
       "      <td>32.869999</td>\n",
       "      <td>73.599998</td>\n",
       "      <td>447.200012</td>\n",
       "      <td>2900.0</td>\n",
       "      <td>56.740002</td>\n",
       "      <td>260.100006</td>\n",
       "      <td>62.900002</td>\n",
       "      <td>483.799988</td>\n",
       "      <td>105.220001</td>\n",
       "      <td>88.120003</td>\n",
       "      <td>1021.5</td>\n",
       "      <td>117.0</td>\n",
       "      <td>256.700012</td>\n",
       "      <td>242.600006</td>\n",
       "      <td>215.199997</td>\n",
       "      <td>558.200012</td>\n",
       "      <td>88.919998</td>\n",
       "      <td>541.799988</td>\n",
       "      <td>22.760000</td>\n",
       "      <td>411.000000</td>\n",
       "    </tr>\n",
       "    <tr>\n",
       "      <th>2023-09-11</th>\n",
       "      <td>33.000000</td>\n",
       "      <td>73.919998</td>\n",
       "      <td>448.899994</td>\n",
       "      <td>2883.0</td>\n",
       "      <td>57.060001</td>\n",
       "      <td>260.100006</td>\n",
       "      <td>62.900002</td>\n",
       "      <td>487.200012</td>\n",
       "      <td>106.099998</td>\n",
       "      <td>88.309998</td>\n",
       "      <td>1016.0</td>\n",
       "      <td>117.0</td>\n",
       "      <td>253.899994</td>\n",
       "      <td>243.100006</td>\n",
       "      <td>217.100006</td>\n",
       "      <td>563.200012</td>\n",
       "      <td>90.339996</td>\n",
       "      <td>542.200012</td>\n",
       "      <td>22.879999</td>\n",
       "      <td>414.600006</td>\n",
       "    </tr>\n",
       "  </tbody>\n",
       "</table>\n",
       "</div>"
      ],
      "text/plain": [
       "Company       ABB LTD      ALCON     GEBERIT  GIVAUDAN     HOLCIM  \\\n",
       "2023-09-08  32.869999  73.599998  447.200012    2900.0  56.740002   \n",
       "2023-09-11  33.000000  73.919998  448.899994    2883.0  57.060001   \n",
       "\n",
       "Company     KUEHNE NAEL   LOGITECH       LONZA      NESTLE   NOVARTIS  \\\n",
       "2023-09-08   260.100006  62.900002  483.799988  105.220001  88.120003   \n",
       "2023-09-11   260.100006  62.900002  487.200012  106.099998  88.309998   \n",
       "\n",
       "Company     PARTNERS GROUP  RICHEMONT       ROCHE        SIKA      SONOVA  \\\n",
       "2023-09-08          1021.5      117.0  256.700012  242.600006  215.199997   \n",
       "2023-09-11          1016.0      117.0  253.899994  243.100006  217.100006   \n",
       "\n",
       "Company     SWISS LIFE HOLDING   SWISS RE    SWISSCOM  UBS GROUP  \\\n",
       "2023-09-08          558.200012  88.919998  541.799988  22.760000   \n",
       "2023-09-11          563.200012  90.339996  542.200012  22.879999   \n",
       "\n",
       "Company     ZURICH INSURANCE  \n",
       "2023-09-08        411.000000  \n",
       "2023-09-11        414.600006  "
      ]
     },
     "execution_count": 45,
     "metadata": {},
     "output_type": "execute_result"
    }
   ],
   "source": [
    "df_pivoted.tail(2)"
   ]
  },
  {
   "cell_type": "markdown",
   "metadata": {},
   "source": [
    "## Daten exportieren"
   ]
  },
  {
   "cell_type": "code",
   "execution_count": 46,
   "metadata": {},
   "outputs": [],
   "source": [
    "df_pivoted.to_csv('smi_members.csv')"
   ]
  },
  {
   "cell_type": "code",
   "execution_count": null,
   "metadata": {},
   "outputs": [],
   "source": []
  },
  {
   "cell_type": "code",
   "execution_count": null,
   "metadata": {},
   "outputs": [],
   "source": []
  }
 ],
 "metadata": {
  "kernelspec": {
   "display_name": "Python 3 (ipykernel)",
   "language": "python",
   "name": "python3"
  },
  "language_info": {
   "codemirror_mode": {
    "name": "ipython",
    "version": 3
   },
   "file_extension": ".py",
   "mimetype": "text/x-python",
   "name": "python",
   "nbconvert_exporter": "python",
   "pygments_lexer": "ipython3",
   "version": "3.8.17"
  }
 },
 "nbformat": 4,
 "nbformat_minor": 2
}
