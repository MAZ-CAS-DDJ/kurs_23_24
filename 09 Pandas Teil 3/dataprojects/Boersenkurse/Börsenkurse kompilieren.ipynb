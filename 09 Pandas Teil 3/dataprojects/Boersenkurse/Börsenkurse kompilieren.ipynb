{
 "cells": [
  {
   "cell_type": "markdown",
   "metadata": {},
   "source": [
    "# Börsenkurse kompilieren"
   ]
  },
  {
   "cell_type": "code",
   "execution_count": 1,
   "metadata": {},
   "outputs": [],
   "source": [
    "import pandas as pd"
   ]
  },
  {
   "cell_type": "code",
   "execution_count": 2,
   "metadata": {},
   "outputs": [],
   "source": [
    "import glob"
   ]
  },
  {
   "cell_type": "markdown",
   "metadata": {},
   "source": [
    "## Dateien laden"
   ]
  },
  {
   "cell_type": "markdown",
   "metadata": {},
   "source": [
    "**Liste der Dateien erstellen**"
   ]
  },
  {
   "cell_type": "code",
   "execution_count": 3,
   "metadata": {},
   "outputs": [],
   "source": [
    "path = 'Bluechips/'"
   ]
  },
  {
   "cell_type": "code",
   "execution_count": 4,
   "metadata": {},
   "outputs": [],
   "source": [
    "filenames = glob.glob(path + '*.csv')"
   ]
  },
  {
   "cell_type": "code",
   "execution_count": 5,
   "metadata": {},
   "outputs": [
    {
     "data": {
      "text/plain": [
       "'Bluechips/ZURN.SW.csv'"
      ]
     },
     "execution_count": 5,
     "metadata": {},
     "output_type": "execute_result"
    }
   ],
   "source": [
    "filenames[0]"
   ]
  },
  {
   "cell_type": "markdown",
   "metadata": {},
   "source": [
    "**Liste von Dataframes mit den Dateien**"
   ]
  },
  {
   "cell_type": "code",
   "execution_count": 6,
   "metadata": {},
   "outputs": [],
   "source": [
    "dfs = []"
   ]
  },
  {
   "cell_type": "code",
   "execution_count": 7,
   "metadata": {},
   "outputs": [],
   "source": [
    "dfs = [pd.read_csv(filename) for filename in filenames]"
   ]
  },
  {
   "cell_type": "markdown",
   "metadata": {},
   "source": [
    "## Daten aggregieren"
   ]
  },
  {
   "cell_type": "markdown",
   "metadata": {},
   "source": [
    "**Spalte mit Company Name hinzufügen**"
   ]
  },
  {
   "cell_type": "code",
   "execution_count": 8,
   "metadata": {},
   "outputs": [],
   "source": [
    "for df, filename in zip(dfs, filenames):\n",
    "    df['Ticker'] = filename\n",
    "    df['Ticker'] = df['Ticker'].str.extract(path + '(.+).SW.csv')"
   ]
  },
  {
   "cell_type": "code",
   "execution_count": 9,
   "metadata": {},
   "outputs": [
    {
     "data": {
      "text/html": [
       "<div>\n",
       "<style scoped>\n",
       "    .dataframe tbody tr th:only-of-type {\n",
       "        vertical-align: middle;\n",
       "    }\n",
       "\n",
       "    .dataframe tbody tr th {\n",
       "        vertical-align: top;\n",
       "    }\n",
       "\n",
       "    .dataframe thead th {\n",
       "        text-align: right;\n",
       "    }\n",
       "</style>\n",
       "<table border=\"1\" class=\"dataframe\">\n",
       "  <thead>\n",
       "    <tr style=\"text-align: right;\">\n",
       "      <th></th>\n",
       "      <th>Date</th>\n",
       "      <th>Open</th>\n",
       "      <th>High</th>\n",
       "      <th>Low</th>\n",
       "      <th>Close</th>\n",
       "      <th>Adj Close</th>\n",
       "      <th>Volume</th>\n",
       "      <th>Ticker</th>\n",
       "    </tr>\n",
       "  </thead>\n",
       "  <tbody>\n",
       "    <tr>\n",
       "      <th>0</th>\n",
       "      <td>2012-09-03</td>\n",
       "      <td>228.600006</td>\n",
       "      <td>230.100006</td>\n",
       "      <td>227.699997</td>\n",
       "      <td>229.399994</td>\n",
       "      <td>127.941551</td>\n",
       "      <td>268447</td>\n",
       "      <td>ZURN</td>\n",
       "    </tr>\n",
       "    <tr>\n",
       "      <th>1</th>\n",
       "      <td>2012-09-04</td>\n",
       "      <td>229.300003</td>\n",
       "      <td>229.600006</td>\n",
       "      <td>226.899994</td>\n",
       "      <td>228.100006</td>\n",
       "      <td>127.216522</td>\n",
       "      <td>342534</td>\n",
       "      <td>ZURN</td>\n",
       "    </tr>\n",
       "  </tbody>\n",
       "</table>\n",
       "</div>"
      ],
      "text/plain": [
       "         Date        Open        High         Low       Close   Adj Close  \\\n",
       "0  2012-09-03  228.600006  230.100006  227.699997  229.399994  127.941551   \n",
       "1  2012-09-04  229.300003  229.600006  226.899994  228.100006  127.216522   \n",
       "\n",
       "   Volume Ticker  \n",
       "0  268447   ZURN  \n",
       "1  342534   ZURN  "
      ]
     },
     "execution_count": 9,
     "metadata": {},
     "output_type": "execute_result"
    }
   ],
   "source": [
    "dfs[0].head(2)"
   ]
  },
  {
   "cell_type": "markdown",
   "metadata": {},
   "source": [
    "**Daten aneinanderreihen**"
   ]
  },
  {
   "cell_type": "code",
   "execution_count": 10,
   "metadata": {},
   "outputs": [],
   "source": [
    "df_all = pd.concat(dfs, ignore_index=True)"
   ]
  },
  {
   "cell_type": "code",
   "execution_count": 11,
   "metadata": {},
   "outputs": [
    {
     "data": {
      "text/html": [
       "<div>\n",
       "<style scoped>\n",
       "    .dataframe tbody tr th:only-of-type {\n",
       "        vertical-align: middle;\n",
       "    }\n",
       "\n",
       "    .dataframe tbody tr th {\n",
       "        vertical-align: top;\n",
       "    }\n",
       "\n",
       "    .dataframe thead th {\n",
       "        text-align: right;\n",
       "    }\n",
       "</style>\n",
       "<table border=\"1\" class=\"dataframe\">\n",
       "  <thead>\n",
       "    <tr style=\"text-align: right;\">\n",
       "      <th></th>\n",
       "      <th>Date</th>\n",
       "      <th>Open</th>\n",
       "      <th>High</th>\n",
       "      <th>Low</th>\n",
       "      <th>Close</th>\n",
       "      <th>Adj Close</th>\n",
       "      <th>Volume</th>\n",
       "      <th>Ticker</th>\n",
       "    </tr>\n",
       "  </thead>\n",
       "  <tbody>\n",
       "    <tr>\n",
       "      <th>0</th>\n",
       "      <td>2012-09-03</td>\n",
       "      <td>228.600006</td>\n",
       "      <td>230.100006</td>\n",
       "      <td>227.699997</td>\n",
       "      <td>229.399994</td>\n",
       "      <td>127.941551</td>\n",
       "      <td>268447</td>\n",
       "      <td>ZURN</td>\n",
       "    </tr>\n",
       "    <tr>\n",
       "      <th>1</th>\n",
       "      <td>2012-09-04</td>\n",
       "      <td>229.300003</td>\n",
       "      <td>229.600006</td>\n",
       "      <td>226.899994</td>\n",
       "      <td>228.100006</td>\n",
       "      <td>127.216522</td>\n",
       "      <td>342534</td>\n",
       "      <td>ZURN</td>\n",
       "    </tr>\n",
       "  </tbody>\n",
       "</table>\n",
       "</div>"
      ],
      "text/plain": [
       "         Date        Open        High         Low       Close   Adj Close  \\\n",
       "0  2012-09-03  228.600006  230.100006  227.699997  229.399994  127.941551   \n",
       "1  2012-09-04  229.300003  229.600006  226.899994  228.100006  127.216522   \n",
       "\n",
       "   Volume Ticker  \n",
       "0  268447   ZURN  \n",
       "1  342534   ZURN  "
      ]
     },
     "execution_count": 11,
     "metadata": {},
     "output_type": "execute_result"
    }
   ],
   "source": [
    "df_all.head(2)"
   ]
  },
  {
   "cell_type": "code",
   "execution_count": 12,
   "metadata": {},
   "outputs": [
    {
     "data": {
      "text/html": [
       "<div>\n",
       "<style scoped>\n",
       "    .dataframe tbody tr th:only-of-type {\n",
       "        vertical-align: middle;\n",
       "    }\n",
       "\n",
       "    .dataframe tbody tr th {\n",
       "        vertical-align: top;\n",
       "    }\n",
       "\n",
       "    .dataframe thead th {\n",
       "        text-align: right;\n",
       "    }\n",
       "</style>\n",
       "<table border=\"1\" class=\"dataframe\">\n",
       "  <thead>\n",
       "    <tr style=\"text-align: right;\">\n",
       "      <th></th>\n",
       "      <th>Date</th>\n",
       "      <th>Open</th>\n",
       "      <th>High</th>\n",
       "      <th>Low</th>\n",
       "      <th>Close</th>\n",
       "      <th>Adj Close</th>\n",
       "      <th>Volume</th>\n",
       "      <th>Ticker</th>\n",
       "    </tr>\n",
       "  </thead>\n",
       "  <tbody>\n",
       "    <tr>\n",
       "      <th>48546</th>\n",
       "      <td>2022-09-01</td>\n",
       "      <td>43.000000</td>\n",
       "      <td>43.060001</td>\n",
       "      <td>42.560001</td>\n",
       "      <td>42.740002</td>\n",
       "      <td>42.740002</td>\n",
       "      <td>1205118</td>\n",
       "      <td>HOLN</td>\n",
       "    </tr>\n",
       "    <tr>\n",
       "      <th>48547</th>\n",
       "      <td>2022-09-02</td>\n",
       "      <td>44.009998</td>\n",
       "      <td>45.049999</td>\n",
       "      <td>43.520000</td>\n",
       "      <td>45.049999</td>\n",
       "      <td>45.049999</td>\n",
       "      <td>2389007</td>\n",
       "      <td>HOLN</td>\n",
       "    </tr>\n",
       "  </tbody>\n",
       "</table>\n",
       "</div>"
      ],
      "text/plain": [
       "             Date       Open       High        Low      Close  Adj Close  \\\n",
       "48546  2022-09-01  43.000000  43.060001  42.560001  42.740002  42.740002   \n",
       "48547  2022-09-02  44.009998  45.049999  43.520000  45.049999  45.049999   \n",
       "\n",
       "        Volume Ticker  \n",
       "48546  1205118   HOLN  \n",
       "48547  2389007   HOLN  "
      ]
     },
     "execution_count": 12,
     "metadata": {},
     "output_type": "execute_result"
    }
   ],
   "source": [
    "df_all.tail(2)"
   ]
  },
  {
   "cell_type": "markdown",
   "metadata": {},
   "source": [
    "**Name für Ticker hinzufügen**"
   ]
  },
  {
   "cell_type": "code",
   "execution_count": 13,
   "metadata": {},
   "outputs": [],
   "source": [
    "df_names = pd.read_csv('company_names_2022.csv')"
   ]
  },
  {
   "cell_type": "code",
   "execution_count": 14,
   "metadata": {},
   "outputs": [
    {
     "data": {
      "text/html": [
       "<div>\n",
       "<style scoped>\n",
       "    .dataframe tbody tr th:only-of-type {\n",
       "        vertical-align: middle;\n",
       "    }\n",
       "\n",
       "    .dataframe tbody tr th {\n",
       "        vertical-align: top;\n",
       "    }\n",
       "\n",
       "    .dataframe thead th {\n",
       "        text-align: right;\n",
       "    }\n",
       "</style>\n",
       "<table border=\"1\" class=\"dataframe\">\n",
       "  <thead>\n",
       "    <tr style=\"text-align: right;\">\n",
       "      <th></th>\n",
       "      <th>Company</th>\n",
       "      <th>Ticker</th>\n",
       "    </tr>\n",
       "  </thead>\n",
       "  <tbody>\n",
       "    <tr>\n",
       "      <th>0</th>\n",
       "      <td>ABB LTD</td>\n",
       "      <td>ABBN</td>\n",
       "    </tr>\n",
       "    <tr>\n",
       "      <th>1</th>\n",
       "      <td>ALCON</td>\n",
       "      <td>ALC</td>\n",
       "    </tr>\n",
       "  </tbody>\n",
       "</table>\n",
       "</div>"
      ],
      "text/plain": [
       "   Company Ticker\n",
       "0  ABB LTD   ABBN\n",
       "1    ALCON    ALC"
      ]
     },
     "execution_count": 14,
     "metadata": {},
     "output_type": "execute_result"
    }
   ],
   "source": [
    "df_names.head(2)"
   ]
  },
  {
   "cell_type": "code",
   "execution_count": 15,
   "metadata": {},
   "outputs": [],
   "source": [
    "df_all_m = df_all.merge(df_names, how='left', on='Ticker')"
   ]
  },
  {
   "cell_type": "markdown",
   "metadata": {},
   "source": [
    "**Spalte Close auswählen und Pivot**"
   ]
  },
  {
   "cell_type": "code",
   "execution_count": 16,
   "metadata": {},
   "outputs": [],
   "source": [
    "df_pivoted = df_all_m.pivot(index='Date', columns='Company', values='Close')"
   ]
  },
  {
   "cell_type": "code",
   "execution_count": 17,
   "metadata": {},
   "outputs": [
    {
     "data": {
      "text/html": [
       "<div>\n",
       "<style scoped>\n",
       "    .dataframe tbody tr th:only-of-type {\n",
       "        vertical-align: middle;\n",
       "    }\n",
       "\n",
       "    .dataframe tbody tr th {\n",
       "        vertical-align: top;\n",
       "    }\n",
       "\n",
       "    .dataframe thead th {\n",
       "        text-align: right;\n",
       "    }\n",
       "</style>\n",
       "<table border=\"1\" class=\"dataframe\">\n",
       "  <thead>\n",
       "    <tr style=\"text-align: right;\">\n",
       "      <th>Company</th>\n",
       "      <th>ABB LTD</th>\n",
       "      <th>ALCON</th>\n",
       "      <th>CS GROUP</th>\n",
       "      <th>GEBERIT</th>\n",
       "      <th>GIVAUDAN</th>\n",
       "      <th>HOLCIM</th>\n",
       "      <th>LOGITECH</th>\n",
       "      <th>LONZA</th>\n",
       "      <th>NESTLE</th>\n",
       "      <th>NOVARTIS</th>\n",
       "      <th>PARTNERS GROUP</th>\n",
       "      <th>RICHEMONT</th>\n",
       "      <th>ROCHE</th>\n",
       "      <th>SGS</th>\n",
       "      <th>SIKA</th>\n",
       "      <th>SWISS LIFE HOLDING</th>\n",
       "      <th>SWISS RE</th>\n",
       "      <th>SWISSCOM</th>\n",
       "      <th>UBS GROUP</th>\n",
       "      <th>ZURICH INSURANCE</th>\n",
       "    </tr>\n",
       "    <tr>\n",
       "      <th>Date</th>\n",
       "      <th></th>\n",
       "      <th></th>\n",
       "      <th></th>\n",
       "      <th></th>\n",
       "      <th></th>\n",
       "      <th></th>\n",
       "      <th></th>\n",
       "      <th></th>\n",
       "      <th></th>\n",
       "      <th></th>\n",
       "      <th></th>\n",
       "      <th></th>\n",
       "      <th></th>\n",
       "      <th></th>\n",
       "      <th></th>\n",
       "      <th></th>\n",
       "      <th></th>\n",
       "      <th></th>\n",
       "      <th></th>\n",
       "      <th></th>\n",
       "    </tr>\n",
       "  </thead>\n",
       "  <tbody>\n",
       "    <tr>\n",
       "      <th>2012-09-03</th>\n",
       "      <td>16.709999</td>\n",
       "      <td>NaN</td>\n",
       "      <td>16.836145</td>\n",
       "      <td>204.100006</td>\n",
       "      <td>907.0</td>\n",
       "      <td>56.095238</td>\n",
       "      <td>8.850</td>\n",
       "      <td>40.840107</td>\n",
       "      <td>59.950001</td>\n",
       "      <td>49.945457</td>\n",
       "      <td>183.300003</td>\n",
       "      <td>60.000000</td>\n",
       "      <td>174.800003</td>\n",
       "      <td>1932.0</td>\n",
       "      <td>30.766666</td>\n",
       "      <td>109.099998</td>\n",
       "      <td>60.299999</td>\n",
       "      <td>385.200012</td>\n",
       "      <td>10.73</td>\n",
       "      <td>229.399994</td>\n",
       "    </tr>\n",
       "    <tr>\n",
       "      <th>2012-09-04</th>\n",
       "      <td>16.480000</td>\n",
       "      <td>NaN</td>\n",
       "      <td>16.534031</td>\n",
       "      <td>200.199997</td>\n",
       "      <td>896.0</td>\n",
       "      <td>55.333332</td>\n",
       "      <td>9.095</td>\n",
       "      <td>40.376961</td>\n",
       "      <td>59.150002</td>\n",
       "      <td>49.459263</td>\n",
       "      <td>189.000000</td>\n",
       "      <td>59.150002</td>\n",
       "      <td>173.000000</td>\n",
       "      <td>1904.0</td>\n",
       "      <td>30.183332</td>\n",
       "      <td>109.300003</td>\n",
       "      <td>60.150002</td>\n",
       "      <td>385.799988</td>\n",
       "      <td>10.56</td>\n",
       "      <td>228.100006</td>\n",
       "    </tr>\n",
       "  </tbody>\n",
       "</table>\n",
       "</div>"
      ],
      "text/plain": [
       "Company       ABB LTD  ALCON   CS GROUP     GEBERIT  GIVAUDAN     HOLCIM  \\\n",
       "Date                                                                       \n",
       "2012-09-03  16.709999    NaN  16.836145  204.100006     907.0  56.095238   \n",
       "2012-09-04  16.480000    NaN  16.534031  200.199997     896.0  55.333332   \n",
       "\n",
       "Company     LOGITECH      LONZA     NESTLE   NOVARTIS  PARTNERS GROUP  \\\n",
       "Date                                                                    \n",
       "2012-09-03     8.850  40.840107  59.950001  49.945457      183.300003   \n",
       "2012-09-04     9.095  40.376961  59.150002  49.459263      189.000000   \n",
       "\n",
       "Company     RICHEMONT       ROCHE     SGS       SIKA  SWISS LIFE HOLDING  \\\n",
       "Date                                                                       \n",
       "2012-09-03  60.000000  174.800003  1932.0  30.766666          109.099998   \n",
       "2012-09-04  59.150002  173.000000  1904.0  30.183332          109.300003   \n",
       "\n",
       "Company      SWISS RE    SWISSCOM  UBS GROUP  ZURICH INSURANCE  \n",
       "Date                                                            \n",
       "2012-09-03  60.299999  385.200012      10.73        229.399994  \n",
       "2012-09-04  60.150002  385.799988      10.56        228.100006  "
      ]
     },
     "execution_count": 17,
     "metadata": {},
     "output_type": "execute_result"
    }
   ],
   "source": [
    "df_pivoted.head(2)"
   ]
  },
  {
   "cell_type": "code",
   "execution_count": 18,
   "metadata": {},
   "outputs": [],
   "source": [
    "df_pivoted.rename_axis(None, inplace=True)"
   ]
  },
  {
   "cell_type": "code",
   "execution_count": 19,
   "metadata": {},
   "outputs": [],
   "source": [
    "df_pivoted.rename_axis(None, inplace=True)"
   ]
  },
  {
   "cell_type": "code",
   "execution_count": 20,
   "metadata": {},
   "outputs": [
    {
     "data": {
      "text/html": [
       "<div>\n",
       "<style scoped>\n",
       "    .dataframe tbody tr th:only-of-type {\n",
       "        vertical-align: middle;\n",
       "    }\n",
       "\n",
       "    .dataframe tbody tr th {\n",
       "        vertical-align: top;\n",
       "    }\n",
       "\n",
       "    .dataframe thead th {\n",
       "        text-align: right;\n",
       "    }\n",
       "</style>\n",
       "<table border=\"1\" class=\"dataframe\">\n",
       "  <thead>\n",
       "    <tr style=\"text-align: right;\">\n",
       "      <th>Company</th>\n",
       "      <th>ABB LTD</th>\n",
       "      <th>ALCON</th>\n",
       "      <th>CS GROUP</th>\n",
       "      <th>GEBERIT</th>\n",
       "      <th>GIVAUDAN</th>\n",
       "      <th>HOLCIM</th>\n",
       "      <th>LOGITECH</th>\n",
       "      <th>LONZA</th>\n",
       "      <th>NESTLE</th>\n",
       "      <th>NOVARTIS</th>\n",
       "      <th>PARTNERS GROUP</th>\n",
       "      <th>RICHEMONT</th>\n",
       "      <th>ROCHE</th>\n",
       "      <th>SGS</th>\n",
       "      <th>SIKA</th>\n",
       "      <th>SWISS LIFE HOLDING</th>\n",
       "      <th>SWISS RE</th>\n",
       "      <th>SWISSCOM</th>\n",
       "      <th>UBS GROUP</th>\n",
       "      <th>ZURICH INSURANCE</th>\n",
       "    </tr>\n",
       "  </thead>\n",
       "  <tbody>\n",
       "    <tr>\n",
       "      <th>2012-09-03</th>\n",
       "      <td>16.709999</td>\n",
       "      <td>NaN</td>\n",
       "      <td>16.836145</td>\n",
       "      <td>204.100006</td>\n",
       "      <td>907.0</td>\n",
       "      <td>56.095238</td>\n",
       "      <td>8.850</td>\n",
       "      <td>40.840107</td>\n",
       "      <td>59.950001</td>\n",
       "      <td>49.945457</td>\n",
       "      <td>183.300003</td>\n",
       "      <td>60.000000</td>\n",
       "      <td>174.800003</td>\n",
       "      <td>1932.0</td>\n",
       "      <td>30.766666</td>\n",
       "      <td>109.099998</td>\n",
       "      <td>60.299999</td>\n",
       "      <td>385.200012</td>\n",
       "      <td>10.73</td>\n",
       "      <td>229.399994</td>\n",
       "    </tr>\n",
       "    <tr>\n",
       "      <th>2012-09-04</th>\n",
       "      <td>16.480000</td>\n",
       "      <td>NaN</td>\n",
       "      <td>16.534031</td>\n",
       "      <td>200.199997</td>\n",
       "      <td>896.0</td>\n",
       "      <td>55.333332</td>\n",
       "      <td>9.095</td>\n",
       "      <td>40.376961</td>\n",
       "      <td>59.150002</td>\n",
       "      <td>49.459263</td>\n",
       "      <td>189.000000</td>\n",
       "      <td>59.150002</td>\n",
       "      <td>173.000000</td>\n",
       "      <td>1904.0</td>\n",
       "      <td>30.183332</td>\n",
       "      <td>109.300003</td>\n",
       "      <td>60.150002</td>\n",
       "      <td>385.799988</td>\n",
       "      <td>10.56</td>\n",
       "      <td>228.100006</td>\n",
       "    </tr>\n",
       "  </tbody>\n",
       "</table>\n",
       "</div>"
      ],
      "text/plain": [
       "Company       ABB LTD  ALCON   CS GROUP     GEBERIT  GIVAUDAN     HOLCIM  \\\n",
       "2012-09-03  16.709999    NaN  16.836145  204.100006     907.0  56.095238   \n",
       "2012-09-04  16.480000    NaN  16.534031  200.199997     896.0  55.333332   \n",
       "\n",
       "Company     LOGITECH      LONZA     NESTLE   NOVARTIS  PARTNERS GROUP  \\\n",
       "2012-09-03     8.850  40.840107  59.950001  49.945457      183.300003   \n",
       "2012-09-04     9.095  40.376961  59.150002  49.459263      189.000000   \n",
       "\n",
       "Company     RICHEMONT       ROCHE     SGS       SIKA  SWISS LIFE HOLDING  \\\n",
       "2012-09-03  60.000000  174.800003  1932.0  30.766666          109.099998   \n",
       "2012-09-04  59.150002  173.000000  1904.0  30.183332          109.300003   \n",
       "\n",
       "Company      SWISS RE    SWISSCOM  UBS GROUP  ZURICH INSURANCE  \n",
       "2012-09-03  60.299999  385.200012      10.73        229.399994  \n",
       "2012-09-04  60.150002  385.799988      10.56        228.100006  "
      ]
     },
     "execution_count": 20,
     "metadata": {},
     "output_type": "execute_result"
    }
   ],
   "source": [
    "df_pivoted.head(2)"
   ]
  },
  {
   "cell_type": "code",
   "execution_count": 21,
   "metadata": {},
   "outputs": [
    {
     "data": {
      "text/html": [
       "<div>\n",
       "<style scoped>\n",
       "    .dataframe tbody tr th:only-of-type {\n",
       "        vertical-align: middle;\n",
       "    }\n",
       "\n",
       "    .dataframe tbody tr th {\n",
       "        vertical-align: top;\n",
       "    }\n",
       "\n",
       "    .dataframe thead th {\n",
       "        text-align: right;\n",
       "    }\n",
       "</style>\n",
       "<table border=\"1\" class=\"dataframe\">\n",
       "  <thead>\n",
       "    <tr style=\"text-align: right;\">\n",
       "      <th>Company</th>\n",
       "      <th>ABB LTD</th>\n",
       "      <th>ALCON</th>\n",
       "      <th>CS GROUP</th>\n",
       "      <th>GEBERIT</th>\n",
       "      <th>GIVAUDAN</th>\n",
       "      <th>HOLCIM</th>\n",
       "      <th>LOGITECH</th>\n",
       "      <th>LONZA</th>\n",
       "      <th>NESTLE</th>\n",
       "      <th>NOVARTIS</th>\n",
       "      <th>PARTNERS GROUP</th>\n",
       "      <th>RICHEMONT</th>\n",
       "      <th>ROCHE</th>\n",
       "      <th>SGS</th>\n",
       "      <th>SIKA</th>\n",
       "      <th>SWISS LIFE HOLDING</th>\n",
       "      <th>SWISS RE</th>\n",
       "      <th>SWISSCOM</th>\n",
       "      <th>UBS GROUP</th>\n",
       "      <th>ZURICH INSURANCE</th>\n",
       "    </tr>\n",
       "  </thead>\n",
       "  <tbody>\n",
       "    <tr>\n",
       "      <th>2022-09-01</th>\n",
       "      <td>26.48</td>\n",
       "      <td>64.180000</td>\n",
       "      <td>4.862</td>\n",
       "      <td>438.100006</td>\n",
       "      <td>3036.0</td>\n",
       "      <td>42.740002</td>\n",
       "      <td>47.770000</td>\n",
       "      <td>510.000000</td>\n",
       "      <td>112.959999</td>\n",
       "      <td>78.559998</td>\n",
       "      <td>902.599976</td>\n",
       "      <td>104.949997</td>\n",
       "      <td>312.799988</td>\n",
       "      <td>2110.0</td>\n",
       "      <td>212.199997</td>\n",
       "      <td>499.000000</td>\n",
       "      <td>76.18</td>\n",
       "      <td>506.399994</td>\n",
       "      <td>14.970</td>\n",
       "      <td>423.000000</td>\n",
       "    </tr>\n",
       "    <tr>\n",
       "      <th>2022-09-02</th>\n",
       "      <td>27.41</td>\n",
       "      <td>66.019997</td>\n",
       "      <td>5.160</td>\n",
       "      <td>454.299988</td>\n",
       "      <td>3114.0</td>\n",
       "      <td>45.049999</td>\n",
       "      <td>48.970001</td>\n",
       "      <td>526.200012</td>\n",
       "      <td>113.419998</td>\n",
       "      <td>79.449997</td>\n",
       "      <td>940.200012</td>\n",
       "      <td>107.550003</td>\n",
       "      <td>318.700012</td>\n",
       "      <td>2171.0</td>\n",
       "      <td>222.800003</td>\n",
       "      <td>515.200012</td>\n",
       "      <td>79.00</td>\n",
       "      <td>508.200012</td>\n",
       "      <td>15.595</td>\n",
       "      <td>434.100006</td>\n",
       "    </tr>\n",
       "  </tbody>\n",
       "</table>\n",
       "</div>"
      ],
      "text/plain": [
       "Company     ABB LTD      ALCON  CS GROUP     GEBERIT  GIVAUDAN     HOLCIM  \\\n",
       "2022-09-01    26.48  64.180000     4.862  438.100006    3036.0  42.740002   \n",
       "2022-09-02    27.41  66.019997     5.160  454.299988    3114.0  45.049999   \n",
       "\n",
       "Company      LOGITECH       LONZA      NESTLE   NOVARTIS  PARTNERS GROUP  \\\n",
       "2022-09-01  47.770000  510.000000  112.959999  78.559998      902.599976   \n",
       "2022-09-02  48.970001  526.200012  113.419998  79.449997      940.200012   \n",
       "\n",
       "Company      RICHEMONT       ROCHE     SGS        SIKA  SWISS LIFE HOLDING  \\\n",
       "2022-09-01  104.949997  312.799988  2110.0  212.199997          499.000000   \n",
       "2022-09-02  107.550003  318.700012  2171.0  222.800003          515.200012   \n",
       "\n",
       "Company     SWISS RE    SWISSCOM  UBS GROUP  ZURICH INSURANCE  \n",
       "2022-09-01     76.18  506.399994     14.970        423.000000  \n",
       "2022-09-02     79.00  508.200012     15.595        434.100006  "
      ]
     },
     "execution_count": 21,
     "metadata": {},
     "output_type": "execute_result"
    }
   ],
   "source": [
    "df_pivoted.tail(2)"
   ]
  },
  {
   "cell_type": "markdown",
   "metadata": {},
   "source": [
    "## Daten exportieren"
   ]
  },
  {
   "cell_type": "code",
   "execution_count": 22,
   "metadata": {},
   "outputs": [],
   "source": [
    "df_pivoted.to_csv('smi_members.csv')"
   ]
  },
  {
   "cell_type": "code",
   "execution_count": null,
   "metadata": {},
   "outputs": [],
   "source": []
  }
 ],
 "metadata": {
  "kernelspec": {
   "display_name": "Python 3 (ipykernel)",
   "language": "python",
   "name": "python3"
  },
  "language_info": {
   "codemirror_mode": {
    "name": "ipython",
    "version": 3
   },
   "file_extension": ".py",
   "mimetype": "text/x-python",
   "name": "python",
   "nbconvert_exporter": "python",
   "pygments_lexer": "ipython3",
   "version": "3.10.6"
  }
 },
 "nbformat": 4,
 "nbformat_minor": 2
}
