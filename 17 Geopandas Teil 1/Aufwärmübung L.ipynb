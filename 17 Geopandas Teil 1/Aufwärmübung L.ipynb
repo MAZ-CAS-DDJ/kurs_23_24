{
 "cells": [
  {
   "cell_type": "markdown",
   "metadata": {},
   "source": [
    "# Aufwärmübung\n",
    "\n",
    "**Inhalt:** Shapely-Shapes\n",
    "\n",
    "**Nötige Skills**\n",
    "- Basic pandas skills\n",
    "\n",
    "**Lernziele**\n",
    "- Punkte, Linien, Polygone"
   ]
  },
  {
   "cell_type": "markdown",
   "metadata": {},
   "source": [
    "## Setup"
   ]
  },
  {
   "cell_type": "code",
   "execution_count": 1,
   "metadata": {},
   "outputs": [],
   "source": [
    "import pandas as pd\n",
    "import geopandas as gpd\n",
    "from shapely.geometry import Point, LineString, Polygon"
   ]
  },
  {
   "cell_type": "code",
   "execution_count": null,
   "metadata": {},
   "outputs": [],
   "source": []
  },
  {
   "cell_type": "markdown",
   "metadata": {},
   "source": [
    "## Shapely\n",
    "\n",
    "Eine Library zur mathematischen Analyse von Formen und für die Geometrie: https://shapely.readthedocs.io/en/stable/"
   ]
  },
  {
   "cell_type": "markdown",
   "metadata": {},
   "source": [
    "### Point"
   ]
  },
  {
   "cell_type": "code",
   "execution_count": 2,
   "metadata": {},
   "outputs": [],
   "source": [
    "x1 = 5\n",
    "y1 = 5"
   ]
  },
  {
   "cell_type": "code",
   "execution_count": 3,
   "metadata": {},
   "outputs": [],
   "source": [
    "punkt1 = Point(x1, y1)"
   ]
  },
  {
   "cell_type": "code",
   "execution_count": 4,
   "metadata": {},
   "outputs": [
    {
     "data": {
      "image/svg+xml": [
       "<svg xmlns=\"http://www.w3.org/2000/svg\" xmlns:xlink=\"http://www.w3.org/1999/xlink\" width=\"100.0\" height=\"100.0\" viewBox=\"4.0 4.0 2.0 2.0\" preserveAspectRatio=\"xMinYMin meet\"><g transform=\"matrix(1,0,0,-1,0,10.0)\"><circle cx=\"5.0\" cy=\"5.0\" r=\"0.06\" stroke=\"#555555\" stroke-width=\"0.02\" fill=\"#66cc99\" opacity=\"0.6\" /></g></svg>"
      ],
      "text/plain": [
       "<shapely.geometry.point.Point at 0x167227be0>"
      ]
     },
     "execution_count": 4,
     "metadata": {},
     "output_type": "execute_result"
    }
   ],
   "source": [
    "punkt1"
   ]
  },
  {
   "cell_type": "markdown",
   "metadata": {},
   "source": [
    "### Line"
   ]
  },
  {
   "cell_type": "code",
   "execution_count": 5,
   "metadata": {},
   "outputs": [],
   "source": [
    "x2a = 20\n",
    "y2a = 0\n",
    "\n",
    "x2b = 0\n",
    "y2b = 20"
   ]
  },
  {
   "cell_type": "code",
   "execution_count": 6,
   "metadata": {},
   "outputs": [],
   "source": [
    "linie1 = LineString([Point(x2a, y2a), Point(x2b, y2b)])"
   ]
  },
  {
   "cell_type": "code",
   "execution_count": 7,
   "metadata": {},
   "outputs": [
    {
     "data": {
      "image/svg+xml": [
       "<svg xmlns=\"http://www.w3.org/2000/svg\" xmlns:xlink=\"http://www.w3.org/1999/xlink\" width=\"100.0\" height=\"100.0\" viewBox=\"-0.8 -0.8 21.6 21.6\" preserveAspectRatio=\"xMinYMin meet\"><g transform=\"matrix(1,0,0,-1,0,20.0)\"><polyline fill=\"none\" stroke=\"#66cc99\" stroke-width=\"0.43200000000000005\" points=\"20.0,0.0 0.0,20.0\" opacity=\"0.8\" /></g></svg>"
      ],
      "text/plain": [
       "<shapely.geometry.linestring.LineString at 0x16725c670>"
      ]
     },
     "execution_count": 7,
     "metadata": {},
     "output_type": "execute_result"
    }
   ],
   "source": [
    "linie1"
   ]
  },
  {
   "cell_type": "markdown",
   "metadata": {},
   "source": [
    "### Polygon"
   ]
  },
  {
   "cell_type": "code",
   "execution_count": 8,
   "metadata": {},
   "outputs": [],
   "source": [
    "x3a = 0\n",
    "y3a = 0\n",
    "\n",
    "x3b = 10\n",
    "y3b = 0\n",
    "\n",
    "x3c = 10\n",
    "y3c = 10\n",
    "\n",
    "x3d = 0\n",
    "y3d = 10"
   ]
  },
  {
   "cell_type": "code",
   "execution_count": 9,
   "metadata": {},
   "outputs": [],
   "source": [
    "polygon1 = Polygon([[x3a, y3a], [x3b, y3b], [x3c, y3c], [x3a, y3d]])"
   ]
  },
  {
   "cell_type": "code",
   "execution_count": 10,
   "metadata": {
    "scrolled": true
   },
   "outputs": [
    {
     "data": {
      "image/svg+xml": [
       "<svg xmlns=\"http://www.w3.org/2000/svg\" xmlns:xlink=\"http://www.w3.org/1999/xlink\" width=\"100.0\" height=\"100.0\" viewBox=\"-0.4 -0.4 10.8 10.8\" preserveAspectRatio=\"xMinYMin meet\"><g transform=\"matrix(1,0,0,-1,0,10.0)\"><path fill-rule=\"evenodd\" fill=\"#66cc99\" stroke=\"#555555\" stroke-width=\"0.21600000000000003\" opacity=\"0.6\" d=\"M 0.0,0.0 L 10.0,0.0 L 10.0,10.0 L 0.0,10.0 L 0.0,0.0 z\" /></g></svg>"
      ],
      "text/plain": [
       "<shapely.geometry.polygon.Polygon at 0x16725d6c0>"
      ]
     },
     "execution_count": 10,
     "metadata": {},
     "output_type": "execute_result"
    }
   ],
   "source": [
    "polygon1"
   ]
  },
  {
   "cell_type": "markdown",
   "metadata": {},
   "source": [
    "### Let's plot it"
   ]
  },
  {
   "cell_type": "code",
   "execution_count": 11,
   "metadata": {
    "scrolled": true
   },
   "outputs": [
    {
     "name": "stderr",
     "output_type": "stream",
     "text": [
      "/Users/simon/opt/anaconda3/envs/CAS-Datenjournalismus-22/lib/python3.10/site-packages/pandas/core/dtypes/cast.py:122: ShapelyDeprecationWarning: The array interface is deprecated and will no longer work in Shapely 2.0. Convert the '.coords' to a numpy array instead.\n",
      "  arr = construct_1d_object_array_from_listlike(values)\n"
     ]
    }
   ],
   "source": [
    "df = pd.DataFrame({'geometry': [punkt1, linie1]})"
   ]
  },
  {
   "cell_type": "markdown",
   "metadata": {},
   "source": [
    "Diese Warnung ist lästig, wir können Sie ignorieren. Damit sie nicht mehr erscheint:"
   ]
  },
  {
   "cell_type": "code",
   "execution_count": 12,
   "metadata": {},
   "outputs": [],
   "source": [
    "import warnings\n",
    "from shapely.errors import ShapelyDeprecationWarning\n",
    "warnings.filterwarnings(\"ignore\", category=ShapelyDeprecationWarning)"
   ]
  },
  {
   "cell_type": "markdown",
   "metadata": {},
   "source": [
    ".... und weiter gehts:"
   ]
  },
  {
   "cell_type": "code",
   "execution_count": 13,
   "metadata": {},
   "outputs": [],
   "source": [
    "df = pd.DataFrame({'geometry': [punkt1, linie1]})"
   ]
  },
  {
   "cell_type": "code",
   "execution_count": 14,
   "metadata": {},
   "outputs": [],
   "source": [
    "gdf = gpd.GeoDataFrame(df, geometry='geometry')"
   ]
  },
  {
   "cell_type": "code",
   "execution_count": 15,
   "metadata": {},
   "outputs": [
    {
     "data": {
      "text/html": [
       "<div>\n",
       "<style scoped>\n",
       "    .dataframe tbody tr th:only-of-type {\n",
       "        vertical-align: middle;\n",
       "    }\n",
       "\n",
       "    .dataframe tbody tr th {\n",
       "        vertical-align: top;\n",
       "    }\n",
       "\n",
       "    .dataframe thead th {\n",
       "        text-align: right;\n",
       "    }\n",
       "</style>\n",
       "<table border=\"1\" class=\"dataframe\">\n",
       "  <thead>\n",
       "    <tr style=\"text-align: right;\">\n",
       "      <th></th>\n",
       "      <th>geometry</th>\n",
       "    </tr>\n",
       "  </thead>\n",
       "  <tbody>\n",
       "    <tr>\n",
       "      <th>0</th>\n",
       "      <td>POINT (5.00000 5.00000)</td>\n",
       "    </tr>\n",
       "    <tr>\n",
       "      <th>1</th>\n",
       "      <td>LINESTRING (20.00000 0.00000, 0.00000 20.00000)</td>\n",
       "    </tr>\n",
       "  </tbody>\n",
       "</table>\n",
       "</div>"
      ],
      "text/plain": [
       "                                          geometry\n",
       "0                          POINT (5.00000 5.00000)\n",
       "1  LINESTRING (20.00000 0.00000, 0.00000 20.00000)"
      ]
     },
     "execution_count": 15,
     "metadata": {},
     "output_type": "execute_result"
    }
   ],
   "source": [
    "gdf"
   ]
  },
  {
   "cell_type": "code",
   "execution_count": 16,
   "metadata": {},
   "outputs": [
    {
     "data": {
      "text/plain": [
       "<AxesSubplot:>"
      ]
     },
     "execution_count": 16,
     "metadata": {},
     "output_type": "execute_result"
    },
    {
     "data": {
      "image/png": "[encoded data removed]",
      "text/plain": [
       "<Figure size 640x480 with 1 Axes>"
      ]
     },
     "metadata": {},
     "output_type": "display_data"
    }
   ],
   "source": [
    "gdf.plot(alpha=0.5, linewidth=2, edgecolor='black', markersize=5)"
   ]
  },
  {
   "cell_type": "code",
   "execution_count": null,
   "metadata": {},
   "outputs": [],
   "source": []
  },
  {
   "cell_type": "markdown",
   "metadata": {},
   "source": [
    "## Your Turn\n",
    "\n",
    "Wir spielen Picasso und zeichnen ein Haus.\n",
    "\n",
    "**Aufgabe:** Definieren Sie ein paar Rechtecke, Linien und Punkte..."
   ]
  },
  {
   "cell_type": "code",
   "execution_count": 17,
   "metadata": {},
   "outputs": [],
   "source": [
    "polygon1 = Polygon([[x3a, y3a], [x3b, y3b], [x3c, y3c], [x3a, y3d]])"
   ]
  },
  {
   "cell_type": "code",
   "execution_count": 18,
   "metadata": {},
   "outputs": [],
   "source": [
    "linie2 = LineString([Point(0, 10), Point(5, 13), Point(10, 10)])"
   ]
  },
  {
   "cell_type": "code",
   "execution_count": 19,
   "metadata": {},
   "outputs": [],
   "source": [
    "polygon2 = Polygon([[5, 0], [5, 3], [7, 3], [7, 0]])"
   ]
  },
  {
   "cell_type": "code",
   "execution_count": 20,
   "metadata": {},
   "outputs": [],
   "source": [
    "punkt2 = Point(5.5, 1)"
   ]
  },
  {
   "cell_type": "code",
   "execution_count": null,
   "metadata": {},
   "outputs": [],
   "source": []
  },
  {
   "cell_type": "markdown",
   "metadata": {},
   "source": [
    "... fügen Sie die Objekte in ein Geodataframe und plotten Sie dieses!"
   ]
  },
  {
   "cell_type": "code",
   "execution_count": 21,
   "metadata": {},
   "outputs": [],
   "source": [
    "df = pd.DataFrame({'geometry': [polygon1, linie2, polygon2, punkt2]})"
   ]
  },
  {
   "cell_type": "code",
   "execution_count": 22,
   "metadata": {},
   "outputs": [],
   "source": [
    "gdf = gpd.GeoDataFrame(df, geometry='geometry')"
   ]
  },
  {
   "cell_type": "code",
   "execution_count": 23,
   "metadata": {},
   "outputs": [
    {
     "data": {
      "text/html": [
       "<div>\n",
       "<style scoped>\n",
       "    .dataframe tbody tr th:only-of-type {\n",
       "        vertical-align: middle;\n",
       "    }\n",
       "\n",
       "    .dataframe tbody tr th {\n",
       "        vertical-align: top;\n",
       "    }\n",
       "\n",
       "    .dataframe thead th {\n",
       "        text-align: right;\n",
       "    }\n",
       "</style>\n",
       "<table border=\"1\" class=\"dataframe\">\n",
       "  <thead>\n",
       "    <tr style=\"text-align: right;\">\n",
       "      <th></th>\n",
       "      <th>geometry</th>\n",
       "    </tr>\n",
       "  </thead>\n",
       "  <tbody>\n",
       "    <tr>\n",
       "      <th>0</th>\n",
       "      <td>POLYGON ((0.00000 0.00000, 10.00000 0.00000, 1...</td>\n",
       "    </tr>\n",
       "    <tr>\n",
       "      <th>1</th>\n",
       "      <td>LINESTRING (0.00000 10.00000, 5.00000 13.00000...</td>\n",
       "    </tr>\n",
       "    <tr>\n",
       "      <th>2</th>\n",
       "      <td>POLYGON ((5.00000 0.00000, 5.00000 3.00000, 7....</td>\n",
       "    </tr>\n",
       "    <tr>\n",
       "      <th>3</th>\n",
       "      <td>POINT (5.50000 1.00000)</td>\n",
       "    </tr>\n",
       "  </tbody>\n",
       "</table>\n",
       "</div>"
      ],
      "text/plain": [
       "                                            geometry\n",
       "0  POLYGON ((0.00000 0.00000, 10.00000 0.00000, 1...\n",
       "1  LINESTRING (0.00000 10.00000, 5.00000 13.00000...\n",
       "2  POLYGON ((5.00000 0.00000, 5.00000 3.00000, 7....\n",
       "3                            POINT (5.50000 1.00000)"
      ]
     },
     "execution_count": 23,
     "metadata": {},
     "output_type": "execute_result"
    }
   ],
   "source": [
    "gdf"
   ]
  },
  {
   "cell_type": "code",
   "execution_count": 24,
   "metadata": {},
   "outputs": [
    {
     "data": {
      "text/plain": [
       "<AxesSubplot:>"
      ]
     },
     "execution_count": 24,
     "metadata": {},
     "output_type": "execute_result"
    },
    {
     "data": {
      "image/png": "[encoded data removed]",
      "text/plain": [
       "<Figure size 640x480 with 1 Axes>"
      ]
     },
     "metadata": {},
     "output_type": "display_data"
    }
   ],
   "source": [
    "gdf.plot(alpha=0.5, linewidth=2, edgecolor='black', markersize=5)"
   ]
  },
  {
   "cell_type": "code",
   "execution_count": null,
   "metadata": {},
   "outputs": [],
   "source": []
  },
  {
   "cell_type": "code",
   "execution_count": null,
   "metadata": {},
   "outputs": [],
   "source": []
  },
  {
   "cell_type": "markdown",
   "metadata": {},
   "source": [
    "## Eigenschaften"
   ]
  },
  {
   "cell_type": "markdown",
   "metadata": {},
   "source": [
    "- Geometrie-Typ"
   ]
  },
  {
   "cell_type": "code",
   "execution_count": 25,
   "metadata": {},
   "outputs": [
    {
     "data": {
      "text/plain": [
       "'Polygon'"
      ]
     },
     "execution_count": 25,
     "metadata": {},
     "output_type": "execute_result"
    }
   ],
   "source": [
    "polygon1.geom_type"
   ]
  },
  {
   "cell_type": "markdown",
   "metadata": {},
   "source": [
    "- Fläche"
   ]
  },
  {
   "cell_type": "code",
   "execution_count": 26,
   "metadata": {},
   "outputs": [
    {
     "data": {
      "text/plain": [
       "100.0"
      ]
     },
     "execution_count": 26,
     "metadata": {},
     "output_type": "execute_result"
    }
   ],
   "source": [
    "polygon1.area"
   ]
  },
  {
   "cell_type": "markdown",
   "metadata": {},
   "source": [
    "- Mittelpunkt"
   ]
  },
  {
   "cell_type": "code",
   "execution_count": 27,
   "metadata": {},
   "outputs": [
    {
     "data": {
      "image/svg+xml": [
       "<svg xmlns=\"http://www.w3.org/2000/svg\" xmlns:xlink=\"http://www.w3.org/1999/xlink\" width=\"100.0\" height=\"100.0\" viewBox=\"4.0 4.0 2.0 2.0\" preserveAspectRatio=\"xMinYMin meet\"><g transform=\"matrix(1,0,0,-1,0,10.0)\"><circle cx=\"5.0\" cy=\"5.0\" r=\"0.06\" stroke=\"#555555\" stroke-width=\"0.02\" fill=\"#66cc99\" opacity=\"0.6\" /></g></svg>"
      ],
      "text/plain": [
       "<shapely.geometry.point.Point at 0x168953d30>"
      ]
     },
     "execution_count": 27,
     "metadata": {},
     "output_type": "execute_result"
    }
   ],
   "source": [
    "polygon1.centroid"
   ]
  },
  {
   "cell_type": "markdown",
   "metadata": {},
   "source": [
    "- Rohdaten"
   ]
  },
  {
   "cell_type": "code",
   "execution_count": 28,
   "metadata": {},
   "outputs": [
    {
     "data": {
      "text/plain": [
       "'POLYGON ((0 0, 10 0, 10 10, 0 10, 0 0))'"
      ]
     },
     "execution_count": 28,
     "metadata": {},
     "output_type": "execute_result"
    }
   ],
   "source": [
    "polygon1.wkt"
   ]
  },
  {
   "cell_type": "code",
   "execution_count": null,
   "metadata": {},
   "outputs": [],
   "source": []
  },
  {
   "cell_type": "markdown",
   "metadata": {},
   "source": [
    "## Shapes modifizieren"
   ]
  },
  {
   "cell_type": "markdown",
   "metadata": {},
   "source": [
    "### Buffer\n",
    "\n",
    "Praktisch: Erstellt eine \"Pufferzone\" mit dem Radius x rund um ein Shape"
   ]
  },
  {
   "cell_type": "code",
   "execution_count": 29,
   "metadata": {},
   "outputs": [
    {
     "data": {
      "image/svg+xml": [
       "<svg xmlns=\"http://www.w3.org/2000/svg\" xmlns:xlink=\"http://www.w3.org/1999/xlink\" width=\"100.0\" height=\"100.0\" viewBox=\"1.76 1.76 6.48 6.48\" preserveAspectRatio=\"xMinYMin meet\"><g transform=\"matrix(1,0,0,-1,0,10.0)\"><path fill-rule=\"evenodd\" fill=\"#66cc99\" stroke=\"#555555\" stroke-width=\"0.12960000000000002\" opacity=\"0.6\" d=\"M 8.0,5.0 L 7.985554180016591,4.705948579011318 L 7.942355841209691,4.414729033951615 L 7.870821007196627,4.129145968236613 L 7.77163859753386,3.8519497029047307 L 7.645763793045065,3.585809789522007 L 7.494408836907636,3.3332893009411935 L 7.319031360088211,3.0968201475090638 L 7.121320343559643,2.8786796564403576 L 6.903179852490936,2.6809686399117894 L 6.666710699058807,2.5055911630923644 L 6.414190210477994,2.354236206954935 L 6.14805029709527,2.22836140246614 L 5.870854031763387,2.1291789928033733 L 5.585270966048385,2.0576441587903087 L 5.294051420988683,2.0144458199834094 L 5.0,2.0 L 4.705948579011318,2.0144458199834094 L 4.414729033951615,2.0576441587903087 L 4.129145968236614,2.1291789928033733 L 3.8519497029047307,2.22836140246614 L 3.585809789522007,2.3542362069549347 L 3.3332893009411944,2.5055911630923635 L 3.096820147509064,2.6809686399117885 L 2.8786796564403576,2.878679656440357 L 2.680968639911789,3.0968201475090638 L 2.505591163092364,3.3332893009411935 L 2.354236206954935,3.5858097895220067 L 2.22836140246614,3.8519497029047303 L 2.1291789928033733,4.129145968236613 L 2.0576441587903087,4.414729033951614 L 2.0144458199834094,4.705948579011317 L 2.0,5.0 L 2.0144458199834094,5.294051420988682 L 2.0576441587903087,5.585270966048385 L 2.1291789928033733,5.870854031763386 L 2.22836140246614,6.148050297095269 L 2.3542362069549347,6.414190210477993 L 2.5055911630923635,6.666710699058806 L 2.6809686399117885,6.903179852490936 L 2.878679656440357,7.121320343559642 L 3.096820147509062,7.31903136008821 L 3.3332893009411935,7.494408836907636 L 3.5858097895220062,7.645763793045065 L 3.851949702904729,7.77163859753386 L 4.129145968236613,7.870821007196627 L 4.414729033951614,7.942355841209691 L 4.705948579011318,7.985554180016591 L 4.999999999999999,8.0 L 5.29405142098868,7.985554180016591 L 5.585270966048385,7.942355841209691 L 5.870854031763386,7.870821007196627 L 6.14805029709527,7.77163859753386 L 6.414190210477993,7.645763793045065 L 6.666710699058806,7.4944088369076365 L 6.903179852490936,7.319031360088211 L 7.121320343559642,7.121320343559643 L 7.31903136008821,6.903179852490938 L 7.494408836907636,6.6667106990588065 L 7.645763793045065,6.414190210477994 L 7.77163859753386,6.148050297095271 L 7.870821007196627,5.870854031763387 L 7.942355841209691,5.585270966048386 L 7.985554180016591,5.294051420988682 L 8.0,5.0 z\" /></g></svg>"
      ],
      "text/plain": [
       "<shapely.geometry.polygon.Polygon at 0x16725d7b0>"
      ]
     },
     "execution_count": 29,
     "metadata": {},
     "output_type": "execute_result"
    }
   ],
   "source": [
    "punkt1.buffer(3)"
   ]
  },
  {
   "cell_type": "markdown",
   "metadata": {},
   "source": [
    "Können wir auch plotten:"
   ]
  },
  {
   "cell_type": "code",
   "execution_count": 30,
   "metadata": {},
   "outputs": [
    {
     "data": {
      "text/plain": [
       "<AxesSubplot:>"
      ]
     },
     "execution_count": 30,
     "metadata": {},
     "output_type": "execute_result"
    },
    {
     "data": {
      "image/png": "[encoded data removed]",
      "text/plain": [
       "<Figure size 640x480 with 1 Axes>"
      ]
     },
     "metadata": {},
     "output_type": "display_data"
    }
   ],
   "source": [
    "gdf.buffer(0.5).plot(alpha=0.5, linewidth=2, edgecolor='black', markersize=5)"
   ]
  },
  {
   "cell_type": "markdown",
   "metadata": {},
   "source": [
    "### Union\n",
    "\n",
    "Auch praktisch: Vereinigt zwei (oder mehr) Shapes zu einer einzigen Shape."
   ]
  },
  {
   "cell_type": "code",
   "execution_count": 31,
   "metadata": {},
   "outputs": [
    {
     "data": {
      "image/svg+xml": [
       "<svg xmlns=\"http://www.w3.org/2000/svg\" xmlns:xlink=\"http://www.w3.org/1999/xlink\" width=\"100.0\" height=\"100.0\" viewBox=\"-0.52 -0.52 11.04 14.04\" preserveAspectRatio=\"xMinYMin meet\"><g transform=\"matrix(1,0,0,-1,0,13.0)\"><g><path fill-rule=\"evenodd\" fill=\"#66cc99\" stroke=\"#555555\" stroke-width=\"0.2808\" opacity=\"0.6\" d=\"M 10.0,0.0 L 0.0,0.0 L 0.0,10.0 L 10.0,10.0 L 10.0,0.0 z\" /><polyline fill=\"none\" stroke=\"#66cc99\" stroke-width=\"0.2808\" points=\"0.0,10.0 5.0,13.0 10.0,10.0\" opacity=\"0.8\" /></g></g></svg>"
      ],
      "text/plain": [
       "<shapely.geometry.collection.GeometryCollection at 0x11116c0d0>"
      ]
     },
     "execution_count": 31,
     "metadata": {},
     "output_type": "execute_result"
    }
   ],
   "source": [
    "polygon1.union(linie2)"
   ]
  },
  {
   "cell_type": "markdown",
   "metadata": {},
   "source": [
    "Um alle shapes in einem Geodataframe zusammenzufügen: `.unary_union`"
   ]
  },
  {
   "cell_type": "code",
   "execution_count": 32,
   "metadata": {},
   "outputs": [
    {
     "data": {
      "image/svg+xml": [
       "<svg xmlns=\"http://www.w3.org/2000/svg\" xmlns:xlink=\"http://www.w3.org/1999/xlink\" width=\"100.0\" height=\"100.0\" viewBox=\"-0.52 -0.52 11.04 14.04\" preserveAspectRatio=\"xMinYMin meet\"><g transform=\"matrix(1,0,0,-1,0,13.0)\"><g><path fill-rule=\"evenodd\" fill=\"#66cc99\" stroke=\"#555555\" stroke-width=\"0.2808\" opacity=\"0.6\" d=\"M 0.0,0.0 L 0.0,10.0 L 10.0,10.0 L 10.0,0.0 L 7.0,0.0 L 5.0,0.0 L 0.0,0.0 z\" /><polyline fill=\"none\" stroke=\"#66cc99\" stroke-width=\"0.2808\" points=\"0.0,10.0 5.0,13.0 10.0,10.0\" opacity=\"0.8\" /></g></g></svg>"
      ],
      "text/plain": [
       "<shapely.geometry.collection.GeometryCollection at 0x110bddf60>"
      ]
     },
     "execution_count": 32,
     "metadata": {},
     "output_type": "execute_result"
    }
   ],
   "source": [
    "gdf.unary_union"
   ]
  },
  {
   "cell_type": "markdown",
   "metadata": {},
   "source": [
    "Auch hier können wir wieder eine Pufferzone darumlegen..."
   ]
  },
  {
   "cell_type": "code",
   "execution_count": 33,
   "metadata": {},
   "outputs": [
    {
     "data": {
      "image/svg+xml": [
       "<svg xmlns=\"http://www.w3.org/2000/svg\" xmlns:xlink=\"http://www.w3.org/1999/xlink\" width=\"100.0\" height=\"100.0\" viewBox=\"-1.0599758682233205 -1.0599758682233205 12.119951736446641 15.119348442029654\" preserveAspectRatio=\"xMinYMin meet\"><g transform=\"matrix(1,0,0,-1,0,12.999396705583013)\"><path fill-rule=\"evenodd\" fill=\"#66cc99\" stroke=\"#555555\" stroke-width=\"0.3023869688405931\" opacity=\"0.6\" d=\"M -0.4994033462207002,10.012145166687864 L -0.49940891861242576,10.024304979127074 L -0.49820025328842427,10.036634685920657 L -0.4975923633360984,10.04900857016478 L -0.4958081481002581,10.061036772258214 L -0.4946218236171589,10.07313857806682 L -0.49221045574604516,10.085290444033467 L -0.4903926402016152,10.097545161008064 L -0.48743804647730626,10.109340560345627 L -0.48507125007266594,10.121267812518166 L -0.48148040244522733,10.133124808545729 L -0.4784701678661044,10.145142338627231 L -0.4743736500060374,10.156591339065281 L -0.4708491752230549,10.168229171643235 L -0.46611342966490116,10.179677108378275 L -0.46193976625564337,10.191341716182546 L -0.45674077596619334,10.202334057588208 L -0.4520925654237046,10.213570391881959 L -0.44625752975338184,10.224499019435642 L -0.44096063217417747,10.235698368412999 L -0.43470923857389165,10.246128188529505 L -0.4289820570803886,10.256854812497407 L -0.4221039258811564,10.267158882212197 L -0.4157348061512727,10.2777851165098 L -0.40849121357787893,10.287551970467915 L -0.40174021702194196,10.297665580857382 L -0.3938852304572225,10.307245858909141 L -0.3865052266813685,10.317196642081823 L -0.3783391948911019,10.326206469738816 L -0.3706293990600321,10.335609666953143 L -0.36187320494440023,10.344373890027137 L -0.35355339059327373,10.353553390593273 L -0.34454356293628885,10.361719422383532 L -0.33594921737853545,10.370321648493238 L -0.32637614264796017,10.37818541233024 L -0.31719664208182263,10.386505226681368 L -0.30742978812371985,10.393748819254755 L -0.2980336610851601,10.40146723011994 L -0.2877358996824655,10.408354802375431 L -0.277785116509801,10.415734806151272 L -0.2673552963933041,10.421986199751553 L -0.25724787771376323,10.428746462856273 L 4.7427521222862365,13.428746462856273 L 4.786052996357321,13.451914460525794 L 4.831417793049024,13.470722890350086 L 4.878408883282753,13.484990309527369 L 4.926572949309489,13.49457908187356 L 4.975445357814993,13.499396705583013 L 5.024554642185007,13.499396705583013 L 5.073427050690511,13.49457908187356 L 5.121591116717247,13.484990309527369 L 5.168582206950976,13.470722890350086 L 5.213947003642679,13.451914460525794 L 5.2572478777137635,13.428746462856273 L 10.257247877713763,10.428746462856273 L 10.267355296393301,10.421986199751554 L 10.2777851165098,10.415734806151272 L 10.287735899682465,10.408354802375431 L 10.29803366108516,10.40146723011994 L 10.307429788123718,10.393748819254757 L 10.317196642081823,10.386505226681368 L 10.32637614264796,10.37818541233024 L 10.335949217378536,10.370321648493238 L 10.344543562936297,10.361719422383525 L 10.353553390593273,10.353553390593273 L 10.361873204944393,10.344373890027146 L 10.370629399060032,10.335609666953143 L 10.378339194891105,10.326206469738814 L 10.386505226681368,10.317196642081823 L 10.39388523045722,10.307245858909143 L 10.401740217021942,10.297665580857382 L 10.408491213577879,10.287551970467915 L 10.415734806151272,10.2777851165098 L 10.422103925881162,10.267158882212188 L 10.428982057080388,10.256854812497407 L 10.434709238573882,10.246128188529521 L 10.440960632174178,10.235698368412999 L 10.446257529753387,10.224499019435632 L 10.452092565423705,10.213570391881959 L 10.456740775966194,10.202334057588205 L 10.461939766255643,10.191341716182546 L 10.4661134296649,10.17967710837828 L 10.470849175223055,10.168229171643235 L 10.474373650006036,10.156591339065283 L 10.478470167866105,10.145142338627231 L 10.481480402445229,10.133124808545723 L 10.485071250072666,10.121267812518166 L 10.487438046477305,10.10934056034564 L 10.490392640201616,10.097545161008064 L 10.492210455746047,10.085290444033456 L 10.494621823617159,10.07313857806682 L 10.495808148100258,10.061036772258213 L 10.497592363336098,10.04900857016478 L 10.498200253288424,10.036634685920664 L 10.499408918612426,10.024304979127074 L 10.499403346220701,10.012145166687855 L 10.5,10.0 L 10.5,0.0 L 10.497592363336098,-0.0490085701647803 L 10.490392640201616,-0.09754516100806412 L 10.478470167866105,-0.14514233862723117 L 10.461939766255643,-0.1913417161825449 L 10.440960632174178,-0.23569836841299882 L 10.415734806151272,-0.2777851165098011 L 10.386505226681368,-0.31719664208182274 L 10.353553390593273,-0.35355339059327373 L 10.317196642081823,-0.38650522668136844 L 10.2777851165098,-0.41573480615127256 L 10.235698368412999,-0.44096063217417747 L 10.191341716182546,-0.46193976625564337 L 10.145142338627231,-0.47847016786610447 L 10.097545161008064,-0.4903926402016152 L 10.04900857016478,-0.4975923633360984 L 10.0,-0.5 L 0.0,-0.5 L -0.049008570164780225,-0.49759236333609846 L -0.09754516100806433,-0.49039264020161516 L -0.1451423386272312,-0.4784701678661044 L -0.19134171618254517,-0.46193976625564326 L -0.23569836841299893,-0.44096063217417747 L -0.2777851165098011,-0.4157348061512726 L -0.31719664208182297,-0.38650522668136833 L -0.35355339059327384,-0.35355339059327373 L -0.38650522668136855,-0.31719664208182263 L -0.41573480615127273,-0.277785116509801 L -0.4409606321741775,-0.23569836841299882 L -0.46193976625564337,-0.19134171618254484 L -0.47847016786610447,-0.14514233862723108 L -0.4903926402016152,-0.09754516100806418 L -0.49759236333609846,-0.049008570164780295 L -0.5,0.0 L -0.5,10.0 L -0.4994033462207002,10.012145166687864 z M 1.8051586491408844,10.5 L 8.194841350859116,10.5 L 5.0,12.416904810515469 L 1.8051586491408844,10.5 z\" /></g></svg>"
      ],
      "text/plain": [
       "<shapely.geometry.polygon.Polygon at 0x11116d690>"
      ]
     },
     "execution_count": 33,
     "metadata": {},
     "output_type": "execute_result"
    }
   ],
   "source": [
    "gdf.unary_union.buffer(0.5)"
   ]
  },
  {
   "cell_type": "markdown",
   "metadata": {},
   "source": [
    "### Difference\n",
    "\n",
    "Die \"Differenz\" zwischen zwei Shapes"
   ]
  },
  {
   "cell_type": "code",
   "execution_count": 34,
   "metadata": {},
   "outputs": [
    {
     "data": {
      "image/svg+xml": [
       "<svg xmlns=\"http://www.w3.org/2000/svg\" xmlns:xlink=\"http://www.w3.org/1999/xlink\" width=\"100.0\" height=\"100.0\" viewBox=\"-0.4 -0.4 10.8 10.8\" preserveAspectRatio=\"xMinYMin meet\"><g transform=\"matrix(1,0,0,-1,0,10.0)\"><path fill-rule=\"evenodd\" fill=\"#66cc99\" stroke=\"#555555\" stroke-width=\"0.21600000000000003\" opacity=\"0.6\" d=\"M 0.0,0.0 L 0.0,10.0 L 10.0,10.0 L 10.0,0.0 L 7.0,0.0 L 7.0,3.0 L 5.0,3.0 L 5.0,0.0 L 0.0,0.0 z\" /></g></svg>"
      ],
      "text/plain": [
       "<shapely.geometry.polygon.Polygon at 0x1689c4af0>"
      ]
     },
     "execution_count": 34,
     "metadata": {},
     "output_type": "execute_result"
    }
   ],
   "source": [
    "polygon1.difference(polygon2)"
   ]
  },
  {
   "cell_type": "markdown",
   "metadata": {},
   "source": [
    "### Envelope\n",
    "\n",
    "Ähnlich wie Buffer - ein Rechteck, das ein Objekt umhüllt"
   ]
  },
  {
   "cell_type": "code",
   "execution_count": 35,
   "metadata": {},
   "outputs": [
    {
     "data": {
      "image/svg+xml": [
       "<svg xmlns=\"http://www.w3.org/2000/svg\" xmlns:xlink=\"http://www.w3.org/1999/xlink\" width=\"100.0\" height=\"100.0\" viewBox=\"-0.4 9.6 10.8 3.8000000000000007\" preserveAspectRatio=\"xMinYMin meet\"><g transform=\"matrix(1,0,0,-1,0,23.0)\"><path fill-rule=\"evenodd\" fill=\"#66cc99\" stroke=\"#555555\" stroke-width=\"0.21600000000000003\" opacity=\"0.6\" d=\"M 0.0,10.0 L 10.0,10.0 L 10.0,13.0 L 0.0,13.0 L 0.0,10.0 z\" /></g></svg>"
      ],
      "text/plain": [
       "<shapely.geometry.polygon.Polygon at 0x16899f6a0>"
      ]
     },
     "execution_count": 35,
     "metadata": {},
     "output_type": "execute_result"
    }
   ],
   "source": [
    "linie2.envelope"
   ]
  },
  {
   "cell_type": "code",
   "execution_count": 36,
   "metadata": {},
   "outputs": [
    {
     "data": {
      "image/svg+xml": [
       "<svg xmlns=\"http://www.w3.org/2000/svg\" xmlns:xlink=\"http://www.w3.org/1999/xlink\" width=\"100.0\" height=\"100.0\" viewBox=\"-0.52 -0.52 11.04 14.04\" preserveAspectRatio=\"xMinYMin meet\"><g transform=\"matrix(1,0,0,-1,0,13.0)\"><g><path fill-rule=\"evenodd\" fill=\"#66cc99\" stroke=\"#555555\" stroke-width=\"0.2808\" opacity=\"0.6\" d=\"M 0.0,10.0 L 10.0,10.0 L 10.0,13.0 L 0.0,13.0 L 0.0,10.0 z\" /><path fill-rule=\"evenodd\" fill=\"#66cc99\" stroke=\"#555555\" stroke-width=\"0.2808\" opacity=\"0.6\" d=\"M 5.0,0.0 L 5.0,3.0 L 7.0,3.0 L 7.0,0.0 L 5.0,0.0 z\" /></g></g></svg>"
      ],
      "text/plain": [
       "<shapely.geometry.multipolygon.MultiPolygon at 0x1689c77c0>"
      ]
     },
     "execution_count": 36,
     "metadata": {},
     "output_type": "execute_result"
    }
   ],
   "source": [
    "linie2.envelope.union(polygon2)"
   ]
  },
  {
   "cell_type": "code",
   "execution_count": null,
   "metadata": {},
   "outputs": [],
   "source": []
  },
  {
   "cell_type": "code",
   "execution_count": null,
   "metadata": {},
   "outputs": [],
   "source": []
  },
  {
   "cell_type": "code",
   "execution_count": null,
   "metadata": {},
   "outputs": [],
   "source": []
  },
  {
   "cell_type": "code",
   "execution_count": null,
   "metadata": {},
   "outputs": [],
   "source": []
  },
  {
   "cell_type": "code",
   "execution_count": null,
   "metadata": {},
   "outputs": [],
   "source": []
  },
  {
   "cell_type": "code",
   "execution_count": null,
   "metadata": {},
   "outputs": [],
   "source": []
  },
  {
   "cell_type": "code",
   "execution_count": null,
   "metadata": {},
   "outputs": [],
   "source": []
  },
  {
   "cell_type": "code",
   "execution_count": null,
   "metadata": {},
   "outputs": [],
   "source": []
  }
 ],
 "metadata": {
  "kernelspec": {
   "display_name": "Python 3 (ipykernel)",
   "language": "python",
   "name": "python3"
  },
  "language_info": {
   "codemirror_mode": {
    "name": "ipython",
    "version": 3
   },
   "file_extension": ".py",
   "mimetype": "text/x-python",
   "name": "python",
   "nbconvert_exporter": "python",
   "pygments_lexer": "ipython3",
   "version": "3.10.6"
  }
 },
 "nbformat": 4,
 "nbformat_minor": 2
}
