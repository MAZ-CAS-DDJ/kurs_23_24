{
 "cells": [
  {
   "cell_type": "markdown",
   "metadata": {},
   "source": [
    "# Geodatenhandling 2\n",
    "\n",
    "**Inhalt:** Geopandas für Fortgeschrittene\n",
    "\n",
    "**Nötige Skills**\n",
    "- Basic pandas skills\n",
    "- Funktionen und pandas\n",
    "- Erste Schritte mit Geopandas\n",
    "- Geodatenhandling 1\n",
    "\n",
    "**Lernziele**\n",
    "- Punkte, Linien, Polygone revisited\n",
    "- Eigenschaften von geometrischen Shapes\n",
    "- Shapes modifizieren und kombinieren\n",
    "- Geodaten modifizieren und selektieren"
   ]
  },
  {
   "cell_type": "markdown",
   "metadata": {},
   "source": [
    "## Das Beispiel\n",
    "\n",
    "Geschäfte in Chicago.\n",
    "\n",
    "Wir checken: In welchen Stadtteilen gibt es keine Lebensmittelläden, wo sind die \"Food deserts\"\n",
    "\n",
    "- `Boundaries - Census Tracts - 2010.zip`, census tracts in Chicago from [here](https://data.cityofchicago.org/Facilities-Geographic-Boundaries/Boundaries-Census-Tracts-2010/5jrd-6zik)\n",
    "- `Grocery_Stores_-_2013.csv`, grocery stores in Chicago from [here](https://data.cityofchicago.org/Community-Economic-Development/Grocery-Stores-2013/53t8-wyrc)\n",
    "\n",
    "**Credits to:**\n",
    "- http://www.jonathansoma.com/lede/foundations-2017/"
   ]
  },
  {
   "cell_type": "markdown",
   "metadata": {},
   "source": [
    "## Setup"
   ]
  },
  {
   "cell_type": "code",
   "execution_count": null,
   "metadata": {},
   "outputs": [],
   "source": [
    "import pandas as pd\n",
    "import geopandas as gpd\n",
    "from shapely.geometry import Point, LineString, Polygon"
   ]
  },
  {
   "cell_type": "code",
   "execution_count": null,
   "metadata": {},
   "outputs": [],
   "source": [
    "import warnings\n",
    "from shapely.errors import ShapelyDeprecationWarning\n",
    "warnings.filterwarnings(\"ignore\", category=ShapelyDeprecationWarning) "
   ]
  },
  {
   "cell_type": "markdown",
   "metadata": {},
   "source": [
    "## Geometries\n",
    "\n",
    "Zum Aufwärmen, nochmals ein paar Shapes from scratch"
   ]
  },
  {
   "cell_type": "markdown",
   "metadata": {},
   "source": [
    "### Point\n",
    "\n",
    "Kreieren Sie einen Punkt an der Koordinate (5, 5):"
   ]
  },
  {
   "cell_type": "code",
   "execution_count": null,
   "metadata": {},
   "outputs": [],
   "source": []
  },
  {
   "cell_type": "code",
   "execution_count": null,
   "metadata": {},
   "outputs": [],
   "source": []
  },
  {
   "cell_type": "markdown",
   "metadata": {},
   "source": [
    "### Line\n",
    "\n",
    "Zeichnen Sie\n",
    "- eine Linie durch die Punkte (20, 0) und (0, 20)\n",
    "- eine Linie durch die Punkte (15, 0) und (0, 15)\n",
    "- eine Linie durch die Punkte (25, 0) und (0, 25)"
   ]
  },
  {
   "cell_type": "code",
   "execution_count": null,
   "metadata": {},
   "outputs": [],
   "source": []
  },
  {
   "cell_type": "code",
   "execution_count": null,
   "metadata": {},
   "outputs": [],
   "source": []
  },
  {
   "cell_type": "code",
   "execution_count": null,
   "metadata": {},
   "outputs": [],
   "source": []
  },
  {
   "cell_type": "code",
   "execution_count": null,
   "metadata": {},
   "outputs": [],
   "source": [
    "linie1"
   ]
  },
  {
   "cell_type": "markdown",
   "metadata": {},
   "source": [
    "### Polygon\n",
    "\n",
    "Zeichnen Sie ein Polygon mit den Eckpunkten (0, 0), (10, 0), (10, 10), (0, 10):"
   ]
  },
  {
   "cell_type": "code",
   "execution_count": null,
   "metadata": {},
   "outputs": [],
   "source": []
  },
  {
   "cell_type": "code",
   "execution_count": null,
   "metadata": {},
   "outputs": [],
   "source": [
    "polygon1"
   ]
  },
  {
   "cell_type": "markdown",
   "metadata": {},
   "source": [
    "### Plotten\n",
    "\n",
    "Erstellen Sie ein Dataframe mit einer Spalte \"geometry\", das die Punkte, Linien und das Polygon enthält"
   ]
  },
  {
   "cell_type": "code",
   "execution_count": null,
   "metadata": {},
   "outputs": [],
   "source": []
  },
  {
   "cell_type": "markdown",
   "metadata": {},
   "source": [
    "Wandeln Sie das dataframe in ein Geodataframe um (Geometriespalte definieren!)"
   ]
  },
  {
   "cell_type": "code",
   "execution_count": null,
   "metadata": {},
   "outputs": [],
   "source": []
  },
  {
   "cell_type": "code",
   "execution_count": null,
   "metadata": {},
   "outputs": [],
   "source": [
    "gdf"
   ]
  },
  {
   "cell_type": "markdown",
   "metadata": {},
   "source": [
    "Wenn das Geodataframe richtig erstellt wurde, können wir es plotten:"
   ]
  },
  {
   "cell_type": "code",
   "execution_count": null,
   "metadata": {},
   "outputs": [],
   "source": [
    "gdf.plot(alpha=0.5, linewidth=2, edgecolor='black', markersize=5)"
   ]
  },
  {
   "cell_type": "markdown",
   "metadata": {},
   "source": [
    "## Shapes vergleichen\n",
    "\n",
    "Wir können geometrische Shapes auf verschiedene Weise miteinander \"vergleichen\"."
   ]
  },
  {
   "cell_type": "markdown",
   "metadata": {},
   "source": [
    "* **contains:** has the other object TOTALLY INSIDE  (boundaries can't touch!!!) \"a neighborhood CONTAINS restaurants\"\n",
    "* **intersects:** is OVERLAPPING at ALL, unless it's just boundaries touching\n",
    "* **touches:** only the boundaries touch, like a tangent\n",
    "* **within:** is TOTALLY INSIDE of the other object \"a restaurant is WITHIN a neighborhood\"\n",
    "* **disjoint:** no touching!!! no intersecting!!!!\n",
    "* **crosses:** goes through but isn't inside - \"a river crossing through a city\"\n",
    "\n",
    "Referenz und weitere Vergleiche: http://geopandas.org/reference.html)"
   ]
  },
  {
   "cell_type": "markdown",
   "metadata": {},
   "source": [
    "Das funktioniert ganz einfach:"
   ]
  },
  {
   "cell_type": "code",
   "execution_count": null,
   "metadata": {},
   "outputs": [],
   "source": [
    "polygon1.contains(punkt1)"
   ]
  },
  {
   "cell_type": "code",
   "execution_count": null,
   "metadata": {},
   "outputs": [],
   "source": [
    "punkt1.contains(polygon1)"
   ]
  },
  {
   "cell_type": "markdown",
   "metadata": {},
   "source": [
    "**Quizfragen:**"
   ]
  },
  {
   "cell_type": "code",
   "execution_count": null,
   "metadata": {},
   "outputs": [],
   "source": [
    "#Liegt der Punkt 1 innerhalb von Polygon 1?\n"
   ]
  },
  {
   "cell_type": "code",
   "execution_count": null,
   "metadata": {},
   "outputs": [],
   "source": [
    "#Berührt die Linie 1 das Polygon 1?\n"
   ]
  },
  {
   "cell_type": "code",
   "execution_count": null,
   "metadata": {},
   "outputs": [],
   "source": [
    "#Überschneidet sich die Linie 3 mit dem Polygon 1?\n"
   ]
  },
  {
   "cell_type": "code",
   "execution_count": null,
   "metadata": {},
   "outputs": [],
   "source": [
    "#Überschneidet sich die Linie 2 mit dem Polygon 1?\n"
   ]
  },
  {
   "cell_type": "code",
   "execution_count": null,
   "metadata": {},
   "outputs": [],
   "source": [
    "#Ist das Polygon 1 völlig losgelöst von der Linie 3?\n"
   ]
  },
  {
   "cell_type": "markdown",
   "metadata": {},
   "source": [
    "## Import\n",
    "\n",
    "Und nun zu unserem eigentlichen Beispiel:"
   ]
  },
  {
   "cell_type": "markdown",
   "metadata": {},
   "source": [
    "**Ein Stadtplan von Chicago mit den Quartieren (census tracts)**\n",
    "\n",
    "Ist bereits als Shapefile vorhanden! Wir können direkt mit Geopandas einlesen."
   ]
  },
  {
   "cell_type": "code",
   "execution_count": null,
   "metadata": {},
   "outputs": [],
   "source": [
    "tracts = gpd.read_file(\"dataprojects/Food Deserts/Boundaries - Census Tracts - 2010/geo_export_085dcd7b-113c-4a6d-8d43-5926de1dcc5b.shp\")"
   ]
  },
  {
   "cell_type": "code",
   "execution_count": null,
   "metadata": {},
   "outputs": [],
   "source": [
    "tracts.head(2)"
   ]
  },
  {
   "cell_type": "code",
   "execution_count": null,
   "metadata": {},
   "outputs": [],
   "source": [
    "tracts.plot()"
   ]
  },
  {
   "cell_type": "markdown",
   "metadata": {},
   "source": [
    "**Eine Liste aller Lebensmittelläden**\n",
    "\n",
    "Ist erst als csv-Liste da. Wir müssen mit Pandas einlesen:"
   ]
  },
  {
   "cell_type": "code",
   "execution_count": null,
   "metadata": {},
   "outputs": [],
   "source": [
    "df = pd.read_csv(\"dataprojects/Food Deserts/Grocery_Stores_-_2013.csv\")"
   ]
  },
  {
   "cell_type": "code",
   "execution_count": null,
   "metadata": {},
   "outputs": [],
   "source": [
    "df.head(2)"
   ]
  },
  {
   "cell_type": "markdown",
   "metadata": {},
   "source": [
    "Um von Pandas zu Geopandas zu gelangen:\n",
    "- Geometrie erstellen\n",
    "- Geodataframe erstellen\n",
    "- Koordinatensystem intialisieren"
   ]
  },
  {
   "cell_type": "code",
   "execution_count": null,
   "metadata": {},
   "outputs": [],
   "source": [
    "points = df.apply(lambda row: Point(row['LONGITUDE'], row['LATITUDE']), axis=1)"
   ]
  },
  {
   "cell_type": "code",
   "execution_count": null,
   "metadata": {},
   "outputs": [],
   "source": [
    "grocery_stores = gpd.GeoDataFrame(df, geometry=points)"
   ]
  },
  {
   "cell_type": "code",
   "execution_count": null,
   "metadata": {},
   "outputs": [],
   "source": [
    "grocery_stores = grocery_stores.set_crs('epsg:4326')"
   ]
  },
  {
   "cell_type": "code",
   "execution_count": null,
   "metadata": {},
   "outputs": [],
   "source": [
    "grocery_stores.plot()"
   ]
  },
  {
   "cell_type": "markdown",
   "metadata": {},
   "source": [
    "**Wir plotten mal alles zusammen**"
   ]
  },
  {
   "cell_type": "code",
   "execution_count": null,
   "metadata": {},
   "outputs": [],
   "source": [
    "ax = tracts.plot(figsize=(15,15), color='lightgrey', linewidth=0.25, edgecolor='white')\n",
    "grocery_stores.plot(ax=ax, color='red', markersize=8, alpha = 0.8)"
   ]
  },
  {
   "cell_type": "markdown",
   "metadata": {},
   "source": [
    "## Analyse\n",
    "\n",
    "Uns interessiert: Wo sind die Gebiete, in denen es in einem bestimmten Umkreis von Metern keine Lebensmittelläden gibt?\n",
    "\n",
    "Um das zu beantworten, müssen wir zuerst in ein brauchbares Koordinatensystem wechseln, das auf Metern basiert."
   ]
  },
  {
   "cell_type": "markdown",
   "metadata": {},
   "source": [
    "### Projektion ändern\n",
    "\n",
    "Wir entscheiden uns für eine Variante der Mercator-Projektion.\n",
    "Das ist praktisch, weil:\n",
    "- \"Die wichtigste Eigenschaft der Mercator-Projektion ist ihre Winkeltreue. Diese bedeutet auch, dass in kleinen Bereichen der Längenmaßstab in allen Richtungen gleich ist.\" https://de.wikipedia.org/wiki/Mercator-Projektion\n",
    "- Die Koordinaten sind nicht in Längen-/Breitengrad, sondern in Metern angegeben (die CH-Koordinaten sind auch eine Variante der Mercator-Projektion)"
   ]
  },
  {
   "cell_type": "code",
   "execution_count": null,
   "metadata": {},
   "outputs": [],
   "source": [
    "grocery_stores = grocery_stores.to_crs({'proj': 'merc'})\n",
    "tracts = tracts.to_crs({'proj': 'merc'})"
   ]
  },
  {
   "cell_type": "markdown",
   "metadata": {},
   "source": [
    "Andere Projektionen wären:\n",
    "- 'tmerc': transverse mercator\n",
    "- 'aea': albers equal area"
   ]
  },
  {
   "cell_type": "markdown",
   "metadata": {},
   "source": [
    "**Wir haben nun ein neues Koordinatensystem**"
   ]
  },
  {
   "cell_type": "code",
   "execution_count": null,
   "metadata": {},
   "outputs": [],
   "source": [
    "ax = tracts.plot(figsize=(15,15), color='lightgrey', linewidth=0.25, edgecolor='white')\n",
    "grocery_stores.plot(ax=ax, color='red', markersize=8, alpha = 0.8)"
   ]
  },
  {
   "cell_type": "markdown",
   "metadata": {},
   "source": [
    "### Buffer erstellen\n",
    "\n",
    "Wie sieht die Karte aus, wenn wir um jedes Lebensmittelgeschäft einen Kreis von 500 Metern ziehen?"
   ]
  },
  {
   "cell_type": "code",
   "execution_count": null,
   "metadata": {},
   "outputs": [],
   "source": [
    "ax = tracts.plot(figsize=(15,15), color='lightgrey', linewidth=0.25, edgecolor='white')\n",
    "grocery_stores.buffer(500).plot(ax=ax, color='red', markersize=8, alpha=0.4)"
   ]
  },
  {
   "cell_type": "markdown",
   "metadata": {},
   "source": [
    "### Union\n",
    "\n",
    "Nächster Schritt: Wir fügen alle Punkte zu einer Fläche zusammen"
   ]
  },
  {
   "cell_type": "code",
   "execution_count": null,
   "metadata": {},
   "outputs": [],
   "source": [
    "near_area = grocery_stores.buffer(500).unary_union"
   ]
  },
  {
   "cell_type": "markdown",
   "metadata": {},
   "source": [
    "Jetzt können wir testen, ob die einzelnen Quartiere diese Fläche berühren"
   ]
  },
  {
   "cell_type": "code",
   "execution_count": null,
   "metadata": {},
   "outputs": [],
   "source": [
    "tracts.disjoint(near_area)"
   ]
  },
  {
   "cell_type": "code",
   "execution_count": null,
   "metadata": {},
   "outputs": [],
   "source": [
    "tracts[tracts.disjoint(near_area)].plot()"
   ]
  },
  {
   "cell_type": "markdown",
   "metadata": {},
   "source": [
    "### Plot\n",
    "\n",
    "Wir plotten dieselbe Karte wie vorher - und zusätzlich noch jene Tracts, welche die Punktefläche nicht berühren"
   ]
  },
  {
   "cell_type": "code",
   "execution_count": null,
   "metadata": {},
   "outputs": [],
   "source": [
    "#Bisherige Karte\n",
    "ax = tracts.plot(figsize=(15,15), color='lightgrey', linewidth=0.25, edgecolor='white')\n",
    "grocery_stores.buffer(500).plot(ax=ax, color='red', markersize=8, alpha=0.4)\n",
    "\n",
    "#Neu: Desert-Tracts\n",
    "tracts[tracts.disjoint(near_area)].plot(ax=ax, color='darkblue', alpha=0.4)\n",
    "\n",
    "ax.set_title('City tracts that have no grocery store within 500m distance')"
   ]
  },
  {
   "cell_type": "code",
   "execution_count": null,
   "metadata": {},
   "outputs": [],
   "source": []
  },
  {
   "cell_type": "code",
   "execution_count": null,
   "metadata": {},
   "outputs": [],
   "source": []
  },
  {
   "cell_type": "code",
   "execution_count": null,
   "metadata": {},
   "outputs": [],
   "source": []
  },
  {
   "cell_type": "code",
   "execution_count": null,
   "metadata": {},
   "outputs": [],
   "source": []
  },
  {
   "cell_type": "code",
   "execution_count": null,
   "metadata": {},
   "outputs": [],
   "source": []
  },
  {
   "cell_type": "code",
   "execution_count": null,
   "metadata": {},
   "outputs": [],
   "source": []
  },
  {
   "cell_type": "code",
   "execution_count": null,
   "metadata": {},
   "outputs": [],
   "source": []
  }
 ],
 "metadata": {
  "kernelspec": {
   "display_name": "Python 3 (ipykernel)",
   "language": "python",
   "name": "python3"
  },
  "language_info": {
   "codemirror_mode": {
    "name": "ipython",
    "version": 3
   },
   "file_extension": ".py",
   "mimetype": "text/x-python",
   "name": "python",
   "nbconvert_exporter": "python",
   "pygments_lexer": "ipython3",
   "version": "3.10.6"
  }
 },
 "nbformat": 4,
 "nbformat_minor": 2
}
