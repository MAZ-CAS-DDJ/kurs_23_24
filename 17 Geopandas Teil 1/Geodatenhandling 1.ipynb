{
 "cells": [
  {
   "cell_type": "markdown",
   "metadata": {},
   "source": [
    "# Geodatenhandling 1\n",
    "\n",
    "**Inhalt:** Etwas mehr als nur erste Schritte mit Geopandas\n",
    "\n",
    "**Nötige Skills**\n",
    "- Basic pandas skills\n",
    "- Funktionen und pandas\n",
    "- Erste Schritte mit Geopandas\n",
    "\n",
    "**Lernziele**\n",
    "- Koordinatensysteme kennenlernen\n",
    "- Koordinaten transformieren\n",
    "- Spatial Joins\n",
    "- Choropleth maps"
   ]
  },
  {
   "cell_type": "markdown",
   "metadata": {},
   "source": [
    "## Das Beispiel\n",
    "\n",
    "Coop-Läden in der Schweiz.\n",
    "- Liste \"gescrapt\" von hier: https://www.coop.ch/de/services/standorte-und-oeffnungszeiten.html\n",
    "- Siehe File `Coop.ipynb`\n",
    "\n",
    "Wir wollen diese Läden auf einer Karte als Punkte darstellen und wollen ausserdem auswerten, in welchen Kantonen es wieviele Läden gibt!"
   ]
  },
  {
   "cell_type": "markdown",
   "metadata": {},
   "source": [
    "## Setup"
   ]
  },
  {
   "cell_type": "code",
   "execution_count": null,
   "metadata": {},
   "outputs": [],
   "source": [
    "import pandas as pd\n",
    "import geopandas as gpd\n",
    "from shapely.geometry import Point, LineString"
   ]
  },
  {
   "cell_type": "code",
   "execution_count": null,
   "metadata": {},
   "outputs": [],
   "source": [
    "pd.set_option(\"display.max_columns\", 50)"
   ]
  },
  {
   "cell_type": "markdown",
   "metadata": {},
   "source": [
    "## Import"
   ]
  },
  {
   "cell_type": "markdown",
   "metadata": {},
   "source": [
    "**Wir verwenden wiederum ein Shapefile der Kantone**"
   ]
  },
  {
   "cell_type": "code",
   "execution_count": null,
   "metadata": {},
   "outputs": [],
   "source": [
    "gdf_kantone = gpd.read_file('dataprojects/Projections/shp/g1k17.shp', encoding='utf-8')"
   ]
  },
  {
   "cell_type": "code",
   "execution_count": null,
   "metadata": {},
   "outputs": [],
   "source": [
    "gdf_kantone.plot()"
   ]
  },
  {
   "cell_type": "markdown",
   "metadata": {},
   "source": [
    "**Liste der Coop-Läden**"
   ]
  },
  {
   "cell_type": "code",
   "execution_count": null,
   "metadata": {},
   "outputs": [],
   "source": [
    "df_stores = pd.read_csv('dataprojects/Coop/geschaefte.csv')"
   ]
  },
  {
   "cell_type": "code",
   "execution_count": null,
   "metadata": {},
   "outputs": [],
   "source": [
    "df_stores.head()"
   ]
  },
  {
   "cell_type": "code",
   "execution_count": null,
   "metadata": {},
   "outputs": [],
   "source": [
    "df_stores['typ'].value_counts()"
   ]
  },
  {
   "cell_type": "markdown",
   "metadata": {},
   "source": [
    "## Geometrie"
   ]
  },
  {
   "cell_type": "markdown",
   "metadata": {},
   "source": [
    "Wir müssen aus unserer Liste wiederum ein GeoDataFrame erstellen.\n",
    "\n",
    "Die Schritte dazu sind:\n",
    "- Identifizieren, welche Spalte die geografischen Infos enthält\n",
    "- Geometrie-Spalte im Dataframe erstellen\n",
    "- Aus Dataframe ein GeoDataFrame machen"
   ]
  },
  {
   "cell_type": "markdown",
   "metadata": {},
   "source": [
    "**Spalte identifizieren**"
   ]
  },
  {
   "cell_type": "code",
   "execution_count": null,
   "metadata": {},
   "outputs": [],
   "source": [
    "df_stores.columns"
   ]
  },
  {
   "cell_type": "markdown",
   "metadata": {},
   "source": [
    "Mehr Infos zum geodetic system: https://gps-coordinates.org/"
   ]
  },
  {
   "cell_type": "markdown",
   "metadata": {},
   "source": [
    "**Geometrie erstellen**"
   ]
  },
  {
   "cell_type": "code",
   "execution_count": null,
   "metadata": {},
   "outputs": [],
   "source": [
    "df_stores['Punkt'] = df_stores.apply(lambda row: Point(row['longitude'], row['latitude']), axis=1)"
   ]
  },
  {
   "cell_type": "code",
   "execution_count": null,
   "metadata": {},
   "outputs": [],
   "source": [
    "df_stores.head(2)"
   ]
  },
  {
   "cell_type": "markdown",
   "metadata": {},
   "source": [
    "**Geodataframe kreieren**"
   ]
  },
  {
   "cell_type": "code",
   "execution_count": null,
   "metadata": {},
   "outputs": [],
   "source": [
    "gdf_stores = gpd.GeoDataFrame(df_stores, geometry='Punkt')"
   ]
  },
  {
   "cell_type": "code",
   "execution_count": null,
   "metadata": {},
   "outputs": [],
   "source": [
    "gdf_stores.head(2)"
   ]
  },
  {
   "cell_type": "markdown",
   "metadata": {},
   "source": [
    "Hat es funktioniert?"
   ]
  },
  {
   "cell_type": "code",
   "execution_count": null,
   "metadata": {},
   "outputs": [],
   "source": [
    "gdf_stores.plot()"
   ]
  },
  {
   "cell_type": "markdown",
   "metadata": {},
   "source": [
    "## Koordinaten transformieren"
   ]
  },
  {
   "cell_type": "markdown",
   "metadata": {},
   "source": [
    "Machen wir nun dasselbe wie im vorherigen Notebook: Plotten wir die Coop-Standorte auf die Schweizer Karte!"
   ]
  },
  {
   "cell_type": "code",
   "execution_count": null,
   "metadata": {},
   "outputs": [],
   "source": [
    "ax = gdf_kantone.plot(figsize=(14,10), color='lightgrey', edgecolor='white')\n",
    "gdf_stores.plot(markersize=3, ax=ax)"
   ]
  },
  {
   "cell_type": "markdown",
   "metadata": {},
   "source": [
    "Das Problem ist: die beiden Geodataframes verwenden verschiedene Koordinatensysteme!\n",
    "\n",
    "Das Koordinatensystem in Geodataframes ist in der Property `crs` gespeichert."
   ]
  },
  {
   "cell_type": "markdown",
   "metadata": {},
   "source": [
    "**Kantone: Schweizer Koordinatensystem**\n",
    "siehe: https://de.wikipedia.org/wiki/Schweizer_Landeskoordinaten"
   ]
  },
  {
   "cell_type": "code",
   "execution_count": null,
   "metadata": {},
   "outputs": [],
   "source": [
    "gdf_kantone.crs"
   ]
  },
  {
   "cell_type": "markdown",
   "metadata": {},
   "source": [
    "**Geschäfte: Haben noch keines!**"
   ]
  },
  {
   "cell_type": "code",
   "execution_count": null,
   "metadata": {},
   "outputs": [],
   "source": [
    "gdf_stores.crs"
   ]
  },
  {
   "cell_type": "markdown",
   "metadata": {},
   "source": [
    "Allerdings wissen wir, dass die Koordinaten im world geodetic system kodiert sind. Um dies Geopandas mitzuteilen, müssen wir das Geodataframe mit einem bestimmten Code initiatilisieren:"
   ]
  },
  {
   "cell_type": "code",
   "execution_count": null,
   "metadata": {},
   "outputs": [],
   "source": [
    "gdf_stores = gdf_stores.set_crs('epsg:4326')"
   ]
  },
  {
   "cell_type": "code",
   "execution_count": null,
   "metadata": {},
   "outputs": [],
   "source": [
    "gdf_stores.crs"
   ]
  },
  {
   "cell_type": "markdown",
   "metadata": {},
   "source": [
    "**EPSG-Codes**\n",
    "\n",
    "EPSG steht für European Petroleum Survey Group:\n",
    "- https://epsg.io/\n",
    "\n",
    "Jedes Koordinatensystem hat eine Nummer\n",
    "- https://de.wikipedia.org/wiki/European_Petroleum_Survey_Group_Geodesy#EPSG-Codes\n",
    "\n",
    "Ein paar gängige Nummern"
   ]
  },
  {
   "cell_type": "markdown",
   "metadata": {},
   "source": [
    "| Code | Description |\n",
    "|------|---------------------------|\n",
    "| 4326 | #world geodetic system |\n",
    "| 3857 | #mercator |\n",
    "| 2163 | #nice aea projection for the USA |\n",
    "| 5071 | #another good one for the USA |\n",
    "| 3395 | #mercator (anotherone) |\n",
    "| 21781 | #swiss coordinate system |"
   ]
  },
  {
   "cell_type": "markdown",
   "metadata": {},
   "source": [
    "Wir wollen das Schweizer Koordinatensystem verwenden. Um die Koordinaten zu transformieren, verwenden wir `to_crs()`:"
   ]
  },
  {
   "cell_type": "code",
   "execution_count": null,
   "metadata": {},
   "outputs": [],
   "source": [
    "gdf_stores.to_crs(epsg=21781)"
   ]
  },
  {
   "cell_type": "markdown",
   "metadata": {},
   "source": [
    "Alternativ können wir statt die EPSG-Nummer auch einfach das crs des Kantons-GDF spezifizieren:"
   ]
  },
  {
   "cell_type": "code",
   "execution_count": null,
   "metadata": {},
   "outputs": [],
   "source": [
    "gdf_stores = gdf_stores.to_crs(gdf_kantone.crs)"
   ]
  },
  {
   "cell_type": "markdown",
   "metadata": {},
   "source": [
    "Jetzt sind beide Geodataframes im selben Koordinatensystem kodiert und wir können sie auf einer Karte plotten"
   ]
  },
  {
   "cell_type": "code",
   "execution_count": null,
   "metadata": {},
   "outputs": [],
   "source": [
    "ax = gdf_kantone.plot(figsize=(14,10), color='lightgrey', edgecolor='white')\n",
    "gdf_stores.plot(markersize=3, ax=ax)"
   ]
  },
  {
   "cell_type": "markdown",
   "metadata": {},
   "source": [
    "**Zusatz:** Wir plotten die verschiedenen Geschäftstypen je in eigenen Farben!"
   ]
  },
  {
   "cell_type": "code",
   "execution_count": null,
   "metadata": {},
   "outputs": [],
   "source": [
    "colors = {\n",
    "    'retail': 'blue',\n",
    "    'pronto': 'green',\n",
    "    'id': 'orange',\n",
    "    'restaurant': 'red',\n",
    "    'impo': 'darkblue',\n",
    "    'vitality': 'darkgreen',\n",
    "    'bh': 'black',\n",
    "    'christ': 'black',\n",
    "    'city': 'black',\n",
    "    'livique': 'black',\n",
    "    'togo': 'black',\n",
    "    'lumimart': 'black',\n",
    "    'takeit': 'black',\n",
    "    'marche': 'black',\n",
    "    'hotel': 'black',\n",
    "    'capuccini': 'black',\n",
    "    'burger': 'black',\n",
    "    'toptip': 'black',\n",
    "    'cindy': 'black',\n",
    "    'sapori': 'black',\n",
    "    'zopf': 'black',\n",
    "    'karma': 'black',\n",
    "    'halba': 'black',\n",
    "    'perpiedi': 'black'\n",
    "}"
   ]
  },
  {
   "cell_type": "code",
   "execution_count": null,
   "metadata": {},
   "outputs": [],
   "source": [
    "colorlist = gdf_stores['typ'].apply(lambda typ: colors[typ])"
   ]
  },
  {
   "cell_type": "code",
   "execution_count": null,
   "metadata": {},
   "outputs": [],
   "source": [
    "colorlist.value_counts(dropna=False)"
   ]
  },
  {
   "cell_type": "code",
   "execution_count": null,
   "metadata": {},
   "outputs": [],
   "source": [
    "ax = gdf_kantone.plot(figsize=(14,10), color='lightgrey', edgecolor='white')\n",
    "gdf_stores.plot(markersize=3, ax=ax, color=colorlist, alpha=0.6)"
   ]
  },
  {
   "cell_type": "code",
   "execution_count": null,
   "metadata": {},
   "outputs": [],
   "source": []
  },
  {
   "cell_type": "markdown",
   "metadata": {},
   "source": [
    "## Geo-Selektion\n",
    "\n",
    "Was könnten wir nun mit diesen beiden Datensets anfangen, die im selben System kodiert sind (ausser sie zu plotten)?\n",
    "\n",
    "Zum Beispiel:\n",
    "- Einzelne Geschäfte selektieren (je nach Kanton)\n",
    "- Gschäfte pro Kanton zählen"
   ]
  },
  {
   "cell_type": "markdown",
   "metadata": {},
   "source": [
    "### spatial joins"
   ]
  },
  {
   "cell_type": "markdown",
   "metadata": {},
   "source": [
    "Ähnlich wie `merge()` in Pandas bietet auch Geopandas eine Funktion an, um zwei Datensets zu kombinieren: `sjoin()`"
   ]
  },
  {
   "cell_type": "code",
   "execution_count": null,
   "metadata": {},
   "outputs": [],
   "source": [
    "gdf_merged = gpd.sjoin(gdf_stores, gdf_kantone, how='left', predicate='within')"
   ]
  },
  {
   "cell_type": "markdown",
   "metadata": {},
   "source": [
    "Wir wählen hier zu jeder Zeile aus dem ersten GDF (gdf_stores, also die Geschäfte) die passende Zeile aus dem anderen GDF (gdf_kantone, also den passenden Kanton) aus.\n",
    "\n",
    "`how=` gibt wie in pandas an, wie wir matchen wollen:\n",
    "- \"left\"\n",
    "- \"right\"\n",
    "- \"inner\"\n",
    "- \"outer\"\n",
    "\n",
    "`predicate=` (bzw. in einer früheren Version: `op=()`) gibt die geometrische matching-methode an:\n",
    "- \"contains\" (linke geometrie enthält rechte geometrie)\n",
    "- \"within\" (linke geometrie ist innnerhalb rechter geometrie)\n",
    "- \"intersects\" (linke geometrie überschneidet sich mit rechter geometrie)"
   ]
  },
  {
   "cell_type": "markdown",
   "metadata": {},
   "source": [
    "In unserem Fall haben wir also gesagt:\n",
    "- suche zu jedem store-punkt das passende kantons-polygon\n",
    "- wobei der punkt innerhalb des polygons liegen muss\n",
    "\n",
    "Nun haben wir ein zusammengeführtes, ziemlich breites geodataframe:"
   ]
  },
  {
   "cell_type": "code",
   "execution_count": null,
   "metadata": {},
   "outputs": [],
   "source": [
    "gdf_merged.head()"
   ]
  },
  {
   "cell_type": "code",
   "execution_count": null,
   "metadata": {},
   "outputs": [],
   "source": [
    "gdf_merged.columns"
   ]
  },
  {
   "cell_type": "markdown",
   "metadata": {},
   "source": [
    "Und das Gute ist: zu jeder Coop-Filiale ist nun die Information enthalten, in welchem Kanton sie liegt."
   ]
  },
  {
   "cell_type": "code",
   "execution_count": null,
   "metadata": {},
   "outputs": [],
   "source": [
    "gdf_merged['KTNAME']"
   ]
  },
  {
   "cell_type": "markdown",
   "metadata": {},
   "source": [
    "Das ermöglicht uns zB, nur Stores aus einem einzelnen Kanton zu bearbeiten:"
   ]
  },
  {
   "cell_type": "code",
   "execution_count": null,
   "metadata": {},
   "outputs": [],
   "source": [
    "ax = gdf_kantone[gdf_kantone['KTNAME'] == 'Zürich'].plot(color='lightgrey', edgecolor='white', figsize=(6,8))\n",
    "gdf_merged[gdf_merged['KTNAME'] == 'Zürich'].plot(markersize=3, alpha=0.6, ax=ax)"
   ]
  },
  {
   "cell_type": "markdown",
   "metadata": {},
   "source": [
    "## Geo-Information darstellen"
   ]
  },
  {
   "cell_type": "markdown",
   "metadata": {},
   "source": [
    "Wie viele Läden sind in welchem Kanton? Diese Frage können wir nun beantworten:"
   ]
  },
  {
   "cell_type": "code",
   "execution_count": null,
   "metadata": {},
   "outputs": [],
   "source": [
    "gdf_merged['KTNAME'].value_counts()"
   ]
  },
  {
   "cell_type": "markdown",
   "metadata": {},
   "source": [
    "Um diese Information wiederum geografisch darzustellen, können wir sie zurück in unser Kantone-GDF mergen."
   ]
  },
  {
   "cell_type": "markdown",
   "metadata": {},
   "source": [
    "**Vorbereitung:**"
   ]
  },
  {
   "cell_type": "code",
   "execution_count": null,
   "metadata": {},
   "outputs": [],
   "source": [
    "df_anzahl = gdf_merged['KTNAME'].value_counts().to_frame()"
   ]
  },
  {
   "cell_type": "code",
   "execution_count": null,
   "metadata": {},
   "outputs": [],
   "source": [
    "df_anzahl = df_anzahl.rename(columns={'KTNAME': 'Anzahl'})"
   ]
  },
  {
   "cell_type": "code",
   "execution_count": null,
   "metadata": {},
   "outputs": [],
   "source": [
    "df_anzahl.head(5)"
   ]
  },
  {
   "cell_type": "markdown",
   "metadata": {},
   "source": [
    "**Merge:**"
   ]
  },
  {
   "cell_type": "code",
   "execution_count": null,
   "metadata": {},
   "outputs": [],
   "source": [
    "gdf_kantone_anzahl = gdf_kantone.merge(df_anzahl, how='inner', left_on='KTNAME', right_index=True)"
   ]
  },
  {
   "cell_type": "code",
   "execution_count": null,
   "metadata": {},
   "outputs": [],
   "source": [
    "gdf_kantone_anzahl.head(2)"
   ]
  },
  {
   "cell_type": "markdown",
   "metadata": {},
   "source": [
    "**Plot:**\n",
    "\n",
    "Dokumentation zum Plotten in Geopandas, Siehe auch:\n",
    "- http://geopandas.org/mapping.html\n",
    "- https://github.com/MAZ-CAS-DDJ/kurs_21_22/blob/master/00%20weitere%C2%A0Dokumente/hilfsmaterial/geopandas.md\n",
    "\n",
    "und:\n",
    "\n",
    "https://blog.datawrapper.de/choroplethmaps/\n",
    "\n",
    "Wir können Geopandas in der `plot()`-Funktion angeben, wie die Farbcodierung erstellt werden soll.\n",
    "\n",
    "- `column=` - welche Spalte verwendet werden soll: in unserem Fall, \"Anzahl\"\n",
    "- `cmap=` - welche Colormap werwendet werden soll: https://matplotlib.org/examples/color/colormaps_reference.html\n",
    "- `scheme=` - kann \"equal_interval\" oder \"quantiles\" sein. Standardzahl der Schritte ist 5."
   ]
  },
  {
   "cell_type": "code",
   "execution_count": null,
   "metadata": {},
   "outputs": [],
   "source": [
    "ax = gdf_kantone_anzahl.plot(column='Anzahl', cmap='Blues', scheme='quantiles', edgecolor='white', legend=True, figsize=(12,12))\n",
    "ax.set_title('Anzahl Coop-Filialen pro Kanton')"
   ]
  },
  {
   "cell_type": "code",
   "execution_count": null,
   "metadata": {},
   "outputs": [],
   "source": []
  }
 ],
 "metadata": {
  "kernelspec": {
   "display_name": "Python 3 (ipykernel)",
   "language": "python",
   "name": "python3"
  },
  "language_info": {
   "codemirror_mode": {
    "name": "ipython",
    "version": 3
   },
   "file_extension": ".py",
   "mimetype": "text/x-python",
   "name": "python",
   "nbconvert_exporter": "python",
   "pygments_lexer": "ipython3",
   "version": "3.10.6"
  }
 },
 "nbformat": 4,
 "nbformat_minor": 2
}
