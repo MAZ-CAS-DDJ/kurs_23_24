{
 "cells": [
  {
   "cell_type": "markdown",
   "id": "cf7ee6e9",
   "metadata": {},
   "source": [
    "**Blicken wir noch mals auf die Struktur von Dictionaries**"
   ]
  },
  {
   "cell_type": "markdown",
   "id": "e5b7960c",
   "metadata": {},
   "source": [
    "**1. Erstelle ein Dictionary mit 4 Keys und vier Values, die allesamt unterschiedliche Datentypen enthalten**"
   ]
  },
  {
   "cell_type": "code",
   "execution_count": null,
   "id": "392d20e0",
   "metadata": {},
   "outputs": [],
   "source": []
  },
  {
   "cell_type": "markdown",
   "id": "2f9e65d7",
   "metadata": {},
   "source": [
    "**2. Mache aus dem einzelnen Dictionary eine Liste mit 5 Elementen**"
   ]
  },
  {
   "cell_type": "code",
   "execution_count": null,
   "id": "a2fdc7de",
   "metadata": {},
   "outputs": [],
   "source": []
  },
  {
   "cell_type": "markdown",
   "id": "09391aed",
   "metadata": {},
   "source": [
    "**3. Nutze Pandas dazu, daraus einen DataFrame zu bauen.**"
   ]
  },
  {
   "cell_type": "code",
   "execution_count": null,
   "id": "c5dab817",
   "metadata": {},
   "outputs": [],
   "source": []
  },
  {
   "cell_type": "markdown",
   "id": "70bb8334",
   "metadata": {},
   "source": [
    "**4. Speichere das DataFrame als CSV-Datei ab**"
   ]
  },
  {
   "cell_type": "code",
   "execution_count": null,
   "id": "24683429",
   "metadata": {},
   "outputs": [],
   "source": []
  },
  {
   "cell_type": "markdown",
   "id": "3f9c4c1a",
   "metadata": {},
   "source": [
    "**5. EXTRA: Speichere das File in anderen Dateiformaten ab**"
   ]
  },
  {
   "cell_type": "code",
   "execution_count": null,
   "id": "af76c472",
   "metadata": {},
   "outputs": [],
   "source": []
  }
 ],
 "metadata": {
  "kernelspec": {
   "display_name": "Python 3 (ipykernel)",
   "language": "python",
   "name": "python3"
  },
  "language_info": {
   "codemirror_mode": {
    "name": "ipython",
    "version": 3
   },
   "file_extension": ".py",
   "mimetype": "text/x-python",
   "name": "python",
   "nbconvert_exporter": "python",
   "pygments_lexer": "ipython3",
   "version": "3.8.17"
  }
 },
 "nbformat": 4,
 "nbformat_minor": 5
}
