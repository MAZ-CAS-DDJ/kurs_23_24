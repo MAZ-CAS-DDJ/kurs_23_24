{
 "cells": [
  {
   "cell_type": "markdown",
   "id": "cf7ee6e9",
   "metadata": {},
   "source": [
    "**Blicken wir noch mals auf die Struktur von Dictionaries**"
   ]
  },
  {
   "cell_type": "markdown",
   "id": "e5b7960c",
   "metadata": {},
   "source": [
    "**1. Erstelle ein Dictionary mit 4 Keys und vier Values, die allesamt unterschiedliche Datentypen enthalten**"
   ]
  },
  {
   "cell_type": "code",
   "execution_count": null,
   "id": "392d20e0",
   "metadata": {},
   "outputs": [],
   "source": [
    "dictionary=\n",
    "\n",
    "{\"Train Number\":1,\n",
    " \"Comfy?\":True,\n",
    " \"Name\":\"Tschuktschuk\",\n",
    " \"Weight in Tons\":3.47,\n",
    " \"Liste\": [1, 2, 3, 4]\n",
    " \"Dictionary\": {\"DicKey1\": \"Hallo\", \"DicKey2\": \"Hallo Du\"},\n",
    " \"Liste 3\": [{\"DicKey1\": \"Hallo\", \"DicKey2\": \"Hallo Du\"},\n",
    "{\"DicKey1\": \"Good Bya\", \"DicKey2\": \"Ciao Du\"}]}\n",
    "\n",
    "\n"
   ]
  },
  {
   "cell_type": "markdown",
   "id": "2f9e65d7",
   "metadata": {},
   "source": [
    "**2. Mache aus dem einzelnen Dictionary eine Liste mit 5 Elementen**"
   ]
  },
  {
   "cell_type": "code",
   "execution_count": 3,
   "id": "a2fdc7de",
   "metadata": {},
   "outputs": [
    {
     "ename": "TypeError",
     "evalue": "unhashable type: 'dict'",
     "output_type": "error",
     "traceback": [
      "\u001b[0;31m---------------------------------------------------------------------------\u001b[0m",
      "\u001b[0;31mTypeError\u001b[0m                                 Traceback (most recent call last)",
      "Cell \u001b[0;32mIn[3], line 4\u001b[0m\n\u001b[1;32m      2\u001b[0m liste_uebung \u001b[38;5;241m=\u001b[39m [{\u001b[38;5;124m\"\u001b[39m\u001b[38;5;124mKategorie\u001b[39m\u001b[38;5;124m\"\u001b[39m: \u001b[38;5;124m\"\u001b[39m\u001b[38;5;124mEintrag\u001b[39m\u001b[38;5;124m\"\u001b[39m}]\n\u001b[1;32m      3\u001b[0m \u001b[38;5;28;01mfor\u001b[39;00m key, value \u001b[38;5;129;01min\u001b[39;00m d_uebung\u001b[38;5;241m.\u001b[39mitems():\n\u001b[0;32m----> 4\u001b[0m     liste_uebung\u001b[38;5;241m.\u001b[39mappend({key, value})\n",
      "\u001b[0;31mTypeError\u001b[0m: unhashable type: 'dict'"
     ]
    }
   ],
   "source": [
    "d_uebung = {\"Groesse\": 1.79, \"Name\": \"Müller\", \"Anzahl_Laptops\": 2, \"Kursteilnehmer\": True, \"Dictionary\": {\"DictionaryKey1\": \"Value1\", \"DictionaryKey2\": \"Value2\"}}\n",
    "liste_uebung = [{\"Kategorie\": \"Eintrag\"}]\n",
    "for key, value in d_uebung.items():\n",
    "    liste_uebung.append({key, value})\n",
    "\n"
   ]
  },
  {
   "cell_type": "code",
   "execution_count": null,
   "id": "65910155",
   "metadata": {},
   "outputs": [],
   "source": [
    "{\"Train Number\":1,\n",
    " \"Comfy?\":True,\n",
    " \"Name\":\"Tschuktschuk\",\n",
    " \"Weight in Tons\":3.47,\n",
    " \"Liste\": [1, 2, 3, 4]}"
   ]
  },
  {
   "cell_type": "code",
   "execution_count": 7,
   "id": "944dcc7b",
   "metadata": {},
   "outputs": [],
   "source": [
    "liste_dic = [{\"Train Number\":1,\n",
    " \"Comfy?\":True,\n",
    " \"Name\":\"Tschuktschuk\",\n",
    " \"Weight in Tons\":3.47,\n",
    " \"Liste\": [1, 2, 3, 4]},\n",
    "{\"Train Number\":1,\n",
    " \"Comfy?\":True,\n",
    " \"Name\":\"Tschuktschuk\",\n",
    " \"Weight in Tons\":3.47,\n",
    " \"Liste\": [1, 2, 3, 4]},\n",
    "{\"Train Number\":1,\n",
    " \"Comfy?\":True,\n",
    " \"Name\":\"Tschuktschuk\",\n",
    " \"Weight in Tons\":3.47,\n",
    " \"Liste\": [1, 2, 3, 4]},\n",
    "{\"Train Number\":1,\n",
    " \"Comfy?\":True,\n",
    " \"Name\":\"Tschuktschuk\",\n",
    " \"Weight in Tons\":3.47,\n",
    " \"Liste\": [1, 2, 3, 4]},\n",
    "{\"Train Number\":1,\n",
    " \"Comfy?\":True,\n",
    " \"Name\":\"Tschuktschuk\",\n",
    " \"Weight in Tons\":3.47,\n",
    " \"Liste\": [1, 2, 3, 4]}]"
   ]
  },
  {
   "cell_type": "code",
   "execution_count": 8,
   "id": "4100eb55",
   "metadata": {},
   "outputs": [
    {
     "data": {
      "text/plain": [
       "[{'Train Number': 1,\n",
       "  'Comfy?': True,\n",
       "  'Name': 'Tschuktschuk',\n",
       "  'Weight in Tons': 3.47,\n",
       "  'Liste': [1, 2, 3, 4]},\n",
       " {'Train Number': 1,\n",
       "  'Comfy?': True,\n",
       "  'Name': 'Tschuktschuk',\n",
       "  'Weight in Tons': 3.47,\n",
       "  'Liste': [1, 2, 3, 4]},\n",
       " {'Train Number': 1,\n",
       "  'Comfy?': True,\n",
       "  'Name': 'Tschuktschuk',\n",
       "  'Weight in Tons': 3.47,\n",
       "  'Liste': [1, 2, 3, 4]},\n",
       " {'Train Number': 1,\n",
       "  'Comfy?': True,\n",
       "  'Name': 'Tschuktschuk',\n",
       "  'Weight in Tons': 3.47,\n",
       "  'Liste': [1, 2, 3, 4]},\n",
       " {'Train Number': 1,\n",
       "  'Comfy?': True,\n",
       "  'Name': 'Tschuktschuk',\n",
       "  'Weight in Tons': 3.47,\n",
       "  'Liste': [1, 2, 3, 4]}]"
      ]
     },
     "execution_count": 8,
     "metadata": {},
     "output_type": "execute_result"
    }
   ],
   "source": [
    "liste_dic"
   ]
  },
  {
   "cell_type": "code",
   "execution_count": null,
   "id": "c02fe477",
   "metadata": {},
   "outputs": [],
   "source": []
  },
  {
   "cell_type": "markdown",
   "id": "09391aed",
   "metadata": {},
   "source": [
    "**3. Nutze Pandas dazu, daraus einen DataFrame zu bauen.**"
   ]
  },
  {
   "cell_type": "code",
   "execution_count": 6,
   "id": "c5dab817",
   "metadata": {},
   "outputs": [
    {
     "data": {
      "text/html": [
       "<div>\n",
       "<style scoped>\n",
       "    .dataframe tbody tr th:only-of-type {\n",
       "        vertical-align: middle;\n",
       "    }\n",
       "\n",
       "    .dataframe tbody tr th {\n",
       "        vertical-align: top;\n",
       "    }\n",
       "\n",
       "    .dataframe thead th {\n",
       "        text-align: right;\n",
       "    }\n",
       "</style>\n",
       "<table border=\"1\" class=\"dataframe\">\n",
       "  <thead>\n",
       "    <tr style=\"text-align: right;\">\n",
       "      <th></th>\n",
       "      <th>Train Number</th>\n",
       "      <th>Comfy?</th>\n",
       "      <th>Name</th>\n",
       "      <th>Weight in Tons</th>\n",
       "      <th>Liste</th>\n",
       "    </tr>\n",
       "  </thead>\n",
       "  <tbody>\n",
       "    <tr>\n",
       "      <th>0</th>\n",
       "      <td>1</td>\n",
       "      <td>True</td>\n",
       "      <td>Tschuktschuk</td>\n",
       "      <td>3.47</td>\n",
       "      <td>[1, 2, 3, 4]</td>\n",
       "    </tr>\n",
       "    <tr>\n",
       "      <th>1</th>\n",
       "      <td>1</td>\n",
       "      <td>True</td>\n",
       "      <td>Tschuktschuk</td>\n",
       "      <td>3.47</td>\n",
       "      <td>[1, 2, 3, 4]</td>\n",
       "    </tr>\n",
       "    <tr>\n",
       "      <th>2</th>\n",
       "      <td>1</td>\n",
       "      <td>True</td>\n",
       "      <td>Tschuktschuk</td>\n",
       "      <td>3.47</td>\n",
       "      <td>[1, 2, 3, 4]</td>\n",
       "    </tr>\n",
       "    <tr>\n",
       "      <th>3</th>\n",
       "      <td>1</td>\n",
       "      <td>True</td>\n",
       "      <td>Tschuktschuk</td>\n",
       "      <td>3.47</td>\n",
       "      <td>[1, 2, 3, 4]</td>\n",
       "    </tr>\n",
       "    <tr>\n",
       "      <th>4</th>\n",
       "      <td>1</td>\n",
       "      <td>True</td>\n",
       "      <td>Tschuktschuk</td>\n",
       "      <td>3.47</td>\n",
       "      <td>[1, 2, 3, 4]</td>\n",
       "    </tr>\n",
       "  </tbody>\n",
       "</table>\n",
       "</div>"
      ],
      "text/plain": [
       "   Train Number  Comfy?          Name  Weight in Tons         Liste\n",
       "0             1    True  Tschuktschuk            3.47  [1, 2, 3, 4]\n",
       "1             1    True  Tschuktschuk            3.47  [1, 2, 3, 4]\n",
       "2             1    True  Tschuktschuk            3.47  [1, 2, 3, 4]\n",
       "3             1    True  Tschuktschuk            3.47  [1, 2, 3, 4]\n",
       "4             1    True  Tschuktschuk            3.47  [1, 2, 3, 4]"
      ]
     },
     "execution_count": 6,
     "metadata": {},
     "output_type": "execute_result"
    }
   ],
   "source": [
    "import pandas as pd\n",
    "pd.DataFrame(liste_dic)"
   ]
  },
  {
   "cell_type": "code",
   "execution_count": null,
   "id": "522dd54c",
   "metadata": {},
   "outputs": [],
   "source": []
  },
  {
   "cell_type": "markdown",
   "id": "70bb8334",
   "metadata": {},
   "source": [
    "**4. Speichere das DataFrame als CSV-Datei ab**"
   ]
  },
  {
   "cell_type": "code",
   "execution_count": 9,
   "id": "24683429",
   "metadata": {},
   "outputs": [],
   "source": [
    "file = pd.DataFrame(liste_dic)\n",
    "file.to_csv('testdaten.csv')"
   ]
  },
  {
   "cell_type": "code",
   "execution_count": 10,
   "id": "c232d870",
   "metadata": {},
   "outputs": [
    {
     "name": "stdout",
     "output_type": "stream",
     "text": [
      "01 Dictionaries.ipynb          \u001b[34mArchive\u001b[m\u001b[m/\r\n",
      "\u001b[31m02 Erdbeben API.ipynb\u001b[m\u001b[m*         countries_data.csv\r\n",
      "\u001b[31m03 ChatGPT und APIs.md\u001b[m\u001b[m*        test.html\r\n",
      "04 Neue offene APIs.ipynb      testdaten.csv\r\n",
      "\u001b[31m05 Anatomie einer Website.pdf\u001b[m\u001b[m* \u001b[31mÜbung2.ipynb\u001b[m\u001b[m*\r\n",
      "06 Intro BeautifulSoup.ipynb\r\n"
     ]
    }
   ],
   "source": [
    "ls"
   ]
  },
  {
   "cell_type": "code",
   "execution_count": 11,
   "id": "74bdcaea",
   "metadata": {},
   "outputs": [],
   "source": [
    "ls = \"hallo\""
   ]
  },
  {
   "cell_type": "code",
   "execution_count": 12,
   "id": "39038af9",
   "metadata": {},
   "outputs": [
    {
     "data": {
      "text/plain": [
       "'hallo'"
      ]
     },
     "execution_count": 12,
     "metadata": {},
     "output_type": "execute_result"
    }
   ],
   "source": [
    "ls"
   ]
  },
  {
   "cell_type": "markdown",
   "id": "3f9c4c1a",
   "metadata": {},
   "source": [
    "**5. EXTRA: Speichere das File in anderen Dateiformaten ab**"
   ]
  },
  {
   "cell_type": "code",
   "execution_count": 13,
   "id": "af76c472",
   "metadata": {},
   "outputs": [],
   "source": [
    "file.to_excel('testdaten.xlsx')"
   ]
  },
  {
   "cell_type": "code",
   "execution_count": null,
   "id": "5861d33d",
   "metadata": {},
   "outputs": [],
   "source": []
  }
 ],
 "metadata": {
  "kernelspec": {
   "display_name": "Python 3 (ipykernel)",
   "language": "python",
   "name": "python3"
  },
  "language_info": {
   "codemirror_mode": {
    "name": "ipython",
    "version": 3
   },
   "file_extension": ".py",
   "mimetype": "text/x-python",
   "name": "python",
   "nbconvert_exporter": "python",
   "pygments_lexer": "ipython3",
   "version": "3.8.17"
  }
 },
 "nbformat": 4,
 "nbformat_minor": 5
}
