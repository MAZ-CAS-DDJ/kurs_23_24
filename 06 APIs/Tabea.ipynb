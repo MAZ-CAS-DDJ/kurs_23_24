{
 "cells": [
  {
   "cell_type": "code",
   "execution_count": 1,
   "id": "88162b63",
   "metadata": {},
   "outputs": [],
   "source": [
    "import requests\n",
    "import pandas as pd"
   ]
  },
  {
   "cell_type": "code",
   "execution_count": 11,
   "id": "f46e5662",
   "metadata": {},
   "outputs": [],
   "source": [
    "#Hier stelle ich mir meine URL mit meiner speizifischen Anfrage zusammen\n",
    "base = \"https://earthquake.usgs.gov/fdsnws/event/1/query?\"\n",
    "zeit = \"starttime=2023-01-01&endtime=2023-09-11\"\n",
    "limit = \"&orderby=magnitude\"\n",
    "stärke = \"&limit=5\"\n",
    "format_ = \"&format=geojson\"\n",
    "url = base + zeit + limit + stärke + format_"
   ]
  },
  {
   "cell_type": "code",
   "execution_count": 12,
   "id": "15da28de",
   "metadata": {},
   "outputs": [],
   "source": [
    "r = requests.get(url)\n",
    "r = r.json()"
   ]
  },
  {
   "cell_type": "code",
   "execution_count": 14,
   "id": "40fdc905",
   "metadata": {},
   "outputs": [
    {
     "name": "stdout",
     "output_type": "stream",
     "text": [
      "type\n",
      "metadata\n",
      "features\n",
      "bbox\n"
     ]
    }
   ],
   "source": [
    "for elem in r:\n",
    "    print(elem)"
   ]
  },
  {
   "cell_type": "code",
   "execution_count": 10,
   "id": "05cf4efa",
   "metadata": {},
   "outputs": [
    {
     "name": "stdout",
     "output_type": "stream",
     "text": [
      "type\n",
      "metadata\n",
      "features\n",
      "bbox\n"
     ]
    }
   ],
   "source": [
    "for element in r:\n",
    "    print(element)"
   ]
  },
  {
   "cell_type": "code",
   "execution_count": null,
   "id": "03ddc169",
   "metadata": {},
   "outputs": [],
   "source": []
  },
  {
   "cell_type": "code",
   "execution_count": null,
   "id": "aa8b3399",
   "metadata": {},
   "outputs": [],
   "source": [
    "for element in r:\n",
    "    print(element)"
   ]
  },
  {
   "cell_type": "code",
   "execution_count": null,
   "id": "5caa3952",
   "metadata": {},
   "outputs": [],
   "source": []
  }
 ],
 "metadata": {
  "kernelspec": {
   "display_name": "Python 3 (ipykernel)",
   "language": "python",
   "name": "python3"
  },
  "language_info": {
   "codemirror_mode": {
    "name": "ipython",
    "version": 3
   },
   "file_extension": ".py",
   "mimetype": "text/x-python",
   "name": "python",
   "nbconvert_exporter": "python",
   "pygments_lexer": "ipython3",
   "version": "3.8.17"
  }
 },
 "nbformat": 4,
 "nbformat_minor": 5
}
