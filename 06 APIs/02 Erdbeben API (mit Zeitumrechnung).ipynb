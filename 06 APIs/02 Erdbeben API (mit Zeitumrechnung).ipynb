{
 "cells": [
  {
   "cell_type": "markdown",
   "metadata": {},
   "source": [
    "# Libraries und arbeiten mit APIs"
   ]
  },
  {
   "cell_type": "markdown",
   "metadata": {},
   "source": [
    "#### 0. Importiere die Library requests."
   ]
  },
  {
   "cell_type": "code",
   "execution_count": 4,
   "metadata": {},
   "outputs": [],
   "source": [
    "import requests\n",
    "import pandas as pd\n",
    "import datetime"
   ]
  },
  {
   "cell_type": "markdown",
   "metadata": {},
   "source": [
    "**1. Wie viele Erdbeben wurden im Januar 2023 verzeichnet?**"
   ]
  },
  {
   "cell_type": "code",
   "execution_count": 5,
   "metadata": {},
   "outputs": [],
   "source": [
    "r = requests.get('https://earthquake.usgs.gov/fdsnws/event/1/count?starttime=2023-01-01&endtime=2023-01-31')"
   ]
  },
  {
   "cell_type": "code",
   "execution_count": 9,
   "metadata": {},
   "outputs": [
    {
     "data": {
      "text/plain": [
       "11213"
      ]
     },
     "execution_count": 9,
     "metadata": {},
     "output_type": "execute_result"
    }
   ],
   "source": [
    "r.json()"
   ]
  },
  {
   "cell_type": "markdown",
   "metadata": {},
   "source": [
    "#### 2. Und wie viele Erdbeben im Juli 2023?"
   ]
  },
  {
   "cell_type": "code",
   "execution_count": 10,
   "metadata": {},
   "outputs": [],
   "source": [
    "r = requests.get('https://earthquake.usgs.gov/fdsnws/event/1/count?starttime=2023-07-01&endtime=2023-07-31')"
   ]
  },
  {
   "cell_type": "code",
   "execution_count": 11,
   "metadata": {},
   "outputs": [
    {
     "data": {
      "text/plain": [
       "12384"
      ]
     },
     "execution_count": 11,
     "metadata": {},
     "output_type": "execute_result"
    }
   ],
   "source": [
    "r.json()"
   ]
  },
  {
   "cell_type": "markdown",
   "metadata": {},
   "source": [
    "#### 3. In welchem Monat des aktuellen Jahres wurden am meisten Erdbeben verzeichnet?"
   ]
  },
  {
   "cell_type": "code",
   "execution_count": 16,
   "metadata": {},
   "outputs": [],
   "source": [
    "dates_start= pd.date_range('2023-01-01','2023-10-01' , freq='1M')-pd.offsets.MonthBegin(1)"
   ]
  },
  {
   "cell_type": "code",
   "execution_count": 17,
   "metadata": {},
   "outputs": [
    {
     "data": {
      "text/plain": [
       "DatetimeIndex(['2023-01-01', '2023-02-01', '2023-03-01', '2023-04-01',\n",
       "               '2023-05-01', '2023-06-01', '2023-07-01', '2023-08-01',\n",
       "               '2023-09-01'],\n",
       "              dtype='datetime64[ns]', freq=None)"
      ]
     },
     "execution_count": 17,
     "metadata": {},
     "output_type": "execute_result"
    }
   ],
   "source": [
    "dates_start"
   ]
  },
  {
   "cell_type": "code",
   "execution_count": 18,
   "metadata": {},
   "outputs": [],
   "source": [
    "dates_end= pd.date_range('2023-2-01','2023-11-01' , freq='1M')-pd.offsets.MonthEnd(1)"
   ]
  },
  {
   "cell_type": "code",
   "execution_count": 19,
   "metadata": {},
   "outputs": [
    {
     "data": {
      "text/plain": [
       "DatetimeIndex(['2023-01-31', '2023-02-28', '2023-03-31', '2023-04-30',\n",
       "               '2023-05-31', '2023-06-30', '2023-07-31', '2023-08-31',\n",
       "               '2023-09-30'],\n",
       "              dtype='datetime64[ns]', freq=None)"
      ]
     },
     "execution_count": 19,
     "metadata": {},
     "output_type": "execute_result"
    }
   ],
   "source": [
    "dates_end"
   ]
  },
  {
   "cell_type": "code",
   "execution_count": 20,
   "metadata": {},
   "outputs": [],
   "source": [
    "base = 'https://earthquake.usgs.gov/fdsnws/event/1/count?'\n",
    "start = 'starttime='\n",
    "end = '&endtime='"
   ]
  },
  {
   "cell_type": "code",
   "execution_count": 28,
   "metadata": {},
   "outputs": [
    {
     "name": "stdout",
     "output_type": "stream",
     "text": [
      "https://earthquake.usgs.gov/fdsnws/event/1/count?starttime=2023-01-01&endtime=2023-01-31\n",
      "https://earthquake.usgs.gov/fdsnws/event/1/count?starttime=2023-02-01&endtime=2023-02-28\n",
      "https://earthquake.usgs.gov/fdsnws/event/1/count?starttime=2023-03-01&endtime=2023-03-31\n",
      "https://earthquake.usgs.gov/fdsnws/event/1/count?starttime=2023-04-01&endtime=2023-04-30\n",
      "https://earthquake.usgs.gov/fdsnws/event/1/count?starttime=2023-05-01&endtime=2023-05-31\n",
      "https://earthquake.usgs.gov/fdsnws/event/1/count?starttime=2023-06-01&endtime=2023-06-30\n",
      "https://earthquake.usgs.gov/fdsnws/event/1/count?starttime=2023-07-01&endtime=2023-07-31\n",
      "https://earthquake.usgs.gov/fdsnws/event/1/count?starttime=2023-08-01&endtime=2023-08-31\n",
      "https://earthquake.usgs.gov/fdsnws/event/1/count?starttime=2023-09-01&endtime=2023-09-30\n"
     ]
    }
   ],
   "source": [
    "liste = []\n",
    "for s, e in zip(dates_start, dates_end):\n",
    "    s = str(s)[:10]\n",
    "    e = str(e)[:10]\n",
    "    print(base+start+s+end+e)\n",
    "    r = requests.get(base+start+s+end+e)\n",
    "    result = r.json()\n",
    "    \n",
    "    mini_dict = {\"Monat\": s,\n",
    "                 \"Result\": result}\n",
    "    liste.append(mini_dict)"
   ]
  },
  {
   "cell_type": "markdown",
   "metadata": {},
   "source": [
    "**4. Suche die 5 stärksten Erdbeben im 2023. Liste auf, wie stark sie waren und wo sich die Erdbeben ereigneten. Zeige die Erdbeben in einem Mapping-Werkzeuz (Q, DataWrapper, Flourish, Google Maps, etc.)**"
   ]
  },
  {
   "cell_type": "code",
   "execution_count": 31,
   "metadata": {},
   "outputs": [],
   "source": [
    "base = \"https://earthquake.usgs.gov/fdsnws/event/1/query?\"\n",
    "zeit = \"starttime=2023-01-01&endtime=2023-09-11\"\n",
    "stärke = \"&orderby=magnitude\"\n",
    "limit = \"&limit=5\"\n",
    "format_ = \"&format=geojson\"\n"
   ]
  },
  {
   "cell_type": "code",
   "execution_count": 32,
   "metadata": {},
   "outputs": [
    {
     "data": {
      "text/plain": [
       "'https://earthquake.usgs.gov/fdsnws/event/1/query?starttime=2023-01-01&endtime=2023-09-11&orderby=magnitude&limit=5&format=geojson'"
      ]
     },
     "execution_count": 32,
     "metadata": {},
     "output_type": "execute_result"
    }
   ],
   "source": [
    "url = base + zeit + stärke + limit + format_"
   ]
  },
  {
   "cell_type": "code",
   "execution_count": 51,
   "metadata": {},
   "outputs": [],
   "source": [
    "url = base + zeit + stärke + limit + format_\n",
    "r = requests.get(url)\n",
    "r = r.json()\n",
    "for element in r:\n",
    "    print(element)"
   ]
  },
  {
   "cell_type": "code",
   "execution_count": 70,
   "metadata": {},
   "outputs": [
    {
     "data": {
      "text/plain": [
       "7.8"
      ]
     },
     "execution_count": 70,
     "metadata": {},
     "output_type": "execute_result"
    }
   ],
   "source": [
    "#Magnitude\n",
    "earthquakes[0]['properties']['mag']"
   ]
  },
  {
   "cell_type": "code",
   "execution_count": 72,
   "metadata": {},
   "outputs": [
    {
     "data": {
      "text/plain": [
       "'Pazarcik earthquake, Kahramanmaras earthquake sequence'"
      ]
     },
     "execution_count": 72,
     "metadata": {},
     "output_type": "execute_result"
    }
   ],
   "source": [
    "#Place\n",
    "earthquakes[0]['properties']['place']"
   ]
  },
  {
   "cell_type": "code",
   "execution_count": 76,
   "metadata": {},
   "outputs": [
    {
     "data": {
      "text/plain": [
       "37.0143"
      ]
     },
     "execution_count": 76,
     "metadata": {},
     "output_type": "execute_result"
    }
   ],
   "source": [
    "#longitude\n",
    "earthquakes[0]['geometry']['coordinates'][0]"
   ]
  },
  {
   "cell_type": "code",
   "execution_count": 77,
   "metadata": {},
   "outputs": [
    {
     "data": {
      "text/plain": [
       "37.2256"
      ]
     },
     "execution_count": 77,
     "metadata": {},
     "output_type": "execute_result"
    }
   ],
   "source": [
    "#latitude\n",
    "earthquakes[0]['geometry']['coordinates'][1]"
   ]
  },
  {
   "cell_type": "code",
   "execution_count": 78,
   "metadata": {
    "scrolled": true
   },
   "outputs": [],
   "source": [
    "url = 'https://earthquake.usgs.gov/fdsnws/event/1/query?format=geojson&'\n",
    "orderby = '&orderby=magnitude'\n",
    "limit = '&limit=5'\n",
    "urlzeit = '&starttime=2022-12-31T22:00:00&endtime=2023-12-31T22:00:00'\n",
    "#r.json()['features']\n",
    "#minmax = \"&minmagnitude=6.5\"\n"
   ]
  },
  {
   "cell_type": "code",
   "execution_count": 79,
   "metadata": {},
   "outputs": [],
   "source": [
    "r = requests.get(url+orderby+limit+ urlzeit)"
   ]
  },
  {
   "cell_type": "code",
   "execution_count": 80,
   "metadata": {},
   "outputs": [
    {
     "data": {
      "text/plain": [
       "5"
      ]
     },
     "execution_count": 80,
     "metadata": {},
     "output_type": "execute_result"
    }
   ],
   "source": [
    "len(r.json()['features'])"
   ]
  },
  {
   "cell_type": "code",
   "execution_count": 81,
   "metadata": {},
   "outputs": [],
   "source": [
    "earthquakes = []\n",
    "for elem in r.json()['features']:\n",
    "    \n",
    "    t = elem['properties']['type']\n",
    "    m = elem['properties']['mag']\n",
    "    p = elem['properties']['place']\n",
    "    tm = elem['properties']['time']\n",
    "    long = elem['geometry']['coordinates'][0]\n",
    "    lat = elem['geometry']['coordinates'][1]\n",
    "    \n",
    "    mini_dict = {'Type': t,\n",
    "                 'Mag': m,\n",
    "                 'Place': p,\n",
    "                 'Time': tm,\n",
    "                  'Long':long,\n",
    "                  'Lat':lat}\n",
    "    \n",
    "    earthquakes.append(mini_dict)"
   ]
  },
  {
   "cell_type": "code",
   "execution_count": 82,
   "metadata": {},
   "outputs": [
    {
     "data": {
      "text/html": [
       "<div>\n",
       "<style scoped>\n",
       "    .dataframe tbody tr th:only-of-type {\n",
       "        vertical-align: middle;\n",
       "    }\n",
       "\n",
       "    .dataframe tbody tr th {\n",
       "        vertical-align: top;\n",
       "    }\n",
       "\n",
       "    .dataframe thead th {\n",
       "        text-align: right;\n",
       "    }\n",
       "</style>\n",
       "<table border=\"1\" class=\"dataframe\">\n",
       "  <thead>\n",
       "    <tr style=\"text-align: right;\">\n",
       "      <th></th>\n",
       "      <th>Type</th>\n",
       "      <th>Mag</th>\n",
       "      <th>Place</th>\n",
       "      <th>Time</th>\n",
       "      <th>Long</th>\n",
       "      <th>Lat</th>\n",
       "    </tr>\n",
       "  </thead>\n",
       "  <tbody>\n",
       "    <tr>\n",
       "      <th>0</th>\n",
       "      <td>earthquake</td>\n",
       "      <td>7.8</td>\n",
       "      <td>Pazarcik earthquake, Kahramanmaras earthquake ...</td>\n",
       "      <td>1675646254342</td>\n",
       "      <td>37.0143</td>\n",
       "      <td>37.2256</td>\n",
       "    </tr>\n",
       "    <tr>\n",
       "      <th>1</th>\n",
       "      <td>earthquake</td>\n",
       "      <td>7.7</td>\n",
       "      <td>southeast of the Loyalty Islands</td>\n",
       "      <td>1684465023172</td>\n",
       "      <td>170.7423</td>\n",
       "      <td>-23.2063</td>\n",
       "    </tr>\n",
       "    <tr>\n",
       "      <th>2</th>\n",
       "      <td>earthquake</td>\n",
       "      <td>7.6</td>\n",
       "      <td>82 km WNW of Hihifo, Tonga</td>\n",
       "      <td>1683734520334</td>\n",
       "      <td>-174.4925</td>\n",
       "      <td>-15.6278</td>\n",
       "    </tr>\n",
       "    <tr>\n",
       "      <th>3</th>\n",
       "      <td>earthquake</td>\n",
       "      <td>7.6</td>\n",
       "      <td>Pulau Pulau Tanimbar, Indonesia</td>\n",
       "      <td>1673286455037</td>\n",
       "      <td>130.0090</td>\n",
       "      <td>-7.0586</td>\n",
       "    </tr>\n",
       "    <tr>\n",
       "      <th>4</th>\n",
       "      <td>earthquake</td>\n",
       "      <td>7.5</td>\n",
       "      <td>Elbistan earthquake, Kahramanmaras earthquake ...</td>\n",
       "      <td>1675679088811</td>\n",
       "      <td>37.1962</td>\n",
       "      <td>38.0106</td>\n",
       "    </tr>\n",
       "  </tbody>\n",
       "</table>\n",
       "</div>"
      ],
      "text/plain": [
       "         Type  Mag                                              Place  \\\n",
       "0  earthquake  7.8  Pazarcik earthquake, Kahramanmaras earthquake ...   \n",
       "1  earthquake  7.7                   southeast of the Loyalty Islands   \n",
       "2  earthquake  7.6                         82 km WNW of Hihifo, Tonga   \n",
       "3  earthquake  7.6                    Pulau Pulau Tanimbar, Indonesia   \n",
       "4  earthquake  7.5  Elbistan earthquake, Kahramanmaras earthquake ...   \n",
       "\n",
       "            Time      Long      Lat  \n",
       "0  1675646254342   37.0143  37.2256  \n",
       "1  1684465023172  170.7423 -23.2063  \n",
       "2  1683734520334 -174.4925 -15.6278  \n",
       "3  1673286455037  130.0090  -7.0586  \n",
       "4  1675679088811   37.1962  38.0106  "
      ]
     },
     "execution_count": 82,
     "metadata": {},
     "output_type": "execute_result"
    }
   ],
   "source": [
    "pd.DataFrame(earthquakes)"
   ]
  },
  {
   "cell_type": "code",
   "execution_count": 83,
   "metadata": {},
   "outputs": [],
   "source": [
    "\n",
    "df = pd.DataFrame(earthquakes)"
   ]
  },
  {
   "cell_type": "markdown",
   "metadata": {},
   "source": [
    "# Zeitumrechnung"
   ]
  },
  {
   "cell_type": "code",
   "execution_count": 130,
   "metadata": {},
   "outputs": [
    {
     "name": "stdout",
     "output_type": "stream",
     "text": [
      "2023-02-06 01:17:34\n"
     ]
    }
   ],
   "source": [
    "# Methode 1 (es gibt ganz grundsätzlich sehr viele Wege, den Unix umzurechnen)\n",
    "\n",
    "from datetime import datetime\n",
    "ts = int('1675646254')\n",
    "\n",
    "# if you encounter a \"year is out of range\" error the timestamp\n",
    "# may be in milliseconds, try `ts /= 1000` in that case\n",
    "print(datetime.utcfromtimestamp(ts).strftime('%Y-%m-%d %H:%M:%S'))"
   ]
  },
  {
   "cell_type": "code",
   "execution_count": 132,
   "metadata": {},
   "outputs": [],
   "source": [
    "result_list = []\n",
    "for elem in df['Time']:\n",
    "    result = datetime.utcfromtimestamp(int(str(elem)[:10])).strftime('%Y-%m-%d %H:%M:%S')\n",
    "    result_list.append(result)"
   ]
  },
  {
   "cell_type": "code",
   "execution_count": 133,
   "metadata": {},
   "outputs": [],
   "source": [
    "df['Dates UTC'] = result_list"
   ]
  },
  {
   "cell_type": "code",
   "execution_count": 134,
   "metadata": {},
   "outputs": [
    {
     "data": {
      "text/html": [
       "<div>\n",
       "<style scoped>\n",
       "    .dataframe tbody tr th:only-of-type {\n",
       "        vertical-align: middle;\n",
       "    }\n",
       "\n",
       "    .dataframe tbody tr th {\n",
       "        vertical-align: top;\n",
       "    }\n",
       "\n",
       "    .dataframe thead th {\n",
       "        text-align: right;\n",
       "    }\n",
       "</style>\n",
       "<table border=\"1\" class=\"dataframe\">\n",
       "  <thead>\n",
       "    <tr style=\"text-align: right;\">\n",
       "      <th></th>\n",
       "      <th>Type</th>\n",
       "      <th>Mag</th>\n",
       "      <th>Place</th>\n",
       "      <th>Time</th>\n",
       "      <th>Long</th>\n",
       "      <th>Lat</th>\n",
       "      <th>Datumsangaben</th>\n",
       "      <th>Dates UTC</th>\n",
       "    </tr>\n",
       "  </thead>\n",
       "  <tbody>\n",
       "    <tr>\n",
       "      <th>0</th>\n",
       "      <td>earthquake</td>\n",
       "      <td>7.8</td>\n",
       "      <td>Pazarcik earthquake, Kahramanmaras earthquake ...</td>\n",
       "      <td>1675646254342</td>\n",
       "      <td>37.0143</td>\n",
       "      <td>37.2256</td>\n",
       "      <td>2023-02-06</td>\n",
       "      <td>2023-02-06 01:17:34</td>\n",
       "    </tr>\n",
       "    <tr>\n",
       "      <th>1</th>\n",
       "      <td>earthquake</td>\n",
       "      <td>7.7</td>\n",
       "      <td>southeast of the Loyalty Islands</td>\n",
       "      <td>1684465023172</td>\n",
       "      <td>170.7423</td>\n",
       "      <td>-23.2063</td>\n",
       "      <td>2023-05-19</td>\n",
       "      <td>2023-05-19 02:57:03</td>\n",
       "    </tr>\n",
       "    <tr>\n",
       "      <th>2</th>\n",
       "      <td>earthquake</td>\n",
       "      <td>7.6</td>\n",
       "      <td>82 km WNW of Hihifo, Tonga</td>\n",
       "      <td>1683734520334</td>\n",
       "      <td>-174.4925</td>\n",
       "      <td>-15.6278</td>\n",
       "      <td>2023-05-10</td>\n",
       "      <td>2023-05-10 16:02:00</td>\n",
       "    </tr>\n",
       "    <tr>\n",
       "      <th>3</th>\n",
       "      <td>earthquake</td>\n",
       "      <td>7.6</td>\n",
       "      <td>Pulau Pulau Tanimbar, Indonesia</td>\n",
       "      <td>1673286455037</td>\n",
       "      <td>130.0090</td>\n",
       "      <td>-7.0586</td>\n",
       "      <td>2023-01-09</td>\n",
       "      <td>2023-01-09 17:47:35</td>\n",
       "    </tr>\n",
       "    <tr>\n",
       "      <th>4</th>\n",
       "      <td>earthquake</td>\n",
       "      <td>7.5</td>\n",
       "      <td>Elbistan earthquake, Kahramanmaras earthquake ...</td>\n",
       "      <td>1675679088811</td>\n",
       "      <td>37.1962</td>\n",
       "      <td>38.0106</td>\n",
       "      <td>2023-02-06</td>\n",
       "      <td>2023-02-06 10:24:48</td>\n",
       "    </tr>\n",
       "  </tbody>\n",
       "</table>\n",
       "</div>"
      ],
      "text/plain": [
       "         Type  Mag                                              Place  \\\n",
       "0  earthquake  7.8  Pazarcik earthquake, Kahramanmaras earthquake ...   \n",
       "1  earthquake  7.7                   southeast of the Loyalty Islands   \n",
       "2  earthquake  7.6                         82 km WNW of Hihifo, Tonga   \n",
       "3  earthquake  7.6                    Pulau Pulau Tanimbar, Indonesia   \n",
       "4  earthquake  7.5  Elbistan earthquake, Kahramanmaras earthquake ...   \n",
       "\n",
       "            Time      Long      Lat Datumsangaben            Dates UTC  \n",
       "0  1675646254342   37.0143  37.2256    2023-02-06  2023-02-06 01:17:34  \n",
       "1  1684465023172  170.7423 -23.2063    2023-05-19  2023-05-19 02:57:03  \n",
       "2  1683734520334 -174.4925 -15.6278    2023-05-10  2023-05-10 16:02:00  \n",
       "3  1673286455037  130.0090  -7.0586    2023-01-09  2023-01-09 17:47:35  \n",
       "4  1675679088811   37.1962  38.0106    2023-02-06  2023-02-06 10:24:48  "
      ]
     },
     "execution_count": 134,
     "metadata": {},
     "output_type": "execute_result"
    }
   ],
   "source": [
    "df"
   ]
  },
  {
   "cell_type": "code",
   "execution_count": 135,
   "metadata": {},
   "outputs": [
    {
     "name": "stdout",
     "output_type": "stream",
     "text": [
      "2023-02-06\n",
      "2023-05-19\n",
      "2023-05-10\n",
      "2023-01-09\n",
      "2023-02-06\n"
     ]
    }
   ],
   "source": [
    "#Hier eine zweite Methode aus der Klasse.\n",
    "import datetime as dt\n",
    "\n",
    "# timestamp is number of seconds since 1970-01-01 \n",
    "timestamp = [1675646254.342,1684465023.172, 1683734520.334, 1673286455.037, 1675679088.811]\n",
    "\n",
    "for ts in timestamp:\n",
    "    print(dt.datetime.fromtimestamp(int(ts)).date())"
   ]
  },
  {
   "cell_type": "code",
   "execution_count": 141,
   "metadata": {},
   "outputs": [
    {
     "name": "stdout",
     "output_type": "stream",
     "text": [
      "2023-02-06\n",
      "2023-05-19\n",
      "2023-05-10\n",
      "2023-01-09\n",
      "2023-02-06\n"
     ]
    }
   ],
   "source": [
    "import datetime as dt\n",
    "\n",
    "# timestamp is number of seconds since 1970-01-01 \n",
    "timestamp = [1675646254.342,1684465023.172, 1683734520.334, 1673286455.037, 1675679088.811]\n",
    "\n",
    "final_liste = []\n",
    "final_liste\n",
    "for ts in timestamp:\n",
    "    result = dt.datetime.fromtimestamp(int(ts)).date()\n",
    "    print(result)\n",
    "    final_liste.append(result)"
   ]
  },
  {
   "cell_type": "code",
   "execution_count": 142,
   "metadata": {},
   "outputs": [
    {
     "data": {
      "text/plain": [
       "[datetime.date(2023, 2, 6),\n",
       " datetime.date(2023, 5, 19),\n",
       " datetime.date(2023, 5, 10),\n",
       " datetime.date(2023, 1, 9),\n",
       " datetime.date(2023, 2, 6)]"
      ]
     },
     "execution_count": 142,
     "metadata": {},
     "output_type": "execute_result"
    }
   ],
   "source": [
    "final_liste"
   ]
  },
  {
   "cell_type": "code",
   "execution_count": 143,
   "metadata": {},
   "outputs": [],
   "source": [
    "df['Datumsangaben'] = final_liste"
   ]
  },
  {
   "cell_type": "code",
   "execution_count": 144,
   "metadata": {},
   "outputs": [
    {
     "data": {
      "text/html": [
       "<div>\n",
       "<style scoped>\n",
       "    .dataframe tbody tr th:only-of-type {\n",
       "        vertical-align: middle;\n",
       "    }\n",
       "\n",
       "    .dataframe tbody tr th {\n",
       "        vertical-align: top;\n",
       "    }\n",
       "\n",
       "    .dataframe thead th {\n",
       "        text-align: right;\n",
       "    }\n",
       "</style>\n",
       "<table border=\"1\" class=\"dataframe\">\n",
       "  <thead>\n",
       "    <tr style=\"text-align: right;\">\n",
       "      <th></th>\n",
       "      <th>Type</th>\n",
       "      <th>Mag</th>\n",
       "      <th>Place</th>\n",
       "      <th>Time</th>\n",
       "      <th>Long</th>\n",
       "      <th>Lat</th>\n",
       "      <th>Datumsangaben</th>\n",
       "    </tr>\n",
       "  </thead>\n",
       "  <tbody>\n",
       "    <tr>\n",
       "      <th>0</th>\n",
       "      <td>earthquake</td>\n",
       "      <td>7.8</td>\n",
       "      <td>Pazarcik earthquake, Kahramanmaras earthquake ...</td>\n",
       "      <td>1675646254342</td>\n",
       "      <td>37.0143</td>\n",
       "      <td>37.2256</td>\n",
       "      <td>2023-02-06</td>\n",
       "    </tr>\n",
       "    <tr>\n",
       "      <th>1</th>\n",
       "      <td>earthquake</td>\n",
       "      <td>7.7</td>\n",
       "      <td>southeast of the Loyalty Islands</td>\n",
       "      <td>1684465023172</td>\n",
       "      <td>170.7423</td>\n",
       "      <td>-23.2063</td>\n",
       "      <td>2023-05-19</td>\n",
       "    </tr>\n",
       "    <tr>\n",
       "      <th>2</th>\n",
       "      <td>earthquake</td>\n",
       "      <td>7.6</td>\n",
       "      <td>82 km WNW of Hihifo, Tonga</td>\n",
       "      <td>1683734520334</td>\n",
       "      <td>-174.4925</td>\n",
       "      <td>-15.6278</td>\n",
       "      <td>2023-05-10</td>\n",
       "    </tr>\n",
       "    <tr>\n",
       "      <th>3</th>\n",
       "      <td>earthquake</td>\n",
       "      <td>7.6</td>\n",
       "      <td>Pulau Pulau Tanimbar, Indonesia</td>\n",
       "      <td>1673286455037</td>\n",
       "      <td>130.0090</td>\n",
       "      <td>-7.0586</td>\n",
       "      <td>2023-01-09</td>\n",
       "    </tr>\n",
       "    <tr>\n",
       "      <th>4</th>\n",
       "      <td>earthquake</td>\n",
       "      <td>7.5</td>\n",
       "      <td>Elbistan earthquake, Kahramanmaras earthquake ...</td>\n",
       "      <td>1675679088811</td>\n",
       "      <td>37.1962</td>\n",
       "      <td>38.0106</td>\n",
       "      <td>2023-02-06</td>\n",
       "    </tr>\n",
       "  </tbody>\n",
       "</table>\n",
       "</div>"
      ],
      "text/plain": [
       "         Type  Mag                                              Place  \\\n",
       "0  earthquake  7.8  Pazarcik earthquake, Kahramanmaras earthquake ...   \n",
       "1  earthquake  7.7                   southeast of the Loyalty Islands   \n",
       "2  earthquake  7.6                         82 km WNW of Hihifo, Tonga   \n",
       "3  earthquake  7.6                    Pulau Pulau Tanimbar, Indonesia   \n",
       "4  earthquake  7.5  Elbistan earthquake, Kahramanmaras earthquake ...   \n",
       "\n",
       "            Time      Long      Lat Datumsangaben  \n",
       "0  1675646254342   37.0143  37.2256    2023-02-06  \n",
       "1  1684465023172  170.7423 -23.2063    2023-05-19  \n",
       "2  1683734520334 -174.4925 -15.6278    2023-05-10  \n",
       "3  1673286455037  130.0090  -7.0586    2023-01-09  \n",
       "4  1675679088811   37.1962  38.0106    2023-02-06  "
      ]
     },
     "execution_count": 144,
     "metadata": {},
     "output_type": "execute_result"
    }
   ],
   "source": [
    "df"
   ]
  },
  {
   "cell_type": "markdown",
   "metadata": {},
   "source": [
    "# ChatGPT und Fehler"
   ]
  },
  {
   "cell_type": "code",
   "execution_count": 145,
   "metadata": {},
   "outputs": [],
   "source": [
    "import requests\n",
    "import pandas as pd\n",
    "import datetime"
   ]
  },
  {
   "cell_type": "code",
   "execution_count": 147,
   "metadata": {},
   "outputs": [],
   "source": [
    "url = 'https://earthquake.usgs.gov/fdsnws/event/1/query?format=geojson&'\n",
    "orderby = '&orderby=magnitude'\n",
    "limit = '&limit=5'\n",
    "urlzeit = '&starttime=2022-12-31T22:00:00&endtime=2023-12-31T22:00:00'\n",
    "r = requests.get(url+orderby+limit+ urlzeit)\n",
    "r = r.json()['features']\n",
    "#minmax = \"&minmagnitude=6.5\"\n"
   ]
  },
  {
   "cell_type": "code",
   "execution_count": null,
   "metadata": {},
   "outputs": [],
   "source": [
    "erdbeben = []\n",
    "for elem in r.json()[\"features\"]:\n",
    "    m = elem[\"properties\"][\"mag\"]\n",
    "    t = elem[\"properties\"][\"time\"]\n",
    "    p = elem[\"properties\"][\"place\"]\n",
    "    mini_dict = {\"Time\": t,\n",
    "                 \"Mag\": m,\n",
    "                 \"Place\": p}\n",
    "    erdbeben.append(mini_dict)"
   ]
  }
 ],
 "metadata": {
  "kernelspec": {
   "display_name": "Python 3 (ipykernel)",
   "language": "python",
   "name": "python3"
  },
  "language_info": {
   "codemirror_mode": {
    "name": "ipython",
    "version": 3
   },
   "file_extension": ".py",
   "mimetype": "text/x-python",
   "name": "python",
   "nbconvert_exporter": "python",
   "pygments_lexer": "ipython3",
   "version": "3.8.17"
  }
 },
 "nbformat": 4,
 "nbformat_minor": 2
}
