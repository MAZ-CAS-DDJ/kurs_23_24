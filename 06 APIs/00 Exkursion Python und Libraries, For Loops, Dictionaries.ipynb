{
 "cells": [
  {
   "cell_type": "markdown",
   "metadata": {},
   "source": [
    "**Python vs Python Module**"
   ]
  },
  {
   "cell_type": "markdown",
   "metadata": {},
   "source": [
    "FRAGE AUS DER KLASSE: Sind Regular Expression denn überhaupt Python? [Beispiel Regular Expression](https://docs.python.org/3/library/re.html). Und weiter zur Dokumentation [auf Github](https://github.com/python/cpython/blob/3.10/Lib/re.py). "
   ]
  },
  {
   "cell_type": "markdown",
   "metadata": {},
   "source": [
    "**For Loops:: Übungen**"
   ]
  },
  {
   "cell_type": "markdown",
   "metadata": {},
   "source": [
    "Listen sind die gängigste Mittel, um einen For Loop zu bauen. Aber es dasselbe ist genauso mit Tuples oder Dictionaries möglich. Hier eine kleine Aufgabe: Drucke die Nummern, die folgende Vorrausetzungen erfüllen, mit Hilfe eines For Loops aus:"
   ]
  },
  {
   "cell_type": "code",
   "execution_count": 1,
   "metadata": {},
   "outputs": [],
   "source": [
    "lst = list(range(100))"
   ]
  },
  {
   "cell_type": "markdown",
   "metadata": {},
   "source": [
    "1. Teilbar durch 5"
   ]
  },
  {
   "cell_type": "code",
   "execution_count": 3,
   "metadata": {},
   "outputs": [
    {
     "name": "stdout",
     "output_type": "stream",
     "text": [
      "0\n",
      "5\n",
      "10\n",
      "15\n",
      "20\n",
      "25\n",
      "30\n",
      "35\n",
      "40\n",
      "45\n",
      "50\n",
      "55\n",
      "60\n",
      "65\n",
      "70\n",
      "75\n",
      "80\n",
      "85\n",
      "90\n",
      "95\n"
     ]
    }
   ],
   "source": [
    "for number in lst:\n",
    "    if number %5 == 0:\n",
    "        print(number)"
   ]
  },
  {
   "cell_type": "code",
   "execution_count": 4,
   "metadata": {},
   "outputs": [
    {
     "name": "stdout",
     "output_type": "stream",
     "text": [
      "[0, 5, 10, 15, 20, 25, 30, 35, 40, 45, 50, 55, 60, 65, 70, 75, 80, 85, 90, 95]\n"
     ]
    }
   ],
   "source": [
    "zahlen = []\n",
    "\n",
    "for zahl in lst:\n",
    "    if zahl % 5 == 0:\n",
    "        zahlen.append(zahl)\n",
    "    else:\n",
    "        continue\n",
    "print (zahlen)"
   ]
  },
  {
   "cell_type": "markdown",
   "metadata": {},
   "source": [
    "2. Alle Nummern, die NICHT durch 3 teilbar sind"
   ]
  },
  {
   "cell_type": "code",
   "execution_count": 5,
   "metadata": {
    "scrolled": true
   },
   "outputs": [
    {
     "name": "stdout",
     "output_type": "stream",
     "text": [
      "1\n",
      "2\n",
      "4\n",
      "5\n",
      "7\n",
      "8\n",
      "10\n",
      "11\n",
      "13\n",
      "14\n",
      "16\n",
      "17\n",
      "19\n",
      "20\n",
      "22\n",
      "23\n",
      "25\n",
      "26\n",
      "28\n",
      "29\n",
      "31\n",
      "32\n",
      "34\n",
      "35\n",
      "37\n",
      "38\n",
      "40\n",
      "41\n",
      "43\n",
      "44\n",
      "46\n",
      "47\n",
      "49\n",
      "50\n",
      "52\n",
      "53\n",
      "55\n",
      "56\n",
      "58\n",
      "59\n",
      "61\n",
      "62\n",
      "64\n",
      "65\n",
      "67\n",
      "68\n",
      "70\n",
      "71\n",
      "73\n",
      "74\n",
      "76\n",
      "77\n",
      "79\n",
      "80\n",
      "82\n",
      "83\n",
      "85\n",
      "86\n",
      "88\n",
      "89\n",
      "91\n",
      "92\n",
      "94\n",
      "95\n",
      "97\n",
      "98\n"
     ]
    }
   ],
   "source": [
    "for number in lst:\n",
    "    if number %3 != 0:\n",
    "        print(number)"
   ]
  },
  {
   "cell_type": "markdown",
   "metadata": {},
   "source": [
    "**Dictionaries**"
   ]
  },
  {
   "cell_type": "code",
   "execution_count": null,
   "metadata": {},
   "outputs": [],
   "source": [
    "LIST = [1,2,\"drei\"]\n",
    "DICTIONARY = {\"Animal\": \"Cat\", \"Size\": 50, \"Farbe\": \"Black\"}"
   ]
  },
  {
   "cell_type": "markdown",
   "metadata": {},
   "source": [
    "Vergleich Dictionary und Liste"
   ]
  },
  {
   "cell_type": "markdown",
   "metadata": {},
   "source": [
    "What they have in common\n",
    "\n",
    "- Both are mutable.\n",
    "- Both are dynamic. They can grow and shrink as needed.\n",
    "- Both can be nested. A list can contain another list. A dictionary can contain another dictionary. A dictionary can also contain a list, and vice versa.\n",
    "\n",
    "What they don't have in common\n",
    "\n",
    "- List elements are accessed by their position in the list, via indexing.\n",
    "- Dictionary elements are accessed via keys."
   ]
  },
  {
   "cell_type": "markdown",
   "metadata": {},
   "source": [
    "Kompliziert wird es, wenn Lists und Dictionaries nested sind:"
   ]
  },
  {
   "cell_type": "code",
   "execution_count": 7,
   "metadata": {},
   "outputs": [],
   "source": [
    "LIST_NESTED = [1,2,\"drei\", [3, 4, \"fünf\", 5, 8, 10]]\n",
    "DICTIONARY = {\"Animal\": \"Cat\", \"Size\": 50, \"Farbe\": \"Black\", \"Namen\": [{\"Name\": \"Kitekat\"}, {\"Name\":\"Tomcat\"}]}"
   ]
  },
  {
   "cell_type": "markdown",
   "metadata": {},
   "source": [
    "Wie kannst Du direkt auf bestimmte Werte zugreifen in der Liste und im Dictionary"
   ]
  },
  {
   "cell_type": "markdown",
   "metadata": {},
   "source": [
    "Auf den Wert \"fünf\" in der Liste:"
   ]
  },
  {
   "cell_type": "code",
   "execution_count": 13,
   "metadata": {},
   "outputs": [
    {
     "data": {
      "text/plain": [
       "[2, 'drei', [3, 4, 'fünf', 5, 8, 10]]"
      ]
     },
     "execution_count": 13,
     "metadata": {},
     "output_type": "execute_result"
    }
   ],
   "source": [
    "LIST_NESTED["
   ]
  },
  {
   "cell_type": "code",
   "execution_count": 10,
   "metadata": {},
   "outputs": [
    {
     "name": "stdout",
     "output_type": "stream",
     "text": [
      "fünf\n"
     ]
    }
   ],
   "source": [
    "#print(LIST_NESTED[3])\n",
    "unterliste = LIST_NESTED[3]\n",
    "print (unterliste[2])"
   ]
  },
  {
   "cell_type": "markdown",
   "metadata": {},
   "source": [
    "Auf den Wert \"Kitekat\" in der Liste:"
   ]
  },
  {
   "cell_type": "code",
   "execution_count": 14,
   "metadata": {},
   "outputs": [
    {
     "name": "stdout",
     "output_type": "stream",
     "text": [
      "Kitekat\n"
     ]
    }
   ],
   "source": [
    "print(DICTIONARY[\"Namen\"][0][\"Name\"])"
   ]
  },
  {
   "cell_type": "code",
   "execution_count": 15,
   "metadata": {},
   "outputs": [
    {
     "data": {
      "text/plain": [
       "{'Animal': 'Cat',\n",
       " 'Size': 50,\n",
       " 'Farbe': 'Black',\n",
       " 'Namen': [{'Name': 'Kitekat'}, {'Name': 'Tomcat'}]}"
      ]
     },
     "execution_count": 15,
     "metadata": {},
     "output_type": "execute_result"
    }
   ],
   "source": [
    "DICTIONARY"
   ]
  },
  {
   "cell_type": "code",
   "execution_count": 26,
   "metadata": {},
   "outputs": [
    {
     "data": {
      "text/plain": [
       "list"
      ]
     },
     "execution_count": 26,
     "metadata": {},
     "output_type": "execute_result"
    }
   ],
   "source": [
    "type(DICTIONARY[\"Namen\"])"
   ]
  },
  {
   "cell_type": "code",
   "execution_count": 19,
   "metadata": {},
   "outputs": [
    {
     "data": {
      "text/plain": [
       "{'Name': 'Kitekat'}"
      ]
     },
     "execution_count": 19,
     "metadata": {},
     "output_type": "execute_result"
    }
   ],
   "source": [
    "DICTIONARY[\"Namen\"][0]"
   ]
  },
  {
   "cell_type": "code",
   "execution_count": 18,
   "metadata": {},
   "outputs": [
    {
     "data": {
      "text/plain": [
       "'Kitekat'"
      ]
     },
     "execution_count": 18,
     "metadata": {},
     "output_type": "execute_result"
    }
   ],
   "source": [
    "DICTIONARY[\"Namen\"][0]['Name']"
   ]
  },
  {
   "cell_type": "code",
   "execution_count": 23,
   "metadata": {},
   "outputs": [],
   "source": [
    "dictionaries = [{'Name': 'Kitekat'}, {'Name': 'Tomcat'}]"
   ]
  },
  {
   "cell_type": "code",
   "execution_count": 24,
   "metadata": {},
   "outputs": [
    {
     "data": {
      "text/plain": [
       "list"
      ]
     },
     "execution_count": 24,
     "metadata": {},
     "output_type": "execute_result"
    }
   ],
   "source": [
    "type(dictionaries)"
   ]
  },
  {
   "cell_type": "code",
   "execution_count": 25,
   "metadata": {},
   "outputs": [
    {
     "data": {
      "text/plain": [
       "dict"
      ]
     },
     "execution_count": 25,
     "metadata": {},
     "output_type": "execute_result"
    }
   ],
   "source": [
    "type(dictionaries[0])"
   ]
  },
  {
   "cell_type": "code",
   "execution_count": 27,
   "metadata": {},
   "outputs": [],
   "source": [
    "import pandas as pd"
   ]
  },
  {
   "cell_type": "code",
   "execution_count": 31,
   "metadata": {},
   "outputs": [
    {
     "data": {
      "text/html": [
       "<div>\n",
       "<style scoped>\n",
       "    .dataframe tbody tr th:only-of-type {\n",
       "        vertical-align: middle;\n",
       "    }\n",
       "\n",
       "    .dataframe tbody tr th {\n",
       "        vertical-align: top;\n",
       "    }\n",
       "\n",
       "    .dataframe thead th {\n",
       "        text-align: right;\n",
       "    }\n",
       "</style>\n",
       "<table border=\"1\" class=\"dataframe\">\n",
       "  <thead>\n",
       "    <tr style=\"text-align: right;\">\n",
       "      <th></th>\n",
       "      <th>Name</th>\n",
       "      <th>Nachname</th>\n",
       "    </tr>\n",
       "  </thead>\n",
       "  <tbody>\n",
       "    <tr>\n",
       "      <th>0</th>\n",
       "      <td>Kitekat</td>\n",
       "      <td>Freddie</td>\n",
       "    </tr>\n",
       "    <tr>\n",
       "      <th>1</th>\n",
       "      <td>Rosie</td>\n",
       "      <td>Freddie</td>\n",
       "    </tr>\n",
       "  </tbody>\n",
       "</table>\n",
       "</div>"
      ],
      "text/plain": [
       "      Name Nachname\n",
       "0  Kitekat  Freddie\n",
       "1    Rosie  Freddie"
      ]
     },
     "execution_count": 31,
     "metadata": {},
     "output_type": "execute_result"
    }
   ],
   "source": [
    "pd.DataFrame([{'Name': 'Kitekat', 'Nachname':'Freddie'},\n",
    "             {'Name': 'Rosie', 'Nachname':'Freddie'}])"
   ]
  },
  {
   "cell_type": "code",
   "execution_count": null,
   "metadata": {},
   "outputs": [],
   "source": [
    "{'Name': 'Kitekat', 'Nachname':'Freddie', 'Geschlect': \"XXXX\", }"
   ]
  }
 ],
 "metadata": {
  "kernelspec": {
   "display_name": "Python 3 (ipykernel)",
   "language": "python",
   "name": "python3"
  },
  "language_info": {
   "codemirror_mode": {
    "name": "ipython",
    "version": 3
   },
   "file_extension": ".py",
   "mimetype": "text/x-python",
   "name": "python",
   "nbconvert_exporter": "python",
   "pygments_lexer": "ipython3",
   "version": "3.9.7"
  }
 },
 "nbformat": 4,
 "nbformat_minor": 2
}
