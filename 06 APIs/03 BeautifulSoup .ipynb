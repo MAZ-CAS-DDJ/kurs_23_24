{
 "cells": [
  {
   "cell_type": "markdown",
   "metadata": {},
   "source": [
    "# Einführung in BeautifulSoup, einlesen von Files"
   ]
  },
  {
   "cell_type": "markdown",
   "metadata": {},
   "source": [
    "Und als aller Erstes wollen wir die Developer Tools kennenlernen:\n",
    "\n",
    "- Gehen wir auf: www.srf.ch.\n",
    "- Öffnen den Chrome Browser. Die Developer Tools findest DU im Menü unter More Tools -> Developer Tools. Shortcuts: F12, Str-Ctr-I oder Cmd + Opt + I (alle Browser die Dev Tools, wir fokussieren hier auf den Chrome Browser) \n",
    "- Der Reiter, der uns interessiert, ist: “Elements”. Steuere ihn an.\n",
    "- Wir können hier zwischen Mobilansicht und Desktop wechseln\n",
    "- Oder Elemente auf der Website suchen. Wähle den Pfeil an. Und suche nun etwas auf der Website. \n",
    "- Hier können wir auch Texte manipulieren, teste es auf www.srf.ch. \n",
    "- Aber das interessiert uns nicht. Wir wollen die Struktur der Website kennenlernen. Vertiefen wir uns eine Weile in diese Struktur. Je besser wir sie kennen, desto einfacher ist es, Daten auszulesen.\n",
    "- Das sollte euch nun etwas bekannter vorkommen. Ihr habt eben selber solche Zeilen geschrieben. "
   ]
  },
  {
   "cell_type": "markdown",
   "metadata": {},
   "source": [
    "Gehen wir zurück zu dem File, den ihr eben selber bearbeitet habt. Zuerst müssen wir das File einlesen."
   ]
  },
  {
   "cell_type": "code",
   "execution_count": 3,
   "metadata": {},
   "outputs": [],
   "source": [
    "file = open('HTML Code.htm', 'r')"
   ]
  },
  {
   "cell_type": "code",
   "execution_count": 4,
   "metadata": {},
   "outputs": [
    {
     "data": {
      "text/plain": [
       "'<h1> Anatomie einer Website</h1>\\n\\n<!doctype html>\\n<html lang=\"de\">\\n\\n<head>\\n    <title>Hier steht mein Titel</title>\\n</head>\\n\\n<body style=\"color:blue;\">\\n    <h2>Das ist die erste Überschrift</h2>\\n    <p>Hier steht der Einleitungstext meiner Website. </p>\\n    <ul>\\n    <li>Erster Listenpunkt</li>\\n    <li>Zweiter Listenpunkt</li>\\n    <li>Dritter Listenpunkt</li>\\n    <li>Vierter Listenpunkt</li>\\n</body style=\"color:blue;\">\\n</ul>\\n<body>\\n<h2>Das ist die zweite Überschrift</h2>\\n<p style=\"color:red;\">Hier steht der Einleitungstext meiner Website. </p>\\n<ul>\\n<li>Erster Listenpunkt</li>\\n<li>Zweiter Listenpunkt</li>\\n<li>Dritter Listenpunkt</li>\\n<li>Vierter Listenpunkt</li>\\n</body>\\n<body style=\"color:red;\">\\n</ul>\\n<h2>Das ist die dritte Überschrift</h2>\\n<p>Hier steht der Einleitungstext meiner Website. </p>\\n<ul>\\n<li>Erster Listenpunkt</li>\\n<li>Zweiter Listenpunkt</li>\\n<li>Dritter Listenpunkt</li>\\n<li>Vierter Listenpunkt</li>\\n</body>\\n'"
      ]
     },
     "execution_count": 4,
     "metadata": {},
     "output_type": "execute_result"
    }
   ],
   "source": [
    "file.read()"
   ]
  },
  {
   "cell_type": "markdown",
   "metadata": {},
   "source": [
    "```open``` ist eine eingebaute Funktion von Python. Ihr findet hier [eine Zusammenstellung](https://docs.python.org/2/library/functions.html) all dieser Funktionen. Es gibt neben ```r```und ```w``` noch die Binary modi. ```rb```und ```wb```. Binary heisst, dass der Computer sich die Buchstaben im Format abspeichert, der ihm am besten liegt. 0 und 1. E = 01000101, F = 01000110, ihr findet mehr [hier](http://sticksandstones.kstrom.com/appen.html) (allerdings Python 2) und mehr [hier](https://docs.python.org/3/tutorial/inputoutput.html)."
   ]
  },
  {
   "cell_type": "code",
   "execution_count": 5,
   "metadata": {},
   "outputs": [],
   "source": [
    "file2 = open('testingopen.txt', 'w')"
   ]
  },
  {
   "cell_type": "markdown",
   "metadata": {},
   "source": [
    "Oben seht ihr das Ergebnis, wenn ihr ein File schreibt. Im selben Ordner wie dieses Jupyter Notebook erscheint nun eben dieses file2. Das einfach der vollständigkeitshalber."
   ]
  },
  {
   "cell_type": "code",
   "execution_count": 6,
   "metadata": {},
   "outputs": [
    {
     "data": {
      "text/plain": [
       "''"
      ]
     },
     "execution_count": 6,
     "metadata": {},
     "output_type": "execute_result"
    }
   ],
   "source": [
    "file.read()"
   ]
  },
  {
   "cell_type": "code",
   "execution_count": 7,
   "metadata": {},
   "outputs": [],
   "source": [
    "text = file.read()"
   ]
  },
  {
   "cell_type": "code",
   "execution_count": 9,
   "metadata": {},
   "outputs": [],
   "source": [
    "file = open('HTML Code.htm', 'r')"
   ]
  },
  {
   "cell_type": "code",
   "execution_count": 10,
   "metadata": {},
   "outputs": [
    {
     "data": {
      "text/plain": [
       "'<h1> Anatomie einer Website</h1>\\n'"
      ]
     },
     "execution_count": 10,
     "metadata": {},
     "output_type": "execute_result"
    }
   ],
   "source": [
    "file.readline()"
   ]
  },
  {
   "cell_type": "code",
   "execution_count": 12,
   "metadata": {},
   "outputs": [
    {
     "data": {
      "text/plain": [
       "'<h1> Anatomie einer Website</h1>\\n\\n<!doctype html>\\n<html lang=\"de\">\\n\\n<head>\\n    <title>Hier steht mein Titel</title>\\n</head>\\n\\n<body style=\"color:blue;\">\\n    <h2>Das ist die erste Überschrift</h2>\\n    <p>Hier steht der Einleitungstext meiner Website. </p>\\n    <ul>\\n    <li>Erster Listenpunkt</li>\\n    <li>Zweiter Listenpunkt</li>\\n    <li>Dritter Listenpunkt</li>\\n    <li>Vierter Listenpunkt</li>\\n</body style=\"color:blue;\">\\n</ul>\\n<body>\\n<h2>Das ist die zweite Überschrift</h2>\\n<p style=\"color:red;\">Hier steht der Einleitungstext meiner Website. </p>\\n<ul>\\n<li>Erster Listenpunkt</li>\\n<li>Zweiter Listenpunkt</li>\\n<li>Dritter Listenpunkt</li>\\n<li>Vierter Listenpunkt</li>\\n</body>\\n<body style=\"color:red;\">\\n</ul>\\n<h2>Das ist die dritte Überschrift</h2>\\n<p>Hier steht der Einleitungstext meiner Website. </p>\\n<ul>\\n<li>Erster Listenpunkt</li>\\n<li>Zweiter Listenpunkt</li>\\n<li>Dritter Listenpunkt</li>\\n<li>Vierter Listenpunkt</li>\\n</body>\\n'"
      ]
     },
     "execution_count": 12,
     "metadata": {},
     "output_type": "execute_result"
    }
   ],
   "source": [
    "#Das sieht aber nicht sehr schön aus\n",
    "file = open('HTML Code.htm', 'r')\n",
    "text = file.read()\n",
    "text"
   ]
  },
  {
   "cell_type": "code",
   "execution_count": 13,
   "metadata": {},
   "outputs": [
    {
     "data": {
      "text/plain": [
       "'<h1> Anatomie einer Website</h1>\\n\\n<!doctype html>\\n<html lang=\"de\">\\n\\n<head>\\n    <title>Hier steht mein Titel</title>\\n</head>\\n\\n<body style=\"color:blue;\">\\n    <h2>Das ist die erste Überschrift</h2>\\n    <p>Hier steht der Einleitungstext meiner Website. </p>\\n    <ul>\\n    <li>Erster Listenpunkt</li>\\n    <li>Zweiter Listenpunkt</li>\\n    <li>Dritter Listenpunkt</li>\\n    <li>Vierter Listenpunkt</li>\\n</body style=\"color:blue;\">\\n</ul>\\n<body>\\n<h2>Das ist die zweite Überschrift</h2>\\n<p style=\"color:red;\">Hier steht der Einleitungstext meiner Website. </p>\\n<ul>\\n<li>Erster Listenpunkt</li>\\n<li>Zweiter Listenpunkt</li>\\n<li>Dritter Listenpunkt</li>\\n<li>Vierter Listenpunkt</li>\\n</body>\\n<body style=\"color:red;\">\\n</ul>\\n<h2>Das ist die dritte Überschrift</h2>\\n<p>Hier steht der Einleitungstext meiner Website. </p>\\n<ul>\\n<li>Erster Listenpunkt</li>\\n<li>Zweiter Listenpunkt</li>\\n<li>Dritter Listenpunkt</li>\\n<li>Vierter Listenpunkt</li>\\n</body>\\n'"
      ]
     },
     "execution_count": 13,
     "metadata": {},
     "output_type": "execute_result"
    }
   ],
   "source": [
    "text"
   ]
  },
  {
   "cell_type": "markdown",
   "metadata": {},
   "source": [
    "Mit BeautifulSoup kann man HTML-Sites in eine Form bringen, die es uns Menschen wieder einfacher macht, die Inhalte zu lesen. Wir beginnne wir immer, indem wir die Library installieren. Und dann importieren wir die Library. [Schauen wir uns die Dokumentation an.](https://www.crummy.com/software/BeautifulSoup/bs4/doc/)"
   ]
  },
  {
   "cell_type": "code",
   "execution_count": 14,
   "metadata": {},
   "outputs": [],
   "source": [
    "from bs4 import BeautifulSoup"
   ]
  },
  {
   "cell_type": "code",
   "execution_count": 15,
   "metadata": {},
   "outputs": [],
   "source": [
    "soup = BeautifulSoup(text, \"html.parser\")"
   ]
  },
  {
   "cell_type": "code",
   "execution_count": 16,
   "metadata": {},
   "outputs": [
    {
     "data": {
      "text/plain": [
       "<h2>Das ist die erste Überschrift</h2>"
      ]
     },
     "execution_count": 16,
     "metadata": {},
     "output_type": "execute_result"
    }
   ],
   "source": [
    "soup.find('h2')"
   ]
  },
  {
   "cell_type": "code",
   "execution_count": 17,
   "metadata": {},
   "outputs": [
    {
     "data": {
      "text/plain": [
       "[<h2>Das ist die erste Überschrift</h2>,\n",
       " <h2>Das ist die zweite Überschrift</h2>,\n",
       " <h2>Das ist die dritte Überschrift</h2>]"
      ]
     },
     "execution_count": 17,
     "metadata": {},
     "output_type": "execute_result"
    }
   ],
   "source": [
    "soup.find_all('h2')"
   ]
  },
  {
   "cell_type": "code",
   "execution_count": 18,
   "metadata": {},
   "outputs": [],
   "source": [
    "#Bauen wir eine neue Liste\n",
    "new_lst = []\n",
    "for elem in soup.find_all('h2'):\n",
    "    new_lst.append(elem.text)"
   ]
  },
  {
   "cell_type": "code",
   "execution_count": 19,
   "metadata": {},
   "outputs": [
    {
     "data": {
      "text/plain": [
       "['Das ist die erste Überschrift',\n",
       " 'Das ist die zweite Überschrift',\n",
       " 'Das ist die dritte Überschrift']"
      ]
     },
     "execution_count": 19,
     "metadata": {},
     "output_type": "execute_result"
    }
   ],
   "source": [
    "new_lst"
   ]
  },
  {
   "cell_type": "code",
   "execution_count": 20,
   "metadata": {},
   "outputs": [],
   "source": [
    "#Bauen wir eine Liste von Dictionaries\n",
    "new_lst = []\n",
    "for elem in soup.find_all('h2'):\n",
    "    mini_dict = {'Überschrift':elem.text}\n",
    "    new_lst.append(mini_dict)"
   ]
  },
  {
   "cell_type": "code",
   "execution_count": 21,
   "metadata": {},
   "outputs": [],
   "source": [
    "import pandas as pd"
   ]
  },
  {
   "cell_type": "code",
   "execution_count": 22,
   "metadata": {},
   "outputs": [
    {
     "data": {
      "text/html": [
       "<div>\n",
       "<style scoped>\n",
       "    .dataframe tbody tr th:only-of-type {\n",
       "        vertical-align: middle;\n",
       "    }\n",
       "\n",
       "    .dataframe tbody tr th {\n",
       "        vertical-align: top;\n",
       "    }\n",
       "\n",
       "    .dataframe thead th {\n",
       "        text-align: right;\n",
       "    }\n",
       "</style>\n",
       "<table border=\"1\" class=\"dataframe\">\n",
       "  <thead>\n",
       "    <tr style=\"text-align: right;\">\n",
       "      <th></th>\n",
       "      <th>Überschrift</th>\n",
       "    </tr>\n",
       "  </thead>\n",
       "  <tbody>\n",
       "    <tr>\n",
       "      <th>0</th>\n",
       "      <td>Das ist die erste Überschrift</td>\n",
       "    </tr>\n",
       "    <tr>\n",
       "      <th>1</th>\n",
       "      <td>Das ist die zweite Überschrift</td>\n",
       "    </tr>\n",
       "    <tr>\n",
       "      <th>2</th>\n",
       "      <td>Das ist die dritte Überschrift</td>\n",
       "    </tr>\n",
       "  </tbody>\n",
       "</table>\n",
       "</div>"
      ],
      "text/plain": [
       "                      Überschrift\n",
       "0   Das ist die erste Überschrift\n",
       "1  Das ist die zweite Überschrift\n",
       "2  Das ist die dritte Überschrift"
      ]
     },
     "execution_count": 22,
     "metadata": {},
     "output_type": "execute_result"
    }
   ],
   "source": [
    "pd.DataFrame(new_lst)"
   ]
  },
  {
   "cell_type": "markdown",
   "metadata": {},
   "source": [
    "## Gehen wir auf eine Seite mit mehr INhalt, aber immer noch sehr strukturiert: Ein RSS-Feed\n",
    "Was wir hier haben, ist die aktuelle Ausbuchung der Parkplätze in der Stadt Zürich. Sie werden von der Stadt in einem RSS Feed abgeboten. Schauen wir uns den [Link einmal an](http://www.plszh.ch/plsFeed/rss). Nicht sehr lesbar, aber äusserst strukturiert. Lesen wir die Plätze aus."
   ]
  },
  {
   "cell_type": "code",
   "execution_count": 23,
   "metadata": {},
   "outputs": [],
   "source": [
    "import requests"
   ]
  },
  {
   "cell_type": "code",
   "execution_count": 24,
   "metadata": {},
   "outputs": [],
   "source": [
    "r = requests.get('https://www.pls-zh.ch/plsFeed/rss') #Besuchen wir die URL"
   ]
  },
  {
   "cell_type": "code",
   "execution_count": 25,
   "metadata": {},
   "outputs": [
    {
     "data": {
      "text/plain": [
       "37"
      ]
     },
     "execution_count": 25,
     "metadata": {},
     "output_type": "execute_result"
    }
   ],
   "source": [
    "contents = r.text #Wandeln wir den Text in ein Format um, mit dem BeautifulSoup umgehen kann.\n",
    "soup = BeautifulSoup(contents,\"html.parser\") #Geben wir das an BeautifulSoup weiter\n",
    "titles = soup.find_all('title') #Nun lesen wir Titel aus.\n",
    "len(titles) #Schauen wir, wie lange die Titel sind."
   ]
  },
  {
   "cell_type": "code",
   "execution_count": 26,
   "metadata": {},
   "outputs": [
    {
     "data": {
      "text/plain": [
       "<title>FEED Parkleitsystem Stadt Zürich</title>"
      ]
     },
     "execution_count": 26,
     "metadata": {},
     "output_type": "execute_result"
    }
   ],
   "source": [
    "titles[0] "
   ]
  },
  {
   "cell_type": "code",
   "execution_count": 27,
   "metadata": {},
   "outputs": [
    {
     "data": {
      "text/plain": [
       "<title>Parkhaus Accu / Otto-Schütz-Weg</title>"
      ]
     },
     "execution_count": 27,
     "metadata": {},
     "output_type": "execute_result"
    }
   ],
   "source": [
    "titles[1]"
   ]
  },
  {
   "cell_type": "code",
   "execution_count": 28,
   "metadata": {},
   "outputs": [
    {
     "data": {
      "text/plain": [
       "'Parkhaus Albisriederplatz / Badenerstrasse 380'"
      ]
     },
     "execution_count": 28,
     "metadata": {},
     "output_type": "execute_result"
    }
   ],
   "source": [
    "titles[2].text"
   ]
  },
  {
   "cell_type": "code",
   "execution_count": 29,
   "metadata": {},
   "outputs": [
    {
     "data": {
      "text/plain": [
       "<description>open /  157</description>"
      ]
     },
     "execution_count": 29,
     "metadata": {},
     "output_type": "execute_result"
    }
   ],
   "source": [
    "descr = soup.find_all('description')\n",
    "descr[1]"
   ]
  },
  {
   "cell_type": "code",
   "execution_count": 30,
   "metadata": {},
   "outputs": [],
   "source": [
    "#Bauen wir die eigene Liste\n",
    "lst = []\n",
    "for garage,b in zip(titles,descr):\n",
    "    \n",
    "    mini_dict = {'Parkgarage':garage.text,\n",
    "                 'Descr':b.text}\n",
    "    \n",
    "    lst.append(mini_dict)"
   ]
  },
  {
   "cell_type": "code",
   "execution_count": 31,
   "metadata": {},
   "outputs": [
    {
     "data": {
      "text/html": [
       "<div>\n",
       "<style scoped>\n",
       "    .dataframe tbody tr th:only-of-type {\n",
       "        vertical-align: middle;\n",
       "    }\n",
       "\n",
       "    .dataframe tbody tr th {\n",
       "        vertical-align: top;\n",
       "    }\n",
       "\n",
       "    .dataframe thead th {\n",
       "        text-align: right;\n",
       "    }\n",
       "</style>\n",
       "<table border=\"1\" class=\"dataframe\">\n",
       "  <thead>\n",
       "    <tr style=\"text-align: right;\">\n",
       "      <th></th>\n",
       "      <th>Parkgarage</th>\n",
       "      <th>Descr</th>\n",
       "    </tr>\n",
       "  </thead>\n",
       "  <tbody>\n",
       "    <tr>\n",
       "      <th>0</th>\n",
       "      <td>FEED Parkleitsystem Stadt Zürich</td>\n",
       "      <td>https://www.pls-zh.ch/plsFeed/rss/?type=rss_0....</td>\n",
       "    </tr>\n",
       "    <tr>\n",
       "      <th>1</th>\n",
       "      <td>Parkhaus Accu / Otto-Schütz-Weg</td>\n",
       "      <td>open /  157</td>\n",
       "    </tr>\n",
       "    <tr>\n",
       "      <th>2</th>\n",
       "      <td>Parkhaus Albisriederplatz / Badenerstrasse 380</td>\n",
       "      <td>open /   12</td>\n",
       "    </tr>\n",
       "    <tr>\n",
       "      <th>3</th>\n",
       "      <td>Parkhaus Bleicherweg / Beethovenstrasse 35</td>\n",
       "      <td>open /   85</td>\n",
       "    </tr>\n",
       "    <tr>\n",
       "      <th>4</th>\n",
       "      <td>Parkhaus Center Eleven / Sophie-Täuber-Strasse 4</td>\n",
       "      <td>open /  194</td>\n",
       "    </tr>\n",
       "  </tbody>\n",
       "</table>\n",
       "</div>"
      ],
      "text/plain": [
       "                                         Parkgarage  \\\n",
       "0                  FEED Parkleitsystem Stadt Zürich   \n",
       "1                   Parkhaus Accu / Otto-Schütz-Weg   \n",
       "2    Parkhaus Albisriederplatz / Badenerstrasse 380   \n",
       "3        Parkhaus Bleicherweg / Beethovenstrasse 35   \n",
       "4  Parkhaus Center Eleven / Sophie-Täuber-Strasse 4   \n",
       "\n",
       "                                               Descr  \n",
       "0  https://www.pls-zh.ch/plsFeed/rss/?type=rss_0....  \n",
       "1                                        open /  157  \n",
       "2                                        open /   12  \n",
       "3                                        open /   85  \n",
       "4                                        open /  194  "
      ]
     },
     "execution_count": 31,
     "metadata": {},
     "output_type": "execute_result"
    }
   ],
   "source": [
    "pd.DataFrame(lst).head()"
   ]
  },
  {
   "cell_type": "markdown",
   "metadata": {},
   "source": [
    "# Gehen wir zur [Übung 3](https://github.com/MAZ-CAS-DDJ/kurs_18_19/blob/master/06%20APIs%2C%20Scraping%20I/%C3%9Cbung3.ipynb)"
   ]
  },
  {
   "cell_type": "markdown",
   "metadata": {},
   "source": [
    "# Komplexere Websites"
   ]
  },
  {
   "cell_type": "code",
   "execution_count": 32,
   "metadata": {},
   "outputs": [],
   "source": [
    "import requests\n",
    "from bs4 import BeautifulSoup\n",
    "import pandas as pd\n",
    "#laden wir die Frontpage von Watson\n",
    "r = requests.get('https://www.watson.ch')\n",
    "contents = r.text #Wir lesen den Inhalt aus\n",
    "soup = BeautifulSoup(contents,\"html.parser\")"
   ]
  },
  {
   "cell_type": "code",
   "execution_count": 33,
   "metadata": {},
   "outputs": [],
   "source": [
    "#Ziehen wir die Titel raus\n",
    "titelliste = soup.find_all('a')"
   ]
  },
  {
   "cell_type": "code",
   "execution_count": 34,
   "metadata": {},
   "outputs": [
    {
     "data": {
      "text/plain": [
       "296"
      ]
     },
     "execution_count": 34,
     "metadata": {},
     "output_type": "execute_result"
    }
   ],
   "source": [
    "len(titelliste)"
   ]
  },
  {
   "cell_type": "code",
   "execution_count": 35,
   "metadata": {},
   "outputs": [],
   "source": [
    "#Ziehen wir alle Kommentare raus\n",
    "kommentare = soup.find_all('div', {'class':'standard comments'})"
   ]
  },
  {
   "cell_type": "code",
   "execution_count": 36,
   "metadata": {},
   "outputs": [
    {
     "data": {
      "text/plain": [
       "63"
      ]
     },
     "execution_count": 36,
     "metadata": {},
     "output_type": "execute_result"
    }
   ],
   "source": [
    "len(kommentare)"
   ]
  },
  {
   "cell_type": "markdown",
   "metadata": {
    "collapsed": true
   },
   "source": [
    "Hier sehen wir, dass also nicht immer dieselbe Anzahl Kommentare und Artikel herausgelesen werden kann. Nicht jeder Artikel hat einen Kommentar. Wir müssen deshalb unseren Code anpassen."
   ]
  },
  {
   "cell_type": "code",
   "execution_count": 37,
   "metadata": {},
   "outputs": [],
   "source": [
    "storybox = soup.find_all('div', {'class':'text'})"
   ]
  },
  {
   "cell_type": "code",
   "execution_count": 38,
   "metadata": {},
   "outputs": [
    {
     "data": {
      "text/plain": [
       "90"
      ]
     },
     "execution_count": 38,
     "metadata": {},
     "output_type": "execute_result"
    }
   ],
   "source": [
    "len(storybox)"
   ]
  },
  {
   "cell_type": "code",
   "execution_count": 39,
   "metadata": {},
   "outputs": [
    {
     "data": {
      "text/plain": [
       "<div class=\"text\">\n",
       "    Wir verwenden Cookies und Analysetools, um die Nutzerfreundlichkeit der Internetseite zu verbessern und passende Werbung von watson und unseren Werbepartnern anzuzeigen.\n",
       "    Weitere Infos findest Du in unserer <a href=\"/u/agb\">Datenschutzerklärung</a>.\n",
       "    </div>"
      ]
     },
     "execution_count": 39,
     "metadata": {},
     "output_type": "execute_result"
    }
   ],
   "source": [
    "storybox[0]"
   ]
  },
  {
   "cell_type": "code",
   "execution_count": 40,
   "metadata": {},
   "outputs": [
    {
     "data": {
      "text/plain": [
       "<div class=\"text\">\n",
       "<h2><div>\n",
       "\n",
       "\t\t\t\t\tEinfach 27 Karikaturen, die der Queen gefallen hätten\t\t\t\t</div></h2>\n",
       "<!-- iconrow ==> -->\n",
       "<div class=\"iconrow\">\n",
       "<!-- media icons ==> -->\n",
       "<div class=\"media_icons\">\n",
       "<!-- comments ==> -->\n",
       "<div class=\"standard comments\"></div>\n",
       "<!-- <== comments -->\n",
       "</div>\n",
       "<!-- <== media icons -->\n",
       "</div>\n",
       "<!-- <== iconrow -->\n",
       "</div>"
      ]
     },
     "execution_count": 40,
     "metadata": {},
     "output_type": "execute_result"
    }
   ],
   "source": [
    "storybox[2]"
   ]
  },
  {
   "cell_type": "code",
   "execution_count": 41,
   "metadata": {},
   "outputs": [
    {
     "data": {
      "text/plain": [
       "'\\n\\n\\t\\t\\t\\t\\tEinfach 27 Karikaturen, die der Queen gefallen hätten\\t\\t\\t\\t'"
      ]
     },
     "execution_count": 41,
     "metadata": {},
     "output_type": "execute_result"
    }
   ],
   "source": [
    "storybox[2].find('h2').text  "
   ]
  },
  {
   "cell_type": "code",
   "execution_count": 42,
   "metadata": {},
   "outputs": [
    {
     "data": {
      "text/plain": [
       "<div class=\"standard comments\"></div>"
      ]
     },
     "execution_count": 42,
     "metadata": {},
     "output_type": "execute_result"
    }
   ],
   "source": [
    "#Diesen Fehler müssen wir auffangen, das tun wir am einfachsten mit try und except.\n",
    "storybox[2].find('div', {'class':'standard'})"
   ]
  },
  {
   "cell_type": "code",
   "execution_count": 43,
   "metadata": {},
   "outputs": [],
   "source": [
    "lst = []\n",
    "for elem in storybox:\n",
    "    try:\n",
    "        t = elem.find('h2').text\n",
    "    except:\n",
    "        t = \"N/A\" \n",
    "    \n",
    "    try:\n",
    "        \n",
    "        k = elem.find('div', {'class':'standard comments'}).text.replace(\"\\n\", \"\")\n",
    "    except:\n",
    "        k = \"N/A\"\n",
    "    \n",
    "    mini_dict = {'Titel': t,\n",
    "                 'Kommentar': k}\n",
    "    \n",
    "    lst.append(mini_dict)"
   ]
  },
  {
   "cell_type": "code",
   "execution_count": 44,
   "metadata": {},
   "outputs": [
    {
     "data": {
      "text/plain": [
       "[{'Titel': 'N/A', 'Kommentar': 'N/A'},\n",
       " {'Titel': '\\n\\n\\t\\t\\t\\t\\tAtommüll-Experte zum Tiefenlager-Entscheid: «Der Auswahlprozess ist kontaminiert»\\t\\t\\t\\t',\n",
       "  'Kommentar': 'N/A'},\n",
       " {'Titel': '\\n\\n\\t\\t\\t\\t\\tEinfach 27 Karikaturen, die der Queen gefallen hätten\\t\\t\\t\\t',\n",
       "  'Kommentar': ''},\n",
       " {'Titel': '\\n                                       Ukrainer rücken vor – im russischen TV macht sich langsam Panik breit                         ',\n",
       "  'Kommentar': 'N/A'},\n",
       " {'Titel': '\\n                \\n\\n                                    «Operation Putin»: Die Migros führt Tests mit der Beleuchtung durch                \\n            ',\n",
       "  'Kommentar': 'N/A'},\n",
       " {'Titel': '\\nLiveticker\\n\\n                                    Ukraine rückt gemäss Geheimdienst bis zu 50 Kilometer vor ++ Baerbock erneut in Kiew                \\n            ',\n",
       "  'Kommentar': 'N/A'},\n",
       " {'Titel': '\\n                \\n\\n                                    Ukraine erobert Orte in Charkiw zurück – das Nachtupdate ohne Bilder                \\n            ',\n",
       "  'Kommentar': 'N/A'},\n",
       " {'Titel': '\\n\\n                    Liveticker:                \\n                                       Charles III. offiziell zum König ernannt                        ',\n",
       "  'Kommentar': 'N/A'},\n",
       " {'Titel': '\\n                \\n\\n                                    Nach Tod der Queen: Kinder von Harry und Meghan bekommen royalen Titel                \\n            ',\n",
       "  'Kommentar': 'N/A'},\n",
       " {'Titel': '\\n                \\n\\n                                    Die letzten drei Tage der Queen                \\n            ',\n",
       "  'Kommentar': 'N/A'},\n",
       " {'Titel': '\\n                \\n\\n                                    Hier kommt die beste Anekdote zu Queen Elizabeth II.                \\n            ',\n",
       "  'Kommentar': 'N/A'},\n",
       " {'Titel': '\\n\\n\\t\\t\\t\\t\\tDie Queen im Zeitraffer\\t\\t\\t\\t', 'Kommentar': ''},\n",
       " {'Titel': '\\n\\n\\t\\t\\t\\t\\tDie Queen. Ist. Tot. Nachruf auf die grösste Legende unserer Zeit\\t\\t\\t\\t',\n",
       "  'Kommentar': ''},\n",
       " {'Titel': '\\n\\n\\t\\t\\t\\t\\tTierwohl vs. Billigfleisch: Eine Bäuerin bringt es in der «Arena» auf den Punkt\\t\\t\\t\\t',\n",
       "  'Kommentar': ''},\n",
       " {'Titel': '\\n\\n\\t\\t\\t\\t\\tDie Eismeister-Vorschau – Servette fast wie Gottéron in den Zeiten von Bykow und Chomutow\\t\\t\\t\\t',\n",
       "  'Kommentar': 'N/A'},\n",
       " {'Titel': '\\n\\n\\t\\t\\t\\t\\tNenne uns alle Bachelor und Bachelorette der Vergangenheit – hast du eine Rose verdient?\\t\\t\\t\\t',\n",
       "  'Kommentar': ''},\n",
       " {'Titel': '\\nSchweizer Designer gewinnt in Klums TV-Show eine Million Dollar\\n',\n",
       "  'Kommentar': ''},\n",
       " {'Titel': '\\nPolizei in Brasilien: Bolsonaro-Anhänger tötet Lula-Unterstützer\\n',\n",
       "  'Kommentar': ''},\n",
       " {'Titel': '\\nMit Wal kollidiert? Fünf Tote bei Bootsunglück in Neuseeland\\n',\n",
       "  'Kommentar': ''},\n",
       " {'Titel': '\\n\\n\\t\\t\\t\\t\\t10 Dinge, die du in der Destination Leukerbad erleben musst!\\t\\t\\t\\t',\n",
       "  'Kommentar': 'N/A'},\n",
       " {'Titel': '\\n\\n\\t\\t\\t\\t\\tAlcaraz gewinnt erneut in fünf Sätzen – und trifft im US-Open-Final auf Casper Ruud\\t\\t\\t\\t',\n",
       "  'Kommentar': 'N/A'},\n",
       " {'Titel': '\\n\\n\\t\\t\\t\\t\\tWenn Seliggesprochene nicht ganz so heilig sind\\t\\t\\t\\t',\n",
       "  'Kommentar': ''},\n",
       " {'Titel': '\\n\\n\\t\\t\\t\\t\\tDonald Trump hatte eine ganz schlechte Woche\\t\\t\\t\\t',\n",
       "  'Kommentar': ''},\n",
       " {'Titel': '\\n\\n\\t\\t\\t\\t\\tTodd Elik und Langnau – nichts als Fakten und doch ein böses Gerücht \\t\\t\\t\\t',\n",
       "  'Kommentar': ''},\n",
       " {'Titel': '\\n\\n\\t\\t\\t\\t\\tSahra Wagenknecht und die Putin-Propaganda: So irritiert sie bei Instagram\\t\\t\\t\\t',\n",
       "  'Kommentar': ''},\n",
       " {'Titel': '\\n\\n\\t\\t\\t\\t\\t«Hitler-Linde» bei München muss gefällt werden – weil sie jetzt schon morsch ist \\t\\t\\t\\t',\n",
       "  'Kommentar': ''},\n",
       " {'Titel': '\\n\\n\\t\\t\\t\\t\\tSo entgeht der SRG ein Geldsegen\\t\\t\\t\\t',\n",
       "  'Kommentar': ''},\n",
       " {'Titel': '\\n\\n\\t\\t\\t\\t\\tDie Queen war nur einmal hier, doch der King liebt die Schweiz\\t\\t\\t\\t',\n",
       "  'Kommentar': ''},\n",
       " {'Titel': '\\n\\n\\t\\t\\t\\t\\tLuxemburgerli vernaschen? Denkste! Die Nati kassiert eine ihrer bittersten Pleiten\\t\\t\\t\\t',\n",
       "  'Kommentar': ''},\n",
       " {'Titel': '\\n\\n\\t\\t\\t\\t\\tDiese Schweizer Seen hauen dich mit ihrer Farbe um\\t\\t\\t\\t',\n",
       "  'Kommentar': ''},\n",
       " {'Titel': '\\n\\n\\t\\t\\t\\t\\tThe real f*cking Deal!\\t\\t\\t\\t', 'Kommentar': ''},\n",
       " {'Titel': '\\nFribourg-Gottéron holt wichtige Punkte – Pflichtsieg für Davos\\n',\n",
       "  'Kommentar': ''},\n",
       " {'Titel': '\\nVerzicht auf Turniere in China – geschlossene Goldgrube für die WTA und das Frauentennis\\n',\n",
       "  'Kommentar': ''},\n",
       " {'Titel': '\\nVor genau 25 Jahren wurde google.com registriert – Zeit für einen (kritischen) Rückblick\\n',\n",
       "  'Kommentar': ''},\n",
       " {'Titel': '\\nWer sich im Herbst impfen lassen soll und was mit deinem Covid-Zertifikat passiert\\n',\n",
       "  'Kommentar': ''},\n",
       " {'Titel': '\\nIrre Abfindung: So viel zahlt Chelsea, um Thomas Tuchel loszuwerden\\n',\n",
       "  'Kommentar': ''},\n",
       " {'Titel': '\\nPolizeirapport Bleniotal: Einer der verletzten Jugendlichen ist verstorben\\n',\n",
       "  'Kommentar': ''},\n",
       " {'Titel': \"\\n\\n\\t\\t\\t\\t\\t«O'zapft is» – hier steigen die besten Oktoberfeste der Schweiz\\t\\t\\t\\t\",\n",
       "  'Kommentar': ''},\n",
       " {'Titel': '\\n\\n\\t\\t\\t\\t\\t10 Dinge, die du in der Destination Leukerbad erleben musst!\\t\\t\\t\\t',\n",
       "  'Kommentar': 'N/A'},\n",
       " {'Titel': '\\n\\n\\t\\t\\t\\t\\t«Im Westen nichts Neues» auf Netflix: Neuer Trailer des deutschen Oscar-Kandidaten\\t\\t\\t\\t',\n",
       "  'Kommentar': ''},\n",
       " {'Titel': 'Videos', 'Kommentar': 'N/A'},\n",
       " {'Titel': 'Bilder', 'Kommentar': 'N/A'},\n",
       " {'Titel': 'Best of watson', 'Kommentar': 'N/A'},\n",
       " {'Titel': '\\n\\n\\t\\t\\t\\t\\tDarf der König Schwäne essen? Der Quotenbrite beantwortet äusserst dringende …\\t\\t\\t\\t',\n",
       "  'Kommentar': ''},\n",
       " {'Titel': '\\n\\n\\t\\t\\t\\t\\t7 grosse Fragen des Lebens\\t\\t\\t\\t',\n",
       "  'Kommentar': ''},\n",
       " {'Titel': '\\n\\n\\t\\t\\t\\t\\tGenetiker lösen einen 800 Jahre alten «Cold Case» – das Massaker von Norwich\\t\\t\\t\\t',\n",
       "  'Kommentar': ''},\n",
       " {'Titel': '\\n\\n\\t\\t\\t\\t\\tEin Kracher zum Start – das sind die Favoriten und Überraschungskandidaten in der NFL\\t\\t\\t\\t',\n",
       "  'Kommentar': ''},\n",
       " {'Titel': '\\n\\n\\t\\t\\t\\t\\tWarum die Inflation diesmal wirklich anders ist\\t\\t\\t\\t',\n",
       "  'Kommentar': ''},\n",
       " {'Titel': '\\n\\n\\t\\t\\t\\t\\tKonflikt mit Besitzern wegen Ronaldo – das steckt hinter der Entlassung von Thomas Tuchel\\t\\t\\t\\t',\n",
       "  'Kommentar': ''},\n",
       " {'Titel': '\\n\\n\\t\\t\\t\\t\\tExperte zum ukrainischen Überraschungsangriff: «Es wäre eine entscheidende Wende»\\t\\t\\t\\t',\n",
       "  'Kommentar': ''},\n",
       " {'Titel': '\\n\\n\\t\\t\\t\\t\\tSchach-Skandal – 19-Jähriger schlägt Superstar Carlsen, hat aber vielleicht betrogen\\t\\t\\t\\t',\n",
       "  'Kommentar': ''},\n",
       " {'Titel': '\\n\\n\\t\\t\\t\\t\\tDie «Big 3» braucht es nicht mehr – dank Spielern wie Alcaraz und Sinner\\t\\t\\t\\t',\n",
       "  'Kommentar': ''},\n",
       " {'Titel': 'Schweiz', 'Kommentar': 'N/A'},\n",
       " {'Titel': '\\n\\n\\t\\t\\t\\t\\tDas Gras ist nicht gut genug: Cannabis-Verkauf in Basler Apotheken verzögert …\\t\\t\\t\\t',\n",
       "  'Kommentar': ''},\n",
       " {'Titel': '\\n\\n\\t\\t\\t\\t\\t17 Bilder aus einer Welt vor unserer Zeit: Die Schweiz, als Elizabeth Queen wurde\\t\\t\\t\\t',\n",
       "  'Kommentar': ''},\n",
       " {'Titel': '\\n\\n\\t\\t\\t\\t\\tAtommüll-Tiefenlager soll ins Grenzgebiet zwischen Zürich und dem Aargau kommen\\t\\t\\t\\t',\n",
       "  'Kommentar': ''},\n",
       " {'Titel': '\\n\\n\\t\\t\\t\\t\\tMann stürzt in Hospenthal UR durch Boden vier Meter in die Tiefe und stirbt\\t\\t\\t\\t',\n",
       "  'Kommentar': 'N/A'},\n",
       " {'Titel': '\\n\\n\\t\\t\\t\\t\\tEU und die Schweiz verzeichnen deutlich mehr Asylanträge in erster Jahreshälfte 2022\\t\\t\\t\\t',\n",
       "  'Kommentar': ''},\n",
       " {'Titel': '\\n\\n\\t\\t\\t\\t\\tZürcher Regierungsrat Mario Fehr tritt im Februar erneut zur Wahl an\\t\\t\\t\\t',\n",
       "  'Kommentar': ''},\n",
       " {'Titel': 'International', 'Kommentar': 'N/A'},\n",
       " {'Titel': '\\n\\n\\t\\t\\t\\t\\tDie Queen und die Corgis: Was wird nun aus ihren geliebten Hunden?\\t\\t\\t\\t',\n",
       "  'Kommentar': ''},\n",
       " {'Titel': '\\n\\n\\t\\t\\t\\t\\tBlinken ist skeptisch über die Atomverhandlungen mit dem Iran\\t\\t\\t\\t',\n",
       "  'Kommentar': ''},\n",
       " {'Titel': '\\n\\n\\t\\t\\t\\t\\tVom Après-Ski-Mekka zum Corona-Hotspot – nun droht Ischgl eine Sammelklage\\t\\t\\t\\t',\n",
       "  'Kommentar': ''},\n",
       " {'Titel': 'Sport', 'Kommentar': 'N/A'},\n",
       " {'Titel': '\\n\\n\\t\\t\\t\\t\\tDie Eismeister-Vorschau – das «System McSorley» oder etwas Grosses steht bevor\\t\\t\\t\\t',\n",
       "  'Kommentar': ''},\n",
       " {'Titel': '\\n\\n\\t\\t\\t\\t\\tAarau nach Sieg in Schaffhausen Leader ++ Werder mit Schwächen im eigenen Stadion\\t\\t\\t\\t',\n",
       "  'Kommentar': 'N/A'},\n",
       " {'Titel': '\\n\\n\\t\\t\\t\\t\\tEnglands bester Trainer – das steckt hinter dem Erfolg von Graham Potter\\t\\t\\t\\t',\n",
       "  'Kommentar': ''},\n",
       " {'Titel': '\\n\\n\\t\\t\\t\\t\\tWarum Ex-ZSC-Star Owen Nolan ein Treffen mit der Queen schwänzte\\t\\t\\t\\t',\n",
       "  'Kommentar': ''},\n",
       " {'Titel': '\\n\\n\\t\\t\\t\\t\\tAlcaraz, Ruud, Tiafoe oder Kachanov: Wer setzt sich in New York die Krone auf?\\t\\t\\t\\t',\n",
       "  'Kommentar': ''},\n",
       " {'Titel': '\\n\\n\\t\\t\\t\\t\\tFriedens-Choreo und Putin-Masken – das fiel in Europa und Conference League auf\\t\\t\\t\\t',\n",
       "  'Kommentar': ''},\n",
       " {'Titel': 'Leben', 'Kommentar': 'N/A'},\n",
       " {'Titel': '\\n\\n\\t\\t\\t\\t\\tWegen High Heels: Sido schiesst gegen Rapper – und erntet eine saftige …\\t\\t\\t\\t',\n",
       "  'Kommentar': ''},\n",
       " {'Titel': '\\n\\n\\t\\t\\t\\t\\tStress-Ich vs. Chiller-Ich – ein Streitgespräch mit mir selbst\\t\\t\\t\\t',\n",
       "  'Kommentar': ''},\n",
       " {'Titel': '\\n\\n\\t\\t\\t\\t\\tNicht nur Barack Obama – auch Zebras oder die Bahnhofstrasse gibt es als Fotorealismus\\t\\t\\t\\t',\n",
       "  'Kommentar': ''},\n",
       " {'Titel': 'Spass', 'Kommentar': 'N/A'},\n",
       " {'Titel': '\\n\\n\\t\\t\\t\\t\\tGlaub mir, diese 31 Tierbilder sind genau das, was du an einem Freitag brauchst\\t\\t\\t\\t',\n",
       "  'Kommentar': ''},\n",
       " {'Titel': '\\n\\n\\t\\t\\t\\t\\tSo spottet die Tochter von Steve Jobs über das iPhone 14 😅\\t\\t\\t\\t',\n",
       "  'Kommentar': ''},\n",
       " {'Titel': '\\n\\n\\t\\t\\t\\t\\tWeil wir nie genug von den Werken von Photoshop-Troll Fridman kriegen: Hier neuer Stoff\\t\\t\\t\\t',\n",
       "  'Kommentar': ''},\n",
       " {'Titel': 'Digital', 'Kommentar': 'N/A'},\n",
       " {'Titel': '\\n\\n\\t\\t\\t\\t\\tNeue Konkurrenz für Swisscom und Co.: Quickline weitet Angebot auf die gesamte …\\t\\t\\t\\t',\n",
       "  'Kommentar': ''},\n",
       " {'Titel': '\\n\\n\\t\\t\\t\\t\\tiPhone 14: Ein tolles Upgrade – aber auch ein teures\\t\\t\\t\\t',\n",
       "  'Kommentar': ''},\n",
       " {'Titel': '\\n\\n\\t\\t\\t\\t\\tApple lanciert Satelliten-Notrufdienst fürs iPhone – und das bieten die neuen AirPods Pro\\t\\t\\t\\t',\n",
       "  'Kommentar': ''},\n",
       " {'Titel': 'Wissen', 'Kommentar': 'N/A'},\n",
       " {'Titel': '\\n\\n\\t\\t\\t\\t\\tNasa hofft auf einen neuen Start der Mondmission bis Ende September\\t\\t\\t\\t',\n",
       "  'Kommentar': ''},\n",
       " {'Titel': '\\n\\n\\t\\t\\t\\t\\tStromfresser CERN bereitet Sparmassnahmen vor\\t\\t\\t\\t',\n",
       "  'Kommentar': ''},\n",
       " {'Titel': '\\n\\n\\t\\t\\t\\t\\tNach Covid-19 haben viele Gedächtnislücken – aber einige merken es gar nicht\\t\\t\\t\\t',\n",
       "  'Kommentar': ''},\n",
       " {'Titel': 'Blogs', 'Kommentar': 'N/A'},\n",
       " {'Titel': '\\n\\n\\t\\t\\t\\t\\tMein Sohn kümmert sich nicht um mich – kann ich ihn enterben?\\t\\t\\t\\t',\n",
       "  'Kommentar': ''},\n",
       " {'Titel': '\\n\\n\\t\\t\\t\\t\\tDamit hat die Schweizer Bevölkerung seit der Corona-Pandemie zu kämpfen\\t\\t\\t\\t',\n",
       "  'Kommentar': ''},\n",
       " {'Titel': '\\n\\n\\t\\t\\t\\t\\t«Wir sehen in diesem Jahr den Trend hin zu einem Plateau»\\t\\t\\t\\t',\n",
       "  'Kommentar': ''}]"
      ]
     },
     "execution_count": 44,
     "metadata": {},
     "output_type": "execute_result"
    }
   ],
   "source": [
    "lst"
   ]
  },
  {
   "cell_type": "code",
   "execution_count": 45,
   "metadata": {},
   "outputs": [
    {
     "data": {
      "text/html": [
       "<div>\n",
       "<style scoped>\n",
       "    .dataframe tbody tr th:only-of-type {\n",
       "        vertical-align: middle;\n",
       "    }\n",
       "\n",
       "    .dataframe tbody tr th {\n",
       "        vertical-align: top;\n",
       "    }\n",
       "\n",
       "    .dataframe thead th {\n",
       "        text-align: right;\n",
       "    }\n",
       "</style>\n",
       "<table border=\"1\" class=\"dataframe\">\n",
       "  <thead>\n",
       "    <tr style=\"text-align: right;\">\n",
       "      <th></th>\n",
       "      <th>Titel</th>\n",
       "      <th>Kommentar</th>\n",
       "    </tr>\n",
       "  </thead>\n",
       "  <tbody>\n",
       "    <tr>\n",
       "      <th>0</th>\n",
       "      <td>N/A</td>\n",
       "      <td>N/A</td>\n",
       "    </tr>\n",
       "    <tr>\n",
       "      <th>1</th>\n",
       "      <td>\\n\\n\\t\\t\\t\\t\\tAtommüll-Experte zum Tiefenlager...</td>\n",
       "      <td>N/A</td>\n",
       "    </tr>\n",
       "    <tr>\n",
       "      <th>2</th>\n",
       "      <td>\\n\\n\\t\\t\\t\\t\\tEinfach 27 Karikaturen, die der ...</td>\n",
       "      <td></td>\n",
       "    </tr>\n",
       "    <tr>\n",
       "      <th>3</th>\n",
       "      <td>\\n                                       Ukrai...</td>\n",
       "      <td>N/A</td>\n",
       "    </tr>\n",
       "    <tr>\n",
       "      <th>4</th>\n",
       "      <td>\\n                \\n\\n                        ...</td>\n",
       "      <td>N/A</td>\n",
       "    </tr>\n",
       "    <tr>\n",
       "      <th>...</th>\n",
       "      <td>...</td>\n",
       "      <td>...</td>\n",
       "    </tr>\n",
       "    <tr>\n",
       "      <th>85</th>\n",
       "      <td>\\n\\n\\t\\t\\t\\t\\tNach Covid-19 haben viele Gedäch...</td>\n",
       "      <td></td>\n",
       "    </tr>\n",
       "    <tr>\n",
       "      <th>86</th>\n",
       "      <td>Blogs</td>\n",
       "      <td>N/A</td>\n",
       "    </tr>\n",
       "    <tr>\n",
       "      <th>87</th>\n",
       "      <td>\\n\\n\\t\\t\\t\\t\\tMein Sohn kümmert sich nicht um ...</td>\n",
       "      <td></td>\n",
       "    </tr>\n",
       "    <tr>\n",
       "      <th>88</th>\n",
       "      <td>\\n\\n\\t\\t\\t\\t\\tDamit hat die Schweizer Bevölker...</td>\n",
       "      <td></td>\n",
       "    </tr>\n",
       "    <tr>\n",
       "      <th>89</th>\n",
       "      <td>\\n\\n\\t\\t\\t\\t\\t«Wir sehen in diesem Jahr den Tr...</td>\n",
       "      <td></td>\n",
       "    </tr>\n",
       "  </tbody>\n",
       "</table>\n",
       "<p>90 rows × 2 columns</p>\n",
       "</div>"
      ],
      "text/plain": [
       "                                                Titel Kommentar\n",
       "0                                                 N/A       N/A\n",
       "1   \\n\\n\\t\\t\\t\\t\\tAtommüll-Experte zum Tiefenlager...       N/A\n",
       "2   \\n\\n\\t\\t\\t\\t\\tEinfach 27 Karikaturen, die der ...          \n",
       "3   \\n                                       Ukrai...       N/A\n",
       "4   \\n                \\n\\n                        ...       N/A\n",
       "..                                                ...       ...\n",
       "85  \\n\\n\\t\\t\\t\\t\\tNach Covid-19 haben viele Gedäch...          \n",
       "86                                              Blogs       N/A\n",
       "87  \\n\\n\\t\\t\\t\\t\\tMein Sohn kümmert sich nicht um ...          \n",
       "88  \\n\\n\\t\\t\\t\\t\\tDamit hat die Schweizer Bevölker...          \n",
       "89  \\n\\n\\t\\t\\t\\t\\t«Wir sehen in diesem Jahr den Tr...          \n",
       "\n",
       "[90 rows x 2 columns]"
      ]
     },
     "execution_count": 45,
     "metadata": {},
     "output_type": "execute_result"
    }
   ],
   "source": [
    "pd.DataFrame(lst)"
   ]
  },
  {
   "cell_type": "markdown",
   "metadata": {},
   "source": [
    "# Als Übung: Mit Funktion dasselbe tun.\n",
    "Wenn man sehr ausführlichen Code entwickelt, ist es oft praktisch, mit Funktionen zu arbeiten. Hier ein Beispiel davon, wie das aussehen könnte."
   ]
  },
  {
   "cell_type": "code",
   "execution_count": 46,
   "metadata": {},
   "outputs": [],
   "source": [
    "def kommentarezählen(url):\n",
    "    \n",
    "    r = requests.get(url)\n",
    "    soup = BeautifulSoup(r.text,'xml')\n",
    "    storybox = soup.find_all('div', {'class':'text'})\n",
    "    \n",
    "    lst = []   \n",
    "    for elem in storybox:\n",
    "        try: #Hier kannn man mit Fehlern umgehen. Man muss allerdings spärlcih damit umgehen. \n",
    "            t = elem.find('h2').text\n",
    "        except:\n",
    "            t = 'Kein Titel'\n",
    "        try:\n",
    "            k = elem.find('div', {'class':'standard comments'}).text.replace(\"\\n\", \"\")\n",
    "        except:\n",
    "            k = 'Keine Kommentare'\n",
    "        mini_dict = {'Titel': t,\n",
    "                 'Kommentar': k}\n",
    "        lst.append(mini_dict)\n",
    "    \n",
    "    return pd.DataFrame(lst)"
   ]
  },
  {
   "cell_type": "code",
   "execution_count": 47,
   "metadata": {},
   "outputs": [
    {
     "data": {
      "text/html": [
       "<div>\n",
       "<style scoped>\n",
       "    .dataframe tbody tr th:only-of-type {\n",
       "        vertical-align: middle;\n",
       "    }\n",
       "\n",
       "    .dataframe tbody tr th {\n",
       "        vertical-align: top;\n",
       "    }\n",
       "\n",
       "    .dataframe thead th {\n",
       "        text-align: right;\n",
       "    }\n",
       "</style>\n",
       "<table border=\"1\" class=\"dataframe\">\n",
       "  <thead>\n",
       "    <tr style=\"text-align: right;\">\n",
       "      <th></th>\n",
       "      <th>Titel</th>\n",
       "      <th>Kommentar</th>\n",
       "    </tr>\n",
       "  </thead>\n",
       "  <tbody>\n",
       "    <tr>\n",
       "      <th>0</th>\n",
       "      <td>Kein Titel</td>\n",
       "      <td>Keine Kommentare</td>\n",
       "    </tr>\n",
       "    <tr>\n",
       "      <th>1</th>\n",
       "      <td>\\n\\n\\t\\t\\t\\t\\tAtommüll-Experte zum Tiefenlager...</td>\n",
       "      <td>Keine Kommentare</td>\n",
       "    </tr>\n",
       "    <tr>\n",
       "      <th>2</th>\n",
       "      <td>\\n\\n\\t\\t\\t\\t\\tEinfach 27 Karikaturen, die der ...</td>\n",
       "      <td></td>\n",
       "    </tr>\n",
       "    <tr>\n",
       "      <th>3</th>\n",
       "      <td>\\n                                       Ukrai...</td>\n",
       "      <td>Keine Kommentare</td>\n",
       "    </tr>\n",
       "    <tr>\n",
       "      <th>4</th>\n",
       "      <td>\\n                \\n\\n                        ...</td>\n",
       "      <td>Keine Kommentare</td>\n",
       "    </tr>\n",
       "    <tr>\n",
       "      <th>...</th>\n",
       "      <td>...</td>\n",
       "      <td>...</td>\n",
       "    </tr>\n",
       "    <tr>\n",
       "      <th>85</th>\n",
       "      <td>\\n\\n\\t\\t\\t\\t\\tNach Covid-19 haben viele Gedäch...</td>\n",
       "      <td></td>\n",
       "    </tr>\n",
       "    <tr>\n",
       "      <th>86</th>\n",
       "      <td>Blogs</td>\n",
       "      <td>Keine Kommentare</td>\n",
       "    </tr>\n",
       "    <tr>\n",
       "      <th>87</th>\n",
       "      <td>\\n\\n\\t\\t\\t\\t\\tMein Sohn kümmert sich nicht um ...</td>\n",
       "      <td></td>\n",
       "    </tr>\n",
       "    <tr>\n",
       "      <th>88</th>\n",
       "      <td>\\n\\n\\t\\t\\t\\t\\tDamit hat die Schweizer Bevölker...</td>\n",
       "      <td></td>\n",
       "    </tr>\n",
       "    <tr>\n",
       "      <th>89</th>\n",
       "      <td>\\n\\n\\t\\t\\t\\t\\t«Wir sehen in diesem Jahr den Tr...</td>\n",
       "      <td></td>\n",
       "    </tr>\n",
       "  </tbody>\n",
       "</table>\n",
       "<p>90 rows × 2 columns</p>\n",
       "</div>"
      ],
      "text/plain": [
       "                                                Titel         Kommentar\n",
       "0                                          Kein Titel  Keine Kommentare\n",
       "1   \\n\\n\\t\\t\\t\\t\\tAtommüll-Experte zum Tiefenlager...  Keine Kommentare\n",
       "2   \\n\\n\\t\\t\\t\\t\\tEinfach 27 Karikaturen, die der ...                  \n",
       "3   \\n                                       Ukrai...  Keine Kommentare\n",
       "4   \\n                \\n\\n                        ...  Keine Kommentare\n",
       "..                                                ...               ...\n",
       "85  \\n\\n\\t\\t\\t\\t\\tNach Covid-19 haben viele Gedäch...                  \n",
       "86                                              Blogs  Keine Kommentare\n",
       "87  \\n\\n\\t\\t\\t\\t\\tMein Sohn kümmert sich nicht um ...                  \n",
       "88  \\n\\n\\t\\t\\t\\t\\tDamit hat die Schweizer Bevölker...                  \n",
       "89  \\n\\n\\t\\t\\t\\t\\t«Wir sehen in diesem Jahr den Tr...                  \n",
       "\n",
       "[90 rows x 2 columns]"
      ]
     },
     "execution_count": 47,
     "metadata": {},
     "output_type": "execute_result"
    }
   ],
   "source": [
    "kommentarezählen('https://www.watson.ch/')"
   ]
  },
  {
   "cell_type": "markdown",
   "metadata": {},
   "source": [
    "Das können wir natürlich auf der Kommandozeile auslösen. Speichern wir unsere Skript und wandeln wir ihn um. (Wir müssen noch dafür sorgen, dass er mit einem Parameter ausgestattet werden kann. Aber auch das lässt sich einfach googeln)."
   ]
  },
  {
   "cell_type": "markdown",
   "metadata": {},
   "source": [
    "# Nun üben wir das ein wenig mit euren Websites"
   ]
  },
  {
   "cell_type": "code",
   "execution_count": null,
   "metadata": {},
   "outputs": [],
   "source": []
  }
 ],
 "metadata": {
  "kernelspec": {
   "display_name": "Python 3 (ipykernel)",
   "language": "python",
   "name": "python3"
  },
  "language_info": {
   "codemirror_mode": {
    "name": "ipython",
    "version": 3
   },
   "file_extension": ".py",
   "mimetype": "text/x-python",
   "name": "python",
   "nbconvert_exporter": "python",
   "pygments_lexer": "ipython3",
   "version": "3.9.7"
  }
 },
 "nbformat": 4,
 "nbformat_minor": 2
}
