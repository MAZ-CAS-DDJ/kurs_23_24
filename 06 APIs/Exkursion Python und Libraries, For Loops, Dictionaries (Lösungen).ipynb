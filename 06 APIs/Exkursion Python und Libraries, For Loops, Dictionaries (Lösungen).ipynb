{
 "cells": [
  {
   "cell_type": "markdown",
   "metadata": {},
   "source": [
    "**Python vs Python Module**"
   ]
  },
  {
   "cell_type": "markdown",
   "metadata": {},
   "source": [
    "[Beispiel Regular Expression](https://docs.python.org/3/library/re.html). Und weiter zur Dokumentation [auf Github](https://github.com/python/cpython/blob/3.10/Lib/re.py)."
   ]
  },
  {
   "cell_type": "markdown",
   "metadata": {},
   "source": [
    "**For Loops:: Übungen**"
   ]
  },
  {
   "cell_type": "markdown",
   "metadata": {},
   "source": [
    "Listen sind die gängigste Mittel, um einen For Loop zu bauen. Aber es dasselbe ist genauso mit Tuples oder Dictionaries möglich. Hier eine kleine Aufgabe: Drucke die Nummern, die folgende Vorrausetzungen erfüllen, mit Hilfe eines For Loops aus:"
   ]
  },
  {
   "cell_type": "code",
   "execution_count": null,
   "metadata": {},
   "outputs": [],
   "source": [
    "lst = list(range(100))"
   ]
  },
  {
   "cell_type": "markdown",
   "metadata": {},
   "source": [
    "1. Teilbar durch 5"
   ]
  },
  {
   "cell_type": "code",
   "execution_count": null,
   "metadata": {},
   "outputs": [],
   "source": [
    "for number in lst:\n",
    "    if number % 5 == 0:\n",
    "        print(number)"
   ]
  },
  {
   "cell_type": "markdown",
   "metadata": {},
   "source": [
    "2. Alle Nummern, die NICHT durch 3 teilbar sind"
   ]
  },
  {
   "cell_type": "code",
   "execution_count": null,
   "metadata": {},
   "outputs": [],
   "source": [
    "for number in lst:\n",
    "    if number % 3 != 0:\n",
    "        print(number)"
   ]
  },
  {
   "cell_type": "markdown",
   "metadata": {},
   "source": [
    "**Dictionaries**"
   ]
  },
  {
   "cell_type": "code",
   "execution_count": null,
   "metadata": {},
   "outputs": [],
   "source": [
    "LIST = [1,2,\"drei\"]\n",
    "DICTIONARY = {\"Animal\": \"Cat\", \"Size\": 50, \"Farbe\": \"Black\"}"
   ]
  },
  {
   "cell_type": "markdown",
   "metadata": {},
   "source": [
    "Vergleich Dictionary und Liste"
   ]
  },
  {
   "cell_type": "markdown",
   "metadata": {},
   "source": [
    "What they have in common\n",
    "\n",
    "- Both are mutable.\n",
    "- Both are dynamic. They can grow and shrink as needed.\n",
    "- Both can be nested. A list can contain another list. A dictionary can contain another dictionary. A dictionary can also contain a list, and vice versa.\n",
    "\n",
    "What they don't have in common\n",
    "\n",
    "- List elements are accessed by their position in the list, via indexing.\n",
    "- Dictionary elements are accessed via keys."
   ]
  },
  {
   "cell_type": "markdown",
   "metadata": {},
   "source": [
    "Kompliziert wird es, wenn Lists und Dictionaries nested sind:"
   ]
  },
  {
   "cell_type": "code",
   "execution_count": null,
   "metadata": {},
   "outputs": [],
   "source": [
    "LIST_NESTED = [1,2,\"drei\", [3, 4, \"fünf\", 5, 8, 10]]\n",
    "DICTIONARY = {\"Animal\": \"Cat\", \"Size\": 50, \"Farbe\": \"Black\", \"Namen\": [{\"Name\": \"Kitekat\"}, {\"Name\":\"Tomcat\"}]}"
   ]
  },
  {
   "cell_type": "markdown",
   "metadata": {},
   "source": [
    "Wie kannst Du direkt auf bestimmte Werte zugreifen in der Liste und im Dictionary"
   ]
  },
  {
   "cell_type": "markdown",
   "metadata": {},
   "source": [
    "Auf den Wert \"fünf\" in der Liste:"
   ]
  },
  {
   "cell_type": "code",
   "execution_count": null,
   "metadata": {},
   "outputs": [],
   "source": [
    "LIST_NESTED[-1][2]"
   ]
  },
  {
   "cell_type": "markdown",
   "metadata": {},
   "source": [
    "Auf den Wert \"Kitekat\" in der Liste:"
   ]
  },
  {
   "cell_type": "code",
   "execution_count": null,
   "metadata": {},
   "outputs": [],
   "source": [
    "DICTIONARY['Namen'][0]['Name']"
   ]
  },
  {
   "cell_type": "code",
   "execution_count": null,
   "metadata": {},
   "outputs": [],
   "source": []
  }
 ],
 "metadata": {
  "kernelspec": {
   "display_name": "Python 3 (ipykernel)",
   "language": "python",
   "name": "python3"
  },
  "language_info": {
   "codemirror_mode": {
    "name": "ipython",
    "version": 3
   },
   "file_extension": ".py",
   "mimetype": "text/x-python",
   "name": "python",
   "nbconvert_exporter": "python",
   "pygments_lexer": "ipython3",
   "version": "3.9.7"
  }
 },
 "nbformat": 4,
 "nbformat_minor": 2
}
