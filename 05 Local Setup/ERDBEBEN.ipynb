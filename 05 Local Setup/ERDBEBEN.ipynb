{
 "cells": [
  {
   "cell_type": "code",
   "execution_count": 3,
   "id": "dee4a68c",
   "metadata": {},
   "outputs": [],
   "source": [
    "import requests\n",
    "import pandas as pd\n",
    "from datetime import datetime\n",
    "\n",
    "# Fetch the data from the USGS API\n",
    "response = requests.get(\"https://earthquake.usgs.gov/fdsnws/event/1/query?format=geojson&orderby=magnitude&limit=5\")\n",
    "data = response.json()\n",
    "\n",
    "# Extract the relevant data\n",
    "earthquake_list = []\n",
    "\n",
    "for earthquake in data[\"features\"]:\n",
    "    magnitude = earthquake[\"properties\"][\"mag\"]\n",
    "    time_millis = earthquake[\"properties\"][\"time\"]\n",
    "    time_readable = datetime.utcfromtimestamp(time_millis/1000).strftime('%Y-%m-%d %H:%M:%S')\n",
    "    latitude = earthquake[\"geometry\"][\"coordinates\"][1]\n",
    "    longitude = earthquake[\"geometry\"][\"coordinates\"][0]\n",
    "    place = earthquake[\"properties\"][\"place\"]\n",
    "    \n",
    "    earthquake_list.append([magnitude, time_readable, latitude, longitude, place])\n",
    "\n",
    "# Convert the list to a pandas DataFrame\n",
    "df = pd.DataFrame(earthquake_list, columns=['Magnitude', 'Time', 'Latitude', 'Longitude', 'Place'])\n",
    "\n",
    "# Save the DataFrame to a CSV file\n",
    "df.to_csv(\"earthquakes.csv\", index=False)\n"
   ]
  },
  {
   "cell_type": "code",
   "execution_count": null,
   "id": "e2e7a3c9",
   "metadata": {},
   "outputs": [],
   "source": []
  }
 ],
 "metadata": {
  "kernelspec": {
   "display_name": "Python 3 (ipykernel)",
   "language": "python",
   "name": "python3"
  },
  "language_info": {
   "codemirror_mode": {
    "name": "ipython",
    "version": 3
   },
   "file_extension": ".py",
   "mimetype": "text/x-python",
   "name": "python",
   "nbconvert_exporter": "python",
   "pygments_lexer": "ipython3",
   "version": "3.8.17"
  }
 },
 "nbformat": 4,
 "nbformat_minor": 5
}
